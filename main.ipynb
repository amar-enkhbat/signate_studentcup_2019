{
 "cells": [
  {
   "cell_type": "code",
   "execution_count": 11,
   "metadata": {},
   "outputs": [],
   "source": [
    "import pandas as pd\n",
    "import numpy as np\n",
    "import matplotlib.pyplot as plt\n",
    "\n",
    "pd.set_option('display.max_columns', 200)\n",
    "pd.set_option('display.width', 1000)"
   ]
  },
  {
   "cell_type": "markdown",
   "metadata": {},
   "source": [
    "# Read data"
   ]
  },
  {
   "cell_type": "code",
   "execution_count": 12,
   "metadata": {},
   "outputs": [],
   "source": [
    "train = pd.read_csv(\"./data/train.csv\")\n",
    "test = pd.read_csv(\"./data/test.csv\")\n",
    "sample_submit = pd.read_csv(\"./data/sample_submit.csv\")"
   ]
  },
  {
   "cell_type": "code",
   "execution_count": 13,
   "metadata": {},
   "outputs": [
    {
     "data": {
      "text/html": [
       "<div>\n",
       "<style scoped>\n",
       "    .dataframe tbody tr th:only-of-type {\n",
       "        vertical-align: middle;\n",
       "    }\n",
       "\n",
       "    .dataframe tbody tr th {\n",
       "        vertical-align: top;\n",
       "    }\n",
       "\n",
       "    .dataframe thead th {\n",
       "        text-align: right;\n",
       "    }\n",
       "</style>\n",
       "<table border=\"1\" class=\"dataframe\">\n",
       "  <thead>\n",
       "    <tr style=\"text-align: right;\">\n",
       "      <th></th>\n",
       "      <th>id</th>\n",
       "      <th>賃料</th>\n",
       "      <th>所在地</th>\n",
       "      <th>アクセス</th>\n",
       "      <th>間取り</th>\n",
       "      <th>築年数</th>\n",
       "      <th>方角</th>\n",
       "      <th>面積</th>\n",
       "      <th>所在階</th>\n",
       "      <th>バス・トイレ</th>\n",
       "      <th>キッチン</th>\n",
       "      <th>放送・通信</th>\n",
       "      <th>室内設備</th>\n",
       "      <th>駐車場</th>\n",
       "      <th>周辺環境</th>\n",
       "      <th>建物構造</th>\n",
       "      <th>契約期間</th>\n",
       "    </tr>\n",
       "  </thead>\n",
       "  <tbody>\n",
       "    <tr>\n",
       "      <th>0</th>\n",
       "      <td>1</td>\n",
       "      <td>75000</td>\n",
       "      <td>東京都北区滝野川３丁目</td>\n",
       "      <td>都営三田線\\t西巣鴨駅\\t徒歩4分\\t\\t埼京線\\t板橋駅\\t徒歩14分\\t\\t都電荒川線\\...</td>\n",
       "      <td>1K</td>\n",
       "      <td>9年9ヶ月</td>\n",
       "      <td>南東</td>\n",
       "      <td>20.01m2</td>\n",
       "      <td>1階／12階建</td>\n",
       "      <td>専用バス／\\t専用トイレ／\\tバス・トイレ別／\\tシャワー／\\t浴室乾燥機\\t／\\t温水洗浄便座</td>\n",
       "      <td>ガスコンロ／\\tコンロ2口／\\tシステムキッチン\\t／\\t給湯</td>\n",
       "      <td>インターネット対応／\\tCATV／\\tCSアンテナ／\\tBSアンテナ</td>\n",
       "      <td>エアコン付\\tシューズボックス／\\tバルコニー／\\tフローリング／\\t室内洗濯機置場／\\t敷...</td>\n",
       "      <td>駐輪場\\t空有</td>\n",
       "      <td>【小学校】 495m\\t【大学】 461m\\t【小学校】 962m\\t【公園】 1103m\\...</td>\n",
       "      <td>RC（鉄筋コンクリート）</td>\n",
       "      <td>2年間</td>\n",
       "    </tr>\n",
       "    <tr>\n",
       "      <th>1</th>\n",
       "      <td>2</td>\n",
       "      <td>76000</td>\n",
       "      <td>東京都中央区月島３丁目</td>\n",
       "      <td>都営大江戸線\\t勝どき駅\\t徒歩5分\\t\\t有楽町線\\t月島駅\\t徒歩9分\\t\\t日比谷線\\...</td>\n",
       "      <td>1R</td>\n",
       "      <td>44年10ヶ月</td>\n",
       "      <td>NaN</td>\n",
       "      <td>16.5m2</td>\n",
       "      <td>5階／10階建</td>\n",
       "      <td>専用トイレ／\\tシャワー／\\t温水洗浄便座</td>\n",
       "      <td>ガスコンロ／\\tシステムキッチン\\t／\\t給湯</td>\n",
       "      <td>インターネット対応</td>\n",
       "      <td>エアコン付\\tシューズボックス／\\tバルコニー／\\tフローリング／\\t室内洗濯機置場／\\t敷...</td>\n",
       "      <td>駐輪場\\t空有\\t駐車場\\t無\\tバイク置き場\\t無</td>\n",
       "      <td>【スーパー】 1283m</td>\n",
       "      <td>鉄骨造</td>\n",
       "      <td>2年間</td>\n",
       "    </tr>\n",
       "    <tr>\n",
       "      <th>2</th>\n",
       "      <td>3</td>\n",
       "      <td>110000</td>\n",
       "      <td>東京都渋谷区笹塚２丁目</td>\n",
       "      <td>京王線\\t笹塚駅\\t徒歩6分\\t\\t京王線\\t代田橋駅\\t徒歩7分\\t\\t京王線\\t明大前駅...</td>\n",
       "      <td>1K</td>\n",
       "      <td>8年6ヶ月</td>\n",
       "      <td>南</td>\n",
       "      <td>22.05m2</td>\n",
       "      <td>12階／15階建</td>\n",
       "      <td>専用バス／\\t専用トイレ／\\tバス・トイレ別／\\tシャワー／\\t浴室乾燥機\\t／\\t温水洗浄...</td>\n",
       "      <td>ガスコンロ／\\tコンロ2口／\\tシステムキッチン\\t／\\t給湯</td>\n",
       "      <td>インターネット対応／\\t光ファイバー／\\tCSアンテナ／\\tBSアンテナ</td>\n",
       "      <td>エアコン付\\tウォークインクローゼット\\tシューズボックス／\\tバルコニー／\\tフローリング...</td>\n",
       "      <td>駐輪場\\t空有\\tバイク置き場\\t空有\\t駐車場\\t近隣\\t30,000円(税込)\\t距離100m</td>\n",
       "      <td>【スーパー】 89m\\t【コンビニ】 184m\\t【コンビニ】 392m\\t【スーパー】 492m</td>\n",
       "      <td>RC（鉄筋コンクリート）</td>\n",
       "      <td>2年間</td>\n",
       "    </tr>\n",
       "    <tr>\n",
       "      <th>3</th>\n",
       "      <td>4</td>\n",
       "      <td>150000</td>\n",
       "      <td>東京都杉並区高円寺南２丁目23-2</td>\n",
       "      <td>総武線・中央線（各停）\\t高円寺駅\\t徒歩9分\\t\\t丸ノ内線(池袋－荻窪)\\t新高円寺駅\\...</td>\n",
       "      <td>2LDK</td>\n",
       "      <td>29年4ヶ月</td>\n",
       "      <td>南</td>\n",
       "      <td>60.48m2</td>\n",
       "      <td>3階／4階建</td>\n",
       "      <td>専用バス／\\t専用トイレ／\\tバス・トイレ別／\\tシャワー／\\t温水洗浄便座／\\t洗面台独立</td>\n",
       "      <td>ガスコンロ／\\t給湯</td>\n",
       "      <td>インターネット対応／\\t光ファイバー</td>\n",
       "      <td>エアコン付\\tシューズボックス／\\tバルコニー／\\t2面採光／\\t室内洗濯機置場／\\tエレベ...</td>\n",
       "      <td>駐車場\\t無\\t駐輪場\\t無\\tバイク置き場\\t無</td>\n",
       "      <td>【スーパー】 225m\\t【スーパー】 448m\\t【スーパー】 619m\\t【スーパー】 ...</td>\n",
       "      <td>RC（鉄筋コンクリート）</td>\n",
       "      <td>2年間\\t※この物件は\\t定期借家\\tです。</td>\n",
       "    </tr>\n",
       "    <tr>\n",
       "      <th>4</th>\n",
       "      <td>5</td>\n",
       "      <td>74000</td>\n",
       "      <td>東京都葛飾区金町３丁目7-2</td>\n",
       "      <td>京成金町線\\t京成金町駅\\t徒歩5分\\t\\t常磐線\\t金町(東京都)駅\\t徒歩7分\\t\\t京...</td>\n",
       "      <td>2DK</td>\n",
       "      <td>31年7ヶ月</td>\n",
       "      <td>南</td>\n",
       "      <td>39.66m2</td>\n",
       "      <td>1階／2階建</td>\n",
       "      <td>専用バス／\\t専用トイレ／\\tバス・トイレ別／\\tシャワー／\\t追焚機能</td>\n",
       "      <td>給湯／\\t独立キッチン</td>\n",
       "      <td>NaN</td>\n",
       "      <td>バルコニー／\\tフローリング／\\t室内洗濯機置場\\t公営水道／\\t下水</td>\n",
       "      <td>駐車場\\t近隣\\t17,000円(税込)\\t距離300m\\t駐輪場\\t無\\tバイク置き場\\t無</td>\n",
       "      <td>【スーパー】 193m\\t【スーパー】 298m\\t【スーパー】 660m\\t【スーパー】 ...</td>\n",
       "      <td>木造</td>\n",
       "      <td>2年間</td>\n",
       "    </tr>\n",
       "  </tbody>\n",
       "</table>\n",
       "</div>"
      ],
      "text/plain": [
       "   id      賃料                所在地                                               アクセス   間取り      築年数   方角       面積       所在階                                             バス・トイレ                             キッチン                                 放送・通信                                               室内設備                                                駐車場                                               周辺環境          建物構造                    契約期間\n",
       "0   1   75000        東京都北区滝野川３丁目  都営三田線\\t西巣鴨駅\\t徒歩4分\\t\\t埼京線\\t板橋駅\\t徒歩14分\\t\\t都電荒川線\\...    1K    9年9ヶ月   南東  20.01m2   1階／12階建   専用バス／\\t専用トイレ／\\tバス・トイレ別／\\tシャワー／\\t浴室乾燥機\\t／\\t温水洗浄便座  ガスコンロ／\\tコンロ2口／\\tシステムキッチン\\t／\\t給湯    インターネット対応／\\tCATV／\\tCSアンテナ／\\tBSアンテナ  エアコン付\\tシューズボックス／\\tバルコニー／\\tフローリング／\\t室内洗濯機置場／\\t敷...                                            駐輪場\\t空有  【小学校】 495m\\t【大学】 461m\\t【小学校】 962m\\t【公園】 1103m\\...  RC（鉄筋コンクリート）                     2年間\n",
       "1   2   76000        東京都中央区月島３丁目  都営大江戸線\\t勝どき駅\\t徒歩5分\\t\\t有楽町線\\t月島駅\\t徒歩9分\\t\\t日比谷線\\...    1R  44年10ヶ月  NaN   16.5m2   5階／10階建                              専用トイレ／\\tシャワー／\\t温水洗浄便座          ガスコンロ／\\tシステムキッチン\\t／\\t給湯                             インターネット対応  エアコン付\\tシューズボックス／\\tバルコニー／\\tフローリング／\\t室内洗濯機置場／\\t敷...                         駐輪場\\t空有\\t駐車場\\t無\\tバイク置き場\\t無                                       【スーパー】 1283m           鉄骨造                     2年間\n",
       "2   3  110000        東京都渋谷区笹塚２丁目  京王線\\t笹塚駅\\t徒歩6分\\t\\t京王線\\t代田橋駅\\t徒歩7分\\t\\t京王線\\t明大前駅...    1K    8年6ヶ月    南  22.05m2  12階／15階建  専用バス／\\t専用トイレ／\\tバス・トイレ別／\\tシャワー／\\t浴室乾燥機\\t／\\t温水洗浄...  ガスコンロ／\\tコンロ2口／\\tシステムキッチン\\t／\\t給湯  インターネット対応／\\t光ファイバー／\\tCSアンテナ／\\tBSアンテナ  エアコン付\\tウォークインクローゼット\\tシューズボックス／\\tバルコニー／\\tフローリング...  駐輪場\\t空有\\tバイク置き場\\t空有\\t駐車場\\t近隣\\t30,000円(税込)\\t距離100m  【スーパー】 89m\\t【コンビニ】 184m\\t【コンビニ】 392m\\t【スーパー】 492m  RC（鉄筋コンクリート）                     2年間\n",
       "3   4  150000  東京都杉並区高円寺南２丁目23-2  総武線・中央線（各停）\\t高円寺駅\\t徒歩9分\\t\\t丸ノ内線(池袋－荻窪)\\t新高円寺駅\\...  2LDK   29年4ヶ月    南  60.48m2    3階／4階建     専用バス／\\t専用トイレ／\\tバス・トイレ別／\\tシャワー／\\t温水洗浄便座／\\t洗面台独立                       ガスコンロ／\\t給湯                    インターネット対応／\\t光ファイバー  エアコン付\\tシューズボックス／\\tバルコニー／\\t2面採光／\\t室内洗濯機置場／\\tエレベ...                          駐車場\\t無\\t駐輪場\\t無\\tバイク置き場\\t無  【スーパー】 225m\\t【スーパー】 448m\\t【スーパー】 619m\\t【スーパー】 ...  RC（鉄筋コンクリート）  2年間\\t※この物件は\\t定期借家\\tです。\n",
       "4   5   74000     東京都葛飾区金町３丁目7-2  京成金町線\\t京成金町駅\\t徒歩5分\\t\\t常磐線\\t金町(東京都)駅\\t徒歩7分\\t\\t京...   2DK   31年7ヶ月    南  39.66m2    1階／2階建               専用バス／\\t専用トイレ／\\tバス・トイレ別／\\tシャワー／\\t追焚機能                      給湯／\\t独立キッチン                                   NaN                バルコニー／\\tフローリング／\\t室内洗濯機置場\\t公営水道／\\t下水    駐車場\\t近隣\\t17,000円(税込)\\t距離300m\\t駐輪場\\t無\\tバイク置き場\\t無  【スーパー】 193m\\t【スーパー】 298m\\t【スーパー】 660m\\t【スーパー】 ...            木造                     2年間"
      ]
     },
     "execution_count": 13,
     "metadata": {},
     "output_type": "execute_result"
    }
   ],
   "source": [
    "train.head()"
   ]
  },
  {
   "cell_type": "code",
   "execution_count": 14,
   "metadata": {},
   "outputs": [
    {
     "data": {
      "text/html": [
       "<div>\n",
       "<style scoped>\n",
       "    .dataframe tbody tr th:only-of-type {\n",
       "        vertical-align: middle;\n",
       "    }\n",
       "\n",
       "    .dataframe tbody tr th {\n",
       "        vertical-align: top;\n",
       "    }\n",
       "\n",
       "    .dataframe thead th {\n",
       "        text-align: right;\n",
       "    }\n",
       "</style>\n",
       "<table border=\"1\" class=\"dataframe\">\n",
       "  <thead>\n",
       "    <tr style=\"text-align: right;\">\n",
       "      <th></th>\n",
       "      <th>id</th>\n",
       "      <th>所在地</th>\n",
       "      <th>アクセス</th>\n",
       "      <th>間取り</th>\n",
       "      <th>築年数</th>\n",
       "      <th>方角</th>\n",
       "      <th>面積</th>\n",
       "      <th>所在階</th>\n",
       "      <th>バス・トイレ</th>\n",
       "      <th>キッチン</th>\n",
       "      <th>放送・通信</th>\n",
       "      <th>室内設備</th>\n",
       "      <th>駐車場</th>\n",
       "      <th>周辺環境</th>\n",
       "      <th>建物構造</th>\n",
       "      <th>契約期間</th>\n",
       "    </tr>\n",
       "  </thead>\n",
       "  <tbody>\n",
       "    <tr>\n",
       "      <th>0</th>\n",
       "      <td>31471</td>\n",
       "      <td>東京都世田谷区深沢５丁目1-27</td>\n",
       "      <td>東急大井町線\\t等々力駅\\t徒歩15分\\t\\t東急田園都市線\\t桜新町駅\\t徒歩24分\\t\\...</td>\n",
       "      <td>2LDK</td>\n",
       "      <td>49年0ヶ月</td>\n",
       "      <td>南</td>\n",
       "      <td>50.22m2</td>\n",
       "      <td>8階／8階建</td>\n",
       "      <td>専用バス／\\t専用トイレ／\\tバス・トイレ別／\\tシャワー／\\t追焚機能／\\t温水洗浄便座／...</td>\n",
       "      <td>ガスコンロ／\\tコンロ3口／\\tシステムキッチン\\t／\\t給湯／\\tL字キッチン</td>\n",
       "      <td>インターネット対応</td>\n",
       "      <td>エアコン付\\tシューズボックス／\\tバルコニー／\\tフローリング／\\tエレベーター\\t公営水...</td>\n",
       "      <td>駐輪場\\t空有\\t駐車場\\t無\\tバイク置き場\\t無</td>\n",
       "      <td>【コンビニ】 74m\\t【スーパー】 215m\\t【病院】 313m\\t【小学校】 219m...</td>\n",
       "      <td>鉄骨造</td>\n",
       "      <td>NaN</td>\n",
       "    </tr>\n",
       "    <tr>\n",
       "      <th>1</th>\n",
       "      <td>31472</td>\n",
       "      <td>東京都目黒区八雲１丁目11-8</td>\n",
       "      <td>東急東横線\\t都立大学駅\\t徒歩6分\\t\\t東急東横線\\t自由が丘駅\\t徒歩17分\\t\\t東...</td>\n",
       "      <td>1R</td>\n",
       "      <td>0年2ヶ月</td>\n",
       "      <td>南東</td>\n",
       "      <td>20.88m2</td>\n",
       "      <td>3階／4階建</td>\n",
       "      <td>専用バス／\\t専用トイレ／\\tバス・トイレ別／\\tシャワー／\\t浴室乾燥機\\t／\\t温水洗浄...</td>\n",
       "      <td>ガスコンロ／\\tコンロ2口／\\tシステムキッチン\\t／\\t給湯</td>\n",
       "      <td>インターネット対応／\\tCSアンテナ／\\tBSアンテナ／\\tインターネット使用料無料</td>\n",
       "      <td>エアコン付\\tシューズボックス／\\tフローリング／\\t室内洗濯機置場\\t公営水道／\\t下水／...</td>\n",
       "      <td>駐車場\\t近隣\\t34,000円(税込)\\t距離200m\\t駐輪場\\t無\\tバイク置き場\\t無</td>\n",
       "      <td>【スーパー】 128m\\t【スーパー】 313m\\t【コンビニ】 374m\\t【コンビニ】 ...</td>\n",
       "      <td>RC（鉄筋コンクリート）</td>\n",
       "      <td>2年間</td>\n",
       "    </tr>\n",
       "    <tr>\n",
       "      <th>2</th>\n",
       "      <td>31473</td>\n",
       "      <td>東京都豊島区池袋本町２丁目22-2</td>\n",
       "      <td>東武東上線\\t北池袋駅\\t徒歩10分\\t\\t埼京線\\t板橋駅\\t徒歩16分\\t\\t山手線\\t...</td>\n",
       "      <td>1K</td>\n",
       "      <td>23年4ヶ月</td>\n",
       "      <td>南東</td>\n",
       "      <td>26.93m2</td>\n",
       "      <td>1階／4階建</td>\n",
       "      <td>専用バス／\\t専用トイレ／\\tバス・トイレ別／\\tシャワー／\\t温水洗浄便座</td>\n",
       "      <td>ガスコンロ／\\t給湯</td>\n",
       "      <td>インターネット対応／\\t光ファイバー／\\tCATV</td>\n",
       "      <td>エアコン付\\tシューズボックス／\\tバルコニー／\\tフローリング／\\t2面採光／\\t室内洗濯...</td>\n",
       "      <td>駐車場\\t空有\\t5,000円(税込)\\t(敷金あり\\t1ヶ月)\\t駐輪場\\t空有\\tバイク...</td>\n",
       "      <td>【スーパー】 529m\\t【スーパー】 810m\\t【コンビニ】 316m\\t【コンビニ】 ...</td>\n",
       "      <td>鉄骨造</td>\n",
       "      <td>2年間</td>\n",
       "    </tr>\n",
       "    <tr>\n",
       "      <th>3</th>\n",
       "      <td>31474</td>\n",
       "      <td>東京都杉並区和泉１丁目</td>\n",
       "      <td>丸ノ内線(中野坂上－方南町)\\t方南町駅\\t徒歩10分\\t\\t京王線\\t代田橋駅\\t徒歩8分...</td>\n",
       "      <td>1K</td>\n",
       "      <td>36年2ヶ月</td>\n",
       "      <td>南東</td>\n",
       "      <td>23.57m2</td>\n",
       "      <td>1階／2階建</td>\n",
       "      <td>シャワー</td>\n",
       "      <td>ガスコンロ／\\t給湯</td>\n",
       "      <td>NaN</td>\n",
       "      <td>エアコン付\\tシューズボックス／\\t2面採光／\\t室外洗濯機置場\\t公営水道／\\t下水／\\t...</td>\n",
       "      <td>駐輪場\\t空有\\t0円</td>\n",
       "      <td>【スーパー】 286m\\t【スーパー】 702m\\t【コンビニ】 489m\\t【コンビニ】 ...</td>\n",
       "      <td>木造</td>\n",
       "      <td>2年間</td>\n",
       "    </tr>\n",
       "    <tr>\n",
       "      <th>4</th>\n",
       "      <td>31475</td>\n",
       "      <td>東京都杉並区堀ノ内２丁目</td>\n",
       "      <td>丸ノ内線(中野坂上－方南町)\\t方南町駅\\t徒歩12分\\t\\t丸ノ内線(池袋－荻窪)\\t新高...</td>\n",
       "      <td>2LDK</td>\n",
       "      <td>45年4ヶ月</td>\n",
       "      <td>南</td>\n",
       "      <td>50m2</td>\n",
       "      <td>4階／4階建</td>\n",
       "      <td>専用バス／\\t専用トイレ／\\tバス・トイレ別</td>\n",
       "      <td>コンロ設置可（口数不明）／\\t給湯</td>\n",
       "      <td>インターネット対応</td>\n",
       "      <td>冷房／\\tエアコン付\\tシューズボックス／\\tバルコニー／\\tフローリング／\\t室内洗濯機置...</td>\n",
       "      <td>駐車場\\t近隣\\t22,600円\\t距離177m</td>\n",
       "      <td>【コンビニ】 312m\\t【コンビニ】 436m\\t【スーパー】 902m\\t【コンビニ】 ...</td>\n",
       "      <td>RC（鉄筋コンクリート）</td>\n",
       "      <td>2年間</td>\n",
       "    </tr>\n",
       "  </tbody>\n",
       "</table>\n",
       "</div>"
      ],
      "text/plain": [
       "      id                所在地                                               アクセス   間取り     築年数  方角       面積     所在階                                             バス・トイレ                                      キッチン                                       放送・通信                                               室内設備                                                駐車場                                               周辺環境          建物構造 契約期間\n",
       "0  31471   東京都世田谷区深沢５丁目1-27  東急大井町線\\t等々力駅\\t徒歩15分\\t\\t東急田園都市線\\t桜新町駅\\t徒歩24分\\t\\...  2LDK  49年0ヶ月   南  50.22m2  8階／8階建  専用バス／\\t専用トイレ／\\tバス・トイレ別／\\tシャワー／\\t追焚機能／\\t温水洗浄便座／...  ガスコンロ／\\tコンロ3口／\\tシステムキッチン\\t／\\t給湯／\\tL字キッチン                                   インターネット対応  エアコン付\\tシューズボックス／\\tバルコニー／\\tフローリング／\\tエレベーター\\t公営水...                         駐輪場\\t空有\\t駐車場\\t無\\tバイク置き場\\t無  【コンビニ】 74m\\t【スーパー】 215m\\t【病院】 313m\\t【小学校】 219m...           鉄骨造  NaN\n",
       "1  31472    東京都目黒区八雲１丁目11-8  東急東横線\\t都立大学駅\\t徒歩6分\\t\\t東急東横線\\t自由が丘駅\\t徒歩17分\\t\\t東...    1R   0年2ヶ月  南東  20.88m2  3階／4階建  専用バス／\\t専用トイレ／\\tバス・トイレ別／\\tシャワー／\\t浴室乾燥機\\t／\\t温水洗浄...           ガスコンロ／\\tコンロ2口／\\tシステムキッチン\\t／\\t給湯  インターネット対応／\\tCSアンテナ／\\tBSアンテナ／\\tインターネット使用料無料  エアコン付\\tシューズボックス／\\tフローリング／\\t室内洗濯機置場\\t公営水道／\\t下水／...    駐車場\\t近隣\\t34,000円(税込)\\t距離200m\\t駐輪場\\t無\\tバイク置き場\\t無  【スーパー】 128m\\t【スーパー】 313m\\t【コンビニ】 374m\\t【コンビニ】 ...  RC（鉄筋コンクリート）  2年間\n",
       "2  31473  東京都豊島区池袋本町２丁目22-2  東武東上線\\t北池袋駅\\t徒歩10分\\t\\t埼京線\\t板橋駅\\t徒歩16分\\t\\t山手線\\t...    1K  23年4ヶ月  南東  26.93m2  1階／4階建             専用バス／\\t専用トイレ／\\tバス・トイレ別／\\tシャワー／\\t温水洗浄便座                                ガスコンロ／\\t給湯                   インターネット対応／\\t光ファイバー／\\tCATV  エアコン付\\tシューズボックス／\\tバルコニー／\\tフローリング／\\t2面採光／\\t室内洗濯...  駐車場\\t空有\\t5,000円(税込)\\t(敷金あり\\t1ヶ月)\\t駐輪場\\t空有\\tバイク...  【スーパー】 529m\\t【スーパー】 810m\\t【コンビニ】 316m\\t【コンビニ】 ...           鉄骨造  2年間\n",
       "3  31474        東京都杉並区和泉１丁目  丸ノ内線(中野坂上－方南町)\\t方南町駅\\t徒歩10分\\t\\t京王線\\t代田橋駅\\t徒歩8分...    1K  36年2ヶ月  南東  23.57m2  1階／2階建                                               シャワー                                ガスコンロ／\\t給湯                                         NaN  エアコン付\\tシューズボックス／\\t2面採光／\\t室外洗濯機置場\\t公営水道／\\t下水／\\t...                                        駐輪場\\t空有\\t0円  【スーパー】 286m\\t【スーパー】 702m\\t【コンビニ】 489m\\t【コンビニ】 ...            木造  2年間\n",
       "4  31475       東京都杉並区堀ノ内２丁目  丸ノ内線(中野坂上－方南町)\\t方南町駅\\t徒歩12分\\t\\t丸ノ内線(池袋－荻窪)\\t新高...  2LDK  45年4ヶ月   南     50m2  4階／4階建                             専用バス／\\t専用トイレ／\\tバス・トイレ別                         コンロ設置可（口数不明）／\\t給湯                                   インターネット対応  冷房／\\tエアコン付\\tシューズボックス／\\tバルコニー／\\tフローリング／\\t室内洗濯機置...                           駐車場\\t近隣\\t22,600円\\t距離177m  【コンビニ】 312m\\t【コンビニ】 436m\\t【スーパー】 902m\\t【コンビニ】 ...  RC（鉄筋コンクリート）  2年間"
      ]
     },
     "execution_count": 14,
     "metadata": {},
     "output_type": "execute_result"
    }
   ],
   "source": [
    "test.head()"
   ]
  },
  {
   "cell_type": "markdown",
   "metadata": {},
   "source": [
    "# Data shape"
   ]
  },
  {
   "cell_type": "code",
   "execution_count": 15,
   "metadata": {},
   "outputs": [
    {
     "name": "stdout",
     "output_type": "stream",
     "text": [
      "Training data: (31470, 17)\n",
      "Test data: (31262, 16)\n"
     ]
    }
   ],
   "source": [
    "print(\"Training data:\", train.shape)\n",
    "print(\"Test data:\", test.shape)"
   ]
  },
  {
   "cell_type": "markdown",
   "metadata": {},
   "source": [
    "# EDA"
   ]
  },
  {
   "cell_type": "markdown",
   "metadata": {},
   "source": [
    "## Target 賃料"
   ]
  },
  {
   "cell_type": "code",
   "execution_count": 16,
   "metadata": {},
   "outputs": [
    {
     "data": {
      "image/png": "[encoded data removed]",
      "text/plain": [
       "<Figure size 432x288 with 1 Axes>"
      ]
     },
     "metadata": {
      "needs_background": "light"
     },
     "output_type": "display_data"
    }
   ],
   "source": [
    "train[\"賃料\"].astype(int).hist();"
   ]
  },
  {
   "cell_type": "markdown",
   "metadata": {},
   "source": [
    "## Examine Missing Values"
   ]
  },
  {
   "cell_type": "code",
   "execution_count": 17,
   "metadata": {},
   "outputs": [
    {
     "data": {
      "text/plain": [
       "(16276, 17)"
      ]
     },
     "execution_count": 17,
     "metadata": {},
     "output_type": "execute_result"
    }
   ],
   "source": [
    "train_nans = train[train.isnull().any(axis=1)]\n",
    "train_nans.shape"
   ]
  },
  {
   "cell_type": "code",
   "execution_count": 18,
   "metadata": {},
   "outputs": [
    {
     "data": {
      "text/plain": [
       "(16144, 16)"
      ]
     },
     "execution_count": 18,
     "metadata": {},
     "output_type": "execute_result"
    }
   ],
   "source": [
    "test_nans = test[test.isnull().any(axis=1)]\n",
    "test_nans.shape"
   ]
  },
  {
   "cell_type": "code",
   "execution_count": 19,
   "metadata": {},
   "outputs": [],
   "source": [
    "# Function to calculate missing values by column# Funct \n",
    "def missing_values_table(df):\n",
    "        # Total missing values\n",
    "        mis_val = df.isnull().sum()\n",
    "        \n",
    "        # Percentage of missing values\n",
    "        mis_val_percent = 100 * df.isnull().sum() / len(df)\n",
    "        \n",
    "        # Make a table with the results\n",
    "        mis_val_table = pd.concat([mis_val, mis_val_percent], axis=1)\n",
    "        \n",
    "        # Rename the columns\n",
    "        mis_val_table_ren_columns = mis_val_table.rename(\n",
    "        columns = {0 : 'Missing Values', 1 : '% of Total Values'})\n",
    "        \n",
    "        # Sort the table by percentage of missing descending\n",
    "        mis_val_table_ren_columns = mis_val_table_ren_columns[\n",
    "            mis_val_table_ren_columns.iloc[:,1] != 0].sort_values(\n",
    "        '% of Total Values', ascending=False).round(1)\n",
    "        \n",
    "        # Print some summary information\n",
    "        print (\"Your selected dataframe has \" + str(df.shape[1]) + \" columns.\\n\"      \n",
    "            \"There are \" + str(mis_val_table_ren_columns.shape[0]) +\n",
    "              \" columns that have missing values.\")\n",
    "        \n",
    "        # Return the dataframe with missing information\n",
    "        return mis_val_table_ren_columns"
   ]
  },
  {
   "cell_type": "code",
   "execution_count": 20,
   "metadata": {},
   "outputs": [
    {
     "name": "stdout",
     "output_type": "stream",
     "text": [
      "Your selected dataframe has 17 columns.\n",
      "There are 8 columns that have missing values.\n"
     ]
    },
    {
     "data": {
      "text/html": [
       "<div>\n",
       "<style scoped>\n",
       "    .dataframe tbody tr th:only-of-type {\n",
       "        vertical-align: middle;\n",
       "    }\n",
       "\n",
       "    .dataframe tbody tr th {\n",
       "        vertical-align: top;\n",
       "    }\n",
       "\n",
       "    .dataframe thead th {\n",
       "        text-align: right;\n",
       "    }\n",
       "</style>\n",
       "<table border=\"1\" class=\"dataframe\">\n",
       "  <thead>\n",
       "    <tr style=\"text-align: right;\">\n",
       "      <th></th>\n",
       "      <th>Missing Values</th>\n",
       "      <th>% of Total Values</th>\n",
       "    </tr>\n",
       "  </thead>\n",
       "  <tbody>\n",
       "    <tr>\n",
       "      <th>周辺環境</th>\n",
       "      <td>9432</td>\n",
       "      <td>30.0</td>\n",
       "    </tr>\n",
       "    <tr>\n",
       "      <th>契約期間</th>\n",
       "      <td>7120</td>\n",
       "      <td>22.6</td>\n",
       "    </tr>\n",
       "    <tr>\n",
       "      <th>駐車場</th>\n",
       "      <td>5287</td>\n",
       "      <td>16.8</td>\n",
       "    </tr>\n",
       "    <tr>\n",
       "      <th>放送・通信</th>\n",
       "      <td>3440</td>\n",
       "      <td>10.9</td>\n",
       "    </tr>\n",
       "    <tr>\n",
       "      <th>方角</th>\n",
       "      <td>2749</td>\n",
       "      <td>8.7</td>\n",
       "    </tr>\n",
       "    <tr>\n",
       "      <th>キッチン</th>\n",
       "      <td>621</td>\n",
       "      <td>2.0</td>\n",
       "    </tr>\n",
       "    <tr>\n",
       "      <th>バス・トイレ</th>\n",
       "      <td>329</td>\n",
       "      <td>1.0</td>\n",
       "    </tr>\n",
       "    <tr>\n",
       "      <th>室内設備</th>\n",
       "      <td>82</td>\n",
       "      <td>0.3</td>\n",
       "    </tr>\n",
       "  </tbody>\n",
       "</table>\n",
       "</div>"
      ],
      "text/plain": [
       "        Missing Values  % of Total Values\n",
       "周辺環境              9432               30.0\n",
       "契約期間              7120               22.6\n",
       "駐車場               5287               16.8\n",
       "放送・通信             3440               10.9\n",
       "方角                2749                8.7\n",
       "キッチン               621                2.0\n",
       "バス・トイレ             329                1.0\n",
       "室内設備                82                0.3"
      ]
     },
     "execution_count": 20,
     "metadata": {},
     "output_type": "execute_result"
    }
   ],
   "source": [
    "missing_values = missing_values_table(train)\n",
    "missing_values"
   ]
  },
  {
   "cell_type": "markdown",
   "metadata": {},
   "source": [
    "## Column Types"
   ]
  },
  {
   "cell_type": "code",
   "execution_count": 21,
   "metadata": {},
   "outputs": [
    {
     "data": {
      "text/plain": [
       "id         int64\n",
       "賃料         int64\n",
       "所在地       object\n",
       "アクセス      object\n",
       "間取り       object\n",
       "築年数       object\n",
       "方角        object\n",
       "面積        object\n",
       "所在階       object\n",
       "バス・トイレ    object\n",
       "キッチン      object\n",
       "放送・通信     object\n",
       "室内設備      object\n",
       "駐車場       object\n",
       "周辺環境      object\n",
       "建物構造      object\n",
       "契約期間      object\n",
       "dtype: object"
      ]
     },
     "execution_count": 21,
     "metadata": {},
     "output_type": "execute_result"
    }
   ],
   "source": [
    "train.dtypes"
   ]
  },
  {
   "cell_type": "code",
   "execution_count": 22,
   "metadata": {},
   "outputs": [
    {
     "data": {
      "text/plain": [
       "object    15\n",
       "int64      2\n",
       "dtype: int64"
      ]
     },
     "execution_count": 22,
     "metadata": {},
     "output_type": "execute_result"
    }
   ],
   "source": [
    "train.dtypes.value_counts()"
   ]
  },
  {
   "cell_type": "code",
   "execution_count": 23,
   "metadata": {},
   "outputs": [
    {
     "data": {
      "text/plain": [
       "所在地       11333\n",
       "アクセス      24172\n",
       "間取り          30\n",
       "築年数         746\n",
       "方角            8\n",
       "面積         5739\n",
       "所在階        1032\n",
       "バス・トイレ      360\n",
       "キッチン        381\n",
       "放送・通信       139\n",
       "室内設備       6220\n",
       "駐車場        3911\n",
       "周辺環境      17864\n",
       "建物構造         10\n",
       "契約期間         66\n",
       "dtype: int64"
      ]
     },
     "execution_count": 23,
     "metadata": {},
     "output_type": "execute_result"
    }
   ],
   "source": [
    "train.select_dtypes(\"object\").apply(pd.Series.nunique, axis=0)"
   ]
  },
  {
   "cell_type": "markdown",
   "metadata": {},
   "source": [
    "There are shit ton of categorical values shoved inside every column."
   ]
  },
  {
   "cell_type": "markdown",
   "metadata": {},
   "source": [
    "# Concatenate train and test"
   ]
  },
  {
   "cell_type": "code",
   "execution_count": 24,
   "metadata": {},
   "outputs": [
    {
     "data": {
      "text/plain": [
       "(62732, 15)"
      ]
     },
     "execution_count": 24,
     "metadata": {},
     "output_type": "execute_result"
    }
   ],
   "source": [
    "target = train[\"賃料\"]\n",
    "total_data = pd.concat([train.drop(columns=\"賃料\"), test], ignore_index=True)\n",
    "total_id = total_data[\"id\"]\n",
    "total_data = total_data.drop(columns=\"id\")\n",
    "total_data.shape"
   ]
  },
  {
   "cell_type": "code",
   "execution_count": 25,
   "metadata": {},
   "outputs": [
    {
     "data": {
      "text/plain": [
       "Index(['所在地', 'アクセス', '間取り', '築年数', '方角', '面積', '所在階', 'バス・トイレ', 'キッチン', '放送・通信', '室内設備', '駐車場', '周辺環境', '建物構造', '契約期間'], dtype='object')"
      ]
     },
     "execution_count": 25,
     "metadata": {},
     "output_type": "execute_result"
    }
   ],
   "source": [
    "total_data.columns"
   ]
  },
  {
   "cell_type": "code",
   "execution_count": 26,
   "metadata": {},
   "outputs": [
    {
     "data": {
      "text/html": [
       "<div>\n",
       "<style scoped>\n",
       "    .dataframe tbody tr th:only-of-type {\n",
       "        vertical-align: middle;\n",
       "    }\n",
       "\n",
       "    .dataframe tbody tr th {\n",
       "        vertical-align: top;\n",
       "    }\n",
       "\n",
       "    .dataframe thead th {\n",
       "        text-align: right;\n",
       "    }\n",
       "</style>\n",
       "<table border=\"1\" class=\"dataframe\">\n",
       "  <thead>\n",
       "    <tr style=\"text-align: right;\">\n",
       "      <th></th>\n",
       "      <th>所在地</th>\n",
       "      <th>アクセス</th>\n",
       "      <th>間取り</th>\n",
       "      <th>築年数</th>\n",
       "      <th>方角</th>\n",
       "      <th>面積</th>\n",
       "      <th>所在階</th>\n",
       "      <th>バス・トイレ</th>\n",
       "      <th>キッチン</th>\n",
       "      <th>放送・通信</th>\n",
       "      <th>室内設備</th>\n",
       "      <th>駐車場</th>\n",
       "      <th>周辺環境</th>\n",
       "      <th>建物構造</th>\n",
       "      <th>契約期間</th>\n",
       "    </tr>\n",
       "  </thead>\n",
       "  <tbody>\n",
       "    <tr>\n",
       "      <th>0</th>\n",
       "      <td>東京都北区滝野川３丁目</td>\n",
       "      <td>都営三田線\\t西巣鴨駅\\t徒歩4分\\t\\t埼京線\\t板橋駅\\t徒歩14分\\t\\t都電荒川線\\...</td>\n",
       "      <td>1K</td>\n",
       "      <td>9年9ヶ月</td>\n",
       "      <td>南東</td>\n",
       "      <td>20.01m2</td>\n",
       "      <td>1階／12階建</td>\n",
       "      <td>専用バス／\\t専用トイレ／\\tバス・トイレ別／\\tシャワー／\\t浴室乾燥機\\t／\\t温水洗浄便座</td>\n",
       "      <td>ガスコンロ／\\tコンロ2口／\\tシステムキッチン\\t／\\t給湯</td>\n",
       "      <td>インターネット対応／\\tCATV／\\tCSアンテナ／\\tBSアンテナ</td>\n",
       "      <td>エアコン付\\tシューズボックス／\\tバルコニー／\\tフローリング／\\t室内洗濯機置場／\\t敷...</td>\n",
       "      <td>駐輪場\\t空有</td>\n",
       "      <td>【小学校】 495m\\t【大学】 461m\\t【小学校】 962m\\t【公園】 1103m\\...</td>\n",
       "      <td>RC（鉄筋コンクリート）</td>\n",
       "      <td>2年間</td>\n",
       "    </tr>\n",
       "    <tr>\n",
       "      <th>1</th>\n",
       "      <td>東京都中央区月島３丁目</td>\n",
       "      <td>都営大江戸線\\t勝どき駅\\t徒歩5分\\t\\t有楽町線\\t月島駅\\t徒歩9分\\t\\t日比谷線\\...</td>\n",
       "      <td>1R</td>\n",
       "      <td>44年10ヶ月</td>\n",
       "      <td>NaN</td>\n",
       "      <td>16.5m2</td>\n",
       "      <td>5階／10階建</td>\n",
       "      <td>専用トイレ／\\tシャワー／\\t温水洗浄便座</td>\n",
       "      <td>ガスコンロ／\\tシステムキッチン\\t／\\t給湯</td>\n",
       "      <td>インターネット対応</td>\n",
       "      <td>エアコン付\\tシューズボックス／\\tバルコニー／\\tフローリング／\\t室内洗濯機置場／\\t敷...</td>\n",
       "      <td>駐輪場\\t空有\\t駐車場\\t無\\tバイク置き場\\t無</td>\n",
       "      <td>【スーパー】 1283m</td>\n",
       "      <td>鉄骨造</td>\n",
       "      <td>2年間</td>\n",
       "    </tr>\n",
       "    <tr>\n",
       "      <th>2</th>\n",
       "      <td>東京都渋谷区笹塚２丁目</td>\n",
       "      <td>京王線\\t笹塚駅\\t徒歩6分\\t\\t京王線\\t代田橋駅\\t徒歩7分\\t\\t京王線\\t明大前駅...</td>\n",
       "      <td>1K</td>\n",
       "      <td>8年6ヶ月</td>\n",
       "      <td>南</td>\n",
       "      <td>22.05m2</td>\n",
       "      <td>12階／15階建</td>\n",
       "      <td>専用バス／\\t専用トイレ／\\tバス・トイレ別／\\tシャワー／\\t浴室乾燥機\\t／\\t温水洗浄...</td>\n",
       "      <td>ガスコンロ／\\tコンロ2口／\\tシステムキッチン\\t／\\t給湯</td>\n",
       "      <td>インターネット対応／\\t光ファイバー／\\tCSアンテナ／\\tBSアンテナ</td>\n",
       "      <td>エアコン付\\tウォークインクローゼット\\tシューズボックス／\\tバルコニー／\\tフローリング...</td>\n",
       "      <td>駐輪場\\t空有\\tバイク置き場\\t空有\\t駐車場\\t近隣\\t30,000円(税込)\\t距離100m</td>\n",
       "      <td>【スーパー】 89m\\t【コンビニ】 184m\\t【コンビニ】 392m\\t【スーパー】 492m</td>\n",
       "      <td>RC（鉄筋コンクリート）</td>\n",
       "      <td>2年間</td>\n",
       "    </tr>\n",
       "    <tr>\n",
       "      <th>3</th>\n",
       "      <td>東京都杉並区高円寺南２丁目23-2</td>\n",
       "      <td>総武線・中央線（各停）\\t高円寺駅\\t徒歩9分\\t\\t丸ノ内線(池袋－荻窪)\\t新高円寺駅\\...</td>\n",
       "      <td>2LDK</td>\n",
       "      <td>29年4ヶ月</td>\n",
       "      <td>南</td>\n",
       "      <td>60.48m2</td>\n",
       "      <td>3階／4階建</td>\n",
       "      <td>専用バス／\\t専用トイレ／\\tバス・トイレ別／\\tシャワー／\\t温水洗浄便座／\\t洗面台独立</td>\n",
       "      <td>ガスコンロ／\\t給湯</td>\n",
       "      <td>インターネット対応／\\t光ファイバー</td>\n",
       "      <td>エアコン付\\tシューズボックス／\\tバルコニー／\\t2面採光／\\t室内洗濯機置場／\\tエレベ...</td>\n",
       "      <td>駐車場\\t無\\t駐輪場\\t無\\tバイク置き場\\t無</td>\n",
       "      <td>【スーパー】 225m\\t【スーパー】 448m\\t【スーパー】 619m\\t【スーパー】 ...</td>\n",
       "      <td>RC（鉄筋コンクリート）</td>\n",
       "      <td>2年間\\t※この物件は\\t定期借家\\tです。</td>\n",
       "    </tr>\n",
       "    <tr>\n",
       "      <th>4</th>\n",
       "      <td>東京都葛飾区金町３丁目7-2</td>\n",
       "      <td>京成金町線\\t京成金町駅\\t徒歩5分\\t\\t常磐線\\t金町(東京都)駅\\t徒歩7分\\t\\t京...</td>\n",
       "      <td>2DK</td>\n",
       "      <td>31年7ヶ月</td>\n",
       "      <td>南</td>\n",
       "      <td>39.66m2</td>\n",
       "      <td>1階／2階建</td>\n",
       "      <td>専用バス／\\t専用トイレ／\\tバス・トイレ別／\\tシャワー／\\t追焚機能</td>\n",
       "      <td>給湯／\\t独立キッチン</td>\n",
       "      <td>NaN</td>\n",
       "      <td>バルコニー／\\tフローリング／\\t室内洗濯機置場\\t公営水道／\\t下水</td>\n",
       "      <td>駐車場\\t近隣\\t17,000円(税込)\\t距離300m\\t駐輪場\\t無\\tバイク置き場\\t無</td>\n",
       "      <td>【スーパー】 193m\\t【スーパー】 298m\\t【スーパー】 660m\\t【スーパー】 ...</td>\n",
       "      <td>木造</td>\n",
       "      <td>2年間</td>\n",
       "    </tr>\n",
       "    <tr>\n",
       "      <th>5</th>\n",
       "      <td>東京都荒川区南千住５丁目</td>\n",
       "      <td>常磐線快速\\t南千住駅\\t徒歩2分\\t\\t都電荒川線\\t三ノ輪橋駅\\t徒歩10分\\t\\t日比...</td>\n",
       "      <td>2LDK</td>\n",
       "      <td>7年6ヶ月</td>\n",
       "      <td>東</td>\n",
       "      <td>50.8m2</td>\n",
       "      <td>6階／12階建</td>\n",
       "      <td>専用バス／\\t専用トイレ／\\tバス・トイレ別／\\tシャワー／\\t浴室乾燥機\\t／\\t温水洗浄...</td>\n",
       "      <td>ガスコンロ／\\tコンロ3口／\\tシステムキッチン\\t／\\t給湯／\\t独立キッチン</td>\n",
       "      <td>インターネット対応／\\t光ファイバー</td>\n",
       "      <td>エアコン付\\tシューズボックス／\\tバルコニー／\\tフローリング／\\t24時間換気システム\\...</td>\n",
       "      <td>駐輪場\\t空有\\t駐車場\\t近隣\\t27,000円(税込)\\t距離150m\\tバイク置き場\\t無</td>\n",
       "      <td>【スーパー】 251m\\t【コンビニ】 376m</td>\n",
       "      <td>RC（鉄筋コンクリート）</td>\n",
       "      <td>2年間</td>\n",
       "    </tr>\n",
       "    <tr>\n",
       "      <th>6</th>\n",
       "      <td>東京都練馬区東大泉３丁目</td>\n",
       "      <td>西武池袋線\\t大泉学園駅\\t徒歩4分\\t\\t西武池袋線\\t保谷駅\\t徒歩25分\\t\\t東武東...</td>\n",
       "      <td>1K</td>\n",
       "      <td>10年5ヶ月</td>\n",
       "      <td>南</td>\n",
       "      <td>23.82m2</td>\n",
       "      <td>6階／8階建</td>\n",
       "      <td>専用バス／\\t専用トイレ／\\tバス・トイレ別／\\tシャワー／\\t追焚機能／\\t浴室乾燥機\\t...</td>\n",
       "      <td>ガスコンロ／\\tコンロ2口／\\tシステムキッチン\\t／\\t給湯</td>\n",
       "      <td>インターネット対応／\\t光ファイバー／\\tCATV／\\tBSアンテナ</td>\n",
       "      <td>エアコン付\\tシューズボックス／\\tバルコニー／\\tフローリング／\\t24時間換気システム\\...</td>\n",
       "      <td>駐輪場\\t空有\\t駐車場\\t近隣\\t16,000円(税込)\\t距離200m\\tバイク置き場\\t無</td>\n",
       "      <td>【スーパー】 812m\\t【コンビニ】 149m\\t【コンビニ】 942m\\t【スーパー】 ...</td>\n",
       "      <td>RC（鉄筋コンクリート）</td>\n",
       "      <td>2年間</td>\n",
       "    </tr>\n",
       "    <tr>\n",
       "      <th>7</th>\n",
       "      <td>東京都目黒区鷹番１丁目</td>\n",
       "      <td>東急東横線\\t学芸大学駅\\t徒歩7分\\t\\t東急東横線\\t都立大学駅\\t徒歩16分\\t\\t東...</td>\n",
       "      <td>1K</td>\n",
       "      <td>14年4ヶ月</td>\n",
       "      <td>NaN</td>\n",
       "      <td>32.32m2</td>\n",
       "      <td>1階／6階建</td>\n",
       "      <td>専用バス／\\t専用トイレ／\\tバス・トイレ別／\\t追焚機能／\\t浴室乾燥機\\t／\\t温水洗浄...</td>\n",
       "      <td>ガスコンロ／\\tコンロ2口／\\tシステムキッチン</td>\n",
       "      <td>光ファイバー／\\tCATV／\\tCSアンテナ／\\tBSアンテナ</td>\n",
       "      <td>エアコン付\\tシューズボックス／\\tバルコニー／\\tフローリング／\\t24時間換気システム\\...</td>\n",
       "      <td>NaN</td>\n",
       "      <td>【スーパー】 334m\\t【スーパー】 562m\\t【スーパー】 694m\\t【コンビニ】 ...</td>\n",
       "      <td>RC（鉄筋コンクリート）</td>\n",
       "      <td>2年間</td>\n",
       "    </tr>\n",
       "    <tr>\n",
       "      <th>8</th>\n",
       "      <td>東京都文京区向丘１丁目</td>\n",
       "      <td>南北線\\t東大前駅\\t徒歩3分\\t\\t都営三田線\\t白山(東京都)駅\\t徒歩10分\\t\\t千...</td>\n",
       "      <td>2DK</td>\n",
       "      <td>44年8ヶ月</td>\n",
       "      <td>北西</td>\n",
       "      <td>65.59m2</td>\n",
       "      <td>4階／9階建</td>\n",
       "      <td>専用バス／\\t専用トイレ／\\tバス・トイレ別／\\t追焚機能／\\t洗面台独立</td>\n",
       "      <td>ガスコンロ／\\tコンロ3口／\\tシステムキッチン\\t／\\t給湯</td>\n",
       "      <td>NaN</td>\n",
       "      <td>エアコン付\\tバルコニー／\\tフローリング／\\t室内洗濯機置場\\t公営水道／\\t都市ガス</td>\n",
       "      <td>駐車場\\t無</td>\n",
       "      <td>NaN</td>\n",
       "      <td>SRC（鉄骨鉄筋コンクリート）</td>\n",
       "      <td>2年間</td>\n",
       "    </tr>\n",
       "    <tr>\n",
       "      <th>9</th>\n",
       "      <td>東京都板橋区板橋４丁目</td>\n",
       "      <td>埼京線\\t板橋駅\\t徒歩8分\\t\\t都営三田線\\t新板橋駅\\t徒歩4分\\t\\t東武東上線\\t...</td>\n",
       "      <td>1DK</td>\n",
       "      <td>38年9ヶ月</td>\n",
       "      <td>南東</td>\n",
       "      <td>30.3m2</td>\n",
       "      <td>2階／3階建</td>\n",
       "      <td>専用バス／\\t専用トイレ／\\tバス・トイレ別／\\tシャワー／\\t洗面台独立</td>\n",
       "      <td>ガスコンロ／\\tコンロ2口／\\t給湯</td>\n",
       "      <td>光ファイバー／\\tCATV</td>\n",
       "      <td>エアコン付\\tバルコニー／\\tフローリング／\\t室内洗濯機置場\\t公営水道／\\t都市ガス</td>\n",
       "      <td>駐車場\\t無</td>\n",
       "      <td>NaN</td>\n",
       "      <td>鉄骨造</td>\n",
       "      <td>2年間</td>\n",
       "    </tr>\n",
       "    <tr>\n",
       "      <th>10</th>\n",
       "      <td>東京都大田区西馬込１丁目30-8</td>\n",
       "      <td>都営浅草線\\t西馬込駅\\t徒歩4分\\t\\t都営浅草線\\t馬込駅\\t徒歩16分\\t\\t東急池上...</td>\n",
       "      <td>1K</td>\n",
       "      <td>4年0ヶ月</td>\n",
       "      <td>西</td>\n",
       "      <td>25.81m2</td>\n",
       "      <td>1階／6階建</td>\n",
       "      <td>専用バス／\\t専用トイレ／\\tバス・トイレ別／\\tシャワー／\\t追焚機能／\\t浴室乾燥機\\t...</td>\n",
       "      <td>ガスコンロ／\\tコンロ2口／\\tシステムキッチン\\t／\\t給湯</td>\n",
       "      <td>インターネット対応／\\t光ファイバー／\\tCATV／\\tCSアンテナ／\\tBSアンテナ</td>\n",
       "      <td>エアコン付\\tシューズボックス／\\tフローリング／\\t室内洗濯機置場／\\t敷地内ごみ置き場\\...</td>\n",
       "      <td>駐車場\\t空有\\t32,400円(税込)\\t駐輪場\\t空有\\tバイク置き場\\t空有</td>\n",
       "      <td>【スーパー】 406m\\t【スーパー】 406m\\t【スーパー】 483m\\t【コンビニ】 ...</td>\n",
       "      <td>RC（鉄筋コンクリート）</td>\n",
       "      <td>2年間</td>\n",
       "    </tr>\n",
       "    <tr>\n",
       "      <th>11</th>\n",
       "      <td>東京都江戸川区北小岩３丁目</td>\n",
       "      <td>京成本線\\t京成小岩駅\\t徒歩15分\\t\\t京成本線\\t江戸川駅\\t徒歩7分</td>\n",
       "      <td>1K</td>\n",
       "      <td>59年4ヶ月</td>\n",
       "      <td>NaN</td>\n",
       "      <td>23.1m2</td>\n",
       "      <td>1階／2階建</td>\n",
       "      <td>専用トイレ</td>\n",
       "      <td>NaN</td>\n",
       "      <td>NaN</td>\n",
       "      <td>NaN</td>\n",
       "      <td>NaN</td>\n",
       "      <td>NaN</td>\n",
       "      <td>木造</td>\n",
       "      <td>NaN</td>\n",
       "    </tr>\n",
       "    <tr>\n",
       "      <th>12</th>\n",
       "      <td>東京都港区南青山６丁目</td>\n",
       "      <td>銀座線\\t表参道駅\\t徒歩11分\\t\\t千代田線\\t表参道駅\\t徒歩11分\\t\\t山手線渋谷...</td>\n",
       "      <td>1LDK</td>\n",
       "      <td>0年0ヶ月</td>\n",
       "      <td>北</td>\n",
       "      <td>37.53m2</td>\n",
       "      <td>6階／10階建</td>\n",
       "      <td>専用バス／\\t専用トイレ／\\tバス・トイレ別／\\tシャワー／\\t追焚機能／\\t浴室乾燥機\\t...</td>\n",
       "      <td>ガスコンロ／\\tシステムキッチン\\t／\\t給湯</td>\n",
       "      <td>光ファイバー／\\tCATV／\\tCSアンテナ／\\tBSアンテナ</td>\n",
       "      <td>エアコン付\\tウォークインクローゼット\\tシューズボックス／\\tバルコニー／\\tフローリング...</td>\n",
       "      <td>NaN</td>\n",
       "      <td>NaN</td>\n",
       "      <td>RC（鉄筋コンクリート）</td>\n",
       "      <td>NaN</td>\n",
       "    </tr>\n",
       "    <tr>\n",
       "      <th>13</th>\n",
       "      <td>東京都杉並区阿佐谷南３丁目６－５</td>\n",
       "      <td>中央線（快速）\\t阿佐ケ谷駅\\t徒歩8分\\t\\t丸ノ内線(池袋－荻窪)\\t南阿佐ケ谷駅\\t徒歩4分</td>\n",
       "      <td>2DK</td>\n",
       "      <td>40年10ヶ月</td>\n",
       "      <td>東</td>\n",
       "      <td>41.5m2</td>\n",
       "      <td>3階／3階建</td>\n",
       "      <td>バス・トイレ別／\\tシャワー／\\t追焚機能</td>\n",
       "      <td>コンロ2口／\\t給湯</td>\n",
       "      <td>CATV</td>\n",
       "      <td>エアコン付\\tシューズボックス／\\tバルコニー\\t水道その他／\\t下水／\\t都市ガス</td>\n",
       "      <td>駐輪場\\t無\\tバイク置き場\\t無</td>\n",
       "      <td>NaN</td>\n",
       "      <td>RC（鉄筋コンクリート）</td>\n",
       "      <td>2年間</td>\n",
       "    </tr>\n",
       "    <tr>\n",
       "      <th>14</th>\n",
       "      <td>東京都墨田区緑４丁目</td>\n",
       "      <td>総武線・中央線（各停）\\t錦糸町駅\\t徒歩10分\\t\\t都営大江戸線\\t両国(都営線)駅\\t...</td>\n",
       "      <td>1K</td>\n",
       "      <td>23年5ヶ月</td>\n",
       "      <td>西</td>\n",
       "      <td>17.73m2</td>\n",
       "      <td>4階／11階建</td>\n",
       "      <td>シャワー</td>\n",
       "      <td>給湯</td>\n",
       "      <td>インターネット対応／\\t高速インターネット／\\t光ファイバー／\\tCATV／\\tCSアンテナ...</td>\n",
       "      <td>冷房／\\tエアコン付\\tシューズボックス／\\tバルコニー／\\t24時間換気システム\\t／\\t...</td>\n",
       "      <td>駐輪場\\t空有\\tバイク置き場\\t無</td>\n",
       "      <td>【ドラッグストア】 612m\\t【コンビニ】 773m\\t【スーパー】 887m\\t【飲食店...</td>\n",
       "      <td>SRC（鉄骨鉄筋コンクリート）</td>\n",
       "      <td>1年間</td>\n",
       "    </tr>\n",
       "    <tr>\n",
       "      <th>15</th>\n",
       "      <td>東京都渋谷区幡ヶ谷３丁目39-4</td>\n",
       "      <td>京王新線\\t幡ケ谷駅\\t徒歩8分\\t\\t京王線\\t笹塚駅\\t徒歩12分\\t\\t丸ノ内線(中野...</td>\n",
       "      <td>1DK</td>\n",
       "      <td>29年9ヶ月</td>\n",
       "      <td>南西</td>\n",
       "      <td>32.84m2</td>\n",
       "      <td>4階／5階建</td>\n",
       "      <td>専用バス／\\t専用トイレ／\\tバス・トイレ別／\\tシャワー／\\t洗面台独立／\\t脱衣所</td>\n",
       "      <td>ガスコンロ／\\tコンロ3口／\\tシステムキッチン\\t／\\t給湯</td>\n",
       "      <td>インターネット対応</td>\n",
       "      <td>エアコン付\\tシューズボックス／\\tバルコニー／\\t2面採光／\\tクッションフロア／\\t室内...</td>\n",
       "      <td>駐車場\\t近隣\\t27,000円(税込)\\t距離500m\\t駐輪場\\t無\\tバイク置き場\\t無</td>\n",
       "      <td>【スーパー】 318m\\t【スーパー】 564m\\t【スーパー】 477m\\t【スーパー】 ...</td>\n",
       "      <td>RC（鉄筋コンクリート）</td>\n",
       "      <td>2年間</td>\n",
       "    </tr>\n",
       "    <tr>\n",
       "      <th>16</th>\n",
       "      <td>東京都板橋区桜川３丁目10-12</td>\n",
       "      <td>東武東上線\\t上板橋駅\\t徒歩7分\\t\\t副都心線\\t氷川台駅\\t徒歩21分\\t\\t東武東上...</td>\n",
       "      <td>1K</td>\n",
       "      <td>5年0ヶ月</td>\n",
       "      <td>西</td>\n",
       "      <td>25.93m2</td>\n",
       "      <td>2階／5階建</td>\n",
       "      <td>バス・トイレ別／\\tシャワー／\\t浴室乾燥機\\t／\\t温水洗浄便座／\\t洗面台独立／\\t脱衣所</td>\n",
       "      <td>ガスコンロ／\\tコンロ2口／\\tシステムキッチン\\t／\\t給湯</td>\n",
       "      <td>インターネット対応／\\t光ファイバー／\\tCATV／\\tCSアンテナ</td>\n",
       "      <td>エアコン付\\tシューズボックス／\\tバルコニー／\\tフローリング／\\t24時間換気システム\\...</td>\n",
       "      <td>駐輪場\\t空有\\tバイク置き場\\t空有\\t駐車場\\t近隣\\t23,000円\\t距離150m</td>\n",
       "      <td>【コンビニ】 122m\\t【スーパー】 119m\\t【ドラッグストア】 225m\\t【病院】...</td>\n",
       "      <td>RC（鉄筋コンクリート）</td>\n",
       "      <td>2年間</td>\n",
       "    </tr>\n",
       "    <tr>\n",
       "      <th>17</th>\n",
       "      <td>東京都江戸川区西瑞江４丁目</td>\n",
       "      <td>都営新宿線\\t一之江駅\\t徒歩8分\\t\\t都営新宿線\\t船堀駅\\t徒歩30分</td>\n",
       "      <td>1K</td>\n",
       "      <td>9年5ヶ月</td>\n",
       "      <td>南東</td>\n",
       "      <td>25.82m2</td>\n",
       "      <td>1階／2階建</td>\n",
       "      <td>専用バス／\\tバス・トイレ別／\\tシャワー／\\t浴室乾燥機\\t／\\t温水洗浄便座／\\t洗面台独立</td>\n",
       "      <td>ガスコンロ／\\tシステムキッチン\\t／\\t給湯</td>\n",
       "      <td>光ファイバー</td>\n",
       "      <td>エアコン付\\t室内洗濯機置場\\t都市ガス</td>\n",
       "      <td>駐車場\\t近隣\\t15,120円\\t距離200m</td>\n",
       "      <td>【小学校】 523m\\t【学校】 46m\\t【幼稚園・保育園】 136m\\t【郵便局】 53...</td>\n",
       "      <td>木造</td>\n",
       "      <td>2年間</td>\n",
       "    </tr>\n",
       "    <tr>\n",
       "      <th>18</th>\n",
       "      <td>東京都新宿区四谷三栄町</td>\n",
       "      <td>総武線・中央線（各停）\\t四ツ谷駅\\t徒歩5分\\t\\t丸ノ内線(池袋－荻窪)\\t四ツ谷駅\\t...</td>\n",
       "      <td>3LDK</td>\n",
       "      <td>6年0ヶ月</td>\n",
       "      <td>NaN</td>\n",
       "      <td>70.82m2</td>\n",
       "      <td>5階／11階建</td>\n",
       "      <td>専用バス／\\t専用トイレ／\\tバス・トイレ別／\\t追焚機能／\\t浴室乾燥機\\t／\\t温水洗浄...</td>\n",
       "      <td>IHコンロ\\t／\\tコンロ3口／\\tシステムキッチン</td>\n",
       "      <td>光ファイバー／\\tCATV／\\tCSアンテナ／\\tBSアンテナ</td>\n",
       "      <td>エアコン付／\\t床暖房\\tウォークインクローゼット\\tシューズボックス／\\tバルコニー／\\t...</td>\n",
       "      <td>駐輪場\\t空有</td>\n",
       "      <td>【スーパー】 228m\\t【スーパー】 714m\\t【コンビニ】 569m\\t【コンビニ】 ...</td>\n",
       "      <td>RC（鉄筋コンクリート）</td>\n",
       "      <td>2年間</td>\n",
       "    </tr>\n",
       "    <tr>\n",
       "      <th>19</th>\n",
       "      <td>東京都中央区日本橋箱崎町27-9</td>\n",
       "      <td>半蔵門線\\t水天宮前駅\\t徒歩5分\\t\\t日比谷線\\t茅場町駅\\t徒歩10分\\t\\t都営浅草...</td>\n",
       "      <td>3DK</td>\n",
       "      <td>37年0ヶ月</td>\n",
       "      <td>南西</td>\n",
       "      <td>57.71m2</td>\n",
       "      <td>8階／12階建</td>\n",
       "      <td>専用バス／\\t専用トイレ／\\tバス・トイレ別／\\tシャワー／\\t洗面台独立／\\t脱衣所</td>\n",
       "      <td>ガスコンロ／\\tコンロ2口／\\tシステムキッチン\\t／\\t給湯</td>\n",
       "      <td>インターネット対応</td>\n",
       "      <td>エアコン付\\tシューズボックス／\\tバルコニー／\\tフローリング／\\t2面採光／\\t室内洗濯...</td>\n",
       "      <td>駐車場\\t無\\t駐輪場\\t無\\tバイク置き場\\t無</td>\n",
       "      <td>【スーパー】 237m\\t【スーパー】 581m\\t【コンビニ】 79m\\t【コンビニ】 196m</td>\n",
       "      <td>SRC（鉄骨鉄筋コンクリート）</td>\n",
       "      <td>2年間</td>\n",
       "    </tr>\n",
       "    <tr>\n",
       "      <th>20</th>\n",
       "      <td>東京都中野区江古田４丁目</td>\n",
       "      <td>西武新宿線\\t沼袋駅\\t徒歩11分\\t\\t西武新宿線\\t野方駅\\t徒歩14分\\t\\t中央線（...</td>\n",
       "      <td>2LDK</td>\n",
       "      <td>28年7ヶ月</td>\n",
       "      <td>南</td>\n",
       "      <td>59.62m2</td>\n",
       "      <td>2階建</td>\n",
       "      <td>専用バス／\\t専用トイレ／\\tバス・トイレ別／\\tシャワー／\\t追焚機能／\\t洗面台独立／\\...</td>\n",
       "      <td>ガスコンロ／\\t給湯</td>\n",
       "      <td>インターネット対応</td>\n",
       "      <td>エアコン付\\tバルコニー／\\tフローリング／\\t室内洗濯機置場\\t公営水道／\\t下水／\\t都市ガス</td>\n",
       "      <td>駐車場\\t空有\\t0円\\t駐輪場\\t空有\\t0円\\tバイク置き場\\t空有\\t0円</td>\n",
       "      <td>【小学校】 179m\\t【大学】 470m\\t【郵便局】 594m\\t【小学校】 1013m...</td>\n",
       "      <td>木造</td>\n",
       "      <td>2年間</td>\n",
       "    </tr>\n",
       "    <tr>\n",
       "      <th>21</th>\n",
       "      <td>東京都文京区湯島２丁目</td>\n",
       "      <td>中央線（快速）\\t御茶ノ水駅\\t徒歩6分\\t\\t千代田線\\t湯島駅\\t徒歩6分\\t\\t銀座線...</td>\n",
       "      <td>1K</td>\n",
       "      <td>23年11ヶ月</td>\n",
       "      <td>南西</td>\n",
       "      <td>21.06m2</td>\n",
       "      <td>7階／10階建</td>\n",
       "      <td>専用バス／\\t専用トイレ／\\tバス・トイレ別／\\tシャワー</td>\n",
       "      <td>ガスコンロ／\\tコンロ2口／\\t給湯</td>\n",
       "      <td>光ファイバー</td>\n",
       "      <td>エアコン付\\tシューズボックス／\\tバルコニー／\\t室内洗濯機置場／\\tエレベーター／\\tタ...</td>\n",
       "      <td>駐輪場\\t空有</td>\n",
       "      <td>【小学校】 673m\\t【スーパー】 341m\\t【コンビニ】 627m\\t【飲食店】 69...</td>\n",
       "      <td>SRC（鉄骨鉄筋コンクリート）</td>\n",
       "      <td>2年間</td>\n",
       "    </tr>\n",
       "    <tr>\n",
       "      <th>22</th>\n",
       "      <td>東京都中央区佃１丁目</td>\n",
       "      <td>有楽町線\\t月島駅\\t徒歩6分\\t\\t京葉線(東京－蘇我)\\t越中島駅\\t徒歩11分\\t\\t...</td>\n",
       "      <td>2LDK</td>\n",
       "      <td>30年4ヶ月</td>\n",
       "      <td>北西</td>\n",
       "      <td>81.2m2</td>\n",
       "      <td>10階／42階建</td>\n",
       "      <td>専用バス／\\t専用トイレ／\\tバス・トイレ別／\\tシャワー／\\t追焚機能／\\t浴室乾燥機\\t...</td>\n",
       "      <td>IHコンロ\\t／\\tコンロ3口／\\tシステムキッチン\\t／\\t独立キッチン</td>\n",
       "      <td>インターネット対応／\\t光ファイバー／\\tCSアンテナ／\\tBSアンテナ</td>\n",
       "      <td>冷房／\\tエアコン付\\tシューズボックス／\\tバルコニー／\\t24時間換気システム\\t／\\t...</td>\n",
       "      <td>駐輪場\\t空有</td>\n",
       "      <td>NaN</td>\n",
       "      <td>SRC（鉄骨鉄筋コンクリート）</td>\n",
       "      <td>NaN</td>\n",
       "    </tr>\n",
       "    <tr>\n",
       "      <th>23</th>\n",
       "      <td>東京都大田区大森西１丁目</td>\n",
       "      <td>京浜東北線\\t大森(東京都)駅\\t徒歩13分\\t\\t京急本線\\t平和島駅\\t徒歩12分\\t\\...</td>\n",
       "      <td>1K</td>\n",
       "      <td>7年5ヶ月</td>\n",
       "      <td>東</td>\n",
       "      <td>22.98m2</td>\n",
       "      <td>4階／5階建</td>\n",
       "      <td>専用バス／\\t専用トイレ／\\tバス・トイレ別／\\tシャワー／\\t洗面台独立／\\t脱衣所</td>\n",
       "      <td>ガスコンロ／\\tシステムキッチン\\t／\\t給湯</td>\n",
       "      <td>インターネット対応／\\t光ファイバー／\\tCATV／\\tCSアンテナ／\\tBSアンテナ</td>\n",
       "      <td>エアコン付\\tシューズボックス／\\tバルコニー／\\tフローリング／\\t24時間換気システム\\...</td>\n",
       "      <td>駐輪場\\t空有\\t駐車場\\t近隣\\t25,000円(税込)\\t距離100m\\tバイク置き場\\t無</td>\n",
       "      <td>【スーパー】 425m\\t【スーパー】 478m\\t【スーパー】 401m\\t【スーパー】 ...</td>\n",
       "      <td>鉄骨造</td>\n",
       "      <td>2年間</td>\n",
       "    </tr>\n",
       "    <tr>\n",
       "      <th>24</th>\n",
       "      <td>東京都江戸川区北小岩４丁目３８－２８</td>\n",
       "      <td>京成本線\\t江戸川駅\\t徒歩2分\\t\\t京成本線\\t京成小岩駅\\t徒歩15分\\t\\t総武線・...</td>\n",
       "      <td>1R</td>\n",
       "      <td>52年7ヶ月</td>\n",
       "      <td>北</td>\n",
       "      <td>15.48m2</td>\n",
       "      <td>2階／4階建</td>\n",
       "      <td>専用バス／\\tシャワー</td>\n",
       "      <td>ガスコンロ／\\tコンロ1口／\\t給湯</td>\n",
       "      <td>光ファイバー</td>\n",
       "      <td>エアコン付\\tフローリング／\\t室内洗濯機置場／\\t敷地内ごみ置き場\\t公営水道／\\t下水／...</td>\n",
       "      <td>駐車場\\t空有(1台)\\t10,000円\\t距離0m\\t(小型車のみ)</td>\n",
       "      <td>NaN</td>\n",
       "      <td>RC（鉄筋コンクリート）</td>\n",
       "      <td>2年間</td>\n",
       "    </tr>\n",
       "    <tr>\n",
       "      <th>25</th>\n",
       "      <td>東京都豊島区千早４丁目32-3</td>\n",
       "      <td>有楽町線\\t千川駅\\t徒歩4分\\t\\t西武池袋線\\t東長崎駅\\t徒歩15分\\t\\t有楽町線\\...</td>\n",
       "      <td>1R</td>\n",
       "      <td>2年0ヶ月</td>\n",
       "      <td>南東</td>\n",
       "      <td>11.7m2</td>\n",
       "      <td>1階／2階建</td>\n",
       "      <td>専用バス／\\t専用トイレ／\\tバス・トイレ別／\\tシャワー／\\t温水洗浄便座</td>\n",
       "      <td>ガスコンロ／\\tコンロ1口／\\t給湯／\\t冷蔵庫あり</td>\n",
       "      <td>光ファイバー／\\tインターネット使用料無料</td>\n",
       "      <td>エアコン付\\tシューズボックス／\\tロフト付き／\\tフローリング／\\t室内洗濯機置場／\\t敷...</td>\n",
       "      <td>駐輪場\\t空有\\t0円</td>\n",
       "      <td>【スーパー】 373m\\t【飲食店】 483m\\t【郵便局】 495m\\t【レンタルビデオ】...</td>\n",
       "      <td>木造</td>\n",
       "      <td>2年間</td>\n",
       "    </tr>\n",
       "    <tr>\n",
       "      <th>26</th>\n",
       "      <td>東京都台東区台東３丁目3-1</td>\n",
       "      <td>都営大江戸線\\t新御徒町駅\\t徒歩5分\\t\\t日比谷線\\t仲御徒町駅\\t徒歩7分\\t\\t山手...</td>\n",
       "      <td>1LDK</td>\n",
       "      <td>1年9ヶ月</td>\n",
       "      <td>南</td>\n",
       "      <td>41.6m2</td>\n",
       "      <td>12階／12階建</td>\n",
       "      <td>専用バス／\\t専用トイレ／\\tバス・トイレ別／\\tシャワー／\\t浴室乾燥機\\t／\\t温水洗浄...</td>\n",
       "      <td>ガスコンロ／\\tコンロ2口／\\tシステムキッチン\\t／\\t給湯／\\t独立キッチン</td>\n",
       "      <td>インターネット対応／\\t光ファイバー</td>\n",
       "      <td>エアコン付\\tウォークインクローゼット\\tシューズボックス／\\tバルコニー／\\tフローリング...</td>\n",
       "      <td>駐輪場\\t空有\\t駐車場\\t近隣\\t37,800円(税込)\\t距離300m\\tバイク置き場\\t無</td>\n",
       "      <td>【スーパー】 308m\\t【コンビニ】 124m\\t【コンビニ】 351m\\t【病院】 687m</td>\n",
       "      <td>RC（鉄筋コンクリート）</td>\n",
       "      <td>2年間</td>\n",
       "    </tr>\n",
       "    <tr>\n",
       "      <th>27</th>\n",
       "      <td>東京都足立区綾瀬６丁目</td>\n",
       "      <td>つくばエクスプレス\\t六町駅\\t徒歩12分\\t\\t千代田線\\t北綾瀬駅\\t徒歩10分\\t\\t...</td>\n",
       "      <td>1K</td>\n",
       "      <td>28年5ヶ月</td>\n",
       "      <td>西</td>\n",
       "      <td>14m2</td>\n",
       "      <td>2階／2階建</td>\n",
       "      <td>シャワー</td>\n",
       "      <td>ガスコンロ／\\t給湯</td>\n",
       "      <td>高速インターネット／\\t光ファイバー／\\tCATV</td>\n",
       "      <td>エアコン付\\t出窓／\\tフローリング／\\t24時間換気システム\\t／\\t室内洗濯機置場／\\t...</td>\n",
       "      <td>駐輪場\\t空有\\tバイク置き場\\t無</td>\n",
       "      <td>【スーパー】 800m\\t【コンビニ】 176m\\t【ドラッグストア】 149m\\t【郵便局...</td>\n",
       "      <td>木造</td>\n",
       "      <td>2年間</td>\n",
       "    </tr>\n",
       "    <tr>\n",
       "      <th>28</th>\n",
       "      <td>東京都江戸川区船堀４丁目</td>\n",
       "      <td>都営新宿線\\t船堀駅\\t徒歩5分\\t\\t都営新宿線\\t一之江駅\\t徒歩23分\\t\\t都営新宿...</td>\n",
       "      <td>1LDK</td>\n",
       "      <td>8年4ヶ月</td>\n",
       "      <td>南西</td>\n",
       "      <td>46.21m2</td>\n",
       "      <td>10階／10階建</td>\n",
       "      <td>シャワー／\\t追焚機能／\\t浴室乾燥機\\t／\\t洗面台独立</td>\n",
       "      <td>コンロ3口／\\tシステムキッチン\\t／\\t給湯</td>\n",
       "      <td>光ファイバー／\\tCATV</td>\n",
       "      <td>エアコン付\\tシューズボックス／\\tバルコニー／\\tフローリング／\\t室内洗濯機置場／\\t敷...</td>\n",
       "      <td>駐輪場\\t無\\tバイク置き場\\t無</td>\n",
       "      <td>【コンビニ】 131m\\t【ドラッグストア】 226m\\t【コンビニ】 286m\\t【スーパ...</td>\n",
       "      <td>RC（鉄筋コンクリート）</td>\n",
       "      <td>2年間</td>\n",
       "    </tr>\n",
       "    <tr>\n",
       "      <th>29</th>\n",
       "      <td>東京都渋谷区上原２丁目</td>\n",
       "      <td>小田急小田原線\\t代々木上原駅\\t徒歩10分\\t\\t小田急小田原線\\t東北沢駅\\t徒歩8分\\...</td>\n",
       "      <td>1R</td>\n",
       "      <td>16年6ヶ月</td>\n",
       "      <td>東</td>\n",
       "      <td>31.21m2</td>\n",
       "      <td>1階／10階建</td>\n",
       "      <td>専用バス／\\t専用トイレ／\\tバス・トイレ別／\\tシャワー／\\t追焚機能／\\t浴室乾燥機\\t...</td>\n",
       "      <td>ガスコンロ／\\tコンロ3口／\\tシステムキッチン\\t／\\t給湯</td>\n",
       "      <td>インターネット対応／\\t光ファイバー／\\tCATV</td>\n",
       "      <td>エアコン付\\tシューズボックス／\\tバルコニー／\\tフローリング／\\t2面採光／\\t室内洗濯...</td>\n",
       "      <td>駐輪場\\t空有\\t駐車場\\t無\\tバイク置き場\\t無</td>\n",
       "      <td>【スーパー】 555m\\t【スーパー】 737m\\t【スーパー】 947m\\t【コンビニ】 ...</td>\n",
       "      <td>RC（鉄筋コンクリート）</td>\n",
       "      <td>2年間</td>\n",
       "    </tr>\n",
       "    <tr>\n",
       "      <th>...</th>\n",
       "      <td>...</td>\n",
       "      <td>...</td>\n",
       "      <td>...</td>\n",
       "      <td>...</td>\n",
       "      <td>...</td>\n",
       "      <td>...</td>\n",
       "      <td>...</td>\n",
       "      <td>...</td>\n",
       "      <td>...</td>\n",
       "      <td>...</td>\n",
       "      <td>...</td>\n",
       "      <td>...</td>\n",
       "      <td>...</td>\n",
       "      <td>...</td>\n",
       "      <td>...</td>\n",
       "    </tr>\n",
       "    <tr>\n",
       "      <th>62702</th>\n",
       "      <td>東京都墨田区本所１丁目</td>\n",
       "      <td>都営大江戸線\\t蔵前駅\\t徒歩7分\\t\\t都営大江戸線\\t両国(都営線)駅\\t徒歩11分\\t...</td>\n",
       "      <td>1K</td>\n",
       "      <td>4年8ヶ月</td>\n",
       "      <td>南</td>\n",
       "      <td>25.86m2</td>\n",
       "      <td>4階／9階建</td>\n",
       "      <td>専用バス／\\t専用トイレ／\\tバス・トイレ別／\\t浴室乾燥機</td>\n",
       "      <td>NaN</td>\n",
       "      <td>光ファイバー／\\tCSアンテナ／\\tBSアンテナ</td>\n",
       "      <td>エアコン付\\tバルコニー／\\tフローリング／\\t室内洗濯機置場／\\tエレベーター</td>\n",
       "      <td>NaN</td>\n",
       "      <td>NaN</td>\n",
       "      <td>RC（鉄筋コンクリート）</td>\n",
       "      <td>NaN</td>\n",
       "    </tr>\n",
       "    <tr>\n",
       "      <th>62703</th>\n",
       "      <td>東京都杉並区下高井戸１丁目19-2</td>\n",
       "      <td>京王線\\t桜上水駅\\t徒歩4分\\t\\t京王線\\t下高井戸駅\\t徒歩9分\\t\\t京王線\\t上北...</td>\n",
       "      <td>1K</td>\n",
       "      <td>5年7ヶ月</td>\n",
       "      <td>南東</td>\n",
       "      <td>35.62m2</td>\n",
       "      <td>2階／2階建</td>\n",
       "      <td>専用バス／\\t専用トイレ／\\tバス・トイレ別／\\tシャワー／\\t追焚機能／\\t浴室乾燥機\\t...</td>\n",
       "      <td>ガスコンロ／\\tコンロ2口／\\tシステムキッチン\\t／\\t給湯</td>\n",
       "      <td>インターネット対応／\\tCATV／\\tCSアンテナ／\\tBSアンテナ</td>\n",
       "      <td>エアコン付\\tシューズボックス／\\tフローリング／\\t室内洗濯機置場／\\t敷地内ごみ置き場\\...</td>\n",
       "      <td>駐輪場\\t空有\\t駐車場\\t近隣\\t35,000円(税込)\\t距離300m\\tバイク置き場\\t無</td>\n",
       "      <td>【スーパー】 370m\\t【スーパー】 262m\\t【スーパー】 576m\\t【コンビニ】 ...</td>\n",
       "      <td>木造</td>\n",
       "      <td>2年間</td>\n",
       "    </tr>\n",
       "    <tr>\n",
       "      <th>62704</th>\n",
       "      <td>東京都千代田区神田淡路町２丁目</td>\n",
       "      <td>丸ノ内線(池袋－荻窪)\\t淡路町駅\\t徒歩2分\\t\\t千代田線\\t新御茶ノ水駅\\t徒歩4分\\...</td>\n",
       "      <td>1R</td>\n",
       "      <td>16年6ヶ月</td>\n",
       "      <td>南東</td>\n",
       "      <td>24.13m2</td>\n",
       "      <td>2階／11階建</td>\n",
       "      <td>専用バス／\\t専用トイレ／\\tバス・トイレ別／\\tシャワー／\\t脱衣所</td>\n",
       "      <td>ガスコンロ／\\tコンロ2口／\\tシステムキッチン\\t／\\t給湯</td>\n",
       "      <td>インターネット対応／\\tCATV／\\tCSアンテナ／\\tBSアンテナ</td>\n",
       "      <td>エアコン付\\tシューズボックス／\\tバルコニー／\\tフローリング／\\t24時間換気システム\\...</td>\n",
       "      <td>駐車場\\t空有\\t35,000円(税込)\\t駐輪場\\t空有\\tバイク置き場\\t無</td>\n",
       "      <td>【スーパー】 763m\\t【スーパー】 623m\\t【コンビニ】 515m\\t【コンビニ】 ...</td>\n",
       "      <td>RC（鉄筋コンクリート）</td>\n",
       "      <td>2年間</td>\n",
       "    </tr>\n",
       "    <tr>\n",
       "      <th>62705</th>\n",
       "      <td>東京都品川区東五反田５丁目</td>\n",
       "      <td>山手線\\t五反田駅\\t徒歩2分\\t\\t都営浅草線\\t五反田駅\\t徒歩2分\\t\\t東急目黒線\\...</td>\n",
       "      <td>1K</td>\n",
       "      <td>12年9ヶ月</td>\n",
       "      <td>北東</td>\n",
       "      <td>27.98m2</td>\n",
       "      <td>9階／14階建</td>\n",
       "      <td>バス・トイレ別／\\tシャワー／\\t浴室乾燥機\\t／\\t温水洗浄便座</td>\n",
       "      <td>システムキッチン\\t／\\t給湯</td>\n",
       "      <td>CATV</td>\n",
       "      <td>エアコン付\\tシューズボックス／\\tバルコニー／\\tフローリング／\\t室内洗濯機置場／\\tエ...</td>\n",
       "      <td>駐車場\\t無</td>\n",
       "      <td>【小学校】 713m\\t【学校】 707m\\t【幼稚園・保育園】 149m\\t【郵便局】 3...</td>\n",
       "      <td>SRC（鉄骨鉄筋コンクリート）</td>\n",
       "      <td>2年間</td>\n",
       "    </tr>\n",
       "    <tr>\n",
       "      <th>62706</th>\n",
       "      <td>東京都足立区谷在家１丁目14-11</td>\n",
       "      <td>日暮里・舎人ライナー\\t谷在家駅\\t徒歩4分\\t\\t日暮里・舎人ライナー\\t西新井大師西駅\\...</td>\n",
       "      <td>1K</td>\n",
       "      <td>0年10ヶ月</td>\n",
       "      <td>北</td>\n",
       "      <td>26.51m2</td>\n",
       "      <td>9階／11階建</td>\n",
       "      <td>専用バス／\\t専用トイレ／\\tバス・トイレ別／\\tシャワー／\\t浴室乾燥機\\t／\\t温水洗浄...</td>\n",
       "      <td>ガスコンロ／\\tコンロ2口／\\tシステムキッチン\\t／\\t給湯／\\t独立キッチン</td>\n",
       "      <td>インターネット対応</td>\n",
       "      <td>エアコン付\\tシューズボックス／\\tバルコニー／\\tフローリング／\\t24時間換気システム\\...</td>\n",
       "      <td>駐輪場\\t空有\\tバイク置き場\\t空有\\t駐車場\\t近隣\\t12,960円(税込)\\t距離300m</td>\n",
       "      <td>【スーパー】 750m\\t【コンビニ】 363m\\t【コンビニ】 787m\\t【コンビニ】 ...</td>\n",
       "      <td>RC（鉄筋コンクリート）</td>\n",
       "      <td>2年間</td>\n",
       "    </tr>\n",
       "    <tr>\n",
       "      <th>62707</th>\n",
       "      <td>東京都台東区三筋１丁目</td>\n",
       "      <td>都営浅草線\\t蔵前駅\\t徒歩6分\\t\\t都営大江戸線\\t新御徒町駅\\t徒歩6分\\t\\t総武線...</td>\n",
       "      <td>2DK</td>\n",
       "      <td>30年2ヶ月</td>\n",
       "      <td>南</td>\n",
       "      <td>55.31m2</td>\n",
       "      <td>5階／6階建</td>\n",
       "      <td>バス・トイレ別／\\tシャワー／\\t洗面台独立</td>\n",
       "      <td>給湯</td>\n",
       "      <td>インターネット対応／\\t光ファイバー／\\tCATV／\\tBSアンテナ</td>\n",
       "      <td>エアコン付\\tバルコニー／\\t室内洗濯機置場／\\tエレベーター／\\tタイル張り\\t都市ガス</td>\n",
       "      <td>駐輪場\\t空有\\tバイク置き場\\t空有</td>\n",
       "      <td>【スーパー】 352m\\t【スーパー】 398m\\t【スーパー】 408m\\t【コンビニ】 ...</td>\n",
       "      <td>SRC（鉄骨鉄筋コンクリート）</td>\n",
       "      <td>2年間</td>\n",
       "    </tr>\n",
       "    <tr>\n",
       "      <th>62708</th>\n",
       "      <td>東京都練馬区石神井台３丁目38-7</td>\n",
       "      <td>西武池袋線\\t大泉学園駅\\t徒歩12分\\t\\t西武池袋線\\t石神井公園駅\\t徒歩25分</td>\n",
       "      <td>2LDK</td>\n",
       "      <td>6年7ヶ月</td>\n",
       "      <td>南</td>\n",
       "      <td>53.5m2</td>\n",
       "      <td>1階／2階建</td>\n",
       "      <td>バス・トイレ別／\\tシャワー／\\t追焚機能／\\t温水洗浄便座／\\t洗面台独立</td>\n",
       "      <td>ガスコンロ／\\tコンロ3口／\\tカウンターキッチン\\t／\\t給湯</td>\n",
       "      <td>NaN</td>\n",
       "      <td>エアコン付\\tフローリング／\\tペアガラス／\\t室内洗濯機置場／\\t敷地内ごみ置き場\\t／\\...</td>\n",
       "      <td>駐輪場\\t空有\\t駐車場\\t無\\tバイク置き場\\t無</td>\n",
       "      <td>NaN</td>\n",
       "      <td>軽量鉄骨</td>\n",
       "      <td>2年間</td>\n",
       "    </tr>\n",
       "    <tr>\n",
       "      <th>62709</th>\n",
       "      <td>東京都新宿区中落合３丁目4-11</td>\n",
       "      <td>西武池袋線\\t椎名町駅\\t徒歩9分\\t\\t都営大江戸線\\t落合南長崎駅\\t徒歩8分\\t\\t西...</td>\n",
       "      <td>1R</td>\n",
       "      <td>19年5ヶ月</td>\n",
       "      <td>西</td>\n",
       "      <td>27.37m2</td>\n",
       "      <td>4階／8階建</td>\n",
       "      <td>専用バス／\\t専用トイレ／\\tバス・トイレ別／\\tシャワー／\\t洗面台独立</td>\n",
       "      <td>ガスコンロ／\\tコンロ2口／\\tシステムキッチン\\t／\\t給湯</td>\n",
       "      <td>インターネット対応／\\t光ファイバー</td>\n",
       "      <td>エアコン付\\tシューズボックス／\\tバルコニー／\\tフローリング／\\t室内洗濯機置場／\\t敷...</td>\n",
       "      <td>駐輪場\\t空有\\tバイク置き場\\t空有\\t駐車場\\t無</td>\n",
       "      <td>【スーパー】 167m\\t【スーパー】 525m\\t【コンビニ】 175m\\t【コンビニ】 ...</td>\n",
       "      <td>RC（鉄筋コンクリート）</td>\n",
       "      <td>2年間</td>\n",
       "    </tr>\n",
       "    <tr>\n",
       "      <th>62710</th>\n",
       "      <td>東京都江戸川区東葛西６丁目</td>\n",
       "      <td>東西線\\t葛西駅\\t徒歩5分\\t\\t東西線\\t西葛西駅\\t徒歩18分\\t\\t東西線\\t浦安(...</td>\n",
       "      <td>2DK</td>\n",
       "      <td>29年4ヶ月</td>\n",
       "      <td>NaN</td>\n",
       "      <td>42m2</td>\n",
       "      <td>3階／3階建</td>\n",
       "      <td>バス・トイレ別／\\tシャワー</td>\n",
       "      <td>ガスコンロ／\\t給湯</td>\n",
       "      <td>NaN</td>\n",
       "      <td>シューズボックス／\\tバルコニー／\\tフローリング／\\t室内洗濯機置場\\t公営水道／\\t下水...</td>\n",
       "      <td>駐輪場\\t空有\\t駐車場\\t近隣\\t20,000円\\t距離250m\\tバイク置き場\\t無</td>\n",
       "      <td>【スーパー】 51m\\t【コンビニ】 57m\\t【コンビニ】 131m\\t【ドラッグストア】...</td>\n",
       "      <td>RC（鉄筋コンクリート）</td>\n",
       "      <td>2年間</td>\n",
       "    </tr>\n",
       "    <tr>\n",
       "      <th>62711</th>\n",
       "      <td>東京都目黒区中根２丁目</td>\n",
       "      <td>東急東横線\\t都立大学駅\\t徒歩3分\\t\\t東急目黒線\\t大岡山駅\\t徒歩16分\\t\\t東急...</td>\n",
       "      <td>1K</td>\n",
       "      <td>20年6ヶ月</td>\n",
       "      <td>NaN</td>\n",
       "      <td>29.87m2</td>\n",
       "      <td>5階／6階建</td>\n",
       "      <td>専用バス／\\t専用トイレ／\\tバス・トイレ別／\\t温水洗浄便座／\\t洗面台独立／\\t脱衣所</td>\n",
       "      <td>ガスコンロ／\\tコンロ2口／\\tシステムキッチン</td>\n",
       "      <td>光ファイバー／\\tCATV／\\tCSアンテナ／\\tBSアンテナ</td>\n",
       "      <td>エアコン付\\tウォークインクローゼット\\tシューズボックス／\\tバルコニー／\\tフローリング...</td>\n",
       "      <td>駐輪場\\t空有</td>\n",
       "      <td>【スーパー】 270m\\t【スーパー】 283m\\t【コンビニ】 100m\\t【コンビニ】 ...</td>\n",
       "      <td>RC（鉄筋コンクリート）</td>\n",
       "      <td>2年間</td>\n",
       "    </tr>\n",
       "    <tr>\n",
       "      <th>62712</th>\n",
       "      <td>東京都文京区本駒込２丁目</td>\n",
       "      <td>南北線\\t本駒込駅\\t徒歩8分\\t\\t都営三田線\\t千石駅\\t徒歩2分\\t\\t山手線\\t巣鴨...</td>\n",
       "      <td>1DK</td>\n",
       "      <td>40年5ヶ月</td>\n",
       "      <td>西</td>\n",
       "      <td>26m2</td>\n",
       "      <td>4階／5階建</td>\n",
       "      <td>専用バス／\\t専用トイレ／\\tシャワー</td>\n",
       "      <td>コンロ2口／\\t給湯</td>\n",
       "      <td>光ファイバー／\\tCATV</td>\n",
       "      <td>エアコン付\\tバルコニー／\\tフローリング／\\t室内洗濯機置場／\\tタイル張り\\t公営水道／...</td>\n",
       "      <td>NaN</td>\n",
       "      <td>NaN</td>\n",
       "      <td>RC（鉄筋コンクリート）</td>\n",
       "      <td>NaN</td>\n",
       "    </tr>\n",
       "    <tr>\n",
       "      <th>62713</th>\n",
       "      <td>東京都葛飾区柴又１丁目</td>\n",
       "      <td>京成金町線\\t柴又駅\\t徒歩3分\\t\\t京成本線\\t京成高砂駅\\t徒歩10分\\t\\t京成金町...</td>\n",
       "      <td>2LDK</td>\n",
       "      <td>3年1ヶ月</td>\n",
       "      <td>南</td>\n",
       "      <td>44.62m2</td>\n",
       "      <td>1階／2階建</td>\n",
       "      <td>バス・トイレ別／\\tシャワー／\\t追焚機能／\\t洗面台独立</td>\n",
       "      <td>ガスコンロ／\\tコンロ3口／\\tシステムキッチン\\t／\\t給湯</td>\n",
       "      <td>光ファイバー</td>\n",
       "      <td>エアコン付\\tシューズボックス／\\tフローリング／\\t室内洗濯機置場\\t都市ガス</td>\n",
       "      <td>駐輪場\\t空有\\tバイク置き場\\t空有\\t駐車場\\t近隣\\t13,000円\\t距離200m</td>\n",
       "      <td>【スーパー】 286m\\t【コンビニ】 395m\\t【コンビニ】 366m\\t【スーパー】 ...</td>\n",
       "      <td>木造</td>\n",
       "      <td>2年間</td>\n",
       "    </tr>\n",
       "    <tr>\n",
       "      <th>62714</th>\n",
       "      <td>東京都世田谷区世田谷２丁目13-7</td>\n",
       "      <td>東急世田谷線\\t上町駅\\t徒歩2分\\t\\t東急世田谷線\\t世田谷駅\\t徒歩8分\\t\\t東急田...</td>\n",
       "      <td>1R</td>\n",
       "      <td>8年5ヶ月</td>\n",
       "      <td>南西</td>\n",
       "      <td>25m2</td>\n",
       "      <td>2階／5階建</td>\n",
       "      <td>専用バス／\\t専用トイレ／\\tバス・トイレ別／\\tシャワー／\\t浴室乾燥機\\t／\\t温水洗浄...</td>\n",
       "      <td>ガスコンロ／\\tコンロ2口／\\tシステムキッチン\\t／\\t給湯</td>\n",
       "      <td>光ファイバー／\\tCATV／\\tCSアンテナ／\\tBSアンテナ</td>\n",
       "      <td>冷房／\\tエアコン付\\tシューズボックス／\\tバルコニー／\\tフローリング／\\t24時間換気...</td>\n",
       "      <td>NaN</td>\n",
       "      <td>【ドラッグストア】 120m\\t【ドラッグストア】 265m\\t【飲食店】 167m\\t【ス...</td>\n",
       "      <td>RC（鉄筋コンクリート）</td>\n",
       "      <td>2年間</td>\n",
       "    </tr>\n",
       "    <tr>\n",
       "      <th>62715</th>\n",
       "      <td>東京都渋谷区初台１丁目49-2</td>\n",
       "      <td>京王新線\\t初台駅\\t徒歩2分\\t\\t小田急小田原線\\t参宮橋駅\\t徒歩12分\\t\\t都営大...</td>\n",
       "      <td>1R</td>\n",
       "      <td>15年7ヶ月</td>\n",
       "      <td>NaN</td>\n",
       "      <td>30.3m2</td>\n",
       "      <td>10階／14階建</td>\n",
       "      <td>専用バス／\\t専用トイレ／\\tバス・トイレ別／\\t追焚機能／\\t浴室乾燥機\\t／\\t洗面台独...</td>\n",
       "      <td>ガスコンロ／\\tコンロ2口／\\tシステムキッチン</td>\n",
       "      <td>光ファイバー／\\tCATV／\\tCSアンテナ／\\tBSアンテナ</td>\n",
       "      <td>エアコン付\\tシューズボックス／\\tバルコニー／\\tフローリング／\\t室内洗濯機置場／\\t敷...</td>\n",
       "      <td>NaN</td>\n",
       "      <td>【スーパー】 619m\\t【コンビニ】 239m\\t【ドラッグストア】 193m\\t【郵便局...</td>\n",
       "      <td>RC（鉄筋コンクリート）</td>\n",
       "      <td>2年間</td>\n",
       "    </tr>\n",
       "    <tr>\n",
       "      <th>62716</th>\n",
       "      <td>東京都板橋区板橋２丁目17-9</td>\n",
       "      <td>都営三田線\\t板橋区役所前駅\\t徒歩7分\\t\\t埼京線\\t板橋駅\\t徒歩12分\\t\\t東武東...</td>\n",
       "      <td>2LDK</td>\n",
       "      <td>13年5ヶ月</td>\n",
       "      <td>南</td>\n",
       "      <td>58.09m2</td>\n",
       "      <td>6階／8階建</td>\n",
       "      <td>バス・トイレ別／\\tシャワー／\\t追焚機能／\\t浴室乾燥機\\t／\\t温水洗浄便座／\\t洗面台...</td>\n",
       "      <td>ガスコンロ／\\tコンロ3口／\\tシステムキッチン\\t／\\tカウンターキッチン\\t／\\t給湯</td>\n",
       "      <td>インターネット対応／\\t光ファイバー</td>\n",
       "      <td>エアコン付\\tシューズボックス／\\tバルコニー／\\tフローリング／\\t24時間換気システム\\...</td>\n",
       "      <td>駐輪場\\t空有\\t駐車場\\t近隣\\t28,000円\\t距離150m</td>\n",
       "      <td>【スーパー】 440m\\t【コンビニ】 477m\\t【ドラッグストア】 526m\\t【図書館...</td>\n",
       "      <td>RC（鉄筋コンクリート）</td>\n",
       "      <td>2年間</td>\n",
       "    </tr>\n",
       "    <tr>\n",
       "      <th>62717</th>\n",
       "      <td>東京都世田谷区梅丘１丁目６－８</td>\n",
       "      <td>小田急小田原線\\t梅ケ丘駅\\t徒歩4分\\t\\t小田急小田原線\\t豪徳寺駅\\t徒歩9分\\t\\t...</td>\n",
       "      <td>1K</td>\n",
       "      <td>28年5ヶ月</td>\n",
       "      <td>西</td>\n",
       "      <td>18.9m2</td>\n",
       "      <td>2階／2階建</td>\n",
       "      <td>バス・トイレ別／\\tシャワー</td>\n",
       "      <td>ガスコンロ／\\tコンロ2口／\\t給湯</td>\n",
       "      <td>インターネット対応／\\t高速インターネット／\\t光ファイバー／\\tCATV／\\tCSアンテナ...</td>\n",
       "      <td>エアコン付\\tシューズボックス／\\t出窓／\\t室内洗濯機置場\\t公営水道／\\t下水／\\t都市ガス</td>\n",
       "      <td>駐輪場\\t無\\tバイク置き場\\t無</td>\n",
       "      <td>【コンビニ】 140m\\t【スーパー】 278m\\t【スーパー】 463m\\t【スーパー】 ...</td>\n",
       "      <td>木造</td>\n",
       "      <td>2年間</td>\n",
       "    </tr>\n",
       "    <tr>\n",
       "      <th>62718</th>\n",
       "      <td>東京都板橋区中丸町</td>\n",
       "      <td>有楽町線\\t要町駅\\t徒歩12分</td>\n",
       "      <td>1K</td>\n",
       "      <td>28年0ヶ月</td>\n",
       "      <td>南</td>\n",
       "      <td>20.03m2</td>\n",
       "      <td>1階／2階建</td>\n",
       "      <td>専用バス／\\t専用トイレ／\\tバス・トイレ別／\\tシャワー</td>\n",
       "      <td>給湯</td>\n",
       "      <td>光ファイバー／\\tCATV</td>\n",
       "      <td>エアコン付\\tフローリング／\\t室内洗濯機置場\\t都市ガス</td>\n",
       "      <td>NaN</td>\n",
       "      <td>NaN</td>\n",
       "      <td>軽量鉄骨</td>\n",
       "      <td>NaN</td>\n",
       "    </tr>\n",
       "    <tr>\n",
       "      <th>62719</th>\n",
       "      <td>東京都葛飾区青戸４丁目</td>\n",
       "      <td>京成本線\\t青砥駅\\t徒歩8分\\t\\t京成本線\\tお花茶屋駅\\t徒歩13分\\t\\t京成押上線...</td>\n",
       "      <td>1DK</td>\n",
       "      <td>32年6ヶ月</td>\n",
       "      <td>西</td>\n",
       "      <td>28.38m2</td>\n",
       "      <td>2階／6階建</td>\n",
       "      <td>専用バス／\\t専用トイレ／\\tバス・トイレ別／\\tシャワー</td>\n",
       "      <td>ガスコンロ／\\tコンロ2口／\\t給湯</td>\n",
       "      <td>インターネット対応／\\t光ファイバー</td>\n",
       "      <td>エアコン付\\tシューズボックス／\\tバルコニー／\\tフローリング／\\t24時間換気システム\\...</td>\n",
       "      <td>駐輪場\\t空有\\t駐車場\\t近隣\\t21,600円(税込)\\t距離300m\\tバイク置き場\\t無</td>\n",
       "      <td>【スーパー】 50m\\t【スーパー】 630m\\t【小学校】 582m\\t【病院】 863m...</td>\n",
       "      <td>RC（鉄筋コンクリート）</td>\n",
       "      <td>2年間</td>\n",
       "    </tr>\n",
       "    <tr>\n",
       "      <th>62720</th>\n",
       "      <td>東京都世田谷区下馬１丁目5-3</td>\n",
       "      <td>東急東横線\\t祐天寺駅\\t徒歩11分\\t\\t東急東横線\\t学芸大学駅\\t徒歩15分\\t\\t東...</td>\n",
       "      <td>1DK</td>\n",
       "      <td>14年5ヶ月</td>\n",
       "      <td>東</td>\n",
       "      <td>30.67m2</td>\n",
       "      <td>3階／5階建</td>\n",
       "      <td>専用バス／\\t専用トイレ／\\tバス・トイレ別／\\tシャワー／\\t浴室乾燥機\\t／\\t洗面台独...</td>\n",
       "      <td>ガスコンロ／\\tコンロ2口／\\tシステムキッチン\\t／\\t給湯</td>\n",
       "      <td>インターネット対応／\\tインターネット使用料無料</td>\n",
       "      <td>エアコン付\\tシューズボックス／\\tバルコニー／\\tフローリング／\\t2面採光／\\t室内洗濯...</td>\n",
       "      <td>駐輪場\\t空有\\t駐車場\\t近隣\\t37,800円(税込)\\t距離300m\\tバイク置き場\\t無</td>\n",
       "      <td>【コンビニ】 104m\\t【コンビニ】 309m\\t【スーパー】 383m\\t【スーパー】 ...</td>\n",
       "      <td>RC（鉄筋コンクリート）</td>\n",
       "      <td>NaN</td>\n",
       "    </tr>\n",
       "    <tr>\n",
       "      <th>62721</th>\n",
       "      <td>東京都中野区本町６丁目</td>\n",
       "      <td>丸ノ内線(池袋－荻窪)\\t新中野駅\\t徒歩3分\\t\\t中央線（快速）\\t中野(東京都)駅\\t...</td>\n",
       "      <td>2DK</td>\n",
       "      <td>31年5ヶ月</td>\n",
       "      <td>東</td>\n",
       "      <td>46.85m2</td>\n",
       "      <td>4階／5階建</td>\n",
       "      <td>専用バス／\\t専用トイレ／\\tバス・トイレ別／\\tシャワー／\\t追焚機能／\\t温水洗浄便座／...</td>\n",
       "      <td>ガスコンロ／\\tコンロ2口／\\tシステムキッチン\\t／\\t給湯</td>\n",
       "      <td>光ファイバー／\\tCATV</td>\n",
       "      <td>エアコン付\\tシューズボックス／\\tバルコニー／\\t室内洗濯機置場／\\tエレベーター\\t公営...</td>\n",
       "      <td>駐輪場\\t空有</td>\n",
       "      <td>【飲食店】 460m\\t【コンビニ】 410m\\t【コンビニ】 257m\\t【ドラッグストア...</td>\n",
       "      <td>RC（鉄筋コンクリート）</td>\n",
       "      <td>2年間</td>\n",
       "    </tr>\n",
       "    <tr>\n",
       "      <th>62722</th>\n",
       "      <td>東京都新宿区東榎町</td>\n",
       "      <td>東西線\\t神楽坂駅\\t徒歩4分\\t\\t有楽町線\\t江戸川橋駅\\t徒歩9分\\t\\t都営大江戸線...</td>\n",
       "      <td>1K</td>\n",
       "      <td>0年3ヶ月</td>\n",
       "      <td>北</td>\n",
       "      <td>25.73m2</td>\n",
       "      <td>13階／14階建</td>\n",
       "      <td>専用バス／\\t専用トイレ／\\tバス・トイレ別／\\t浴室乾燥機\\t／\\t温水洗浄便座／\\t洗面台独立</td>\n",
       "      <td>ガスコンロ／\\tコンロ2口／\\tシステムキッチン\\t／\\t給湯</td>\n",
       "      <td>CSアンテナ／\\tBSアンテナ／\\tインターネット使用料無料</td>\n",
       "      <td>エアコン付\\tバルコニー／\\tフローリング／\\t室内洗濯機置場／\\tエレベーター\\t都市ガス</td>\n",
       "      <td>駐車場\\t無</td>\n",
       "      <td>NaN</td>\n",
       "      <td>RC（鉄筋コンクリート）</td>\n",
       "      <td>2年間</td>\n",
       "    </tr>\n",
       "    <tr>\n",
       "      <th>62723</th>\n",
       "      <td>東京都墨田区太平１丁目１５－５</td>\n",
       "      <td>総武線・中央線（各停）\\t錦糸町駅\\t徒歩9分\\t\\t半蔵門線\\t錦糸町駅\\t徒歩9分\\t\\...</td>\n",
       "      <td>1LDK</td>\n",
       "      <td>0年2ヶ月</td>\n",
       "      <td>東</td>\n",
       "      <td>40.85m2</td>\n",
       "      <td>9階／13階建</td>\n",
       "      <td>専用バス／\\t専用トイレ／\\tバス・トイレ別／\\tシャワー／\\t浴室乾燥機\\t／\\t温水洗浄...</td>\n",
       "      <td>ガスコンロ／\\tコンロ2口／\\tシステムキッチン\\t／\\tカウンターキッチン</td>\n",
       "      <td>インターネット対応／\\tCSアンテナ／\\tBSアンテナ／\\tインターネット使用料無料</td>\n",
       "      <td>冷房／\\tエアコン付\\tシューズボックス／\\tバルコニー／\\tフローリング／\\t24時間換気...</td>\n",
       "      <td>駐輪場\\t空有</td>\n",
       "      <td>NaN</td>\n",
       "      <td>RC（鉄筋コンクリート）</td>\n",
       "      <td>NaN</td>\n",
       "    </tr>\n",
       "    <tr>\n",
       "      <th>62724</th>\n",
       "      <td>東京都大田区東六郷３丁目</td>\n",
       "      <td>京急本線\\t六郷土手駅\\t徒歩6分\\t\\t京急大師線\\t港町駅\\t徒歩13分\\t\\t京急本線...</td>\n",
       "      <td>1LDK</td>\n",
       "      <td>0年9ヶ月</td>\n",
       "      <td>南</td>\n",
       "      <td>37.45m2</td>\n",
       "      <td>3階／5階建</td>\n",
       "      <td>専用バス／\\t専用トイレ／\\tバス・トイレ別／\\t追焚機能／\\t浴室乾燥機\\t／\\t温水洗浄...</td>\n",
       "      <td>ガスコンロ／\\tコンロ2口／\\tシステムキッチン\\t／\\t給湯</td>\n",
       "      <td>インターネット対応／\\t高速インターネット／\\t光ファイバー／\\tインターネット使用料無料</td>\n",
       "      <td>冷房／\\tエアコン付\\tシューズボックス／\\tバルコニー／\\tフローリング／\\t24時間換気...</td>\n",
       "      <td>駐車場\\t近隣\\t30,000円\\t距離400m</td>\n",
       "      <td>【スーパー】 283m\\t【スーパー】 839m\\t【コンビニ】 322m\\t【コンビニ】 ...</td>\n",
       "      <td>RC（鉄筋コンクリート）</td>\n",
       "      <td>NaN</td>\n",
       "    </tr>\n",
       "    <tr>\n",
       "      <th>62725</th>\n",
       "      <td>東京都中野区本町６丁目</td>\n",
       "      <td>丸ノ内線(池袋－荻窪)\\t新中野駅\\t徒歩4分\\t\\t中央線（快速）\\t中野(東京都)駅\\t...</td>\n",
       "      <td>1K</td>\n",
       "      <td>2年11ヶ月</td>\n",
       "      <td>南</td>\n",
       "      <td>29.81m2</td>\n",
       "      <td>3階／3階建</td>\n",
       "      <td>専用トイレ／\\tバス・トイレ別／\\tシャワー／\\t浴室乾燥機\\t／\\t温水洗浄便座／\\t洗面台独立</td>\n",
       "      <td>コンロ設置可（コンロ2口）／\\tシステムキッチン\\t／\\t給湯</td>\n",
       "      <td>インターネット対応／\\tCSアンテナ／\\tBSアンテナ／\\tインターネット使用料無料</td>\n",
       "      <td>エアコン付\\tシューズボックス／\\tバルコニー／\\tフローリング／\\t室内洗濯機置場</td>\n",
       "      <td>NaN</td>\n",
       "      <td>NaN</td>\n",
       "      <td>鉄骨造</td>\n",
       "      <td>NaN</td>\n",
       "    </tr>\n",
       "    <tr>\n",
       "      <th>62726</th>\n",
       "      <td>東京都大田区田園調布１丁目</td>\n",
       "      <td>東急東横線\\t多摩川駅\\t徒歩10分\\t\\t東急池上線\\t雪が谷大塚駅\\t徒歩9分\\t\\t東...</td>\n",
       "      <td>2LDK</td>\n",
       "      <td>7年5ヶ月</td>\n",
       "      <td>南</td>\n",
       "      <td>66.37m2</td>\n",
       "      <td>2階建</td>\n",
       "      <td>専用バス／\\t専用トイレ／\\tバス・トイレ別／\\t追焚機能／\\t浴室乾燥機\\t／\\t温水洗浄...</td>\n",
       "      <td>IHコンロ\\t／\\tシステムキッチン</td>\n",
       "      <td>インターネット対応／\\t高速インターネット／\\t光ファイバー／\\tCATV／\\tBSアンテナ</td>\n",
       "      <td>冷房／\\tエアコン付\\t床下収納\\tシューズボックス／\\tバルコニー／\\tフローリング／\\t...</td>\n",
       "      <td>駐車場\\t近隣\\t30,000円\\t距離400m</td>\n",
       "      <td>【スーパー】 523m\\t【スーパー】 696m\\t【コンビニ】 381m\\t【ドラッグスト...</td>\n",
       "      <td>木造</td>\n",
       "      <td>NaN</td>\n",
       "    </tr>\n",
       "    <tr>\n",
       "      <th>62727</th>\n",
       "      <td>東京都豊島区上池袋４丁目</td>\n",
       "      <td>埼京線\\t板橋駅\\t徒歩3分\\t\\t都営三田線\\t新板橋駅\\t徒歩9分\\t\\t東武東上線\\t...</td>\n",
       "      <td>1K</td>\n",
       "      <td>0年1ヶ月</td>\n",
       "      <td>東</td>\n",
       "      <td>25.66m2</td>\n",
       "      <td>6階／8階建</td>\n",
       "      <td>専用バス／\\t専用トイレ／\\tバス・トイレ別／\\tシャワー／\\t浴室乾燥機\\t／\\t温水洗浄...</td>\n",
       "      <td>ガスコンロ／\\tコンロ2口／\\tシステムキッチン\\t／\\t給湯</td>\n",
       "      <td>インターネット対応／\\t光ファイバー／\\tCATV／\\tCSアンテナ／\\tBSアンテナ／\\t...</td>\n",
       "      <td>エアコン付\\tシューズボックス／\\tバルコニー／\\tフローリング／\\t室内洗濯機置場／\\t敷...</td>\n",
       "      <td>駐車場\\t無\\t駐輪場\\t無\\tバイク置き場\\t無</td>\n",
       "      <td>【コンビニ】 204m\\t【スーパー】 284m\\t【スーパー】 496m\\t【コンビニ】 ...</td>\n",
       "      <td>RC（鉄筋コンクリート）</td>\n",
       "      <td>2年間</td>\n",
       "    </tr>\n",
       "    <tr>\n",
       "      <th>62728</th>\n",
       "      <td>東京都千代田区岩本町２丁目</td>\n",
       "      <td>都営新宿線\\t岩本町駅\\t徒歩2分\\t\\t山手線\\t秋葉原駅\\t徒歩4分\\t\\t日比谷線\\t...</td>\n",
       "      <td>1R</td>\n",
       "      <td>15年6ヶ月</td>\n",
       "      <td>南</td>\n",
       "      <td>22.71m2</td>\n",
       "      <td>8階／15階建</td>\n",
       "      <td>専用バス／\\t専用トイレ／\\tシャワー／\\t浴室乾燥機</td>\n",
       "      <td>ガスコンロ／\\tコンロ2口／\\tシステムキッチン\\t／\\t独立キッチン</td>\n",
       "      <td>インターネット対応／\\t高速インターネット／\\t光ファイバー／\\tCATV／\\tCSアンテナ...</td>\n",
       "      <td>冷房／\\tエアコン付\\tシューズボックス／\\tバルコニー／\\tフローリング／\\t24時間換気...</td>\n",
       "      <td>駐車場\\t空有\\t43,200円\\t駐輪場\\t空有</td>\n",
       "      <td>NaN</td>\n",
       "      <td>RC（鉄筋コンクリート）</td>\n",
       "      <td>NaN</td>\n",
       "    </tr>\n",
       "    <tr>\n",
       "      <th>62729</th>\n",
       "      <td>東京都中野区江古田３丁目14-3</td>\n",
       "      <td>都営大江戸線\\t新江古田駅\\t徒歩10分\\t\\t西武池袋線\\t江古田駅\\t徒歩20分\\t\\t...</td>\n",
       "      <td>1LDK</td>\n",
       "      <td>1年0ヶ月</td>\n",
       "      <td>南東</td>\n",
       "      <td>45.76m2</td>\n",
       "      <td>10階／14階建</td>\n",
       "      <td>バス・トイレ別／\\tシャワー／\\t追焚機能／\\t温水洗浄便座</td>\n",
       "      <td>ガスコンロ／\\tコンロ3口／\\t給湯</td>\n",
       "      <td>インターネット対応／\\tCATV／\\tインターネット使用料無料</td>\n",
       "      <td>エアコン付／\\t床暖房\\tフローリング／\\t室内洗濯機置場／\\t敷地内ごみ置き場\\t／\\tエ...</td>\n",
       "      <td>駐車場\\t空有\\t32,400円(税込)\\t駐輪場\\t空有\\tバイク置き場\\t無</td>\n",
       "      <td>NaN</td>\n",
       "      <td>RC（鉄筋コンクリート）</td>\n",
       "      <td>2年間\\t※この物件は\\t定期借家\\tです。</td>\n",
       "    </tr>\n",
       "    <tr>\n",
       "      <th>62730</th>\n",
       "      <td>東京都千代田区二番町</td>\n",
       "      <td>有楽町線\\t麹町駅\\t徒歩3分\\t\\t丸ノ内線(池袋－荻窪)\\t四ツ谷駅\\t徒歩4分\\t\\t...</td>\n",
       "      <td>1K</td>\n",
       "      <td>15年4ヶ月</td>\n",
       "      <td>北</td>\n",
       "      <td>55.2m2</td>\n",
       "      <td>14階／14階建</td>\n",
       "      <td>専用バス／\\t専用トイレ／\\tバス・トイレ別／\\tシャワー／\\t追焚機能／\\t浴室乾燥機\\t...</td>\n",
       "      <td>IHコンロ\\t／\\tコンロ3口／\\tシステムキッチン\\t／\\t独立キッチン</td>\n",
       "      <td>インターネット対応／\\t高速インターネット／\\t光ファイバー／\\tCATV／\\tCSアンテナ...</td>\n",
       "      <td>冷房／\\tエアコン付／\\t床暖房\\tバルコニー／\\tフローリング／\\t24時間換気システム\\...</td>\n",
       "      <td>駐輪場\\t空有</td>\n",
       "      <td>NaN</td>\n",
       "      <td>SRC（鉄骨鉄筋コンクリート）</td>\n",
       "      <td>NaN</td>\n",
       "    </tr>\n",
       "    <tr>\n",
       "      <th>62731</th>\n",
       "      <td>東京都大田区南馬込６丁目</td>\n",
       "      <td>都営浅草線\\t西馬込駅\\t徒歩8分\\t\\t東急池上線\\t池上駅\\t徒歩19分\\t\\t都営浅草...</td>\n",
       "      <td>1K</td>\n",
       "      <td>16年3ヶ月</td>\n",
       "      <td>南</td>\n",
       "      <td>21.18m2</td>\n",
       "      <td>5階／5階建</td>\n",
       "      <td>専用バス／\\t専用トイレ／\\tバス・トイレ別／\\tシャワー／\\t浴室乾燥機\\t／\\t温水洗浄便座</td>\n",
       "      <td>コンロ2口／\\tシステムキッチン\\t／\\t給湯</td>\n",
       "      <td>光ファイバー／\\tCATV／\\tCSアンテナ／\\tBSアンテナ／\\t有線放送</td>\n",
       "      <td>エアコン付\\tシューズボックス／\\tバルコニー／\\tフローリング／\\t室内洗濯機置場／\\tエ...</td>\n",
       "      <td>NaN</td>\n",
       "      <td>NaN</td>\n",
       "      <td>RC（鉄筋コンクリート）</td>\n",
       "      <td>NaN</td>\n",
       "    </tr>\n",
       "  </tbody>\n",
       "</table>\n",
       "<p>62732 rows × 15 columns</p>\n",
       "</div>"
      ],
      "text/plain": [
       "                      所在地                                               アクセス   間取り      築年数   方角       面積       所在階                                             バス・トイレ                                           キッチン                                              放送・通信                                               室内設備                                                駐車場                                               周辺環境             建物構造                    契約期間\n",
       "0             東京都北区滝野川３丁目  都営三田線\\t西巣鴨駅\\t徒歩4分\\t\\t埼京線\\t板橋駅\\t徒歩14分\\t\\t都電荒川線\\...    1K    9年9ヶ月   南東  20.01m2   1階／12階建   専用バス／\\t専用トイレ／\\tバス・トイレ別／\\tシャワー／\\t浴室乾燥機\\t／\\t温水洗浄便座                ガスコンロ／\\tコンロ2口／\\tシステムキッチン\\t／\\t給湯                 インターネット対応／\\tCATV／\\tCSアンテナ／\\tBSアンテナ  エアコン付\\tシューズボックス／\\tバルコニー／\\tフローリング／\\t室内洗濯機置場／\\t敷...                                            駐輪場\\t空有  【小学校】 495m\\t【大学】 461m\\t【小学校】 962m\\t【公園】 1103m\\...     RC（鉄筋コンクリート）                     2年間\n",
       "1             東京都中央区月島３丁目  都営大江戸線\\t勝どき駅\\t徒歩5分\\t\\t有楽町線\\t月島駅\\t徒歩9分\\t\\t日比谷線\\...    1R  44年10ヶ月  NaN   16.5m2   5階／10階建                              専用トイレ／\\tシャワー／\\t温水洗浄便座                        ガスコンロ／\\tシステムキッチン\\t／\\t給湯                                          インターネット対応  エアコン付\\tシューズボックス／\\tバルコニー／\\tフローリング／\\t室内洗濯機置場／\\t敷...                         駐輪場\\t空有\\t駐車場\\t無\\tバイク置き場\\t無                                       【スーパー】 1283m              鉄骨造                     2年間\n",
       "2             東京都渋谷区笹塚２丁目  京王線\\t笹塚駅\\t徒歩6分\\t\\t京王線\\t代田橋駅\\t徒歩7分\\t\\t京王線\\t明大前駅...    1K    8年6ヶ月    南  22.05m2  12階／15階建  専用バス／\\t専用トイレ／\\tバス・トイレ別／\\tシャワー／\\t浴室乾燥機\\t／\\t温水洗浄...                ガスコンロ／\\tコンロ2口／\\tシステムキッチン\\t／\\t給湯               インターネット対応／\\t光ファイバー／\\tCSアンテナ／\\tBSアンテナ  エアコン付\\tウォークインクローゼット\\tシューズボックス／\\tバルコニー／\\tフローリング...  駐輪場\\t空有\\tバイク置き場\\t空有\\t駐車場\\t近隣\\t30,000円(税込)\\t距離100m  【スーパー】 89m\\t【コンビニ】 184m\\t【コンビニ】 392m\\t【スーパー】 492m     RC（鉄筋コンクリート）                     2年間\n",
       "3       東京都杉並区高円寺南２丁目23-2  総武線・中央線（各停）\\t高円寺駅\\t徒歩9分\\t\\t丸ノ内線(池袋－荻窪)\\t新高円寺駅\\...  2LDK   29年4ヶ月    南  60.48m2    3階／4階建     専用バス／\\t専用トイレ／\\tバス・トイレ別／\\tシャワー／\\t温水洗浄便座／\\t洗面台独立                                     ガスコンロ／\\t給湯                                 インターネット対応／\\t光ファイバー  エアコン付\\tシューズボックス／\\tバルコニー／\\t2面採光／\\t室内洗濯機置場／\\tエレベ...                          駐車場\\t無\\t駐輪場\\t無\\tバイク置き場\\t無  【スーパー】 225m\\t【スーパー】 448m\\t【スーパー】 619m\\t【スーパー】 ...     RC（鉄筋コンクリート）  2年間\\t※この物件は\\t定期借家\\tです。\n",
       "4          東京都葛飾区金町３丁目7-2  京成金町線\\t京成金町駅\\t徒歩5分\\t\\t常磐線\\t金町(東京都)駅\\t徒歩7分\\t\\t京...   2DK   31年7ヶ月    南  39.66m2    1階／2階建               専用バス／\\t専用トイレ／\\tバス・トイレ別／\\tシャワー／\\t追焚機能                                    給湯／\\t独立キッチン                                                NaN                バルコニー／\\tフローリング／\\t室内洗濯機置場\\t公営水道／\\t下水    駐車場\\t近隣\\t17,000円(税込)\\t距離300m\\t駐輪場\\t無\\tバイク置き場\\t無  【スーパー】 193m\\t【スーパー】 298m\\t【スーパー】 660m\\t【スーパー】 ...               木造                     2年間\n",
       "5            東京都荒川区南千住５丁目  常磐線快速\\t南千住駅\\t徒歩2分\\t\\t都電荒川線\\t三ノ輪橋駅\\t徒歩10分\\t\\t日比...  2LDK    7年6ヶ月    東   50.8m2   6階／12階建  専用バス／\\t専用トイレ／\\tバス・トイレ別／\\tシャワー／\\t浴室乾燥機\\t／\\t温水洗浄...       ガスコンロ／\\tコンロ3口／\\tシステムキッチン\\t／\\t給湯／\\t独立キッチン                                 インターネット対応／\\t光ファイバー  エアコン付\\tシューズボックス／\\tバルコニー／\\tフローリング／\\t24時間換気システム\\...   駐輪場\\t空有\\t駐車場\\t近隣\\t27,000円(税込)\\t距離150m\\tバイク置き場\\t無                           【スーパー】 251m\\t【コンビニ】 376m     RC（鉄筋コンクリート）                     2年間\n",
       "6            東京都練馬区東大泉３丁目  西武池袋線\\t大泉学園駅\\t徒歩4分\\t\\t西武池袋線\\t保谷駅\\t徒歩25分\\t\\t東武東...    1K   10年5ヶ月    南  23.82m2    6階／8階建  専用バス／\\t専用トイレ／\\tバス・トイレ別／\\tシャワー／\\t追焚機能／\\t浴室乾燥機\\t...                ガスコンロ／\\tコンロ2口／\\tシステムキッチン\\t／\\t給湯                 インターネット対応／\\t光ファイバー／\\tCATV／\\tBSアンテナ  エアコン付\\tシューズボックス／\\tバルコニー／\\tフローリング／\\t24時間換気システム\\...   駐輪場\\t空有\\t駐車場\\t近隣\\t16,000円(税込)\\t距離200m\\tバイク置き場\\t無  【スーパー】 812m\\t【コンビニ】 149m\\t【コンビニ】 942m\\t【スーパー】 ...     RC（鉄筋コンクリート）                     2年間\n",
       "7             東京都目黒区鷹番１丁目  東急東横線\\t学芸大学駅\\t徒歩7分\\t\\t東急東横線\\t都立大学駅\\t徒歩16分\\t\\t東...    1K   14年4ヶ月  NaN  32.32m2    1階／6階建  専用バス／\\t専用トイレ／\\tバス・トイレ別／\\t追焚機能／\\t浴室乾燥機\\t／\\t温水洗浄...                       ガスコンロ／\\tコンロ2口／\\tシステムキッチン                    光ファイバー／\\tCATV／\\tCSアンテナ／\\tBSアンテナ  エアコン付\\tシューズボックス／\\tバルコニー／\\tフローリング／\\t24時間換気システム\\...                                                NaN  【スーパー】 334m\\t【スーパー】 562m\\t【スーパー】 694m\\t【コンビニ】 ...     RC（鉄筋コンクリート）                     2年間\n",
       "8             東京都文京区向丘１丁目  南北線\\t東大前駅\\t徒歩3分\\t\\t都営三田線\\t白山(東京都)駅\\t徒歩10分\\t\\t千...   2DK   44年8ヶ月   北西  65.59m2    4階／9階建              専用バス／\\t専用トイレ／\\tバス・トイレ別／\\t追焚機能／\\t洗面台独立                ガスコンロ／\\tコンロ3口／\\tシステムキッチン\\t／\\t給湯                                                NaN       エアコン付\\tバルコニー／\\tフローリング／\\t室内洗濯機置場\\t公営水道／\\t都市ガス                                             駐車場\\t無                                                NaN  SRC（鉄骨鉄筋コンクリート）                     2年間\n",
       "9             東京都板橋区板橋４丁目  埼京線\\t板橋駅\\t徒歩8分\\t\\t都営三田線\\t新板橋駅\\t徒歩4分\\t\\t東武東上線\\t...   1DK   38年9ヶ月   南東   30.3m2    2階／3階建              専用バス／\\t専用トイレ／\\tバス・トイレ別／\\tシャワー／\\t洗面台独立                             ガスコンロ／\\tコンロ2口／\\t給湯                                      光ファイバー／\\tCATV       エアコン付\\tバルコニー／\\tフローリング／\\t室内洗濯機置場\\t公営水道／\\t都市ガス                                             駐車場\\t無                                                NaN              鉄骨造                     2年間\n",
       "10       東京都大田区西馬込１丁目30-8  都営浅草線\\t西馬込駅\\t徒歩4分\\t\\t都営浅草線\\t馬込駅\\t徒歩16分\\t\\t東急池上...    1K    4年0ヶ月    西  25.81m2    1階／6階建  専用バス／\\t専用トイレ／\\tバス・トイレ別／\\tシャワー／\\t追焚機能／\\t浴室乾燥機\\t...                ガスコンロ／\\tコンロ2口／\\tシステムキッチン\\t／\\t給湯        インターネット対応／\\t光ファイバー／\\tCATV／\\tCSアンテナ／\\tBSアンテナ  エアコン付\\tシューズボックス／\\tフローリング／\\t室内洗濯機置場／\\t敷地内ごみ置き場\\...          駐車場\\t空有\\t32,400円(税込)\\t駐輪場\\t空有\\tバイク置き場\\t空有  【スーパー】 406m\\t【スーパー】 406m\\t【スーパー】 483m\\t【コンビニ】 ...     RC（鉄筋コンクリート）                     2年間\n",
       "11          東京都江戸川区北小岩３丁目             京成本線\\t京成小岩駅\\t徒歩15分\\t\\t京成本線\\t江戸川駅\\t徒歩7分    1K   59年4ヶ月  NaN   23.1m2    1階／2階建                                              専用トイレ                                            NaN                                                NaN                                                NaN                                                NaN                                                NaN               木造                     NaN\n",
       "12            東京都港区南青山６丁目  銀座線\\t表参道駅\\t徒歩11分\\t\\t千代田線\\t表参道駅\\t徒歩11分\\t\\t山手線渋谷...  1LDK    0年0ヶ月    北  37.53m2   6階／10階建  専用バス／\\t専用トイレ／\\tバス・トイレ別／\\tシャワー／\\t追焚機能／\\t浴室乾燥機\\t...                        ガスコンロ／\\tシステムキッチン\\t／\\t給湯                    光ファイバー／\\tCATV／\\tCSアンテナ／\\tBSアンテナ  エアコン付\\tウォークインクローゼット\\tシューズボックス／\\tバルコニー／\\tフローリング...                                                NaN                                                NaN     RC（鉄筋コンクリート）                     NaN\n",
       "13       東京都杉並区阿佐谷南３丁目６－５  中央線（快速）\\t阿佐ケ谷駅\\t徒歩8分\\t\\t丸ノ内線(池袋－荻窪)\\t南阿佐ケ谷駅\\t徒歩4分   2DK  40年10ヶ月    東   41.5m2    3階／3階建                              バス・トイレ別／\\tシャワー／\\t追焚機能                                     コンロ2口／\\t給湯                                               CATV         エアコン付\\tシューズボックス／\\tバルコニー\\t水道その他／\\t下水／\\t都市ガス                                  駐輪場\\t無\\tバイク置き場\\t無                                                NaN     RC（鉄筋コンクリート）                     2年間\n",
       "14             東京都墨田区緑４丁目  総武線・中央線（各停）\\t錦糸町駅\\t徒歩10分\\t\\t都営大江戸線\\t両国(都営線)駅\\t...    1K   23年5ヶ月    西  17.73m2   4階／11階建                                               シャワー                                             給湯  インターネット対応／\\t高速インターネット／\\t光ファイバー／\\tCATV／\\tCSアンテナ...  冷房／\\tエアコン付\\tシューズボックス／\\tバルコニー／\\t24時間換気システム\\t／\\t...                                 駐輪場\\t空有\\tバイク置き場\\t無  【ドラッグストア】 612m\\t【コンビニ】 773m\\t【スーパー】 887m\\t【飲食店...  SRC（鉄骨鉄筋コンクリート）                     1年間\n",
       "15       東京都渋谷区幡ヶ谷３丁目39-4  京王新線\\t幡ケ谷駅\\t徒歩8分\\t\\t京王線\\t笹塚駅\\t徒歩12分\\t\\t丸ノ内線(中野...   1DK   29年9ヶ月   南西  32.84m2    4階／5階建        専用バス／\\t専用トイレ／\\tバス・トイレ別／\\tシャワー／\\t洗面台独立／\\t脱衣所                ガスコンロ／\\tコンロ3口／\\tシステムキッチン\\t／\\t給湯                                          インターネット対応  エアコン付\\tシューズボックス／\\tバルコニー／\\t2面採光／\\tクッションフロア／\\t室内...    駐車場\\t近隣\\t27,000円(税込)\\t距離500m\\t駐輪場\\t無\\tバイク置き場\\t無  【スーパー】 318m\\t【スーパー】 564m\\t【スーパー】 477m\\t【スーパー】 ...     RC（鉄筋コンクリート）                     2年間\n",
       "16       東京都板橋区桜川３丁目10-12  東武東上線\\t上板橋駅\\t徒歩7分\\t\\t副都心線\\t氷川台駅\\t徒歩21分\\t\\t東武東上...    1K    5年0ヶ月    西  25.93m2    2階／5階建    バス・トイレ別／\\tシャワー／\\t浴室乾燥機\\t／\\t温水洗浄便座／\\t洗面台独立／\\t脱衣所                ガスコンロ／\\tコンロ2口／\\tシステムキッチン\\t／\\t給湯                 インターネット対応／\\t光ファイバー／\\tCATV／\\tCSアンテナ  エアコン付\\tシューズボックス／\\tバルコニー／\\tフローリング／\\t24時間換気システム\\...      駐輪場\\t空有\\tバイク置き場\\t空有\\t駐車場\\t近隣\\t23,000円\\t距離150m  【コンビニ】 122m\\t【スーパー】 119m\\t【ドラッグストア】 225m\\t【病院】...     RC（鉄筋コンクリート）                     2年間\n",
       "17          東京都江戸川区西瑞江４丁目             都営新宿線\\t一之江駅\\t徒歩8分\\t\\t都営新宿線\\t船堀駅\\t徒歩30分    1K    9年5ヶ月   南東  25.82m2    1階／2階建   専用バス／\\tバス・トイレ別／\\tシャワー／\\t浴室乾燥機\\t／\\t温水洗浄便座／\\t洗面台独立                        ガスコンロ／\\tシステムキッチン\\t／\\t給湯                                             光ファイバー                               エアコン付\\t室内洗濯機置場\\t都市ガス                           駐車場\\t近隣\\t15,120円\\t距離200m  【小学校】 523m\\t【学校】 46m\\t【幼稚園・保育園】 136m\\t【郵便局】 53...               木造                     2年間\n",
       "18            東京都新宿区四谷三栄町  総武線・中央線（各停）\\t四ツ谷駅\\t徒歩5分\\t\\t丸ノ内線(池袋－荻窪)\\t四ツ谷駅\\t...  3LDK    6年0ヶ月  NaN  70.82m2   5階／11階建  専用バス／\\t専用トイレ／\\tバス・トイレ別／\\t追焚機能／\\t浴室乾燥機\\t／\\t温水洗浄...                     IHコンロ\\t／\\tコンロ3口／\\tシステムキッチン                    光ファイバー／\\tCATV／\\tCSアンテナ／\\tBSアンテナ  エアコン付／\\t床暖房\\tウォークインクローゼット\\tシューズボックス／\\tバルコニー／\\t...                                            駐輪場\\t空有  【スーパー】 228m\\t【スーパー】 714m\\t【コンビニ】 569m\\t【コンビニ】 ...     RC（鉄筋コンクリート）                     2年間\n",
       "19       東京都中央区日本橋箱崎町27-9  半蔵門線\\t水天宮前駅\\t徒歩5分\\t\\t日比谷線\\t茅場町駅\\t徒歩10分\\t\\t都営浅草...   3DK   37年0ヶ月   南西  57.71m2   8階／12階建        専用バス／\\t専用トイレ／\\tバス・トイレ別／\\tシャワー／\\t洗面台独立／\\t脱衣所                ガスコンロ／\\tコンロ2口／\\tシステムキッチン\\t／\\t給湯                                          インターネット対応  エアコン付\\tシューズボックス／\\tバルコニー／\\tフローリング／\\t2面採光／\\t室内洗濯...                          駐車場\\t無\\t駐輪場\\t無\\tバイク置き場\\t無  【スーパー】 237m\\t【スーパー】 581m\\t【コンビニ】 79m\\t【コンビニ】 196m  SRC（鉄骨鉄筋コンクリート）                     2年間\n",
       "20           東京都中野区江古田４丁目  西武新宿線\\t沼袋駅\\t徒歩11分\\t\\t西武新宿線\\t野方駅\\t徒歩14分\\t\\t中央線（...  2LDK   28年7ヶ月    南  59.62m2       2階建  専用バス／\\t専用トイレ／\\tバス・トイレ別／\\tシャワー／\\t追焚機能／\\t洗面台独立／\\...                                     ガスコンロ／\\t給湯                                          インターネット対応  エアコン付\\tバルコニー／\\tフローリング／\\t室内洗濯機置場\\t公営水道／\\t下水／\\t都市ガス           駐車場\\t空有\\t0円\\t駐輪場\\t空有\\t0円\\tバイク置き場\\t空有\\t0円  【小学校】 179m\\t【大学】 470m\\t【郵便局】 594m\\t【小学校】 1013m...               木造                     2年間\n",
       "21            東京都文京区湯島２丁目  中央線（快速）\\t御茶ノ水駅\\t徒歩6分\\t\\t千代田線\\t湯島駅\\t徒歩6分\\t\\t銀座線...    1K  23年11ヶ月   南西  21.06m2   7階／10階建                      専用バス／\\t専用トイレ／\\tバス・トイレ別／\\tシャワー                             ガスコンロ／\\tコンロ2口／\\t給湯                                             光ファイバー  エアコン付\\tシューズボックス／\\tバルコニー／\\t室内洗濯機置場／\\tエレベーター／\\tタ...                                            駐輪場\\t空有  【小学校】 673m\\t【スーパー】 341m\\t【コンビニ】 627m\\t【飲食店】 69...  SRC（鉄骨鉄筋コンクリート）                     2年間\n",
       "22             東京都中央区佃１丁目  有楽町線\\t月島駅\\t徒歩6分\\t\\t京葉線(東京－蘇我)\\t越中島駅\\t徒歩11分\\t\\t...  2LDK   30年4ヶ月   北西   81.2m2  10階／42階建  専用バス／\\t専用トイレ／\\tバス・トイレ別／\\tシャワー／\\t追焚機能／\\t浴室乾燥機\\t...          IHコンロ\\t／\\tコンロ3口／\\tシステムキッチン\\t／\\t独立キッチン               インターネット対応／\\t光ファイバー／\\tCSアンテナ／\\tBSアンテナ  冷房／\\tエアコン付\\tシューズボックス／\\tバルコニー／\\t24時間換気システム\\t／\\t...                                            駐輪場\\t空有                                                NaN  SRC（鉄骨鉄筋コンクリート）                     NaN\n",
       "23           東京都大田区大森西１丁目  京浜東北線\\t大森(東京都)駅\\t徒歩13分\\t\\t京急本線\\t平和島駅\\t徒歩12分\\t\\...    1K    7年5ヶ月    東  22.98m2    4階／5階建        専用バス／\\t専用トイレ／\\tバス・トイレ別／\\tシャワー／\\t洗面台独立／\\t脱衣所                        ガスコンロ／\\tシステムキッチン\\t／\\t給湯        インターネット対応／\\t光ファイバー／\\tCATV／\\tCSアンテナ／\\tBSアンテナ  エアコン付\\tシューズボックス／\\tバルコニー／\\tフローリング／\\t24時間換気システム\\...   駐輪場\\t空有\\t駐車場\\t近隣\\t25,000円(税込)\\t距離100m\\tバイク置き場\\t無  【スーパー】 425m\\t【スーパー】 478m\\t【スーパー】 401m\\t【スーパー】 ...              鉄骨造                     2年間\n",
       "24     東京都江戸川区北小岩４丁目３８－２８  京成本線\\t江戸川駅\\t徒歩2分\\t\\t京成本線\\t京成小岩駅\\t徒歩15分\\t\\t総武線・...    1R   52年7ヶ月    北  15.48m2    2階／4階建                                        専用バス／\\tシャワー                             ガスコンロ／\\tコンロ1口／\\t給湯                                             光ファイバー  エアコン付\\tフローリング／\\t室内洗濯機置場／\\t敷地内ごみ置き場\\t公営水道／\\t下水／...                駐車場\\t空有(1台)\\t10,000円\\t距離0m\\t(小型車のみ)                                                NaN     RC（鉄筋コンクリート）                     2年間\n",
       "25        東京都豊島区千早４丁目32-3  有楽町線\\t千川駅\\t徒歩4分\\t\\t西武池袋線\\t東長崎駅\\t徒歩15分\\t\\t有楽町線\\...    1R    2年0ヶ月   南東   11.7m2    1階／2階建             専用バス／\\t専用トイレ／\\tバス・トイレ別／\\tシャワー／\\t温水洗浄便座                     ガスコンロ／\\tコンロ1口／\\t給湯／\\t冷蔵庫あり                              光ファイバー／\\tインターネット使用料無料  エアコン付\\tシューズボックス／\\tロフト付き／\\tフローリング／\\t室内洗濯機置場／\\t敷...                                        駐輪場\\t空有\\t0円  【スーパー】 373m\\t【飲食店】 483m\\t【郵便局】 495m\\t【レンタルビデオ】...               木造                     2年間\n",
       "26         東京都台東区台東３丁目3-1  都営大江戸線\\t新御徒町駅\\t徒歩5分\\t\\t日比谷線\\t仲御徒町駅\\t徒歩7分\\t\\t山手...  1LDK    1年9ヶ月    南   41.6m2  12階／12階建  専用バス／\\t専用トイレ／\\tバス・トイレ別／\\tシャワー／\\t浴室乾燥機\\t／\\t温水洗浄...       ガスコンロ／\\tコンロ2口／\\tシステムキッチン\\t／\\t給湯／\\t独立キッチン                                 インターネット対応／\\t光ファイバー  エアコン付\\tウォークインクローゼット\\tシューズボックス／\\tバルコニー／\\tフローリング...   駐輪場\\t空有\\t駐車場\\t近隣\\t37,800円(税込)\\t距離300m\\tバイク置き場\\t無   【スーパー】 308m\\t【コンビニ】 124m\\t【コンビニ】 351m\\t【病院】 687m     RC（鉄筋コンクリート）                     2年間\n",
       "27            東京都足立区綾瀬６丁目  つくばエクスプレス\\t六町駅\\t徒歩12分\\t\\t千代田線\\t北綾瀬駅\\t徒歩10分\\t\\t...    1K   28年5ヶ月    西     14m2    2階／2階建                                               シャワー                                     ガスコンロ／\\t給湯                          高速インターネット／\\t光ファイバー／\\tCATV  エアコン付\\t出窓／\\tフローリング／\\t24時間換気システム\\t／\\t室内洗濯機置場／\\t...                                 駐輪場\\t空有\\tバイク置き場\\t無  【スーパー】 800m\\t【コンビニ】 176m\\t【ドラッグストア】 149m\\t【郵便局...               木造                     2年間\n",
       "28           東京都江戸川区船堀４丁目  都営新宿線\\t船堀駅\\t徒歩5分\\t\\t都営新宿線\\t一之江駅\\t徒歩23分\\t\\t都営新宿...  1LDK    8年4ヶ月   南西  46.21m2  10階／10階建                      シャワー／\\t追焚機能／\\t浴室乾燥機\\t／\\t洗面台独立                        コンロ3口／\\tシステムキッチン\\t／\\t給湯                                      光ファイバー／\\tCATV  エアコン付\\tシューズボックス／\\tバルコニー／\\tフローリング／\\t室内洗濯機置場／\\t敷...                                  駐輪場\\t無\\tバイク置き場\\t無  【コンビニ】 131m\\t【ドラッグストア】 226m\\t【コンビニ】 286m\\t【スーパ...     RC（鉄筋コンクリート）                     2年間\n",
       "29            東京都渋谷区上原２丁目  小田急小田原線\\t代々木上原駅\\t徒歩10分\\t\\t小田急小田原線\\t東北沢駅\\t徒歩8分\\...    1R   16年6ヶ月    東  31.21m2   1階／10階建  専用バス／\\t専用トイレ／\\tバス・トイレ別／\\tシャワー／\\t追焚機能／\\t浴室乾燥機\\t...                ガスコンロ／\\tコンロ3口／\\tシステムキッチン\\t／\\t給湯                          インターネット対応／\\t光ファイバー／\\tCATV  エアコン付\\tシューズボックス／\\tバルコニー／\\tフローリング／\\t2面採光／\\t室内洗濯...                         駐輪場\\t空有\\t駐車場\\t無\\tバイク置き場\\t無  【スーパー】 555m\\t【スーパー】 737m\\t【スーパー】 947m\\t【コンビニ】 ...     RC（鉄筋コンクリート）                     2年間\n",
       "...                   ...                                                ...   ...      ...  ...      ...       ...                                                ...                                            ...                                                ...                                                ...                                                ...                                                ...              ...                     ...\n",
       "62702         東京都墨田区本所１丁目  都営大江戸線\\t蔵前駅\\t徒歩7分\\t\\t都営大江戸線\\t両国(都営線)駅\\t徒歩11分\\t...    1K    4年8ヶ月    南  25.86m2    4階／9階建                     専用バス／\\t専用トイレ／\\tバス・トイレ別／\\t浴室乾燥機                                            NaN                           光ファイバー／\\tCSアンテナ／\\tBSアンテナ           エアコン付\\tバルコニー／\\tフローリング／\\t室内洗濯機置場／\\tエレベーター                                                NaN                                                NaN     RC（鉄筋コンクリート）                     NaN\n",
       "62703   東京都杉並区下高井戸１丁目19-2  京王線\\t桜上水駅\\t徒歩4分\\t\\t京王線\\t下高井戸駅\\t徒歩9分\\t\\t京王線\\t上北...    1K    5年7ヶ月   南東  35.62m2    2階／2階建  専用バス／\\t専用トイレ／\\tバス・トイレ別／\\tシャワー／\\t追焚機能／\\t浴室乾燥機\\t...                ガスコンロ／\\tコンロ2口／\\tシステムキッチン\\t／\\t給湯                 インターネット対応／\\tCATV／\\tCSアンテナ／\\tBSアンテナ  エアコン付\\tシューズボックス／\\tフローリング／\\t室内洗濯機置場／\\t敷地内ごみ置き場\\...   駐輪場\\t空有\\t駐車場\\t近隣\\t35,000円(税込)\\t距離300m\\tバイク置き場\\t無  【スーパー】 370m\\t【スーパー】 262m\\t【スーパー】 576m\\t【コンビニ】 ...               木造                     2年間\n",
       "62704     東京都千代田区神田淡路町２丁目  丸ノ内線(池袋－荻窪)\\t淡路町駅\\t徒歩2分\\t\\t千代田線\\t新御茶ノ水駅\\t徒歩4分\\...    1R   16年6ヶ月   南東  24.13m2   2階／11階建                専用バス／\\t専用トイレ／\\tバス・トイレ別／\\tシャワー／\\t脱衣所                ガスコンロ／\\tコンロ2口／\\tシステムキッチン\\t／\\t給湯                 インターネット対応／\\tCATV／\\tCSアンテナ／\\tBSアンテナ  エアコン付\\tシューズボックス／\\tバルコニー／\\tフローリング／\\t24時間換気システム\\...           駐車場\\t空有\\t35,000円(税込)\\t駐輪場\\t空有\\tバイク置き場\\t無  【スーパー】 763m\\t【スーパー】 623m\\t【コンビニ】 515m\\t【コンビニ】 ...     RC（鉄筋コンクリート）                     2年間\n",
       "62705       東京都品川区東五反田５丁目  山手線\\t五反田駅\\t徒歩2分\\t\\t都営浅草線\\t五反田駅\\t徒歩2分\\t\\t東急目黒線\\...    1K   12年9ヶ月   北東  27.98m2   9階／14階建                  バス・トイレ別／\\tシャワー／\\t浴室乾燥機\\t／\\t温水洗浄便座                                システムキッチン\\t／\\t給湯                                               CATV  エアコン付\\tシューズボックス／\\tバルコニー／\\tフローリング／\\t室内洗濯機置場／\\tエ...                                             駐車場\\t無  【小学校】 713m\\t【学校】 707m\\t【幼稚園・保育園】 149m\\t【郵便局】 3...  SRC（鉄骨鉄筋コンクリート）                     2年間\n",
       "62706   東京都足立区谷在家１丁目14-11  日暮里・舎人ライナー\\t谷在家駅\\t徒歩4分\\t\\t日暮里・舎人ライナー\\t西新井大師西駅\\...    1K   0年10ヶ月    北  26.51m2   9階／11階建  専用バス／\\t専用トイレ／\\tバス・トイレ別／\\tシャワー／\\t浴室乾燥機\\t／\\t温水洗浄...       ガスコンロ／\\tコンロ2口／\\tシステムキッチン\\t／\\t給湯／\\t独立キッチン                                          インターネット対応  エアコン付\\tシューズボックス／\\tバルコニー／\\tフローリング／\\t24時間換気システム\\...  駐輪場\\t空有\\tバイク置き場\\t空有\\t駐車場\\t近隣\\t12,960円(税込)\\t距離300m  【スーパー】 750m\\t【コンビニ】 363m\\t【コンビニ】 787m\\t【コンビニ】 ...     RC（鉄筋コンクリート）                     2年間\n",
       "62707         東京都台東区三筋１丁目  都営浅草線\\t蔵前駅\\t徒歩6分\\t\\t都営大江戸線\\t新御徒町駅\\t徒歩6分\\t\\t総武線...   2DK   30年2ヶ月    南  55.31m2    5階／6階建                             バス・トイレ別／\\tシャワー／\\t洗面台独立                                             給湯                 インターネット対応／\\t光ファイバー／\\tCATV／\\tBSアンテナ      エアコン付\\tバルコニー／\\t室内洗濯機置場／\\tエレベーター／\\tタイル張り\\t都市ガス                                駐輪場\\t空有\\tバイク置き場\\t空有  【スーパー】 352m\\t【スーパー】 398m\\t【スーパー】 408m\\t【コンビニ】 ...  SRC（鉄骨鉄筋コンクリート）                     2年間\n",
       "62708   東京都練馬区石神井台３丁目38-7        西武池袋線\\t大泉学園駅\\t徒歩12分\\t\\t西武池袋線\\t石神井公園駅\\t徒歩25分  2LDK    6年7ヶ月    南   53.5m2    1階／2階建             バス・トイレ別／\\tシャワー／\\t追焚機能／\\t温水洗浄便座／\\t洗面台独立               ガスコンロ／\\tコンロ3口／\\tカウンターキッチン\\t／\\t給湯                                                NaN  エアコン付\\tフローリング／\\tペアガラス／\\t室内洗濯機置場／\\t敷地内ごみ置き場\\t／\\...                         駐輪場\\t空有\\t駐車場\\t無\\tバイク置き場\\t無                                                NaN             軽量鉄骨                     2年間\n",
       "62709    東京都新宿区中落合３丁目4-11  西武池袋線\\t椎名町駅\\t徒歩9分\\t\\t都営大江戸線\\t落合南長崎駅\\t徒歩8分\\t\\t西...    1R   19年5ヶ月    西  27.37m2    4階／8階建              専用バス／\\t専用トイレ／\\tバス・トイレ別／\\tシャワー／\\t洗面台独立                ガスコンロ／\\tコンロ2口／\\tシステムキッチン\\t／\\t給湯                                 インターネット対応／\\t光ファイバー  エアコン付\\tシューズボックス／\\tバルコニー／\\tフローリング／\\t室内洗濯機置場／\\t敷...                        駐輪場\\t空有\\tバイク置き場\\t空有\\t駐車場\\t無  【スーパー】 167m\\t【スーパー】 525m\\t【コンビニ】 175m\\t【コンビニ】 ...     RC（鉄筋コンクリート）                     2年間\n",
       "62710       東京都江戸川区東葛西６丁目  東西線\\t葛西駅\\t徒歩5分\\t\\t東西線\\t西葛西駅\\t徒歩18分\\t\\t東西線\\t浦安(...   2DK   29年4ヶ月  NaN     42m2    3階／3階建                                     バス・トイレ別／\\tシャワー                                     ガスコンロ／\\t給湯                                                NaN  シューズボックス／\\tバルコニー／\\tフローリング／\\t室内洗濯機置場\\t公営水道／\\t下水...       駐輪場\\t空有\\t駐車場\\t近隣\\t20,000円\\t距離250m\\tバイク置き場\\t無  【スーパー】 51m\\t【コンビニ】 57m\\t【コンビニ】 131m\\t【ドラッグストア】...     RC（鉄筋コンクリート）                     2年間\n",
       "62711         東京都目黒区中根２丁目  東急東横線\\t都立大学駅\\t徒歩3分\\t\\t東急目黒線\\t大岡山駅\\t徒歩16分\\t\\t東急...    1K   20年6ヶ月  NaN  29.87m2    5階／6階建      専用バス／\\t専用トイレ／\\tバス・トイレ別／\\t温水洗浄便座／\\t洗面台独立／\\t脱衣所                       ガスコンロ／\\tコンロ2口／\\tシステムキッチン                    光ファイバー／\\tCATV／\\tCSアンテナ／\\tBSアンテナ  エアコン付\\tウォークインクローゼット\\tシューズボックス／\\tバルコニー／\\tフローリング...                                            駐輪場\\t空有  【スーパー】 270m\\t【スーパー】 283m\\t【コンビニ】 100m\\t【コンビニ】 ...     RC（鉄筋コンクリート）                     2年間\n",
       "62712        東京都文京区本駒込２丁目  南北線\\t本駒込駅\\t徒歩8分\\t\\t都営三田線\\t千石駅\\t徒歩2分\\t\\t山手線\\t巣鴨...   1DK   40年5ヶ月    西     26m2    4階／5階建                                専用バス／\\t専用トイレ／\\tシャワー                                     コンロ2口／\\t給湯                                      光ファイバー／\\tCATV  エアコン付\\tバルコニー／\\tフローリング／\\t室内洗濯機置場／\\tタイル張り\\t公営水道／...                                                NaN                                                NaN     RC（鉄筋コンクリート）                     NaN\n",
       "62713         東京都葛飾区柴又１丁目  京成金町線\\t柴又駅\\t徒歩3分\\t\\t京成本線\\t京成高砂駅\\t徒歩10分\\t\\t京成金町...  2LDK    3年1ヶ月    南  44.62m2    1階／2階建                      バス・トイレ別／\\tシャワー／\\t追焚機能／\\t洗面台独立                ガスコンロ／\\tコンロ3口／\\tシステムキッチン\\t／\\t給湯                                             光ファイバー           エアコン付\\tシューズボックス／\\tフローリング／\\t室内洗濯機置場\\t都市ガス      駐輪場\\t空有\\tバイク置き場\\t空有\\t駐車場\\t近隣\\t13,000円\\t距離200m  【スーパー】 286m\\t【コンビニ】 395m\\t【コンビニ】 366m\\t【スーパー】 ...               木造                     2年間\n",
       "62714   東京都世田谷区世田谷２丁目13-7  東急世田谷線\\t上町駅\\t徒歩2分\\t\\t東急世田谷線\\t世田谷駅\\t徒歩8分\\t\\t東急田...    1R    8年5ヶ月   南西     25m2    2階／5階建  専用バス／\\t専用トイレ／\\tバス・トイレ別／\\tシャワー／\\t浴室乾燥機\\t／\\t温水洗浄...                ガスコンロ／\\tコンロ2口／\\tシステムキッチン\\t／\\t給湯                    光ファイバー／\\tCATV／\\tCSアンテナ／\\tBSアンテナ  冷房／\\tエアコン付\\tシューズボックス／\\tバルコニー／\\tフローリング／\\t24時間換気...                                                NaN  【ドラッグストア】 120m\\t【ドラッグストア】 265m\\t【飲食店】 167m\\t【ス...     RC（鉄筋コンクリート）                     2年間\n",
       "62715     東京都渋谷区初台１丁目49-2  京王新線\\t初台駅\\t徒歩2分\\t\\t小田急小田原線\\t参宮橋駅\\t徒歩12分\\t\\t都営大...    1R   15年7ヶ月  NaN   30.3m2  10階／14階建  専用バス／\\t専用トイレ／\\tバス・トイレ別／\\t追焚機能／\\t浴室乾燥機\\t／\\t洗面台独...                       ガスコンロ／\\tコンロ2口／\\tシステムキッチン                    光ファイバー／\\tCATV／\\tCSアンテナ／\\tBSアンテナ  エアコン付\\tシューズボックス／\\tバルコニー／\\tフローリング／\\t室内洗濯機置場／\\t敷...                                                NaN  【スーパー】 619m\\t【コンビニ】 239m\\t【ドラッグストア】 193m\\t【郵便局...     RC（鉄筋コンクリート）                     2年間\n",
       "62716     東京都板橋区板橋２丁目17-9  都営三田線\\t板橋区役所前駅\\t徒歩7分\\t\\t埼京線\\t板橋駅\\t徒歩12分\\t\\t東武東...  2LDK   13年5ヶ月    南  58.09m2    6階／8階建  バス・トイレ別／\\tシャワー／\\t追焚機能／\\t浴室乾燥機\\t／\\t温水洗浄便座／\\t洗面台...  ガスコンロ／\\tコンロ3口／\\tシステムキッチン\\t／\\tカウンターキッチン\\t／\\t給湯                                 インターネット対応／\\t光ファイバー  エアコン付\\tシューズボックス／\\tバルコニー／\\tフローリング／\\t24時間換気システム\\...                  駐輪場\\t空有\\t駐車場\\t近隣\\t28,000円\\t距離150m  【スーパー】 440m\\t【コンビニ】 477m\\t【ドラッグストア】 526m\\t【図書館...     RC（鉄筋コンクリート）                     2年間\n",
       "62717     東京都世田谷区梅丘１丁目６－８  小田急小田原線\\t梅ケ丘駅\\t徒歩4分\\t\\t小田急小田原線\\t豪徳寺駅\\t徒歩9分\\t\\t...    1K   28年5ヶ月    西   18.9m2    2階／2階建                                     バス・トイレ別／\\tシャワー                             ガスコンロ／\\tコンロ2口／\\t給湯  インターネット対応／\\t高速インターネット／\\t光ファイバー／\\tCATV／\\tCSアンテナ...   エアコン付\\tシューズボックス／\\t出窓／\\t室内洗濯機置場\\t公営水道／\\t下水／\\t都市ガス                                  駐輪場\\t無\\tバイク置き場\\t無  【コンビニ】 140m\\t【スーパー】 278m\\t【スーパー】 463m\\t【スーパー】 ...               木造                     2年間\n",
       "62718           東京都板橋区中丸町                                   有楽町線\\t要町駅\\t徒歩12分    1K   28年0ヶ月    南  20.03m2    1階／2階建                      専用バス／\\t専用トイレ／\\tバス・トイレ別／\\tシャワー                                             給湯                                      光ファイバー／\\tCATV                      エアコン付\\tフローリング／\\t室内洗濯機置場\\t都市ガス                                                NaN                                                NaN             軽量鉄骨                     NaN\n",
       "62719         東京都葛飾区青戸４丁目  京成本線\\t青砥駅\\t徒歩8分\\t\\t京成本線\\tお花茶屋駅\\t徒歩13分\\t\\t京成押上線...   1DK   32年6ヶ月    西  28.38m2    2階／6階建                      専用バス／\\t専用トイレ／\\tバス・トイレ別／\\tシャワー                             ガスコンロ／\\tコンロ2口／\\t給湯                                 インターネット対応／\\t光ファイバー  エアコン付\\tシューズボックス／\\tバルコニー／\\tフローリング／\\t24時間換気システム\\...   駐輪場\\t空有\\t駐車場\\t近隣\\t21,600円(税込)\\t距離300m\\tバイク置き場\\t無  【スーパー】 50m\\t【スーパー】 630m\\t【小学校】 582m\\t【病院】 863m...     RC（鉄筋コンクリート）                     2年間\n",
       "62720     東京都世田谷区下馬１丁目5-3  東急東横線\\t祐天寺駅\\t徒歩11分\\t\\t東急東横線\\t学芸大学駅\\t徒歩15分\\t\\t東...   1DK   14年5ヶ月    東  30.67m2    3階／5階建  専用バス／\\t専用トイレ／\\tバス・トイレ別／\\tシャワー／\\t浴室乾燥機\\t／\\t洗面台独...                ガスコンロ／\\tコンロ2口／\\tシステムキッチン\\t／\\t給湯                           インターネット対応／\\tインターネット使用料無料  エアコン付\\tシューズボックス／\\tバルコニー／\\tフローリング／\\t2面採光／\\t室内洗濯...   駐輪場\\t空有\\t駐車場\\t近隣\\t37,800円(税込)\\t距離300m\\tバイク置き場\\t無  【コンビニ】 104m\\t【コンビニ】 309m\\t【スーパー】 383m\\t【スーパー】 ...     RC（鉄筋コンクリート）                     NaN\n",
       "62721         東京都中野区本町６丁目  丸ノ内線(池袋－荻窪)\\t新中野駅\\t徒歩3分\\t\\t中央線（快速）\\t中野(東京都)駅\\t...   2DK   31年5ヶ月    東  46.85m2    4階／5階建  専用バス／\\t専用トイレ／\\tバス・トイレ別／\\tシャワー／\\t追焚機能／\\t温水洗浄便座／...                ガスコンロ／\\tコンロ2口／\\tシステムキッチン\\t／\\t給湯                                      光ファイバー／\\tCATV  エアコン付\\tシューズボックス／\\tバルコニー／\\t室内洗濯機置場／\\tエレベーター\\t公営...                                            駐輪場\\t空有  【飲食店】 460m\\t【コンビニ】 410m\\t【コンビニ】 257m\\t【ドラッグストア...     RC（鉄筋コンクリート）                     2年間\n",
       "62722           東京都新宿区東榎町  東西線\\t神楽坂駅\\t徒歩4分\\t\\t有楽町線\\t江戸川橋駅\\t徒歩9分\\t\\t都営大江戸線...    1K    0年3ヶ月    北  25.73m2  13階／14階建  専用バス／\\t専用トイレ／\\tバス・トイレ別／\\t浴室乾燥機\\t／\\t温水洗浄便座／\\t洗面台独立                ガスコンロ／\\tコンロ2口／\\tシステムキッチン\\t／\\t給湯                     CSアンテナ／\\tBSアンテナ／\\tインターネット使用料無料     エアコン付\\tバルコニー／\\tフローリング／\\t室内洗濯機置場／\\tエレベーター\\t都市ガス                                             駐車場\\t無                                                NaN     RC（鉄筋コンクリート）                     2年間\n",
       "62723     東京都墨田区太平１丁目１５－５  総武線・中央線（各停）\\t錦糸町駅\\t徒歩9分\\t\\t半蔵門線\\t錦糸町駅\\t徒歩9分\\t\\...  1LDK    0年2ヶ月    東  40.85m2   9階／13階建  専用バス／\\t専用トイレ／\\tバス・トイレ別／\\tシャワー／\\t浴室乾燥機\\t／\\t温水洗浄...         ガスコンロ／\\tコンロ2口／\\tシステムキッチン\\t／\\tカウンターキッチン         インターネット対応／\\tCSアンテナ／\\tBSアンテナ／\\tインターネット使用料無料  冷房／\\tエアコン付\\tシューズボックス／\\tバルコニー／\\tフローリング／\\t24時間換気...                                            駐輪場\\t空有                                                NaN     RC（鉄筋コンクリート）                     NaN\n",
       "62724        東京都大田区東六郷３丁目  京急本線\\t六郷土手駅\\t徒歩6分\\t\\t京急大師線\\t港町駅\\t徒歩13分\\t\\t京急本線...  1LDK    0年9ヶ月    南  37.45m2    3階／5階建  専用バス／\\t専用トイレ／\\tバス・トイレ別／\\t追焚機能／\\t浴室乾燥機\\t／\\t温水洗浄...                ガスコンロ／\\tコンロ2口／\\tシステムキッチン\\t／\\t給湯      インターネット対応／\\t高速インターネット／\\t光ファイバー／\\tインターネット使用料無料  冷房／\\tエアコン付\\tシューズボックス／\\tバルコニー／\\tフローリング／\\t24時間換気...                           駐車場\\t近隣\\t30,000円\\t距離400m  【スーパー】 283m\\t【スーパー】 839m\\t【コンビニ】 322m\\t【コンビニ】 ...     RC（鉄筋コンクリート）                     NaN\n",
       "62725         東京都中野区本町６丁目  丸ノ内線(池袋－荻窪)\\t新中野駅\\t徒歩4分\\t\\t中央線（快速）\\t中野(東京都)駅\\t...    1K   2年11ヶ月    南  29.81m2    3階／3階建  専用トイレ／\\tバス・トイレ別／\\tシャワー／\\t浴室乾燥機\\t／\\t温水洗浄便座／\\t洗面台独立                コンロ設置可（コンロ2口）／\\tシステムキッチン\\t／\\t給湯         インターネット対応／\\tCSアンテナ／\\tBSアンテナ／\\tインターネット使用料無料         エアコン付\\tシューズボックス／\\tバルコニー／\\tフローリング／\\t室内洗濯機置場                                                NaN                                                NaN              鉄骨造                     NaN\n",
       "62726       東京都大田区田園調布１丁目  東急東横線\\t多摩川駅\\t徒歩10分\\t\\t東急池上線\\t雪が谷大塚駅\\t徒歩9分\\t\\t東...  2LDK    7年5ヶ月    南  66.37m2       2階建  専用バス／\\t専用トイレ／\\tバス・トイレ別／\\t追焚機能／\\t浴室乾燥機\\t／\\t温水洗浄...                             IHコンロ\\t／\\tシステムキッチン     インターネット対応／\\t高速インターネット／\\t光ファイバー／\\tCATV／\\tBSアンテナ  冷房／\\tエアコン付\\t床下収納\\tシューズボックス／\\tバルコニー／\\tフローリング／\\t...                           駐車場\\t近隣\\t30,000円\\t距離400m  【スーパー】 523m\\t【スーパー】 696m\\t【コンビニ】 381m\\t【ドラッグスト...               木造                     NaN\n",
       "62727        東京都豊島区上池袋４丁目  埼京線\\t板橋駅\\t徒歩3分\\t\\t都営三田線\\t新板橋駅\\t徒歩9分\\t\\t東武東上線\\t...    1K    0年1ヶ月    東  25.66m2    6階／8階建  専用バス／\\t専用トイレ／\\tバス・トイレ別／\\tシャワー／\\t浴室乾燥機\\t／\\t温水洗浄...                ガスコンロ／\\tコンロ2口／\\tシステムキッチン\\t／\\t給湯  インターネット対応／\\t光ファイバー／\\tCATV／\\tCSアンテナ／\\tBSアンテナ／\\t...  エアコン付\\tシューズボックス／\\tバルコニー／\\tフローリング／\\t室内洗濯機置場／\\t敷...                          駐車場\\t無\\t駐輪場\\t無\\tバイク置き場\\t無  【コンビニ】 204m\\t【スーパー】 284m\\t【スーパー】 496m\\t【コンビニ】 ...     RC（鉄筋コンクリート）                     2年間\n",
       "62728       東京都千代田区岩本町２丁目  都営新宿線\\t岩本町駅\\t徒歩2分\\t\\t山手線\\t秋葉原駅\\t徒歩4分\\t\\t日比谷線\\t...    1R   15年6ヶ月    南  22.71m2   8階／15階建                        専用バス／\\t専用トイレ／\\tシャワー／\\t浴室乾燥機            ガスコンロ／\\tコンロ2口／\\tシステムキッチン\\t／\\t独立キッチン  インターネット対応／\\t高速インターネット／\\t光ファイバー／\\tCATV／\\tCSアンテナ...  冷房／\\tエアコン付\\tシューズボックス／\\tバルコニー／\\tフローリング／\\t24時間換気...                          駐車場\\t空有\\t43,200円\\t駐輪場\\t空有                                                NaN     RC（鉄筋コンクリート）                     NaN\n",
       "62729    東京都中野区江古田３丁目14-3  都営大江戸線\\t新江古田駅\\t徒歩10分\\t\\t西武池袋線\\t江古田駅\\t徒歩20分\\t\\t...  1LDK    1年0ヶ月   南東  45.76m2  10階／14階建                     バス・トイレ別／\\tシャワー／\\t追焚機能／\\t温水洗浄便座                             ガスコンロ／\\tコンロ3口／\\t給湯                    インターネット対応／\\tCATV／\\tインターネット使用料無料  エアコン付／\\t床暖房\\tフローリング／\\t室内洗濯機置場／\\t敷地内ごみ置き場\\t／\\tエ...           駐車場\\t空有\\t32,400円(税込)\\t駐輪場\\t空有\\tバイク置き場\\t無                                                NaN     RC（鉄筋コンクリート）  2年間\\t※この物件は\\t定期借家\\tです。\n",
       "62730          東京都千代田区二番町  有楽町線\\t麹町駅\\t徒歩3分\\t\\t丸ノ内線(池袋－荻窪)\\t四ツ谷駅\\t徒歩4分\\t\\t...    1K   15年4ヶ月    北   55.2m2  14階／14階建  専用バス／\\t専用トイレ／\\tバス・トイレ別／\\tシャワー／\\t追焚機能／\\t浴室乾燥機\\t...          IHコンロ\\t／\\tコンロ3口／\\tシステムキッチン\\t／\\t独立キッチン  インターネット対応／\\t高速インターネット／\\t光ファイバー／\\tCATV／\\tCSアンテナ...  冷房／\\tエアコン付／\\t床暖房\\tバルコニー／\\tフローリング／\\t24時間換気システム\\...                                            駐輪場\\t空有                                                NaN  SRC（鉄骨鉄筋コンクリート）                     NaN\n",
       "62731        東京都大田区南馬込６丁目  都営浅草線\\t西馬込駅\\t徒歩8分\\t\\t東急池上線\\t池上駅\\t徒歩19分\\t\\t都営浅草...    1K   16年3ヶ月    南  21.18m2    5階／5階建   専用バス／\\t専用トイレ／\\tバス・トイレ別／\\tシャワー／\\t浴室乾燥機\\t／\\t温水洗浄便座                        コンロ2口／\\tシステムキッチン\\t／\\t給湯             光ファイバー／\\tCATV／\\tCSアンテナ／\\tBSアンテナ／\\t有線放送  エアコン付\\tシューズボックス／\\tバルコニー／\\tフローリング／\\t室内洗濯機置場／\\tエ...                                                NaN                                                NaN     RC（鉄筋コンクリート）                     NaN\n",
       "\n",
       "[62732 rows x 15 columns]"
      ]
     },
     "execution_count": 26,
     "metadata": {},
     "output_type": "execute_result"
    }
   ],
   "source": [
    "total_data"
   ]
  },
  {
   "cell_type": "markdown",
   "metadata": {},
   "source": [
    "# Delete some columns "
   ]
  },
  {
   "cell_type": "code",
   "execution_count": 27,
   "metadata": {},
   "outputs": [],
   "source": [
    "# total_data.columns"
   ]
  },
  {
   "cell_type": "code",
   "execution_count": 28,
   "metadata": {},
   "outputs": [],
   "source": [
    "# total_data = total_data.drop(columns=[\"アクセス\", \"バス・トイレ\", \"キッチン\", \"放送・通信\", \"駐車場\", \"周辺環境\"])"
   ]
  },
  {
   "cell_type": "markdown",
   "metadata": {},
   "source": [
    "# Convert 全角 to 半角"
   ]
  },
  {
   "cell_type": "code",
   "execution_count": 29,
   "metadata": {},
   "outputs": [
    {
     "name": "stdout",
     "output_type": "stream",
     "text": [
      "所在地\n",
      "アクセス\n",
      "間取り\n",
      "築年数\n",
      "方角\n",
      "面積\n",
      "所在階\n",
      "バス・トイレ\n",
      "キッチン\n",
      "放送・通信\n",
      "室内設備\n",
      "駐車場\n",
      "周辺環境\n",
      "建物構造\n",
      "契約期間\n"
     ]
    }
   ],
   "source": [
    "for column in total_data.columns:\n",
    "    if column == \"id\":\n",
    "        pass\n",
    "    else:\n",
    "        print(column)\n",
    "        total_data[column] = total_data[column].str.translate(str.maketrans({chr(0xFF01 + i): chr(0x21 + i) for i in range(94)}))"
   ]
  },
  {
   "cell_type": "markdown",
   "metadata": {},
   "source": [
    "## Convert 築年数"
   ]
  },
  {
   "cell_type": "markdown",
   "metadata": {},
   "source": [
    "## Replace 新築"
   ]
  },
  {
   "cell_type": "code",
   "execution_count": 30,
   "metadata": {},
   "outputs": [
    {
     "data": {
      "text/plain": [
       "771"
      ]
     },
     "execution_count": 30,
     "metadata": {},
     "output_type": "execute_result"
    }
   ],
   "source": [
    "total_data[\"築年数\"].nunique()"
   ]
  },
  {
   "cell_type": "code",
   "execution_count": 31,
   "metadata": {},
   "outputs": [
    {
     "data": {
      "text/html": [
       "<div>\n",
       "<style scoped>\n",
       "    .dataframe tbody tr th:only-of-type {\n",
       "        vertical-align: middle;\n",
       "    }\n",
       "\n",
       "    .dataframe tbody tr th {\n",
       "        vertical-align: top;\n",
       "    }\n",
       "\n",
       "    .dataframe thead th {\n",
       "        text-align: right;\n",
       "    }\n",
       "</style>\n",
       "<table border=\"1\" class=\"dataframe\">\n",
       "  <thead>\n",
       "    <tr style=\"text-align: right;\">\n",
       "      <th></th>\n",
       "      <th>0</th>\n",
       "      <th>1</th>\n",
       "    </tr>\n",
       "  </thead>\n",
       "  <tbody>\n",
       "    <tr>\n",
       "      <th>0</th>\n",
       "      <td>9</td>\n",
       "      <td>9ヶ月</td>\n",
       "    </tr>\n",
       "    <tr>\n",
       "      <th>1</th>\n",
       "      <td>44</td>\n",
       "      <td>10ヶ月</td>\n",
       "    </tr>\n",
       "    <tr>\n",
       "      <th>2</th>\n",
       "      <td>8</td>\n",
       "      <td>6ヶ月</td>\n",
       "    </tr>\n",
       "    <tr>\n",
       "      <th>3</th>\n",
       "      <td>29</td>\n",
       "      <td>4ヶ月</td>\n",
       "    </tr>\n",
       "    <tr>\n",
       "      <th>4</th>\n",
       "      <td>31</td>\n",
       "      <td>7ヶ月</td>\n",
       "    </tr>\n",
       "  </tbody>\n",
       "</table>\n",
       "</div>"
      ],
      "text/plain": [
       "    0     1\n",
       "0   9   9ヶ月\n",
       "1  44  10ヶ月\n",
       "2   8   6ヶ月\n",
       "3  29   4ヶ月\n",
       "4  31   7ヶ月"
      ]
     },
     "execution_count": 31,
     "metadata": {},
     "output_type": "execute_result"
    }
   ],
   "source": [
    "total_data[\"築年数\"].str.split(\"年\", expand=True).head()"
   ]
  },
  {
   "cell_type": "code",
   "execution_count": 32,
   "metadata": {
    "scrolled": true
   },
   "outputs": [],
   "source": [
    "total_data[\"築年数\"] = total_data[\"築年数\"].replace(\"新築\", \"0年0ヶ月\")\n",
    "total_data[\"築年数_0\"] = total_data[\"築年数\"].str.split(\"年\", expand=True)[0].astype(int)\n",
    "total_data[\"築年数_1\"] = total_data[\"築年数\"].str.split(\"年\", expand=True)[1].str.replace(\"ヶ月\", \"\").astype(int)\n",
    "total_data = total_data.drop(\"築年数\", axis=1)\n",
    "total_data[\"築年数_月\"] = total_data[\"築年数_0\"] * 12 + total_data[\"築年数_1\"]\n",
    "total_data = total_data.drop(columns=[\"築年数_0\",\"築年数_1\"])"
   ]
  },
  {
   "cell_type": "code",
   "execution_count": 33,
   "metadata": {},
   "outputs": [
    {
     "data": {
      "text/plain": [
       "0    117\n",
       "1    538\n",
       "2    102\n",
       "3    352\n",
       "4    379\n",
       "Name: 築年数_月, dtype: int64"
      ]
     },
     "execution_count": 33,
     "metadata": {},
     "output_type": "execute_result"
    }
   ],
   "source": [
    "total_data[\"築年数_月\"][:5]"
   ]
  },
  {
   "cell_type": "markdown",
   "metadata": {},
   "source": [
    "# 方角EDA"
   ]
  },
  {
   "cell_type": "code",
   "execution_count": 34,
   "metadata": {},
   "outputs": [
    {
     "data": {
      "text/plain": [
       "array(['南東', nan, '南', '東', '北西', '西', '北', '南西', '北東'], dtype=object)"
      ]
     },
     "execution_count": 34,
     "metadata": {},
     "output_type": "execute_result"
    }
   ],
   "source": [
    "total_data[\"方角\"].unique()"
   ]
  },
  {
   "cell_type": "markdown",
   "metadata": {},
   "source": [
    "## 面積EDA"
   ]
  },
  {
   "cell_type": "code",
   "execution_count": 35,
   "metadata": {
    "scrolled": true
   },
   "outputs": [],
   "source": [
    "total_data[\"面積\"] = total_data[\"面積\"].str.replace(\"m2\", \"\").astype(np.float)"
   ]
  },
  {
   "cell_type": "code",
   "execution_count": 36,
   "metadata": {},
   "outputs": [
    {
     "data": {
      "text/plain": [
       "0    20.01\n",
       "1    16.50\n",
       "2    22.05\n",
       "3    60.48\n",
       "4    39.66\n",
       "Name: 面積, dtype: float64"
      ]
     },
     "execution_count": 36,
     "metadata": {},
     "output_type": "execute_result"
    }
   ],
   "source": [
    "total_data[\"面積\"][:5]"
   ]
  },
  {
   "cell_type": "markdown",
   "metadata": {},
   "source": [
    "# 所在階"
   ]
  },
  {
   "cell_type": "code",
   "execution_count": 37,
   "metadata": {},
   "outputs": [
    {
     "data": {
      "text/plain": [
       "0     1階/12階建\n",
       "1     5階/10階建\n",
       "2    12階/15階建\n",
       "3      3階/4階建\n",
       "4      1階/2階建\n",
       "Name: 所在階, dtype: object"
      ]
     },
     "execution_count": 37,
     "metadata": {},
     "output_type": "execute_result"
    }
   ],
   "source": [
    "total_data[\"所在階\"][:5]"
   ]
  },
  {
   "cell_type": "code",
   "execution_count": 38,
   "metadata": {},
   "outputs": [
    {
     "data": {
      "text/plain": [
       "40674    NaN\n",
       "Name: 所在階, dtype: object"
      ]
     },
     "execution_count": 38,
     "metadata": {},
     "output_type": "execute_result"
    }
   ],
   "source": [
    "total_data[\"所在階\"][total_data[\"所在階\"].isna()]"
   ]
  },
  {
   "cell_type": "code",
   "execution_count": 39,
   "metadata": {},
   "outputs": [],
   "source": [
    "total_data[\"所在階\"] = total_data[\"所在階\"].fillna(\"0\")"
   ]
  },
  {
   "cell_type": "code",
   "execution_count": 40,
   "metadata": {},
   "outputs": [
    {
     "name": "stderr",
     "output_type": "stream",
     "text": [
      "/home/amar/.local/lib/python3.6/site-packages/ipykernel_launcher.py:1: SettingWithCopyWarning: \n",
      "A value is trying to be set on a copy of a slice from a DataFrame\n",
      "\n",
      "See the caveats in the documentation: http://pandas.pydata.org/pandas-docs/stable/indexing.html#indexing-view-versus-copy\n",
      "  \"\"\"Entry point for launching an IPython kernel.\n"
     ]
    }
   ],
   "source": [
    "total_data[\"所在階\"][~total_data[\"所在階\"].str.contains(\"/\")] = \"/\" + total_data[\"所在階\"][~total_data[\"所在階\"].str.contains(\"/\")]"
   ]
  },
  {
   "cell_type": "code",
   "execution_count": 41,
   "metadata": {},
   "outputs": [],
   "source": [
    "# total_data[\"所在階\"].str.split(\"/\", expand=True)[1].str.split(\"(\", expand=True)[1].str.rstrip(\")\").unique()\n",
    "total_data[\"階建\"] = total_data[\"所在階\"].str.split(\"/\", expand=True)[1]\n",
    "total_data[\"所在階\"] = total_data[\"所在階\"].str.split(\"/\", expand=True)[0]"
   ]
  },
  {
   "cell_type": "code",
   "execution_count": 42,
   "metadata": {},
   "outputs": [],
   "source": [
    "total_data[\"所在階\"] = total_data[\"所在階\"].str.replace(\"階\", \"\")"
   ]
  },
  {
   "cell_type": "code",
   "execution_count": 43,
   "metadata": {},
   "outputs": [],
   "source": [
    "total_data[\"所在階_地下\"] = total_data[\"所在階\"].str.split(\"地下\", expand=True)[1]"
   ]
  },
  {
   "cell_type": "code",
   "execution_count": 44,
   "metadata": {
    "scrolled": true
   },
   "outputs": [
    {
     "data": {
      "text/plain": [
       "array([None, '4', '2', '1', '3', '8', '9', '10', '7', '15', '5', '6'],\n",
       "      dtype=object)"
      ]
     },
     "execution_count": 44,
     "metadata": {},
     "output_type": "execute_result"
    }
   ],
   "source": [
    "total_data[\"所在階_地下\"].unique()"
   ]
  },
  {
   "cell_type": "code",
   "execution_count": 45,
   "metadata": {},
   "outputs": [],
   "source": [
    "total_data[\"所在階\"] = total_data[\"所在階\"].str.split(\"地下\", expand=True)[0]"
   ]
  },
  {
   "cell_type": "code",
   "execution_count": 46,
   "metadata": {},
   "outputs": [],
   "source": [
    "total_data[\"所在階\"] = total_data[\"所在階\"].replace(\"\", 0).astype(int)"
   ]
  },
  {
   "cell_type": "code",
   "execution_count": 47,
   "metadata": {},
   "outputs": [
    {
     "data": {
      "text/plain": [
       "<matplotlib.axes._subplots.AxesSubplot at 0x7f252db86278>"
      ]
     },
     "execution_count": 47,
     "metadata": {},
     "output_type": "execute_result"
    },
    {
     "data": {
      "image/png": "[encoded data removed]",
      "text/plain": [
       "<Figure size 432x288 with 1 Axes>"
      ]
     },
     "metadata": {
      "needs_background": "light"
     },
     "output_type": "display_data"
    }
   ],
   "source": [
    "total_data[\"所在階\"].hist()"
   ]
  },
  {
   "cell_type": "code",
   "execution_count": 48,
   "metadata": {},
   "outputs": [],
   "source": [
    "total_data[\"所在階_地下\"] = total_data[\"所在階_地下\"].fillna(0).astype(int)"
   ]
  },
  {
   "cell_type": "code",
   "execution_count": 49,
   "metadata": {},
   "outputs": [
    {
     "data": {
      "text/plain": [
       "<matplotlib.axes._subplots.AxesSubplot at 0x7f252002eb00>"
      ]
     },
     "execution_count": 49,
     "metadata": {},
     "output_type": "execute_result"
    },
    {
     "data": {
      "image/png": "[encoded data removed]",
      "text/plain": [
       "<Figure size 432x288 with 1 Axes>"
      ]
     },
     "metadata": {
      "needs_background": "light"
     },
     "output_type": "display_data"
    }
   ],
   "source": [
    "total_data[\"所在階_地下\"].hist()"
   ]
  },
  {
   "cell_type": "code",
   "execution_count": 50,
   "metadata": {},
   "outputs": [
    {
     "data": {
      "text/plain": [
       "array(['12階建', '10階建', '15階建', '4階建', '2階建', '8階建', '6階建', '9階建', '3階建',\n",
       "       '11階建', '5階建', '42階建', '11階建(地下1階)', '7階建', '7階建(地下1階)',\n",
       "       '4階建(地下2階)', '13階建', '14階建', '19階建', '22階建', '18階建', '14階建(地下1階)',\n",
       "       '12階建(地下1階)', '13階建(地下2階)', '3階建(地下1階)', '15階建(地下1階)',\n",
       "       '32階建(地下2階)', '16階建', '58階建(地下2階)', '38階建(地下2階)', '54階建', '58階建',\n",
       "       '43階建', '16階建(地下2階)', '10階建(地下1階)', '4階建(地下1階)', '8階建(地下1階)',\n",
       "       '5階建(地下1階)', '6階建(地下1階)', '17階建', '53階建', '25階建', '24階建',\n",
       "       '17階建(地下1階)', '21階建', '28階建(地下1階)', '43階建(地下3階)', '10階建(地下5階)',\n",
       "       '22階建(地下1階)', '2階建(地下1階)', '27階建(地下1階)', '9階建(地下1階)', '14階建(地下2階)',\n",
       "       '23階建', '27階建', '28階建(地下2階)', '25階建(地下2階)', '1階建', '39階建(地下1階)',\n",
       "       '33階建(地下2階)', '50階建', '10階建(地下2階)', '41階建', '40階建(地下1階)',\n",
       "       '2階建(地下2階)', '39階建(地下2階)', '30階建', '34階建(地下2階)', '2階',\n",
       "       '36階建(地下2階)', '15階建(地下2階)', '35階建', '47階建', '19階建(地下2階)', '20階建',\n",
       "       '36階建', '20階建(地下1階)', '26階建(地下1階)', '44階建', '3階', '37階建(地下1階)',\n",
       "       '49階建', '33階建', '25階建(地下1階)', '53階建(地下2階)', '13階建(地下1階)',\n",
       "       '30階建(地下3階)', '3階建(地下3階)', '52階建', '48階建', '48階建(地下1階)',\n",
       "       '20階建(地下2階)', '39階建', '18階建(地下2階)', '24階建(地下1階)', '56階建',\n",
       "       '49階建(地下2階)', '28階建(地下4階)', '5階建(地下3階)', '40階建', '42階建(地下3階)',\n",
       "       '24階建(地下2階)', '21階建(地下2階)', '26階建(地下2階)', '29階建', '21階建(地下1階)',\n",
       "       '37階建', '33階建(地下1階)', '22階建(地下2階)', '9階建(地下2階)', '35階建(地下1階)',\n",
       "       '28階建', '43階建(地下2階)', '35階建(地下4階)', '31階建', '19階建(地下1階)',\n",
       "       '32階建(地下1階)', '26階建', '23階建(地下1階)', '12階建(地下7階)', '47階建(地下2階)',\n",
       "       '1階', '32階建', '44階建(地下4階)', '30階建(地下2階)', '16階建(地下1階)',\n",
       "       '18階建(地下1階)', '40階建(地下2階)', '29階建(地下1階)', '38階建', '52階建(地下1階)',\n",
       "       '45階建', '47階建(地下1階)', '4階建(地下3階)', '30階建(地下1階)', '8階建(地下2階)',\n",
       "       '45階建(地下2階)', '34階建', '6階建(地下2階)', '49階建(地下1階)', '27階建(地下3階)',\n",
       "       '5階建(地下2階)', '5階', '31階建(地下2階)', '54階建(地下3階)', '55階建',\n",
       "       '11階建(地下2階)', '5階建(地下5階)', '56階建(地下2階)', '36階建(地下1階)',\n",
       "       '37階建(地下2階)', '52階建(地下5階)', '44階建(地下2階)', '14階建(地下4階)',\n",
       "       '28階建(地下3階)', '30階建(地下4階)', '36階建(地下4階)', '54階建(地下2階)',\n",
       "       '15階建(地下3階)', '4階建(地下4階)', '35階建(地下2階)', '31階建(地下1階)', '3階建(地下2階)',\n",
       "       '8階建(地下8階)', '10階建(地下3階)', '34階建(地下1階)', '42階建(地下2階)',\n",
       "       '29階建(地下2階)', '8階建(地下7階)', '8階建(地下3階)', '7階建(地下2階)', '2階建(地下4階)',\n",
       "       '43階建(地下1階)', '23階建(地下2階)', '45階建(地下3階)', '16階建(地下3階)',\n",
       "       '44階建(地下1階)', '9階建(地下9階)', '10階建(地下6階)', '14階建(地下9階)',\n",
       "       '12階建(地下3階)', '4階', '12階建(地下2階)', '32階建(地下4階)', '41階建(地下2階)',\n",
       "       '27階建(地下2階)', '39階建(地下3階)', '8階', '60階建(地下2階)', '0', '55階建(地下2階)',\n",
       "       '53階建(地下1階)', '8階建(地下4階)', '11階建(地下3階)', '8階建(地下6階)', '6階', '7階',\n",
       "       '6階建(地下3階)', '47階建(地下4階)', '7階建(地下3階)', '25階建(地下3階)', '52階建(地下2階)',\n",
       "       '29階建(地下3階)', '11階建(地下5階)'], dtype=object)"
      ]
     },
     "execution_count": 50,
     "metadata": {},
     "output_type": "execute_result"
    }
   ],
   "source": [
    "total_data[\"階建\"].unique()"
   ]
  },
  {
   "cell_type": "code",
   "execution_count": 51,
   "metadata": {},
   "outputs": [],
   "source": [
    "total_data[\"階建\"] = total_data[\"階建\"].str.replace(\"階建\", \"\")\n",
    "total_data[\"階建\"] = total_data[\"階建\"].str.replace(\"階\", \"\")"
   ]
  },
  {
   "cell_type": "code",
   "execution_count": 52,
   "metadata": {},
   "outputs": [],
   "source": [
    "total_data[\"階建_地下\"] = total_data[\"階建\"].str.split(\"(\", expand=True)[1]\n",
    "total_data[\"階建\"] = total_data[\"階建\"].str.split(\"(\", expand=True)[0].astype(int)"
   ]
  },
  {
   "cell_type": "code",
   "execution_count": 53,
   "metadata": {},
   "outputs": [],
   "source": [
    "total_data[\"階建_地下\"] = total_data[\"階建_地下\"].str.replace(\"地下\", \"\").str.replace(\")\", \"\").fillna(0).astype(int)"
   ]
  },
  {
   "cell_type": "code",
   "execution_count": 54,
   "metadata": {},
   "outputs": [
    {
     "data": {
      "text/html": [
       "<div>\n",
       "<style scoped>\n",
       "    .dataframe tbody tr th:only-of-type {\n",
       "        vertical-align: middle;\n",
       "    }\n",
       "\n",
       "    .dataframe tbody tr th {\n",
       "        vertical-align: top;\n",
       "    }\n",
       "\n",
       "    .dataframe thead th {\n",
       "        text-align: right;\n",
       "    }\n",
       "</style>\n",
       "<table border=\"1\" class=\"dataframe\">\n",
       "  <thead>\n",
       "    <tr style=\"text-align: right;\">\n",
       "      <th></th>\n",
       "      <th>所在地</th>\n",
       "      <th>アクセス</th>\n",
       "      <th>間取り</th>\n",
       "      <th>方角</th>\n",
       "      <th>面積</th>\n",
       "      <th>所在階</th>\n",
       "      <th>バス・トイレ</th>\n",
       "      <th>キッチン</th>\n",
       "      <th>放送・通信</th>\n",
       "      <th>室内設備</th>\n",
       "      <th>駐車場</th>\n",
       "      <th>周辺環境</th>\n",
       "      <th>建物構造</th>\n",
       "      <th>契約期間</th>\n",
       "      <th>築年数_月</th>\n",
       "      <th>階建</th>\n",
       "      <th>所在階_地下</th>\n",
       "      <th>階建_地下</th>\n",
       "    </tr>\n",
       "  </thead>\n",
       "  <tbody>\n",
       "    <tr>\n",
       "      <th>0</th>\n",
       "      <td>東京都北区滝野川3丁目</td>\n",
       "      <td>都営三田線\\t西巣鴨駅\\t徒歩4分\\t\\t埼京線\\t板橋駅\\t徒歩14分\\t\\t都電荒川線\\...</td>\n",
       "      <td>1K</td>\n",
       "      <td>南東</td>\n",
       "      <td>20.01</td>\n",
       "      <td>1</td>\n",
       "      <td>専用バス/\\t専用トイレ/\\tバス・トイレ別/\\tシャワー/\\t浴室乾燥機\\t/\\t温水洗浄便座</td>\n",
       "      <td>ガスコンロ/\\tコンロ2口/\\tシステムキッチン\\t/\\t給湯</td>\n",
       "      <td>インターネット対応/\\tCATV/\\tCSアンテナ/\\tBSアンテナ</td>\n",
       "      <td>エアコン付\\tシューズボックス/\\tバルコニー/\\tフローリング/\\t室内洗濯機置場/\\t敷...</td>\n",
       "      <td>駐輪場\\t空有</td>\n",
       "      <td>【小学校】 495m\\t【大学】 461m\\t【小学校】 962m\\t【公園】 1103m\\...</td>\n",
       "      <td>RC(鉄筋コンクリート)</td>\n",
       "      <td>2年間</td>\n",
       "      <td>117</td>\n",
       "      <td>12</td>\n",
       "      <td>0</td>\n",
       "      <td>0</td>\n",
       "    </tr>\n",
       "    <tr>\n",
       "      <th>1</th>\n",
       "      <td>東京都中央区月島3丁目</td>\n",
       "      <td>都営大江戸線\\t勝どき駅\\t徒歩5分\\t\\t有楽町線\\t月島駅\\t徒歩9分\\t\\t日比谷線\\...</td>\n",
       "      <td>1R</td>\n",
       "      <td>NaN</td>\n",
       "      <td>16.50</td>\n",
       "      <td>5</td>\n",
       "      <td>専用トイレ/\\tシャワー/\\t温水洗浄便座</td>\n",
       "      <td>ガスコンロ/\\tシステムキッチン\\t/\\t給湯</td>\n",
       "      <td>インターネット対応</td>\n",
       "      <td>エアコン付\\tシューズボックス/\\tバルコニー/\\tフローリング/\\t室内洗濯機置場/\\t敷...</td>\n",
       "      <td>駐輪場\\t空有\\t駐車場\\t無\\tバイク置き場\\t無</td>\n",
       "      <td>【スーパー】 1283m</td>\n",
       "      <td>鉄骨造</td>\n",
       "      <td>2年間</td>\n",
       "      <td>538</td>\n",
       "      <td>10</td>\n",
       "      <td>0</td>\n",
       "      <td>0</td>\n",
       "    </tr>\n",
       "    <tr>\n",
       "      <th>2</th>\n",
       "      <td>東京都渋谷区笹塚2丁目</td>\n",
       "      <td>京王線\\t笹塚駅\\t徒歩6分\\t\\t京王線\\t代田橋駅\\t徒歩7分\\t\\t京王線\\t明大前駅...</td>\n",
       "      <td>1K</td>\n",
       "      <td>南</td>\n",
       "      <td>22.05</td>\n",
       "      <td>12</td>\n",
       "      <td>専用バス/\\t専用トイレ/\\tバス・トイレ別/\\tシャワー/\\t浴室乾燥機\\t/\\t温水洗浄...</td>\n",
       "      <td>ガスコンロ/\\tコンロ2口/\\tシステムキッチン\\t/\\t給湯</td>\n",
       "      <td>インターネット対応/\\t光ファイバー/\\tCSアンテナ/\\tBSアンテナ</td>\n",
       "      <td>エアコン付\\tウォークインクローゼット\\tシューズボックス/\\tバルコニー/\\tフローリング...</td>\n",
       "      <td>駐輪場\\t空有\\tバイク置き場\\t空有\\t駐車場\\t近隣\\t30,000円(税込)\\t距離100m</td>\n",
       "      <td>【スーパー】 89m\\t【コンビニ】 184m\\t【コンビニ】 392m\\t【スーパー】 492m</td>\n",
       "      <td>RC(鉄筋コンクリート)</td>\n",
       "      <td>2年間</td>\n",
       "      <td>102</td>\n",
       "      <td>15</td>\n",
       "      <td>0</td>\n",
       "      <td>0</td>\n",
       "    </tr>\n",
       "    <tr>\n",
       "      <th>3</th>\n",
       "      <td>東京都杉並区高円寺南2丁目23-2</td>\n",
       "      <td>総武線・中央線(各停)\\t高円寺駅\\t徒歩9分\\t\\t丸ノ内線(池袋-荻窪)\\t新高円寺駅\\...</td>\n",
       "      <td>2LDK</td>\n",
       "      <td>南</td>\n",
       "      <td>60.48</td>\n",
       "      <td>3</td>\n",
       "      <td>専用バス/\\t専用トイレ/\\tバス・トイレ別/\\tシャワー/\\t温水洗浄便座/\\t洗面台独立</td>\n",
       "      <td>ガスコンロ/\\t給湯</td>\n",
       "      <td>インターネット対応/\\t光ファイバー</td>\n",
       "      <td>エアコン付\\tシューズボックス/\\tバルコニー/\\t2面採光/\\t室内洗濯機置場/\\tエレベ...</td>\n",
       "      <td>駐車場\\t無\\t駐輪場\\t無\\tバイク置き場\\t無</td>\n",
       "      <td>【スーパー】 225m\\t【スーパー】 448m\\t【スーパー】 619m\\t【スーパー】 ...</td>\n",
       "      <td>RC(鉄筋コンクリート)</td>\n",
       "      <td>2年間\\t※この物件は\\t定期借家\\tです。</td>\n",
       "      <td>352</td>\n",
       "      <td>4</td>\n",
       "      <td>0</td>\n",
       "      <td>0</td>\n",
       "    </tr>\n",
       "    <tr>\n",
       "      <th>4</th>\n",
       "      <td>東京都葛飾区金町3丁目7-2</td>\n",
       "      <td>京成金町線\\t京成金町駅\\t徒歩5分\\t\\t常磐線\\t金町(東京都)駅\\t徒歩7分\\t\\t京...</td>\n",
       "      <td>2DK</td>\n",
       "      <td>南</td>\n",
       "      <td>39.66</td>\n",
       "      <td>1</td>\n",
       "      <td>専用バス/\\t専用トイレ/\\tバス・トイレ別/\\tシャワー/\\t追焚機能</td>\n",
       "      <td>給湯/\\t独立キッチン</td>\n",
       "      <td>NaN</td>\n",
       "      <td>バルコニー/\\tフローリング/\\t室内洗濯機置場\\t公営水道/\\t下水</td>\n",
       "      <td>駐車場\\t近隣\\t17,000円(税込)\\t距離300m\\t駐輪場\\t無\\tバイク置き場\\t無</td>\n",
       "      <td>【スーパー】 193m\\t【スーパー】 298m\\t【スーパー】 660m\\t【スーパー】 ...</td>\n",
       "      <td>木造</td>\n",
       "      <td>2年間</td>\n",
       "      <td>379</td>\n",
       "      <td>2</td>\n",
       "      <td>0</td>\n",
       "      <td>0</td>\n",
       "    </tr>\n",
       "  </tbody>\n",
       "</table>\n",
       "</div>"
      ],
      "text/plain": [
       "                 所在地                                               アクセス   間取り   方角     面積  所在階                                             バス・トイレ                             キッチン                                 放送・通信                                               室内設備                                                駐車場                                               周辺環境          建物構造                    契約期間  築年数_月  階建  所在階_地下  階建_地下\n",
       "0        東京都北区滝野川3丁目  都営三田線\\t西巣鴨駅\\t徒歩4分\\t\\t埼京線\\t板橋駅\\t徒歩14分\\t\\t都電荒川線\\...    1K   南東  20.01    1   専用バス/\\t専用トイレ/\\tバス・トイレ別/\\tシャワー/\\t浴室乾燥機\\t/\\t温水洗浄便座  ガスコンロ/\\tコンロ2口/\\tシステムキッチン\\t/\\t給湯    インターネット対応/\\tCATV/\\tCSアンテナ/\\tBSアンテナ  エアコン付\\tシューズボックス/\\tバルコニー/\\tフローリング/\\t室内洗濯機置場/\\t敷...                                            駐輪場\\t空有  【小学校】 495m\\t【大学】 461m\\t【小学校】 962m\\t【公園】 1103m\\...  RC(鉄筋コンクリート)                     2年間    117  12       0      0\n",
       "1        東京都中央区月島3丁目  都営大江戸線\\t勝どき駅\\t徒歩5分\\t\\t有楽町線\\t月島駅\\t徒歩9分\\t\\t日比谷線\\...    1R  NaN  16.50    5                              専用トイレ/\\tシャワー/\\t温水洗浄便座          ガスコンロ/\\tシステムキッチン\\t/\\t給湯                             インターネット対応  エアコン付\\tシューズボックス/\\tバルコニー/\\tフローリング/\\t室内洗濯機置場/\\t敷...                         駐輪場\\t空有\\t駐車場\\t無\\tバイク置き場\\t無                                       【スーパー】 1283m           鉄骨造                     2年間    538  10       0      0\n",
       "2        東京都渋谷区笹塚2丁目  京王線\\t笹塚駅\\t徒歩6分\\t\\t京王線\\t代田橋駅\\t徒歩7分\\t\\t京王線\\t明大前駅...    1K    南  22.05   12  専用バス/\\t専用トイレ/\\tバス・トイレ別/\\tシャワー/\\t浴室乾燥機\\t/\\t温水洗浄...  ガスコンロ/\\tコンロ2口/\\tシステムキッチン\\t/\\t給湯  インターネット対応/\\t光ファイバー/\\tCSアンテナ/\\tBSアンテナ  エアコン付\\tウォークインクローゼット\\tシューズボックス/\\tバルコニー/\\tフローリング...  駐輪場\\t空有\\tバイク置き場\\t空有\\t駐車場\\t近隣\\t30,000円(税込)\\t距離100m  【スーパー】 89m\\t【コンビニ】 184m\\t【コンビニ】 392m\\t【スーパー】 492m  RC(鉄筋コンクリート)                     2年間    102  15       0      0\n",
       "3  東京都杉並区高円寺南2丁目23-2  総武線・中央線(各停)\\t高円寺駅\\t徒歩9分\\t\\t丸ノ内線(池袋-荻窪)\\t新高円寺駅\\...  2LDK    南  60.48    3     専用バス/\\t専用トイレ/\\tバス・トイレ別/\\tシャワー/\\t温水洗浄便座/\\t洗面台独立                       ガスコンロ/\\t給湯                    インターネット対応/\\t光ファイバー  エアコン付\\tシューズボックス/\\tバルコニー/\\t2面採光/\\t室内洗濯機置場/\\tエレベ...                          駐車場\\t無\\t駐輪場\\t無\\tバイク置き場\\t無  【スーパー】 225m\\t【スーパー】 448m\\t【スーパー】 619m\\t【スーパー】 ...  RC(鉄筋コンクリート)  2年間\\t※この物件は\\t定期借家\\tです。    352   4       0      0\n",
       "4     東京都葛飾区金町3丁目7-2  京成金町線\\t京成金町駅\\t徒歩5分\\t\\t常磐線\\t金町(東京都)駅\\t徒歩7分\\t\\t京...   2DK    南  39.66    1               専用バス/\\t専用トイレ/\\tバス・トイレ別/\\tシャワー/\\t追焚機能                      給湯/\\t独立キッチン                                   NaN                バルコニー/\\tフローリング/\\t室内洗濯機置場\\t公営水道/\\t下水    駐車場\\t近隣\\t17,000円(税込)\\t距離300m\\t駐輪場\\t無\\tバイク置き場\\t無  【スーパー】 193m\\t【スーパー】 298m\\t【スーパー】 660m\\t【スーパー】 ...            木造                     2年間    379   2       0      0"
      ]
     },
     "execution_count": 54,
     "metadata": {},
     "output_type": "execute_result"
    }
   ],
   "source": [
    "total_data.head()"
   ]
  },
  {
   "cell_type": "code",
   "execution_count": 55,
   "metadata": {},
   "outputs": [
    {
     "name": "stdout",
     "output_type": "stream",
     "text": [
      "所在地:\n",
      "16194\n",
      "アクセス:\n",
      "42990\n",
      "間取り:\n",
      "38\n",
      "方角:\n",
      "8\n",
      "面積:\n",
      "6721\n",
      "所在階:\n",
      "52\n",
      "バス・トイレ:\n",
      "404\n",
      "キッチン:\n",
      "447\n",
      "放送・通信:\n",
      "150\n",
      "室内設備:\n",
      "9293\n",
      "駐車場:\n",
      "5926\n",
      "周辺環境:\n",
      "32674\n",
      "建物構造:\n",
      "11\n",
      "契約期間:\n",
      "79\n",
      "築年数_月:\n",
      "770\n",
      "階建:\n",
      "57\n",
      "所在階_地下:\n",
      "12\n",
      "階建_地下:\n",
      "10\n"
     ]
    }
   ],
   "source": [
    "for i in total_data.columns:\n",
    "    print(i + \":\")\n",
    "    print(total_data[i].nunique())"
   ]
  },
  {
   "cell_type": "markdown",
   "metadata": {},
   "source": [
    "# 間取り"
   ]
  },
  {
   "cell_type": "code",
   "execution_count": 56,
   "metadata": {},
   "outputs": [
    {
     "data": {
      "text/plain": [
       "array(['1K', '1R', '2LDK', '2DK', '1DK', '1LDK', '3LDK', '3DK', '1LDK+S',\n",
       "       '4K', '2K', '1K+S', '4LDK', '3LDK+S', '5LDK+S', '5LDK', '3K',\n",
       "       '4DK', '2LDK+S', '2DK+S', '4LDK+S', '5DK', '3DK+S', '1DK+S', '5K',\n",
       "       '6LDK', '2K+S', '1LK+S', '5DK+S', '3K+S', '8LDK', '6LDK+S', '11R',\n",
       "       '6K', '6DK', '4DK+S', '2R', '1LK'], dtype=object)"
      ]
     },
     "execution_count": 56,
     "metadata": {},
     "output_type": "execute_result"
    }
   ],
   "source": [
    "total_data[\"間取り\"].str.split(\"(\", expand=True)[0].unique()"
   ]
  },
  {
   "cell_type": "code",
   "execution_count": 57,
   "metadata": {},
   "outputs": [
    {
     "data": {
      "text/plain": [
       "array([None, '納戸)'], dtype=object)"
      ]
     },
     "execution_count": 57,
     "metadata": {},
     "output_type": "execute_result"
    }
   ],
   "source": [
    "total_data[\"間取り\"].str.split(\"(\", expand=True)[1].unique()"
   ]
  },
  {
   "cell_type": "code",
   "execution_count": 58,
   "metadata": {},
   "outputs": [],
   "source": [
    "total_data[\"納戸\"] = total_data[\"間取り\"].str.split(\"(\", expand=True)[1]"
   ]
  },
  {
   "cell_type": "code",
   "execution_count": 59,
   "metadata": {},
   "outputs": [],
   "source": [
    "total_data[\"納戸\"] = total_data[\"納戸\"].replace(\"納戸)\", 1).fillna(0).astype(int)"
   ]
  },
  {
   "cell_type": "code",
   "execution_count": 60,
   "metadata": {},
   "outputs": [
    {
     "data": {
      "text/plain": [
       "array([0, 1])"
      ]
     },
     "execution_count": 60,
     "metadata": {},
     "output_type": "execute_result"
    }
   ],
   "source": [
    "total_data[\"納戸\"].unique()"
   ]
  },
  {
   "cell_type": "code",
   "execution_count": 61,
   "metadata": {},
   "outputs": [],
   "source": [
    "total_data[\"間取り\"] = total_data[\"間取り\"].str.split(\"(\", expand=True)[0]"
   ]
  },
  {
   "cell_type": "code",
   "execution_count": 62,
   "metadata": {},
   "outputs": [],
   "source": [
    "total_data[\"間取り_S\"] = total_data[\"間取り\"].str.split(\"+\", expand=True)[1]\n",
    "total_data[\"間取り\"] = total_data[\"間取り\"].str.split(\"+\", expand=True)[0]"
   ]
  },
  {
   "cell_type": "code",
   "execution_count": 63,
   "metadata": {},
   "outputs": [],
   "source": [
    "total_data[\"間取り_S\"] = total_data[\"間取り_S\"].replace(\"S\", 1).fillna(0).astype(int)"
   ]
  },
  {
   "cell_type": "code",
   "execution_count": 64,
   "metadata": {},
   "outputs": [],
   "source": [
    "total_data[\"間取り_K\"] = total_data[\"間取り\"].str.split(\"K\", expand=True)[1].replace(\"\", 1).fillna(0).astype(int)\n",
    "total_data[\"間取り\"] = total_data[\"間取り\"].str.split(\"K\", expand=True)[0]"
   ]
  },
  {
   "cell_type": "code",
   "execution_count": 65,
   "metadata": {},
   "outputs": [],
   "source": [
    "total_data[\"間取り_D\"] = total_data[\"間取り\"].str.split(\"D\", expand=True)[1].replace(\"\", 1).fillna(0).astype(int)\n",
    "total_data[\"間取り\"] = total_data[\"間取り\"].str.split(\"D\", expand=True)[0]"
   ]
  },
  {
   "cell_type": "code",
   "execution_count": 66,
   "metadata": {},
   "outputs": [],
   "source": [
    "total_data[\"間取り_L\"] = total_data[\"間取り\"].str.split(\"L\", expand=True)[1].replace(\"\", 1).fillna(0).astype(int)\n",
    "total_data[\"間取り\"] = total_data[\"間取り\"].str.split(\"L\", expand=True)[0]"
   ]
  },
  {
   "cell_type": "code",
   "execution_count": 67,
   "metadata": {},
   "outputs": [],
   "source": [
    "total_data[\"間取り_R\"] = total_data[\"間取り\"].str.split(\"R\", expand=True)[1].replace(\"\", 1).fillna(0).astype(int)\n",
    "total_data[\"間取り\"] = total_data[\"間取り\"].str.split(\"R\", expand=True)[0].astype(int)"
   ]
  },
  {
   "cell_type": "code",
   "execution_count": 68,
   "metadata": {},
   "outputs": [
    {
     "data": {
      "text/html": [
       "<div>\n",
       "<style scoped>\n",
       "    .dataframe tbody tr th:only-of-type {\n",
       "        vertical-align: middle;\n",
       "    }\n",
       "\n",
       "    .dataframe tbody tr th {\n",
       "        vertical-align: top;\n",
       "    }\n",
       "\n",
       "    .dataframe thead th {\n",
       "        text-align: right;\n",
       "    }\n",
       "</style>\n",
       "<table border=\"1\" class=\"dataframe\">\n",
       "  <thead>\n",
       "    <tr style=\"text-align: right;\">\n",
       "      <th></th>\n",
       "      <th>所在地</th>\n",
       "      <th>アクセス</th>\n",
       "      <th>間取り</th>\n",
       "      <th>方角</th>\n",
       "      <th>面積</th>\n",
       "      <th>所在階</th>\n",
       "      <th>バス・トイレ</th>\n",
       "      <th>キッチン</th>\n",
       "      <th>放送・通信</th>\n",
       "      <th>室内設備</th>\n",
       "      <th>駐車場</th>\n",
       "      <th>周辺環境</th>\n",
       "      <th>建物構造</th>\n",
       "      <th>契約期間</th>\n",
       "      <th>築年数_月</th>\n",
       "      <th>階建</th>\n",
       "      <th>所在階_地下</th>\n",
       "      <th>階建_地下</th>\n",
       "      <th>納戸</th>\n",
       "      <th>間取り_S</th>\n",
       "      <th>間取り_K</th>\n",
       "      <th>間取り_D</th>\n",
       "      <th>間取り_L</th>\n",
       "      <th>間取り_R</th>\n",
       "    </tr>\n",
       "  </thead>\n",
       "  <tbody>\n",
       "    <tr>\n",
       "      <th>0</th>\n",
       "      <td>東京都北区滝野川3丁目</td>\n",
       "      <td>都営三田線\\t西巣鴨駅\\t徒歩4分\\t\\t埼京線\\t板橋駅\\t徒歩14分\\t\\t都電荒川線\\...</td>\n",
       "      <td>1</td>\n",
       "      <td>南東</td>\n",
       "      <td>20.01</td>\n",
       "      <td>1</td>\n",
       "      <td>専用バス/\\t専用トイレ/\\tバス・トイレ別/\\tシャワー/\\t浴室乾燥機\\t/\\t温水洗浄便座</td>\n",
       "      <td>ガスコンロ/\\tコンロ2口/\\tシステムキッチン\\t/\\t給湯</td>\n",
       "      <td>インターネット対応/\\tCATV/\\tCSアンテナ/\\tBSアンテナ</td>\n",
       "      <td>エアコン付\\tシューズボックス/\\tバルコニー/\\tフローリング/\\t室内洗濯機置場/\\t敷...</td>\n",
       "      <td>駐輪場\\t空有</td>\n",
       "      <td>【小学校】 495m\\t【大学】 461m\\t【小学校】 962m\\t【公園】 1103m\\...</td>\n",
       "      <td>RC(鉄筋コンクリート)</td>\n",
       "      <td>2年間</td>\n",
       "      <td>117</td>\n",
       "      <td>12</td>\n",
       "      <td>0</td>\n",
       "      <td>0</td>\n",
       "      <td>0</td>\n",
       "      <td>0</td>\n",
       "      <td>1</td>\n",
       "      <td>0</td>\n",
       "      <td>0</td>\n",
       "      <td>0</td>\n",
       "    </tr>\n",
       "    <tr>\n",
       "      <th>1</th>\n",
       "      <td>東京都中央区月島3丁目</td>\n",
       "      <td>都営大江戸線\\t勝どき駅\\t徒歩5分\\t\\t有楽町線\\t月島駅\\t徒歩9分\\t\\t日比谷線\\...</td>\n",
       "      <td>1</td>\n",
       "      <td>NaN</td>\n",
       "      <td>16.50</td>\n",
       "      <td>5</td>\n",
       "      <td>専用トイレ/\\tシャワー/\\t温水洗浄便座</td>\n",
       "      <td>ガスコンロ/\\tシステムキッチン\\t/\\t給湯</td>\n",
       "      <td>インターネット対応</td>\n",
       "      <td>エアコン付\\tシューズボックス/\\tバルコニー/\\tフローリング/\\t室内洗濯機置場/\\t敷...</td>\n",
       "      <td>駐輪場\\t空有\\t駐車場\\t無\\tバイク置き場\\t無</td>\n",
       "      <td>【スーパー】 1283m</td>\n",
       "      <td>鉄骨造</td>\n",
       "      <td>2年間</td>\n",
       "      <td>538</td>\n",
       "      <td>10</td>\n",
       "      <td>0</td>\n",
       "      <td>0</td>\n",
       "      <td>0</td>\n",
       "      <td>0</td>\n",
       "      <td>0</td>\n",
       "      <td>0</td>\n",
       "      <td>0</td>\n",
       "      <td>1</td>\n",
       "    </tr>\n",
       "  </tbody>\n",
       "</table>\n",
       "</div>"
      ],
      "text/plain": [
       "           所在地                                               アクセス  間取り   方角     面積  所在階                                            バス・トイレ                             キッチン                               放送・通信                                               室内設備                         駐車場                                               周辺環境          建物構造 契約期間  築年数_月  階建  所在階_地下  階建_地下  納戸  間取り_S  間取り_K  間取り_D  間取り_L  間取り_R\n",
       "0  東京都北区滝野川3丁目  都営三田線\\t西巣鴨駅\\t徒歩4分\\t\\t埼京線\\t板橋駅\\t徒歩14分\\t\\t都電荒川線\\...    1   南東  20.01    1  専用バス/\\t専用トイレ/\\tバス・トイレ別/\\tシャワー/\\t浴室乾燥機\\t/\\t温水洗浄便座  ガスコンロ/\\tコンロ2口/\\tシステムキッチン\\t/\\t給湯  インターネット対応/\\tCATV/\\tCSアンテナ/\\tBSアンテナ  エアコン付\\tシューズボックス/\\tバルコニー/\\tフローリング/\\t室内洗濯機置場/\\t敷...                     駐輪場\\t空有  【小学校】 495m\\t【大学】 461m\\t【小学校】 962m\\t【公園】 1103m\\...  RC(鉄筋コンクリート)  2年間    117  12       0      0   0      0      1      0      0      0\n",
       "1  東京都中央区月島3丁目  都営大江戸線\\t勝どき駅\\t徒歩5分\\t\\t有楽町線\\t月島駅\\t徒歩9分\\t\\t日比谷線\\...    1  NaN  16.50    5                             専用トイレ/\\tシャワー/\\t温水洗浄便座          ガスコンロ/\\tシステムキッチン\\t/\\t給湯                           インターネット対応  エアコン付\\tシューズボックス/\\tバルコニー/\\tフローリング/\\t室内洗濯機置場/\\t敷...  駐輪場\\t空有\\t駐車場\\t無\\tバイク置き場\\t無                                       【スーパー】 1283m           鉄骨造  2年間    538  10       0      0   0      0      0      0      0      1"
      ]
     },
     "execution_count": 68,
     "metadata": {},
     "output_type": "execute_result"
    }
   ],
   "source": [
    "total_data.head(2)"
   ]
  },
  {
   "cell_type": "markdown",
   "metadata": {},
   "source": [
    "# 方角"
   ]
  },
  {
   "cell_type": "code",
   "execution_count": 69,
   "metadata": {},
   "outputs": [
    {
     "data": {
      "text/plain": [
       "0     南東\n",
       "1    NaN\n",
       "2      南\n",
       "3      南\n",
       "4      南\n",
       "5      東\n",
       "6      南\n",
       "7    NaN\n",
       "8     北西\n",
       "9     南東\n",
       "Name: 方角, dtype: object"
      ]
     },
     "execution_count": 69,
     "metadata": {},
     "output_type": "execute_result"
    }
   ],
   "source": [
    "total_data[\"方角\"].head(10)"
   ]
  },
  {
   "cell_type": "code",
   "execution_count": 70,
   "metadata": {},
   "outputs": [
    {
     "data": {
      "text/plain": [
       "array(['南東', nan, '南', '東', '北西', '西', '北', '南西', '北東'], dtype=object)"
      ]
     },
     "execution_count": 70,
     "metadata": {},
     "output_type": "execute_result"
    }
   ],
   "source": [
    "total_data[\"方角\"].unique()"
   ]
  },
  {
   "cell_type": "code",
   "execution_count": 71,
   "metadata": {},
   "outputs": [],
   "source": [
    "total_data[\"方角_南\"] = total_data[\"方角\"].isin([\"南\", \"南東\", \"南西\"]).astype(int)\n",
    "total_data[\"方角_東\"] = total_data[\"方角\"].isin([\"東\", \"南東\", \"北東\"]).astype(int)\n",
    "total_data[\"方角_西\"] = total_data[\"方角\"].isin([\"西\", \"南西\", \"北西\"]).astype(int)\n",
    "total_data[\"方角_北\"] = total_data[\"方角\"].isin([\"北\", \"北東\", \"北西\"]).astype(int)"
   ]
  },
  {
   "cell_type": "code",
   "execution_count": 72,
   "metadata": {},
   "outputs": [
    {
     "data": {
      "text/html": [
       "<div>\n",
       "<style scoped>\n",
       "    .dataframe tbody tr th:only-of-type {\n",
       "        vertical-align: middle;\n",
       "    }\n",
       "\n",
       "    .dataframe tbody tr th {\n",
       "        vertical-align: top;\n",
       "    }\n",
       "\n",
       "    .dataframe thead th {\n",
       "        text-align: right;\n",
       "    }\n",
       "</style>\n",
       "<table border=\"1\" class=\"dataframe\">\n",
       "  <thead>\n",
       "    <tr style=\"text-align: right;\">\n",
       "      <th></th>\n",
       "      <th>所在地</th>\n",
       "      <th>アクセス</th>\n",
       "      <th>間取り</th>\n",
       "      <th>方角</th>\n",
       "      <th>面積</th>\n",
       "      <th>所在階</th>\n",
       "      <th>バス・トイレ</th>\n",
       "      <th>キッチン</th>\n",
       "      <th>放送・通信</th>\n",
       "      <th>室内設備</th>\n",
       "      <th>駐車場</th>\n",
       "      <th>周辺環境</th>\n",
       "      <th>建物構造</th>\n",
       "      <th>契約期間</th>\n",
       "      <th>築年数_月</th>\n",
       "      <th>階建</th>\n",
       "      <th>所在階_地下</th>\n",
       "      <th>階建_地下</th>\n",
       "      <th>納戸</th>\n",
       "      <th>間取り_S</th>\n",
       "      <th>間取り_K</th>\n",
       "      <th>間取り_D</th>\n",
       "      <th>間取り_L</th>\n",
       "      <th>間取り_R</th>\n",
       "      <th>方角_南</th>\n",
       "      <th>方角_東</th>\n",
       "      <th>方角_西</th>\n",
       "      <th>方角_北</th>\n",
       "    </tr>\n",
       "  </thead>\n",
       "  <tbody>\n",
       "    <tr>\n",
       "      <th>0</th>\n",
       "      <td>東京都北区滝野川3丁目</td>\n",
       "      <td>都営三田線\\t西巣鴨駅\\t徒歩4分\\t\\t埼京線\\t板橋駅\\t徒歩14分\\t\\t都電荒川線\\...</td>\n",
       "      <td>1</td>\n",
       "      <td>南東</td>\n",
       "      <td>20.01</td>\n",
       "      <td>1</td>\n",
       "      <td>専用バス/\\t専用トイレ/\\tバス・トイレ別/\\tシャワー/\\t浴室乾燥機\\t/\\t温水洗浄便座</td>\n",
       "      <td>ガスコンロ/\\tコンロ2口/\\tシステムキッチン\\t/\\t給湯</td>\n",
       "      <td>インターネット対応/\\tCATV/\\tCSアンテナ/\\tBSアンテナ</td>\n",
       "      <td>エアコン付\\tシューズボックス/\\tバルコニー/\\tフローリング/\\t室内洗濯機置場/\\t敷...</td>\n",
       "      <td>駐輪場\\t空有</td>\n",
       "      <td>【小学校】 495m\\t【大学】 461m\\t【小学校】 962m\\t【公園】 1103m\\...</td>\n",
       "      <td>RC(鉄筋コンクリート)</td>\n",
       "      <td>2年間</td>\n",
       "      <td>117</td>\n",
       "      <td>12</td>\n",
       "      <td>0</td>\n",
       "      <td>0</td>\n",
       "      <td>0</td>\n",
       "      <td>0</td>\n",
       "      <td>1</td>\n",
       "      <td>0</td>\n",
       "      <td>0</td>\n",
       "      <td>0</td>\n",
       "      <td>1</td>\n",
       "      <td>1</td>\n",
       "      <td>0</td>\n",
       "      <td>0</td>\n",
       "    </tr>\n",
       "    <tr>\n",
       "      <th>1</th>\n",
       "      <td>東京都中央区月島3丁目</td>\n",
       "      <td>都営大江戸線\\t勝どき駅\\t徒歩5分\\t\\t有楽町線\\t月島駅\\t徒歩9分\\t\\t日比谷線\\...</td>\n",
       "      <td>1</td>\n",
       "      <td>NaN</td>\n",
       "      <td>16.50</td>\n",
       "      <td>5</td>\n",
       "      <td>専用トイレ/\\tシャワー/\\t温水洗浄便座</td>\n",
       "      <td>ガスコンロ/\\tシステムキッチン\\t/\\t給湯</td>\n",
       "      <td>インターネット対応</td>\n",
       "      <td>エアコン付\\tシューズボックス/\\tバルコニー/\\tフローリング/\\t室内洗濯機置場/\\t敷...</td>\n",
       "      <td>駐輪場\\t空有\\t駐車場\\t無\\tバイク置き場\\t無</td>\n",
       "      <td>【スーパー】 1283m</td>\n",
       "      <td>鉄骨造</td>\n",
       "      <td>2年間</td>\n",
       "      <td>538</td>\n",
       "      <td>10</td>\n",
       "      <td>0</td>\n",
       "      <td>0</td>\n",
       "      <td>0</td>\n",
       "      <td>0</td>\n",
       "      <td>0</td>\n",
       "      <td>0</td>\n",
       "      <td>0</td>\n",
       "      <td>1</td>\n",
       "      <td>0</td>\n",
       "      <td>0</td>\n",
       "      <td>0</td>\n",
       "      <td>0</td>\n",
       "    </tr>\n",
       "    <tr>\n",
       "      <th>2</th>\n",
       "      <td>東京都渋谷区笹塚2丁目</td>\n",
       "      <td>京王線\\t笹塚駅\\t徒歩6分\\t\\t京王線\\t代田橋駅\\t徒歩7分\\t\\t京王線\\t明大前駅...</td>\n",
       "      <td>1</td>\n",
       "      <td>南</td>\n",
       "      <td>22.05</td>\n",
       "      <td>12</td>\n",
       "      <td>専用バス/\\t専用トイレ/\\tバス・トイレ別/\\tシャワー/\\t浴室乾燥機\\t/\\t温水洗浄...</td>\n",
       "      <td>ガスコンロ/\\tコンロ2口/\\tシステムキッチン\\t/\\t給湯</td>\n",
       "      <td>インターネット対応/\\t光ファイバー/\\tCSアンテナ/\\tBSアンテナ</td>\n",
       "      <td>エアコン付\\tウォークインクローゼット\\tシューズボックス/\\tバルコニー/\\tフローリング...</td>\n",
       "      <td>駐輪場\\t空有\\tバイク置き場\\t空有\\t駐車場\\t近隣\\t30,000円(税込)\\t距離100m</td>\n",
       "      <td>【スーパー】 89m\\t【コンビニ】 184m\\t【コンビニ】 392m\\t【スーパー】 492m</td>\n",
       "      <td>RC(鉄筋コンクリート)</td>\n",
       "      <td>2年間</td>\n",
       "      <td>102</td>\n",
       "      <td>15</td>\n",
       "      <td>0</td>\n",
       "      <td>0</td>\n",
       "      <td>0</td>\n",
       "      <td>0</td>\n",
       "      <td>1</td>\n",
       "      <td>0</td>\n",
       "      <td>0</td>\n",
       "      <td>0</td>\n",
       "      <td>1</td>\n",
       "      <td>0</td>\n",
       "      <td>0</td>\n",
       "      <td>0</td>\n",
       "    </tr>\n",
       "    <tr>\n",
       "      <th>3</th>\n",
       "      <td>東京都杉並区高円寺南2丁目23-2</td>\n",
       "      <td>総武線・中央線(各停)\\t高円寺駅\\t徒歩9分\\t\\t丸ノ内線(池袋-荻窪)\\t新高円寺駅\\...</td>\n",
       "      <td>2</td>\n",
       "      <td>南</td>\n",
       "      <td>60.48</td>\n",
       "      <td>3</td>\n",
       "      <td>専用バス/\\t専用トイレ/\\tバス・トイレ別/\\tシャワー/\\t温水洗浄便座/\\t洗面台独立</td>\n",
       "      <td>ガスコンロ/\\t給湯</td>\n",
       "      <td>インターネット対応/\\t光ファイバー</td>\n",
       "      <td>エアコン付\\tシューズボックス/\\tバルコニー/\\t2面採光/\\t室内洗濯機置場/\\tエレベ...</td>\n",
       "      <td>駐車場\\t無\\t駐輪場\\t無\\tバイク置き場\\t無</td>\n",
       "      <td>【スーパー】 225m\\t【スーパー】 448m\\t【スーパー】 619m\\t【スーパー】 ...</td>\n",
       "      <td>RC(鉄筋コンクリート)</td>\n",
       "      <td>2年間\\t※この物件は\\t定期借家\\tです。</td>\n",
       "      <td>352</td>\n",
       "      <td>4</td>\n",
       "      <td>0</td>\n",
       "      <td>0</td>\n",
       "      <td>0</td>\n",
       "      <td>0</td>\n",
       "      <td>1</td>\n",
       "      <td>1</td>\n",
       "      <td>1</td>\n",
       "      <td>0</td>\n",
       "      <td>1</td>\n",
       "      <td>0</td>\n",
       "      <td>0</td>\n",
       "      <td>0</td>\n",
       "    </tr>\n",
       "    <tr>\n",
       "      <th>4</th>\n",
       "      <td>東京都葛飾区金町3丁目7-2</td>\n",
       "      <td>京成金町線\\t京成金町駅\\t徒歩5分\\t\\t常磐線\\t金町(東京都)駅\\t徒歩7分\\t\\t京...</td>\n",
       "      <td>2</td>\n",
       "      <td>南</td>\n",
       "      <td>39.66</td>\n",
       "      <td>1</td>\n",
       "      <td>専用バス/\\t専用トイレ/\\tバス・トイレ別/\\tシャワー/\\t追焚機能</td>\n",
       "      <td>給湯/\\t独立キッチン</td>\n",
       "      <td>NaN</td>\n",
       "      <td>バルコニー/\\tフローリング/\\t室内洗濯機置場\\t公営水道/\\t下水</td>\n",
       "      <td>駐車場\\t近隣\\t17,000円(税込)\\t距離300m\\t駐輪場\\t無\\tバイク置き場\\t無</td>\n",
       "      <td>【スーパー】 193m\\t【スーパー】 298m\\t【スーパー】 660m\\t【スーパー】 ...</td>\n",
       "      <td>木造</td>\n",
       "      <td>2年間</td>\n",
       "      <td>379</td>\n",
       "      <td>2</td>\n",
       "      <td>0</td>\n",
       "      <td>0</td>\n",
       "      <td>0</td>\n",
       "      <td>0</td>\n",
       "      <td>1</td>\n",
       "      <td>1</td>\n",
       "      <td>0</td>\n",
       "      <td>0</td>\n",
       "      <td>1</td>\n",
       "      <td>0</td>\n",
       "      <td>0</td>\n",
       "      <td>0</td>\n",
       "    </tr>\n",
       "  </tbody>\n",
       "</table>\n",
       "</div>"
      ],
      "text/plain": [
       "                 所在地                                               アクセス  間取り   方角     面積  所在階                                             バス・トイレ                             キッチン                                 放送・通信                                               室内設備                                                駐車場                                               周辺環境          建物構造                    契約期間  築年数_月  階建  所在階_地下  階建_地下  納戸  間取り_S  間取り_K  間取り_D  間取り_L  間取り_R  方角_南  方角_東  方角_西  方角_北\n",
       "0        東京都北区滝野川3丁目  都営三田線\\t西巣鴨駅\\t徒歩4分\\t\\t埼京線\\t板橋駅\\t徒歩14分\\t\\t都電荒川線\\...    1   南東  20.01    1   専用バス/\\t専用トイレ/\\tバス・トイレ別/\\tシャワー/\\t浴室乾燥機\\t/\\t温水洗浄便座  ガスコンロ/\\tコンロ2口/\\tシステムキッチン\\t/\\t給湯    インターネット対応/\\tCATV/\\tCSアンテナ/\\tBSアンテナ  エアコン付\\tシューズボックス/\\tバルコニー/\\tフローリング/\\t室内洗濯機置場/\\t敷...                                            駐輪場\\t空有  【小学校】 495m\\t【大学】 461m\\t【小学校】 962m\\t【公園】 1103m\\...  RC(鉄筋コンクリート)                     2年間    117  12       0      0   0      0      1      0      0      0     1     1     0     0\n",
       "1        東京都中央区月島3丁目  都営大江戸線\\t勝どき駅\\t徒歩5分\\t\\t有楽町線\\t月島駅\\t徒歩9分\\t\\t日比谷線\\...    1  NaN  16.50    5                              専用トイレ/\\tシャワー/\\t温水洗浄便座          ガスコンロ/\\tシステムキッチン\\t/\\t給湯                             インターネット対応  エアコン付\\tシューズボックス/\\tバルコニー/\\tフローリング/\\t室内洗濯機置場/\\t敷...                         駐輪場\\t空有\\t駐車場\\t無\\tバイク置き場\\t無                                       【スーパー】 1283m           鉄骨造                     2年間    538  10       0      0   0      0      0      0      0      1     0     0     0     0\n",
       "2        東京都渋谷区笹塚2丁目  京王線\\t笹塚駅\\t徒歩6分\\t\\t京王線\\t代田橋駅\\t徒歩7分\\t\\t京王線\\t明大前駅...    1    南  22.05   12  専用バス/\\t専用トイレ/\\tバス・トイレ別/\\tシャワー/\\t浴室乾燥機\\t/\\t温水洗浄...  ガスコンロ/\\tコンロ2口/\\tシステムキッチン\\t/\\t給湯  インターネット対応/\\t光ファイバー/\\tCSアンテナ/\\tBSアンテナ  エアコン付\\tウォークインクローゼット\\tシューズボックス/\\tバルコニー/\\tフローリング...  駐輪場\\t空有\\tバイク置き場\\t空有\\t駐車場\\t近隣\\t30,000円(税込)\\t距離100m  【スーパー】 89m\\t【コンビニ】 184m\\t【コンビニ】 392m\\t【スーパー】 492m  RC(鉄筋コンクリート)                     2年間    102  15       0      0   0      0      1      0      0      0     1     0     0     0\n",
       "3  東京都杉並区高円寺南2丁目23-2  総武線・中央線(各停)\\t高円寺駅\\t徒歩9分\\t\\t丸ノ内線(池袋-荻窪)\\t新高円寺駅\\...    2    南  60.48    3     専用バス/\\t専用トイレ/\\tバス・トイレ別/\\tシャワー/\\t温水洗浄便座/\\t洗面台独立                       ガスコンロ/\\t給湯                    インターネット対応/\\t光ファイバー  エアコン付\\tシューズボックス/\\tバルコニー/\\t2面採光/\\t室内洗濯機置場/\\tエレベ...                          駐車場\\t無\\t駐輪場\\t無\\tバイク置き場\\t無  【スーパー】 225m\\t【スーパー】 448m\\t【スーパー】 619m\\t【スーパー】 ...  RC(鉄筋コンクリート)  2年間\\t※この物件は\\t定期借家\\tです。    352   4       0      0   0      0      1      1      1      0     1     0     0     0\n",
       "4     東京都葛飾区金町3丁目7-2  京成金町線\\t京成金町駅\\t徒歩5分\\t\\t常磐線\\t金町(東京都)駅\\t徒歩7分\\t\\t京...    2    南  39.66    1               専用バス/\\t専用トイレ/\\tバス・トイレ別/\\tシャワー/\\t追焚機能                      給湯/\\t独立キッチン                                   NaN                バルコニー/\\tフローリング/\\t室内洗濯機置場\\t公営水道/\\t下水    駐車場\\t近隣\\t17,000円(税込)\\t距離300m\\t駐輪場\\t無\\tバイク置き場\\t無  【スーパー】 193m\\t【スーパー】 298m\\t【スーパー】 660m\\t【スーパー】 ...            木造                     2年間    379   2       0      0   0      0      1      1      0      0     1     0     0     0"
      ]
     },
     "execution_count": 72,
     "metadata": {},
     "output_type": "execute_result"
    }
   ],
   "source": [
    "total_data.head()"
   ]
  },
  {
   "cell_type": "code",
   "execution_count": 62,
   "metadata": {},
   "outputs": [],
   "source": [
    "total_data = total_data.drop(columns = \"方角\")"
   ]
  },
  {
   "cell_type": "code",
   "execution_count": 63,
   "metadata": {},
   "outputs": [
    {
     "data": {
      "text/plain": [
       "array(['RC(鉄筋コンクリート)', '鉄骨造', '木造', 'SRC(鉄骨鉄筋コンクリート)', '軽量鉄骨',\n",
       "       'ALC(軽量気泡コンクリート)', 'その他', 'PC(プレキャスト・コンクリート(鉄筋コンクリート))',\n",
       "       'HPC(プレキャスト・コンクリート(重量鉄骨))', 'ブロック', '鉄筋ブロック'], dtype=object)"
      ]
     },
     "execution_count": 63,
     "metadata": {},
     "output_type": "execute_result"
    }
   ],
   "source": [
    "total_data[\"建物構造\"].unique()"
   ]
  },
  {
   "cell_type": "code",
   "execution_count": 64,
   "metadata": {},
   "outputs": [
    {
     "data": {
      "text/html": [
       "<div>\n",
       "<style scoped>\n",
       "    .dataframe tbody tr th:only-of-type {\n",
       "        vertical-align: middle;\n",
       "    }\n",
       "\n",
       "    .dataframe tbody tr th {\n",
       "        vertical-align: top;\n",
       "    }\n",
       "\n",
       "    .dataframe thead th {\n",
       "        text-align: right;\n",
       "    }\n",
       "</style>\n",
       "<table border=\"1\" class=\"dataframe\">\n",
       "  <thead>\n",
       "    <tr style=\"text-align: right;\">\n",
       "      <th></th>\n",
       "      <th>所在地</th>\n",
       "      <th>アクセス</th>\n",
       "      <th>バス・トイレ</th>\n",
       "      <th>キッチン</th>\n",
       "      <th>放送・通信</th>\n",
       "      <th>室内設備</th>\n",
       "      <th>駐車場</th>\n",
       "      <th>周辺環境</th>\n",
       "      <th>建物構造</th>\n",
       "      <th>契約期間</th>\n",
       "    </tr>\n",
       "  </thead>\n",
       "  <tbody>\n",
       "    <tr>\n",
       "      <th>0</th>\n",
       "      <td>東京都北区滝野川3丁目</td>\n",
       "      <td>都営三田線\\t西巣鴨駅\\t徒歩4分\\t\\t埼京線\\t板橋駅\\t徒歩14分\\t\\t都電荒川線\\...</td>\n",
       "      <td>専用バス/\\t専用トイレ/\\tバス・トイレ別/\\tシャワー/\\t浴室乾燥機\\t/\\t温水洗浄便座</td>\n",
       "      <td>ガスコンロ/\\tコンロ2口/\\tシステムキッチン\\t/\\t給湯</td>\n",
       "      <td>インターネット対応/\\tCATV/\\tCSアンテナ/\\tBSアンテナ</td>\n",
       "      <td>エアコン付\\tシューズボックス/\\tバルコニー/\\tフローリング/\\t室内洗濯機置場/\\t敷...</td>\n",
       "      <td>駐輪場\\t空有</td>\n",
       "      <td>【小学校】 495m\\t【大学】 461m\\t【小学校】 962m\\t【公園】 1103m\\...</td>\n",
       "      <td>RC(鉄筋コンクリート)</td>\n",
       "      <td>2年間</td>\n",
       "    </tr>\n",
       "    <tr>\n",
       "      <th>1</th>\n",
       "      <td>東京都中央区月島3丁目</td>\n",
       "      <td>都営大江戸線\\t勝どき駅\\t徒歩5分\\t\\t有楽町線\\t月島駅\\t徒歩9分\\t\\t日比谷線\\...</td>\n",
       "      <td>専用トイレ/\\tシャワー/\\t温水洗浄便座</td>\n",
       "      <td>ガスコンロ/\\tシステムキッチン\\t/\\t給湯</td>\n",
       "      <td>インターネット対応</td>\n",
       "      <td>エアコン付\\tシューズボックス/\\tバルコニー/\\tフローリング/\\t室内洗濯機置場/\\t敷...</td>\n",
       "      <td>駐輪場\\t空有\\t駐車場\\t無\\tバイク置き場\\t無</td>\n",
       "      <td>【スーパー】 1283m</td>\n",
       "      <td>鉄骨造</td>\n",
       "      <td>2年間</td>\n",
       "    </tr>\n",
       "    <tr>\n",
       "      <th>2</th>\n",
       "      <td>東京都渋谷区笹塚2丁目</td>\n",
       "      <td>京王線\\t笹塚駅\\t徒歩6分\\t\\t京王線\\t代田橋駅\\t徒歩7分\\t\\t京王線\\t明大前駅...</td>\n",
       "      <td>専用バス/\\t専用トイレ/\\tバス・トイレ別/\\tシャワー/\\t浴室乾燥機\\t/\\t温水洗浄...</td>\n",
       "      <td>ガスコンロ/\\tコンロ2口/\\tシステムキッチン\\t/\\t給湯</td>\n",
       "      <td>インターネット対応/\\t光ファイバー/\\tCSアンテナ/\\tBSアンテナ</td>\n",
       "      <td>エアコン付\\tウォークインクローゼット\\tシューズボックス/\\tバルコニー/\\tフローリング...</td>\n",
       "      <td>駐輪場\\t空有\\tバイク置き場\\t空有\\t駐車場\\t近隣\\t30,000円(税込)\\t距離100m</td>\n",
       "      <td>【スーパー】 89m\\t【コンビニ】 184m\\t【コンビニ】 392m\\t【スーパー】 492m</td>\n",
       "      <td>RC(鉄筋コンクリート)</td>\n",
       "      <td>2年間</td>\n",
       "    </tr>\n",
       "    <tr>\n",
       "      <th>3</th>\n",
       "      <td>東京都杉並区高円寺南2丁目23-2</td>\n",
       "      <td>総武線・中央線(各停)\\t高円寺駅\\t徒歩9分\\t\\t丸ノ内線(池袋-荻窪)\\t新高円寺駅\\...</td>\n",
       "      <td>専用バス/\\t専用トイレ/\\tバス・トイレ別/\\tシャワー/\\t温水洗浄便座/\\t洗面台独立</td>\n",
       "      <td>ガスコンロ/\\t給湯</td>\n",
       "      <td>インターネット対応/\\t光ファイバー</td>\n",
       "      <td>エアコン付\\tシューズボックス/\\tバルコニー/\\t2面採光/\\t室内洗濯機置場/\\tエレベ...</td>\n",
       "      <td>駐車場\\t無\\t駐輪場\\t無\\tバイク置き場\\t無</td>\n",
       "      <td>【スーパー】 225m\\t【スーパー】 448m\\t【スーパー】 619m\\t【スーパー】 ...</td>\n",
       "      <td>RC(鉄筋コンクリート)</td>\n",
       "      <td>2年間\\t※この物件は\\t定期借家\\tです。</td>\n",
       "    </tr>\n",
       "    <tr>\n",
       "      <th>4</th>\n",
       "      <td>東京都葛飾区金町3丁目7-2</td>\n",
       "      <td>京成金町線\\t京成金町駅\\t徒歩5分\\t\\t常磐線\\t金町(東京都)駅\\t徒歩7分\\t\\t京...</td>\n",
       "      <td>専用バス/\\t専用トイレ/\\tバス・トイレ別/\\tシャワー/\\t追焚機能</td>\n",
       "      <td>給湯/\\t独立キッチン</td>\n",
       "      <td>NaN</td>\n",
       "      <td>バルコニー/\\tフローリング/\\t室内洗濯機置場\\t公営水道/\\t下水</td>\n",
       "      <td>駐車場\\t近隣\\t17,000円(税込)\\t距離300m\\t駐輪場\\t無\\tバイク置き場\\t無</td>\n",
       "      <td>【スーパー】 193m\\t【スーパー】 298m\\t【スーパー】 660m\\t【スーパー】 ...</td>\n",
       "      <td>木造</td>\n",
       "      <td>2年間</td>\n",
       "    </tr>\n",
       "  </tbody>\n",
       "</table>\n",
       "</div>"
      ],
      "text/plain": [
       "                 所在地                                               アクセス                                             バス・トイレ                             キッチン                                 放送・通信                                               室内設備                                                駐車場                                               周辺環境          建物構造                    契約期間\n",
       "0        東京都北区滝野川3丁目  都営三田線\\t西巣鴨駅\\t徒歩4分\\t\\t埼京線\\t板橋駅\\t徒歩14分\\t\\t都電荒川線\\...   専用バス/\\t専用トイレ/\\tバス・トイレ別/\\tシャワー/\\t浴室乾燥機\\t/\\t温水洗浄便座  ガスコンロ/\\tコンロ2口/\\tシステムキッチン\\t/\\t給湯    インターネット対応/\\tCATV/\\tCSアンテナ/\\tBSアンテナ  エアコン付\\tシューズボックス/\\tバルコニー/\\tフローリング/\\t室内洗濯機置場/\\t敷...                                            駐輪場\\t空有  【小学校】 495m\\t【大学】 461m\\t【小学校】 962m\\t【公園】 1103m\\...  RC(鉄筋コンクリート)                     2年間\n",
       "1        東京都中央区月島3丁目  都営大江戸線\\t勝どき駅\\t徒歩5分\\t\\t有楽町線\\t月島駅\\t徒歩9分\\t\\t日比谷線\\...                              専用トイレ/\\tシャワー/\\t温水洗浄便座          ガスコンロ/\\tシステムキッチン\\t/\\t給湯                             インターネット対応  エアコン付\\tシューズボックス/\\tバルコニー/\\tフローリング/\\t室内洗濯機置場/\\t敷...                         駐輪場\\t空有\\t駐車場\\t無\\tバイク置き場\\t無                                       【スーパー】 1283m           鉄骨造                     2年間\n",
       "2        東京都渋谷区笹塚2丁目  京王線\\t笹塚駅\\t徒歩6分\\t\\t京王線\\t代田橋駅\\t徒歩7分\\t\\t京王線\\t明大前駅...  専用バス/\\t専用トイレ/\\tバス・トイレ別/\\tシャワー/\\t浴室乾燥機\\t/\\t温水洗浄...  ガスコンロ/\\tコンロ2口/\\tシステムキッチン\\t/\\t給湯  インターネット対応/\\t光ファイバー/\\tCSアンテナ/\\tBSアンテナ  エアコン付\\tウォークインクローゼット\\tシューズボックス/\\tバルコニー/\\tフローリング...  駐輪場\\t空有\\tバイク置き場\\t空有\\t駐車場\\t近隣\\t30,000円(税込)\\t距離100m  【スーパー】 89m\\t【コンビニ】 184m\\t【コンビニ】 392m\\t【スーパー】 492m  RC(鉄筋コンクリート)                     2年間\n",
       "3  東京都杉並区高円寺南2丁目23-2  総武線・中央線(各停)\\t高円寺駅\\t徒歩9分\\t\\t丸ノ内線(池袋-荻窪)\\t新高円寺駅\\...     専用バス/\\t専用トイレ/\\tバス・トイレ別/\\tシャワー/\\t温水洗浄便座/\\t洗面台独立                       ガスコンロ/\\t給湯                    インターネット対応/\\t光ファイバー  エアコン付\\tシューズボックス/\\tバルコニー/\\t2面採光/\\t室内洗濯機置場/\\tエレベ...                          駐車場\\t無\\t駐輪場\\t無\\tバイク置き場\\t無  【スーパー】 225m\\t【スーパー】 448m\\t【スーパー】 619m\\t【スーパー】 ...  RC(鉄筋コンクリート)  2年間\\t※この物件は\\t定期借家\\tです。\n",
       "4     東京都葛飾区金町3丁目7-2  京成金町線\\t京成金町駅\\t徒歩5分\\t\\t常磐線\\t金町(東京都)駅\\t徒歩7分\\t\\t京...               専用バス/\\t専用トイレ/\\tバス・トイレ別/\\tシャワー/\\t追焚機能                      給湯/\\t独立キッチン                                   NaN                バルコニー/\\tフローリング/\\t室内洗濯機置場\\t公営水道/\\t下水    駐車場\\t近隣\\t17,000円(税込)\\t距離300m\\t駐輪場\\t無\\tバイク置き場\\t無  【スーパー】 193m\\t【スーパー】 298m\\t【スーパー】 660m\\t【スーパー】 ...            木造                     2年間"
      ]
     },
     "execution_count": 64,
     "metadata": {},
     "output_type": "execute_result"
    }
   ],
   "source": [
    "total_data.select_dtypes(\"object\").head()"
   ]
  },
  {
   "cell_type": "markdown",
   "metadata": {},
   "source": [
    "# 契約期間"
   ]
  },
  {
   "cell_type": "code",
   "execution_count": 65,
   "metadata": {},
   "outputs": [],
   "source": [
    "total_data[\"契約期間_定期借家\"] = total_data[\"契約期間\"].str.split(\"\\t\", expand=True)[2].replace(\"定期借家\", 1).fillna(0).astype(int)"
   ]
  },
  {
   "cell_type": "code",
   "execution_count": 66,
   "metadata": {},
   "outputs": [],
   "source": [
    "total_data[\"契約期間\"] = total_data[\"契約期間\"].str.split(\"\\t\", expand=True)[0]"
   ]
  },
  {
   "cell_type": "code",
   "execution_count": 67,
   "metadata": {},
   "outputs": [
    {
     "data": {
      "text/plain": [
       "array(['2年間', nan, '1年間', '5年間', '3年間', '2月間', '4年間', '2021年4月まで',\n",
       "       '2023年3月まで', '2022年3月まで', '2021年8月まで', '1月間', '2020年3月まで',\n",
       "       '2021年2月まで', '22年間', '12年間', '2020年6月まで', '4年8月間', '2021年7月まで',\n",
       "       '2022年6月まで', '2021年3月まで', '2021年12月まで', '3年3月間', '2022年7月まで',\n",
       "       '2年6月間', '2022年2月まで', '1年10月間', '2023年8月まで', '2020年5月まで', '7年間',\n",
       "       '10年間', '2021年1月まで', '2019年12月まで', '2021年9月まで', '6年間',\n",
       "       '2023年10月まで', '5年7月間', '2024年3月まで', '2020年8月まで', '2年4月間',\n",
       "       '2022年5月まで', '2024年9月まで', '4年9月間', '9月間', '6月間', '2020年7月まで',\n",
       "       '2020年2月まで', '1年8月間', '1年5月間', '4年6月間', '3年9月間', '2021年5月まで',\n",
       "       '2021年6月まで', '2020年12月まで', '2023年2月まで', '2024年2月まで', '1年6月間',\n",
       "       '2020年1月まで', '2022年9月まで', '15年間', '2022年8月まで', '4年7月間',\n",
       "       '2025年8月まで', '10月間', '4年4月間', '2024年4月まで', '7月間', '2025年2月まで',\n",
       "       '2019年11月まで', '2020年11月まで', '2023年12月まで', '2年1月間', '2023年7月まで'],\n",
       "      dtype=object)"
      ]
     },
     "execution_count": 67,
     "metadata": {},
     "output_type": "execute_result"
    }
   ],
   "source": [
    "total_data[\"契約期間\"] = total_data[\"契約期間\"].str.replace(\"ヶ\", \"\")\n",
    "total_data[\"契約期間\"].unique()"
   ]
  },
  {
   "cell_type": "code",
   "execution_count": 68,
   "metadata": {},
   "outputs": [],
   "source": [
    "total_data[\"契約期間\"] = total_data[\"契約期間\"].fillna(\"0年間\")"
   ]
  },
  {
   "cell_type": "code",
   "execution_count": 69,
   "metadata": {},
   "outputs": [
    {
     "data": {
      "text/plain": [
       "2年間    46940\n",
       "0年間    14101\n",
       "5年間      514\n",
       "3年間      469\n",
       "1年間      309\n",
       "Name: 契約期間, dtype: int64"
      ]
     },
     "execution_count": 69,
     "metadata": {},
     "output_type": "execute_result"
    }
   ],
   "source": [
    "total_data[\"契約期間\"].value_counts().head()"
   ]
  },
  {
   "cell_type": "code",
   "execution_count": 70,
   "metadata": {
    "scrolled": true
   },
   "outputs": [
    {
     "name": "stderr",
     "output_type": "stream",
     "text": [
      "/home/amar/.local/lib/python3.6/site-packages/ipykernel_launcher.py:1: SettingWithCopyWarning: \n",
      "A value is trying to be set on a copy of a slice from a DataFrame\n",
      "\n",
      "See the caveats in the documentation: http://pandas.pydata.org/pandas-docs/stable/indexing.html#indexing-view-versus-copy\n",
      "  \"\"\"Entry point for launching an IPython kernel.\n"
     ]
    }
   ],
   "source": [
    "total_data[\"契約期間\"][total_data[\"契約期間\"].str.contains(\"年間\")] = (total_data[\"契約期間\"][total_data[\"契約期間\"].str.contains(\"年間\")].str.replace(\"年間\", \"\").astype(int)+2019).astype(str)+\"年8月まで\""
   ]
  },
  {
   "cell_type": "code",
   "execution_count": 71,
   "metadata": {},
   "outputs": [
    {
     "data": {
      "text/plain": [
       "array(['2021年8月まで', '2019年8月まで', '2020年8月まで', '2024年8月まで', '2022年8月まで',\n",
       "       '2月間', '2023年8月まで', '2021年4月まで', '2023年3月まで', '2022年3月まで', '1月間',\n",
       "       '2020年3月まで', '2021年2月まで', '2041年8月まで', '2031年8月まで', '2020年6月まで',\n",
       "       '4年8月間', '2021年7月まで', '2022年6月まで', '2021年3月まで', '2021年12月まで',\n",
       "       '3年3月間', '2022年7月まで', '2年6月間', '2022年2月まで', '1年10月間', '2020年5月まで',\n",
       "       '2026年8月まで', '2029年8月まで', '2021年1月まで', '2019年12月まで', '2021年9月まで',\n",
       "       '2025年8月まで', '2023年10月まで', '5年7月間', '2024年3月まで', '2年4月間',\n",
       "       '2022年5月まで', '2024年9月まで', '4年9月間', '9月間', '6月間', '2020年7月まで',\n",
       "       '2020年2月まで', '1年8月間', '1年5月間', '4年6月間', '3年9月間', '2021年5月まで',\n",
       "       '2021年6月まで', '2020年12月まで', '2023年2月まで', '2024年2月まで', '1年6月間',\n",
       "       '2020年1月まで', '2022年9月まで', '2034年8月まで', '4年7月間', '10月間', '4年4月間',\n",
       "       '2024年4月まで', '7月間', '2025年2月まで', '2019年11月まで', '2020年11月まで',\n",
       "       '2023年12月まで', '2年1月間', '2023年7月まで'], dtype=object)"
      ]
     },
     "execution_count": 71,
     "metadata": {},
     "output_type": "execute_result"
    }
   ],
   "source": [
    "total_data[\"契約期間\"].unique()"
   ]
  },
  {
   "cell_type": "code",
   "execution_count": 72,
   "metadata": {
    "scrolled": true
   },
   "outputs": [
    {
     "name": "stderr",
     "output_type": "stream",
     "text": [
      "/home/amar/.local/lib/python3.6/site-packages/ipykernel_launcher.py:1: SettingWithCopyWarning: \n",
      "A value is trying to be set on a copy of a slice from a DataFrame\n",
      "\n",
      "See the caveats in the documentation: http://pandas.pydata.org/pandas-docs/stable/indexing.html#indexing-view-versus-copy\n",
      "  \"\"\"Entry point for launching an IPython kernel.\n"
     ]
    }
   ],
   "source": [
    "total_data[\"契約期間\"][~total_data[\"契約期間\"].str.contains(\"年\")] = \"年\" + total_data[\"契約期間\"][~total_data[\"契約期間\"].str.contains(\"年\")]"
   ]
  },
  {
   "cell_type": "code",
   "execution_count": 73,
   "metadata": {},
   "outputs": [
    {
     "data": {
      "text/plain": [
       "array(['2021年8月まで', '2019年8月まで', '2020年8月まで', '2024年8月まで', '2022年8月まで',\n",
       "       '年2月間', '2023年8月まで', '2021年4月まで', '2023年3月まで', '2022年3月まで', '年1月間',\n",
       "       '2020年3月まで', '2021年2月まで', '2041年8月まで', '2031年8月まで', '2020年6月まで',\n",
       "       '4年8月間', '2021年7月まで', '2022年6月まで', '2021年3月まで', '2021年12月まで',\n",
       "       '3年3月間', '2022年7月まで', '2年6月間', '2022年2月まで', '1年10月間', '2020年5月まで',\n",
       "       '2026年8月まで', '2029年8月まで', '2021年1月まで', '2019年12月まで', '2021年9月まで',\n",
       "       '2025年8月まで', '2023年10月まで', '5年7月間', '2024年3月まで', '2年4月間',\n",
       "       '2022年5月まで', '2024年9月まで', '4年9月間', '年9月間', '年6月間', '2020年7月まで',\n",
       "       '2020年2月まで', '1年8月間', '1年5月間', '4年6月間', '3年9月間', '2021年5月まで',\n",
       "       '2021年6月まで', '2020年12月まで', '2023年2月まで', '2024年2月まで', '1年6月間',\n",
       "       '2020年1月まで', '2022年9月まで', '2034年8月まで', '4年7月間', '年10月間', '4年4月間',\n",
       "       '2024年4月まで', '年7月間', '2025年2月まで', '2019年11月まで', '2020年11月まで',\n",
       "       '2023年12月まで', '2年1月間', '2023年7月まで'], dtype=object)"
      ]
     },
     "execution_count": 73,
     "metadata": {},
     "output_type": "execute_result"
    }
   ],
   "source": [
    "total_data[\"契約期間\"].unique()"
   ]
  },
  {
   "cell_type": "code",
   "execution_count": 74,
   "metadata": {},
   "outputs": [],
   "source": [
    "temp_df = total_data[\"契約期間\"][total_data[\"契約期間\"].str.contains(\"月間\")].str.replace(\"月間\", \"\").str.split(\"年\", expand=True)"
   ]
  },
  {
   "cell_type": "code",
   "execution_count": 75,
   "metadata": {},
   "outputs": [
    {
     "data": {
      "text/html": [
       "<div>\n",
       "<style scoped>\n",
       "    .dataframe tbody tr th:only-of-type {\n",
       "        vertical-align: middle;\n",
       "    }\n",
       "\n",
       "    .dataframe tbody tr th {\n",
       "        vertical-align: top;\n",
       "    }\n",
       "\n",
       "    .dataframe thead th {\n",
       "        text-align: right;\n",
       "    }\n",
       "</style>\n",
       "<table border=\"1\" class=\"dataframe\">\n",
       "  <thead>\n",
       "    <tr style=\"text-align: right;\">\n",
       "      <th></th>\n",
       "      <th>0</th>\n",
       "      <th>1</th>\n",
       "    </tr>\n",
       "  </thead>\n",
       "  <tbody>\n",
       "    <tr>\n",
       "      <th>149</th>\n",
       "      <td></td>\n",
       "      <td>2</td>\n",
       "    </tr>\n",
       "    <tr>\n",
       "      <th>726</th>\n",
       "      <td></td>\n",
       "      <td>2</td>\n",
       "    </tr>\n",
       "    <tr>\n",
       "      <th>878</th>\n",
       "      <td></td>\n",
       "      <td>1</td>\n",
       "    </tr>\n",
       "    <tr>\n",
       "      <th>2727</th>\n",
       "      <td>4</td>\n",
       "      <td>8</td>\n",
       "    </tr>\n",
       "    <tr>\n",
       "      <th>3977</th>\n",
       "      <td>3</td>\n",
       "      <td>3</td>\n",
       "    </tr>\n",
       "  </tbody>\n",
       "</table>\n",
       "</div>"
      ],
      "text/plain": [
       "      0  1\n",
       "149      2\n",
       "726      2\n",
       "878      1\n",
       "2727  4  8\n",
       "3977  3  3"
      ]
     },
     "execution_count": 75,
     "metadata": {},
     "output_type": "execute_result"
    }
   ],
   "source": [
    "temp_df.head()"
   ]
  },
  {
   "cell_type": "code",
   "execution_count": 76,
   "metadata": {},
   "outputs": [],
   "source": [
    "temp_df[1] = temp_df[1].astype(int) + 8"
   ]
  },
  {
   "cell_type": "code",
   "execution_count": 77,
   "metadata": {},
   "outputs": [
    {
     "data": {
      "text/plain": [
       "array([10,  9, 16, 11, 14, 18, 15, 12, 17, 13])"
      ]
     },
     "execution_count": 77,
     "metadata": {},
     "output_type": "execute_result"
    }
   ],
   "source": [
    "temp_df[1].unique()"
   ]
  },
  {
   "cell_type": "code",
   "execution_count": 78,
   "metadata": {},
   "outputs": [],
   "source": [
    "temp_df[0] = 2019 + temp_df[0].replace(\"\", \"0\").astype(int)"
   ]
  },
  {
   "cell_type": "code",
   "execution_count": 79,
   "metadata": {},
   "outputs": [
    {
     "data": {
      "text/html": [
       "<div>\n",
       "<style scoped>\n",
       "    .dataframe tbody tr th:only-of-type {\n",
       "        vertical-align: middle;\n",
       "    }\n",
       "\n",
       "    .dataframe tbody tr th {\n",
       "        vertical-align: top;\n",
       "    }\n",
       "\n",
       "    .dataframe thead th {\n",
       "        text-align: right;\n",
       "    }\n",
       "</style>\n",
       "<table border=\"1\" class=\"dataframe\">\n",
       "  <thead>\n",
       "    <tr style=\"text-align: right;\">\n",
       "      <th></th>\n",
       "      <th>0</th>\n",
       "      <th>1</th>\n",
       "    </tr>\n",
       "  </thead>\n",
       "  <tbody>\n",
       "    <tr>\n",
       "      <th>149</th>\n",
       "      <td>2019</td>\n",
       "      <td>10</td>\n",
       "    </tr>\n",
       "    <tr>\n",
       "      <th>726</th>\n",
       "      <td>2019</td>\n",
       "      <td>10</td>\n",
       "    </tr>\n",
       "    <tr>\n",
       "      <th>878</th>\n",
       "      <td>2019</td>\n",
       "      <td>9</td>\n",
       "    </tr>\n",
       "    <tr>\n",
       "      <th>2727</th>\n",
       "      <td>2023</td>\n",
       "      <td>16</td>\n",
       "    </tr>\n",
       "    <tr>\n",
       "      <th>3977</th>\n",
       "      <td>2022</td>\n",
       "      <td>11</td>\n",
       "    </tr>\n",
       "  </tbody>\n",
       "</table>\n",
       "</div>"
      ],
      "text/plain": [
       "         0   1\n",
       "149   2019  10\n",
       "726   2019  10\n",
       "878   2019   9\n",
       "2727  2023  16\n",
       "3977  2022  11"
      ]
     },
     "execution_count": 79,
     "metadata": {},
     "output_type": "execute_result"
    }
   ],
   "source": [
    "temp_df.head()"
   ]
  },
  {
   "cell_type": "code",
   "execution_count": 80,
   "metadata": {},
   "outputs": [],
   "source": [
    "temp_df[0][temp_df[1] > 12] = temp_df[0][temp_df[1] > 12] + 1\n",
    "temp_df[1][temp_df[1] > 12] = temp_df[1][temp_df[1] > 12] - 12"
   ]
  },
  {
   "cell_type": "code",
   "execution_count": 81,
   "metadata": {},
   "outputs": [
    {
     "data": {
      "text/plain": [
       "Series([], Name: 0, dtype: int64)"
      ]
     },
     "execution_count": 81,
     "metadata": {},
     "output_type": "execute_result"
    }
   ],
   "source": [
    "temp_df[0][temp_df[1] > 12]"
   ]
  },
  {
   "cell_type": "code",
   "execution_count": 82,
   "metadata": {},
   "outputs": [
    {
     "data": {
      "text/html": [
       "<div>\n",
       "<style scoped>\n",
       "    .dataframe tbody tr th:only-of-type {\n",
       "        vertical-align: middle;\n",
       "    }\n",
       "\n",
       "    .dataframe tbody tr th {\n",
       "        vertical-align: top;\n",
       "    }\n",
       "\n",
       "    .dataframe thead th {\n",
       "        text-align: right;\n",
       "    }\n",
       "</style>\n",
       "<table border=\"1\" class=\"dataframe\">\n",
       "  <thead>\n",
       "    <tr style=\"text-align: right;\">\n",
       "      <th></th>\n",
       "      <th>0</th>\n",
       "      <th>1</th>\n",
       "    </tr>\n",
       "  </thead>\n",
       "  <tbody>\n",
       "    <tr>\n",
       "      <th>149</th>\n",
       "      <td>2019</td>\n",
       "      <td>10</td>\n",
       "    </tr>\n",
       "    <tr>\n",
       "      <th>726</th>\n",
       "      <td>2019</td>\n",
       "      <td>10</td>\n",
       "    </tr>\n",
       "    <tr>\n",
       "      <th>878</th>\n",
       "      <td>2019</td>\n",
       "      <td>9</td>\n",
       "    </tr>\n",
       "    <tr>\n",
       "      <th>2727</th>\n",
       "      <td>2024</td>\n",
       "      <td>4</td>\n",
       "    </tr>\n",
       "    <tr>\n",
       "      <th>3977</th>\n",
       "      <td>2022</td>\n",
       "      <td>11</td>\n",
       "    </tr>\n",
       "  </tbody>\n",
       "</table>\n",
       "</div>"
      ],
      "text/plain": [
       "         0   1\n",
       "149   2019  10\n",
       "726   2019  10\n",
       "878   2019   9\n",
       "2727  2024   4\n",
       "3977  2022  11"
      ]
     },
     "execution_count": 82,
     "metadata": {},
     "output_type": "execute_result"
    }
   ],
   "source": [
    "temp_df.head()"
   ]
  },
  {
   "cell_type": "code",
   "execution_count": 83,
   "metadata": {},
   "outputs": [
    {
     "data": {
      "text/plain": [
       "array(['2019年10月まで', '2019年9月まで', '2024年4月まで', '2022年11月まで', '2022年2月まで',\n",
       "       '2021年6月まで', '2025年3月まで', '2021年12月まで', '2024年5月まで', '2020年5月まで',\n",
       "       '2020年2月まで', '2021年4月まで', '2021年1月まで', '2024年2月まで', '2023年5月まで',\n",
       "       '2021年2月まで', '2024年3月まで', '2020年6月まで', '2023年12月まで', '2020年3月まで',\n",
       "       '2021年9月まで'], dtype=object)"
      ]
     },
     "execution_count": 83,
     "metadata": {},
     "output_type": "execute_result"
    }
   ],
   "source": [
    "(temp_df[0].astype(str)+ \"年\" + temp_df[1].astype(str) + \"月まで\").unique()"
   ]
  },
  {
   "cell_type": "code",
   "execution_count": 84,
   "metadata": {},
   "outputs": [
    {
     "data": {
      "text/plain": [
       "array(['2021年8月まで', '2019年8月まで', '2020年8月まで', '2024年8月まで', '2022年8月まで',\n",
       "       '年2月間', '2023年8月まで', '2021年4月まで', '2023年3月まで', '2022年3月まで', '年1月間',\n",
       "       '2020年3月まで', '2021年2月まで', '2041年8月まで', '2031年8月まで', '2020年6月まで',\n",
       "       '4年8月間', '2021年7月まで', '2022年6月まで', '2021年3月まで', '2021年12月まで',\n",
       "       '3年3月間', '2022年7月まで', '2年6月間', '2022年2月まで', '1年10月間', '2020年5月まで',\n",
       "       '2026年8月まで', '2029年8月まで', '2021年1月まで', '2019年12月まで', '2021年9月まで',\n",
       "       '2025年8月まで', '2023年10月まで', '5年7月間', '2024年3月まで', '2年4月間',\n",
       "       '2022年5月まで', '2024年9月まで', '4年9月間', '年9月間', '年6月間', '2020年7月まで',\n",
       "       '2020年2月まで', '1年8月間', '1年5月間', '4年6月間', '3年9月間', '2021年5月まで',\n",
       "       '2021年6月まで', '2020年12月まで', '2023年2月まで', '2024年2月まで', '1年6月間',\n",
       "       '2020年1月まで', '2022年9月まで', '2034年8月まで', '4年7月間', '年10月間', '4年4月間',\n",
       "       '2024年4月まで', '年7月間', '2025年2月まで', '2019年11月まで', '2020年11月まで',\n",
       "       '2023年12月まで', '2年1月間', '2023年7月まで'], dtype=object)"
      ]
     },
     "execution_count": 84,
     "metadata": {},
     "output_type": "execute_result"
    }
   ],
   "source": [
    "total_data[\"契約期間\"].unique()"
   ]
  },
  {
   "cell_type": "code",
   "execution_count": 85,
   "metadata": {
    "scrolled": true
   },
   "outputs": [
    {
     "name": "stderr",
     "output_type": "stream",
     "text": [
      "/home/amar/.local/lib/python3.6/site-packages/ipykernel_launcher.py:1: SettingWithCopyWarning: \n",
      "A value is trying to be set on a copy of a slice from a DataFrame\n",
      "\n",
      "See the caveats in the documentation: http://pandas.pydata.org/pandas-docs/stable/indexing.html#indexing-view-versus-copy\n",
      "  \"\"\"Entry point for launching an IPython kernel.\n"
     ]
    }
   ],
   "source": [
    "total_data[\"契約期間\"][total_data[\"契約期間\"].str.contains(\"月間\")] = temp_df[0].astype(str)+ \"年\" + temp_df[1].astype(str) + \"月まで\""
   ]
  },
  {
   "cell_type": "code",
   "execution_count": 86,
   "metadata": {},
   "outputs": [
    {
     "data": {
      "text/plain": [
       "array(['2021年8月まで', '2019年8月まで', '2020年8月まで', '2024年8月まで', '2022年8月まで',\n",
       "       '2019年10月まで', '2023年8月まで', '2021年4月まで', '2023年3月まで', '2022年3月まで',\n",
       "       '2019年9月まで', '2020年3月まで', '2021年2月まで', '2041年8月まで', '2031年8月まで',\n",
       "       '2020年6月まで', '2024年4月まで', '2021年7月まで', '2022年6月まで', '2021年3月まで',\n",
       "       '2021年12月まで', '2022年11月まで', '2022年7月まで', '2022年2月まで', '2021年6月まで',\n",
       "       '2020年5月まで', '2026年8月まで', '2029年8月まで', '2021年1月まで', '2019年12月まで',\n",
       "       '2021年9月まで', '2025年8月まで', '2023年10月まで', '2025年3月まで', '2024年3月まで',\n",
       "       '2022年5月まで', '2024年9月まで', '2024年5月まで', '2020年2月まで', '2020年7月まで',\n",
       "       '2024年2月まで', '2023年5月まで', '2021年5月まで', '2020年12月まで', '2023年2月まで',\n",
       "       '2020年1月まで', '2022年9月まで', '2034年8月まで', '2023年12月まで', '2025年2月まで',\n",
       "       '2019年11月まで', '2020年11月まで', '2023年7月まで'], dtype=object)"
      ]
     },
     "execution_count": 86,
     "metadata": {},
     "output_type": "execute_result"
    }
   ],
   "source": [
    "total_data[\"契約期間\"].unique()"
   ]
  },
  {
   "cell_type": "code",
   "execution_count": 87,
   "metadata": {},
   "outputs": [],
   "source": [
    "total_data[\"契約期間\"] = pd.to_datetime(total_data[\"契約期間\"], format=\"%Y年%m月まで\")"
   ]
  },
  {
   "cell_type": "code",
   "execution_count": 88,
   "metadata": {},
   "outputs": [
    {
     "data": {
      "text/plain": [
       "0    2021\n",
       "1    2021\n",
       "2    2021\n",
       "3    2021\n",
       "4    2021\n",
       "Name: 契約期間, dtype: int64"
      ]
     },
     "execution_count": 88,
     "metadata": {},
     "output_type": "execute_result"
    }
   ],
   "source": [
    "total_data[\"契約期間\"].dt.year.head()"
   ]
  },
  {
   "cell_type": "code",
   "execution_count": 89,
   "metadata": {},
   "outputs": [],
   "source": [
    "total_data[\"契約期間_月\"] = (total_data[\"契約期間\"].dt.year - 2019)*12 + total_data[\"契約期間\"].dt.month - 8"
   ]
  },
  {
   "cell_type": "code",
   "execution_count": 90,
   "metadata": {},
   "outputs": [
    {
     "data": {
      "text/plain": [
       "array([ 24,   0,  12,  60,  36,   2,  48,  20,  43,  31,   1,   7,  18,\n",
       "       264, 144,  10,  56,  23,  34,  19,  28,  39,  35,  30,  22,   9,\n",
       "        84, 120,  17,   4,  25,  72,  50,  67,  55,  33,  61,  57,   6,\n",
       "        11,  54,  45,  21,  16,  42,   5,  37, 180,  52,  66,   3,  15,\n",
       "        47])"
      ]
     },
     "execution_count": 90,
     "metadata": {},
     "output_type": "execute_result"
    }
   ],
   "source": [
    "total_data[\"契約期間_月\"].unique()"
   ]
  },
  {
   "cell_type": "code",
   "execution_count": 91,
   "metadata": {},
   "outputs": [],
   "source": [
    "total_data = total_data.drop(columns=\"契約期間\")"
   ]
  },
  {
   "cell_type": "code",
   "execution_count": 92,
   "metadata": {
    "scrolled": true
   },
   "outputs": [
    {
     "data": {
      "text/html": [
       "<div>\n",
       "<style scoped>\n",
       "    .dataframe tbody tr th:only-of-type {\n",
       "        vertical-align: middle;\n",
       "    }\n",
       "\n",
       "    .dataframe tbody tr th {\n",
       "        vertical-align: top;\n",
       "    }\n",
       "\n",
       "    .dataframe thead th {\n",
       "        text-align: right;\n",
       "    }\n",
       "</style>\n",
       "<table border=\"1\" class=\"dataframe\">\n",
       "  <thead>\n",
       "    <tr style=\"text-align: right;\">\n",
       "      <th></th>\n",
       "      <th>所在地</th>\n",
       "      <th>アクセス</th>\n",
       "      <th>バス・トイレ</th>\n",
       "      <th>キッチン</th>\n",
       "      <th>放送・通信</th>\n",
       "      <th>室内設備</th>\n",
       "      <th>駐車場</th>\n",
       "      <th>周辺環境</th>\n",
       "      <th>建物構造</th>\n",
       "    </tr>\n",
       "  </thead>\n",
       "  <tbody>\n",
       "    <tr>\n",
       "      <th>0</th>\n",
       "      <td>東京都北区滝野川3丁目</td>\n",
       "      <td>都営三田線\\t西巣鴨駅\\t徒歩4分\\t\\t埼京線\\t板橋駅\\t徒歩14分\\t\\t都電荒川線\\...</td>\n",
       "      <td>専用バス/\\t専用トイレ/\\tバス・トイレ別/\\tシャワー/\\t浴室乾燥機\\t/\\t温水洗浄便座</td>\n",
       "      <td>ガスコンロ/\\tコンロ2口/\\tシステムキッチン\\t/\\t給湯</td>\n",
       "      <td>インターネット対応/\\tCATV/\\tCSアンテナ/\\tBSアンテナ</td>\n",
       "      <td>エアコン付\\tシューズボックス/\\tバルコニー/\\tフローリング/\\t室内洗濯機置場/\\t敷...</td>\n",
       "      <td>駐輪場\\t空有</td>\n",
       "      <td>【小学校】 495m\\t【大学】 461m\\t【小学校】 962m\\t【公園】 1103m\\...</td>\n",
       "      <td>RC(鉄筋コンクリート)</td>\n",
       "    </tr>\n",
       "    <tr>\n",
       "      <th>1</th>\n",
       "      <td>東京都中央区月島3丁目</td>\n",
       "      <td>都営大江戸線\\t勝どき駅\\t徒歩5分\\t\\t有楽町線\\t月島駅\\t徒歩9分\\t\\t日比谷線\\...</td>\n",
       "      <td>専用トイレ/\\tシャワー/\\t温水洗浄便座</td>\n",
       "      <td>ガスコンロ/\\tシステムキッチン\\t/\\t給湯</td>\n",
       "      <td>インターネット対応</td>\n",
       "      <td>エアコン付\\tシューズボックス/\\tバルコニー/\\tフローリング/\\t室内洗濯機置場/\\t敷...</td>\n",
       "      <td>駐輪場\\t空有\\t駐車場\\t無\\tバイク置き場\\t無</td>\n",
       "      <td>【スーパー】 1283m</td>\n",
       "      <td>鉄骨造</td>\n",
       "    </tr>\n",
       "    <tr>\n",
       "      <th>2</th>\n",
       "      <td>東京都渋谷区笹塚2丁目</td>\n",
       "      <td>京王線\\t笹塚駅\\t徒歩6分\\t\\t京王線\\t代田橋駅\\t徒歩7分\\t\\t京王線\\t明大前駅...</td>\n",
       "      <td>専用バス/\\t専用トイレ/\\tバス・トイレ別/\\tシャワー/\\t浴室乾燥機\\t/\\t温水洗浄...</td>\n",
       "      <td>ガスコンロ/\\tコンロ2口/\\tシステムキッチン\\t/\\t給湯</td>\n",
       "      <td>インターネット対応/\\t光ファイバー/\\tCSアンテナ/\\tBSアンテナ</td>\n",
       "      <td>エアコン付\\tウォークインクローゼット\\tシューズボックス/\\tバルコニー/\\tフローリング...</td>\n",
       "      <td>駐輪場\\t空有\\tバイク置き場\\t空有\\t駐車場\\t近隣\\t30,000円(税込)\\t距離100m</td>\n",
       "      <td>【スーパー】 89m\\t【コンビニ】 184m\\t【コンビニ】 392m\\t【スーパー】 492m</td>\n",
       "      <td>RC(鉄筋コンクリート)</td>\n",
       "    </tr>\n",
       "    <tr>\n",
       "      <th>3</th>\n",
       "      <td>東京都杉並区高円寺南2丁目23-2</td>\n",
       "      <td>総武線・中央線(各停)\\t高円寺駅\\t徒歩9分\\t\\t丸ノ内線(池袋-荻窪)\\t新高円寺駅\\...</td>\n",
       "      <td>専用バス/\\t専用トイレ/\\tバス・トイレ別/\\tシャワー/\\t温水洗浄便座/\\t洗面台独立</td>\n",
       "      <td>ガスコンロ/\\t給湯</td>\n",
       "      <td>インターネット対応/\\t光ファイバー</td>\n",
       "      <td>エアコン付\\tシューズボックス/\\tバルコニー/\\t2面採光/\\t室内洗濯機置場/\\tエレベ...</td>\n",
       "      <td>駐車場\\t無\\t駐輪場\\t無\\tバイク置き場\\t無</td>\n",
       "      <td>【スーパー】 225m\\t【スーパー】 448m\\t【スーパー】 619m\\t【スーパー】 ...</td>\n",
       "      <td>RC(鉄筋コンクリート)</td>\n",
       "    </tr>\n",
       "    <tr>\n",
       "      <th>4</th>\n",
       "      <td>東京都葛飾区金町3丁目7-2</td>\n",
       "      <td>京成金町線\\t京成金町駅\\t徒歩5分\\t\\t常磐線\\t金町(東京都)駅\\t徒歩7分\\t\\t京...</td>\n",
       "      <td>専用バス/\\t専用トイレ/\\tバス・トイレ別/\\tシャワー/\\t追焚機能</td>\n",
       "      <td>給湯/\\t独立キッチン</td>\n",
       "      <td>NaN</td>\n",
       "      <td>バルコニー/\\tフローリング/\\t室内洗濯機置場\\t公営水道/\\t下水</td>\n",
       "      <td>駐車場\\t近隣\\t17,000円(税込)\\t距離300m\\t駐輪場\\t無\\tバイク置き場\\t無</td>\n",
       "      <td>【スーパー】 193m\\t【スーパー】 298m\\t【スーパー】 660m\\t【スーパー】 ...</td>\n",
       "      <td>木造</td>\n",
       "    </tr>\n",
       "  </tbody>\n",
       "</table>\n",
       "</div>"
      ],
      "text/plain": [
       "                 所在地                                               アクセス                                             バス・トイレ                             キッチン                                 放送・通信                                               室内設備                                                駐車場                                               周辺環境          建物構造\n",
       "0        東京都北区滝野川3丁目  都営三田線\\t西巣鴨駅\\t徒歩4分\\t\\t埼京線\\t板橋駅\\t徒歩14分\\t\\t都電荒川線\\...   専用バス/\\t専用トイレ/\\tバス・トイレ別/\\tシャワー/\\t浴室乾燥機\\t/\\t温水洗浄便座  ガスコンロ/\\tコンロ2口/\\tシステムキッチン\\t/\\t給湯    インターネット対応/\\tCATV/\\tCSアンテナ/\\tBSアンテナ  エアコン付\\tシューズボックス/\\tバルコニー/\\tフローリング/\\t室内洗濯機置場/\\t敷...                                            駐輪場\\t空有  【小学校】 495m\\t【大学】 461m\\t【小学校】 962m\\t【公園】 1103m\\...  RC(鉄筋コンクリート)\n",
       "1        東京都中央区月島3丁目  都営大江戸線\\t勝どき駅\\t徒歩5分\\t\\t有楽町線\\t月島駅\\t徒歩9分\\t\\t日比谷線\\...                              専用トイレ/\\tシャワー/\\t温水洗浄便座          ガスコンロ/\\tシステムキッチン\\t/\\t給湯                             インターネット対応  エアコン付\\tシューズボックス/\\tバルコニー/\\tフローリング/\\t室内洗濯機置場/\\t敷...                         駐輪場\\t空有\\t駐車場\\t無\\tバイク置き場\\t無                                       【スーパー】 1283m           鉄骨造\n",
       "2        東京都渋谷区笹塚2丁目  京王線\\t笹塚駅\\t徒歩6分\\t\\t京王線\\t代田橋駅\\t徒歩7分\\t\\t京王線\\t明大前駅...  専用バス/\\t専用トイレ/\\tバス・トイレ別/\\tシャワー/\\t浴室乾燥機\\t/\\t温水洗浄...  ガスコンロ/\\tコンロ2口/\\tシステムキッチン\\t/\\t給湯  インターネット対応/\\t光ファイバー/\\tCSアンテナ/\\tBSアンテナ  エアコン付\\tウォークインクローゼット\\tシューズボックス/\\tバルコニー/\\tフローリング...  駐輪場\\t空有\\tバイク置き場\\t空有\\t駐車場\\t近隣\\t30,000円(税込)\\t距離100m  【スーパー】 89m\\t【コンビニ】 184m\\t【コンビニ】 392m\\t【スーパー】 492m  RC(鉄筋コンクリート)\n",
       "3  東京都杉並区高円寺南2丁目23-2  総武線・中央線(各停)\\t高円寺駅\\t徒歩9分\\t\\t丸ノ内線(池袋-荻窪)\\t新高円寺駅\\...     専用バス/\\t専用トイレ/\\tバス・トイレ別/\\tシャワー/\\t温水洗浄便座/\\t洗面台独立                       ガスコンロ/\\t給湯                    インターネット対応/\\t光ファイバー  エアコン付\\tシューズボックス/\\tバルコニー/\\t2面採光/\\t室内洗濯機置場/\\tエレベ...                          駐車場\\t無\\t駐輪場\\t無\\tバイク置き場\\t無  【スーパー】 225m\\t【スーパー】 448m\\t【スーパー】 619m\\t【スーパー】 ...  RC(鉄筋コンクリート)\n",
       "4     東京都葛飾区金町3丁目7-2  京成金町線\\t京成金町駅\\t徒歩5分\\t\\t常磐線\\t金町(東京都)駅\\t徒歩7分\\t\\t京...               専用バス/\\t専用トイレ/\\tバス・トイレ別/\\tシャワー/\\t追焚機能                      給湯/\\t独立キッチン                                   NaN                バルコニー/\\tフローリング/\\t室内洗濯機置場\\t公営水道/\\t下水    駐車場\\t近隣\\t17,000円(税込)\\t距離300m\\t駐輪場\\t無\\tバイク置き場\\t無  【スーパー】 193m\\t【スーパー】 298m\\t【スーパー】 660m\\t【スーパー】 ...            木造"
      ]
     },
     "execution_count": 92,
     "metadata": {},
     "output_type": "execute_result"
    }
   ],
   "source": [
    "total_data.select_dtypes(\"object\").head()"
   ]
  },
  {
   "cell_type": "code",
   "execution_count": 93,
   "metadata": {},
   "outputs": [
    {
     "data": {
      "text/html": [
       "<div>\n",
       "<style scoped>\n",
       "    .dataframe tbody tr th:only-of-type {\n",
       "        vertical-align: middle;\n",
       "    }\n",
       "\n",
       "    .dataframe tbody tr th {\n",
       "        vertical-align: top;\n",
       "    }\n",
       "\n",
       "    .dataframe thead th {\n",
       "        text-align: right;\n",
       "    }\n",
       "</style>\n",
       "<table border=\"1\" class=\"dataframe\">\n",
       "  <thead>\n",
       "    <tr style=\"text-align: right;\">\n",
       "      <th></th>\n",
       "      <th>所在地</th>\n",
       "      <th>アクセス</th>\n",
       "      <th>間取り</th>\n",
       "      <th>面積</th>\n",
       "      <th>所在階</th>\n",
       "      <th>バス・トイレ</th>\n",
       "      <th>キッチン</th>\n",
       "      <th>放送・通信</th>\n",
       "      <th>室内設備</th>\n",
       "      <th>駐車場</th>\n",
       "      <th>周辺環境</th>\n",
       "      <th>建物構造</th>\n",
       "      <th>築年数_月</th>\n",
       "      <th>階建</th>\n",
       "      <th>所在階_地下</th>\n",
       "      <th>階建_地下</th>\n",
       "      <th>納戸</th>\n",
       "      <th>間取り_S</th>\n",
       "      <th>間取り_K</th>\n",
       "      <th>間取り_D</th>\n",
       "      <th>間取り_L</th>\n",
       "      <th>間取り_R</th>\n",
       "      <th>方角_南</th>\n",
       "      <th>方角_東</th>\n",
       "      <th>方角_西</th>\n",
       "      <th>方角_北</th>\n",
       "      <th>契約期間_定期借家</th>\n",
       "      <th>契約期間_月</th>\n",
       "    </tr>\n",
       "  </thead>\n",
       "  <tbody>\n",
       "    <tr>\n",
       "      <th>0</th>\n",
       "      <td>東京都北区滝野川3丁目</td>\n",
       "      <td>都営三田線\\t西巣鴨駅\\t徒歩4分\\t\\t埼京線\\t板橋駅\\t徒歩14分\\t\\t都電荒川線\\...</td>\n",
       "      <td>1</td>\n",
       "      <td>20.01</td>\n",
       "      <td>1</td>\n",
       "      <td>専用バス/\\t専用トイレ/\\tバス・トイレ別/\\tシャワー/\\t浴室乾燥機\\t/\\t温水洗浄便座</td>\n",
       "      <td>ガスコンロ/\\tコンロ2口/\\tシステムキッチン\\t/\\t給湯</td>\n",
       "      <td>インターネット対応/\\tCATV/\\tCSアンテナ/\\tBSアンテナ</td>\n",
       "      <td>エアコン付\\tシューズボックス/\\tバルコニー/\\tフローリング/\\t室内洗濯機置場/\\t敷...</td>\n",
       "      <td>駐輪場\\t空有</td>\n",
       "      <td>【小学校】 495m\\t【大学】 461m\\t【小学校】 962m\\t【公園】 1103m\\...</td>\n",
       "      <td>RC(鉄筋コンクリート)</td>\n",
       "      <td>117</td>\n",
       "      <td>12</td>\n",
       "      <td>0</td>\n",
       "      <td>0</td>\n",
       "      <td>0</td>\n",
       "      <td>0</td>\n",
       "      <td>1</td>\n",
       "      <td>0</td>\n",
       "      <td>0</td>\n",
       "      <td>0</td>\n",
       "      <td>1</td>\n",
       "      <td>1</td>\n",
       "      <td>0</td>\n",
       "      <td>0</td>\n",
       "      <td>0</td>\n",
       "      <td>24</td>\n",
       "    </tr>\n",
       "    <tr>\n",
       "      <th>1</th>\n",
       "      <td>東京都中央区月島3丁目</td>\n",
       "      <td>都営大江戸線\\t勝どき駅\\t徒歩5分\\t\\t有楽町線\\t月島駅\\t徒歩9分\\t\\t日比谷線\\...</td>\n",
       "      <td>1</td>\n",
       "      <td>16.50</td>\n",
       "      <td>5</td>\n",
       "      <td>専用トイレ/\\tシャワー/\\t温水洗浄便座</td>\n",
       "      <td>ガスコンロ/\\tシステムキッチン\\t/\\t給湯</td>\n",
       "      <td>インターネット対応</td>\n",
       "      <td>エアコン付\\tシューズボックス/\\tバルコニー/\\tフローリング/\\t室内洗濯機置場/\\t敷...</td>\n",
       "      <td>駐輪場\\t空有\\t駐車場\\t無\\tバイク置き場\\t無</td>\n",
       "      <td>【スーパー】 1283m</td>\n",
       "      <td>鉄骨造</td>\n",
       "      <td>538</td>\n",
       "      <td>10</td>\n",
       "      <td>0</td>\n",
       "      <td>0</td>\n",
       "      <td>0</td>\n",
       "      <td>0</td>\n",
       "      <td>0</td>\n",
       "      <td>0</td>\n",
       "      <td>0</td>\n",
       "      <td>1</td>\n",
       "      <td>0</td>\n",
       "      <td>0</td>\n",
       "      <td>0</td>\n",
       "      <td>0</td>\n",
       "      <td>0</td>\n",
       "      <td>24</td>\n",
       "    </tr>\n",
       "    <tr>\n",
       "      <th>2</th>\n",
       "      <td>東京都渋谷区笹塚2丁目</td>\n",
       "      <td>京王線\\t笹塚駅\\t徒歩6分\\t\\t京王線\\t代田橋駅\\t徒歩7分\\t\\t京王線\\t明大前駅...</td>\n",
       "      <td>1</td>\n",
       "      <td>22.05</td>\n",
       "      <td>12</td>\n",
       "      <td>専用バス/\\t専用トイレ/\\tバス・トイレ別/\\tシャワー/\\t浴室乾燥機\\t/\\t温水洗浄...</td>\n",
       "      <td>ガスコンロ/\\tコンロ2口/\\tシステムキッチン\\t/\\t給湯</td>\n",
       "      <td>インターネット対応/\\t光ファイバー/\\tCSアンテナ/\\tBSアンテナ</td>\n",
       "      <td>エアコン付\\tウォークインクローゼット\\tシューズボックス/\\tバルコニー/\\tフローリング...</td>\n",
       "      <td>駐輪場\\t空有\\tバイク置き場\\t空有\\t駐車場\\t近隣\\t30,000円(税込)\\t距離100m</td>\n",
       "      <td>【スーパー】 89m\\t【コンビニ】 184m\\t【コンビニ】 392m\\t【スーパー】 492m</td>\n",
       "      <td>RC(鉄筋コンクリート)</td>\n",
       "      <td>102</td>\n",
       "      <td>15</td>\n",
       "      <td>0</td>\n",
       "      <td>0</td>\n",
       "      <td>0</td>\n",
       "      <td>0</td>\n",
       "      <td>1</td>\n",
       "      <td>0</td>\n",
       "      <td>0</td>\n",
       "      <td>0</td>\n",
       "      <td>1</td>\n",
       "      <td>0</td>\n",
       "      <td>0</td>\n",
       "      <td>0</td>\n",
       "      <td>0</td>\n",
       "      <td>24</td>\n",
       "    </tr>\n",
       "    <tr>\n",
       "      <th>3</th>\n",
       "      <td>東京都杉並区高円寺南2丁目23-2</td>\n",
       "      <td>総武線・中央線(各停)\\t高円寺駅\\t徒歩9分\\t\\t丸ノ内線(池袋-荻窪)\\t新高円寺駅\\...</td>\n",
       "      <td>2</td>\n",
       "      <td>60.48</td>\n",
       "      <td>3</td>\n",
       "      <td>専用バス/\\t専用トイレ/\\tバス・トイレ別/\\tシャワー/\\t温水洗浄便座/\\t洗面台独立</td>\n",
       "      <td>ガスコンロ/\\t給湯</td>\n",
       "      <td>インターネット対応/\\t光ファイバー</td>\n",
       "      <td>エアコン付\\tシューズボックス/\\tバルコニー/\\t2面採光/\\t室内洗濯機置場/\\tエレベ...</td>\n",
       "      <td>駐車場\\t無\\t駐輪場\\t無\\tバイク置き場\\t無</td>\n",
       "      <td>【スーパー】 225m\\t【スーパー】 448m\\t【スーパー】 619m\\t【スーパー】 ...</td>\n",
       "      <td>RC(鉄筋コンクリート)</td>\n",
       "      <td>352</td>\n",
       "      <td>4</td>\n",
       "      <td>0</td>\n",
       "      <td>0</td>\n",
       "      <td>0</td>\n",
       "      <td>0</td>\n",
       "      <td>1</td>\n",
       "      <td>1</td>\n",
       "      <td>1</td>\n",
       "      <td>0</td>\n",
       "      <td>1</td>\n",
       "      <td>0</td>\n",
       "      <td>0</td>\n",
       "      <td>0</td>\n",
       "      <td>1</td>\n",
       "      <td>24</td>\n",
       "    </tr>\n",
       "    <tr>\n",
       "      <th>4</th>\n",
       "      <td>東京都葛飾区金町3丁目7-2</td>\n",
       "      <td>京成金町線\\t京成金町駅\\t徒歩5分\\t\\t常磐線\\t金町(東京都)駅\\t徒歩7分\\t\\t京...</td>\n",
       "      <td>2</td>\n",
       "      <td>39.66</td>\n",
       "      <td>1</td>\n",
       "      <td>専用バス/\\t専用トイレ/\\tバス・トイレ別/\\tシャワー/\\t追焚機能</td>\n",
       "      <td>給湯/\\t独立キッチン</td>\n",
       "      <td>NaN</td>\n",
       "      <td>バルコニー/\\tフローリング/\\t室内洗濯機置場\\t公営水道/\\t下水</td>\n",
       "      <td>駐車場\\t近隣\\t17,000円(税込)\\t距離300m\\t駐輪場\\t無\\tバイク置き場\\t無</td>\n",
       "      <td>【スーパー】 193m\\t【スーパー】 298m\\t【スーパー】 660m\\t【スーパー】 ...</td>\n",
       "      <td>木造</td>\n",
       "      <td>379</td>\n",
       "      <td>2</td>\n",
       "      <td>0</td>\n",
       "      <td>0</td>\n",
       "      <td>0</td>\n",
       "      <td>0</td>\n",
       "      <td>1</td>\n",
       "      <td>1</td>\n",
       "      <td>0</td>\n",
       "      <td>0</td>\n",
       "      <td>1</td>\n",
       "      <td>0</td>\n",
       "      <td>0</td>\n",
       "      <td>0</td>\n",
       "      <td>0</td>\n",
       "      <td>24</td>\n",
       "    </tr>\n",
       "  </tbody>\n",
       "</table>\n",
       "</div>"
      ],
      "text/plain": [
       "                 所在地                                               アクセス  間取り     面積  所在階                                             バス・トイレ                             キッチン                                 放送・通信                                               室内設備                                                駐車場                                               周辺環境          建物構造  築年数_月  階建  所在階_地下  階建_地下  納戸  間取り_S  間取り_K  間取り_D  間取り_L  間取り_R  方角_南  方角_東  方角_西  方角_北  契約期間_定期借家  契約期間_月\n",
       "0        東京都北区滝野川3丁目  都営三田線\\t西巣鴨駅\\t徒歩4分\\t\\t埼京線\\t板橋駅\\t徒歩14分\\t\\t都電荒川線\\...    1  20.01    1   専用バス/\\t専用トイレ/\\tバス・トイレ別/\\tシャワー/\\t浴室乾燥機\\t/\\t温水洗浄便座  ガスコンロ/\\tコンロ2口/\\tシステムキッチン\\t/\\t給湯    インターネット対応/\\tCATV/\\tCSアンテナ/\\tBSアンテナ  エアコン付\\tシューズボックス/\\tバルコニー/\\tフローリング/\\t室内洗濯機置場/\\t敷...                                            駐輪場\\t空有  【小学校】 495m\\t【大学】 461m\\t【小学校】 962m\\t【公園】 1103m\\...  RC(鉄筋コンクリート)    117  12       0      0   0      0      1      0      0      0     1     1     0     0          0      24\n",
       "1        東京都中央区月島3丁目  都営大江戸線\\t勝どき駅\\t徒歩5分\\t\\t有楽町線\\t月島駅\\t徒歩9分\\t\\t日比谷線\\...    1  16.50    5                              専用トイレ/\\tシャワー/\\t温水洗浄便座          ガスコンロ/\\tシステムキッチン\\t/\\t給湯                             インターネット対応  エアコン付\\tシューズボックス/\\tバルコニー/\\tフローリング/\\t室内洗濯機置場/\\t敷...                         駐輪場\\t空有\\t駐車場\\t無\\tバイク置き場\\t無                                       【スーパー】 1283m           鉄骨造    538  10       0      0   0      0      0      0      0      1     0     0     0     0          0      24\n",
       "2        東京都渋谷区笹塚2丁目  京王線\\t笹塚駅\\t徒歩6分\\t\\t京王線\\t代田橋駅\\t徒歩7分\\t\\t京王線\\t明大前駅...    1  22.05   12  専用バス/\\t専用トイレ/\\tバス・トイレ別/\\tシャワー/\\t浴室乾燥機\\t/\\t温水洗浄...  ガスコンロ/\\tコンロ2口/\\tシステムキッチン\\t/\\t給湯  インターネット対応/\\t光ファイバー/\\tCSアンテナ/\\tBSアンテナ  エアコン付\\tウォークインクローゼット\\tシューズボックス/\\tバルコニー/\\tフローリング...  駐輪場\\t空有\\tバイク置き場\\t空有\\t駐車場\\t近隣\\t30,000円(税込)\\t距離100m  【スーパー】 89m\\t【コンビニ】 184m\\t【コンビニ】 392m\\t【スーパー】 492m  RC(鉄筋コンクリート)    102  15       0      0   0      0      1      0      0      0     1     0     0     0          0      24\n",
       "3  東京都杉並区高円寺南2丁目23-2  総武線・中央線(各停)\\t高円寺駅\\t徒歩9分\\t\\t丸ノ内線(池袋-荻窪)\\t新高円寺駅\\...    2  60.48    3     専用バス/\\t専用トイレ/\\tバス・トイレ別/\\tシャワー/\\t温水洗浄便座/\\t洗面台独立                       ガスコンロ/\\t給湯                    インターネット対応/\\t光ファイバー  エアコン付\\tシューズボックス/\\tバルコニー/\\t2面採光/\\t室内洗濯機置場/\\tエレベ...                          駐車場\\t無\\t駐輪場\\t無\\tバイク置き場\\t無  【スーパー】 225m\\t【スーパー】 448m\\t【スーパー】 619m\\t【スーパー】 ...  RC(鉄筋コンクリート)    352   4       0      0   0      0      1      1      1      0     1     0     0     0          1      24\n",
       "4     東京都葛飾区金町3丁目7-2  京成金町線\\t京成金町駅\\t徒歩5分\\t\\t常磐線\\t金町(東京都)駅\\t徒歩7分\\t\\t京...    2  39.66    1               専用バス/\\t専用トイレ/\\tバス・トイレ別/\\tシャワー/\\t追焚機能                      給湯/\\t独立キッチン                                   NaN                バルコニー/\\tフローリング/\\t室内洗濯機置場\\t公営水道/\\t下水    駐車場\\t近隣\\t17,000円(税込)\\t距離300m\\t駐輪場\\t無\\tバイク置き場\\t無  【スーパー】 193m\\t【スーパー】 298m\\t【スーパー】 660m\\t【スーパー】 ...            木造    379   2       0      0   0      0      1      1      0      0     1     0     0     0          0      24"
      ]
     },
     "execution_count": 93,
     "metadata": {},
     "output_type": "execute_result"
    }
   ],
   "source": [
    "total_data.head()"
   ]
  },
  {
   "cell_type": "markdown",
   "metadata": {},
   "source": [
    "# 所在地　(incomplete)"
   ]
  },
  {
   "cell_type": "code",
   "execution_count": 94,
   "metadata": {},
   "outputs": [
    {
     "data": {
      "text/plain": [
       "array(['東京都北区滝野川3丁目', '東京都中央区月島3丁目', '東京都渋谷区笹塚2丁目', ...,\n",
       "       '東京都練馬区石神井台3丁目38-7', '東京都世田谷区梅丘1丁目6-8', '東京都世田谷区下馬1丁目5-3'],\n",
       "      dtype=object)"
      ]
     },
     "execution_count": 94,
     "metadata": {},
     "output_type": "execute_result"
    }
   ],
   "source": [
    "total_data[\"所在地\"].unique()"
   ]
  },
  {
   "cell_type": "code",
   "execution_count": 95,
   "metadata": {},
   "outputs": [],
   "source": [
    "total_data[\"所在地\"] = total_data[\"所在地\"].str.replace(\"東京都\", \"\")"
   ]
  },
  {
   "cell_type": "code",
   "execution_count": 96,
   "metadata": {},
   "outputs": [],
   "source": [
    "total_data[\"所在地_区\"] = total_data[\"所在地\"].str.split(\"区\", expand=True)[0]"
   ]
  },
  {
   "cell_type": "code",
   "execution_count": 97,
   "metadata": {},
   "outputs": [
    {
     "data": {
      "text/plain": [
       "array(['北', '中央', '渋谷', '杉並', '葛飾', '荒川', '練馬', '目黒', '文京', '板橋', '大田',\n",
       "       '江戸川', '港', '墨田', '新宿', '中野', '豊島', '台東', '足立', '世田谷', '江東', '品川',\n",
       "       '千代田'], dtype=object)"
      ]
     },
     "execution_count": 97,
     "metadata": {},
     "output_type": "execute_result"
    }
   ],
   "source": [
    "total_data[\"所在地_区\"].unique()"
   ]
  },
  {
   "cell_type": "code",
   "execution_count": 98,
   "metadata": {},
   "outputs": [],
   "source": [
    "total_data[\"所在地\"] = total_data[\"所在地\"].str.split(\"区\", expand=True)[1]"
   ]
  },
  {
   "cell_type": "code",
   "execution_count": 99,
   "metadata": {},
   "outputs": [
    {
     "data": {
      "text/plain": [
       "0         滝野川3丁目\n",
       "1          月島3丁目\n",
       "2          笹塚2丁目\n",
       "3    高円寺南2丁目23-2\n",
       "4       金町3丁目7-2\n",
       "Name: 所在地, dtype: object"
      ]
     },
     "execution_count": 99,
     "metadata": {},
     "output_type": "execute_result"
    }
   ],
   "source": [
    "total_data[\"所在地\"].head()"
   ]
  },
  {
   "cell_type": "code",
   "execution_count": 100,
   "metadata": {},
   "outputs": [
    {
     "data": {
      "text/plain": [
       "(93,)"
      ]
     },
     "execution_count": 100,
     "metadata": {},
     "output_type": "execute_result"
    }
   ],
   "source": [
    "total_data['所在地'][total_data['所在地'].str.contains(\"市\")].shape"
   ]
  },
  {
   "cell_type": "code",
   "execution_count": 101,
   "metadata": {},
   "outputs": [
    {
     "data": {
      "text/plain": [
       "(93,)"
      ]
     },
     "execution_count": 101,
     "metadata": {},
     "output_type": "execute_result"
    }
   ],
   "source": [
    "total_data['所在地'][total_data['所在地'].str.startswith(\"市\")].shape"
   ]
  },
  {
   "cell_type": "markdown",
   "metadata": {},
   "source": [
    "市区 is used and all other addresses that has 市 starts with 市 so it is safe to remove it"
   ]
  },
  {
   "cell_type": "code",
   "execution_count": 102,
   "metadata": {},
   "outputs": [],
   "source": [
    "total_data = total_data.drop(columns=\"所在地\")"
   ]
  },
  {
   "cell_type": "code",
   "execution_count": 103,
   "metadata": {},
   "outputs": [
    {
     "data": {
      "text/html": [
       "<div>\n",
       "<style scoped>\n",
       "    .dataframe tbody tr th:only-of-type {\n",
       "        vertical-align: middle;\n",
       "    }\n",
       "\n",
       "    .dataframe tbody tr th {\n",
       "        vertical-align: top;\n",
       "    }\n",
       "\n",
       "    .dataframe thead th {\n",
       "        text-align: right;\n",
       "    }\n",
       "</style>\n",
       "<table border=\"1\" class=\"dataframe\">\n",
       "  <thead>\n",
       "    <tr style=\"text-align: right;\">\n",
       "      <th></th>\n",
       "      <th>アクセス</th>\n",
       "      <th>間取り</th>\n",
       "      <th>面積</th>\n",
       "      <th>所在階</th>\n",
       "      <th>バス・トイレ</th>\n",
       "      <th>キッチン</th>\n",
       "      <th>放送・通信</th>\n",
       "      <th>室内設備</th>\n",
       "      <th>駐車場</th>\n",
       "      <th>周辺環境</th>\n",
       "      <th>建物構造</th>\n",
       "      <th>築年数_月</th>\n",
       "      <th>階建</th>\n",
       "      <th>所在階_地下</th>\n",
       "      <th>階建_地下</th>\n",
       "      <th>納戸</th>\n",
       "      <th>間取り_S</th>\n",
       "      <th>間取り_K</th>\n",
       "      <th>間取り_D</th>\n",
       "      <th>間取り_L</th>\n",
       "      <th>間取り_R</th>\n",
       "      <th>方角_南</th>\n",
       "      <th>方角_東</th>\n",
       "      <th>方角_西</th>\n",
       "      <th>方角_北</th>\n",
       "      <th>契約期間_定期借家</th>\n",
       "      <th>契約期間_月</th>\n",
       "      <th>所在地_区</th>\n",
       "    </tr>\n",
       "  </thead>\n",
       "  <tbody>\n",
       "    <tr>\n",
       "      <th>0</th>\n",
       "      <td>都営三田線\\t西巣鴨駅\\t徒歩4分\\t\\t埼京線\\t板橋駅\\t徒歩14分\\t\\t都電荒川線\\...</td>\n",
       "      <td>1</td>\n",
       "      <td>20.01</td>\n",
       "      <td>1</td>\n",
       "      <td>専用バス/\\t専用トイレ/\\tバス・トイレ別/\\tシャワー/\\t浴室乾燥機\\t/\\t温水洗浄便座</td>\n",
       "      <td>ガスコンロ/\\tコンロ2口/\\tシステムキッチン\\t/\\t給湯</td>\n",
       "      <td>インターネット対応/\\tCATV/\\tCSアンテナ/\\tBSアンテナ</td>\n",
       "      <td>エアコン付\\tシューズボックス/\\tバルコニー/\\tフローリング/\\t室内洗濯機置場/\\t敷...</td>\n",
       "      <td>駐輪場\\t空有</td>\n",
       "      <td>【小学校】 495m\\t【大学】 461m\\t【小学校】 962m\\t【公園】 1103m\\...</td>\n",
       "      <td>RC(鉄筋コンクリート)</td>\n",
       "      <td>117</td>\n",
       "      <td>12</td>\n",
       "      <td>0</td>\n",
       "      <td>0</td>\n",
       "      <td>0</td>\n",
       "      <td>0</td>\n",
       "      <td>1</td>\n",
       "      <td>0</td>\n",
       "      <td>0</td>\n",
       "      <td>0</td>\n",
       "      <td>1</td>\n",
       "      <td>1</td>\n",
       "      <td>0</td>\n",
       "      <td>0</td>\n",
       "      <td>0</td>\n",
       "      <td>24</td>\n",
       "      <td>北</td>\n",
       "    </tr>\n",
       "    <tr>\n",
       "      <th>1</th>\n",
       "      <td>都営大江戸線\\t勝どき駅\\t徒歩5分\\t\\t有楽町線\\t月島駅\\t徒歩9分\\t\\t日比谷線\\...</td>\n",
       "      <td>1</td>\n",
       "      <td>16.50</td>\n",
       "      <td>5</td>\n",
       "      <td>専用トイレ/\\tシャワー/\\t温水洗浄便座</td>\n",
       "      <td>ガスコンロ/\\tシステムキッチン\\t/\\t給湯</td>\n",
       "      <td>インターネット対応</td>\n",
       "      <td>エアコン付\\tシューズボックス/\\tバルコニー/\\tフローリング/\\t室内洗濯機置場/\\t敷...</td>\n",
       "      <td>駐輪場\\t空有\\t駐車場\\t無\\tバイク置き場\\t無</td>\n",
       "      <td>【スーパー】 1283m</td>\n",
       "      <td>鉄骨造</td>\n",
       "      <td>538</td>\n",
       "      <td>10</td>\n",
       "      <td>0</td>\n",
       "      <td>0</td>\n",
       "      <td>0</td>\n",
       "      <td>0</td>\n",
       "      <td>0</td>\n",
       "      <td>0</td>\n",
       "      <td>0</td>\n",
       "      <td>1</td>\n",
       "      <td>0</td>\n",
       "      <td>0</td>\n",
       "      <td>0</td>\n",
       "      <td>0</td>\n",
       "      <td>0</td>\n",
       "      <td>24</td>\n",
       "      <td>中央</td>\n",
       "    </tr>\n",
       "    <tr>\n",
       "      <th>2</th>\n",
       "      <td>京王線\\t笹塚駅\\t徒歩6分\\t\\t京王線\\t代田橋駅\\t徒歩7分\\t\\t京王線\\t明大前駅...</td>\n",
       "      <td>1</td>\n",
       "      <td>22.05</td>\n",
       "      <td>12</td>\n",
       "      <td>専用バス/\\t専用トイレ/\\tバス・トイレ別/\\tシャワー/\\t浴室乾燥機\\t/\\t温水洗浄...</td>\n",
       "      <td>ガスコンロ/\\tコンロ2口/\\tシステムキッチン\\t/\\t給湯</td>\n",
       "      <td>インターネット対応/\\t光ファイバー/\\tCSアンテナ/\\tBSアンテナ</td>\n",
       "      <td>エアコン付\\tウォークインクローゼット\\tシューズボックス/\\tバルコニー/\\tフローリング...</td>\n",
       "      <td>駐輪場\\t空有\\tバイク置き場\\t空有\\t駐車場\\t近隣\\t30,000円(税込)\\t距離100m</td>\n",
       "      <td>【スーパー】 89m\\t【コンビニ】 184m\\t【コンビニ】 392m\\t【スーパー】 492m</td>\n",
       "      <td>RC(鉄筋コンクリート)</td>\n",
       "      <td>102</td>\n",
       "      <td>15</td>\n",
       "      <td>0</td>\n",
       "      <td>0</td>\n",
       "      <td>0</td>\n",
       "      <td>0</td>\n",
       "      <td>1</td>\n",
       "      <td>0</td>\n",
       "      <td>0</td>\n",
       "      <td>0</td>\n",
       "      <td>1</td>\n",
       "      <td>0</td>\n",
       "      <td>0</td>\n",
       "      <td>0</td>\n",
       "      <td>0</td>\n",
       "      <td>24</td>\n",
       "      <td>渋谷</td>\n",
       "    </tr>\n",
       "    <tr>\n",
       "      <th>3</th>\n",
       "      <td>総武線・中央線(各停)\\t高円寺駅\\t徒歩9分\\t\\t丸ノ内線(池袋-荻窪)\\t新高円寺駅\\...</td>\n",
       "      <td>2</td>\n",
       "      <td>60.48</td>\n",
       "      <td>3</td>\n",
       "      <td>専用バス/\\t専用トイレ/\\tバス・トイレ別/\\tシャワー/\\t温水洗浄便座/\\t洗面台独立</td>\n",
       "      <td>ガスコンロ/\\t給湯</td>\n",
       "      <td>インターネット対応/\\t光ファイバー</td>\n",
       "      <td>エアコン付\\tシューズボックス/\\tバルコニー/\\t2面採光/\\t室内洗濯機置場/\\tエレベ...</td>\n",
       "      <td>駐車場\\t無\\t駐輪場\\t無\\tバイク置き場\\t無</td>\n",
       "      <td>【スーパー】 225m\\t【スーパー】 448m\\t【スーパー】 619m\\t【スーパー】 ...</td>\n",
       "      <td>RC(鉄筋コンクリート)</td>\n",
       "      <td>352</td>\n",
       "      <td>4</td>\n",
       "      <td>0</td>\n",
       "      <td>0</td>\n",
       "      <td>0</td>\n",
       "      <td>0</td>\n",
       "      <td>1</td>\n",
       "      <td>1</td>\n",
       "      <td>1</td>\n",
       "      <td>0</td>\n",
       "      <td>1</td>\n",
       "      <td>0</td>\n",
       "      <td>0</td>\n",
       "      <td>0</td>\n",
       "      <td>1</td>\n",
       "      <td>24</td>\n",
       "      <td>杉並</td>\n",
       "    </tr>\n",
       "    <tr>\n",
       "      <th>4</th>\n",
       "      <td>京成金町線\\t京成金町駅\\t徒歩5分\\t\\t常磐線\\t金町(東京都)駅\\t徒歩7分\\t\\t京...</td>\n",
       "      <td>2</td>\n",
       "      <td>39.66</td>\n",
       "      <td>1</td>\n",
       "      <td>専用バス/\\t専用トイレ/\\tバス・トイレ別/\\tシャワー/\\t追焚機能</td>\n",
       "      <td>給湯/\\t独立キッチン</td>\n",
       "      <td>NaN</td>\n",
       "      <td>バルコニー/\\tフローリング/\\t室内洗濯機置場\\t公営水道/\\t下水</td>\n",
       "      <td>駐車場\\t近隣\\t17,000円(税込)\\t距離300m\\t駐輪場\\t無\\tバイク置き場\\t無</td>\n",
       "      <td>【スーパー】 193m\\t【スーパー】 298m\\t【スーパー】 660m\\t【スーパー】 ...</td>\n",
       "      <td>木造</td>\n",
       "      <td>379</td>\n",
       "      <td>2</td>\n",
       "      <td>0</td>\n",
       "      <td>0</td>\n",
       "      <td>0</td>\n",
       "      <td>0</td>\n",
       "      <td>1</td>\n",
       "      <td>1</td>\n",
       "      <td>0</td>\n",
       "      <td>0</td>\n",
       "      <td>1</td>\n",
       "      <td>0</td>\n",
       "      <td>0</td>\n",
       "      <td>0</td>\n",
       "      <td>0</td>\n",
       "      <td>24</td>\n",
       "      <td>葛飾</td>\n",
       "    </tr>\n",
       "  </tbody>\n",
       "</table>\n",
       "</div>"
      ],
      "text/plain": [
       "                                                アクセス  間取り     面積  所在階                                             バス・トイレ                             キッチン                                 放送・通信                                               室内設備                                                駐車場                                               周辺環境          建物構造  築年数_月  階建  所在階_地下  階建_地下  納戸  間取り_S  間取り_K  間取り_D  間取り_L  間取り_R  方角_南  方角_東  方角_西  方角_北  契約期間_定期借家  契約期間_月 所在地_区\n",
       "0  都営三田線\\t西巣鴨駅\\t徒歩4分\\t\\t埼京線\\t板橋駅\\t徒歩14分\\t\\t都電荒川線\\...    1  20.01    1   専用バス/\\t専用トイレ/\\tバス・トイレ別/\\tシャワー/\\t浴室乾燥機\\t/\\t温水洗浄便座  ガスコンロ/\\tコンロ2口/\\tシステムキッチン\\t/\\t給湯    インターネット対応/\\tCATV/\\tCSアンテナ/\\tBSアンテナ  エアコン付\\tシューズボックス/\\tバルコニー/\\tフローリング/\\t室内洗濯機置場/\\t敷...                                            駐輪場\\t空有  【小学校】 495m\\t【大学】 461m\\t【小学校】 962m\\t【公園】 1103m\\...  RC(鉄筋コンクリート)    117  12       0      0   0      0      1      0      0      0     1     1     0     0          0      24     北\n",
       "1  都営大江戸線\\t勝どき駅\\t徒歩5分\\t\\t有楽町線\\t月島駅\\t徒歩9分\\t\\t日比谷線\\...    1  16.50    5                              専用トイレ/\\tシャワー/\\t温水洗浄便座          ガスコンロ/\\tシステムキッチン\\t/\\t給湯                             インターネット対応  エアコン付\\tシューズボックス/\\tバルコニー/\\tフローリング/\\t室内洗濯機置場/\\t敷...                         駐輪場\\t空有\\t駐車場\\t無\\tバイク置き場\\t無                                       【スーパー】 1283m           鉄骨造    538  10       0      0   0      0      0      0      0      1     0     0     0     0          0      24    中央\n",
       "2  京王線\\t笹塚駅\\t徒歩6分\\t\\t京王線\\t代田橋駅\\t徒歩7分\\t\\t京王線\\t明大前駅...    1  22.05   12  専用バス/\\t専用トイレ/\\tバス・トイレ別/\\tシャワー/\\t浴室乾燥機\\t/\\t温水洗浄...  ガスコンロ/\\tコンロ2口/\\tシステムキッチン\\t/\\t給湯  インターネット対応/\\t光ファイバー/\\tCSアンテナ/\\tBSアンテナ  エアコン付\\tウォークインクローゼット\\tシューズボックス/\\tバルコニー/\\tフローリング...  駐輪場\\t空有\\tバイク置き場\\t空有\\t駐車場\\t近隣\\t30,000円(税込)\\t距離100m  【スーパー】 89m\\t【コンビニ】 184m\\t【コンビニ】 392m\\t【スーパー】 492m  RC(鉄筋コンクリート)    102  15       0      0   0      0      1      0      0      0     1     0     0     0          0      24    渋谷\n",
       "3  総武線・中央線(各停)\\t高円寺駅\\t徒歩9分\\t\\t丸ノ内線(池袋-荻窪)\\t新高円寺駅\\...    2  60.48    3     専用バス/\\t専用トイレ/\\tバス・トイレ別/\\tシャワー/\\t温水洗浄便座/\\t洗面台独立                       ガスコンロ/\\t給湯                    インターネット対応/\\t光ファイバー  エアコン付\\tシューズボックス/\\tバルコニー/\\t2面採光/\\t室内洗濯機置場/\\tエレベ...                          駐車場\\t無\\t駐輪場\\t無\\tバイク置き場\\t無  【スーパー】 225m\\t【スーパー】 448m\\t【スーパー】 619m\\t【スーパー】 ...  RC(鉄筋コンクリート)    352   4       0      0   0      0      1      1      1      0     1     0     0     0          1      24    杉並\n",
       "4  京成金町線\\t京成金町駅\\t徒歩5分\\t\\t常磐線\\t金町(東京都)駅\\t徒歩7分\\t\\t京...    2  39.66    1               専用バス/\\t専用トイレ/\\tバス・トイレ別/\\tシャワー/\\t追焚機能                      給湯/\\t独立キッチン                                   NaN                バルコニー/\\tフローリング/\\t室内洗濯機置場\\t公営水道/\\t下水    駐車場\\t近隣\\t17,000円(税込)\\t距離300m\\t駐輪場\\t無\\tバイク置き場\\t無  【スーパー】 193m\\t【スーパー】 298m\\t【スーパー】 660m\\t【スーパー】 ...            木造    379   2       0      0   0      0      1      1      0      0     1     0     0     0          0      24    葛飾"
      ]
     },
     "execution_count": 103,
     "metadata": {},
     "output_type": "execute_result"
    }
   ],
   "source": [
    "total_data.head()"
   ]
  },
  {
   "cell_type": "markdown",
   "metadata": {},
   "source": [
    "# Split multiple values in columns\n",
    "# It's better to do them one by one"
   ]
  },
  {
   "cell_type": "code",
   "execution_count": 104,
   "metadata": {},
   "outputs": [],
   "source": [
    "# for column in total_data.select_dtypes(\"object\").columns:\n",
    "#     print(column)\n",
    "#     df = total_data[column].str.split(\"\\t\", expand=True)\n",
    "#     string = [column + \"_\" + str(i) for i in range(df.shape[1])]\n",
    "#     df.columns = string\n",
    "#     total_data = pd.concat([total_data, df], axis=1)\n",
    "#     total_data = total_data.drop(column, axis=1)"
   ]
  },
  {
   "cell_type": "code",
   "execution_count": 105,
   "metadata": {},
   "outputs": [],
   "source": [
    "# total_data.columns"
   ]
  },
  {
   "cell_type": "code",
   "execution_count": 106,
   "metadata": {},
   "outputs": [],
   "source": [
    "# total_data.head()"
   ]
  },
  {
   "cell_type": "markdown",
   "metadata": {},
   "source": [
    "# Access"
   ]
  },
  {
   "cell_type": "code",
   "execution_count": 107,
   "metadata": {},
   "outputs": [
    {
     "data": {
      "text/plain": [
       "0    都営三田線\\t西巣鴨駅\\t徒歩4分\\t\\t埼京線\\t板橋駅\\t徒歩14分\\t\\t都電荒川線\\...\n",
       "1    都営大江戸線\\t勝どき駅\\t徒歩5分\\t\\t有楽町線\\t月島駅\\t徒歩9分\\t\\t日比谷線\\...\n",
       "2    京王線\\t笹塚駅\\t徒歩6分\\t\\t京王線\\t代田橋駅\\t徒歩7分\\t\\t京王線\\t明大前駅...\n",
       "3    総武線・中央線(各停)\\t高円寺駅\\t徒歩9分\\t\\t丸ノ内線(池袋-荻窪)\\t新高円寺駅\\...\n",
       "4    京成金町線\\t京成金町駅\\t徒歩5分\\t\\t常磐線\\t金町(東京都)駅\\t徒歩7分\\t\\t京...\n",
       "Name: アクセス, dtype: object"
      ]
     },
     "execution_count": 107,
     "metadata": {},
     "output_type": "execute_result"
    }
   ],
   "source": [
    "total_data[\"アクセス\"].head(5)"
   ]
  },
  {
   "cell_type": "code",
   "execution_count": 108,
   "metadata": {},
   "outputs": [
    {
     "data": {
      "text/plain": [
       "array([10,  6,  8, 12,  2,  4])"
      ]
     },
     "execution_count": 108,
     "metadata": {},
     "output_type": "execute_result"
    }
   ],
   "source": [
    "total_data[\"アクセス\"].str.count(\"\\t\").unique()"
   ]
  },
  {
   "cell_type": "markdown",
   "metadata": {},
   "source": [
    "## 2 \\t"
   ]
  },
  {
   "cell_type": "code",
   "execution_count": 109,
   "metadata": {},
   "outputs": [],
   "source": [
    "temp_df = total_data[\"アクセス\"].where(total_data[\"アクセス\"].str.count(\"\\t\") == 2)"
   ]
  },
  {
   "cell_type": "code",
   "execution_count": 110,
   "metadata": {},
   "outputs": [
    {
     "data": {
      "text/plain": [
       "(62732,)"
      ]
     },
     "execution_count": 110,
     "metadata": {},
     "output_type": "execute_result"
    }
   ],
   "source": [
    "temp_df.shape"
   ]
  },
  {
   "cell_type": "code",
   "execution_count": 111,
   "metadata": {},
   "outputs": [
    {
     "data": {
      "text/plain": [
       "61       東急目黒線\\t西小山駅\\t徒歩10分\n",
       "72     常磐線\\t金町(東京都)駅\\t徒歩18分\n",
       "151        東西線\\t西葛西駅\\t徒歩11分\n",
       "Name: アクセス, dtype: object"
      ]
     },
     "execution_count": 111,
     "metadata": {},
     "output_type": "execute_result"
    }
   ],
   "source": [
    "temp_df[temp_df.notnull()].head(3)"
   ]
  },
  {
   "cell_type": "code",
   "execution_count": 112,
   "metadata": {},
   "outputs": [],
   "source": [
    "temp_df = temp_df.str.split(\"\\t\", expand=True)"
   ]
  },
  {
   "cell_type": "code",
   "execution_count": 113,
   "metadata": {},
   "outputs": [
    {
     "data": {
      "text/plain": [
       "array([nan, '東急目黒線', '常磐線', '東西線', '都営浅草線', '京成本線', '京王井の頭線', '西武新宿線',\n",
       "       '有楽町線', '東急東横線', '都営三田線', '総武線・中央線(各停)', '日比谷線', '小田急小田原線',\n",
       "       '西武池袋線', '都営新宿線', '東急池上線', '東急世田谷線', '都営大江戸線', '丸ノ内線(中野坂上-方南町)',\n",
       "       '東武スカイツリーライン', '日暮里・舎人ライナー', '千代田線', '京浜東北線', '東急大井町線',\n",
       "       'つくばエクスプレス', '総武本線', '京王線', '東武東上線', '埼京線', '京成押上線', '山手線',\n",
       "       '東急田園都市線', '西武豊島線', '丸ノ内線(池袋-荻窪)', '京王新線', '南北線', '中央線(快速)',\n",
       "       '京葉線(東京-蘇我)', 'ゆりかもめ', '京急空港線', '京急本線', '半蔵門線', '東武大師線', '横須賀線',\n",
       "       '西武有楽町線', '銀座線', '都電荒川線', '副都心線', 'りんかい線', '北総線', '常磐線快速',\n",
       "       '東急多摩川線', '東武亀戸線', '京成金町線'], dtype=object)"
      ]
     },
     "execution_count": 113,
     "metadata": {},
     "output_type": "execute_result"
    }
   ],
   "source": [
    "temp_df[0].unique()"
   ]
  },
  {
   "cell_type": "code",
   "execution_count": 114,
   "metadata": {},
   "outputs": [],
   "source": [
    "total_data[\"アクセス_線\"] = temp_df[0]"
   ]
  },
  {
   "cell_type": "code",
   "execution_count": 115,
   "metadata": {},
   "outputs": [
    {
     "data": {
      "text/plain": [
       "array([None, '西小山駅', '金町(東京都)駅', '西葛西駅', '馬込駅', '堀切菖蒲園駅', '浜田山駅', '葛西駅',\n",
       "       '武蔵関駅', '千川駅', '学芸大学駅', '板橋区役所前駅', '小岩駅', '南千住駅', '経堂駅', '新小岩駅',\n",
       "       '大泉学園駅', '門前仲町駅', '亀有駅', '瑞江駅', '池上駅', '西太子堂駅', '光が丘駅', '成城学園前駅',\n",
       "       '篠崎駅', '椎名町駅', '西台駅', '中野富士見町駅', '石川台駅', '竹ノ塚駅', '舎人駅', '綾瀬駅',\n",
       "       '船堀駅', '上中里駅', '旗の台駅', '六町駅', '下高井戸駅', '一之江駅', 'ときわ台(東京都)駅', '池袋駅',\n",
       "       '浮間舟渡駅', '京成立石駅', '大山(東京都)駅', '東松原駅', '東武練馬駅', '田端駅', '駒沢大学駅',\n",
       "       '豊島園(都営線)駅', '蒲田駅', '池尻大橋駅', '若林(東京都)駅', '蓮根駅', '千駄木駅', '小竹向原駅',\n",
       "       '梅島駅', '豊島園(西武線)駅', '江古田駅', '春日(東京都)駅', '田町(東京都)駅', '若松河田駅',\n",
       "       '石神井公園駅', '新高円寺駅', '地下鉄成増駅', '新井薬師前駅', '都立大学駅', '千歳船橋駅', '西新井駅',\n",
       "       '西日暮里駅', '上石神井駅', '初台駅', '八潮駅', '王子神谷駅', '品川駅', '練馬高野台駅', '京成小岩駅',\n",
       "       '要町駅', '平井(東京都)駅', '北千住駅', '西巣鴨駅', '阿佐ケ谷駅', '千歳烏山駅', '十条(東京都)駅',\n",
       "       '保谷駅', '豪徳寺駅', '練馬春日町駅', '用賀駅', '練馬駅', '下井草駅', '日暮里駅', '不動前駅',\n",
       "       '三軒茶屋駅', '葛西臨海公園駅', '大島(東京都)駅', '氷川台駅', '広尾駅', '仙川駅', '八幡山駅',\n",
       "       '喜多見駅', '茗荷谷駅', '東高円寺駅', '芝浦ふ頭駅', '上板橋駅', '祖師ケ谷大蔵駅', '江北駅',\n",
       "       '志村三丁目駅', '四谷三丁目駅', '笹塚駅', '等々力駅', '本蓮沼駅', '中村橋駅', 'お花茶屋駅', '五反田駅',\n",
       "       '芦花公園駅', '中野新橋駅', '荻窪駅', '大鳥居駅', '月島駅', '下神明駅', '鷺ノ宮駅', '沼袋駅',\n",
       "       '王子駅', '五反野駅', '市ケ谷駅', '富士見台駅', '潮見駅', '駒場東大前駅', '四ツ木駅', '下赤塚駅',\n",
       "       '代田橋駅', '白金高輪駅', '麻布十番駅', '築地駅', '立会川駅', '田園調布駅', '高井戸駅',\n",
       "       '住吉(東京都)駅', '大師前駅', '豊洲駅', '東中野駅', '大井町駅', '松陰神社前駅', '西大井駅',\n",
       "       '板橋本町駅', '梅屋敷(東京都)駅', '高島平駅', '北綾瀬駅', '西馬込駅', '西荻窪駅', '飯田橋駅',\n",
       "       '井荻駅', '武蔵小山駅', '巣鴨駅', '志茂駅', '三ノ輪駅', '表参道駅', '谷在家駅', '高円寺駅',\n",
       "       '方南町駅', '上町駅', '鐘ケ淵駅', '落合南長崎駅', '桜台(東京都)駅', '和光市駅', '大塚(東京都)駅',\n",
       "       '桜新町駅', '本郷三丁目駅', '成増駅', '扇大橋駅', '勝どき駅', '平和島駅', '谷塚駅', '戸越駅',\n",
       "       '目白駅', '見沼代親水公園駅', '青砥駅', '江戸川駅', '東新宿駅', '中野(東京都)駅', '目黒駅',\n",
       "       '南砂町駅', '久が原駅', '雪が谷大塚駅', '新富町(東京都)駅', '久我山駅', '平和台(東京都)駅',\n",
       "       '白山(東京都)駅', '上野毛駅', '木場(東京都)駅', '八広駅', '大森(東京都)駅', '八丁堀(東京都)駅',\n",
       "       '二子玉川駅', '御茶ノ水駅', '板橋駅', '地下鉄赤塚駅', '東大島駅', '本所吾妻橋駅', '大崎駅', '東大前駅',\n",
       "       '尾山台駅', '三鷹台駅', '護国寺駅', '祐天寺駅', '志村坂上駅', '上北沢駅', '野方駅', '上井草駅',\n",
       "       '戸越公園駅', '千石駅', '高野(東京都)駅', '中板橋駅', '新大塚駅', '代々木上原駅', '自由が丘駅',\n",
       "       '永福町駅', '赤羽岩淵駅', '雑色駅', '桜上水駅', '青物横丁駅', '新板橋駅', '駒込駅', '西永福駅',\n",
       "       '梶原駅', '中野坂上駅', '浅草駅', '京成高砂駅', '明大前駅', '西大島駅', '高輪台駅',\n",
       "       '稲荷町(東京都)駅', '西高島平駅', '西新井大師西駅', '中延駅', '中目黒駅', '東長崎駅', '新宿御苑前駅',\n",
       "       '幡ケ谷駅', '渋谷駅', '品川シーサイド駅', '浅草橋駅', '新中野駅', '南阿佐ケ谷駅', '亀戸駅',\n",
       "       '東雲(東京都)駅', '浅草(TX)駅', '東陽町駅', '大岡山駅', '新江古田駅', '六郷土手駅', '西新宿五丁目駅',\n",
       "       '雑司が谷駅', '新柴又駅', '両国(都営線)駅', '吉祥寺駅', '富士見ケ丘駅', '九品仏駅',\n",
       "       '町屋(東京メトロ)駅', '沼部駅', '北赤羽駅', '下丸子駅', '大森海岸駅', '下北沢駅', '菊川(東京都)駅',\n",
       "       '池ノ上駅', '両国駅', '滝野川一丁目駅', '大森町駅', '赤羽駅', 'とうきょうスカイツリー駅', '東北沢駅',\n",
       "       '東向島駅', '本駒込駅', '下板橋駅', '恵比寿駅', '森下(東京都)駅', '蓮沼駅', 'みずほ台駅', '鶯谷駅',\n",
       "       '秋葉原駅', '新御徒町駅', '矢口渡駅', '都立家政駅', '中井駅', '世田谷代田駅', '朝霞駅', '押上駅',\n",
       "       '御嶽山駅', '小台駅', '舎人公園駅', '東あずま駅', '新桜台駅', '青井駅', '根津駅', '入谷(東京都)駅',\n",
       "       '梅ケ丘駅', '代々木公園駅', '武蔵新田駅', '北品川駅', '千鳥町駅', '岩本町駅', '西新宿駅', '鶴瀬駅',\n",
       "       '洗足駅', '越中島駅', '江戸川橋駅', '柴又駅', '緑が丘(東京都)駅', '早稲田(東京メトロ)駅', '荏原中延駅',\n",
       "       '穴守稲荷駅', '神保町駅', '新高島平駅'], dtype=object)"
      ]
     },
     "execution_count": 115,
     "metadata": {},
     "output_type": "execute_result"
    }
   ],
   "source": [
    "temp_df[1].unique()"
   ]
  },
  {
   "cell_type": "code",
   "execution_count": 116,
   "metadata": {},
   "outputs": [],
   "source": [
    "total_data[\"アクセス_駅\"] = temp_df[1]"
   ]
  },
  {
   "cell_type": "code",
   "execution_count": 117,
   "metadata": {},
   "outputs": [
    {
     "data": {
      "text/plain": [
       "array([None, '徒歩10分', '徒歩18分', '徒歩11分', '徒歩1分', '徒歩12分', '徒歩4分', '徒歩7分',\n",
       "       '徒歩15分', '徒歩2分', '徒歩9分', '徒歩16分', '徒歩14分', '徒歩6分',\n",
       "       '/バス(7分)大泉風致地区下車徒歩5分', '徒歩8分', '徒歩37分', '徒歩13分', '徒歩5分', '徒歩24分',\n",
       "       '徒歩3分', '徒歩29分', '徒歩25分', '徒歩23分', '徒歩22分', '徒歩17分',\n",
       "       '/バス(15分)水元4丁目下車徒歩28分', '徒歩19分', '徒歩20分', '徒歩27分', '徒歩21分',\n",
       "       '/バス(16分)佐野センター前下車徒歩34分', '/バス(12分)六木団地下車徒歩3分',\n",
       "       '/バス(10分)鹿骨五丁目下車徒歩3分', '/バス(3分)桑川町下車徒歩7分', '/バス(10分)富士公園下車徒歩3分',\n",
       "       '/バス(10分)都民農園下車徒歩3分', '/バス(9分)砧町下車徒歩3分', '徒歩28分',\n",
       "       '/バス(15分)水元神社前下車徒歩4分', '/バス(10分)次大夫堀公園下車徒歩3分', '/バス(5分)三原台北下車徒歩3分',\n",
       "       '/バス(6分)鹿骨下車徒歩24分', '徒歩32分', '/バス(19分)鹿浜四丁目下車徒歩2分',\n",
       "       '/バス(15分)鹿浜橋下車徒歩3分', '徒歩34分', '徒歩38分',\n",
       "       '/バス(1分)深沢小学校前\\u3000\\u3000徒歩1分下車徒歩10分', '/バス(8分)大泉学園町八丁目下車徒歩3分',\n",
       "       '/バス(16分)都民農園下車徒歩1分', '徒歩39分', '/バス(14分)樫の木公園前下車徒歩9分',\n",
       "       '/バス(9分)風致地区下車徒歩32分', '/バス(20分)幸田小学校下車徒歩3分',\n",
       "       '/バス(10分)スポーツランド入口下車徒歩18分', '/バス(12分)大杉3丁目停下車徒歩1分',\n",
       "       '/バス(11分)永安寺下車徒歩1分', '/バス(13分)長久保下車徒歩1分', '徒歩26分',\n",
       "       '/バス(20分)下宿下車徒歩2分', '/バス(10分)谷原5丁目下車徒歩16分', '/バス(2分)鹿骨五下車徒歩29分',\n",
       "       '/バス(11分)水元そよかぜ園下車徒歩6分', '/バス(5分)三軒寺下車徒歩20分',\n",
       "       '/バス(13分)水元2丁目下車徒歩1分', '/バス(20分)新広橋下車徒歩1分', '/バス(8分)京葉交差点下車徒歩27分',\n",
       "       '/バス(8分)北出張所下車徒歩12分', '徒歩31分', '/バス(7分)泉38-2\\u3000大泉学園幼稚園前下車徒歩2分',\n",
       "       '徒歩33分', '/バス(6分)谷原中学校下車徒歩1分', '/バス(10分)小松川警察署前下車徒歩45分',\n",
       "       '/バス(8分)平井大橋下車徒歩20分', '/バス(6分)一之江高速入口下車徒歩20分',\n",
       "       '/バス(5分)吉祥寺駅南口行\\u3000とき下車徒歩4分', '/バス(8分)大泉学園4丁目下車徒歩5分',\n",
       "       '/バス(18分)西水元2丁目下車徒歩6分', '/バス(15分)西篠崎1丁目下車徒歩3分',\n",
       "       '/バス(10分)北出張所前下車徒歩1分', '/バス(5分)スポーツセンター前下車徒歩25分',\n",
       "       '/バス(12分)都営住宅前下車徒歩2分', '/バス(20分)岡本3丁目下車徒歩5分',\n",
       "       '/バス(15分)京成バス「西水元2丁目」下車徒歩2分', '/バス(15分)西水元4丁目下車徒歩1分',\n",
       "       '/バス(11分)富士神社入口下車徒歩1分', '/バス(16分)久保新田下車徒歩2分',\n",
       "       '/バス(10分)水元中学校下車徒歩1分', '徒歩43分', '/バス(11分)リブレ京成下車徒歩3分',\n",
       "       '/バス(5分)江戸川区役所下車徒歩5分', '/バス(20分)大杉第二小学校前下車徒歩33分',\n",
       "       '/バス(25分)西水元4丁目下車徒歩3分', '/バス(10分)大杉4丁目下車徒歩2分',\n",
       "       '/バス(10分)006\\u3000大泉風致地区下車徒歩3分', '/バス(12分)水元神社前下車徒歩2分',\n",
       "       '/バス(10分)西大泉郵便局前下車徒歩4分', '徒歩36分', '/バス(10分)NTT江戸川下車徒歩3分',\n",
       "       '/バス(6分)天神橋下車徒歩5分', '/バス(13分)そよかぜ園下車徒歩1分', '/バス(10分)鎌田下車徒歩4分',\n",
       "       '/バス(8分)鹿浜橋下車徒歩3分', '/バス(8分)関町南2丁目下車徒歩25分', '/バス(10分)鎌田下車徒歩8分',\n",
       "       '/バス(8分)王子板紙裏門下車徒歩1分', '/バス(13分)そよかぜ園下車徒歩2分',\n",
       "       '/バス(14分)土支田二丁目下車徒歩6分', '/バス(12分)北篠崎下車徒歩4分', '徒歩30分',\n",
       "       '/バス(6分)新町商店街入口下車徒歩19分', '/バス(8分)保木間下車徒歩3分',\n",
       "       '/バス(25分)西水元3丁目下車徒歩4分', '/バス(9分)ふれあいの家下車徒歩34分',\n",
       "       '/バス(7分)農業試験場下車徒歩24分', '/バス(13分)大泉学園町八丁目下車徒歩2分',\n",
       "       '/バス(11分)砧町下車徒歩2分', '/バス(12分)南小岩停下車徒歩26分', '/バス(10分)鹿骨五丁目下車徒歩1分',\n",
       "       '/バス(10分)八丁下車徒歩1分', '徒歩35分', '/バス(13分)長久保\\u3000停歩5分下車徒歩35分',\n",
       "       '/バス(16分)松本弁天下車徒歩1分', '/バス(6分)鹿浜五丁目下車徒歩2分', '/バス(10分)鹿骨五丁目下車徒歩4分',\n",
       "       '/バス(25分)西水元3丁目下車徒歩6分', '/バス(16分)大杉第二小学校下車徒歩4分',\n",
       "       '/バス(19分)花畑三丁目下車徒歩6分'], dtype=object)"
      ]
     },
     "execution_count": 117,
     "metadata": {},
     "output_type": "execute_result"
    }
   ],
   "source": [
    "temp_df[2].unique()"
   ]
  },
  {
   "cell_type": "code",
   "execution_count": 118,
   "metadata": {},
   "outputs": [],
   "source": [
    "temp_df_eki_fun = temp_df[2].where(temp_df[2].str.contains(\"バス\") == False)"
   ]
  },
  {
   "cell_type": "code",
   "execution_count": 119,
   "metadata": {},
   "outputs": [
    {
     "data": {
      "text/plain": [
       "array([nan, '徒歩10分', '徒歩18分', '徒歩11分', '徒歩1分', '徒歩12分', '徒歩4分', '徒歩7分',\n",
       "       '徒歩15分', '徒歩2分', '徒歩9分', '徒歩16分', '徒歩14分', '徒歩6分', '徒歩8分', '徒歩37分',\n",
       "       '徒歩13分', '徒歩5分', '徒歩24分', '徒歩3分', '徒歩29分', '徒歩25分', '徒歩23分',\n",
       "       '徒歩22分', '徒歩17分', '徒歩19分', '徒歩20分', '徒歩27分', '徒歩21分', '徒歩28分',\n",
       "       '徒歩32分', '徒歩34分', '徒歩38分', '徒歩39分', '徒歩26分', '徒歩31分', '徒歩33分',\n",
       "       '徒歩43分', '徒歩36分', '徒歩30分', '徒歩35分'], dtype=object)"
      ]
     },
     "execution_count": 119,
     "metadata": {},
     "output_type": "execute_result"
    }
   ],
   "source": [
    "temp_df_eki_fun.unique()"
   ]
  },
  {
   "cell_type": "code",
   "execution_count": 120,
   "metadata": {},
   "outputs": [],
   "source": [
    "# def strip_toho_fun(series):\n",
    "#     return series.str.\n",
    "total_data[\"アクセス_駅_分\"] = temp_df_eki_fun.str.strip(\"徒歩()分\").fillna(-999).astype(int)"
   ]
  },
  {
   "cell_type": "code",
   "execution_count": 121,
   "metadata": {},
   "outputs": [],
   "source": [
    "temp_df_bus = temp_df[2].where(temp_df[2].str.contains(\"バス\"))"
   ]
  },
  {
   "cell_type": "code",
   "execution_count": 122,
   "metadata": {},
   "outputs": [],
   "source": [
    "temp_df_bus = temp_df_bus.str.replace(\"/\", \"\").str.replace(\"\\u3000\", \"\")"
   ]
  },
  {
   "cell_type": "code",
   "execution_count": 123,
   "metadata": {},
   "outputs": [],
   "source": [
    "temp_df_bus = temp_df_bus.str.split(\")\", expand=True)"
   ]
  },
  {
   "cell_type": "code",
   "execution_count": 124,
   "metadata": {},
   "outputs": [
    {
     "data": {
      "text/html": [
       "<div>\n",
       "<style scoped>\n",
       "    .dataframe tbody tr th:only-of-type {\n",
       "        vertical-align: middle;\n",
       "    }\n",
       "\n",
       "    .dataframe tbody tr th {\n",
       "        vertical-align: top;\n",
       "    }\n",
       "\n",
       "    .dataframe thead th {\n",
       "        text-align: right;\n",
       "    }\n",
       "</style>\n",
       "<table border=\"1\" class=\"dataframe\">\n",
       "  <thead>\n",
       "    <tr style=\"text-align: right;\">\n",
       "      <th></th>\n",
       "      <th>0</th>\n",
       "      <th>1</th>\n",
       "    </tr>\n",
       "  </thead>\n",
       "  <tbody>\n",
       "    <tr>\n",
       "      <th>0</th>\n",
       "      <td>NaN</td>\n",
       "      <td>None</td>\n",
       "    </tr>\n",
       "    <tr>\n",
       "      <th>1</th>\n",
       "      <td>NaN</td>\n",
       "      <td>None</td>\n",
       "    </tr>\n",
       "    <tr>\n",
       "      <th>2</th>\n",
       "      <td>NaN</td>\n",
       "      <td>None</td>\n",
       "    </tr>\n",
       "  </tbody>\n",
       "</table>\n",
       "</div>"
      ],
      "text/plain": [
       "     0     1\n",
       "0  NaN  None\n",
       "1  NaN  None\n",
       "2  NaN  None"
      ]
     },
     "execution_count": 124,
     "metadata": {},
     "output_type": "execute_result"
    }
   ],
   "source": [
    "temp_df_bus.head(3)"
   ]
  },
  {
   "cell_type": "code",
   "execution_count": 125,
   "metadata": {},
   "outputs": [],
   "source": [
    "total_data[\"アクセス_バス_分\"] = temp_df_bus[0].str.strip(\"バス(\").str.rstrip(\"分\").fillna(-999).astype(int)"
   ]
  },
  {
   "cell_type": "code",
   "execution_count": 126,
   "metadata": {},
   "outputs": [],
   "source": [
    "temp_df_bus_station = temp_df_bus[1].str.split(\"下車\", expand=True)"
   ]
  },
  {
   "cell_type": "code",
   "execution_count": 127,
   "metadata": {},
   "outputs": [
    {
     "data": {
      "text/plain": [
       "RangeIndex(start=0, stop=2, step=1)"
      ]
     },
     "execution_count": 127,
     "metadata": {},
     "output_type": "execute_result"
    }
   ],
   "source": [
    "temp_df_bus_station.columns"
   ]
  },
  {
   "cell_type": "code",
   "execution_count": 128,
   "metadata": {},
   "outputs": [
    {
     "data": {
      "text/plain": [
       "array([None, '大泉風致地区', '水元4丁目', '佐野センター前', '六木団地', '鹿骨五丁目', '桑川町', '富士公園',\n",
       "       '都民農園', '砧町', '水元神社前', '次大夫堀公園', '三原台北', '鹿骨', '鹿浜四丁目', '鹿浜橋',\n",
       "       '深沢小学校前徒歩1分', '大泉学園町八丁目', '樫の木公園前', '風致地区', '幸田小学校', 'スポーツランド入口',\n",
       "       '大杉3丁目停', '永安寺', '長久保', '下宿', '谷原5丁目', '鹿骨五', '水元そよかぜ園', '三軒寺',\n",
       "       '水元2丁目', '新広橋', '京葉交差点', '北出張所', '泉38-2大泉学園幼稚園前', '谷原中学校',\n",
       "       '小松川警察署前', '平井大橋', '一之江高速入口', '吉祥寺駅南口行とき', '大泉学園4丁目', '西水元2丁目',\n",
       "       '西篠崎1丁目', '北出張所前', 'スポーツセンター前', '都営住宅前', '岡本3丁目', '京成バス「西水元2丁目」',\n",
       "       '西水元4丁目', '富士神社入口', '久保新田', '水元中学校', 'リブレ京成', '江戸川区役所', '大杉第二小学校前',\n",
       "       '大杉4丁目', '006大泉風致地区', '西大泉郵便局前', 'NTT江戸川', '天神橋', 'そよかぜ園', '鎌田',\n",
       "       '関町南2丁目', '王子板紙裏門', '土支田二丁目', '北篠崎', '新町商店街入口', '保木間', '西水元3丁目',\n",
       "       'ふれあいの家', '農業試験場', '南小岩停', '八丁', '長久保停歩5分', '松本弁天', '鹿浜五丁目',\n",
       "       '大杉第二小学校', '花畑三丁目'], dtype=object)"
      ]
     },
     "execution_count": 128,
     "metadata": {},
     "output_type": "execute_result"
    }
   ],
   "source": [
    "temp_df_bus_station[0].unique()"
   ]
  },
  {
   "cell_type": "code",
   "execution_count": 129,
   "metadata": {},
   "outputs": [],
   "source": [
    "total_data[\"アクセス_バス_駅\"] = temp_df_bus_station[0]"
   ]
  },
  {
   "cell_type": "code",
   "execution_count": 130,
   "metadata": {},
   "outputs": [
    {
     "data": {
      "text/plain": [
       "array([None, '徒歩5分', '徒歩28分', '徒歩34分', '徒歩3分', '徒歩7分', '徒歩4分', '徒歩24分',\n",
       "       '徒歩2分', '徒歩10分', '徒歩1分', '徒歩9分', '徒歩32分', '徒歩18分', '徒歩16分',\n",
       "       '徒歩29分', '徒歩6分', '徒歩20分', '徒歩27分', '徒歩12分', '徒歩45分', '徒歩25分',\n",
       "       '徒歩33分', '徒歩8分', '徒歩19分', '徒歩26分', '徒歩35分'], dtype=object)"
      ]
     },
     "execution_count": 130,
     "metadata": {},
     "output_type": "execute_result"
    }
   ],
   "source": [
    "temp_df_bus_station[1].unique()"
   ]
  },
  {
   "cell_type": "code",
   "execution_count": 131,
   "metadata": {},
   "outputs": [],
   "source": [
    "temp_df_bus_station[1] = temp_df_bus_station[1].str.strip(\"徒歩\").str.rstrip(\"分\").fillna(-999).astype(int)"
   ]
  },
  {
   "cell_type": "code",
   "execution_count": 132,
   "metadata": {},
   "outputs": [
    {
     "data": {
      "text/plain": [
       "array([-999,    5,   28,   34,    3,    7,    4,   24,    2,   10,    1,\n",
       "          9,   32,   18,   16,   29,    6,   20,   27,   12,   45,   25,\n",
       "         33,    8,   19,   26,   35])"
      ]
     },
     "execution_count": 132,
     "metadata": {},
     "output_type": "execute_result"
    }
   ],
   "source": [
    "temp_df_bus_station[1].unique()"
   ]
  },
  {
   "cell_type": "code",
   "execution_count": 133,
   "metadata": {},
   "outputs": [],
   "source": [
    "total_data[\"アクセス_バス_駅_分\"] = temp_df_bus_station[1]"
   ]
  },
  {
   "cell_type": "code",
   "execution_count": 134,
   "metadata": {},
   "outputs": [
    {
     "data": {
      "text/plain": [
       "array([None, '徒歩10分', '徒歩18分', '徒歩11分', '徒歩1分', '徒歩12分', '徒歩4分', '徒歩7分',\n",
       "       '徒歩15分', '徒歩2分', '徒歩9分', '徒歩16分', '徒歩14分', '徒歩6分',\n",
       "       '/バス(7分)大泉風致地区下車徒歩5分', '徒歩8分', '徒歩37分', '徒歩13分', '徒歩5分', '徒歩24分',\n",
       "       '徒歩3分', '徒歩29分', '徒歩25分', '徒歩23分', '徒歩22分', '徒歩17分',\n",
       "       '/バス(15分)水元4丁目下車徒歩28分', '徒歩19分', '徒歩20分', '徒歩27分', '徒歩21分',\n",
       "       '/バス(16分)佐野センター前下車徒歩34分', '/バス(12分)六木団地下車徒歩3分',\n",
       "       '/バス(10分)鹿骨五丁目下車徒歩3分', '/バス(3分)桑川町下車徒歩7分', '/バス(10分)富士公園下車徒歩3分',\n",
       "       '/バス(10分)都民農園下車徒歩3分', '/バス(9分)砧町下車徒歩3分', '徒歩28分',\n",
       "       '/バス(15分)水元神社前下車徒歩4分', '/バス(10分)次大夫堀公園下車徒歩3分', '/バス(5分)三原台北下車徒歩3分',\n",
       "       '/バス(6分)鹿骨下車徒歩24分', '徒歩32分', '/バス(19分)鹿浜四丁目下車徒歩2分',\n",
       "       '/バス(15分)鹿浜橋下車徒歩3分', '徒歩34分', '徒歩38分',\n",
       "       '/バス(1分)深沢小学校前\\u3000\\u3000徒歩1分下車徒歩10分', '/バス(8分)大泉学園町八丁目下車徒歩3分',\n",
       "       '/バス(16分)都民農園下車徒歩1分', '徒歩39分', '/バス(14分)樫の木公園前下車徒歩9分',\n",
       "       '/バス(9分)風致地区下車徒歩32分', '/バス(20分)幸田小学校下車徒歩3分',\n",
       "       '/バス(10分)スポーツランド入口下車徒歩18分', '/バス(12分)大杉3丁目停下車徒歩1分',\n",
       "       '/バス(11分)永安寺下車徒歩1分', '/バス(13分)長久保下車徒歩1分', '徒歩26分',\n",
       "       '/バス(20分)下宿下車徒歩2分', '/バス(10分)谷原5丁目下車徒歩16分', '/バス(2分)鹿骨五下車徒歩29分',\n",
       "       '/バス(11分)水元そよかぜ園下車徒歩6分', '/バス(5分)三軒寺下車徒歩20分',\n",
       "       '/バス(13分)水元2丁目下車徒歩1分', '/バス(20分)新広橋下車徒歩1分', '/バス(8分)京葉交差点下車徒歩27分',\n",
       "       '/バス(8分)北出張所下車徒歩12分', '徒歩31分', '/バス(7分)泉38-2\\u3000大泉学園幼稚園前下車徒歩2分',\n",
       "       '徒歩33分', '/バス(6分)谷原中学校下車徒歩1分', '/バス(10分)小松川警察署前下車徒歩45分',\n",
       "       '/バス(8分)平井大橋下車徒歩20分', '/バス(6分)一之江高速入口下車徒歩20分',\n",
       "       '/バス(5分)吉祥寺駅南口行\\u3000とき下車徒歩4分', '/バス(8分)大泉学園4丁目下車徒歩5分',\n",
       "       '/バス(18分)西水元2丁目下車徒歩6分', '/バス(15分)西篠崎1丁目下車徒歩3分',\n",
       "       '/バス(10分)北出張所前下車徒歩1分', '/バス(5分)スポーツセンター前下車徒歩25分',\n",
       "       '/バス(12分)都営住宅前下車徒歩2分', '/バス(20分)岡本3丁目下車徒歩5分',\n",
       "       '/バス(15分)京成バス「西水元2丁目」下車徒歩2分', '/バス(15分)西水元4丁目下車徒歩1分',\n",
       "       '/バス(11分)富士神社入口下車徒歩1分', '/バス(16分)久保新田下車徒歩2分',\n",
       "       '/バス(10分)水元中学校下車徒歩1分', '徒歩43分', '/バス(11分)リブレ京成下車徒歩3分',\n",
       "       '/バス(5分)江戸川区役所下車徒歩5分', '/バス(20分)大杉第二小学校前下車徒歩33分',\n",
       "       '/バス(25分)西水元4丁目下車徒歩3分', '/バス(10分)大杉4丁目下車徒歩2分',\n",
       "       '/バス(10分)006\\u3000大泉風致地区下車徒歩3分', '/バス(12分)水元神社前下車徒歩2分',\n",
       "       '/バス(10分)西大泉郵便局前下車徒歩4分', '徒歩36分', '/バス(10分)NTT江戸川下車徒歩3分',\n",
       "       '/バス(6分)天神橋下車徒歩5分', '/バス(13分)そよかぜ園下車徒歩1分', '/バス(10分)鎌田下車徒歩4分',\n",
       "       '/バス(8分)鹿浜橋下車徒歩3分', '/バス(8分)関町南2丁目下車徒歩25分', '/バス(10分)鎌田下車徒歩8分',\n",
       "       '/バス(8分)王子板紙裏門下車徒歩1分', '/バス(13分)そよかぜ園下車徒歩2分',\n",
       "       '/バス(14分)土支田二丁目下車徒歩6分', '/バス(12分)北篠崎下車徒歩4分', '徒歩30分',\n",
       "       '/バス(6分)新町商店街入口下車徒歩19分', '/バス(8分)保木間下車徒歩3分',\n",
       "       '/バス(25分)西水元3丁目下車徒歩4分', '/バス(9分)ふれあいの家下車徒歩34分',\n",
       "       '/バス(7分)農業試験場下車徒歩24分', '/バス(13分)大泉学園町八丁目下車徒歩2分',\n",
       "       '/バス(11分)砧町下車徒歩2分', '/バス(12分)南小岩停下車徒歩26分', '/バス(10分)鹿骨五丁目下車徒歩1分',\n",
       "       '/バス(10分)八丁下車徒歩1分', '徒歩35分', '/バス(13分)長久保\\u3000停歩5分下車徒歩35分',\n",
       "       '/バス(16分)松本弁天下車徒歩1分', '/バス(6分)鹿浜五丁目下車徒歩2分', '/バス(10分)鹿骨五丁目下車徒歩4分',\n",
       "       '/バス(25分)西水元3丁目下車徒歩6分', '/バス(16分)大杉第二小学校下車徒歩4分',\n",
       "       '/バス(19分)花畑三丁目下車徒歩6分'], dtype=object)"
      ]
     },
     "execution_count": 134,
     "metadata": {},
     "output_type": "execute_result"
    }
   ],
   "source": [
    "temp_df[2].unique()"
   ]
  },
  {
   "cell_type": "markdown",
   "metadata": {},
   "source": [
    "## 4 \\t"
   ]
  },
  {
   "cell_type": "code",
   "execution_count": 135,
   "metadata": {},
   "outputs": [],
   "source": [
    "temp_df = total_data[\"アクセス\"].where(total_data[\"アクセス\"].str.count(\"\\t\") == 4)"
   ]
  },
  {
   "cell_type": "code",
   "execution_count": 136,
   "metadata": {},
   "outputs": [],
   "source": [
    "temp_df = temp_df.str.split(\"\\t\", expand=True)"
   ]
  },
  {
   "cell_type": "code",
   "execution_count": 137,
   "metadata": {},
   "outputs": [
    {
     "data": {
      "text/html": [
       "<div>\n",
       "<style scoped>\n",
       "    .dataframe tbody tr th:only-of-type {\n",
       "        vertical-align: middle;\n",
       "    }\n",
       "\n",
       "    .dataframe tbody tr th {\n",
       "        vertical-align: top;\n",
       "    }\n",
       "\n",
       "    .dataframe thead th {\n",
       "        text-align: right;\n",
       "    }\n",
       "</style>\n",
       "<table border=\"1\" class=\"dataframe\">\n",
       "  <thead>\n",
       "    <tr style=\"text-align: right;\">\n",
       "      <th></th>\n",
       "      <th>0</th>\n",
       "      <th>1</th>\n",
       "      <th>2</th>\n",
       "      <th>3</th>\n",
       "      <th>4</th>\n",
       "    </tr>\n",
       "  </thead>\n",
       "  <tbody>\n",
       "    <tr>\n",
       "      <th>0</th>\n",
       "      <td>NaN</td>\n",
       "      <td>None</td>\n",
       "      <td>None</td>\n",
       "      <td>None</td>\n",
       "      <td>None</td>\n",
       "    </tr>\n",
       "    <tr>\n",
       "      <th>1</th>\n",
       "      <td>NaN</td>\n",
       "      <td>None</td>\n",
       "      <td>None</td>\n",
       "      <td>None</td>\n",
       "      <td>None</td>\n",
       "    </tr>\n",
       "    <tr>\n",
       "      <th>2</th>\n",
       "      <td>NaN</td>\n",
       "      <td>None</td>\n",
       "      <td>None</td>\n",
       "      <td>None</td>\n",
       "      <td>None</td>\n",
       "    </tr>\n",
       "    <tr>\n",
       "      <th>3</th>\n",
       "      <td>NaN</td>\n",
       "      <td>None</td>\n",
       "      <td>None</td>\n",
       "      <td>None</td>\n",
       "      <td>None</td>\n",
       "    </tr>\n",
       "    <tr>\n",
       "      <th>4</th>\n",
       "      <td>NaN</td>\n",
       "      <td>None</td>\n",
       "      <td>None</td>\n",
       "      <td>None</td>\n",
       "      <td>None</td>\n",
       "    </tr>\n",
       "  </tbody>\n",
       "</table>\n",
       "</div>"
      ],
      "text/plain": [
       "     0     1     2     3     4\n",
       "0  NaN  None  None  None  None\n",
       "1  NaN  None  None  None  None\n",
       "2  NaN  None  None  None  None\n",
       "3  NaN  None  None  None  None\n",
       "4  NaN  None  None  None  None"
      ]
     },
     "execution_count": 137,
     "metadata": {},
     "output_type": "execute_result"
    }
   ],
   "source": [
    "temp_df.head()"
   ]
  },
  {
   "cell_type": "code",
   "execution_count": 138,
   "metadata": {},
   "outputs": [
    {
     "data": {
      "text/plain": [
       "array([nan, '総武線・中央線(各停)'], dtype=object)"
      ]
     },
     "execution_count": 138,
     "metadata": {},
     "output_type": "execute_result"
    }
   ],
   "source": [
    "temp_df[0].unique()"
   ]
  },
  {
   "cell_type": "code",
   "execution_count": 139,
   "metadata": {},
   "outputs": [],
   "source": [
    "total_data[\"アクセス_線\"] = total_data[\"アクセス_線\"].combine_first(temp_df[0])"
   ]
  },
  {
   "cell_type": "code",
   "execution_count": 140,
   "metadata": {
    "scrolled": true
   },
   "outputs": [
    {
     "data": {
      "text/plain": [
       "(62732, 5)"
      ]
     },
     "execution_count": 140,
     "metadata": {},
     "output_type": "execute_result"
    }
   ],
   "source": [
    "temp_df.shape"
   ]
  },
  {
   "cell_type": "code",
   "execution_count": 141,
   "metadata": {},
   "outputs": [
    {
     "data": {
      "text/plain": [
       "(1, 5)"
      ]
     },
     "execution_count": 141,
     "metadata": {},
     "output_type": "execute_result"
    }
   ],
   "source": [
    "temp_df.dropna().shape"
   ]
  },
  {
   "cell_type": "code",
   "execution_count": 142,
   "metadata": {},
   "outputs": [
    {
     "data": {
      "text/html": [
       "<div>\n",
       "<style scoped>\n",
       "    .dataframe tbody tr th:only-of-type {\n",
       "        vertical-align: middle;\n",
       "    }\n",
       "\n",
       "    .dataframe tbody tr th {\n",
       "        vertical-align: top;\n",
       "    }\n",
       "\n",
       "    .dataframe thead th {\n",
       "        text-align: right;\n",
       "    }\n",
       "</style>\n",
       "<table border=\"1\" class=\"dataframe\">\n",
       "  <thead>\n",
       "    <tr style=\"text-align: right;\">\n",
       "      <th></th>\n",
       "      <th>0</th>\n",
       "      <th>1</th>\n",
       "      <th>2</th>\n",
       "      <th>3</th>\n",
       "      <th>4</th>\n",
       "    </tr>\n",
       "  </thead>\n",
       "  <tbody>\n",
       "    <tr>\n",
       "      <th>33518</th>\n",
       "      <td>総武線・中央線(各停)</td>\n",
       "      <td>小岩駅</td>\n",
       "      <td>徒歩22分</td>\n",
       "      <td></td>\n",
       "      <td>小76/松本橋東詰　6分</td>\n",
       "    </tr>\n",
       "  </tbody>\n",
       "</table>\n",
       "</div>"
      ],
      "text/plain": [
       "                 0    1      2 3             4\n",
       "33518  総武線・中央線(各停)  小岩駅  徒歩22分    小76/松本橋東詰　6分"
      ]
     },
     "execution_count": 142,
     "metadata": {},
     "output_type": "execute_result"
    }
   ],
   "source": [
    "temp_df.dropna()"
   ]
  },
  {
   "cell_type": "code",
   "execution_count": 143,
   "metadata": {},
   "outputs": [
    {
     "data": {
      "text/plain": [
       "Index(['アクセス', '間取り', '面積', '所在階', 'バス・トイレ', 'キッチン', '放送・通信', '室内設備', '駐車場', '周辺環境', '建物構造', '築年数_月', '階建', '所在階_地下', '階建_地下', '納戸', '間取り_S', '間取り_K', '間取り_D', '間取り_L', '間取り_R', '方角_南', '方角_東', '方角_西', '方角_北', '契約期間_定期借家', '契約期間_月', '所在地_区', 'アクセス_線', 'アクセス_駅', 'アクセス_駅_分', 'アクセス_バス_分', 'アクセス_バス_駅', 'アクセス_バス_駅_分'], dtype='object')"
      ]
     },
     "execution_count": 143,
     "metadata": {},
     "output_type": "execute_result"
    }
   ],
   "source": [
    "total_data.columns"
   ]
  },
  {
   "cell_type": "code",
   "execution_count": 144,
   "metadata": {},
   "outputs": [],
   "source": [
    "total_data[\"アクセス_駅\"] = total_data[\"アクセス_駅\"].combine_first(temp_df[1])"
   ]
  },
  {
   "cell_type": "code",
   "execution_count": 153,
   "metadata": {},
   "outputs": [],
   "source": [
    "temp_df[2] = temp_df[2].str.strip(\"徒歩(分)\").fillna(-999).astype(int)"
   ]
  },
  {
   "cell_type": "code",
   "execution_count": 154,
   "metadata": {},
   "outputs": [
    {
     "data": {
      "text/plain": [
       "array([-999,   22])"
      ]
     },
     "execution_count": 154,
     "metadata": {},
     "output_type": "execute_result"
    }
   ],
   "source": [
    "temp_df[2].unique()"
   ]
  },
  {
   "cell_type": "code",
   "execution_count": 158,
   "metadata": {},
   "outputs": [],
   "source": [
    "total_data[\"アクセス_駅_分\"] = total_data[\"アクセス_駅_分\"].combine(temp_df[2], max)"
   ]
  },
  {
   "cell_type": "code",
   "execution_count": 159,
   "metadata": {},
   "outputs": [
    {
     "data": {
      "text/plain": [
       "array([None, '松本橋東詰6分'], dtype=object)"
      ]
     },
     "execution_count": 159,
     "metadata": {},
     "output_type": "execute_result"
    }
   ],
   "source": [
    "temp_df[4].str.replace(\"小76/\", \"\").str.replace(\"\\u3000\", \"\").unique()\n",
    "# total_data[\"アクセス_バス_駅\"] = total_data[\"アクセス_バス_駅\"].combine_first"
   ]
  },
  {
   "cell_type": "code",
   "execution_count": null,
   "metadata": {},
   "outputs": [],
   "source": []
  },
  {
   "cell_type": "code",
   "execution_count": 160,
   "metadata": {
    "scrolled": true
   },
   "outputs": [
    {
     "data": {
      "text/plain": [
       "アクセス                     総武線・中央線(各停)\\t小岩駅\\t徒歩22分\\t\\t小76/松本橋東詰　6分\n",
       "間取り                                                            6\n",
       "面積                                                        119.18\n",
       "所在階                                                            0\n",
       "バス・トイレ                    バス・トイレ別/\\tシャワー/\\t追焚機能/\\t温水洗浄便座/\\t洗面台独立\n",
       "キッチン                           IHコンロ\\t/\\tコンロ3口/\\tシステムキッチン\\t/\\t給湯\n",
       "放送・通信                                                     光ファイバー\n",
       "室内設備           ウォークインクローゼット\\tシューズボックス/\\tバルコニー/\\tルーフバルコニー\\t/\\t...\n",
       "駐車場            駐輪場\\t空有\\tバイク置き場\\t空有\\t駐車場\\t近隣(2台)\\t15,000円\\t距離1...\n",
       "周辺環境           【スーパー】 81m\\t【スーパー】 508m\\t【スーパー】 688m\\t【コンビニ】 4...\n",
       "建物構造                                                        軽量鉄骨\n",
       "築年数_月                                                         62\n",
       "階建                                                             3\n",
       "所在階_地下                                                         0\n",
       "階建_地下                                                          0\n",
       "納戸                                                             0\n",
       "間取り_S                                                          0\n",
       "間取り_K                                                          1\n",
       "間取り_D                                                          1\n",
       "間取り_L                                                          1\n",
       "間取り_R                                                          0\n",
       "方角_南                                                           0\n",
       "方角_東                                                           0\n",
       "方角_西                                                           0\n",
       "方角_北                                                           0\n",
       "契約期間_定期借家                                                      0\n",
       "契約期間_月                                                        24\n",
       "所在地_区                                                        江戸川\n",
       "アクセス_線                                               総武線・中央線(各停)\n",
       "アクセス_駅                                                       小岩駅\n",
       "アクセス_駅_分                                                      22\n",
       "アクセス_バス_分                                                   -999\n",
       "アクセス_バス_駅                                                   None\n",
       "アクセス_バス_駅_分                                                 -999\n",
       "Name: 33518, dtype: object"
      ]
     },
     "execution_count": 160,
     "metadata": {},
     "output_type": "execute_result"
    }
   ],
   "source": [
    "total_data.iloc[33518]"
   ]
  },
  {
   "cell_type": "markdown",
   "metadata": {},
   "source": [
    "## 10 \\t"
   ]
  },
  {
   "cell_type": "code",
   "execution_count": null,
   "metadata": {
    "scrolled": true
   },
   "outputs": [],
   "source": [
    "total_data[\"アクセス\"][total_data[\"アクセス\"].str.count(\"\\t\") == 10].shape"
   ]
  },
  {
   "cell_type": "code",
   "execution_count": null,
   "metadata": {},
   "outputs": [],
   "source": [
    "df = total_data[\"アクセス\"][total_data[\"アクセス\"].str.count(\"\\t\") == 10]"
   ]
  },
  {
   "cell_type": "code",
   "execution_count": null,
   "metadata": {},
   "outputs": [],
   "source": [
    "df = df.str.split(\"\\t\", expand=True)"
   ]
  },
  {
   "cell_type": "code",
   "execution_count": null,
   "metadata": {},
   "outputs": [],
   "source": [
    "df.nunique()"
   ]
  },
  {
   "cell_type": "code",
   "execution_count": null,
   "metadata": {},
   "outputs": [],
   "source": [
    "df[3].unique()"
   ]
  },
  {
   "cell_type": "code",
   "execution_count": null,
   "metadata": {},
   "outputs": [],
   "source": [
    "df[7].unique()"
   ]
  },
  {
   "cell_type": "code",
   "execution_count": null,
   "metadata": {},
   "outputs": [],
   "source": [
    "df.drop(columns=[3, 7], inplace=True)"
   ]
  },
  {
   "cell_type": "markdown",
   "metadata": {},
   "source": [
    "### df[0]"
   ]
  },
  {
   "cell_type": "code",
   "execution_count": null,
   "metadata": {},
   "outputs": [],
   "source": [
    "df[0].unique()"
   ]
  },
  {
   "cell_type": "code",
   "execution_count": null,
   "metadata": {},
   "outputs": [],
   "source": [
    "total_data.shape"
   ]
  },
  {
   "cell_type": "code",
   "execution_count": null,
   "metadata": {},
   "outputs": [],
   "source": [
    "total_data[\"線\"] = np.nan"
   ]
  },
  {
   "cell_type": "code",
   "execution_count": null,
   "metadata": {},
   "outputs": [],
   "source": [
    "df[0].index"
   ]
  },
  {
   "cell_type": "code",
   "execution_count": null,
   "metadata": {},
   "outputs": [],
   "source": [
    "total_data[\"線\"].iloc[df[0].index] = df[0]"
   ]
  },
  {
   "cell_type": "markdown",
   "metadata": {},
   "source": [
    "### df[1]"
   ]
  },
  {
   "cell_type": "code",
   "execution_count": null,
   "metadata": {},
   "outputs": [],
   "source": [
    "df[1].unique()"
   ]
  },
  {
   "cell_type": "code",
   "execution_count": null,
   "metadata": {},
   "outputs": [],
   "source": [
    "total_data[\"駅\"] = np.nan\n",
    "total_data[\"駅\"].iloc[df[1].index] = df[1]"
   ]
  },
  {
   "cell_type": "markdown",
   "metadata": {},
   "source": [
    "### df[2]"
   ]
  },
  {
   "cell_type": "code",
   "execution_count": null,
   "metadata": {
    "scrolled": true
   },
   "outputs": [],
   "source": [
    "df[2].unique()"
   ]
  },
  {
   "cell_type": "code",
   "execution_count": null,
   "metadata": {},
   "outputs": [],
   "source": [
    "df[2] = df[2].str.replace(\"/\", \"\")\n",
    "df[2] = df[2].str.replace(\"\\u3000\", \"\")"
   ]
  },
  {
   "cell_type": "code",
   "execution_count": null,
   "metadata": {},
   "outputs": [],
   "source": [
    "df_2 = df[2].str.split(\"徒歩\", expand=True)"
   ]
  },
  {
   "cell_type": "code",
   "execution_count": null,
   "metadata": {},
   "outputs": [],
   "source": [
    "df_2.head()"
   ]
  },
  {
   "cell_type": "code",
   "execution_count": null,
   "metadata": {},
   "outputs": [],
   "source": [
    "df_2_0 = df_2[0].str.split(\"(\", expand=True)"
   ]
  },
  {
   "cell_type": "code",
   "execution_count": null,
   "metadata": {},
   "outputs": [],
   "source": [
    "df_2_0[0].unique()"
   ]
  },
  {
   "cell_type": "markdown",
   "metadata": {},
   "source": [
    "## 6"
   ]
  },
  {
   "cell_type": "code",
   "execution_count": null,
   "metadata": {},
   "outputs": [],
   "source": [
    "total_data[\"アクセス\"][total_data[\"アクセス\"].str.count(\"\\t\") == 6].shape"
   ]
  },
  {
   "cell_type": "code",
   "execution_count": null,
   "metadata": {},
   "outputs": [],
   "source": [
    "total_data[\"アクセス\"][total_data[\"アクセス\"].str.count(\"\\t\") == 8].shape"
   ]
  },
  {
   "cell_type": "code",
   "execution_count": null,
   "metadata": {},
   "outputs": [],
   "source": [
    "total_data[\"アクセス\"][total_data[\"アクセス\"].str.count(\"\\t\") == 12].shape"
   ]
  },
  {
   "cell_type": "code",
   "execution_count": null,
   "metadata": {},
   "outputs": [],
   "source": [
    "total_data[\"アクセス\"][total_data[\"アクセス\"].str.count(\"\\t\") == 2].shape"
   ]
  },
  {
   "cell_type": "code",
   "execution_count": null,
   "metadata": {},
   "outputs": [],
   "source": [
    "total_data[\"アクセス\"][total_data[\"アクセス\"].str.count(\"\\t\") == 4].shape"
   ]
  },
  {
   "cell_type": "code",
   "execution_count": null,
   "metadata": {},
   "outputs": [],
   "source": [
    "total_data[\"アクセス\"][total_data[\"アクセス\"].str.count(\"\\t\") == 4]"
   ]
  },
  {
   "cell_type": "code",
   "execution_count": null,
   "metadata": {},
   "outputs": [],
   "source": []
  },
  {
   "cell_type": "markdown",
   "metadata": {},
   "source": [
    "# Print Unique values"
   ]
  },
  {
   "cell_type": "code",
   "execution_count": null,
   "metadata": {},
   "outputs": [],
   "source": [
    "for column in total_data.select_dtypes(\"object\").columns:\n",
    "    print(\"Unique values in \" + column + \":\")\n",
    "    print(\"Length: \", total_data[column].nunique())\n",
    "    print()"
   ]
  },
  {
   "cell_type": "code",
   "execution_count": null,
   "metadata": {},
   "outputs": [],
   "source": [
    "for column in total_data.select_dtypes(\"object\").columns:\n",
    "    if total_data[column].nunique() < 3:\n",
    "        print(\"Unique values in \" + column + \":\")\n",
    "        print(\"Length: \", total_data[column].nunique())\n",
    "        print(\"Values: \", total_data[column].unique())\n",
    "        print()"
   ]
  },
  {
   "cell_type": "markdown",
   "metadata": {},
   "source": [
    "# Access"
   ]
  },
  {
   "cell_type": "code",
   "execution_count": null,
   "metadata": {},
   "outputs": [],
   "source": [
    "# total_data[\"アクセス_3\"].unique()"
   ]
  },
  {
   "cell_type": "markdown",
   "metadata": {},
   "source": [
    "## Drop アクセス_3"
   ]
  },
  {
   "cell_type": "code",
   "execution_count": null,
   "metadata": {},
   "outputs": [],
   "source": [
    "# total_data = total_data.drop(columns=\"アクセス_3\")"
   ]
  },
  {
   "cell_type": "markdown",
   "metadata": {},
   "source": [
    "## Clean アクセス_0 incomplete"
   ]
  },
  {
   "cell_type": "code",
   "execution_count": null,
   "metadata": {},
   "outputs": [],
   "source": [
    "# for line in sorted(total_data[\"アクセス_0\"].unique()):\n",
    "#     print(line)"
   ]
  },
  {
   "cell_type": "code",
   "execution_count": null,
   "metadata": {},
   "outputs": [],
   "source": [
    "# total_data[\"アクセス_0\"].value_counts().head(10)"
   ]
  },
  {
   "cell_type": "markdown",
   "metadata": {},
   "source": [
    "## アクセス_1"
   ]
  },
  {
   "cell_type": "code",
   "execution_count": null,
   "metadata": {
    "scrolled": false
   },
   "outputs": [],
   "source": [
    "# total_data[\"アクセス_1\"].unique()"
   ]
  },
  {
   "cell_type": "markdown",
   "metadata": {},
   "source": [
    "## アクセス_2"
   ]
  },
  {
   "cell_type": "code",
   "execution_count": null,
   "metadata": {
    "scrolled": true
   },
   "outputs": [],
   "source": [
    "# total_data[\"アクセス_2\"].value_counts().head(10)"
   ]
  },
  {
   "cell_type": "code",
   "execution_count": null,
   "metadata": {},
   "outputs": [],
   "source": [
    "# access_2 = total_data[\"アクセス_2\"].str.split(\"バス\", expand=True)"
   ]
  },
  {
   "cell_type": "code",
   "execution_count": null,
   "metadata": {},
   "outputs": [],
   "source": [
    "# access_2[2].str.replace(\"\\u3000\", \"\").unique()"
   ]
  },
  {
   "cell_type": "code",
   "execution_count": null,
   "metadata": {},
   "outputs": [],
   "source": [
    "# access_2[2] = access_2[2].str.replace(\"\\u3000\", \"\")"
   ]
  },
  {
   "cell_type": "code",
   "execution_count": null,
   "metadata": {},
   "outputs": [],
   "source": [
    "# access_2[2].str.split(\"下車\", expand=True)[0].unique()"
   ]
  },
  {
   "cell_type": "code",
   "execution_count": null,
   "metadata": {},
   "outputs": [],
   "source": [
    "# access_2[2].str.split(\"下車\", expand=True)[1].unique()"
   ]
  },
  {
   "cell_type": "code",
   "execution_count": null,
   "metadata": {},
   "outputs": [],
   "source": [
    "# access_2_gesha_ = access_2[2].str.split(\"下車\", expand=True)[0]"
   ]
  },
  {
   "cell_type": "markdown",
   "metadata": {},
   "source": [
    "## Total_data"
   ]
  },
  {
   "cell_type": "code",
   "execution_count": null,
   "metadata": {},
   "outputs": [],
   "source": [
    "# total_data.head()"
   ]
  },
  {
   "cell_type": "markdown",
   "metadata": {},
   "source": [
    "# Drop アクセス7 and アクセス11"
   ]
  },
  {
   "cell_type": "code",
   "execution_count": null,
   "metadata": {},
   "outputs": [],
   "source": [
    "# total_data = total_data.drop(columns = [\"アクセス_7\", \"アクセス_11\"])"
   ]
  },
  {
   "cell_type": "markdown",
   "metadata": {},
   "source": [
    "# アクセス_12 too much info. Dropped atm"
   ]
  },
  {
   "cell_type": "code",
   "execution_count": null,
   "metadata": {},
   "outputs": [],
   "source": [
    "# total_data = total_data.drop(columns = \"アクセス_12\")"
   ]
  },
  {
   "cell_type": "code",
   "execution_count": null,
   "metadata": {},
   "outputs": [],
   "source": [
    "total_data.head()"
   ]
  },
  {
   "cell_type": "code",
   "execution_count": null,
   "metadata": {},
   "outputs": [],
   "source": [
    "total_data.select_dtypes(\"object\").columns"
   ]
  },
  {
   "cell_type": "code",
   "execution_count": null,
   "metadata": {},
   "outputs": [],
   "source": [
    "train.shape"
   ]
  },
  {
   "cell_type": "code",
   "execution_count": null,
   "metadata": {},
   "outputs": [],
   "source": [
    "test.shape"
   ]
  },
  {
   "cell_type": "code",
   "execution_count": null,
   "metadata": {},
   "outputs": [],
   "source": [
    "total_data.shape"
   ]
  },
  {
   "cell_type": "code",
   "execution_count": null,
   "metadata": {},
   "outputs": [],
   "source": [
    "total_data = pd.get_dummies(total_data)"
   ]
  },
  {
   "cell_type": "code",
   "execution_count": null,
   "metadata": {},
   "outputs": [],
   "source": [
    "total_data.info()"
   ]
  },
  {
   "cell_type": "code",
   "execution_count": null,
   "metadata": {},
   "outputs": [],
   "source": [
    "X_train = total_data[:31470]\n",
    "X_test = total_data[31470:]"
   ]
  },
  {
   "cell_type": "code",
   "execution_count": null,
   "metadata": {},
   "outputs": [],
   "source": [
    "X_train.shape"
   ]
  },
  {
   "cell_type": "code",
   "execution_count": null,
   "metadata": {},
   "outputs": [],
   "source": [
    "X_test.shape"
   ]
  },
  {
   "cell_type": "code",
   "execution_count": null,
   "metadata": {},
   "outputs": [],
   "source": [
    "y_train = target"
   ]
  },
  {
   "cell_type": "code",
   "execution_count": null,
   "metadata": {},
   "outputs": [],
   "source": [
    "y_train.shape"
   ]
  },
  {
   "cell_type": "markdown",
   "metadata": {},
   "source": [
    "# Model"
   ]
  },
  {
   "cell_type": "markdown",
   "metadata": {},
   "source": [
    "## Normalization"
   ]
  },
  {
   "cell_type": "code",
   "execution_count": null,
   "metadata": {},
   "outputs": [],
   "source": [
    "feature_names = list(X_train.columns)\n",
    "from sklearn.preprocessing import MinMaxScaler\n",
    "\n",
    "scaler = MinMaxScaler(feature_range=(0, 1))\n",
    "scaler.fit(X_train)\n",
    "X_train = scaler.transform(X_train)\n",
    "X_test = scaler.transform(X_test)"
   ]
  },
  {
   "cell_type": "code",
   "execution_count": null,
   "metadata": {},
   "outputs": [],
   "source": [
    "X_train = pd.DataFrame(X_train, columns = feature_names)\n",
    "X_test = pd.DataFrame(X_test, columns = feature_names)\n",
    "X_train.head()"
   ]
  },
  {
   "cell_type": "markdown",
   "metadata": {},
   "source": [
    "## Training"
   ]
  },
  {
   "cell_type": "markdown",
   "metadata": {},
   "source": [
    "### Random forest"
   ]
  },
  {
   "cell_type": "code",
   "execution_count": null,
   "metadata": {},
   "outputs": [],
   "source": [
    "# from sklearn.metrics import mean_squared_error\n",
    "\n",
    "# from sklearn.ensemble import RandomForestRegressor\n",
    "\n",
    "# rfr = RandomForestRegressor(n_estimators=500, n_jobs=-1, random_state=0)\n",
    "\n",
    "# from sklearn.model_selection import cross_val_score\n",
    "\n",
    "# scores = cross_val_score(rfr, X_train, y_train, scoring=\"neg_mean_squared_error\", cv=5, n_jobs=-1)\n",
    "\n",
    "# print(\"K-Fold cross val score:\", np.sqrt(-scores**0.5))\n",
    "# print(\"Mean: \", np.sqrt(-scores**0.5).mean())\n",
    "# print(\"Var: \", np.sqrt(-scores**0.5).std())"
   ]
  },
  {
   "cell_type": "code",
   "execution_count": null,
   "metadata": {},
   "outputs": [],
   "source": [
    "# import sklearn\n",
    "# sorted(sklearn.metrics.SCORERS.keys())"
   ]
  },
  {
   "cell_type": "code",
   "execution_count": null,
   "metadata": {},
   "outputs": [],
   "source": [
    "# plt.figure(figsize=(6, 15))\n",
    "# plt.barh(X_train.columns, rfr.feature_importances_)"
   ]
  },
  {
   "cell_type": "code",
   "execution_count": null,
   "metadata": {},
   "outputs": [],
   "source": [
    "import xgboost as xgb\n",
    "model = xgb.XGBRegressor(n_jobs=-1,\n",
    "                         max_depth=10,\n",
    "                         n_estimators=1700,\n",
    "                         learning_rate=0.05,\n",
    "                         random_state=0,\n",
    "                         gamma=0.3,\n",
    "                         subsample=0.8,\n",
    "                        reg_lambda=4,\n",
    "                        eval_metric=\"rmse\",\n",
    "                        tree_method=\"gpu_hist\")\n",
    "# import xgboost as xgb\n",
    "# model = xgb.XGBRegressor(tree_method=\"gpu_hist\",\n",
    "#                         eval_metric=\"rmse\",\n",
    "#                         verbosity=3)"
   ]
  },
  {
   "cell_type": "code",
   "execution_count": null,
   "metadata": {},
   "outputs": [],
   "source": [
    "model.fit(X_train, y_train)"
   ]
  },
  {
   "cell_type": "code",
   "execution_count": null,
   "metadata": {},
   "outputs": [],
   "source": [
    "# plt.figure(figsize=(6, 15))\n",
    "# plt.barh(X_train.columns[:10], model.feature_importances_[:10]);"
   ]
  },
  {
   "cell_type": "code",
   "execution_count": null,
   "metadata": {},
   "outputs": [],
   "source": [
    "y_pred = model.predict(X_test)"
   ]
  },
  {
   "cell_type": "code",
   "execution_count": 3,
   "metadata": {},
   "outputs": [],
   "source": [
    "import pandas as pd\n",
    "smpsb_df = pd.read_csv(\"./data/sample_submit.csv\", header=None)"
   ]
  },
  {
   "cell_type": "code",
   "execution_count": 4,
   "metadata": {},
   "outputs": [
    {
     "data": {
      "text/html": [
       "<div>\n",
       "<style scoped>\n",
       "    .dataframe tbody tr th:only-of-type {\n",
       "        vertical-align: middle;\n",
       "    }\n",
       "\n",
       "    .dataframe tbody tr th {\n",
       "        vertical-align: top;\n",
       "    }\n",
       "\n",
       "    .dataframe thead th {\n",
       "        text-align: right;\n",
       "    }\n",
       "</style>\n",
       "<table border=\"1\" class=\"dataframe\">\n",
       "  <thead>\n",
       "    <tr style=\"text-align: right;\">\n",
       "      <th></th>\n",
       "      <th>0</th>\n",
       "      <th>1</th>\n",
       "    </tr>\n",
       "  </thead>\n",
       "  <tbody>\n",
       "    <tr>\n",
       "      <th>0</th>\n",
       "      <td>31471</td>\n",
       "      <td>303875</td>\n",
       "    </tr>\n",
       "    <tr>\n",
       "      <th>1</th>\n",
       "      <td>31472</td>\n",
       "      <td>422016</td>\n",
       "    </tr>\n",
       "    <tr>\n",
       "      <th>2</th>\n",
       "      <td>31473</td>\n",
       "      <td>275390</td>\n",
       "    </tr>\n",
       "    <tr>\n",
       "      <th>3</th>\n",
       "      <td>31474</td>\n",
       "      <td>980818</td>\n",
       "    </tr>\n",
       "    <tr>\n",
       "      <th>4</th>\n",
       "      <td>31475</td>\n",
       "      <td>436194</td>\n",
       "    </tr>\n",
       "  </tbody>\n",
       "</table>\n",
       "</div>"
      ],
      "text/plain": [
       "       0       1\n",
       "0  31471  303875\n",
       "1  31472  422016\n",
       "2  31473  275390\n",
       "3  31474  980818\n",
       "4  31475  436194"
      ]
     },
     "execution_count": 4,
     "metadata": {},
     "output_type": "execute_result"
    }
   ],
   "source": [
    "smpsb_df.head()"
   ]
  },
  {
   "cell_type": "code",
   "execution_count": 2,
   "metadata": {},
   "outputs": [
    {
     "ename": "NameError",
     "evalue": "name 'y_pred' is not defined",
     "output_type": "error",
     "traceback": [
      "\u001b[0;31m---------------------------------------------------------------------------\u001b[0m",
      "\u001b[0;31mNameError\u001b[0m                                 Traceback (most recent call last)",
      "\u001b[0;32m<ipython-input-2-c3dc637b3602>\u001b[0m in \u001b[0;36m<module>\u001b[0;34m\u001b[0m\n\u001b[1;32m      1\u001b[0m \u001b[0;32mimport\u001b[0m \u001b[0mpandas\u001b[0m \u001b[0;32mas\u001b[0m \u001b[0mpd\u001b[0m\u001b[0;34m\u001b[0m\u001b[0;34m\u001b[0m\u001b[0m\n\u001b[1;32m      2\u001b[0m \u001b[0msmpsb_df\u001b[0m \u001b[0;34m=\u001b[0m \u001b[0mpd\u001b[0m\u001b[0;34m.\u001b[0m\u001b[0mread_csv\u001b[0m\u001b[0;34m(\u001b[0m\u001b[0;34m\"./data/sample_submit.csv\"\u001b[0m\u001b[0;34m,\u001b[0m \u001b[0mheader\u001b[0m\u001b[0;34m=\u001b[0m\u001b[0;32mNone\u001b[0m\u001b[0;34m)\u001b[0m\u001b[0;34m\u001b[0m\u001b[0;34m\u001b[0m\u001b[0m\n\u001b[0;32m----> 3\u001b[0;31m \u001b[0msmpsb_df\u001b[0m\u001b[0;34m.\u001b[0m\u001b[0miloc\u001b[0m\u001b[0;34m[\u001b[0m\u001b[0;34m:\u001b[0m\u001b[0mlen\u001b[0m\u001b[0;34m(\u001b[0m\u001b[0mX_test\u001b[0m\u001b[0;34m)\u001b[0m\u001b[0;34m,\u001b[0m \u001b[0;36m1\u001b[0m\u001b[0;34m]\u001b[0m \u001b[0;34m=\u001b[0m \u001b[0my_pred\u001b[0m\u001b[0;34m\u001b[0m\u001b[0;34m\u001b[0m\u001b[0m\n\u001b[0m",
      "\u001b[0;31mNameError\u001b[0m: name 'y_pred' is not defined"
     ]
    }
   ],
   "source": [
    "smpsb_df.iloc[:len(X_test), 1] = y_pred"
   ]
  },
  {
   "cell_type": "code",
   "execution_count": null,
   "metadata": {},
   "outputs": [],
   "source": [
    "smpsb_df.head()"
   ]
  },
  {
   "cell_type": "code",
   "execution_count": null,
   "metadata": {},
   "outputs": [],
   "source": [
    "smpsb_df.tail()"
   ]
  },
  {
   "cell_type": "code",
   "execution_count": null,
   "metadata": {},
   "outputs": [],
   "source": [
    "smpsb_df.to_csv(\"xgboost2.csv\", index=None, header=None)"
   ]
  },
  {
   "cell_type": "code",
   "execution_count": null,
   "metadata": {},
   "outputs": [],
   "source": [
    "train[\"所在地\"][0]"
   ]
  },
  {
   "cell_type": "code",
   "execution_count": null,
   "metadata": {},
   "outputs": [],
   "source": []
  }
 ],
 "metadata": {
  "kernelspec": {
   "display_name": "Python 3",
   "language": "python",
   "name": "python3"
  },
  "language_info": {
   "codemirror_mode": {
    "name": "ipython",
    "version": 3
   },
   "file_extension": ".py",
   "mimetype": "text/x-python",
   "name": "python",
   "nbconvert_exporter": "python",
   "pygments_lexer": "ipython3",
   "version": "3.6.8"
  }
 },
 "nbformat": 4,
 "nbformat_minor": 2
}
