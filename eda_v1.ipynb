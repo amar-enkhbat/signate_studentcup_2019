{
 "cells": [
  {
   "cell_type": "code",
   "execution_count": 4,
   "metadata": {},
   "outputs": [],
   "source": [
    "import pandas as pd\n",
    "import numpy as np\n",
    "import matplotlib.pyplot as plt\n",
    "import matplotlib as mpl\n",
    "import seaborn as sns\n",
    "font = {'family':\"IPAexGothic\",\n",
    "        'weight' : 'bold'}\n",
    "mpl.rc('font', **font)"
   ]
  },
  {
   "cell_type": "code",
   "execution_count": 5,
   "metadata": {},
   "outputs": [],
   "source": [
    "X_train = pd.read_csv(\"./preprocessed_data/preprocessed_train.csv\")\n",
    "X_test = pd.read_csv(\"./preprocessed_data/preprocessed_test.csv\")\n",
    "orig_columns = X_train.columns.values"
   ]
  },
  {
   "cell_type": "code",
   "execution_count": 6,
   "metadata": {},
   "outputs": [],
   "source": [
    "# X_train.iloc[:, -3]"
   ]
  },
  {
   "cell_type": "markdown",
   "metadata": {},
   "source": [
    "# EDA"
   ]
  },
  {
   "cell_type": "code",
   "execution_count": 7,
   "metadata": {},
   "outputs": [
    {
     "name": "stdout",
     "output_type": "stream",
     "text": [
      "Training data shape:  (31470, 136)\n"
     ]
    },
    {
     "data": {
      "text/html": [
       "<div>\n",
       "<style scoped>\n",
       "    .dataframe tbody tr th:only-of-type {\n",
       "        vertical-align: middle;\n",
       "    }\n",
       "\n",
       "    .dataframe tbody tr th {\n",
       "        vertical-align: top;\n",
       "    }\n",
       "\n",
       "    .dataframe thead th {\n",
       "        text-align: right;\n",
       "    }\n",
       "</style>\n",
       "<table border=\"1\" class=\"dataframe\">\n",
       "  <thead>\n",
       "    <tr style=\"text-align: right;\">\n",
       "      <th></th>\n",
       "      <th>面積</th>\n",
       "      <th>所在階</th>\n",
       "      <th>建物構造</th>\n",
       "      <th>築年数_月</th>\n",
       "      <th>階建</th>\n",
       "      <th>納戸</th>\n",
       "      <th>間取り_D</th>\n",
       "      <th>間取り_K</th>\n",
       "      <th>間取り_L</th>\n",
       "      <th>間取り_R</th>\n",
       "      <th>...</th>\n",
       "      <th>【デパート】</th>\n",
       "      <th>【レンタルビデオ】</th>\n",
       "      <th>【クリーニング】</th>\n",
       "      <th>【コインパーキング】</th>\n",
       "      <th>【月極駐車場】</th>\n",
       "      <th>緯度</th>\n",
       "      <th>経度</th>\n",
       "      <th>地価5年平均</th>\n",
       "      <th>id</th>\n",
       "      <th>賃料</th>\n",
       "    </tr>\n",
       "  </thead>\n",
       "  <tbody>\n",
       "    <tr>\n",
       "      <th>0</th>\n",
       "      <td>20.01</td>\n",
       "      <td>1</td>\n",
       "      <td>RC(鉄筋コンクリート)</td>\n",
       "      <td>117</td>\n",
       "      <td>12</td>\n",
       "      <td>False</td>\n",
       "      <td>False</td>\n",
       "      <td>True</td>\n",
       "      <td>False</td>\n",
       "      <td>False</td>\n",
       "      <td>...</td>\n",
       "      <td>False</td>\n",
       "      <td>False</td>\n",
       "      <td>False</td>\n",
       "      <td>False</td>\n",
       "      <td>False</td>\n",
       "      <td>35.748456</td>\n",
       "      <td>139.728800</td>\n",
       "      <td>483000.0</td>\n",
       "      <td>1</td>\n",
       "      <td>75000</td>\n",
       "    </tr>\n",
       "    <tr>\n",
       "      <th>1</th>\n",
       "      <td>16.50</td>\n",
       "      <td>5</td>\n",
       "      <td>鉄骨造</td>\n",
       "      <td>538</td>\n",
       "      <td>10</td>\n",
       "      <td>False</td>\n",
       "      <td>False</td>\n",
       "      <td>False</td>\n",
       "      <td>False</td>\n",
       "      <td>True</td>\n",
       "      <td>...</td>\n",
       "      <td>False</td>\n",
       "      <td>False</td>\n",
       "      <td>False</td>\n",
       "      <td>False</td>\n",
       "      <td>False</td>\n",
       "      <td>35.662885</td>\n",
       "      <td>139.778627</td>\n",
       "      <td>853200.0</td>\n",
       "      <td>2</td>\n",
       "      <td>76000</td>\n",
       "    </tr>\n",
       "    <tr>\n",
       "      <th>2</th>\n",
       "      <td>22.05</td>\n",
       "      <td>12</td>\n",
       "      <td>RC(鉄筋コンクリート)</td>\n",
       "      <td>102</td>\n",
       "      <td>15</td>\n",
       "      <td>False</td>\n",
       "      <td>False</td>\n",
       "      <td>True</td>\n",
       "      <td>False</td>\n",
       "      <td>False</td>\n",
       "      <td>...</td>\n",
       "      <td>False</td>\n",
       "      <td>False</td>\n",
       "      <td>False</td>\n",
       "      <td>False</td>\n",
       "      <td>False</td>\n",
       "      <td>35.675153</td>\n",
       "      <td>139.666255</td>\n",
       "      <td>730400.0</td>\n",
       "      <td>3</td>\n",
       "      <td>110000</td>\n",
       "    </tr>\n",
       "    <tr>\n",
       "      <th>3</th>\n",
       "      <td>60.48</td>\n",
       "      <td>3</td>\n",
       "      <td>RC(鉄筋コンクリート)</td>\n",
       "      <td>352</td>\n",
       "      <td>4</td>\n",
       "      <td>False</td>\n",
       "      <td>True</td>\n",
       "      <td>True</td>\n",
       "      <td>True</td>\n",
       "      <td>False</td>\n",
       "      <td>...</td>\n",
       "      <td>False</td>\n",
       "      <td>False</td>\n",
       "      <td>False</td>\n",
       "      <td>False</td>\n",
       "      <td>False</td>\n",
       "      <td>35.700170</td>\n",
       "      <td>139.648465</td>\n",
       "      <td>541600.0</td>\n",
       "      <td>4</td>\n",
       "      <td>150000</td>\n",
       "    </tr>\n",
       "    <tr>\n",
       "      <th>4</th>\n",
       "      <td>39.66</td>\n",
       "      <td>1</td>\n",
       "      <td>木造</td>\n",
       "      <td>379</td>\n",
       "      <td>2</td>\n",
       "      <td>False</td>\n",
       "      <td>True</td>\n",
       "      <td>True</td>\n",
       "      <td>False</td>\n",
       "      <td>False</td>\n",
       "      <td>...</td>\n",
       "      <td>False</td>\n",
       "      <td>False</td>\n",
       "      <td>False</td>\n",
       "      <td>False</td>\n",
       "      <td>False</td>\n",
       "      <td>35.766431</td>\n",
       "      <td>139.872321</td>\n",
       "      <td>324000.0</td>\n",
       "      <td>5</td>\n",
       "      <td>74000</td>\n",
       "    </tr>\n",
       "  </tbody>\n",
       "</table>\n",
       "<p>5 rows × 136 columns</p>\n",
       "</div>"
      ],
      "text/plain": [
       "      面積  所在階          建物構造  築年数_月  階建     納戸  間取り_D  間取り_K  間取り_L  間取り_R  \\\n",
       "0  20.01    1  RC(鉄筋コンクリート)    117  12  False  False   True  False  False   \n",
       "1  16.50    5           鉄骨造    538  10  False  False  False  False   True   \n",
       "2  22.05   12  RC(鉄筋コンクリート)    102  15  False  False   True  False  False   \n",
       "3  60.48    3  RC(鉄筋コンクリート)    352   4  False   True   True   True  False   \n",
       "4  39.66    1            木造    379   2  False   True   True  False  False   \n",
       "\n",
       "   ...  【デパート】  【レンタルビデオ】  【クリーニング】  【コインパーキング】  【月極駐車場】         緯度  \\\n",
       "0  ...   False      False     False       False    False  35.748456   \n",
       "1  ...   False      False     False       False    False  35.662885   \n",
       "2  ...   False      False     False       False    False  35.675153   \n",
       "3  ...   False      False     False       False    False  35.700170   \n",
       "4  ...   False      False     False       False    False  35.766431   \n",
       "\n",
       "           経度    地価5年平均 id      賃料  \n",
       "0  139.728800  483000.0  1   75000  \n",
       "1  139.778627  853200.0  2   76000  \n",
       "2  139.666255  730400.0  3  110000  \n",
       "3  139.648465  541600.0  4  150000  \n",
       "4  139.872321  324000.0  5   74000  \n",
       "\n",
       "[5 rows x 136 columns]"
      ]
     },
     "execution_count": 7,
     "metadata": {},
     "output_type": "execute_result"
    }
   ],
   "source": [
    "print(\"Training data shape: \", X_train.shape)\n",
    "X_train.head()"
   ]
  },
  {
   "cell_type": "code",
   "execution_count": 8,
   "metadata": {},
   "outputs": [
    {
     "name": "stdout",
     "output_type": "stream",
     "text": [
      "Testing data shape:  (31262, 135)\n"
     ]
    },
    {
     "data": {
      "text/html": [
       "<div>\n",
       "<style scoped>\n",
       "    .dataframe tbody tr th:only-of-type {\n",
       "        vertical-align: middle;\n",
       "    }\n",
       "\n",
       "    .dataframe tbody tr th {\n",
       "        vertical-align: top;\n",
       "    }\n",
       "\n",
       "    .dataframe thead th {\n",
       "        text-align: right;\n",
       "    }\n",
       "</style>\n",
       "<table border=\"1\" class=\"dataframe\">\n",
       "  <thead>\n",
       "    <tr style=\"text-align: right;\">\n",
       "      <th></th>\n",
       "      <th>面積</th>\n",
       "      <th>所在階</th>\n",
       "      <th>建物構造</th>\n",
       "      <th>築年数_月</th>\n",
       "      <th>階建</th>\n",
       "      <th>納戸</th>\n",
       "      <th>間取り_D</th>\n",
       "      <th>間取り_K</th>\n",
       "      <th>間取り_L</th>\n",
       "      <th>間取り_R</th>\n",
       "      <th>...</th>\n",
       "      <th>【図書館】</th>\n",
       "      <th>【デパート】</th>\n",
       "      <th>【レンタルビデオ】</th>\n",
       "      <th>【クリーニング】</th>\n",
       "      <th>【コインパーキング】</th>\n",
       "      <th>【月極駐車場】</th>\n",
       "      <th>緯度</th>\n",
       "      <th>経度</th>\n",
       "      <th>地価5年平均</th>\n",
       "      <th>id</th>\n",
       "    </tr>\n",
       "  </thead>\n",
       "  <tbody>\n",
       "    <tr>\n",
       "      <th>0</th>\n",
       "      <td>50.22</td>\n",
       "      <td>8</td>\n",
       "      <td>鉄骨造</td>\n",
       "      <td>588</td>\n",
       "      <td>8</td>\n",
       "      <td>False</td>\n",
       "      <td>True</td>\n",
       "      <td>True</td>\n",
       "      <td>True</td>\n",
       "      <td>False</td>\n",
       "      <td>...</td>\n",
       "      <td>False</td>\n",
       "      <td>False</td>\n",
       "      <td>False</td>\n",
       "      <td>False</td>\n",
       "      <td>False</td>\n",
       "      <td>False</td>\n",
       "      <td>35.617720</td>\n",
       "      <td>139.652763</td>\n",
       "      <td>653600.0</td>\n",
       "      <td>31471</td>\n",
       "    </tr>\n",
       "    <tr>\n",
       "      <th>1</th>\n",
       "      <td>20.88</td>\n",
       "      <td>3</td>\n",
       "      <td>RC(鉄筋コンクリート)</td>\n",
       "      <td>2</td>\n",
       "      <td>4</td>\n",
       "      <td>False</td>\n",
       "      <td>False</td>\n",
       "      <td>False</td>\n",
       "      <td>False</td>\n",
       "      <td>True</td>\n",
       "      <td>...</td>\n",
       "      <td>False</td>\n",
       "      <td>False</td>\n",
       "      <td>False</td>\n",
       "      <td>False</td>\n",
       "      <td>False</td>\n",
       "      <td>False</td>\n",
       "      <td>35.617761</td>\n",
       "      <td>139.672778</td>\n",
       "      <td>803400.0</td>\n",
       "      <td>31472</td>\n",
       "    </tr>\n",
       "    <tr>\n",
       "      <th>2</th>\n",
       "      <td>26.93</td>\n",
       "      <td>1</td>\n",
       "      <td>鉄骨造</td>\n",
       "      <td>280</td>\n",
       "      <td>4</td>\n",
       "      <td>False</td>\n",
       "      <td>False</td>\n",
       "      <td>True</td>\n",
       "      <td>False</td>\n",
       "      <td>False</td>\n",
       "      <td>...</td>\n",
       "      <td>False</td>\n",
       "      <td>False</td>\n",
       "      <td>False</td>\n",
       "      <td>False</td>\n",
       "      <td>False</td>\n",
       "      <td>False</td>\n",
       "      <td>35.742006</td>\n",
       "      <td>139.709040</td>\n",
       "      <td>509200.0</td>\n",
       "      <td>31473</td>\n",
       "    </tr>\n",
       "    <tr>\n",
       "      <th>3</th>\n",
       "      <td>23.57</td>\n",
       "      <td>1</td>\n",
       "      <td>木造</td>\n",
       "      <td>434</td>\n",
       "      <td>2</td>\n",
       "      <td>False</td>\n",
       "      <td>False</td>\n",
       "      <td>True</td>\n",
       "      <td>False</td>\n",
       "      <td>False</td>\n",
       "      <td>...</td>\n",
       "      <td>False</td>\n",
       "      <td>False</td>\n",
       "      <td>False</td>\n",
       "      <td>False</td>\n",
       "      <td>False</td>\n",
       "      <td>False</td>\n",
       "      <td>35.675001</td>\n",
       "      <td>139.657326</td>\n",
       "      <td>526000.0</td>\n",
       "      <td>31474</td>\n",
       "    </tr>\n",
       "    <tr>\n",
       "      <th>4</th>\n",
       "      <td>50.00</td>\n",
       "      <td>4</td>\n",
       "      <td>RC(鉄筋コンクリート)</td>\n",
       "      <td>544</td>\n",
       "      <td>4</td>\n",
       "      <td>False</td>\n",
       "      <td>True</td>\n",
       "      <td>True</td>\n",
       "      <td>True</td>\n",
       "      <td>False</td>\n",
       "      <td>...</td>\n",
       "      <td>False</td>\n",
       "      <td>False</td>\n",
       "      <td>False</td>\n",
       "      <td>False</td>\n",
       "      <td>False</td>\n",
       "      <td>False</td>\n",
       "      <td>35.687855</td>\n",
       "      <td>139.652224</td>\n",
       "      <td>473000.0</td>\n",
       "      <td>31475</td>\n",
       "    </tr>\n",
       "  </tbody>\n",
       "</table>\n",
       "<p>5 rows × 135 columns</p>\n",
       "</div>"
      ],
      "text/plain": [
       "      面積  所在階          建物構造  築年数_月  階建     納戸  間取り_D  間取り_K  間取り_L  間取り_R  \\\n",
       "0  50.22    8           鉄骨造    588   8  False   True   True   True  False   \n",
       "1  20.88    3  RC(鉄筋コンクリート)      2   4  False  False  False  False   True   \n",
       "2  26.93    1           鉄骨造    280   4  False  False   True  False  False   \n",
       "3  23.57    1            木造    434   2  False  False   True  False  False   \n",
       "4  50.00    4  RC(鉄筋コンクリート)    544   4  False   True   True   True  False   \n",
       "\n",
       "   ...  【図書館】  【デパート】  【レンタルビデオ】  【クリーニング】  【コインパーキング】  【月極駐車場】         緯度  \\\n",
       "0  ...  False   False      False     False       False    False  35.617720   \n",
       "1  ...  False   False      False     False       False    False  35.617761   \n",
       "2  ...  False   False      False     False       False    False  35.742006   \n",
       "3  ...  False   False      False     False       False    False  35.675001   \n",
       "4  ...  False   False      False     False       False    False  35.687855   \n",
       "\n",
       "           経度    地価5年平均     id  \n",
       "0  139.652763  653600.0  31471  \n",
       "1  139.672778  803400.0  31472  \n",
       "2  139.709040  509200.0  31473  \n",
       "3  139.657326  526000.0  31474  \n",
       "4  139.652224  473000.0  31475  \n",
       "\n",
       "[5 rows x 135 columns]"
      ]
     },
     "execution_count": 8,
     "metadata": {},
     "output_type": "execute_result"
    }
   ],
   "source": [
    "print(\"Testing data shape: \", X_test.shape)\n",
    "X_test.head()"
   ]
  },
  {
   "cell_type": "markdown",
   "metadata": {},
   "source": [
    "# Examine the distribution of the target"
   ]
  },
  {
   "cell_type": "code",
   "execution_count": 9,
   "metadata": {},
   "outputs": [
    {
     "name": "stderr",
     "output_type": "stream",
     "text": [
      "/usr/local/lib/python3.5/dist-packages/matplotlib/font_manager.py:1241: UserWarning: findfont: Font family ['IPAexGothic'] not found. Falling back to DejaVu Sans.\n",
      "  (prop.get_family(), self.defaultFamily[fontext]))\n"
     ]
    },
    {
     "data": {
      "image/png": "[encoded data removed]",
      "text/plain": [
       "<Figure size 432x288 with 1 Axes>"
      ]
     },
     "metadata": {},
     "output_type": "display_data"
    }
   ],
   "source": [
    "X_train[\"賃料\"].plot.hist();"
   ]
  },
  {
   "cell_type": "markdown",
   "metadata": {},
   "source": [
    "## Heavily right skewed"
   ]
  },
  {
   "cell_type": "markdown",
   "metadata": {},
   "source": [
    "# Examine missing values"
   ]
  },
  {
   "cell_type": "code",
   "execution_count": 10,
   "metadata": {},
   "outputs": [],
   "source": [
    "# Function to calculate missing values by column# Funct \n",
    "def missing_values_table(df):\n",
    "        # Total missing values\n",
    "        mis_val = df.isnull().sum()\n",
    "        \n",
    "        # Percentage of missing values\n",
    "        mis_val_percent = 100 * df.isnull().sum() / len(df)\n",
    "        \n",
    "        # Make a table with the results\n",
    "        mis_val_table = pd.concat([mis_val, mis_val_percent], axis=1)\n",
    "        \n",
    "        # Rename the columns\n",
    "        mis_val_table_ren_columns = mis_val_table.rename(\n",
    "        columns = {0 : 'Missing Values', 1 : '% of Total Values'})\n",
    "        \n",
    "        # Sort the table by percentage of missing descending\n",
    "        mis_val_table_ren_columns = mis_val_table_ren_columns[\n",
    "            mis_val_table_ren_columns.iloc[:,1] != 0].sort_values(\n",
    "        '% of Total Values', ascending=False).round(1)\n",
    "        \n",
    "        # Print some summary information\n",
    "        print (\"Your selected dataframe has \" + str(df.shape[1]) + \" columns.\\n\"      \n",
    "            \"There are \" + str(mis_val_table_ren_columns.shape[0]) +\n",
    "              \" columns that have missing values.\")\n",
    "        \n",
    "        # Return the dataframe with missing information\n",
    "        return mis_val_table_ren_columns"
   ]
  },
  {
   "cell_type": "code",
   "execution_count": 11,
   "metadata": {},
   "outputs": [
    {
     "name": "stdout",
     "output_type": "stream",
     "text": [
      "Your selected dataframe has 136 columns.\n",
      "There are 4 columns that have missing values.\n"
     ]
    },
    {
     "data": {
      "text/html": [
       "<div>\n",
       "<style scoped>\n",
       "    .dataframe tbody tr th:only-of-type {\n",
       "        vertical-align: middle;\n",
       "    }\n",
       "\n",
       "    .dataframe tbody tr th {\n",
       "        vertical-align: top;\n",
       "    }\n",
       "\n",
       "    .dataframe thead th {\n",
       "        text-align: right;\n",
       "    }\n",
       "</style>\n",
       "<table border=\"1\" class=\"dataframe\">\n",
       "  <thead>\n",
       "    <tr style=\"text-align: right;\">\n",
       "      <th></th>\n",
       "      <th>Missing Values</th>\n",
       "      <th>% of Total Values</th>\n",
       "    </tr>\n",
       "  </thead>\n",
       "  <tbody>\n",
       "    <tr>\n",
       "      <th>アクセス_駅_2_徒歩_分</th>\n",
       "      <td>1979</td>\n",
       "      <td>6.3</td>\n",
       "    </tr>\n",
       "    <tr>\n",
       "      <th>アクセス_線_2</th>\n",
       "      <td>1486</td>\n",
       "      <td>4.7</td>\n",
       "    </tr>\n",
       "    <tr>\n",
       "      <th>アクセス_駅_2</th>\n",
       "      <td>1486</td>\n",
       "      <td>4.7</td>\n",
       "    </tr>\n",
       "    <tr>\n",
       "      <th>アクセス_駅_1_徒歩_分</th>\n",
       "      <td>246</td>\n",
       "      <td>0.8</td>\n",
       "    </tr>\n",
       "  </tbody>\n",
       "</table>\n",
       "</div>"
      ],
      "text/plain": [
       "               Missing Values  % of Total Values\n",
       "アクセス_駅_2_徒歩_分            1979                6.3\n",
       "アクセス_線_2                 1486                4.7\n",
       "アクセス_駅_2                 1486                4.7\n",
       "アクセス_駅_1_徒歩_分             246                0.8"
      ]
     },
     "execution_count": 11,
     "metadata": {},
     "output_type": "execute_result"
    }
   ],
   "source": [
    "missing_values = missing_values_table(X_train)\n",
    "missing_values"
   ]
  },
  {
   "cell_type": "code",
   "execution_count": 12,
   "metadata": {},
   "outputs": [
    {
     "name": "stdout",
     "output_type": "stream",
     "text": [
      "Your selected dataframe has 135 columns.\n",
      "There are 4 columns that have missing values.\n"
     ]
    },
    {
     "data": {
      "text/html": [
       "<div>\n",
       "<style scoped>\n",
       "    .dataframe tbody tr th:only-of-type {\n",
       "        vertical-align: middle;\n",
       "    }\n",
       "\n",
       "    .dataframe tbody tr th {\n",
       "        vertical-align: top;\n",
       "    }\n",
       "\n",
       "    .dataframe thead th {\n",
       "        text-align: right;\n",
       "    }\n",
       "</style>\n",
       "<table border=\"1\" class=\"dataframe\">\n",
       "  <thead>\n",
       "    <tr style=\"text-align: right;\">\n",
       "      <th></th>\n",
       "      <th>Missing Values</th>\n",
       "      <th>% of Total Values</th>\n",
       "    </tr>\n",
       "  </thead>\n",
       "  <tbody>\n",
       "    <tr>\n",
       "      <th>アクセス_駅_2_徒歩_分</th>\n",
       "      <td>1971</td>\n",
       "      <td>6.3</td>\n",
       "    </tr>\n",
       "    <tr>\n",
       "      <th>アクセス_駅_2</th>\n",
       "      <td>1499</td>\n",
       "      <td>4.8</td>\n",
       "    </tr>\n",
       "    <tr>\n",
       "      <th>アクセス_線_2</th>\n",
       "      <td>1498</td>\n",
       "      <td>4.8</td>\n",
       "    </tr>\n",
       "    <tr>\n",
       "      <th>アクセス_駅_1_徒歩_分</th>\n",
       "      <td>242</td>\n",
       "      <td>0.8</td>\n",
       "    </tr>\n",
       "  </tbody>\n",
       "</table>\n",
       "</div>"
      ],
      "text/plain": [
       "               Missing Values  % of Total Values\n",
       "アクセス_駅_2_徒歩_分            1971                6.3\n",
       "アクセス_駅_2                 1499                4.8\n",
       "アクセス_線_2                 1498                4.8\n",
       "アクセス_駅_1_徒歩_分             242                0.8"
      ]
     },
     "execution_count": 12,
     "metadata": {},
     "output_type": "execute_result"
    }
   ],
   "source": [
    "missing_values = missing_values_table(X_test)\n",
    "missing_values"
   ]
  },
  {
   "cell_type": "markdown",
   "metadata": {},
   "source": [
    "XGBoost can handle missing values"
   ]
  },
  {
   "cell_type": "markdown",
   "metadata": {},
   "source": [
    "# Column Types"
   ]
  },
  {
   "cell_type": "code",
   "execution_count": 13,
   "metadata": {},
   "outputs": [
    {
     "data": {
      "text/plain": [
       "bool       117\n",
       "int64        7\n",
       "object       6\n",
       "float64      6\n",
       "dtype: int64"
      ]
     },
     "execution_count": 13,
     "metadata": {},
     "output_type": "execute_result"
    }
   ],
   "source": [
    "X_train.dtypes.value_counts()"
   ]
  },
  {
   "cell_type": "code",
   "execution_count": 14,
   "metadata": {},
   "outputs": [
    {
     "data": {
      "text/plain": [
       "bool       117\n",
       "object       6\n",
       "float64      6\n",
       "int64        6\n",
       "dtype: int64"
      ]
     },
     "execution_count": 14,
     "metadata": {},
     "output_type": "execute_result"
    }
   ],
   "source": [
    "X_test.dtypes.value_counts()"
   ]
  },
  {
   "cell_type": "code",
   "execution_count": 15,
   "metadata": {},
   "outputs": [
    {
     "data": {
      "text/plain": [
       "建物構造         10\n",
       "所在地_区        23\n",
       "アクセス_線_1     64\n",
       "アクセス_駅_1    462\n",
       "アクセス_線_2     66\n",
       "アクセス_駅_2    495\n",
       "dtype: int64"
      ]
     },
     "execution_count": 15,
     "metadata": {},
     "output_type": "execute_result"
    }
   ],
   "source": [
    "X_train.select_dtypes(\"object\").apply(pd.Series.nunique, axis=0)"
   ]
  },
  {
   "cell_type": "markdown",
   "metadata": {},
   "source": [
    "# Encoding Categorical Variables"
   ]
  },
  {
   "cell_type": "code",
   "execution_count": 16,
   "metadata": {},
   "outputs": [
    {
     "name": "stdout",
     "output_type": "stream",
     "text": [
      "Training Features shape:  (31470, 1250)\n",
      "Testing Features shape:  (31262, 1254)\n"
     ]
    }
   ],
   "source": [
    "X_train = pd.get_dummies(X_train)\n",
    "X_test = pd.get_dummies(X_test)\n",
    "\n",
    "print('Training Features shape: ', X_train.shape)\n",
    "print('Testing Features shape: ', X_test.shape)"
   ]
  },
  {
   "cell_type": "code",
   "execution_count": 17,
   "metadata": {},
   "outputs": [
    {
     "name": "stdout",
     "output_type": "stream",
     "text": [
      "Training Features shape:  (31470, 1230)\n",
      "Testing Features shape:  (31262, 1229)\n"
     ]
    }
   ],
   "source": [
    "y_train = X_train[\"賃料\"]\n",
    "\n",
    "X_train, X_test = X_train.align(X_test, join=\"inner\", axis=1)\n",
    "X_train[\"賃料\"] = y_train\n",
    "\n",
    "print('Training Features shape: ', X_train.shape)\n",
    "print('Testing Features shape: ', X_test.shape)"
   ]
  },
  {
   "cell_type": "markdown",
   "metadata": {},
   "source": [
    "# Anomalies"
   ]
  },
  {
   "cell_type": "markdown",
   "metadata": {},
   "source": [
    "## 面積"
   ]
  },
  {
   "cell_type": "code",
   "execution_count": 18,
   "metadata": {},
   "outputs": [
    {
     "data": {
      "text/plain": [
       "Index(['面積', '所在階', '築年数_月', '階建', '納戸', '間取り_D', '間取り_K', '間取り_L', '間取り_R',\n",
       "       '間取り_S', '間取り_数', '方角_南', '方角_東', '方角_西', '方角_北', '契約期間_月',\n",
       "       'アクセス_駅_1_徒歩_分', 'アクセス_駅_2_徒歩_分', 'シャワー', 'トイレなし', 'バスなし', 'バス・トイレ別',\n",
       "       '共同トイレ', '共同バス', '専用トイレ', '専用バス', '洗面台独立', '浴室乾燥機', '温水洗浄便座', '脱衣所'],\n",
       "      dtype='object')"
      ]
     },
     "execution_count": 18,
     "metadata": {},
     "output_type": "execute_result"
    }
   ],
   "source": [
    "X_train.columns[:30]"
   ]
  },
  {
   "cell_type": "code",
   "execution_count": 19,
   "metadata": {},
   "outputs": [
    {
     "data": {
      "text/plain": [
       "count    31470.000000\n",
       "mean        34.808648\n",
       "std         18.814245\n",
       "min          4.860000\n",
       "25%         22.440000\n",
       "50%         28.410000\n",
       "75%         42.390000\n",
       "max        430.100000\n",
       "Name: 面積, dtype: float64"
      ]
     },
     "execution_count": 19,
     "metadata": {},
     "output_type": "execute_result"
    }
   ],
   "source": [
    "X_train[\"面積\"].describe()"
   ]
  },
  {
   "cell_type": "code",
   "execution_count": 20,
   "metadata": {},
   "outputs": [
    {
     "data": {
      "text/html": [
       "<div>\n",
       "<style scoped>\n",
       "    .dataframe tbody tr th:only-of-type {\n",
       "        vertical-align: middle;\n",
       "    }\n",
       "\n",
       "    .dataframe tbody tr th {\n",
       "        vertical-align: top;\n",
       "    }\n",
       "\n",
       "    .dataframe thead th {\n",
       "        text-align: right;\n",
       "    }\n",
       "</style>\n",
       "<table border=\"1\" class=\"dataframe\">\n",
       "  <thead>\n",
       "    <tr style=\"text-align: right;\">\n",
       "      <th></th>\n",
       "      <th>面積</th>\n",
       "      <th>所在階</th>\n",
       "      <th>築年数_月</th>\n",
       "      <th>階建</th>\n",
       "      <th>納戸</th>\n",
       "      <th>間取り_D</th>\n",
       "      <th>間取り_K</th>\n",
       "      <th>間取り_L</th>\n",
       "      <th>間取り_R</th>\n",
       "      <th>間取り_S</th>\n",
       "      <th>...</th>\n",
       "      <th>アクセス_駅_2_高輪台駅</th>\n",
       "      <th>アクセス_駅_2_高野駅</th>\n",
       "      <th>アクセス_駅_2_鬼子母神前駅</th>\n",
       "      <th>アクセス_駅_2_鮫洲駅</th>\n",
       "      <th>アクセス_駅_2_鵜の木駅</th>\n",
       "      <th>アクセス_駅_2_鶯谷駅</th>\n",
       "      <th>アクセス_駅_2_鷺ノ宮駅</th>\n",
       "      <th>アクセス_駅_2_麹町駅</th>\n",
       "      <th>アクセス_駅_2_麻布十番駅</th>\n",
       "      <th>賃料</th>\n",
       "    </tr>\n",
       "  </thead>\n",
       "  <tbody>\n",
       "    <tr>\n",
       "      <th>20926</th>\n",
       "      <td>430.1</td>\n",
       "      <td>2</td>\n",
       "      <td>239</td>\n",
       "      <td>10</td>\n",
       "      <td>False</td>\n",
       "      <td>True</td>\n",
       "      <td>True</td>\n",
       "      <td>True</td>\n",
       "      <td>False</td>\n",
       "      <td>False</td>\n",
       "      <td>...</td>\n",
       "      <td>0</td>\n",
       "      <td>0</td>\n",
       "      <td>0</td>\n",
       "      <td>0</td>\n",
       "      <td>0</td>\n",
       "      <td>0</td>\n",
       "      <td>0</td>\n",
       "      <td>0</td>\n",
       "      <td>0</td>\n",
       "      <td>116000</td>\n",
       "    </tr>\n",
       "  </tbody>\n",
       "</table>\n",
       "<p>1 rows × 1230 columns</p>\n",
       "</div>"
      ],
      "text/plain": [
       "          面積  所在階  築年数_月  階建     納戸  間取り_D  間取り_K  間取り_L  間取り_R  間取り_S  ...  \\\n",
       "20926  430.1    2    239  10  False   True   True   True  False  False  ...   \n",
       "\n",
       "       アクセス_駅_2_高輪台駅  アクセス_駅_2_高野駅  アクセス_駅_2_鬼子母神前駅  アクセス_駅_2_鮫洲駅  \\\n",
       "20926              0             0                0             0   \n",
       "\n",
       "       アクセス_駅_2_鵜の木駅  アクセス_駅_2_鶯谷駅  アクセス_駅_2_鷺ノ宮駅  アクセス_駅_2_麹町駅  \\\n",
       "20926              0             0              0             0   \n",
       "\n",
       "       アクセス_駅_2_麻布十番駅      賃料  \n",
       "20926               0  116000  \n",
       "\n",
       "[1 rows x 1230 columns]"
      ]
     },
     "execution_count": 20,
     "metadata": {},
     "output_type": "execute_result"
    }
   ],
   "source": [
    "X_train[X_train[\"面積\"]==430.1]"
   ]
  },
  {
   "cell_type": "code",
   "execution_count": 21,
   "metadata": {},
   "outputs": [
    {
     "data": {
      "text/plain": [
       "Text(0.5, 0, '面積')"
      ]
     },
     "execution_count": 21,
     "metadata": {},
     "output_type": "execute_result"
    },
    {
     "name": "stderr",
     "output_type": "stream",
     "text": [
      "/usr/local/lib/python3.5/dist-packages/matplotlib/font_manager.py:1241: UserWarning: findfont: Font family ['IPAexGothic'] not found. Falling back to DejaVu Sans.\n",
      "  (prop.get_family(), self.defaultFamily[fontext]))\n"
     ]
    },
    {
     "data": {
      "image/png": "[encoded data removed]",
      "text/plain": [
       "<Figure size 432x288 with 1 Axes>"
      ]
     },
     "metadata": {},
     "output_type": "display_data"
    }
   ],
   "source": [
    "X_train[\"面積\"].plot.hist(title=\"面積ヒストグラム\");\n",
    "plt.xlabel(\"面積\")"
   ]
  },
  {
   "cell_type": "markdown",
   "metadata": {},
   "source": [
    "## Probably 43.01 instead of 430.1"
   ]
  },
  {
   "cell_type": "code",
   "execution_count": 22,
   "metadata": {},
   "outputs": [
    {
     "name": "stderr",
     "output_type": "stream",
     "text": [
      "/usr/local/lib/python3.5/dist-packages/pandas/core/indexing.py:190: SettingWithCopyWarning: \n",
      "A value is trying to be set on a copy of a slice from a DataFrame\n",
      "\n",
      "See the caveats in the documentation: http://pandas.pydata.org/pandas-docs/stable/indexing.html#indexing-view-versus-copy\n",
      "  self._setitem_with_indexer(indexer, value)\n"
     ]
    }
   ],
   "source": [
    "X_train[\"面積\"].iloc[20926] = 43.01"
   ]
  },
  {
   "cell_type": "markdown",
   "metadata": {},
   "source": [
    "## 所在階"
   ]
  },
  {
   "cell_type": "code",
   "execution_count": 23,
   "metadata": {
    "scrolled": true
   },
   "outputs": [
    {
     "data": {
      "text/plain": [
       "Index(['面積', '所在階', '築年数_月', '階建', '納戸', '間取り_D', '間取り_K', '間取り_L', '間取り_R',\n",
       "       '間取り_S', '間取り_数', '方角_南', '方角_東', '方角_西', '方角_北', '契約期間_月',\n",
       "       'アクセス_駅_1_徒歩_分', 'アクセス_駅_2_徒歩_分', 'シャワー', 'トイレなし', 'バスなし', 'バス・トイレ別',\n",
       "       '共同トイレ', '共同バス', '専用トイレ', '専用バス', '洗面台独立', '浴室乾燥機', '温水洗浄便座', '脱衣所'],\n",
       "      dtype='object')"
      ]
     },
     "execution_count": 23,
     "metadata": {},
     "output_type": "execute_result"
    }
   ],
   "source": [
    "X_train.columns[:30]"
   ]
  },
  {
   "cell_type": "code",
   "execution_count": 24,
   "metadata": {},
   "outputs": [
    {
     "data": {
      "text/plain": [
       "count    31470.000000\n",
       "mean         3.880140\n",
       "std          3.955438\n",
       "min          0.000000\n",
       "25%          2.000000\n",
       "50%          3.000000\n",
       "75%          5.000000\n",
       "max         53.000000\n",
       "Name: 所在階, dtype: float64"
      ]
     },
     "execution_count": 24,
     "metadata": {},
     "output_type": "execute_result"
    }
   ],
   "source": [
    "X_train[\"所在階\"].describe()"
   ]
  },
  {
   "cell_type": "code",
   "execution_count": 25,
   "metadata": {
    "scrolled": true
   },
   "outputs": [
    {
     "data": {
      "text/plain": [
       "Text(0.5, 0, '所在階')"
      ]
     },
     "execution_count": 25,
     "metadata": {},
     "output_type": "execute_result"
    },
    {
     "data": {
      "image/png": "[encoded data removed]",
      "text/plain": [
       "<Figure size 432x288 with 1 Axes>"
      ]
     },
     "metadata": {},
     "output_type": "display_data"
    }
   ],
   "source": [
    "X_train[\"所在階\"].plot.hist(title=\"所在階ヒストグラム\");\n",
    "plt.xlabel(\"所在階\")"
   ]
  },
  {
   "cell_type": "markdown",
   "metadata": {},
   "source": [
    "## 築年数_月"
   ]
  },
  {
   "cell_type": "code",
   "execution_count": 26,
   "metadata": {
    "scrolled": true
   },
   "outputs": [
    {
     "data": {
      "text/plain": [
       "array(['面積', '所在階', '建物構造', '築年数_月', '階建', '納戸', '間取り_D', '間取り_K',\n",
       "       '間取り_L', '間取り_R', '間取り_S', '間取り_数', '方角_南', '方角_東', '方角_西', '方角_北',\n",
       "       '契約期間_月', '所在地_区', 'アクセス_線_1', 'アクセス_駅_1', 'アクセス_駅_1_徒歩_分',\n",
       "       'アクセス_線_2', 'アクセス_駅_2', 'アクセス_駅_2_徒歩_分', 'シャワー', 'トイレなし', 'バスなし',\n",
       "       'バス・トイレ別', '共同トイレ', '共同バス', '専用トイレ', '専用バス', '洗面台独立', '浴室乾燥機',\n",
       "       '温水洗浄便座', '脱衣所', '追焚機能', 'IHコンロ', 'L字キッチン', 'カウンターキッチン', 'ガスコンロ',\n",
       "       'コンロ1口', 'コンロ2口', 'コンロ3口', 'コンロ4口以上', 'コンロ設置可(コンロ1口)',\n",
       "       'コンロ設置可(コンロ2口)', 'コンロ設置可(コンロ3口)', 'コンロ設置可(コンロ4口以上)',\n",
       "       'コンロ設置可(口数不明)', 'システムキッチン', '冷蔵庫あり', '独立キッチン', '給湯', '電気コンロ',\n",
       "       'BSアンテナ', 'CATV', 'CSアンテナ', 'インターネット使用料無料', 'インターネット対応', '光ファイバー',\n",
       "       '有線放送', '高速インターネット', '24時間換気システム', '2面採光', '3面採光', 'ウォークインクローゼット',\n",
       "       'エアコン付', 'エレベーター', 'オール電化', 'ガスその他', 'ガス暖房', 'クッションフロア',\n",
       "       'シューズボックス', 'タイル張り', 'トランクルーム', 'バリアフリー', 'バルコニー', 'フローリング',\n",
       "       'プロパンガス', 'ペアガラス', 'ルーフバルコニー', 'ロフト付き', '下水', '二世帯住宅', '二重サッシ',\n",
       "       '井戸', '公営水道', '冷房', '出窓', '地下室', '室内洗濯機置場', '室外洗濯機置場', '専用庭',\n",
       "       '床下収納', '床暖房', '排水その他', '敷地内ごみ置き場', '水道その他', '汲み取り', '洗濯機置場なし',\n",
       "       '浄化槽', '石油暖房', '都市ガス', '防音室', '駐輪場', 'バイク置き場', '駐車場_1', '空有', '無',\n",
       "       '近隣', '空無', '【スーパー】', '【コンビニ】', '【飲食店】', '【ドラッグストア】', '【病院】',\n",
       "       '【公園】', '【郵便局】', '【小学校】', '【大学】', '【総合病院】', '【幼稚園・保育園】', '【学校】',\n",
       "       '【銀行】', '【図書館】', '【デパート】', '【レンタルビデオ】', '【クリーニング】', '【コインパーキング】',\n",
       "       '【月極駐車場】', '緯度', '経度', '地価5年平均', 'id', '賃料'], dtype=object)"
      ]
     },
     "execution_count": 26,
     "metadata": {},
     "output_type": "execute_result"
    }
   ],
   "source": [
    "orig_columns"
   ]
  },
  {
   "cell_type": "code",
   "execution_count": 27,
   "metadata": {},
   "outputs": [
    {
     "data": {
      "text/plain": [
       "count    31470.000000\n",
       "mean       194.336543\n",
       "std        181.463280\n",
       "min          0.000000\n",
       "25%         41.000000\n",
       "50%        161.000000\n",
       "75%        329.000000\n",
       "max      12235.000000\n",
       "Name: 築年数_月, dtype: float64"
      ]
     },
     "execution_count": 27,
     "metadata": {},
     "output_type": "execute_result"
    }
   ],
   "source": [
    "X_train[\"築年数_月\"].describe()"
   ]
  },
  {
   "cell_type": "code",
   "execution_count": 28,
   "metadata": {},
   "outputs": [
    {
     "data": {
      "text/plain": [
       "Text(0.5, 0, '築年数_月')"
      ]
     },
     "execution_count": 28,
     "metadata": {},
     "output_type": "execute_result"
    },
    {
     "data": {
      "image/png": "[encoded data removed]",
      "text/plain": [
       "<Figure size 432x288 with 1 Axes>"
      ]
     },
     "metadata": {},
     "output_type": "display_data"
    }
   ],
   "source": [
    "X_train[\"築年数_月\"].plot.hist(title=\"築年数_月ヒストグラム\");\n",
    "plt.xlabel(\"築年数_月\")"
   ]
  },
  {
   "cell_type": "code",
   "execution_count": 29,
   "metadata": {},
   "outputs": [],
   "source": [
    "temp_df = X_train[X_train[\"築年数_月\"] > 2000]"
   ]
  },
  {
   "cell_type": "code",
   "execution_count": 30,
   "metadata": {},
   "outputs": [
    {
     "data": {
      "text/plain": [
       "Text(0.5, 0, '築年数_月')"
      ]
     },
     "execution_count": 30,
     "metadata": {},
     "output_type": "execute_result"
    },
    {
     "data": {
      "image/png": "[encoded data removed]",
      "text/plain": [
       "<Figure size 432x288 with 1 Axes>"
      ]
     },
     "metadata": {},
     "output_type": "display_data"
    }
   ],
   "source": [
    "temp_df[\"築年数_月\"].plot.hist(title=\"高い築年数_月ヒストグラム\");\n",
    "plt.xlabel(\"築年数_月\")"
   ]
  },
  {
   "cell_type": "code",
   "execution_count": 31,
   "metadata": {},
   "outputs": [
    {
     "data": {
      "text/html": [
       "<div>\n",
       "<style scoped>\n",
       "    .dataframe tbody tr th:only-of-type {\n",
       "        vertical-align: middle;\n",
       "    }\n",
       "\n",
       "    .dataframe tbody tr th {\n",
       "        vertical-align: top;\n",
       "    }\n",
       "\n",
       "    .dataframe thead th {\n",
       "        text-align: right;\n",
       "    }\n",
       "</style>\n",
       "<table border=\"1\" class=\"dataframe\">\n",
       "  <thead>\n",
       "    <tr style=\"text-align: right;\">\n",
       "      <th></th>\n",
       "      <th>面積</th>\n",
       "      <th>所在階</th>\n",
       "      <th>築年数_月</th>\n",
       "      <th>階建</th>\n",
       "      <th>納戸</th>\n",
       "      <th>間取り_D</th>\n",
       "      <th>間取り_K</th>\n",
       "      <th>間取り_L</th>\n",
       "      <th>間取り_R</th>\n",
       "      <th>間取り_S</th>\n",
       "      <th>...</th>\n",
       "      <th>アクセス_駅_2_高輪台駅</th>\n",
       "      <th>アクセス_駅_2_高野駅</th>\n",
       "      <th>アクセス_駅_2_鬼子母神前駅</th>\n",
       "      <th>アクセス_駅_2_鮫洲駅</th>\n",
       "      <th>アクセス_駅_2_鵜の木駅</th>\n",
       "      <th>アクセス_駅_2_鶯谷駅</th>\n",
       "      <th>アクセス_駅_2_鷺ノ宮駅</th>\n",
       "      <th>アクセス_駅_2_麹町駅</th>\n",
       "      <th>アクセス_駅_2_麻布十番駅</th>\n",
       "      <th>賃料</th>\n",
       "    </tr>\n",
       "  </thead>\n",
       "  <tbody>\n",
       "    <tr>\n",
       "      <th>20231</th>\n",
       "      <td>51.3</td>\n",
       "      <td>3</td>\n",
       "      <td>6245</td>\n",
       "      <td>3</td>\n",
       "      <td>True</td>\n",
       "      <td>True</td>\n",
       "      <td>True</td>\n",
       "      <td>False</td>\n",
       "      <td>False</td>\n",
       "      <td>True</td>\n",
       "      <td>...</td>\n",
       "      <td>0</td>\n",
       "      <td>0</td>\n",
       "      <td>0</td>\n",
       "      <td>0</td>\n",
       "      <td>0</td>\n",
       "      <td>0</td>\n",
       "      <td>0</td>\n",
       "      <td>0</td>\n",
       "      <td>0</td>\n",
       "      <td>112000</td>\n",
       "    </tr>\n",
       "    <tr>\n",
       "      <th>20427</th>\n",
       "      <td>24.0</td>\n",
       "      <td>2</td>\n",
       "      <td>12235</td>\n",
       "      <td>2</td>\n",
       "      <td>False</td>\n",
       "      <td>True</td>\n",
       "      <td>True</td>\n",
       "      <td>False</td>\n",
       "      <td>False</td>\n",
       "      <td>False</td>\n",
       "      <td>...</td>\n",
       "      <td>0</td>\n",
       "      <td>0</td>\n",
       "      <td>0</td>\n",
       "      <td>0</td>\n",
       "      <td>0</td>\n",
       "      <td>0</td>\n",
       "      <td>0</td>\n",
       "      <td>0</td>\n",
       "      <td>0</td>\n",
       "      <td>82000</td>\n",
       "    </tr>\n",
       "  </tbody>\n",
       "</table>\n",
       "<p>2 rows × 1230 columns</p>\n",
       "</div>"
      ],
      "text/plain": [
       "         面積  所在階  築年数_月  階建     納戸  間取り_D  間取り_K  間取り_L  間取り_R  間取り_S  ...  \\\n",
       "20231  51.3    3   6245   3   True   True   True  False  False   True  ...   \n",
       "20427  24.0    2  12235   2  False   True   True  False  False  False  ...   \n",
       "\n",
       "       アクセス_駅_2_高輪台駅  アクセス_駅_2_高野駅  アクセス_駅_2_鬼子母神前駅  アクセス_駅_2_鮫洲駅  \\\n",
       "20231              0             0                0             0   \n",
       "20427              0             0                0             0   \n",
       "\n",
       "       アクセス_駅_2_鵜の木駅  アクセス_駅_2_鶯谷駅  アクセス_駅_2_鷺ノ宮駅  アクセス_駅_2_麹町駅  \\\n",
       "20231              0             0              0             0   \n",
       "20427              0             0              0             0   \n",
       "\n",
       "       アクセス_駅_2_麻布十番駅      賃料  \n",
       "20231               0  112000  \n",
       "20427               0   82000  \n",
       "\n",
       "[2 rows x 1230 columns]"
      ]
     },
     "execution_count": 31,
     "metadata": {},
     "output_type": "execute_result"
    }
   ],
   "source": [
    "temp_df"
   ]
  },
  {
   "cell_type": "code",
   "execution_count": 32,
   "metadata": {},
   "outputs": [],
   "source": [
    "train = pd.read_csv(\"./data/train.csv\")"
   ]
  },
  {
   "cell_type": "code",
   "execution_count": 33,
   "metadata": {},
   "outputs": [
    {
     "data": {
      "text/html": [
       "<div>\n",
       "<style scoped>\n",
       "    .dataframe tbody tr th:only-of-type {\n",
       "        vertical-align: middle;\n",
       "    }\n",
       "\n",
       "    .dataframe tbody tr th {\n",
       "        vertical-align: top;\n",
       "    }\n",
       "\n",
       "    .dataframe thead th {\n",
       "        text-align: right;\n",
       "    }\n",
       "</style>\n",
       "<table border=\"1\" class=\"dataframe\">\n",
       "  <thead>\n",
       "    <tr style=\"text-align: right;\">\n",
       "      <th></th>\n",
       "      <th>id</th>\n",
       "      <th>賃料</th>\n",
       "      <th>所在地</th>\n",
       "      <th>アクセス</th>\n",
       "      <th>間取り</th>\n",
       "      <th>築年数</th>\n",
       "      <th>方角</th>\n",
       "      <th>面積</th>\n",
       "      <th>所在階</th>\n",
       "      <th>バス・トイレ</th>\n",
       "      <th>キッチン</th>\n",
       "      <th>放送・通信</th>\n",
       "      <th>室内設備</th>\n",
       "      <th>駐車場</th>\n",
       "      <th>周辺環境</th>\n",
       "      <th>建物構造</th>\n",
       "      <th>契約期間</th>\n",
       "    </tr>\n",
       "  </thead>\n",
       "  <tbody>\n",
       "    <tr>\n",
       "      <th>20231</th>\n",
       "      <td>20232</td>\n",
       "      <td>112000</td>\n",
       "      <td>東京都板橋区蓮根３丁目</td>\n",
       "      <td>都営三田線\\t西台駅\\t徒歩7分\\t\\t都営三田線\\t蓮根駅\\t徒歩7分</td>\n",
       "      <td>2DK+S(納戸)</td>\n",
       "      <td>520年5ヶ月</td>\n",
       "      <td>南</td>\n",
       "      <td>51.3m2</td>\n",
       "      <td>3階／3階建</td>\n",
       "      <td>専用トイレ／\\tバス・トイレ別／\\tシャワー／\\t洗面台独立</td>\n",
       "      <td>コンロ設置可（コンロ3口）／\\t給湯</td>\n",
       "      <td>光ファイバー／\\tCATV</td>\n",
       "      <td>エアコン付\\t出窓／\\tバルコニー／\\tフローリング／\\t室内洗濯機置場／\\tタイル張り</td>\n",
       "      <td>NaN</td>\n",
       "      <td>NaN</td>\n",
       "      <td>鉄骨造</td>\n",
       "      <td>NaN</td>\n",
       "    </tr>\n",
       "    <tr>\n",
       "      <th>20427</th>\n",
       "      <td>20428</td>\n",
       "      <td>82000</td>\n",
       "      <td>東京都目黒区中町２丁目</td>\n",
       "      <td>東急東横線\\t祐天寺駅\\t徒歩11分\\t\\t東急東横線\\t中目黒駅\\t徒歩15分\\t\\t東急...</td>\n",
       "      <td>1DK</td>\n",
       "      <td>1019年7ヶ月</td>\n",
       "      <td>南</td>\n",
       "      <td>24m2</td>\n",
       "      <td>2階／2階建</td>\n",
       "      <td>専用トイレ／\\tバス・トイレ別／\\tシャワー</td>\n",
       "      <td>コンロ設置可（コンロ2口）</td>\n",
       "      <td>インターネット対応</td>\n",
       "      <td>エアコン付\\tシューズボックス／\\tバルコニー／\\tフローリング／\\t室外洗濯機置場／\\tタ...</td>\n",
       "      <td>NaN</td>\n",
       "      <td>NaN</td>\n",
       "      <td>鉄骨造</td>\n",
       "      <td>NaN</td>\n",
       "    </tr>\n",
       "  </tbody>\n",
       "</table>\n",
       "</div>"
      ],
      "text/plain": [
       "          id      賃料          所在地  \\\n",
       "20231  20232  112000  東京都板橋区蓮根３丁目   \n",
       "20427  20428   82000  東京都目黒区中町２丁目   \n",
       "\n",
       "                                                    アクセス        間取り       築年数  \\\n",
       "20231               都営三田線\\t西台駅\\t徒歩7分\\t\\t都営三田線\\t蓮根駅\\t徒歩7分  2DK+S(納戸)   520年5ヶ月   \n",
       "20427  東急東横線\\t祐天寺駅\\t徒歩11分\\t\\t東急東横線\\t中目黒駅\\t徒歩15分\\t\\t東急...        1DK  1019年7ヶ月   \n",
       "\n",
       "      方角      面積     所在階                          バス・トイレ                キッチン  \\\n",
       "20231  南  51.3m2  3階／3階建  専用トイレ／\\tバス・トイレ別／\\tシャワー／\\t洗面台独立  コンロ設置可（コンロ3口）／\\t給湯   \n",
       "20427  南    24m2  2階／2階建          専用トイレ／\\tバス・トイレ別／\\tシャワー       コンロ設置可（コンロ2口）   \n",
       "\n",
       "               放送・通信                                               室内設備  駐車場  \\\n",
       "20231  光ファイバー／\\tCATV       エアコン付\\t出窓／\\tバルコニー／\\tフローリング／\\t室内洗濯機置場／\\tタイル張り  NaN   \n",
       "20427      インターネット対応  エアコン付\\tシューズボックス／\\tバルコニー／\\tフローリング／\\t室外洗濯機置場／\\tタ...  NaN   \n",
       "\n",
       "      周辺環境 建物構造 契約期間  \n",
       "20231  NaN  鉄骨造  NaN  \n",
       "20427  NaN  鉄骨造  NaN  "
      ]
     },
     "execution_count": 33,
     "metadata": {},
     "output_type": "execute_result"
    }
   ],
   "source": [
    "train.iloc[[20231, 20427]]"
   ]
  },
  {
   "cell_type": "code",
   "execution_count": 34,
   "metadata": {},
   "outputs": [
    {
     "name": "stdout",
     "output_type": "stream",
     "text": [
      "296.25\n"
     ]
    }
   ],
   "source": [
    "temp_month = X_train.query(\"id!=20232 and 賃料==112000 and 面積>51\")[\"築年数_月\"].mean()\n",
    "print(temp_month)"
   ]
  },
  {
   "cell_type": "code",
   "execution_count": 35,
   "metadata": {},
   "outputs": [
    {
     "name": "stderr",
     "output_type": "stream",
     "text": [
      "/usr/local/lib/python3.5/dist-packages/pandas/core/indexing.py:190: SettingWithCopyWarning: \n",
      "A value is trying to be set on a copy of a slice from a DataFrame\n",
      "\n",
      "See the caveats in the documentation: http://pandas.pydata.org/pandas-docs/stable/indexing.html#indexing-view-versus-copy\n",
      "  self._setitem_with_indexer(indexer, value)\n"
     ]
    }
   ],
   "source": [
    "X_train[\"築年数_月\"].iloc[20231] = temp_month"
   ]
  },
  {
   "cell_type": "code",
   "execution_count": 36,
   "metadata": {},
   "outputs": [
    {
     "data": {
      "text/html": [
       "<div>\n",
       "<style scoped>\n",
       "    .dataframe tbody tr th:only-of-type {\n",
       "        vertical-align: middle;\n",
       "    }\n",
       "\n",
       "    .dataframe tbody tr th {\n",
       "        vertical-align: top;\n",
       "    }\n",
       "\n",
       "    .dataframe thead th {\n",
       "        text-align: right;\n",
       "    }\n",
       "</style>\n",
       "<table border=\"1\" class=\"dataframe\">\n",
       "  <thead>\n",
       "    <tr style=\"text-align: right;\">\n",
       "      <th></th>\n",
       "      <th>面積</th>\n",
       "      <th>所在階</th>\n",
       "      <th>築年数_月</th>\n",
       "      <th>階建</th>\n",
       "      <th>納戸</th>\n",
       "      <th>間取り_D</th>\n",
       "      <th>間取り_K</th>\n",
       "      <th>間取り_L</th>\n",
       "      <th>間取り_R</th>\n",
       "      <th>間取り_S</th>\n",
       "      <th>...</th>\n",
       "      <th>アクセス_駅_2_高輪台駅</th>\n",
       "      <th>アクセス_駅_2_高野駅</th>\n",
       "      <th>アクセス_駅_2_鬼子母神前駅</th>\n",
       "      <th>アクセス_駅_2_鮫洲駅</th>\n",
       "      <th>アクセス_駅_2_鵜の木駅</th>\n",
       "      <th>アクセス_駅_2_鶯谷駅</th>\n",
       "      <th>アクセス_駅_2_鷺ノ宮駅</th>\n",
       "      <th>アクセス_駅_2_麹町駅</th>\n",
       "      <th>アクセス_駅_2_麻布十番駅</th>\n",
       "      <th>賃料</th>\n",
       "    </tr>\n",
       "  </thead>\n",
       "  <tbody>\n",
       "    <tr>\n",
       "      <th>20231</th>\n",
       "      <td>51.3</td>\n",
       "      <td>3</td>\n",
       "      <td>296.25</td>\n",
       "      <td>3</td>\n",
       "      <td>True</td>\n",
       "      <td>True</td>\n",
       "      <td>True</td>\n",
       "      <td>False</td>\n",
       "      <td>False</td>\n",
       "      <td>True</td>\n",
       "      <td>...</td>\n",
       "      <td>0</td>\n",
       "      <td>0</td>\n",
       "      <td>0</td>\n",
       "      <td>0</td>\n",
       "      <td>0</td>\n",
       "      <td>0</td>\n",
       "      <td>0</td>\n",
       "      <td>0</td>\n",
       "      <td>0</td>\n",
       "      <td>112000</td>\n",
       "    </tr>\n",
       "  </tbody>\n",
       "</table>\n",
       "<p>1 rows × 1230 columns</p>\n",
       "</div>"
      ],
      "text/plain": [
       "         面積  所在階   築年数_月  階建    納戸  間取り_D  間取り_K  間取り_L  間取り_R  間取り_S  ...  \\\n",
       "20231  51.3    3  296.25   3  True   True   True  False  False   True  ...   \n",
       "\n",
       "       アクセス_駅_2_高輪台駅  アクセス_駅_2_高野駅  アクセス_駅_2_鬼子母神前駅  アクセス_駅_2_鮫洲駅  \\\n",
       "20231              0             0                0             0   \n",
       "\n",
       "       アクセス_駅_2_鵜の木駅  アクセス_駅_2_鶯谷駅  アクセス_駅_2_鷺ノ宮駅  アクセス_駅_2_麹町駅  \\\n",
       "20231              0             0              0             0   \n",
       "\n",
       "       アクセス_駅_2_麻布十番駅      賃料  \n",
       "20231               0  112000  \n",
       "\n",
       "[1 rows x 1230 columns]"
      ]
     },
     "execution_count": 36,
     "metadata": {},
     "output_type": "execute_result"
    }
   ],
   "source": [
    "X_train[X_train[\"id\"]==20232]"
   ]
  },
  {
   "cell_type": "code",
   "execution_count": 37,
   "metadata": {},
   "outputs": [
    {
     "name": "stdout",
     "output_type": "stream",
     "text": [
      "213.7748344370861\n"
     ]
    }
   ],
   "source": [
    "temp_month = X_train.query(\"id!=20428 and 賃料==82000 and 面積>24\")[\"築年数_月\"].mean()\n",
    "print(temp_month)"
   ]
  },
  {
   "cell_type": "code",
   "execution_count": 38,
   "metadata": {},
   "outputs": [
    {
     "name": "stderr",
     "output_type": "stream",
     "text": [
      "/usr/local/lib/python3.5/dist-packages/pandas/core/indexing.py:190: SettingWithCopyWarning: \n",
      "A value is trying to be set on a copy of a slice from a DataFrame\n",
      "\n",
      "See the caveats in the documentation: http://pandas.pydata.org/pandas-docs/stable/indexing.html#indexing-view-versus-copy\n",
      "  self._setitem_with_indexer(indexer, value)\n"
     ]
    }
   ],
   "source": [
    "X_train[\"築年数_月\"].iloc[20427] = temp_month"
   ]
  },
  {
   "cell_type": "code",
   "execution_count": 39,
   "metadata": {},
   "outputs": [
    {
     "data": {
      "text/html": [
       "<div>\n",
       "<style scoped>\n",
       "    .dataframe tbody tr th:only-of-type {\n",
       "        vertical-align: middle;\n",
       "    }\n",
       "\n",
       "    .dataframe tbody tr th {\n",
       "        vertical-align: top;\n",
       "    }\n",
       "\n",
       "    .dataframe thead th {\n",
       "        text-align: right;\n",
       "    }\n",
       "</style>\n",
       "<table border=\"1\" class=\"dataframe\">\n",
       "  <thead>\n",
       "    <tr style=\"text-align: right;\">\n",
       "      <th></th>\n",
       "      <th>面積</th>\n",
       "      <th>所在階</th>\n",
       "      <th>築年数_月</th>\n",
       "      <th>階建</th>\n",
       "      <th>納戸</th>\n",
       "      <th>間取り_D</th>\n",
       "      <th>間取り_K</th>\n",
       "      <th>間取り_L</th>\n",
       "      <th>間取り_R</th>\n",
       "      <th>間取り_S</th>\n",
       "      <th>...</th>\n",
       "      <th>アクセス_駅_2_高輪台駅</th>\n",
       "      <th>アクセス_駅_2_高野駅</th>\n",
       "      <th>アクセス_駅_2_鬼子母神前駅</th>\n",
       "      <th>アクセス_駅_2_鮫洲駅</th>\n",
       "      <th>アクセス_駅_2_鵜の木駅</th>\n",
       "      <th>アクセス_駅_2_鶯谷駅</th>\n",
       "      <th>アクセス_駅_2_鷺ノ宮駅</th>\n",
       "      <th>アクセス_駅_2_麹町駅</th>\n",
       "      <th>アクセス_駅_2_麻布十番駅</th>\n",
       "      <th>賃料</th>\n",
       "    </tr>\n",
       "  </thead>\n",
       "  <tbody>\n",
       "    <tr>\n",
       "      <th>20427</th>\n",
       "      <td>24.0</td>\n",
       "      <td>2</td>\n",
       "      <td>213.774834</td>\n",
       "      <td>2</td>\n",
       "      <td>False</td>\n",
       "      <td>True</td>\n",
       "      <td>True</td>\n",
       "      <td>False</td>\n",
       "      <td>False</td>\n",
       "      <td>False</td>\n",
       "      <td>...</td>\n",
       "      <td>0</td>\n",
       "      <td>0</td>\n",
       "      <td>0</td>\n",
       "      <td>0</td>\n",
       "      <td>0</td>\n",
       "      <td>0</td>\n",
       "      <td>0</td>\n",
       "      <td>0</td>\n",
       "      <td>0</td>\n",
       "      <td>82000</td>\n",
       "    </tr>\n",
       "  </tbody>\n",
       "</table>\n",
       "<p>1 rows × 1230 columns</p>\n",
       "</div>"
      ],
      "text/plain": [
       "         面積  所在階       築年数_月  階建     納戸  間取り_D  間取り_K  間取り_L  間取り_R  間取り_S  \\\n",
       "20427  24.0    2  213.774834   2  False   True   True  False  False  False   \n",
       "\n",
       "       ...  アクセス_駅_2_高輪台駅  アクセス_駅_2_高野駅  アクセス_駅_2_鬼子母神前駅  アクセス_駅_2_鮫洲駅  \\\n",
       "20427  ...              0             0                0             0   \n",
       "\n",
       "       アクセス_駅_2_鵜の木駅  アクセス_駅_2_鶯谷駅  アクセス_駅_2_鷺ノ宮駅  アクセス_駅_2_麹町駅  \\\n",
       "20427              0             0              0             0   \n",
       "\n",
       "       アクセス_駅_2_麻布十番駅     賃料  \n",
       "20427               0  82000  \n",
       "\n",
       "[1 rows x 1230 columns]"
      ]
     },
     "execution_count": 39,
     "metadata": {},
     "output_type": "execute_result"
    }
   ],
   "source": [
    "X_train[X_train[\"id\"]==20428]"
   ]
  },
  {
   "cell_type": "code",
   "execution_count": 40,
   "metadata": {},
   "outputs": [
    {
     "data": {
      "text/plain": [
       "Text(0.5, 0, '築年数_月')"
      ]
     },
     "execution_count": 40,
     "metadata": {},
     "output_type": "execute_result"
    },
    {
     "data": {
      "image/png": "[encoded data removed]",
      "text/plain": [
       "<Figure size 432x288 with 1 Axes>"
      ]
     },
     "metadata": {},
     "output_type": "display_data"
    }
   ],
   "source": [
    "X_train[\"築年数_月\"].plot.hist(title=\"築年数_月ヒストグラム\");\n",
    "plt.xlabel(\"築年数_月\")"
   ]
  },
  {
   "cell_type": "code",
   "execution_count": 41,
   "metadata": {},
   "outputs": [
    {
     "data": {
      "text/plain": [
       "count    31470.000000\n",
       "mean       193.765524\n",
       "std        164.798536\n",
       "min          0.000000\n",
       "25%         41.000000\n",
       "50%        161.000000\n",
       "75%        329.000000\n",
       "max       1433.000000\n",
       "Name: 築年数_月, dtype: float64"
      ]
     },
     "execution_count": 41,
     "metadata": {},
     "output_type": "execute_result"
    }
   ],
   "source": [
    "X_train[\"築年数_月\"].describe()"
   ]
  },
  {
   "cell_type": "code",
   "execution_count": 42,
   "metadata": {},
   "outputs": [
    {
     "data": {
      "text/plain": [
       "array(['面積', '所在階', '建物構造', '築年数_月', '階建', '納戸', '間取り_D', '間取り_K',\n",
       "       '間取り_L', '間取り_R', '間取り_S', '間取り_数', '方角_南', '方角_東', '方角_西', '方角_北',\n",
       "       '契約期間_月', '所在地_区', 'アクセス_線_1', 'アクセス_駅_1', 'アクセス_駅_1_徒歩_分',\n",
       "       'アクセス_線_2', 'アクセス_駅_2', 'アクセス_駅_2_徒歩_分', 'シャワー', 'トイレなし', 'バスなし',\n",
       "       'バス・トイレ別', '共同トイレ', '共同バス', '専用トイレ', '専用バス', '洗面台独立', '浴室乾燥機',\n",
       "       '温水洗浄便座', '脱衣所', '追焚機能', 'IHコンロ', 'L字キッチン', 'カウンターキッチン', 'ガスコンロ',\n",
       "       'コンロ1口', 'コンロ2口', 'コンロ3口', 'コンロ4口以上', 'コンロ設置可(コンロ1口)',\n",
       "       'コンロ設置可(コンロ2口)', 'コンロ設置可(コンロ3口)', 'コンロ設置可(コンロ4口以上)',\n",
       "       'コンロ設置可(口数不明)', 'システムキッチン', '冷蔵庫あり', '独立キッチン', '給湯', '電気コンロ',\n",
       "       'BSアンテナ', 'CATV', 'CSアンテナ', 'インターネット使用料無料', 'インターネット対応', '光ファイバー',\n",
       "       '有線放送', '高速インターネット', '24時間換気システム', '2面採光', '3面採光', 'ウォークインクローゼット',\n",
       "       'エアコン付', 'エレベーター', 'オール電化', 'ガスその他', 'ガス暖房', 'クッションフロア',\n",
       "       'シューズボックス', 'タイル張り', 'トランクルーム', 'バリアフリー', 'バルコニー', 'フローリング',\n",
       "       'プロパンガス', 'ペアガラス', 'ルーフバルコニー', 'ロフト付き', '下水', '二世帯住宅', '二重サッシ',\n",
       "       '井戸', '公営水道', '冷房', '出窓', '地下室', '室内洗濯機置場', '室外洗濯機置場', '専用庭',\n",
       "       '床下収納', '床暖房', '排水その他', '敷地内ごみ置き場', '水道その他', '汲み取り', '洗濯機置場なし',\n",
       "       '浄化槽', '石油暖房', '都市ガス', '防音室', '駐輪場', 'バイク置き場', '駐車場_1', '空有', '無',\n",
       "       '近隣', '空無', '【スーパー】', '【コンビニ】', '【飲食店】', '【ドラッグストア】', '【病院】',\n",
       "       '【公園】', '【郵便局】', '【小学校】', '【大学】', '【総合病院】', '【幼稚園・保育園】', '【学校】',\n",
       "       '【銀行】', '【図書館】', '【デパート】', '【レンタルビデオ】', '【クリーニング】', '【コインパーキング】',\n",
       "       '【月極駐車場】', '緯度', '経度', '地価5年平均', 'id', '賃料'], dtype=object)"
      ]
     },
     "execution_count": 42,
     "metadata": {},
     "output_type": "execute_result"
    }
   ],
   "source": [
    "orig_columns"
   ]
  },
  {
   "cell_type": "markdown",
   "metadata": {},
   "source": [
    "# 階建"
   ]
  },
  {
   "cell_type": "code",
   "execution_count": 43,
   "metadata": {},
   "outputs": [
    {
     "data": {
      "text/plain": [
       "count    31470.000000\n",
       "mean         6.874960\n",
       "std          6.542603\n",
       "min          1.000000\n",
       "25%          3.000000\n",
       "50%          5.000000\n",
       "75%         10.000000\n",
       "max         58.000000\n",
       "Name: 階建, dtype: float64"
      ]
     },
     "execution_count": 43,
     "metadata": {},
     "output_type": "execute_result"
    }
   ],
   "source": [
    "X_train[\"階建\"].describe()"
   ]
  },
  {
   "cell_type": "code",
   "execution_count": 44,
   "metadata": {},
   "outputs": [
    {
     "data": {
      "image/png": "[encoded data removed]",
      "text/plain": [
       "<Figure size 432x288 with 1 Axes>"
      ]
     },
     "metadata": {},
     "output_type": "display_data"
    }
   ],
   "source": [
    "X_train[\"階建\"].plot.hist();"
   ]
  },
  {
   "cell_type": "markdown",
   "metadata": {},
   "source": [
    "# 所在階_地下"
   ]
  },
  {
   "cell_type": "code",
   "execution_count": 45,
   "metadata": {},
   "outputs": [],
   "source": [
    "# X_train[\"所在階_地下\"].describe()"
   ]
  },
  {
   "cell_type": "code",
   "execution_count": 46,
   "metadata": {},
   "outputs": [],
   "source": [
    "# X_train[\"所在階_地下\"].plot.hist();"
   ]
  },
  {
   "cell_type": "code",
   "execution_count": 47,
   "metadata": {},
   "outputs": [
    {
     "data": {
      "text/plain": [
       "array(['面積', '所在階', '建物構造', '築年数_月', '階建', '納戸', '間取り_D', '間取り_K',\n",
       "       '間取り_L', '間取り_R', '間取り_S', '間取り_数', '方角_南', '方角_東', '方角_西', '方角_北',\n",
       "       '契約期間_月', '所在地_区', 'アクセス_線_1', 'アクセス_駅_1', 'アクセス_駅_1_徒歩_分',\n",
       "       'アクセス_線_2', 'アクセス_駅_2', 'アクセス_駅_2_徒歩_分', 'シャワー', 'トイレなし', 'バスなし',\n",
       "       'バス・トイレ別', '共同トイレ', '共同バス', '専用トイレ', '専用バス', '洗面台独立', '浴室乾燥機',\n",
       "       '温水洗浄便座', '脱衣所', '追焚機能', 'IHコンロ', 'L字キッチン', 'カウンターキッチン', 'ガスコンロ',\n",
       "       'コンロ1口', 'コンロ2口', 'コンロ3口', 'コンロ4口以上', 'コンロ設置可(コンロ1口)',\n",
       "       'コンロ設置可(コンロ2口)', 'コンロ設置可(コンロ3口)', 'コンロ設置可(コンロ4口以上)',\n",
       "       'コンロ設置可(口数不明)', 'システムキッチン', '冷蔵庫あり', '独立キッチン', '給湯', '電気コンロ',\n",
       "       'BSアンテナ', 'CATV', 'CSアンテナ', 'インターネット使用料無料', 'インターネット対応', '光ファイバー',\n",
       "       '有線放送', '高速インターネット', '24時間換気システム', '2面採光', '3面採光', 'ウォークインクローゼット',\n",
       "       'エアコン付', 'エレベーター', 'オール電化', 'ガスその他', 'ガス暖房', 'クッションフロア',\n",
       "       'シューズボックス', 'タイル張り', 'トランクルーム', 'バリアフリー', 'バルコニー', 'フローリング',\n",
       "       'プロパンガス', 'ペアガラス', 'ルーフバルコニー', 'ロフト付き', '下水', '二世帯住宅', '二重サッシ',\n",
       "       '井戸', '公営水道', '冷房', '出窓', '地下室', '室内洗濯機置場', '室外洗濯機置場', '専用庭',\n",
       "       '床下収納', '床暖房', '排水その他', '敷地内ごみ置き場', '水道その他', '汲み取り', '洗濯機置場なし',\n",
       "       '浄化槽', '石油暖房', '都市ガス', '防音室', '駐輪場', 'バイク置き場', '駐車場_1', '空有', '無',\n",
       "       '近隣', '空無', '【スーパー】', '【コンビニ】', '【飲食店】', '【ドラッグストア】', '【病院】',\n",
       "       '【公園】', '【郵便局】', '【小学校】', '【大学】', '【総合病院】', '【幼稚園・保育園】', '【学校】',\n",
       "       '【銀行】', '【図書館】', '【デパート】', '【レンタルビデオ】', '【クリーニング】', '【コインパーキング】',\n",
       "       '【月極駐車場】', '緯度', '経度', '地価5年平均', 'id', '賃料'], dtype=object)"
      ]
     },
     "execution_count": 47,
     "metadata": {},
     "output_type": "execute_result"
    }
   ],
   "source": [
    "orig_columns"
   ]
  },
  {
   "cell_type": "markdown",
   "metadata": {},
   "source": [
    "# 階建_地下"
   ]
  },
  {
   "cell_type": "code",
   "execution_count": 48,
   "metadata": {},
   "outputs": [],
   "source": [
    "# X_train[\"階建_地下\"].describe()"
   ]
  },
  {
   "cell_type": "code",
   "execution_count": 49,
   "metadata": {},
   "outputs": [],
   "source": [
    "# X_train[\"階建_地下\"].plot.hist();"
   ]
  },
  {
   "cell_type": "code",
   "execution_count": 50,
   "metadata": {},
   "outputs": [
    {
     "data": {
      "text/plain": [
       "array(['面積', '所在階', '建物構造', '築年数_月', '階建', '納戸', '間取り_D', '間取り_K',\n",
       "       '間取り_L', '間取り_R', '間取り_S', '間取り_数', '方角_南', '方角_東', '方角_西', '方角_北',\n",
       "       '契約期間_月', '所在地_区', 'アクセス_線_1', 'アクセス_駅_1', 'アクセス_駅_1_徒歩_分',\n",
       "       'アクセス_線_2', 'アクセス_駅_2', 'アクセス_駅_2_徒歩_分', 'シャワー', 'トイレなし', 'バスなし',\n",
       "       'バス・トイレ別', '共同トイレ', '共同バス', '専用トイレ', '専用バス', '洗面台独立', '浴室乾燥機',\n",
       "       '温水洗浄便座', '脱衣所', '追焚機能', 'IHコンロ', 'L字キッチン', 'カウンターキッチン', 'ガスコンロ',\n",
       "       'コンロ1口', 'コンロ2口', 'コンロ3口', 'コンロ4口以上', 'コンロ設置可(コンロ1口)',\n",
       "       'コンロ設置可(コンロ2口)', 'コンロ設置可(コンロ3口)', 'コンロ設置可(コンロ4口以上)',\n",
       "       'コンロ設置可(口数不明)', 'システムキッチン', '冷蔵庫あり', '独立キッチン', '給湯', '電気コンロ',\n",
       "       'BSアンテナ', 'CATV', 'CSアンテナ', 'インターネット使用料無料', 'インターネット対応', '光ファイバー',\n",
       "       '有線放送', '高速インターネット', '24時間換気システム', '2面採光', '3面採光', 'ウォークインクローゼット',\n",
       "       'エアコン付', 'エレベーター', 'オール電化', 'ガスその他', 'ガス暖房', 'クッションフロア',\n",
       "       'シューズボックス', 'タイル張り', 'トランクルーム', 'バリアフリー', 'バルコニー', 'フローリング',\n",
       "       'プロパンガス', 'ペアガラス', 'ルーフバルコニー', 'ロフト付き', '下水', '二世帯住宅', '二重サッシ',\n",
       "       '井戸', '公営水道', '冷房', '出窓', '地下室', '室内洗濯機置場', '室外洗濯機置場', '専用庭',\n",
       "       '床下収納', '床暖房', '排水その他', '敷地内ごみ置き場', '水道その他', '汲み取り', '洗濯機置場なし',\n",
       "       '浄化槽', '石油暖房', '都市ガス', '防音室', '駐輪場', 'バイク置き場', '駐車場_1', '空有', '無',\n",
       "       '近隣', '空無', '【スーパー】', '【コンビニ】', '【飲食店】', '【ドラッグストア】', '【病院】',\n",
       "       '【公園】', '【郵便局】', '【小学校】', '【大学】', '【総合病院】', '【幼稚園・保育園】', '【学校】',\n",
       "       '【銀行】', '【図書館】', '【デパート】', '【レンタルビデオ】', '【クリーニング】', '【コインパーキング】',\n",
       "       '【月極駐車場】', '緯度', '経度', '地価5年平均', 'id', '賃料'], dtype=object)"
      ]
     },
     "execution_count": 50,
     "metadata": {},
     "output_type": "execute_result"
    }
   ],
   "source": [
    "orig_columns"
   ]
  },
  {
   "cell_type": "code",
   "execution_count": 51,
   "metadata": {},
   "outputs": [
    {
     "data": {
      "text/html": [
       "<div>\n",
       "<style scoped>\n",
       "    .dataframe tbody tr th:only-of-type {\n",
       "        vertical-align: middle;\n",
       "    }\n",
       "\n",
       "    .dataframe tbody tr th {\n",
       "        vertical-align: top;\n",
       "    }\n",
       "\n",
       "    .dataframe thead th {\n",
       "        text-align: right;\n",
       "    }\n",
       "</style>\n",
       "<table border=\"1\" class=\"dataframe\">\n",
       "  <thead>\n",
       "    <tr style=\"text-align: right;\">\n",
       "      <th></th>\n",
       "      <th>所在階</th>\n",
       "      <th>階建</th>\n",
       "      <th>間取り_数</th>\n",
       "      <th>契約期間_月</th>\n",
       "      <th>id</th>\n",
       "      <th>賃料</th>\n",
       "    </tr>\n",
       "  </thead>\n",
       "  <tbody>\n",
       "    <tr>\n",
       "      <th>0</th>\n",
       "      <td>1</td>\n",
       "      <td>12</td>\n",
       "      <td>1</td>\n",
       "      <td>24</td>\n",
       "      <td>1</td>\n",
       "      <td>75000</td>\n",
       "    </tr>\n",
       "    <tr>\n",
       "      <th>1</th>\n",
       "      <td>5</td>\n",
       "      <td>10</td>\n",
       "      <td>1</td>\n",
       "      <td>24</td>\n",
       "      <td>2</td>\n",
       "      <td>76000</td>\n",
       "    </tr>\n",
       "    <tr>\n",
       "      <th>2</th>\n",
       "      <td>12</td>\n",
       "      <td>15</td>\n",
       "      <td>1</td>\n",
       "      <td>24</td>\n",
       "      <td>3</td>\n",
       "      <td>110000</td>\n",
       "    </tr>\n",
       "  </tbody>\n",
       "</table>\n",
       "</div>"
      ],
      "text/plain": [
       "   所在階  階建  間取り_数  契約期間_月  id      賃料\n",
       "0    1  12      1      24   1   75000\n",
       "1    5  10      1      24   2   76000\n",
       "2   12  15      1      24   3  110000"
      ]
     },
     "execution_count": 51,
     "metadata": {},
     "output_type": "execute_result"
    }
   ],
   "source": [
    "X_train.select_dtypes(int).head(3)"
   ]
  },
  {
   "cell_type": "markdown",
   "metadata": {},
   "source": [
    "# 契約期間_月"
   ]
  },
  {
   "cell_type": "code",
   "execution_count": 52,
   "metadata": {},
   "outputs": [
    {
     "data": {
      "text/plain": [
       "count    31470.000000\n",
       "mean        18.998951\n",
       "std         11.294541\n",
       "min          0.000000\n",
       "25%         24.000000\n",
       "50%         24.000000\n",
       "75%         24.000000\n",
       "max        264.000000\n",
       "Name: 契約期間_月, dtype: float64"
      ]
     },
     "execution_count": 52,
     "metadata": {},
     "output_type": "execute_result"
    }
   ],
   "source": [
    "X_train[\"契約期間_月\"].describe()"
   ]
  },
  {
   "cell_type": "code",
   "execution_count": 53,
   "metadata": {},
   "outputs": [
    {
     "data": {
      "text/html": [
       "<div>\n",
       "<style scoped>\n",
       "    .dataframe tbody tr th:only-of-type {\n",
       "        vertical-align: middle;\n",
       "    }\n",
       "\n",
       "    .dataframe tbody tr th {\n",
       "        vertical-align: top;\n",
       "    }\n",
       "\n",
       "    .dataframe thead th {\n",
       "        text-align: right;\n",
       "    }\n",
       "</style>\n",
       "<table border=\"1\" class=\"dataframe\">\n",
       "  <thead>\n",
       "    <tr style=\"text-align: right;\">\n",
       "      <th></th>\n",
       "      <th>id</th>\n",
       "      <th>賃料</th>\n",
       "      <th>所在地</th>\n",
       "      <th>アクセス</th>\n",
       "      <th>間取り</th>\n",
       "      <th>築年数</th>\n",
       "      <th>方角</th>\n",
       "      <th>面積</th>\n",
       "      <th>所在階</th>\n",
       "      <th>バス・トイレ</th>\n",
       "      <th>キッチン</th>\n",
       "      <th>放送・通信</th>\n",
       "      <th>室内設備</th>\n",
       "      <th>駐車場</th>\n",
       "      <th>周辺環境</th>\n",
       "      <th>建物構造</th>\n",
       "      <th>契約期間</th>\n",
       "    </tr>\n",
       "  </thead>\n",
       "  <tbody>\n",
       "    <tr>\n",
       "      <th>1612</th>\n",
       "      <td>1613</td>\n",
       "      <td>77000</td>\n",
       "      <td>東京都荒川区荒川５丁目</td>\n",
       "      <td>京成本線\\t新三河島駅\\t徒歩3分\\t\\t日暮里・舎人ライナー\\t赤土小学校前駅\\t徒歩11...</td>\n",
       "      <td>1K</td>\n",
       "      <td>0年4ヶ月</td>\n",
       "      <td>南東</td>\n",
       "      <td>19.11m2</td>\n",
       "      <td>2階／3階建</td>\n",
       "      <td>専用バス／\\t専用トイレ／\\tバス・トイレ別／\\tシャワー／\\t追焚機能／\\t温水洗浄便座</td>\n",
       "      <td>IHコンロ\\t／\\tコンロ1口／\\t給湯</td>\n",
       "      <td>NaN</td>\n",
       "      <td>シューズボックス／\\tバルコニー／\\tフローリング／\\t2面採光／\\t室内洗濯機置場／\\tタ...</td>\n",
       "      <td>駐車場\\t近隣\\t21,600円(税込)\\t距離200m\\t駐輪場\\t無\\tバイク置き場\\t無</td>\n",
       "      <td>【スーパー】 165m\\t【スーパー】 570m\\t【コンビニ】 166m\\t【コンビニ】 ...</td>\n",
       "      <td>木造</td>\n",
       "      <td>22年間</td>\n",
       "    </tr>\n",
       "    <tr>\n",
       "      <th>20554</th>\n",
       "      <td>20555</td>\n",
       "      <td>219000</td>\n",
       "      <td>東京都足立区千住寿町</td>\n",
       "      <td>日比谷線\\t北千住駅\\t徒歩10分\\t\\t千代田線\\t北千住駅\\t徒歩10分\\t\\t京成本線...</td>\n",
       "      <td>3LDK</td>\n",
       "      <td>17年3ヶ月</td>\n",
       "      <td>南</td>\n",
       "      <td>80.28m2</td>\n",
       "      <td>2階／7階建</td>\n",
       "      <td>専用バス／\\t専用トイレ／\\tバス・トイレ別／\\tシャワー／\\t追焚機能／\\t浴室乾燥機\\t...</td>\n",
       "      <td>ガスコンロ／\\tコンロ3口／\\tシステムキッチン\\t／\\t給湯／\\t独立キッチン</td>\n",
       "      <td>インターネット対応</td>\n",
       "      <td>エアコン付\\tウォークインクローゼット\\tシューズボックス／\\tバルコニー／\\tフローリング...</td>\n",
       "      <td>駐車場\\t空有\\t10,800円(税込)\\t駐輪場\\t無\\tバイク置き場\\t無</td>\n",
       "      <td>【スーパー】 541m\\t【スーパー】 974m\\t【コンビニ】 151m\\t【コンビニ】 ...</td>\n",
       "      <td>RC（鉄筋コンクリート）</td>\n",
       "      <td>22年間</td>\n",
       "    </tr>\n",
       "  </tbody>\n",
       "</table>\n",
       "</div>"
      ],
      "text/plain": [
       "          id      賃料          所在地  \\\n",
       "1612    1613   77000  東京都荒川区荒川５丁目   \n",
       "20554  20555  219000   東京都足立区千住寿町   \n",
       "\n",
       "                                                    アクセス   間取り     築年数  方角  \\\n",
       "1612   京成本線\\t新三河島駅\\t徒歩3分\\t\\t日暮里・舎人ライナー\\t赤土小学校前駅\\t徒歩11...    1K   0年4ヶ月  南東   \n",
       "20554  日比谷線\\t北千住駅\\t徒歩10分\\t\\t千代田線\\t北千住駅\\t徒歩10分\\t\\t京成本線...  3LDK  17年3ヶ月   南   \n",
       "\n",
       "            面積     所在階                                             バス・トイレ  \\\n",
       "1612   19.11m2  2階／3階建      専用バス／\\t専用トイレ／\\tバス・トイレ別／\\tシャワー／\\t追焚機能／\\t温水洗浄便座   \n",
       "20554  80.28m2  2階／7階建  専用バス／\\t専用トイレ／\\tバス・トイレ別／\\tシャワー／\\t追焚機能／\\t浴室乾燥機\\t...   \n",
       "\n",
       "                                           キッチン      放送・通信  \\\n",
       "1612                       IHコンロ\\t／\\tコンロ1口／\\t給湯        NaN   \n",
       "20554  ガスコンロ／\\tコンロ3口／\\tシステムキッチン\\t／\\t給湯／\\t独立キッチン  インターネット対応   \n",
       "\n",
       "                                                    室内設備  \\\n",
       "1612   シューズボックス／\\tバルコニー／\\tフローリング／\\t2面採光／\\t室内洗濯機置場／\\tタ...   \n",
       "20554  エアコン付\\tウォークインクローゼット\\tシューズボックス／\\tバルコニー／\\tフローリング...   \n",
       "\n",
       "                                                   駐車場  \\\n",
       "1612   駐車場\\t近隣\\t21,600円(税込)\\t距離200m\\t駐輪場\\t無\\tバイク置き場\\t無   \n",
       "20554          駐車場\\t空有\\t10,800円(税込)\\t駐輪場\\t無\\tバイク置き場\\t無   \n",
       "\n",
       "                                                    周辺環境          建物構造  契約期間  \n",
       "1612   【スーパー】 165m\\t【スーパー】 570m\\t【コンビニ】 166m\\t【コンビニ】 ...            木造  22年間  \n",
       "20554  【スーパー】 541m\\t【スーパー】 974m\\t【コンビニ】 151m\\t【コンビニ】 ...  RC（鉄筋コンクリート）  22年間  "
      ]
     },
     "execution_count": 53,
     "metadata": {},
     "output_type": "execute_result"
    }
   ],
   "source": [
    "train[X_train[\"契約期間_月\"]==264]"
   ]
  },
  {
   "cell_type": "code",
   "execution_count": 54,
   "metadata": {},
   "outputs": [
    {
     "data": {
      "text/html": [
       "<div>\n",
       "<style scoped>\n",
       "    .dataframe tbody tr th:only-of-type {\n",
       "        vertical-align: middle;\n",
       "    }\n",
       "\n",
       "    .dataframe tbody tr th {\n",
       "        vertical-align: top;\n",
       "    }\n",
       "\n",
       "    .dataframe thead th {\n",
       "        text-align: right;\n",
       "    }\n",
       "</style>\n",
       "<table border=\"1\" class=\"dataframe\">\n",
       "  <thead>\n",
       "    <tr style=\"text-align: right;\">\n",
       "      <th></th>\n",
       "      <th>面積</th>\n",
       "      <th>築年数_月</th>\n",
       "      <th>アクセス_駅_1_徒歩_分</th>\n",
       "      <th>アクセス_駅_2_徒歩_分</th>\n",
       "      <th>緯度</th>\n",
       "      <th>経度</th>\n",
       "      <th>地価5年平均</th>\n",
       "    </tr>\n",
       "  </thead>\n",
       "  <tbody>\n",
       "    <tr>\n",
       "      <th>0</th>\n",
       "      <td>20.01</td>\n",
       "      <td>117.0</td>\n",
       "      <td>4.0</td>\n",
       "      <td>14.0</td>\n",
       "      <td>35.748456</td>\n",
       "      <td>139.728800</td>\n",
       "      <td>483000.0</td>\n",
       "    </tr>\n",
       "    <tr>\n",
       "      <th>1</th>\n",
       "      <td>16.50</td>\n",
       "      <td>538.0</td>\n",
       "      <td>5.0</td>\n",
       "      <td>9.0</td>\n",
       "      <td>35.662885</td>\n",
       "      <td>139.778627</td>\n",
       "      <td>853200.0</td>\n",
       "    </tr>\n",
       "    <tr>\n",
       "      <th>2</th>\n",
       "      <td>22.05</td>\n",
       "      <td>102.0</td>\n",
       "      <td>6.0</td>\n",
       "      <td>7.0</td>\n",
       "      <td>35.675153</td>\n",
       "      <td>139.666255</td>\n",
       "      <td>730400.0</td>\n",
       "    </tr>\n",
       "  </tbody>\n",
       "</table>\n",
       "</div>"
      ],
      "text/plain": [
       "      面積  築年数_月  アクセス_駅_1_徒歩_分  アクセス_駅_2_徒歩_分         緯度          経度    地価5年平均\n",
       "0  20.01  117.0            4.0           14.0  35.748456  139.728800  483000.0\n",
       "1  16.50  538.0            5.0            9.0  35.662885  139.778627  853200.0\n",
       "2  22.05  102.0            6.0            7.0  35.675153  139.666255  730400.0"
      ]
     },
     "execution_count": 54,
     "metadata": {},
     "output_type": "execute_result"
    }
   ],
   "source": [
    "X_train.select_dtypes(float).head(3)"
   ]
  },
  {
   "cell_type": "code",
   "execution_count": 55,
   "metadata": {},
   "outputs": [],
   "source": [
    "inspect_items = X_train.select_dtypes(float).head(3).columns[5:13].values"
   ]
  },
  {
   "cell_type": "code",
   "execution_count": 56,
   "metadata": {},
   "outputs": [
    {
     "name": "stdout",
     "output_type": "stream",
     "text": [
      "count    31470.000000\n",
      "mean       139.730178\n",
      "std          0.075046\n",
      "min        139.565946\n",
      "25%        139.673910\n",
      "50%        139.723692\n",
      "75%        139.786197\n",
      "max        139.915548\n",
      "Name: 経度, dtype: float64\n",
      "\n",
      "count    3.147000e+04\n",
      "mean     6.085206e+05\n",
      "std      3.227851e+05\n",
      "min      2.060000e+05\n",
      "25%      4.060000e+05\n",
      "50%      5.226000e+05\n",
      "75%      7.020000e+05\n",
      "max      2.708000e+06\n",
      "Name: 地価5年平均, dtype: float64\n",
      "\n"
     ]
    }
   ],
   "source": [
    "for item in inspect_items:\n",
    "    print(X_train[item].describe())\n",
    "    print()"
   ]
  },
  {
   "cell_type": "code",
   "execution_count": 57,
   "metadata": {},
   "outputs": [
    {
     "data": {
      "text/html": [
       "<div>\n",
       "<style scoped>\n",
       "    .dataframe tbody tr th:only-of-type {\n",
       "        vertical-align: middle;\n",
       "    }\n",
       "\n",
       "    .dataframe tbody tr th {\n",
       "        vertical-align: top;\n",
       "    }\n",
       "\n",
       "    .dataframe thead th {\n",
       "        text-align: right;\n",
       "    }\n",
       "</style>\n",
       "<table border=\"1\" class=\"dataframe\">\n",
       "  <thead>\n",
       "    <tr style=\"text-align: right;\">\n",
       "      <th></th>\n",
       "      <th>id</th>\n",
       "      <th>賃料</th>\n",
       "      <th>所在地</th>\n",
       "      <th>アクセス</th>\n",
       "      <th>間取り</th>\n",
       "      <th>築年数</th>\n",
       "      <th>方角</th>\n",
       "      <th>面積</th>\n",
       "      <th>所在階</th>\n",
       "      <th>バス・トイレ</th>\n",
       "      <th>キッチン</th>\n",
       "      <th>放送・通信</th>\n",
       "      <th>室内設備</th>\n",
       "      <th>駐車場</th>\n",
       "      <th>周辺環境</th>\n",
       "      <th>建物構造</th>\n",
       "      <th>契約期間</th>\n",
       "    </tr>\n",
       "  </thead>\n",
       "  <tbody>\n",
       "    <tr>\n",
       "      <th>10876</th>\n",
       "      <td>10877</td>\n",
       "      <td>137000</td>\n",
       "      <td>東京都大田区山王４丁目</td>\n",
       "      <td>京浜東北線\\t大森(東京都)駅\\t徒歩10分\\t\\t京王線\\t笹塚駅\\t徒歩156分\\t\\t...</td>\n",
       "      <td>1LDK</td>\n",
       "      <td>0年5ヶ月</td>\n",
       "      <td>NaN</td>\n",
       "      <td>37m2</td>\n",
       "      <td>3階／3階建</td>\n",
       "      <td>専用バス／\\t専用トイレ／\\tバス・トイレ別／\\tシャワー／\\t追焚機能／\\t温水洗浄便座／...</td>\n",
       "      <td>IHコンロ\\t／\\tコンロ3口／\\tシステムキッチン\\t／\\t給湯</td>\n",
       "      <td>NaN</td>\n",
       "      <td>エアコン付\\tシューズボックス／\\tロフト付き／\\tバルコニー／\\tフローリング／\\t3面採...</td>\n",
       "      <td>駐車場\\t無\\t駐輪場\\t無\\tバイク置き場\\t無</td>\n",
       "      <td>【スーパー】 708m\\t【コンビニ】 242m\\t【コンビニ】 462m</td>\n",
       "      <td>木造</td>\n",
       "      <td>2年間</td>\n",
       "    </tr>\n",
       "    <tr>\n",
       "      <th>20674</th>\n",
       "      <td>20675</td>\n",
       "      <td>125000</td>\n",
       "      <td>東京都大田区山王４丁目</td>\n",
       "      <td>京浜東北線\\t大森(東京都)駅\\t徒歩10分\\t\\t京王線\\t笹塚駅\\t徒歩156分\\t\\t...</td>\n",
       "      <td>1LDK</td>\n",
       "      <td>0年5ヶ月</td>\n",
       "      <td>NaN</td>\n",
       "      <td>35m2</td>\n",
       "      <td>1階／3階建</td>\n",
       "      <td>専用バス／\\t専用トイレ／\\tバス・トイレ別／\\tシャワー／\\t追焚機能／\\t温水洗浄便座／...</td>\n",
       "      <td>IHコンロ\\t／\\tコンロ3口／\\tシステムキッチン\\t／\\t給湯</td>\n",
       "      <td>NaN</td>\n",
       "      <td>エアコン付\\tバルコニー／\\tフローリング／\\t2面採光／\\t室内洗濯機置場\\t公営水道／\\...</td>\n",
       "      <td>駐車場\\t無\\t駐輪場\\t無\\tバイク置き場\\t無</td>\n",
       "      <td>【スーパー】 708m\\t【コンビニ】 242m\\t【コンビニ】 462m</td>\n",
       "      <td>木造</td>\n",
       "      <td>2年間</td>\n",
       "    </tr>\n",
       "  </tbody>\n",
       "</table>\n",
       "</div>"
      ],
      "text/plain": [
       "          id      賃料          所在地  \\\n",
       "10876  10877  137000  東京都大田区山王４丁目   \n",
       "20674  20675  125000  東京都大田区山王４丁目   \n",
       "\n",
       "                                                    アクセス   間取り    築年数   方角  \\\n",
       "10876  京浜東北線\\t大森(東京都)駅\\t徒歩10分\\t\\t京王線\\t笹塚駅\\t徒歩156分\\t\\t...  1LDK  0年5ヶ月  NaN   \n",
       "20674  京浜東北線\\t大森(東京都)駅\\t徒歩10分\\t\\t京王線\\t笹塚駅\\t徒歩156分\\t\\t...  1LDK  0年5ヶ月  NaN   \n",
       "\n",
       "         面積     所在階                                             バス・トイレ  \\\n",
       "10876  37m2  3階／3階建  専用バス／\\t専用トイレ／\\tバス・トイレ別／\\tシャワー／\\t追焚機能／\\t温水洗浄便座／...   \n",
       "20674  35m2  1階／3階建  専用バス／\\t専用トイレ／\\tバス・トイレ別／\\tシャワー／\\t追焚機能／\\t温水洗浄便座／...   \n",
       "\n",
       "                                    キッチン 放送・通信  \\\n",
       "10876  IHコンロ\\t／\\tコンロ3口／\\tシステムキッチン\\t／\\t給湯   NaN   \n",
       "20674  IHコンロ\\t／\\tコンロ3口／\\tシステムキッチン\\t／\\t給湯   NaN   \n",
       "\n",
       "                                                    室内設備  \\\n",
       "10876  エアコン付\\tシューズボックス／\\tロフト付き／\\tバルコニー／\\tフローリング／\\t3面採...   \n",
       "20674  エアコン付\\tバルコニー／\\tフローリング／\\t2面採光／\\t室内洗濯機置場\\t公営水道／\\...   \n",
       "\n",
       "                             駐車場                                   周辺環境 建物構造  \\\n",
       "10876  駐車場\\t無\\t駐輪場\\t無\\tバイク置き場\\t無  【スーパー】 708m\\t【コンビニ】 242m\\t【コンビニ】 462m   木造   \n",
       "20674  駐車場\\t無\\t駐輪場\\t無\\tバイク置き場\\t無  【スーパー】 708m\\t【コンビニ】 242m\\t【コンビニ】 462m   木造   \n",
       "\n",
       "      契約期間  \n",
       "10876  2年間  \n",
       "20674  2年間  "
      ]
     },
     "execution_count": 57,
     "metadata": {},
     "output_type": "execute_result"
    }
   ],
   "source": [
    "train[X_train[\"アクセス_駅_2_徒歩_分\"] == 156.0]"
   ]
  },
  {
   "cell_type": "markdown",
   "metadata": {},
   "source": [
    "# Correlations"
   ]
  },
  {
   "cell_type": "code",
   "execution_count": 58,
   "metadata": {},
   "outputs": [],
   "source": [
    "# correlations = X_train.corr()[\"賃料\"].sort_values()"
   ]
  },
  {
   "cell_type": "code",
   "execution_count": 59,
   "metadata": {},
   "outputs": [],
   "source": [
    "# print('Most Positive Correlations:\\n', correlations.tail(15))\n",
    "# print('\\nMost Negative Correlations:\\n', correlations.head(15))"
   ]
  },
  {
   "cell_type": "code",
   "execution_count": 60,
   "metadata": {
    "scrolled": true
   },
   "outputs": [],
   "source": [
    "# X_train[\"契約期間_定期借家\"].unique()"
   ]
  },
  {
   "cell_type": "code",
   "execution_count": 61,
   "metadata": {},
   "outputs": [],
   "source": [
    "# X_test[\"契約期間_定期借家\"].unique()"
   ]
  },
  {
   "cell_type": "code",
   "execution_count": 62,
   "metadata": {
    "scrolled": true
   },
   "outputs": [],
   "source": [
    "# X_train[\"アクセス_駅_1_車_分\"].unique()"
   ]
  },
  {
   "cell_type": "code",
   "execution_count": 63,
   "metadata": {},
   "outputs": [],
   "source": [
    "# X_test[\"アクセス_駅_1_車_分\"].unique()"
   ]
  },
  {
   "cell_type": "code",
   "execution_count": 64,
   "metadata": {},
   "outputs": [
    {
     "data": {
      "text/plain": [
       "array([False])"
      ]
     },
     "execution_count": 64,
     "metadata": {},
     "output_type": "execute_result"
    }
   ],
   "source": [
    "X_train[\"トイレなし\"].unique()"
   ]
  },
  {
   "cell_type": "code",
   "execution_count": 65,
   "metadata": {},
   "outputs": [
    {
     "data": {
      "text/plain": [
       "array([False,  True])"
      ]
     },
     "execution_count": 65,
     "metadata": {},
     "output_type": "execute_result"
    }
   ],
   "source": [
    "X_test[\"トイレなし\"].unique()"
   ]
  },
  {
   "cell_type": "markdown",
   "metadata": {},
   "source": [
    "## 面積"
   ]
  },
  {
   "cell_type": "code",
   "execution_count": 66,
   "metadata": {},
   "outputs": [
    {
     "data": {
      "image/png": "[encoded data removed]",
      "text/plain": [
       "<Figure size 432x288 with 1 Axes>"
      ]
     },
     "metadata": {},
     "output_type": "display_data"
    }
   ],
   "source": [
    "plt.hist(X_train[\"面積\"], bins=25);"
   ]
  },
  {
   "cell_type": "code",
   "execution_count": 67,
   "metadata": {
    "scrolled": true
   },
   "outputs": [
    {
     "data": {
      "image/png": "[encoded data removed]",
      "text/plain": [
       "<Figure size 432x288 with 1 Axes>"
      ]
     },
     "metadata": {},
     "output_type": "display_data"
    }
   ],
   "source": [
    "plt.hist(X_train[\"賃料\"], bins=25);"
   ]
  },
  {
   "cell_type": "code",
   "execution_count": 68,
   "metadata": {},
   "outputs": [
    {
     "data": {
      "text/plain": [
       "(array([2.600e+01, 4.600e+01, 2.330e+02, 1.005e+03, 2.341e+03, 4.048e+03,\n",
       "        4.869e+03, 5.421e+03, 4.801e+03, 3.188e+03, 2.221e+03, 1.416e+03,\n",
       "        9.030e+02, 4.720e+02, 2.220e+02, 1.020e+02, 6.800e+01, 3.100e+01,\n",
       "        2.500e+01, 1.600e+01, 6.000e+00, 6.000e+00, 2.000e+00, 1.000e+00,\n",
       "        1.000e+00]),\n",
       " array([10.1266311 , 10.31083791, 10.49504472, 10.67925153, 10.86345833,\n",
       "        11.04766514, 11.23187195, 11.41607876, 11.60028556, 11.78449237,\n",
       "        11.96869918, 12.15290599, 12.33711279, 12.5213196 , 12.70552641,\n",
       "        12.88973322, 13.07394002, 13.25814683, 13.44235364, 13.62656045,\n",
       "        13.81076725, 13.99497406, 14.17918087, 14.36338767, 14.54759448,\n",
       "        14.73180129]),\n",
       " <a list of 25 Patch objects>)"
      ]
     },
     "execution_count": 68,
     "metadata": {},
     "output_type": "execute_result"
    },
    {
     "data": {
      "image/png": "[encoded data removed]",
      "text/plain": [
       "<Figure size 432x288 with 1 Axes>"
      ]
     },
     "metadata": {},
     "output_type": "display_data"
    }
   ],
   "source": [
    "plt.hist(np.log(X_train[\"賃料\"]), bins=25)"
   ]
  },
  {
   "cell_type": "markdown",
   "metadata": {},
   "source": [
    "# Domain Knowledge Features"
   ]
  },
  {
   "cell_type": "code",
   "execution_count": 65,
   "metadata": {},
   "outputs": [],
   "source": [
    "# X_train_domain = X_train.copy()\n",
    "# X_test_domain = X_test.copy()"
   ]
  },
  {
   "cell_type": "code",
   "execution_count": 66,
   "metadata": {},
   "outputs": [],
   "source": [
    "# X_train[\"1m^2の賃料\"] = X_train[\"賃料\"] / X_train[\"面積\"]"
   ]
  },
  {
   "cell_type": "code",
   "execution_count": 67,
   "metadata": {},
   "outputs": [],
   "source": [
    "# plt.hist(X_train[\"1m^2の賃料\"], bins=25);"
   ]
  },
  {
   "cell_type": "code",
   "execution_count": 68,
   "metadata": {},
   "outputs": [],
   "source": [
    "# plt.hist(np.log(X_train[\"1m^2の賃料\"]), bins=25);"
   ]
  },
  {
   "cell_type": "code",
   "execution_count": 69,
   "metadata": {},
   "outputs": [],
   "source": [
    "# X_train_log = X_train.drop(columns=normal_columns)\n",
    "# X_test_log = X_test.drop(columns=normal_columns)\n",
    "# X_train = X_train.drop(columns=log_transform_columns)\n",
    "# X_test = X_test.drop(columns=log_transform_columns)"
   ]
  },
  {
   "cell_type": "code",
   "execution_count": 70,
   "metadata": {},
   "outputs": [
    {
     "name": "stdout",
     "output_type": "stream",
     "text": [
      "['面積' '所在階' '築年数_月' '階建' '納戸' '間取り_D' '間取り_K' '間取り_L' '間取り_R' '間取り_S'\n",
      " '間取り_数' '方角_南' '方角_東' '方角_西' '方角_北' '契約期間_月' 'アクセス_駅_1_徒歩_分'\n",
      " 'アクセス_駅_2_徒歩_分' 'シャワー' 'トイレなし' 'バスなし' 'バス・トイレ別' '共同トイレ' '共同バス' '専用トイレ'\n",
      " '専用バス' '洗面台独立' '浴室乾燥機' '温水洗浄便座' '脱衣所' '追焚機能' 'IHコンロ' 'L字キッチン' 'カウンターキッチン'\n",
      " 'ガスコンロ' 'コンロ1口' 'コンロ2口' 'コンロ3口' 'コンロ4口以上' 'コンロ設置可(コンロ1口)' 'コンロ設置可(コンロ2口)'\n",
      " 'コンロ設置可(コンロ3口)' 'コンロ設置可(コンロ4口以上)' 'コンロ設置可(口数不明)' 'システムキッチン' '冷蔵庫あり'\n",
      " '独立キッチン' '給湯' '電気コンロ' 'BSアンテナ' 'CATV' 'CSアンテナ' 'インターネット使用料無料' 'インターネット対応'\n",
      " '光ファイバー' '有線放送' '高速インターネット' '24時間換気システム' '2面採光' '3面採光' 'ウォークインクローゼット'\n",
      " 'エアコン付' 'エレベーター' 'オール電化' 'ガスその他' 'ガス暖房' 'クッションフロア' 'シューズボックス' 'タイル張り'\n",
      " 'トランクルーム' 'バリアフリー' 'バルコニー' 'フローリング' 'プロパンガス' 'ペアガラス' 'ルーフバルコニー' 'ロフト付き'\n",
      " '下水' '二世帯住宅' '二重サッシ' '井戸' '公営水道' '冷房' '出窓' '地下室' '室内洗濯機置場' '室外洗濯機置場'\n",
      " '専用庭' '床下収納' '床暖房' '排水その他' '敷地内ごみ置き場' '水道その他' '汲み取り' '洗濯機置場なし' '浄化槽'\n",
      " '石油暖房' '都市ガス' '防音室' '駐輪場' 'バイク置き場' '駐車場_1' '空有' '無' '近隣' '空無' '【スーパー】'\n",
      " '【コンビニ】' '【飲食店】' '【ドラッグストア】' '【病院】' '【公園】' '【郵便局】' '【小学校】' '【大学】'\n",
      " '【総合病院】' '【幼稚園・保育園】' '【学校】' '【銀行】' '【図書館】' '【デパート】' '【レンタルビデオ】'\n",
      " '【クリーニング】' '【コインパーキング】' '【月極駐車場】' '緯度' '経度' '地価5年平均' 'id'\n",
      " '建物構造_ALC(軽量気泡コンクリート)' '建物構造_HPC(プレキャスト・コンクリート(重量鉄骨))'\n",
      " '建物構造_PC(プレキャスト・コンクリート(鉄筋コンクリート))' '建物構造_RC(鉄筋コンクリート)'\n",
      " '建物構造_SRC(鉄骨鉄筋コンクリート)' '建物構造_その他' '建物構造_ブロック' '建物構造_木造' '建物構造_軽量鉄骨'\n",
      " '建物構造_鉄骨造' '所在地_区_世田谷' '所在地_区_中央' '所在地_区_中野' '所在地_区_北' '所在地_区_千代田'\n",
      " '所在地_区_台東' '所在地_区_品川' '所在地_区_墨田' '所在地_区_大田' '所在地_区_文京' '所在地_区_新宿'\n",
      " '所在地_区_杉並' '所在地_区_板橋' '所在地_区_江戸川' '所在地_区_江東' '所在地_区_渋谷' '所在地_区_港'\n",
      " '所在地_区_目黒' '所在地_区_練馬' '所在地_区_荒川' '所在地_区_葛飾' '所在地_区_豊島' '所在地_区_足立'\n",
      " 'アクセス_線_1_つくばエクスプレス線' 'アクセス_線_1_ゆりかもめ線' 'アクセス_線_1_りんかい線' 'アクセス_線_1_中央快速線'\n",
      " 'アクセス_線_1_丸ノ内中野坂上方南町線' 'アクセス_線_1_丸ノ内池袋荻窪線' 'アクセス_線_1_京急本線'\n",
      " 'アクセス_線_1_京急空港線' 'アクセス_線_1_京成押上線' 'アクセス_線_1_京成本線' 'アクセス_線_1_京成金町線'\n",
      " 'アクセス_線_1_京浜東北線' 'アクセス_線_1_京王井の頭線' 'アクセス_線_1_京王新線' 'アクセス_線_1_京王線'\n",
      " 'アクセス_線_1_京葉東京蘇我線' 'アクセス_線_1_副都心線' 'アクセス_線_1_北総線' 'アクセス_線_1_千代田線'\n",
      " 'アクセス_線_1_半蔵門線' 'アクセス_線_1_南北線' 'アクセス_線_1_埼京線' 'アクセス_線_1_小田急小田原線'\n",
      " 'アクセス_線_1_山手線' 'アクセス_線_1_常磐快速線' 'アクセス_線_1_常磐線' 'アクセス_線_1_日暮里舎人ライナー線'\n",
      " 'アクセス_線_1_日比谷線' 'アクセス_線_1_有楽町線' 'アクセス_線_1_東京モノレール羽田線' 'アクセス_線_1_東北本宇都宮線'\n",
      " 'アクセス_線_1_東急世田谷線' 'アクセス_線_1_東急多摩川線' 'アクセス_線_1_東急大井町線' 'アクセス_線_1_東急東横線'\n",
      " 'アクセス_線_1_東急池上線' 'アクセス_線_1_東急田園都市線' 'アクセス_線_1_東急目黒線']\n"
     ]
    }
   ],
   "source": [
    "print(X_train.columns.values[:200])"
   ]
  },
  {
   "cell_type": "code",
   "execution_count": 71,
   "metadata": {},
   "outputs": [
    {
     "name": "stdout",
     "output_type": "stream",
     "text": [
      "Training data shape:  (31470, 1230)\n",
      "Testing data shape:  (31262, 1229)\n"
     ]
    }
   ],
   "source": [
    "print('Training data shape: ', X_train.shape)\n",
    "print('Testing data shape: ', X_test.shape)"
   ]
  },
  {
   "cell_type": "code",
   "execution_count": 72,
   "metadata": {},
   "outputs": [],
   "source": [
    "# print('Training data shape: ', X_train_log.shape)\n",
    "# print('Testing data shape: ', X_test_log.shape)"
   ]
  },
  {
   "cell_type": "markdown",
   "metadata": {},
   "source": [
    "# Baseline 1"
   ]
  },
  {
   "cell_type": "code",
   "execution_count": 73,
   "metadata": {},
   "outputs": [],
   "source": [
    "y_train = X_train[\"賃料\"]\n",
    "X_train = X_train.drop(columns=[\"賃料\", \"id\"])"
   ]
  },
  {
   "cell_type": "code",
   "execution_count": 74,
   "metadata": {},
   "outputs": [],
   "source": [
    "X_test = X_test.drop(columns=\"id\")"
   ]
  },
  {
   "cell_type": "code",
   "execution_count": 75,
   "metadata": {},
   "outputs": [],
   "source": [
    "features = list(X_train.columns)"
   ]
  },
  {
   "cell_type": "code",
   "execution_count": 76,
   "metadata": {},
   "outputs": [
    {
     "data": {
      "text/plain": [
       "(31470, 1228)"
      ]
     },
     "execution_count": 76,
     "metadata": {},
     "output_type": "execute_result"
    }
   ],
   "source": [
    "X_train.shape"
   ]
  },
  {
   "cell_type": "code",
   "execution_count": 77,
   "metadata": {},
   "outputs": [
    {
     "data": {
      "text/plain": [
       "(31262, 1228)"
      ]
     },
     "execution_count": 77,
     "metadata": {},
     "output_type": "execute_result"
    }
   ],
   "source": [
    "X_test.shape"
   ]
  },
  {
   "cell_type": "markdown",
   "metadata": {},
   "source": [
    "## Imputing and Scaling"
   ]
  },
  {
   "cell_type": "code",
   "execution_count": 78,
   "metadata": {},
   "outputs": [],
   "source": [
    "from sklearn.preprocessing import MinMaxScaler\n",
    "from sklearn.impute import SimpleImputer\n",
    "\n",
    "imputer = SimpleImputer(strategy = 'median')\n",
    "\n",
    "# Scale each feature to 0-1\n",
    "scaler = MinMaxScaler(feature_range = (0, 1))"
   ]
  },
  {
   "cell_type": "code",
   "execution_count": 79,
   "metadata": {},
   "outputs": [],
   "source": [
    "imputer.fit(X_train)\n",
    "X_train = imputer.transform(X_train)\n",
    "X_test = imputer.transform(X_test)"
   ]
  },
  {
   "cell_type": "code",
   "execution_count": 80,
   "metadata": {},
   "outputs": [],
   "source": [
    "scaler.fit(X_train)\n",
    "X_train = scaler.transform(X_train)\n",
    "X_test = scaler.transform(X_test)"
   ]
  },
  {
   "cell_type": "code",
   "execution_count": 81,
   "metadata": {},
   "outputs": [
    {
     "name": "stdout",
     "output_type": "stream",
     "text": [
      "Training data shape:  (31470, 1228)\n",
      "Testing data shape:  (31262, 1228)\n"
     ]
    }
   ],
   "source": [
    "print('Training data shape: ', X_train.shape)\n",
    "print('Testing data shape: ', X_test.shape)"
   ]
  },
  {
   "cell_type": "markdown",
   "metadata": {},
   "source": [
    "# Cross validation (XGBoost)"
   ]
  },
  {
   "cell_type": "code",
   "execution_count": 82,
   "metadata": {},
   "outputs": [],
   "source": [
    "import xgboost as xgb\n",
    "model = xgb.XGBRegressor(n_jobs=-1,\n",
    "                         max_depth=10,\n",
    "                         n_estimators=1700,\n",
    "                         learning_rate=0.05,\n",
    "                         random_state=0,\n",
    "                         gamma=0.3,\n",
    "                         subsample=0.8,\n",
    "                        reg_lambda=4,\n",
    "                        eval_metric=\"rmse\",\n",
    "                        tree_method=\"gpu_hist\",\n",
    "                        verbose=-1)"
   ]
  },
  {
   "cell_type": "code",
   "execution_count": 83,
   "metadata": {},
   "outputs": [],
   "source": [
    "from sklearn.model_selection import cross_val_score"
   ]
  },
  {
   "cell_type": "markdown",
   "metadata": {},
   "source": [
    "### Scores y_train"
   ]
  },
  {
   "cell_type": "code",
   "execution_count": 84,
   "metadata": {},
   "outputs": [],
   "source": [
    "# scores = cross_val_score(model, X_train, y_train, scoring='neg_mean_squared_error', cv=5, n_jobs=-1, verbose=-1)"
   ]
  },
  {
   "cell_type": "code",
   "execution_count": 85,
   "metadata": {},
   "outputs": [],
   "source": [
    "# scores"
   ]
  },
  {
   "cell_type": "code",
   "execution_count": 86,
   "metadata": {},
   "outputs": [],
   "source": [
    "# rmse = (scores * (-1))**0.5"
   ]
  },
  {
   "cell_type": "code",
   "execution_count": 87,
   "metadata": {},
   "outputs": [],
   "source": [
    "# rmse"
   ]
  },
  {
   "cell_type": "code",
   "execution_count": 88,
   "metadata": {},
   "outputs": [],
   "source": [
    "# rmse.mean()"
   ]
  },
  {
   "cell_type": "code",
   "execution_count": 89,
   "metadata": {},
   "outputs": [],
   "source": [
    "# rmse.std()"
   ]
  },
  {
   "cell_type": "code",
   "execution_count": 90,
   "metadata": {},
   "outputs": [],
   "source": [
    "# import os\n",
    "# os.environ['KMP_DUPLICATE_LIB_OK']='True'\n",
    "\n",
    "# from tqdm import tqdm\n",
    "# import pickle\n",
    "\n",
    "# gbms = []\n",
    "# for i in range(50):\n",
    "#     gbm = xgb.XGBRegressor(n_estimators=50,\n",
    "#                             n_jobs=-1,\n",
    "#                             num_leaves=int(2**6.18),\n",
    "#                             feature_fraction=.63,\n",
    "#                             lambda_l1=10**-2.68,\n",
    "#                             lambda_l2=10**-2.67,\n",
    "#                             min_data_in_leaf=3,\n",
    "#                             learning_rate=10**-1.46,\n",
    "#                             num_boost_round=1000,\n",
    "#                             random_state=2434 + i)\n",
    "\n",
    "#     gbm.fit(X_train, y_train)\n",
    "#     # test_pred = gbm.predict(test_X) * test_X[\"capacity\"].values\n",
    "#     # smpsb_df.iloc[:len(test_X), 1] += test_pred / 50\n",
    "#     gbms.append(gbm)"
   ]
  },
  {
   "cell_type": "code",
   "execution_count": null,
   "metadata": {},
   "outputs": [],
   "source": []
  },
  {
   "cell_type": "code",
   "execution_count": 91,
   "metadata": {},
   "outputs": [],
   "source": [
    "# with open(\"models.pickle\", mode=\"rb\") as f:\n",
    "#     gbms = pickle.load(f)"
   ]
  },
  {
   "cell_type": "code",
   "execution_count": 92,
   "metadata": {},
   "outputs": [],
   "source": [
    "# smpsb_df = pd.read_csv(\"./input/sample_submit.csv\", header=None)\n",
    "# smpsb_df.iloc[:, 1] = 0"
   ]
  },
  {
   "cell_type": "code",
   "execution_count": 93,
   "metadata": {},
   "outputs": [],
   "source": [
    "# for i in tqdm(range(50)):\n",
    "#     gbm = gbms[i]\n",
    "\n",
    "#     test_pred = gbm.predict(test_X) * test_X[\"capacity\"].values\n",
    "#     smpsb_df.iloc[:, 1] += test_pred / 50"
   ]
  },
  {
   "cell_type": "markdown",
   "metadata": {},
   "source": [
    "# HyperOpt"
   ]
  },
  {
   "cell_type": "code",
   "execution_count": 94,
   "metadata": {},
   "outputs": [],
   "source": [
    "from hyperopt import hp\n",
    "import numpy as np\n",
    "from sklearn.metrics import mean_squared_error\n",
    "\n",
    "\n",
    "# XGB parameters\n",
    "xgb_reg_params = {\n",
    "    'learning_rate':    hp.choice('learning_rate',    np.arange(0.05, 0.31, 0.05)),\n",
    "    'max_depth':        hp.choice('max_depth',        np.arange(10, dtype=int)),\n",
    "    'min_child_weight': hp.choice('min_child_weight', np.arange(1, 8, 2, dtype=int)),\n",
    "    'colsample_bytree': hp.choice('colsample_bytree', np.arange(0.3, 0.8, 0.2)),\n",
    "    'subsample':        hp.uniform('subsample', 0.8, 1),\n",
    "    'n_estimators':     100\n",
    "}\n",
    "xgb_fit_params = {\n",
    "    'eval_metric': 'rmse',\n",
    "    'early_stopping_rounds': 10,\n",
    "    'verbose': False\n",
    "}\n",
    "xgb_para = dict()\n",
    "xgb_para['reg_params'] = xgb_reg_params\n",
    "xgb_para['fit_params'] = xgb_fit_params\n",
    "xgb_para['loss_func' ] = lambda y, pred: np.sqrt(mean_squared_error(y, pred))"
   ]
  },
  {
   "cell_type": "code",
   "execution_count": 95,
   "metadata": {},
   "outputs": [],
   "source": [
    "import xgboost as xgb\n",
    "# import catboost as ctb\n",
    "from hyperopt import fmin, tpe, STATUS_OK, STATUS_FAIL, Trials\n",
    "\n",
    "\n",
    "class HPOpt(object):\n",
    "\n",
    "    def __init__(self, x_train, x_test, y_train, y_test):\n",
    "        self.x_train = x_train\n",
    "        self.x_test  = x_test\n",
    "        self.y_train = y_train\n",
    "        self.y_test  = y_test\n",
    "\n",
    "    def process(self, fn_name, space, trials, algo, max_evals):\n",
    "        fn = getattr(self, fn_name)\n",
    "        try:\n",
    "            result = fmin(fn=fn, space=space, algo=algo, max_evals=max_evals, trials=trials)\n",
    "        except Exception as e:\n",
    "            return {'status': STATUS_FAIL,\n",
    "                    'exception': str(e)}\n",
    "        return result, trials\n",
    "\n",
    "    def xgb_reg(self, para):\n",
    "        reg = xgb.XGBRegressor(**para['reg_params'])\n",
    "        return self.train_reg(reg, para)\n",
    "\n",
    "    def lgb_reg(self, para):\n",
    "        reg = lgb.LGBMRegressor(**para['reg_params'])\n",
    "        return self.train_reg(reg, para)\n",
    "\n",
    "    def ctb_reg(self, para):\n",
    "        reg = ctb.CatBoostRegressor(**para['reg_params'])\n",
    "        return self.train_reg(reg, para)\n",
    "\n",
    "    def train_reg(self, reg, para):\n",
    "        reg.fit(self.x_train, self.y_train,\n",
    "                eval_set=[(self.x_train, self.y_train), (self.x_test, self.y_test)],\n",
    "                **para['fit_params'])\n",
    "        pred = reg.predict(self.x_test)\n",
    "        loss = para['loss_func'](self.y_test, pred)\n",
    "        return {'loss': loss, 'status': STATUS_OK}"
   ]
  },
  {
   "cell_type": "code",
   "execution_count": 96,
   "metadata": {},
   "outputs": [],
   "source": [
    "# from sklearn.model_selection import train_test_split\n",
    "# X_train, X_valid, y_train, y_valid = train_test_split(\n",
    "#     X_train, y_train, test_size=0.33, random_state=42)"
   ]
  },
  {
   "cell_type": "code",
   "execution_count": 97,
   "metadata": {
    "scrolled": true
   },
   "outputs": [],
   "source": [
    "# obj = HPOpt(X_train, X_valid, y_train, y_valid)\n",
    "\n",
    "# xgb_opt = obj.process(fn_name='xgb_reg', space=xgb_para, trials=Trials(), algo=tpe.suggest, max_evals=40)"
   ]
  },
  {
   "cell_type": "code",
   "execution_count": 99,
   "metadata": {},
   "outputs": [],
   "source": [
    "# print(xgb_opt)"
   ]
  },
  {
   "cell_type": "markdown",
   "metadata": {},
   "source": [
    "# Predict and submit"
   ]
  },
  {
   "cell_type": "code",
   "execution_count": 110,
   "metadata": {},
   "outputs": [],
   "source": [
    "model = xgb.XGBRegressor(n_jobs=-1,\n",
    "                         learning_rate=0.1,\n",
    "                         subsample = 0.8694589424908834,\n",
    "                         colsample_bytree=1,\n",
    "                         min_child_weight=1,\n",
    "                         max_depth=9,\n",
    "                        tree_method=\"gpu_hist\",\n",
    "                         n_estimators=100,\n",
    "                         eval_metric=\"rmse\",\n",
    "                        verbose=-1)"
   ]
  },
  {
   "cell_type": "code",
   "execution_count": 111,
   "metadata": {},
   "outputs": [
    {
     "name": "stderr",
     "output_type": "stream",
     "text": [
      "/usr/local/lib/python3.5/dist-packages/xgboost/core.py:587: FutureWarning: Series.base is deprecated and will be removed in a future version\n",
      "  if getattr(data, 'base', None) is not None and \\\n",
      "/usr/local/lib/python3.5/dist-packages/xgboost/core.py:588: FutureWarning: Series.base is deprecated and will be removed in a future version\n",
      "  data.base is not None and isinstance(data, np.ndarray) \\\n"
     ]
    },
    {
     "name": "stdout",
     "output_type": "stream",
     "text": [
      "[23:50:15] WARNING: /workspace/src/objective/regression_obj.cu:152: reg:linear is now deprecated in favor of reg:squarederror.\n"
     ]
    },
    {
     "data": {
      "text/plain": [
       "XGBRegressor(base_score=0.5, booster='gbtree', colsample_bylevel=1,\n",
       "             colsample_bynode=1, colsample_bytree=1, eval_metric='rmse',\n",
       "             gamma=0, importance_type='gain', learning_rate=0.1,\n",
       "             max_delta_step=0, max_depth=9, min_child_weight=1, missing=None,\n",
       "             n_estimators=100, n_jobs=-1, nthread=None, objective='reg:linear',\n",
       "             random_state=0, reg_alpha=0, reg_lambda=1, scale_pos_weight=1,\n",
       "             seed=None, silent=None, subsample=0.8694589424908834,\n",
       "             tree_method='gpu_hist', verbose=-1, verbosity=1)"
      ]
     },
     "execution_count": 111,
     "metadata": {},
     "output_type": "execute_result"
    }
   ],
   "source": [
    "model.fit(X_train, y_train)"
   ]
  },
  {
   "cell_type": "code",
   "execution_count": 112,
   "metadata": {},
   "outputs": [],
   "source": [
    "y_pred = model.predict(X_test)"
   ]
  },
  {
   "cell_type": "code",
   "execution_count": 113,
   "metadata": {},
   "outputs": [],
   "source": [
    "smpsb_df = pd.read_csv(\"./data/sample_submit.csv\", header=None)"
   ]
  },
  {
   "cell_type": "code",
   "execution_count": 114,
   "metadata": {},
   "outputs": [
    {
     "data": {
      "text/plain": [
       "(31262, 2)"
      ]
     },
     "execution_count": 114,
     "metadata": {},
     "output_type": "execute_result"
    }
   ],
   "source": [
    "smpsb_df.shape"
   ]
  },
  {
   "cell_type": "code",
   "execution_count": 115,
   "metadata": {},
   "outputs": [
    {
     "data": {
      "text/plain": [
       "(31262,)"
      ]
     },
     "execution_count": 115,
     "metadata": {},
     "output_type": "execute_result"
    }
   ],
   "source": [
    "y_pred.shape"
   ]
  },
  {
   "cell_type": "code",
   "execution_count": 116,
   "metadata": {},
   "outputs": [
    {
     "data": {
      "text/plain": [
       "array([161269.28 , 119549.945,  76107.62 , ..., 173105.77 , 263951.34 ,\n",
       "        83717.16 ], dtype=float32)"
      ]
     },
     "execution_count": 116,
     "metadata": {},
     "output_type": "execute_result"
    }
   ],
   "source": [
    "y_pred"
   ]
  },
  {
   "cell_type": "code",
   "execution_count": 117,
   "metadata": {},
   "outputs": [
    {
     "data": {
      "text/html": [
       "<div>\n",
       "<style scoped>\n",
       "    .dataframe tbody tr th:only-of-type {\n",
       "        vertical-align: middle;\n",
       "    }\n",
       "\n",
       "    .dataframe tbody tr th {\n",
       "        vertical-align: top;\n",
       "    }\n",
       "\n",
       "    .dataframe thead th {\n",
       "        text-align: right;\n",
       "    }\n",
       "</style>\n",
       "<table border=\"1\" class=\"dataframe\">\n",
       "  <thead>\n",
       "    <tr style=\"text-align: right;\">\n",
       "      <th></th>\n",
       "      <th>0</th>\n",
       "      <th>1</th>\n",
       "    </tr>\n",
       "  </thead>\n",
       "  <tbody>\n",
       "    <tr>\n",
       "      <th>0</th>\n",
       "      <td>31471</td>\n",
       "      <td>303875</td>\n",
       "    </tr>\n",
       "    <tr>\n",
       "      <th>1</th>\n",
       "      <td>31472</td>\n",
       "      <td>422016</td>\n",
       "    </tr>\n",
       "    <tr>\n",
       "      <th>2</th>\n",
       "      <td>31473</td>\n",
       "      <td>275390</td>\n",
       "    </tr>\n",
       "    <tr>\n",
       "      <th>3</th>\n",
       "      <td>31474</td>\n",
       "      <td>980818</td>\n",
       "    </tr>\n",
       "    <tr>\n",
       "      <th>4</th>\n",
       "      <td>31475</td>\n",
       "      <td>436194</td>\n",
       "    </tr>\n",
       "  </tbody>\n",
       "</table>\n",
       "</div>"
      ],
      "text/plain": [
       "       0       1\n",
       "0  31471  303875\n",
       "1  31472  422016\n",
       "2  31473  275390\n",
       "3  31474  980818\n",
       "4  31475  436194"
      ]
     },
     "execution_count": 117,
     "metadata": {},
     "output_type": "execute_result"
    }
   ],
   "source": [
    "smpsb_df.head()"
   ]
  },
  {
   "cell_type": "code",
   "execution_count": 118,
   "metadata": {},
   "outputs": [],
   "source": [
    "smpsb_df[1] = y_pred"
   ]
  },
  {
   "cell_type": "code",
   "execution_count": 119,
   "metadata": {},
   "outputs": [
    {
     "data": {
      "text/html": [
       "<div>\n",
       "<style scoped>\n",
       "    .dataframe tbody tr th:only-of-type {\n",
       "        vertical-align: middle;\n",
       "    }\n",
       "\n",
       "    .dataframe tbody tr th {\n",
       "        vertical-align: top;\n",
       "    }\n",
       "\n",
       "    .dataframe thead th {\n",
       "        text-align: right;\n",
       "    }\n",
       "</style>\n",
       "<table border=\"1\" class=\"dataframe\">\n",
       "  <thead>\n",
       "    <tr style=\"text-align: right;\">\n",
       "      <th></th>\n",
       "      <th>0</th>\n",
       "      <th>1</th>\n",
       "    </tr>\n",
       "  </thead>\n",
       "  <tbody>\n",
       "    <tr>\n",
       "      <th>0</th>\n",
       "      <td>31471</td>\n",
       "      <td>161269.281250</td>\n",
       "    </tr>\n",
       "    <tr>\n",
       "      <th>1</th>\n",
       "      <td>31472</td>\n",
       "      <td>119549.945312</td>\n",
       "    </tr>\n",
       "    <tr>\n",
       "      <th>2</th>\n",
       "      <td>31473</td>\n",
       "      <td>76107.617188</td>\n",
       "    </tr>\n",
       "    <tr>\n",
       "      <th>3</th>\n",
       "      <td>31474</td>\n",
       "      <td>57438.417969</td>\n",
       "    </tr>\n",
       "    <tr>\n",
       "      <th>4</th>\n",
       "      <td>31475</td>\n",
       "      <td>112677.601562</td>\n",
       "    </tr>\n",
       "  </tbody>\n",
       "</table>\n",
       "</div>"
      ],
      "text/plain": [
       "       0              1\n",
       "0  31471  161269.281250\n",
       "1  31472  119549.945312\n",
       "2  31473   76107.617188\n",
       "3  31474   57438.417969\n",
       "4  31475  112677.601562"
      ]
     },
     "execution_count": 119,
     "metadata": {},
     "output_type": "execute_result"
    }
   ],
   "source": [
    "smpsb_df.head()"
   ]
  },
  {
   "cell_type": "code",
   "execution_count": 121,
   "metadata": {},
   "outputs": [
    {
     "data": {
      "text/plain": [
       "<matplotlib.axes._subplots.AxesSubplot at 0x7fb2d1065cc0>"
      ]
     },
     "execution_count": 121,
     "metadata": {},
     "output_type": "execute_result"
    },
    {
     "data": {
      "image/png": "[encoded data removed]",
      "text/plain": [
       "<Figure size 432x288 with 1 Axes>"
      ]
     },
     "metadata": {},
     "output_type": "display_data"
    }
   ],
   "source": [
    "smpsb_df[1].plot.hist()"
   ]
  },
  {
   "cell_type": "code",
   "execution_count": 196,
   "metadata": {},
   "outputs": [],
   "source": [
    "smpsb_df.to_csv(\"./submit_files/xgboost7.csv\", index=None, header=None)"
   ]
  },
  {
   "cell_type": "code",
   "execution_count": 203,
   "metadata": {},
   "outputs": [
    {
     "data": {
      "text/plain": [
       "<Figure size 1440x720 with 0 Axes>"
      ]
     },
     "metadata": {},
     "output_type": "display_data"
    },
    {
     "data": {
      "image/png": "[encoded data removed]",
      "text/plain": [
       "<Figure size 432x288 with 1 Axes>"
      ]
     },
     "metadata": {},
     "output_type": "display_data"
    }
   ],
   "source": [
    "from xgboost import plot_importance\n",
    "plt.figure(figsize=(20, 10))\n",
    "plot_importance(model, max_num_features=30)\n",
    "# plt.savefig(\"feature_importance_1.png\")\n",
    "plt.show()"
   ]
  },
  {
   "cell_type": "code",
   "execution_count": 204,
   "metadata": {},
   "outputs": [],
   "source": [
    "feature_importance_values = model.feature_importances_\n",
    "feature_importances = pd.DataFrame({\"feature\": features, \"importance\": feature_importance_values})"
   ]
  },
  {
   "cell_type": "code",
   "execution_count": 205,
   "metadata": {},
   "outputs": [],
   "source": [
    "def plot_feature_importances(df):\n",
    "    \"\"\"\n",
    "    Plot importances returned by a model. This can work with any measure of\n",
    "    feature importance provided that higher importance is better. \n",
    "    \n",
    "    Args:\n",
    "        df (dataframe): feature importances. Must have the features in a column\n",
    "        called `features` and the importances in a column called `importance\n",
    "        \n",
    "    Returns:\n",
    "        shows a plot of the 15 most importance features\n",
    "        \n",
    "        df (dataframe): feature importances sorted by importance (highest to lowest) \n",
    "        with a column for normalized importance\n",
    "        \"\"\"\n",
    "    \n",
    "    # Sort features according to importance\n",
    "    df = df.sort_values('importance', ascending = False).reset_index()\n",
    "    \n",
    "    # Normalize the feature importances to add up to one\n",
    "    df['importance_normalized'] = df['importance'] / df['importance'].sum()\n",
    "\n",
    "    # Make a horizontal bar chart of feature importances\n",
    "    plt.figure(figsize = (10, 6))\n",
    "    ax = plt.subplot()\n",
    "    \n",
    "    # Need to reverse the index to plot most important on top\n",
    "    ax.barh(list(reversed(list(df.index[:15]))), \n",
    "            df['importance_normalized'].head(15), \n",
    "            align = 'center', edgecolor = 'k')\n",
    "    \n",
    "    # Set the yticks and labels\n",
    "    ax.set_yticks(list(reversed(list(df.index[:15]))))\n",
    "    ax.set_yticklabels(df['feature'].head(15))\n",
    "    \n",
    "    # Plot labeling\n",
    "    plt.xlabel('Normalized Importance'); plt.title('Feature Importances')\n",
    "    plt.show()\n",
    "    \n",
    "    return df"
   ]
  },
  {
   "cell_type": "code",
   "execution_count": 206,
   "metadata": {},
   "outputs": [
    {
     "data": {
      "image/png": "[encoded data removed]",
      "text/plain": [
       "<Figure size 720x432 with 1 Axes>"
      ]
     },
     "metadata": {},
     "output_type": "display_data"
    }
   ],
   "source": [
    "feature_importances_sorted = plot_feature_importances(feature_importances)"
   ]
  },
  {
   "cell_type": "code",
   "execution_count": null,
   "metadata": {},
   "outputs": [],
   "source": []
  }
 ],
 "metadata": {
  "kernelspec": {
   "display_name": "Python 3",
   "language": "python",
   "name": "python3"
  },
  "language_info": {
   "codemirror_mode": {
    "name": "ipython",
    "version": 3
   },
   "file_extension": ".py",
   "mimetype": "text/x-python",
   "name": "python",
   "nbconvert_exporter": "python",
   "pygments_lexer": "ipython3",
   "version": "3.5.2"
  }
 },
 "nbformat": 4,
 "nbformat_minor": 2
}
