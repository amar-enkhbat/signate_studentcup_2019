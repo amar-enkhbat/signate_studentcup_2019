{
 "cells": [
  {
   "cell_type": "code",
   "execution_count": 116,
   "metadata": {},
   "outputs": [],
   "source": [
    "import pandas as pd\n",
    "import numpy as np\n",
    "import matplotlib.pyplot as plt\n",
    "import matplotlib as mpl\n",
    "\n",
    "font = {'family':\"IPAexGothic\",\n",
    "        'weight' : 'bold'}\n",
    "mpl.rc('font', **font)"
   ]
  },
  {
   "cell_type": "code",
   "execution_count": 117,
   "metadata": {},
   "outputs": [],
   "source": [
    "train = pd.read_csv(\"./data/train.csv\")\n",
    "test = pd.read_csv(\"./data/test.csv\")\n",
    "sample_submit = pd.read_csv(\"./data/sample_submit.csv\")"
   ]
  },
  {
   "cell_type": "markdown",
   "metadata": {},
   "source": [
    "# Data Shape"
   ]
  },
  {
   "cell_type": "code",
   "execution_count": 118,
   "metadata": {},
   "outputs": [
    {
     "name": "stdout",
     "output_type": "stream",
     "text": [
      "Training data: (31470, 17)\n",
      "Test data: (31262, 16)\n"
     ]
    }
   ],
   "source": [
    "print(\"Training data:\", train.shape)\n",
    "print(\"Test data:\", test.shape)"
   ]
  },
  {
   "cell_type": "markdown",
   "metadata": {},
   "source": [
    "# Concat train and test\n",
    "# 賃料 and ID are saved as target, total_id respectively"
   ]
  },
  {
   "cell_type": "code",
   "execution_count": 119,
   "metadata": {},
   "outputs": [
    {
     "data": {
      "text/plain": [
       "(62732, 15)"
      ]
     },
     "execution_count": 119,
     "metadata": {},
     "output_type": "execute_result"
    }
   ],
   "source": [
    "target = train[\"賃料\"]\n",
    "train = train.drop(columns=[\"賃料\"])\n",
    "total_data = pd.concat([train, test], ignore_index=True)\n",
    "total_id = total_data[\"id\"]\n",
    "total_data = total_data.drop(columns=\"id\")\n",
    "total_data.shape"
   ]
  },
  {
   "cell_type": "markdown",
   "metadata": {},
   "source": [
    "# Examine Missing Values"
   ]
  },
  {
   "cell_type": "code",
   "execution_count": 120,
   "metadata": {},
   "outputs": [],
   "source": [
    "# Function to calculate missing values by column# Funct \n",
    "def missing_values_table(df):\n",
    "        # Total missing values\n",
    "        mis_val = df.isnull().sum()\n",
    "        \n",
    "        # Percentage of missing values\n",
    "        mis_val_percent = 100 * df.isnull().sum() / len(df)\n",
    "        \n",
    "        # Make a table with the results\n",
    "        mis_val_table = pd.concat([mis_val, mis_val_percent], axis=1)\n",
    "        \n",
    "        # Rename the columns\n",
    "        mis_val_table_ren_columns = mis_val_table.rename(\n",
    "        columns = {0 : 'Missing Values', 1 : '% of Total Values'})\n",
    "        \n",
    "        # Sort the table by percentage of missing descending\n",
    "        mis_val_table_ren_columns = mis_val_table_ren_columns[\n",
    "            mis_val_table_ren_columns.iloc[:,1] != 0].sort_values(\n",
    "        '% of Total Values', ascending=False).round(1)\n",
    "        \n",
    "        # Print some summary information\n",
    "        print (\"Your selected dataframe has \" + str(df.shape[1]) + \" columns.\\n\"      \n",
    "            \"There are \" + str(mis_val_table_ren_columns.shape[0]) +\n",
    "              \" columns that have missing values.\")\n",
    "        \n",
    "        # Return the dataframe with missing information\n",
    "        return mis_val_table_ren_columns"
   ]
  },
  {
   "cell_type": "code",
   "execution_count": 121,
   "metadata": {},
   "outputs": [
    {
     "name": "stdout",
     "output_type": "stream",
     "text": [
      "Your selected dataframe has 15 columns.\n",
      "There are 9 columns that have missing values.\n"
     ]
    },
    {
     "data": {
      "text/html": [
       "<div>\n",
       "<style scoped>\n",
       "    .dataframe tbody tr th:only-of-type {\n",
       "        vertical-align: middle;\n",
       "    }\n",
       "\n",
       "    .dataframe tbody tr th {\n",
       "        vertical-align: top;\n",
       "    }\n",
       "\n",
       "    .dataframe thead th {\n",
       "        text-align: right;\n",
       "    }\n",
       "</style>\n",
       "<table border=\"1\" class=\"dataframe\">\n",
       "  <thead>\n",
       "    <tr style=\"text-align: right;\">\n",
       "      <th></th>\n",
       "      <th>Missing Values</th>\n",
       "      <th>% of Total Values</th>\n",
       "    </tr>\n",
       "  </thead>\n",
       "  <tbody>\n",
       "    <tr>\n",
       "      <th>周辺環境</th>\n",
       "      <td>18673</td>\n",
       "      <td>29.8</td>\n",
       "    </tr>\n",
       "    <tr>\n",
       "      <th>契約期間</th>\n",
       "      <td>14101</td>\n",
       "      <td>22.5</td>\n",
       "    </tr>\n",
       "    <tr>\n",
       "      <th>駐車場</th>\n",
       "      <td>10643</td>\n",
       "      <td>17.0</td>\n",
       "    </tr>\n",
       "    <tr>\n",
       "      <th>放送・通信</th>\n",
       "      <td>6894</td>\n",
       "      <td>11.0</td>\n",
       "    </tr>\n",
       "    <tr>\n",
       "      <th>方角</th>\n",
       "      <td>5557</td>\n",
       "      <td>8.9</td>\n",
       "    </tr>\n",
       "    <tr>\n",
       "      <th>キッチン</th>\n",
       "      <td>1256</td>\n",
       "      <td>2.0</td>\n",
       "    </tr>\n",
       "    <tr>\n",
       "      <th>バス・トイレ</th>\n",
       "      <td>649</td>\n",
       "      <td>1.0</td>\n",
       "    </tr>\n",
       "    <tr>\n",
       "      <th>室内設備</th>\n",
       "      <td>155</td>\n",
       "      <td>0.2</td>\n",
       "    </tr>\n",
       "    <tr>\n",
       "      <th>所在階</th>\n",
       "      <td>1</td>\n",
       "      <td>0.0</td>\n",
       "    </tr>\n",
       "  </tbody>\n",
       "</table>\n",
       "</div>"
      ],
      "text/plain": [
       "        Missing Values  % of Total Values\n",
       "周辺環境             18673               29.8\n",
       "契約期間             14101               22.5\n",
       "駐車場              10643               17.0\n",
       "放送・通信             6894               11.0\n",
       "方角                5557                8.9\n",
       "キッチン              1256                2.0\n",
       "バス・トイレ             649                1.0\n",
       "室内設備               155                0.2\n",
       "所在階                  1                0.0"
      ]
     },
     "execution_count": 121,
     "metadata": {},
     "output_type": "execute_result"
    }
   ],
   "source": [
    "missing_values = missing_values_table(total_data)\n",
    "missing_values"
   ]
  },
  {
   "cell_type": "markdown",
   "metadata": {},
   "source": [
    "# Convert 全角 to 半角"
   ]
  },
  {
   "cell_type": "code",
   "execution_count": 122,
   "metadata": {
    "scrolled": true
   },
   "outputs": [
    {
     "name": "stdout",
     "output_type": "stream",
     "text": [
      "所在地\n",
      "アクセス\n",
      "間取り\n",
      "築年数\n",
      "方角\n",
      "面積\n",
      "所在階\n",
      "バス・トイレ\n",
      "キッチン\n",
      "放送・通信\n",
      "室内設備\n",
      "駐車場\n",
      "周辺環境\n",
      "建物構造\n",
      "契約期間\n"
     ]
    }
   ],
   "source": [
    "for column in total_data.columns:\n",
    "    print(column)\n",
    "    total_data[column] = total_data[column].str.translate(str.maketrans({chr(0xFF01 + i): chr(0x21 + i) for i in range(94)}))"
   ]
  },
  {
   "cell_type": "markdown",
   "metadata": {},
   "source": [
    "# 築年数"
   ]
  },
  {
   "cell_type": "markdown",
   "metadata": {},
   "source": [
    "## This format is \"%Y年%m\"\n",
    "## But there are entries with \"新築\""
   ]
  },
  {
   "cell_type": "code",
   "execution_count": 123,
   "metadata": {},
   "outputs": [],
   "source": [
    "total_data[\"築年数\"] = total_data[\"築年数\"].replace(\"新築\", \"0年0ヶ月\")\n",
    "df = total_data[\"築年数\"].str.split(\"年\", expand=True)\n",
    "df[0] = df[0].astype(int)\n",
    "df[1] = df[1].str.strip(\"ヶ月\").astype(int)\n",
    "total_data[\"築年数_月\"] = df[0] * 12 + df[1]\n",
    "total_data.drop(columns=[\"築年数\"], inplace=True)"
   ]
  },
  {
   "cell_type": "markdown",
   "metadata": {},
   "source": [
    "# 面積"
   ]
  },
  {
   "cell_type": "markdown",
   "metadata": {},
   "source": [
    "## Just converts \"%dm2\" to float"
   ]
  },
  {
   "cell_type": "code",
   "execution_count": 124,
   "metadata": {},
   "outputs": [],
   "source": [
    "total_data[\"面積\"] = total_data[\"面積\"].str.replace(\"m2\", \"\").astype(np.float)"
   ]
  },
  {
   "cell_type": "markdown",
   "metadata": {},
   "source": [
    "# 所在階"
   ]
  },
  {
   "cell_type": "code",
   "execution_count": 125,
   "metadata": {},
   "outputs": [
    {
     "name": "stderr",
     "output_type": "stream",
     "text": [
      "/home/amar/.local/lib/python3.6/site-packages/ipykernel_launcher.py:4: SettingWithCopyWarning: \n",
      "A value is trying to be set on a copy of a slice from a DataFrame\n",
      "\n",
      "See the caveats in the documentation: http://pandas.pydata.org/pandas-docs/stable/indexing.html#indexing-view-versus-copy\n",
      "  after removing the cwd from sys.path.\n"
     ]
    }
   ],
   "source": [
    "# fill nan with \"\"-999\"\n",
    "total_data[\"所在階\"] = total_data[\"所在階\"].fillna(\"-999\")\n",
    "# add \"/\" to entries without \"/\" for splitting\n",
    "total_data[\"所在階\"][~total_data[\"所在階\"].str.contains(\"/\")] = \"/\" + total_data[\"所在階\"][~total_data[\"所在階\"].str.contains(\"/\")]\n",
    "# Split\n",
    "total_data[\"階建\"] = total_data[\"所在階\"].str.split(\"/\", expand=True)[1]\n",
    "total_data[\"所在階\"] = total_data[\"所在階\"].str.split(\"/\", expand=True)[0]\n",
    "# Remove \"階\" from 所在階\n",
    "total_data[\"所在階\"] = total_data[\"所在階\"].str.replace(\"階\", \"\")\n",
    "# Split again\n",
    "total_data[\"所在階_地下\"] = total_data[\"所在階\"].str.split(\"地下\", expand=True)[1]\n",
    "total_data[\"所在階\"] = total_data[\"所在階\"].str.split(\"地下\", expand=True)[0]\n",
    "total_data[\"所在階\"] = total_data[\"所在階\"].replace(\"\", 0).astype(int)\n",
    "total_data[\"所在階_地下\"] = total_data[\"所在階_地下\"].fillna(0).astype(int)\n",
    "total_data[\"階建\"] = total_data[\"階建\"].str.replace(\"階建\", \"\")\n",
    "total_data[\"階建\"] = total_data[\"階建\"].str.replace(\"階\", \"\")\n",
    "total_data[\"階建_地下\"] = total_data[\"階建\"].str.split(\"(\", expand=True)[1]\n",
    "total_data[\"階建\"] = total_data[\"階建\"].str.split(\"(\", expand=True)[0].astype(int)\n",
    "total_data[\"階建_地下\"] = total_data[\"階建_地下\"].str.replace(\"地下\", \"\").str.replace(\")\", \"\").fillna(0).astype(int)"
   ]
  },
  {
   "cell_type": "markdown",
   "metadata": {},
   "source": [
    "# 間取り"
   ]
  },
  {
   "cell_type": "code",
   "execution_count": 126,
   "metadata": {},
   "outputs": [],
   "source": [
    "total_data[\"納戸\"] = total_data[\"間取り\"].str.contains(\"納戸\", regex=False)\n",
    "total_data[\"間取り\"] = total_data[\"間取り\"].str.strip(\"(納戸)\")\n",
    "\n",
    "unique_keys = sorted(set(''.join(total_data[\"間取り\"].unique())))\n",
    "\n",
    "for char in [\"D\", \"K\", \"L\", \"R\", \"S\"]:\n",
    "    new_col = \"間取り\" + \"_\" + char\n",
    "#     print(new_col)\n",
    "    total_data[new_col] = total_data[\"間取り\"].str.contains(char)\n",
    "    \n",
    "total_data[\"間取り_数\"] = total_data[\"間取り\"].str.strip(\"DKLRS+\").astype(int)"
   ]
  },
  {
   "cell_type": "markdown",
   "metadata": {},
   "source": [
    "# 方角"
   ]
  },
  {
   "cell_type": "code",
   "execution_count": 127,
   "metadata": {},
   "outputs": [],
   "source": [
    "total_data[\"方角_南\"] = total_data[\"方角\"].str.contains(\"南\")\n",
    "total_data[\"方角_東\"] = total_data[\"方角\"].str.contains(\"東\")\n",
    "total_data[\"方角_西\"] = total_data[\"方角\"].str.contains(\"西\")\n",
    "total_data[\"方角_北\"] = total_data[\"方角\"].str.contains(\"北\")"
   ]
  },
  {
   "cell_type": "markdown",
   "metadata": {},
   "source": [
    "# 建物構造"
   ]
  },
  {
   "cell_type": "markdown",
   "metadata": {},
   "source": [
    "## Fine the way it is"
   ]
  },
  {
   "cell_type": "markdown",
   "metadata": {},
   "source": [
    "# 契約期間"
   ]
  },
  {
   "cell_type": "code",
   "execution_count": 128,
   "metadata": {},
   "outputs": [
    {
     "name": "stderr",
     "output_type": "stream",
     "text": [
      "/home/amar/.local/lib/python3.6/site-packages/ipykernel_launcher.py:6: SettingWithCopyWarning: \n",
      "A value is trying to be set on a copy of a slice from a DataFrame\n",
      "\n",
      "See the caveats in the documentation: http://pandas.pydata.org/pandas-docs/stable/indexing.html#indexing-view-versus-copy\n",
      "  \n",
      "/home/amar/.local/lib/python3.6/site-packages/ipykernel_launcher.py:7: SettingWithCopyWarning: \n",
      "A value is trying to be set on a copy of a slice from a DataFrame\n",
      "\n",
      "See the caveats in the documentation: http://pandas.pydata.org/pandas-docs/stable/indexing.html#indexing-view-versus-copy\n",
      "  import sys\n",
      "/home/amar/.local/lib/python3.6/site-packages/ipykernel_launcher.py:13: SettingWithCopyWarning: \n",
      "A value is trying to be set on a copy of a slice from a DataFrame\n",
      "\n",
      "See the caveats in the documentation: http://pandas.pydata.org/pandas-docs/stable/indexing.html#indexing-view-versus-copy\n",
      "  del sys.path[0]\n"
     ]
    }
   ],
   "source": [
    "df = total_data[\"契約期間\"].str.split(\"\\t\", expand=True)\n",
    "total_data[\"契約期間_定期借家\"] = total_data[\"契約期間\"].str.split(\"\\t\", expand=True)[2].replace(\"定期借家\", 1).fillna(0).astype(int)\n",
    "total_data[\"契約期間\"] = total_data[\"契約期間\"].str.split(\"\\t\", expand=True)[0]\n",
    "total_data[\"契約期間\"] = total_data[\"契約期間\"].str.replace(\"ヶ\", \"\")\n",
    "total_data[\"契約期間\"] = total_data[\"契約期間\"].fillna(\"0年間\")\n",
    "total_data[\"契約期間\"][total_data[\"契約期間\"].str.contains(\"年間\", regex=False)] = (total_data[\"契約期間\"][total_data[\"契約期間\"].str.contains(\"年間\", regex=False)].str.replace(\"年間\", \"\").astype(int)+2019).astype(str)+\"年8月まで\"\n",
    "total_data[\"契約期間\"][~total_data[\"契約期間\"].str.contains(\"年\")] = \"年\" + total_data[\"契約期間\"][~total_data[\"契約期間\"].str.contains(\"年\")]\n",
    "temp_df = total_data[\"契約期間\"][total_data[\"契約期間\"].str.contains(\"月間\", regex=False)].str.replace(\"月間\", \"\").str.split(\"年\", expand=True)\n",
    "temp_df[1] = temp_df[1].astype(int) + 8\n",
    "temp_df[0] = 2019 + temp_df[0].replace(\"\", \"0\").astype(int)\n",
    "temp_df[0][temp_df[1] > 12] = temp_df[0][temp_df[1] > 12] + 1\n",
    "temp_df[1][temp_df[1] > 12] = temp_df[1][temp_df[1] > 12] - 12\n",
    "total_data[\"契約期間\"][total_data[\"契約期間\"].str.contains(\"月間\", regex=False)] = temp_df[0].astype(str)+ \"年\" + temp_df[1].astype(str) + \"月まで\"\n",
    "total_data[\"契約期間\"] = pd.to_datetime(total_data[\"契約期間\"], format=\"%Y年%m月まで\")\n",
    "total_data[\"契約期間_月\"] = (total_data[\"契約期間\"].dt.year - 2019)*12 + total_data[\"契約期間\"].dt.month - 8"
   ]
  },
  {
   "cell_type": "markdown",
   "metadata": {},
   "source": [
    "# 所在地"
   ]
  },
  {
   "cell_type": "code",
   "execution_count": 129,
   "metadata": {},
   "outputs": [],
   "source": [
    "total_data[\"所在地\"] = total_data[\"所在地\"].str.replace(\"東京都\", \"\")\n",
    "total_data[\"所在地_区\"] = total_data[\"所在地\"].str.split(\"区\", expand=True)[0]\n",
    "total_data[\"所在地\"] = total_data[\"所在地\"].str.split(\"区\", expand=True)[1]"
   ]
  },
  {
   "cell_type": "markdown",
   "metadata": {},
   "source": [
    "# アクセス"
   ]
  },
  {
   "cell_type": "code",
   "execution_count": 130,
   "metadata": {},
   "outputs": [],
   "source": [
    "df = total_data[\"アクセス\"].str.split(\"\\t\", expand=True)"
   ]
  },
  {
   "cell_type": "code",
   "execution_count": 131,
   "metadata": {},
   "outputs": [
    {
     "data": {
      "text/html": [
       "<div>\n",
       "<style scoped>\n",
       "    .dataframe tbody tr th:only-of-type {\n",
       "        vertical-align: middle;\n",
       "    }\n",
       "\n",
       "    .dataframe tbody tr th {\n",
       "        vertical-align: top;\n",
       "    }\n",
       "\n",
       "    .dataframe thead th {\n",
       "        text-align: right;\n",
       "    }\n",
       "</style>\n",
       "<table border=\"1\" class=\"dataframe\">\n",
       "  <thead>\n",
       "    <tr style=\"text-align: right;\">\n",
       "      <th></th>\n",
       "      <th>0</th>\n",
       "      <th>1</th>\n",
       "      <th>2</th>\n",
       "      <th>3</th>\n",
       "      <th>4</th>\n",
       "      <th>5</th>\n",
       "      <th>6</th>\n",
       "      <th>7</th>\n",
       "      <th>8</th>\n",
       "      <th>9</th>\n",
       "      <th>10</th>\n",
       "      <th>11</th>\n",
       "      <th>12</th>\n",
       "    </tr>\n",
       "  </thead>\n",
       "  <tbody>\n",
       "    <tr>\n",
       "      <th>0</th>\n",
       "      <td>都営三田線</td>\n",
       "      <td>西巣鴨駅</td>\n",
       "      <td>徒歩4分</td>\n",
       "      <td></td>\n",
       "      <td>埼京線</td>\n",
       "      <td>板橋駅</td>\n",
       "      <td>徒歩14分</td>\n",
       "      <td></td>\n",
       "      <td>都電荒川線</td>\n",
       "      <td>西ケ原四丁目駅</td>\n",
       "      <td>徒歩7分</td>\n",
       "      <td>None</td>\n",
       "      <td>None</td>\n",
       "    </tr>\n",
       "    <tr>\n",
       "      <th>1</th>\n",
       "      <td>都営大江戸線</td>\n",
       "      <td>勝どき駅</td>\n",
       "      <td>徒歩5分</td>\n",
       "      <td></td>\n",
       "      <td>有楽町線</td>\n",
       "      <td>月島駅</td>\n",
       "      <td>徒歩9分</td>\n",
       "      <td></td>\n",
       "      <td>日比谷線</td>\n",
       "      <td>築地駅</td>\n",
       "      <td>徒歩20分</td>\n",
       "      <td>None</td>\n",
       "      <td>None</td>\n",
       "    </tr>\n",
       "    <tr>\n",
       "      <th>2</th>\n",
       "      <td>京王線</td>\n",
       "      <td>笹塚駅</td>\n",
       "      <td>徒歩6分</td>\n",
       "      <td></td>\n",
       "      <td>京王線</td>\n",
       "      <td>代田橋駅</td>\n",
       "      <td>徒歩7分</td>\n",
       "      <td></td>\n",
       "      <td>京王線</td>\n",
       "      <td>明大前駅</td>\n",
       "      <td>徒歩17分</td>\n",
       "      <td>None</td>\n",
       "      <td>None</td>\n",
       "    </tr>\n",
       "  </tbody>\n",
       "</table>\n",
       "</div>"
      ],
      "text/plain": [
       "       0     1     2  3     4     5      6  7      8        9      10    11  \\\n",
       "0   都営三田線  西巣鴨駅  徒歩4分      埼京線   板橋駅  徒歩14分     都電荒川線  西ケ原四丁目駅   徒歩7分  None   \n",
       "1  都営大江戸線  勝どき駅  徒歩5分     有楽町線   月島駅   徒歩9分      日比谷線      築地駅  徒歩20分  None   \n",
       "2     京王線   笹塚駅  徒歩6分      京王線  代田橋駅   徒歩7分       京王線     明大前駅  徒歩17分  None   \n",
       "\n",
       "     12  \n",
       "0  None  \n",
       "1  None  \n",
       "2  None  "
      ]
     },
     "execution_count": 131,
     "metadata": {},
     "output_type": "execute_result"
    }
   ],
   "source": [
    "df.head(3)"
   ]
  },
  {
   "cell_type": "markdown",
   "metadata": {},
   "source": [
    "## df[0]"
   ]
  },
  {
   "cell_type": "code",
   "execution_count": 132,
   "metadata": {},
   "outputs": [
    {
     "data": {
      "text/plain": [
       "array(['つくばエクスプレス', '東武スカイツリーライン', '日暮里・舎人ライナー', 'ゆりかもめ'], dtype=object)"
      ]
     },
     "execution_count": 132,
     "metadata": {},
     "output_type": "execute_result"
    }
   ],
   "source": [
    "# Check entries without \"線\"\n",
    "df[0][df[0].str.contains(\"線\") == False].unique()"
   ]
  },
  {
   "cell_type": "code",
   "execution_count": 133,
   "metadata": {},
   "outputs": [],
   "source": [
    "total_data[\"アクセス_線_1\"] = df[0]"
   ]
  },
  {
   "cell_type": "markdown",
   "metadata": {},
   "source": [
    "## df[1]"
   ]
  },
  {
   "cell_type": "code",
   "execution_count": 134,
   "metadata": {},
   "outputs": [
    {
     "data": {
      "text/plain": [
       "array([], dtype=object)"
      ]
     },
     "execution_count": 134,
     "metadata": {},
     "output_type": "execute_result"
    }
   ],
   "source": [
    "# Check entries without \"駅\"\n",
    "df[1][df[1].str.contains(\"駅\") == False].unique()"
   ]
  },
  {
   "cell_type": "code",
   "execution_count": 135,
   "metadata": {},
   "outputs": [],
   "source": [
    "total_data[\"アクセス_駅_1\"] = df[1]"
   ]
  },
  {
   "cell_type": "markdown",
   "metadata": {},
   "source": [
    "## df[2]"
   ]
  },
  {
   "cell_type": "code",
   "execution_count": 136,
   "metadata": {},
   "outputs": [
    {
     "data": {
      "text/plain": [
       "array(['徒歩4分', '徒歩5分', '徒歩6分', '徒歩9分', '徒歩2分', '徒歩7分', '徒歩3分', '徒歩8分',\n",
       "       '徒歩15分', '徒歩11分', '徒歩10分', '徒歩13分', '徒歩12分', '徒歩22分', '徒歩1分',\n",
       "       '徒歩19分', '徒歩18分', '徒歩23分', '徒歩17分', '徒歩20分', '/バス(6分)都民農園下車徒歩1分',\n",
       "       '徒歩14分', '/バス(19分)長久保下車徒歩2分', '徒歩24分', '徒歩16分',\n",
       "       '/バス(7分)大泉風致地区下車徒歩5分', '徒歩29分', '徒歩37分', '徒歩21分',\n",
       "       '/バス(10分)関町郵便局前下車徒歩1分', '/バス(16分)新小71\\u3000農業試験場下車徒歩3分',\n",
       "       '/バス(18分)土支田二丁目下車徒歩5分', '/バス(12分)比丘尼橋下車徒歩3分', '/バス(10分)団地入口下車徒歩3分',\n",
       "       '/バス(5分)善福寺下車徒歩1分', '徒歩25分', '/バス(15分)ふれあいの家下車',\n",
       "       '/バス(13分)水元そよかぜ園下車徒歩1分', '/バス(15分)水元4丁目下車徒歩28分',\n",
       "       '/バス(25分)武蔵関駅下車徒歩7分', '/バス(15分)越後山下車徒歩4分', '徒歩27分', '徒歩28分',\n",
       "       '徒歩33分', '/バス(9分)西長久保下車徒歩1分', '/バス(16分)亀26\\u3000松江下車徒歩5分', '徒歩26分',\n",
       "       '/バス(23分)葛飾車庫入口下車徒歩11分', '/バス(10分)大田文化の森下車徒歩3分',\n",
       "       '/バス(18分)幸田小学校下車徒歩3分', '/バス(11分)水元そよかぜ園下車徒歩6分',\n",
       "       '/バス(16分)佐野センター前下車徒歩34分', '/バス(15分)花畑団地下車徒歩10分',\n",
       "       '/バス(15分)水元そよかぜ園下車徒歩2分', '/バス(12分)六木団地下車徒歩3分',\n",
       "       '/バス(19分)大泉学園町八丁目下車徒歩2分', '/バス(18分)本木新道下車徒歩3分',\n",
       "       '/バス(13分)砧南中学校前下車徒歩4分', '徒歩38分', '/バス(10分)鹿骨五丁目下車徒歩3分',\n",
       "       '/バス(3分)桑川町下車徒歩7分', '/バス(12分)関町郵便局前下車徒歩5分', '/バス(5分)日産自動車前下車徒歩4分',\n",
       "       '/バス(12分)水元2丁目下車徒歩2分', '/バス(10分)富士公園下車徒歩3分',\n",
       "       '/バス(18分)京成バス\\u3000大杉3丁目下車徒歩1分', '/バス(10分)都民農園下車徒歩3分',\n",
       "       '/バス(12分)土支田二丁目下車徒歩6分', '/バス(12分)西長久保下車徒歩3分',\n",
       "       '/バス(14分)土支田三丁目下車徒歩3分', '/バス(9分)ハートアイランド南下車徒歩1分',\n",
       "       '/バス(14分)西水元2丁目下車徒歩2分', '/バス(9分)砧町下車徒歩3分', '/バス(15分)大泉風致地区下車徒歩3分',\n",
       "       '/バス(21分)吉祥寺通り入口下車徒歩5分', '/バス(15分)水元神社前下車徒歩4分',\n",
       "       '/バス(13分)水元3丁目下車徒歩1分', '/バス(14分)代沢一丁目下車徒歩5分',\n",
       "       '/バス(12分)東小松川一丁目下車徒歩7分', '/バス(18分)鎌田下車徒歩4分',\n",
       "       '/バス(8分)足立スポーツセンター下車徒歩2分', '/バス(8分)都民農園下車徒歩2分',\n",
       "       '/バス(18分)扇2丁目下車徒歩3分', '/バス(20分)土支田三丁目下車徒歩3分',\n",
       "       '/バス(10分)次大夫堀公園下車徒歩3分', '/バス(10分)関町3下車徒歩3分', '/バス(7分)大泉桜高校下車徒歩1分',\n",
       "       '/バス(12分)水元四丁目下車徒歩3分', '/バス(14分)西水元二丁目下車徒歩38分', '徒歩36分',\n",
       "       '/バス(23分)北大泉下車徒歩8分', '/バス(17分)新広橋下車徒歩1分', '/バス(9分)松本橋東詰下車徒歩3分',\n",
       "       '/バス(17分)足立郷土博物館下車徒歩23分', '/バス(15分)大泉風致地区下車徒歩2分',\n",
       "       '/バス(20分)関町北一丁目下車徒歩3分', '/バス(10分)有27\\u3000西水元一下車徒歩3分',\n",
       "       '/バス(5分)三原台北下車徒歩3分', '/バス(10分)公園橋下車徒歩29分', '/バス(6分)鹿骨下車徒歩24分',\n",
       "       '徒歩32分', '/バス(10分)大泉第三小下車徒歩1分', '/バス(12分)宇奈根地区会館前下車徒歩4分',\n",
       "       '/バス(15分)綾21\\u3000六木小下車徒歩5分', '/バス(20分)六木都住下車徒歩2分',\n",
       "       '/バス(19分)鹿浜四丁目下車徒歩2分', '/バス(5分)堀江団地下車徒歩4分', '/バス(15分)鹿浜橋下車徒歩3分',\n",
       "       '/バス(16分)桜木橋北詰下車徒歩8分', '/バス(9分)北出張所下車徒歩3分', '徒歩34分',\n",
       "       '/バス(1分)深沢小学校前\\u3000\\u3000徒歩1分下車徒歩10分', '/バス(9分)松本弁天下車徒歩25分',\n",
       "       '/バス(8分)大泉学園町八丁目下車徒歩3分', '/バス(4分)川南下車徒歩6分',\n",
       "       '/バス(6分)入新井第四小学校下車徒歩5分', '/バス(7分)関町南2丁目下車徒歩2分',\n",
       "       '/バス(16分)都民農園下車徒歩1分', '/バス(12分)永安寺前下車徒歩5分', '/バス(15分)長久保下車徒歩1分',\n",
       "       '/バス(9分)ふれあいの家下車徒歩11分', '徒歩39分', '/バス(7分)西長久保下車徒歩2分',\n",
       "       '/バス(12分)天沼マーケット前下車徒歩5分', '/バス(5分)元競馬場下車徒歩4分',\n",
       "       '/バス(15分)久保新田停留所下車徒歩4分', '/バス(14分)樫の木公園前下車徒歩9分',\n",
       "       '/バス(14分)立野橋下車徒歩5分', '/バス(9分)風致地区下車徒歩32分', '/バス(15分)佐野センター前下車徒歩2分',\n",
       "       '車3km(15分)', '/バス(10分)水元4丁目下車徒歩3分', '/バス(20分)幸田小学校下車徒歩3分',\n",
       "       '/バス(10分)スポーツランド入口下車徒歩18分', '/バス(12分)大杉3丁目停下車徒歩1分',\n",
       "       '/バス(11分)永安寺下車徒歩1分', '/バス(15分)西水元2丁目下車', '/バス(15分)西水元2丁目下車徒歩2分',\n",
       "       '/バス(13分)長久保下車徒歩1分', '/バス(10分)千歳台6丁目下車徒歩7分', '/バス(4分)ときわ橋下車徒歩8分',\n",
       "       '/バス(8分)プロムナード荻窪下車徒歩1分', '/バス(13分)長久保下車徒歩5分',\n",
       "       '/バス(10分)大泉郵便局下車徒歩3分', '/バス(10分)あいぐみ公園前下車徒歩2分', '徒歩30分',\n",
       "       '/バス(15分)青梅街道営業所下車徒歩3分', '/バス(10分)谷原中下車徒歩5分', '/バス(7分)北大泉下車徒歩4分',\n",
       "       '/バス(16分)土支田二丁目下車徒歩8分', '/バス(20分)下宿下車徒歩2分', '/バス(10分)谷原5丁目下車徒歩16分',\n",
       "       '/バス(2分)稲荷前下車徒歩12分', '/バス(14分)西水元一丁目下車徒歩1分', '/バス(15分)橋戸小学校下車徒歩8分',\n",
       "       '/バス(11分)上祖師谷四丁目下車徒歩4分', '/バス(15分)都民住宅下車徒歩1分', '/バス(2分)鹿骨五下車徒歩29分',\n",
       "       '/バス(12分)長久保下車徒歩3分', '/バス(20分)法林寺下車徒歩2分', '/バス(20分)関町南三丁目下車徒歩1分',\n",
       "       '/バス(19分)花畑三丁目下車徒歩6分', '/バス(5分)三軒寺下車徒歩20分', '/バス(10分)生活実習所前下車徒歩3分',\n",
       "       '/バス(10分)大泉風致地区下車徒歩2分', '/バス(12分)樫の木公園前下車徒歩3分',\n",
       "       '/バス(13分)水元2丁目下車徒歩1分', '/バス(20分)綾21\\u3000六ツ木都住下車徒歩2分',\n",
       "       '/バス(20分)新広橋下車徒歩1分', '/バス(10分)大泉町四丁目下車徒歩5分', '/バス(12分)飯塚橋下車徒歩2分',\n",
       "       '/バス(8分)京葉交差点下車徒歩27分', '/バス(15分)水元高校下車徒歩2分', '/バス(8分)北出張所下車徒歩12分',\n",
       "       '/バス(15分)本木新道下車徒歩2分', '/バス(12分)樫の木公園前下車徒歩6分',\n",
       "       '/バス(16分)大泉第一小学校下車徒歩5分', '徒歩31分', '/バス(12分)関町北3下車徒歩1分',\n",
       "       '/バス(17分)北大泉下車徒歩5分', '/バス(7分)泉38-2\\u3000大泉学園幼稚園前下車徒歩2分',\n",
       "       '/バス(15分)本木小学校下車徒歩2分', '/バス(12分)北01\\u3000本木新道下車徒歩3分',\n",
       "       '/バス(10分)古千谷下車徒歩1分', '/バス(12分)武蔵関駅下車徒歩6分', '/バス(9分)越後山下車徒歩6分',\n",
       "       '/バス(10分)大泉町4丁目下車徒歩5分', '/バス(12分)大泉学園町8丁目下車徒歩1分',\n",
       "       '/バス(6分)谷原中学校下車徒歩1分', '/バス(20分)西水元2丁目下車徒歩2分',\n",
       "       '/バス(10分)小松川警察署前下車徒歩45分', '/バス(13分)大泉町2丁目下車徒歩8分',\n",
       "       '/バス(8分)平井大橋下車徒歩20分', '/バス(20分)西水元4丁目下車徒歩3分', '徒歩42分',\n",
       "       '/バス(19分)綾61\\u3000神明町下車徒歩3分', '/バス(6分)一之江高速入口下車徒歩20分',\n",
       "       '/バス(5分)吉祥寺駅南口行\\u3000とき下車徒歩4分', '/バス(15分)水元小学校下車徒歩2分',\n",
       "       '/バス(6分)総合レクレーション公下車徒歩23分', '/バス(14分)大泉学園町四丁目下車徒歩4分',\n",
       "       '/バス(8分)南葛西小学校前下車徒歩4分', '/バス(5分)風致地区下車徒歩10分',\n",
       "       '/バス(10分)池上営業所下車徒歩7分', '/バス(8分)大泉学園4丁目下車徒歩5分', '/バス(12分)水道端下車徒歩3分',\n",
       "       '/バス(7分)あいぐみ公園下車徒歩4分', '/バス(9分)中央三丁目下車徒歩1分',\n",
       "       '/バス(9分)西一之江二丁目下車徒歩5分', '/バス(11分)土支田八幡下車徒歩5分',\n",
       "       '/バス(17分)深沢小学校下車徒歩3分', '/バス(8分)関町南二丁目下車徒歩3分',\n",
       "       '/バス(15分)水元5丁目下車徒歩4分', '/バス(17分)足立郷土博物館下車徒歩4分',\n",
       "       '/バス(5分)石神井団地入口下車徒歩18分', '/バス(18分)西水元2丁目下車徒歩6分',\n",
       "       '/バス(5分)大泉風致地区下車徒歩5分', '/バス(12分)慈雲堂前下車徒歩1分', '/バス(14分)同潤会下車徒歩3分',\n",
       "       '/バス(15分)西篠崎1丁目下車徒歩3分', '/バス(10分)北出張所前下車徒歩1分',\n",
       "       '/バス(5分)スポーツセンター前下車徒歩25分', '/バス(9分)大泉学園小学校入り口下車徒歩3分',\n",
       "       '/バス(9分)大泉風致地区下車徒歩7分', '/バス(11分)水元神社前下車徒歩2分', '/バス(8分)大泉郵便局下車徒歩2分',\n",
       "       '/バス(10分)谷原中学校下車徒歩4分', '/バス(12分)都営住宅前下車徒歩2分', '/バス(23分)和光市南下車徒歩5分',\n",
       "       '/バス(15分)水元小学校下車徒歩3分', '/バス(10分)次大夫堀公園前下車徒歩6分',\n",
       "       '/バス(12分)地区会館前下車徒歩4分', '/バス(7分)西新井橋下車徒歩3分', '/バス(19分)あたご橋下車徒歩6分',\n",
       "       '/バス(8分)次太夫堀公園前下車徒歩1分', '/バス(11分)宇奈根地区会館下車徒歩6分', '/バス(7分)水元4丁目下車',\n",
       "       '/バス(9分)ふれあいの家下車', '/バス(20分)岡本3丁目下車徒歩5分',\n",
       "       '/バス(15分)京成バス「西水元2丁目」下車徒歩2分', '/バス(15分)土支田二丁目下車徒歩6分',\n",
       "       '/バス(10分)新川橋下車徒歩22分', '徒歩40分', '/バス(15分)大泉第一小学校下車徒歩9分',\n",
       "       '/バス(6分)元競馬場前下車徒歩15分', '/バス(11分)牟礼前下車徒歩2分', '/バス(15分)西水元4丁目下車徒歩1分',\n",
       "       '/バス(11分)富士神社入口下車徒歩1分', '/バス(20分)花畑六丁目東下車徒歩1分', '/バス(10分)松江下車徒歩2分',\n",
       "       '車3.1km(10分)', '/バス(17分)都バス\\u3000松江第1中学校前下車徒歩4分',\n",
       "       '/バス(9分)交通安全教育センター下車徒歩7分', '/バス(16分)西水元4丁目下車徒歩2分',\n",
       "       '/バス(10分)鎌田下車徒歩6分', '/バス(16分)久保新田下車徒歩2分', '/バス(10分)水元中学校下車徒歩1分',\n",
       "       '/バス(20分)大泉町1丁目下車徒歩5分', '徒歩43分', '/バス(11分)リブレ京成下車徒歩3分',\n",
       "       '/バス(6分)関町南2丁目下車徒歩4分', '/バス(5分)大泉北中学校入口下車徒歩7分',\n",
       "       '/バス(8分)関町南二丁目下車徒歩17分', '/バス(7分)北出張所前下車徒歩9分',\n",
       "       '/バス(5分)江戸川区役所下車徒歩5分', '/バス(20分)大杉第二小学校前下車徒歩33分',\n",
       "       '/バス(4分)住宅前(練馬区)下車徒歩8分', '車3.9km(11分)', '/バス(8分)三原台中学校下車徒歩1分',\n",
       "       '/バス(7分)大泉桜高校下車徒歩3分', '/バス(25分)西水元4丁目下車徒歩3分', '/バス(12分)西新井橋下車徒歩4分',\n",
       "       '/バス(10分)大杉4丁目下車徒歩2分', '/バス(10分)006\\u3000大泉風致地区下車徒歩3分',\n",
       "       '/バス(13分)長久保下車徒歩2分', '/バス(12分)水元神社前下車徒歩2分',\n",
       "       '/バス(9分)都バス\\u3000ハートアイランド南下車徒歩1分', '/バス(8分)水元公園下車',\n",
       "       '/バス(7分)大泉風致地区下車徒歩4分', '/バス(18分)大杉第二小学校下車徒歩3分',\n",
       "       '/バス(15分)新広橋下車徒歩1分', '/バス(10分)公園入口下車徒歩1分', '/バス(10分)西大泉郵便局前下車徒歩4分',\n",
       "       '徒歩49分', '/バス(10分)大泉風致地区下車徒歩3分', '/バス(15分)水元2丁目下車徒歩2分',\n",
       "       '/バス(12分)北出張所下車徒歩1分', '/バス(14分)大泉学園町4丁目下車徒歩4分',\n",
       "       '/バス(10分)なぎさニュータウン下車徒歩33分', '/バス(9分)関町南三丁目下車徒歩2分',\n",
       "       '/バス(10分)大泉町四丁目下車徒歩4分', '/バス(14分)都民農園(バス)下車徒歩3分',\n",
       "       '/バス(7分)松本1丁目下車徒歩2分', '/バス(8分)清水二丁目下車徒歩2分', '/バス(19分)森ヶ崎十字路下車徒歩3分',\n",
       "       '/バス(15分)水元5丁目停下車徒歩2分', '/バス(12分)長久保下車徒歩1分', '/バス(16分)長久保下車徒歩2分',\n",
       "       '/バス(10分)NTT江戸川下車徒歩3分', '/バス(6分)天神橋下車徒歩5分', '徒歩35分',\n",
       "       '/バス(5分)廻沢下車徒歩3分', '/バス(13分)そよかぜ園下車徒歩1分', '/バス(20分)扇大橋停下車徒歩5分',\n",
       "       '/バス(10分)永安寺前下車徒歩1分', '/バス(10分)鎌田下車徒歩4分', '/バス(12分)花畑六丁目下車徒歩6分',\n",
       "       '/バス(8分)鹿浜橋下車徒歩3分', '/バス(6分)関町南二丁目下車徒歩18分', '/バス(8分)関町南2丁目下車徒歩25分',\n",
       "       '/バス(19分)葛飾清掃工場下車徒歩8分', '/バス(15分)花畑3丁目下車徒歩1分', '/バス(10分)鎌田下車徒歩8分',\n",
       "       '/バス(8分)王子板紙裏門下車徒歩1分', '/バス(13分)そよかぜ園下車徒歩2分', '/バス(8分)臼田坂上下車徒歩1分',\n",
       "       '/バス(17分)小関下車徒歩1分', '/バス(15分)水元高校下車徒歩3分', '/バス(12分)佐野センター前下車徒歩2分',\n",
       "       '/バス(9分)東小松川一丁目下車徒歩2分', '/バス(14分)土支田二丁目下車徒歩6分',\n",
       "       '/バス(18分)土支田八幡下車徒歩5分', '/バス(10分)関町南3丁目下車徒歩3分', '/バス(12分)北篠崎下車徒歩4分',\n",
       "       '/バス(11分)松江下車徒歩3分', '/バス(10分)本木新道下車徒歩2分', '/バス(7分)関町南二丁目下車徒歩1分',\n",
       "       '/バス(10分)バス下車', '/バス(13分)都バス\\u3000東小松川一丁目下車徒歩1分',\n",
       "       '/バス(6分)新町商店街入口下車徒歩19分', '/バス(10分)蒲田下車徒歩9分', '/バス(7分)大泉風致地区下車徒歩8分',\n",
       "       '/バス(6分)大泉北中入口下車徒歩5分', '/バス(15分)水元小学校前下車徒歩2分', '/バス(8分)保木間下車徒歩3分',\n",
       "       '/バス(12分)東深沢小学校下車徒歩1分', '/バス(6分)北出張所下車徒歩15分', '/バス(10分)永安寺前下車徒歩5分',\n",
       "       '/バス(15分)宮城都営住宅前下車徒歩1分', '/バス(25分)西水元3丁目下車徒歩4分',\n",
       "       '/バス(9分)ふれあいの家下車徒歩34分', '/バス(7分)臼田坂下下車徒歩3分', '/バス(10分)坂下下車徒歩1分',\n",
       "       '/バス(12分)宇奈根地区会館下車徒歩5分', '/バス(7分)農業試験場下車徒歩24分',\n",
       "       '/バス(10分)東武バス\\u3000関原2丁目下車徒歩4分', '/バス(23分)新小岩駅前下車徒歩15分',\n",
       "       '/バス(13分)大泉学園町八丁目下車徒歩2分', '/バス(11分)砧町下車徒歩2分',\n",
       "       '/バス(15分)扇大橋北詰下車徒歩3分', '/バス(6分)住宅前下車徒歩4分', '/バス(10分)大泉風致地区下車徒歩1分',\n",
       "       '/バス(15分)大泉学園町四丁目下車徒歩4分', '/バス(10分)北出張所下車徒歩5分',\n",
       "       '/バス(7分)関町南2丁目下車徒歩3分', '/バス(6分)関町一丁目下車徒歩1分', '/バス(10分)井草八幡宮下車徒歩3分',\n",
       "       '/バス(10分)佐野センター下車徒歩1分', '/バス(12分)南小岩停下車徒歩26分',\n",
       "       '/バス(10分)鹿骨五丁目下車徒歩1分', '/バス(27分)大泉風致地区下車徒歩2分', '/バス(10分)八丁下車徒歩1分',\n",
       "       '/バス(11分)奥戸六丁目下車徒歩18分', '/バス(18分)土支田八幡下車徒歩23分',\n",
       "       '/バス(14分)西水元二丁目下車徒歩6分', '/バス(15分)東武バス\\u3000興本センター前下車徒歩3分',\n",
       "       '/バス(16分)千歳台下車徒歩2分', '/バス(7分)北出張所下車徒歩7分', '/バス(15分)水元神社前下車徒歩2分',\n",
       "       '/バス(4分)大鳥前下車徒歩3分', '/バス(13分)長久保\\u3000停歩5分下車徒歩35分',\n",
       "       '/バス(16分)松本弁天下車徒歩1分', '/バス(16分)大泉学園町八丁目下車徒歩4分', '/バス(8分)水元4丁目下車',\n",
       "       '/バス(15分)西長久保下車徒歩3分', '/バス(12分)鎌田下車徒歩5分', '/バス(6分)鹿浜五丁目下車徒歩2分',\n",
       "       '/バス(10分)鹿骨五丁目下車徒歩4分', '/バス(18分)上石神井中学校入口下車徒歩2分',\n",
       "       '/バス(16分)大泉学園八丁目下車徒歩2分', '/バス(10分)風致地区下車徒歩9分', '徒歩44分',\n",
       "       '/バス(25分)西水元3丁目下車徒歩6分', '/バス(11分)王子マテリア裏門下車徒歩16分',\n",
       "       '/バス(15分)長久保下車徒歩5分', '/バス(11分)関町2丁目下車徒歩4分', '/バス(15分)リブレ京成前下車徒歩1分',\n",
       "       '/バス(16分)大杉第二小学校下車徒歩4分', '/バス(17分)なかよし通り(バス)下車徒歩1分',\n",
       "       '/バス(20分)大泉学園町四丁目下車徒歩4分', '/バス(10分)立野通り水道端下車徒歩1分',\n",
       "       '/バス(15分)西水元2丁目下車徒歩1分', '/バス(15分)土支田3丁目下車徒歩2分',\n",
       "       '/バス(10分)花畑四丁目下車徒歩8分', '/バス(7分)池上営業所前下車徒歩1分',\n",
       "       '/バス(7分)池上営業所前下車徒歩3分', '/バス(20分)前沼橋下車徒歩3分'], dtype=object)"
      ]
     },
     "execution_count": 136,
     "metadata": {},
     "output_type": "execute_result"
    }
   ],
   "source": [
    "df[2].unique()"
   ]
  },
  {
   "cell_type": "code",
   "execution_count": 137,
   "metadata": {},
   "outputs": [
    {
     "data": {
      "text/html": [
       "<div>\n",
       "<style scoped>\n",
       "    .dataframe tbody tr th:only-of-type {\n",
       "        vertical-align: middle;\n",
       "    }\n",
       "\n",
       "    .dataframe tbody tr th {\n",
       "        vertical-align: top;\n",
       "    }\n",
       "\n",
       "    .dataframe thead th {\n",
       "        text-align: right;\n",
       "    }\n",
       "</style>\n",
       "<table border=\"1\" class=\"dataframe\">\n",
       "  <thead>\n",
       "    <tr style=\"text-align: right;\">\n",
       "      <th></th>\n",
       "      <th>0</th>\n",
       "      <th>1</th>\n",
       "    </tr>\n",
       "  </thead>\n",
       "  <tbody>\n",
       "    <tr>\n",
       "      <th>0</th>\n",
       "      <td>徒歩4分</td>\n",
       "      <td>None</td>\n",
       "    </tr>\n",
       "    <tr>\n",
       "      <th>1</th>\n",
       "      <td>徒歩5分</td>\n",
       "      <td>None</td>\n",
       "    </tr>\n",
       "    <tr>\n",
       "      <th>2</th>\n",
       "      <td>徒歩6分</td>\n",
       "      <td>None</td>\n",
       "    </tr>\n",
       "  </tbody>\n",
       "</table>\n",
       "</div>"
      ],
      "text/plain": [
       "      0     1\n",
       "0  徒歩4分  None\n",
       "1  徒歩5分  None\n",
       "2  徒歩6分  None"
      ]
     },
     "execution_count": 137,
     "metadata": {},
     "output_type": "execute_result"
    }
   ],
   "source": [
    "df_2 = df[2].str.split(\"/\", expand=True)\n",
    "df_2.head(3)"
   ]
  },
  {
   "cell_type": "code",
   "execution_count": 138,
   "metadata": {},
   "outputs": [
    {
     "data": {
      "text/plain": [
       "array(['徒歩4分', '徒歩5分', '徒歩6分', '徒歩9分', '徒歩2分', '徒歩7分', '徒歩3分', '徒歩8分',\n",
       "       '徒歩15分', '徒歩11分', '徒歩10分', '徒歩13分', '徒歩12分', '徒歩22分', '徒歩1分',\n",
       "       '徒歩19分', '徒歩18分', '徒歩23分', '徒歩17分', '徒歩20分', '', '徒歩14分', '徒歩24分',\n",
       "       '徒歩16分', '徒歩29分', '徒歩37分', '徒歩21分', '徒歩25分', '徒歩27分', '徒歩28分',\n",
       "       '徒歩33分', '徒歩26分', '徒歩38分', '徒歩36分', '徒歩32分', '徒歩34分', '徒歩39分',\n",
       "       '車3km(15分)', '徒歩30分', '徒歩31分', '徒歩42分', '徒歩40分', '車3.1km(10分)',\n",
       "       '徒歩43分', '車3.9km(11分)', '徒歩49分', '徒歩35分', '徒歩44分'], dtype=object)"
      ]
     },
     "execution_count": 138,
     "metadata": {},
     "output_type": "execute_result"
    }
   ],
   "source": [
    "df_2[0].unique()"
   ]
  },
  {
   "cell_type": "code",
   "execution_count": 139,
   "metadata": {},
   "outputs": [
    {
     "data": {
      "text/plain": [
       "Index(['所在地', 'アクセス', '間取り', '方角', '面積', '所在階', 'バス・トイレ', 'キッチン', '放送・通信',\n",
       "       '室内設備', '駐車場', '周辺環境', '建物構造', '契約期間', '築年数_月', '階建', '所在階_地下', '階建_地下',\n",
       "       '納戸', '間取り_D', '間取り_K', '間取り_L', '間取り_R', '間取り_S', '間取り_数', '方角_南',\n",
       "       '方角_東', '方角_西', '方角_北', '契約期間_定期借家', '契約期間_月', '所在地_区', 'アクセス_線_1',\n",
       "       'アクセス_駅_1'],\n",
       "      dtype='object')"
      ]
     },
     "execution_count": 139,
     "metadata": {},
     "output_type": "execute_result"
    }
   ],
   "source": [
    "total_data.columns"
   ]
  },
  {
   "cell_type": "code",
   "execution_count": 140,
   "metadata": {},
   "outputs": [],
   "source": [
    "total_data[\"アクセス_駅_1_徒歩_分\"] = df_2[0].where(df_2[0].str.contains(\"徒歩\", regex=False))"
   ]
  },
  {
   "cell_type": "code",
   "execution_count": 141,
   "metadata": {},
   "outputs": [],
   "source": [
    "total_data[\"アクセス_駅_1_徒歩_分\"] = total_data[\"アクセス_駅_1_徒歩_分\"].str.strip(\"徒歩分\").astype(float)"
   ]
  },
  {
   "cell_type": "code",
   "execution_count": 142,
   "metadata": {},
   "outputs": [
    {
     "data": {
      "text/plain": [
       "array([ 4.,  5.,  6.,  9.,  2.,  7.,  3.,  8., 15., 11., 10., 13., 12.,\n",
       "       22.,  1., 19., 18., 23., 17., 20., nan, 14., 24., 16., 29., 37.,\n",
       "       21., 25., 27., 28., 33., 26., 38., 36., 32., 34., 39., 30., 31.,\n",
       "       42., 40., 43., 49., 35., 44.])"
      ]
     },
     "execution_count": 142,
     "metadata": {},
     "output_type": "execute_result"
    }
   ],
   "source": [
    "total_data[\"アクセス_駅_1_徒歩_分\"].unique()"
   ]
  },
  {
   "cell_type": "code",
   "execution_count": 143,
   "metadata": {},
   "outputs": [],
   "source": [
    "total_data[\"アクセス_駅_1_車_分\"] = df_2[0].where(df_2[0].str.contains(\"徒歩\", regex=False)==False)"
   ]
  },
  {
   "cell_type": "code",
   "execution_count": 144,
   "metadata": {},
   "outputs": [],
   "source": [
    "total_data[\"アクセス_駅_1_車_分\"] = total_data[\"アクセス_駅_1_車_分\"].replace(r'^\\s*$', np.nan, regex=True)"
   ]
  },
  {
   "cell_type": "code",
   "execution_count": 145,
   "metadata": {},
   "outputs": [
    {
     "data": {
      "text/plain": [
       "array([nan, '車3km(15分)', '車3.1km(10分)', '車3.9km(11分)'], dtype=object)"
      ]
     },
     "execution_count": 145,
     "metadata": {},
     "output_type": "execute_result"
    }
   ],
   "source": [
    "total_data[\"アクセス_駅_1_車_分\"].unique()"
   ]
  },
  {
   "cell_type": "code",
   "execution_count": 146,
   "metadata": {},
   "outputs": [],
   "source": [
    "total_data[\"アクセス_駅_1_車_分\"] = total_data[\"アクセス_駅_1_車_分\"].str.replace(\"車3km(15分)\", \"15\", regex=False)\n",
    "total_data[\"アクセス_駅_1_車_分\"] = total_data[\"アクセス_駅_1_車_分\"].str.replace(\"車3.1km(10分)\", \"10\", regex=False)\n",
    "total_data[\"アクセス_駅_1_車_分\"] = total_data[\"アクセス_駅_1_車_分\"].str.replace(\"車3.9km(11分)\", \"11\", regex=False)\n",
    "total_data[\"アクセス_駅_1_車_分\"] = total_data[\"アクセス_駅_1_車_分\"].astype(float)"
   ]
  },
  {
   "cell_type": "code",
   "execution_count": 147,
   "metadata": {},
   "outputs": [
    {
     "data": {
      "text/plain": [
       "array([nan, 15., 10., 11.])"
      ]
     },
     "execution_count": 147,
     "metadata": {},
     "output_type": "execute_result"
    }
   ],
   "source": [
    "total_data[\"アクセス_駅_1_車_分\"].unique()"
   ]
  },
  {
   "cell_type": "code",
   "execution_count": 148,
   "metadata": {},
   "outputs": [
    {
     "data": {
      "text/plain": [
       "array([None, 'バス(6分)都民農園下車徒歩1分', 'バス(19分)長久保下車徒歩2分', 'バス(7分)大泉風致地区下車徒歩5分',\n",
       "       'バス(10分)関町郵便局前下車徒歩1分', 'バス(16分)新小71\\u3000農業試験場下車徒歩3分',\n",
       "       'バス(18分)土支田二丁目下車徒歩5分', 'バス(12分)比丘尼橋下車徒歩3分', 'バス(10分)団地入口下車徒歩3分',\n",
       "       'バス(5分)善福寺下車徒歩1分', 'バス(15分)ふれあいの家下車', 'バス(13分)水元そよかぜ園下車徒歩1分',\n",
       "       'バス(15分)水元4丁目下車徒歩28分', 'バス(25分)武蔵関駅下車徒歩7分', 'バス(15分)越後山下車徒歩4分',\n",
       "       'バス(9分)西長久保下車徒歩1分', 'バス(16分)亀26\\u3000松江下車徒歩5分',\n",
       "       'バス(23分)葛飾車庫入口下車徒歩11分', 'バス(10分)大田文化の森下車徒歩3分',\n",
       "       'バス(18分)幸田小学校下車徒歩3分', 'バス(11分)水元そよかぜ園下車徒歩6分',\n",
       "       'バス(16分)佐野センター前下車徒歩34分', 'バス(15分)花畑団地下車徒歩10分',\n",
       "       'バス(15分)水元そよかぜ園下車徒歩2分', 'バス(12分)六木団地下車徒歩3分',\n",
       "       'バス(19分)大泉学園町八丁目下車徒歩2分', 'バス(18分)本木新道下車徒歩3分',\n",
       "       'バス(13分)砧南中学校前下車徒歩4分', 'バス(10分)鹿骨五丁目下車徒歩3分', 'バス(3分)桑川町下車徒歩7分',\n",
       "       'バス(12分)関町郵便局前下車徒歩5分', 'バス(5分)日産自動車前下車徒歩4分', 'バス(12分)水元2丁目下車徒歩2分',\n",
       "       'バス(10分)富士公園下車徒歩3分', 'バス(18分)京成バス\\u3000大杉3丁目下車徒歩1分',\n",
       "       'バス(10分)都民農園下車徒歩3分', 'バス(12分)土支田二丁目下車徒歩6分', 'バス(12分)西長久保下車徒歩3分',\n",
       "       'バス(14分)土支田三丁目下車徒歩3分', 'バス(9分)ハートアイランド南下車徒歩1分',\n",
       "       'バス(14分)西水元2丁目下車徒歩2分', 'バス(9分)砧町下車徒歩3分', 'バス(15分)大泉風致地区下車徒歩3分',\n",
       "       'バス(21分)吉祥寺通り入口下車徒歩5分', 'バス(15分)水元神社前下車徒歩4分', 'バス(13分)水元3丁目下車徒歩1分',\n",
       "       'バス(14分)代沢一丁目下車徒歩5分', 'バス(12分)東小松川一丁目下車徒歩7分', 'バス(18分)鎌田下車徒歩4分',\n",
       "       'バス(8分)足立スポーツセンター下車徒歩2分', 'バス(8分)都民農園下車徒歩2分', 'バス(18分)扇2丁目下車徒歩3分',\n",
       "       'バス(20分)土支田三丁目下車徒歩3分', 'バス(10分)次大夫堀公園下車徒歩3分', 'バス(10分)関町3下車徒歩3分',\n",
       "       'バス(7分)大泉桜高校下車徒歩1分', 'バス(12分)水元四丁目下車徒歩3分', 'バス(14分)西水元二丁目下車徒歩38分',\n",
       "       'バス(23分)北大泉下車徒歩8分', 'バス(17分)新広橋下車徒歩1分', 'バス(9分)松本橋東詰下車徒歩3分',\n",
       "       'バス(17分)足立郷土博物館下車徒歩23分', 'バス(15分)大泉風致地区下車徒歩2分',\n",
       "       'バス(20分)関町北一丁目下車徒歩3分', 'バス(10分)有27\\u3000西水元一下車徒歩3分',\n",
       "       'バス(5分)三原台北下車徒歩3分', 'バス(10分)公園橋下車徒歩29分', 'バス(6分)鹿骨下車徒歩24分',\n",
       "       'バス(10分)大泉第三小下車徒歩1分', 'バス(12分)宇奈根地区会館前下車徒歩4分',\n",
       "       'バス(15分)綾21\\u3000六木小下車徒歩5分', 'バス(20分)六木都住下車徒歩2分',\n",
       "       'バス(19分)鹿浜四丁目下車徒歩2分', 'バス(5分)堀江団地下車徒歩4分', 'バス(15分)鹿浜橋下車徒歩3分',\n",
       "       'バス(16分)桜木橋北詰下車徒歩8分', 'バス(9分)北出張所下車徒歩3分',\n",
       "       'バス(1分)深沢小学校前\\u3000\\u3000徒歩1分下車徒歩10分', 'バス(9分)松本弁天下車徒歩25分',\n",
       "       'バス(8分)大泉学園町八丁目下車徒歩3分', 'バス(4分)川南下車徒歩6分', 'バス(6分)入新井第四小学校下車徒歩5分',\n",
       "       'バス(7分)関町南2丁目下車徒歩2分', 'バス(16分)都民農園下車徒歩1分', 'バス(12分)永安寺前下車徒歩5分',\n",
       "       'バス(15分)長久保下車徒歩1分', 'バス(9分)ふれあいの家下車徒歩11分', 'バス(7分)西長久保下車徒歩2分',\n",
       "       'バス(12分)天沼マーケット前下車徒歩5分', 'バス(5分)元競馬場下車徒歩4分',\n",
       "       'バス(15分)久保新田停留所下車徒歩4分', 'バス(14分)樫の木公園前下車徒歩9分', 'バス(14分)立野橋下車徒歩5分',\n",
       "       'バス(9分)風致地区下車徒歩32分', 'バス(15分)佐野センター前下車徒歩2分', 'バス(10分)水元4丁目下車徒歩3分',\n",
       "       'バス(20分)幸田小学校下車徒歩3分', 'バス(10分)スポーツランド入口下車徒歩18分',\n",
       "       'バス(12分)大杉3丁目停下車徒歩1分', 'バス(11分)永安寺下車徒歩1分', 'バス(15分)西水元2丁目下車',\n",
       "       'バス(15分)西水元2丁目下車徒歩2分', 'バス(13分)長久保下車徒歩1分', 'バス(10分)千歳台6丁目下車徒歩7分',\n",
       "       'バス(4分)ときわ橋下車徒歩8分', 'バス(8分)プロムナード荻窪下車徒歩1分', 'バス(13分)長久保下車徒歩5分',\n",
       "       'バス(10分)大泉郵便局下車徒歩3分', 'バス(10分)あいぐみ公園前下車徒歩2分',\n",
       "       'バス(15分)青梅街道営業所下車徒歩3分', 'バス(10分)谷原中下車徒歩5分', 'バス(7分)北大泉下車徒歩4分',\n",
       "       'バス(16分)土支田二丁目下車徒歩8分', 'バス(20分)下宿下車徒歩2分', 'バス(10分)谷原5丁目下車徒歩16分',\n",
       "       'バス(2分)稲荷前下車徒歩12分', 'バス(14分)西水元一丁目下車徒歩1分', 'バス(15分)橋戸小学校下車徒歩8分',\n",
       "       'バス(11分)上祖師谷四丁目下車徒歩4分', 'バス(15分)都民住宅下車徒歩1分', 'バス(2分)鹿骨五下車徒歩29分',\n",
       "       'バス(12分)長久保下車徒歩3分', 'バス(20分)法林寺下車徒歩2分', 'バス(20分)関町南三丁目下車徒歩1分',\n",
       "       'バス(19分)花畑三丁目下車徒歩6分', 'バス(5分)三軒寺下車徒歩20分', 'バス(10分)生活実習所前下車徒歩3分',\n",
       "       'バス(10分)大泉風致地区下車徒歩2分', 'バス(12分)樫の木公園前下車徒歩3分', 'バス(13分)水元2丁目下車徒歩1分',\n",
       "       'バス(20分)綾21\\u3000六ツ木都住下車徒歩2分', 'バス(20分)新広橋下車徒歩1分',\n",
       "       'バス(10分)大泉町四丁目下車徒歩5分', 'バス(12分)飯塚橋下車徒歩2分', 'バス(8分)京葉交差点下車徒歩27分',\n",
       "       'バス(15分)水元高校下車徒歩2分', 'バス(8分)北出張所下車徒歩12分', 'バス(15分)本木新道下車徒歩2分',\n",
       "       'バス(12分)樫の木公園前下車徒歩6分', 'バス(16分)大泉第一小学校下車徒歩5分', 'バス(12分)関町北3下車徒歩1分',\n",
       "       'バス(17分)北大泉下車徒歩5分', 'バス(7分)泉38-2\\u3000大泉学園幼稚園前下車徒歩2分',\n",
       "       'バス(15分)本木小学校下車徒歩2分', 'バス(12分)北01\\u3000本木新道下車徒歩3分',\n",
       "       'バス(10分)古千谷下車徒歩1分', 'バス(12分)武蔵関駅下車徒歩6分', 'バス(9分)越後山下車徒歩6分',\n",
       "       'バス(10分)大泉町4丁目下車徒歩5分', 'バス(12分)大泉学園町8丁目下車徒歩1分',\n",
       "       'バス(6分)谷原中学校下車徒歩1分', 'バス(20分)西水元2丁目下車徒歩2分',\n",
       "       'バス(10分)小松川警察署前下車徒歩45分', 'バス(13分)大泉町2丁目下車徒歩8分',\n",
       "       'バス(8分)平井大橋下車徒歩20分', 'バス(20分)西水元4丁目下車徒歩3分',\n",
       "       'バス(19分)綾61\\u3000神明町下車徒歩3分', 'バス(6分)一之江高速入口下車徒歩20分',\n",
       "       'バス(5分)吉祥寺駅南口行\\u3000とき下車徒歩4分', 'バス(15分)水元小学校下車徒歩2分',\n",
       "       'バス(6分)総合レクレーション公下車徒歩23分', 'バス(14分)大泉学園町四丁目下車徒歩4分',\n",
       "       'バス(8分)南葛西小学校前下車徒歩4分', 'バス(5分)風致地区下車徒歩10分', 'バス(10分)池上営業所下車徒歩7分',\n",
       "       'バス(8分)大泉学園4丁目下車徒歩5分', 'バス(12分)水道端下車徒歩3分', 'バス(7分)あいぐみ公園下車徒歩4分',\n",
       "       'バス(9分)中央三丁目下車徒歩1分', 'バス(9分)西一之江二丁目下車徒歩5分', 'バス(11分)土支田八幡下車徒歩5分',\n",
       "       'バス(17分)深沢小学校下車徒歩3分', 'バス(8分)関町南二丁目下車徒歩3分', 'バス(15分)水元5丁目下車徒歩4分',\n",
       "       'バス(17分)足立郷土博物館下車徒歩4分', 'バス(5分)石神井団地入口下車徒歩18分',\n",
       "       'バス(18分)西水元2丁目下車徒歩6分', 'バス(5分)大泉風致地区下車徒歩5分', 'バス(12分)慈雲堂前下車徒歩1分',\n",
       "       'バス(14分)同潤会下車徒歩3分', 'バス(15分)西篠崎1丁目下車徒歩3分', 'バス(10分)北出張所前下車徒歩1分',\n",
       "       'バス(5分)スポーツセンター前下車徒歩25分', 'バス(9分)大泉学園小学校入り口下車徒歩3分',\n",
       "       'バス(9分)大泉風致地区下車徒歩7分', 'バス(11分)水元神社前下車徒歩2分', 'バス(8分)大泉郵便局下車徒歩2分',\n",
       "       'バス(10分)谷原中学校下車徒歩4分', 'バス(12分)都営住宅前下車徒歩2分', 'バス(23分)和光市南下車徒歩5分',\n",
       "       'バス(15分)水元小学校下車徒歩3分', 'バス(10分)次大夫堀公園前下車徒歩6分', 'バス(12分)地区会館前下車徒歩4分',\n",
       "       'バス(7分)西新井橋下車徒歩3分', 'バス(19分)あたご橋下車徒歩6分', 'バス(8分)次太夫堀公園前下車徒歩1分',\n",
       "       'バス(11分)宇奈根地区会館下車徒歩6分', 'バス(7分)水元4丁目下車', 'バス(9分)ふれあいの家下車',\n",
       "       'バス(20分)岡本3丁目下車徒歩5分', 'バス(15分)京成バス「西水元2丁目」下車徒歩2分',\n",
       "       'バス(15分)土支田二丁目下車徒歩6分', 'バス(10分)新川橋下車徒歩22分', 'バス(15分)大泉第一小学校下車徒歩9分',\n",
       "       'バス(6分)元競馬場前下車徒歩15分', 'バス(11分)牟礼前下車徒歩2分', 'バス(15分)西水元4丁目下車徒歩1分',\n",
       "       'バス(11分)富士神社入口下車徒歩1分', 'バス(20分)花畑六丁目東下車徒歩1分', 'バス(10分)松江下車徒歩2分',\n",
       "       'バス(17分)都バス\\u3000松江第1中学校前下車徒歩4分', 'バス(9分)交通安全教育センター下車徒歩7分',\n",
       "       'バス(16分)西水元4丁目下車徒歩2分', 'バス(10分)鎌田下車徒歩6分', 'バス(16分)久保新田下車徒歩2分',\n",
       "       'バス(10分)水元中学校下車徒歩1分', 'バス(20分)大泉町1丁目下車徒歩5分', 'バス(11分)リブレ京成下車徒歩3分',\n",
       "       'バス(6分)関町南2丁目下車徒歩4分', 'バス(5分)大泉北中学校入口下車徒歩7分',\n",
       "       'バス(8分)関町南二丁目下車徒歩17分', 'バス(7分)北出張所前下車徒歩9分', 'バス(5分)江戸川区役所下車徒歩5分',\n",
       "       'バス(20分)大杉第二小学校前下車徒歩33分', 'バス(4分)住宅前(練馬区)下車徒歩8分',\n",
       "       'バス(8分)三原台中学校下車徒歩1分', 'バス(7分)大泉桜高校下車徒歩3分', 'バス(25分)西水元4丁目下車徒歩3分',\n",
       "       'バス(12分)西新井橋下車徒歩4分', 'バス(10分)大杉4丁目下車徒歩2分',\n",
       "       'バス(10分)006\\u3000大泉風致地区下車徒歩3分', 'バス(13分)長久保下車徒歩2分',\n",
       "       'バス(12分)水元神社前下車徒歩2分', 'バス(9分)都バス\\u3000ハートアイランド南下車徒歩1分',\n",
       "       'バス(8分)水元公園下車', 'バス(7分)大泉風致地区下車徒歩4分', 'バス(18分)大杉第二小学校下車徒歩3分',\n",
       "       'バス(15分)新広橋下車徒歩1分', 'バス(10分)公園入口下車徒歩1分', 'バス(10分)西大泉郵便局前下車徒歩4分',\n",
       "       'バス(10分)大泉風致地区下車徒歩3分', 'バス(15分)水元2丁目下車徒歩2分', 'バス(12分)北出張所下車徒歩1分',\n",
       "       'バス(14分)大泉学園町4丁目下車徒歩4分', 'バス(10分)なぎさニュータウン下車徒歩33分',\n",
       "       'バス(9分)関町南三丁目下車徒歩2分', 'バス(10分)大泉町四丁目下車徒歩4分',\n",
       "       'バス(14分)都民農園(バス)下車徒歩3分', 'バス(7分)松本1丁目下車徒歩2分', 'バス(8分)清水二丁目下車徒歩2分',\n",
       "       'バス(19分)森ヶ崎十字路下車徒歩3分', 'バス(15分)水元5丁目停下車徒歩2分', 'バス(12分)長久保下車徒歩1分',\n",
       "       'バス(16分)長久保下車徒歩2分', 'バス(10分)NTT江戸川下車徒歩3分', 'バス(6分)天神橋下車徒歩5分',\n",
       "       'バス(5分)廻沢下車徒歩3分', 'バス(13分)そよかぜ園下車徒歩1分', 'バス(20分)扇大橋停下車徒歩5分',\n",
       "       'バス(10分)永安寺前下車徒歩1分', 'バス(10分)鎌田下車徒歩4分', 'バス(12分)花畑六丁目下車徒歩6分',\n",
       "       'バス(8分)鹿浜橋下車徒歩3分', 'バス(6分)関町南二丁目下車徒歩18分', 'バス(8分)関町南2丁目下車徒歩25分',\n",
       "       'バス(19分)葛飾清掃工場下車徒歩8分', 'バス(15分)花畑3丁目下車徒歩1分', 'バス(10分)鎌田下車徒歩8分',\n",
       "       'バス(8分)王子板紙裏門下車徒歩1分', 'バス(13分)そよかぜ園下車徒歩2分', 'バス(8分)臼田坂上下車徒歩1分',\n",
       "       'バス(17分)小関下車徒歩1分', 'バス(15分)水元高校下車徒歩3分', 'バス(12分)佐野センター前下車徒歩2分',\n",
       "       'バス(9分)東小松川一丁目下車徒歩2分', 'バス(14分)土支田二丁目下車徒歩6分', 'バス(18分)土支田八幡下車徒歩5分',\n",
       "       'バス(10分)関町南3丁目下車徒歩3分', 'バス(12分)北篠崎下車徒歩4分', 'バス(11分)松江下車徒歩3分',\n",
       "       'バス(10分)本木新道下車徒歩2分', 'バス(7分)関町南二丁目下車徒歩1分', 'バス(10分)バス下車',\n",
       "       'バス(13分)都バス\\u3000東小松川一丁目下車徒歩1分', 'バス(6分)新町商店街入口下車徒歩19分',\n",
       "       'バス(10分)蒲田下車徒歩9分', 'バス(7分)大泉風致地区下車徒歩8分', 'バス(6分)大泉北中入口下車徒歩5分',\n",
       "       'バス(15分)水元小学校前下車徒歩2分', 'バス(8分)保木間下車徒歩3分', 'バス(12分)東深沢小学校下車徒歩1分',\n",
       "       'バス(6分)北出張所下車徒歩15分', 'バス(10分)永安寺前下車徒歩5分', 'バス(15分)宮城都営住宅前下車徒歩1分',\n",
       "       'バス(25分)西水元3丁目下車徒歩4分', 'バス(9分)ふれあいの家下車徒歩34分', 'バス(7分)臼田坂下下車徒歩3分',\n",
       "       'バス(10分)坂下下車徒歩1分', 'バス(12分)宇奈根地区会館下車徒歩5分', 'バス(7分)農業試験場下車徒歩24分',\n",
       "       'バス(10分)東武バス\\u3000関原2丁目下車徒歩4分', 'バス(23分)新小岩駅前下車徒歩15分',\n",
       "       'バス(13分)大泉学園町八丁目下車徒歩2分', 'バス(11分)砧町下車徒歩2分', 'バス(15分)扇大橋北詰下車徒歩3分',\n",
       "       'バス(6分)住宅前下車徒歩4分', 'バス(10分)大泉風致地区下車徒歩1分', 'バス(15分)大泉学園町四丁目下車徒歩4分',\n",
       "       'バス(10分)北出張所下車徒歩5分', 'バス(7分)関町南2丁目下車徒歩3分', 'バス(6分)関町一丁目下車徒歩1分',\n",
       "       'バス(10分)井草八幡宮下車徒歩3分', 'バス(10分)佐野センター下車徒歩1分', 'バス(12分)南小岩停下車徒歩26分',\n",
       "       'バス(10分)鹿骨五丁目下車徒歩1分', 'バス(27分)大泉風致地区下車徒歩2分', 'バス(10分)八丁下車徒歩1分',\n",
       "       'バス(11分)奥戸六丁目下車徒歩18分', 'バス(18分)土支田八幡下車徒歩23分',\n",
       "       'バス(14分)西水元二丁目下車徒歩6分', 'バス(15分)東武バス\\u3000興本センター前下車徒歩3分',\n",
       "       'バス(16分)千歳台下車徒歩2分', 'バス(7分)北出張所下車徒歩7分', 'バス(15分)水元神社前下車徒歩2分',\n",
       "       'バス(4分)大鳥前下車徒歩3分', 'バス(13分)長久保\\u3000停歩5分下車徒歩35分',\n",
       "       'バス(16分)松本弁天下車徒歩1分', 'バス(16分)大泉学園町八丁目下車徒歩4分', 'バス(8分)水元4丁目下車',\n",
       "       'バス(15分)西長久保下車徒歩3分', 'バス(12分)鎌田下車徒歩5分', 'バス(6分)鹿浜五丁目下車徒歩2分',\n",
       "       'バス(10分)鹿骨五丁目下車徒歩4分', 'バス(18分)上石神井中学校入口下車徒歩2分',\n",
       "       'バス(16分)大泉学園八丁目下車徒歩2分', 'バス(10分)風致地区下車徒歩9分', 'バス(25分)西水元3丁目下車徒歩6分',\n",
       "       'バス(11分)王子マテリア裏門下車徒歩16分', 'バス(15分)長久保下車徒歩5分', 'バス(11分)関町2丁目下車徒歩4分',\n",
       "       'バス(15分)リブレ京成前下車徒歩1分', 'バス(16分)大杉第二小学校下車徒歩4分',\n",
       "       'バス(17分)なかよし通り(バス)下車徒歩1分', 'バス(20分)大泉学園町四丁目下車徒歩4分',\n",
       "       'バス(10分)立野通り水道端下車徒歩1分', 'バス(15分)西水元2丁目下車徒歩1分',\n",
       "       'バス(15分)土支田3丁目下車徒歩2分', 'バス(10分)花畑四丁目下車徒歩8分', 'バス(7分)池上営業所前下車徒歩1分',\n",
       "       'バス(7分)池上営業所前下車徒歩3分', 'バス(20分)前沼橋下車徒歩3分'], dtype=object)"
      ]
     },
     "execution_count": 148,
     "metadata": {},
     "output_type": "execute_result"
    }
   ],
   "source": [
    "df_2[1].unique()"
   ]
  },
  {
   "cell_type": "code",
   "execution_count": 149,
   "metadata": {},
   "outputs": [],
   "source": [
    "df_2_1 = df_2[1].str.split(\"分\", expand=True)"
   ]
  },
  {
   "cell_type": "code",
   "execution_count": 150,
   "metadata": {},
   "outputs": [
    {
     "data": {
      "text/html": [
       "<div>\n",
       "<style scoped>\n",
       "    .dataframe tbody tr th:only-of-type {\n",
       "        vertical-align: middle;\n",
       "    }\n",
       "\n",
       "    .dataframe tbody tr th {\n",
       "        vertical-align: top;\n",
       "    }\n",
       "\n",
       "    .dataframe thead th {\n",
       "        text-align: right;\n",
       "    }\n",
       "</style>\n",
       "<table border=\"1\" class=\"dataframe\">\n",
       "  <thead>\n",
       "    <tr style=\"text-align: right;\">\n",
       "      <th></th>\n",
       "      <th>0</th>\n",
       "      <th>1</th>\n",
       "      <th>2</th>\n",
       "      <th>3</th>\n",
       "    </tr>\n",
       "  </thead>\n",
       "  <tbody>\n",
       "    <tr>\n",
       "      <th>0</th>\n",
       "      <td>None</td>\n",
       "      <td>None</td>\n",
       "      <td>None</td>\n",
       "      <td>None</td>\n",
       "    </tr>\n",
       "    <tr>\n",
       "      <th>1</th>\n",
       "      <td>None</td>\n",
       "      <td>None</td>\n",
       "      <td>None</td>\n",
       "      <td>None</td>\n",
       "    </tr>\n",
       "    <tr>\n",
       "      <th>2</th>\n",
       "      <td>None</td>\n",
       "      <td>None</td>\n",
       "      <td>None</td>\n",
       "      <td>None</td>\n",
       "    </tr>\n",
       "    <tr>\n",
       "      <th>3</th>\n",
       "      <td>None</td>\n",
       "      <td>None</td>\n",
       "      <td>None</td>\n",
       "      <td>None</td>\n",
       "    </tr>\n",
       "    <tr>\n",
       "      <th>4</th>\n",
       "      <td>None</td>\n",
       "      <td>None</td>\n",
       "      <td>None</td>\n",
       "      <td>None</td>\n",
       "    </tr>\n",
       "  </tbody>\n",
       "</table>\n",
       "</div>"
      ],
      "text/plain": [
       "      0     1     2     3\n",
       "0  None  None  None  None\n",
       "1  None  None  None  None\n",
       "2  None  None  None  None\n",
       "3  None  None  None  None\n",
       "4  None  None  None  None"
      ]
     },
     "execution_count": 150,
     "metadata": {},
     "output_type": "execute_result"
    }
   ],
   "source": [
    "df_2_1.head()"
   ]
  },
  {
   "cell_type": "code",
   "execution_count": 151,
   "metadata": {},
   "outputs": [
    {
     "data": {
      "text/plain": [
       "array([None, 'バス(6', 'バス(19', 'バス(7', 'バス(10', 'バス(16', 'バス(18', 'バス(12',\n",
       "       'バス(5', 'バス(15', 'バス(13', 'バス(25', 'バス(9', 'バス(23', 'バス(11',\n",
       "       'バス(3', 'バス(14', 'バス(21', 'バス(8', 'バス(20', 'バス(17', 'バス(1', 'バス(4',\n",
       "       'バス(2', 'バス(27'], dtype=object)"
      ]
     },
     "execution_count": 151,
     "metadata": {},
     "output_type": "execute_result"
    }
   ],
   "source": [
    "df_2_1[0].unique()"
   ]
  },
  {
   "cell_type": "code",
   "execution_count": 152,
   "metadata": {},
   "outputs": [],
   "source": [
    "total_data[\"アクセス_駅_1_バス_分\"] = df_2_1[0].str.strip(\"バス(\").astype(float)"
   ]
  },
  {
   "cell_type": "code",
   "execution_count": 153,
   "metadata": {},
   "outputs": [
    {
     "data": {
      "text/plain": [
       "array([nan,  6., 19.,  7., 10., 16., 18., 12.,  5., 15., 13., 25.,  9.,\n",
       "       23., 11.,  3., 14., 21.,  8., 20., 17.,  1.,  4.,  2., 27.])"
      ]
     },
     "execution_count": 153,
     "metadata": {},
     "output_type": "execute_result"
    }
   ],
   "source": [
    "total_data[\"アクセス_駅_1_バス_分\"].unique()"
   ]
  },
  {
   "cell_type": "code",
   "execution_count": 154,
   "metadata": {},
   "outputs": [
    {
     "data": {
      "text/plain": [
       "array([None, '都民農園下車徒歩1', '長久保下車徒歩2', '大泉風致地区下車徒歩5', '関町郵便局前下車徒歩1',\n",
       "       '新小71農業試験場下車徒歩3', '土支田二丁目下車徒歩5', '比丘尼橋下車徒歩3', '団地入口下車徒歩3',\n",
       "       '善福寺下車徒歩1', 'ふれあいの家下車', '水元そよかぜ園下車徒歩1', '水元4丁目下車徒歩28', '武蔵関駅下車徒歩7',\n",
       "       '越後山下車徒歩4', '西長久保下車徒歩1', '亀26松江下車徒歩5', '葛飾車庫入口下車徒歩11',\n",
       "       '大田文化の森下車徒歩3', '幸田小学校下車徒歩3', '水元そよかぜ園下車徒歩6', '佐野センター前下車徒歩34',\n",
       "       '花畑団地下車徒歩10', '水元そよかぜ園下車徒歩2', '六木団地下車徒歩3', '大泉学園町八丁目下車徒歩2',\n",
       "       '本木新道下車徒歩3', '砧南中学校前下車徒歩4', '鹿骨五丁目下車徒歩3', '桑川町下車徒歩7',\n",
       "       '関町郵便局前下車徒歩5', '日産自動車前下車徒歩4', '水元2丁目下車徒歩2', '富士公園下車徒歩3',\n",
       "       '京成バス大杉3丁目下車徒歩1', '都民農園下車徒歩3', '土支田二丁目下車徒歩6', '西長久保下車徒歩3',\n",
       "       '土支田三丁目下車徒歩3', 'ハートアイランド南下車徒歩1', '西水元2丁目下車徒歩2', '砧町下車徒歩3',\n",
       "       '大泉風致地区下車徒歩3', '吉祥寺通り入口下車徒歩5', '水元神社前下車徒歩4', '水元3丁目下車徒歩1',\n",
       "       '代沢一丁目下車徒歩5', '東小松川一丁目下車徒歩7', '鎌田下車徒歩4', '足立スポーツセンター下車徒歩2',\n",
       "       '都民農園下車徒歩2', '扇2丁目下車徒歩3', '次大夫堀公園下車徒歩3', '関町3下車徒歩3', '大泉桜高校下車徒歩1',\n",
       "       '水元四丁目下車徒歩3', '西水元二丁目下車徒歩38', '北大泉下車徒歩8', '新広橋下車徒歩1', '松本橋東詰下車徒歩3',\n",
       "       '足立郷土博物館下車徒歩23', '大泉風致地区下車徒歩2', '関町北一丁目下車徒歩3', '有27西水元一下車徒歩3',\n",
       "       '三原台北下車徒歩3', '公園橋下車徒歩29', '鹿骨下車徒歩24', '大泉第三小下車徒歩1',\n",
       "       '宇奈根地区会館前下車徒歩4', '綾21六木小下車徒歩5', '六木都住下車徒歩2', '鹿浜四丁目下車徒歩2',\n",
       "       '堀江団地下車徒歩4', '鹿浜橋下車徒歩3', '桜木橋北詰下車徒歩8', '北出張所下車徒歩3', '深沢小学校前徒歩1',\n",
       "       '松本弁天下車徒歩25', '大泉学園町八丁目下車徒歩3', '川南下車徒歩6', '入新井第四小学校下車徒歩5',\n",
       "       '関町南2丁目下車徒歩2', '永安寺前下車徒歩5', '長久保下車徒歩1', 'ふれあいの家下車徒歩11',\n",
       "       '西長久保下車徒歩2', '天沼マーケット前下車徒歩5', '元競馬場下車徒歩4', '久保新田停留所下車徒歩4',\n",
       "       '樫の木公園前下車徒歩9', '立野橋下車徒歩5', '風致地区下車徒歩32', '佐野センター前下車徒歩2',\n",
       "       '水元4丁目下車徒歩3', 'スポーツランド入口下車徒歩18', '大杉3丁目停下車徒歩1', '永安寺下車徒歩1',\n",
       "       '西水元2丁目下車', '千歳台6丁目下車徒歩7', 'ときわ橋下車徒歩8', 'プロムナード荻窪下車徒歩1',\n",
       "       '長久保下車徒歩5', '大泉郵便局下車徒歩3', 'あいぐみ公園前下車徒歩2', '青梅街道営業所下車徒歩3',\n",
       "       '谷原中下車徒歩5', '北大泉下車徒歩4', '土支田二丁目下車徒歩8', '下宿下車徒歩2', '谷原5丁目下車徒歩16',\n",
       "       '稲荷前下車徒歩12', '西水元一丁目下車徒歩1', '橋戸小学校下車徒歩8', '上祖師谷四丁目下車徒歩4',\n",
       "       '都民住宅下車徒歩1', '鹿骨五下車徒歩29', '長久保下車徒歩3', '法林寺下車徒歩2', '関町南三丁目下車徒歩1',\n",
       "       '花畑三丁目下車徒歩6', '三軒寺下車徒歩20', '生活実習所前下車徒歩3', '樫の木公園前下車徒歩3',\n",
       "       '水元2丁目下車徒歩1', '綾21六ツ木都住下車徒歩2', '大泉町四丁目下車徒歩5', '飯塚橋下車徒歩2',\n",
       "       '京葉交差点下車徒歩27', '水元高校下車徒歩2', '北出張所下車徒歩12', '本木新道下車徒歩2',\n",
       "       '樫の木公園前下車徒歩6', '大泉第一小学校下車徒歩5', '関町北3下車徒歩1', '北大泉下車徒歩5',\n",
       "       '泉38-2大泉学園幼稚園前下車徒歩2', '本木小学校下車徒歩2', '北01本木新道下車徒歩3', '古千谷下車徒歩1',\n",
       "       '武蔵関駅下車徒歩6', '越後山下車徒歩6', '大泉町4丁目下車徒歩5', '大泉学園町8丁目下車徒歩1',\n",
       "       '谷原中学校下車徒歩1', '小松川警察署前下車徒歩45', '大泉町2丁目下車徒歩8', '平井大橋下車徒歩20',\n",
       "       '西水元4丁目下車徒歩3', '綾61神明町下車徒歩3', '一之江高速入口下車徒歩20', '吉祥寺駅南口行とき下車徒歩4',\n",
       "       '水元小学校下車徒歩2', '総合レクレーション公下車徒歩23', '大泉学園町四丁目下車徒歩4', '南葛西小学校前下車徒歩4',\n",
       "       '風致地区下車徒歩10', '池上営業所下車徒歩7', '大泉学園4丁目下車徒歩5', '水道端下車徒歩3',\n",
       "       'あいぐみ公園下車徒歩4', '中央三丁目下車徒歩1', '西一之江二丁目下車徒歩5', '土支田八幡下車徒歩5',\n",
       "       '深沢小学校下車徒歩3', '関町南二丁目下車徒歩3', '水元5丁目下車徒歩4', '足立郷土博物館下車徒歩4',\n",
       "       '石神井団地入口下車徒歩18', '西水元2丁目下車徒歩6', '慈雲堂前下車徒歩1', '同潤会下車徒歩3',\n",
       "       '西篠崎1丁目下車徒歩3', '北出張所前下車徒歩1', 'スポーツセンター前下車徒歩25', '大泉学園小学校入り口下車徒歩3',\n",
       "       '大泉風致地区下車徒歩7', '水元神社前下車徒歩2', '大泉郵便局下車徒歩2', '谷原中学校下車徒歩4',\n",
       "       '都営住宅前下車徒歩2', '和光市南下車徒歩5', '水元小学校下車徒歩3', '次大夫堀公園前下車徒歩6',\n",
       "       '地区会館前下車徒歩4', '西新井橋下車徒歩3', 'あたご橋下車徒歩6', '次太夫堀公園前下車徒歩1',\n",
       "       '宇奈根地区会館下車徒歩6', '水元4丁目下車', '岡本3丁目下車徒歩5', '京成バス「西水元2丁目」下車徒歩2',\n",
       "       '新川橋下車徒歩22', '大泉第一小学校下車徒歩9', '元競馬場前下車徒歩15', '牟礼前下車徒歩2',\n",
       "       '西水元4丁目下車徒歩1', '富士神社入口下車徒歩1', '花畑六丁目東下車徒歩1', '松江下車徒歩2',\n",
       "       '都バス松江第1中学校前下車徒歩4', '交通安全教育センター下車徒歩7', '西水元4丁目下車徒歩2', '鎌田下車徒歩6',\n",
       "       '久保新田下車徒歩2', '水元中学校下車徒歩1', '大泉町1丁目下車徒歩5', 'リブレ京成下車徒歩3',\n",
       "       '関町南2丁目下車徒歩4', '大泉北中学校入口下車徒歩7', '関町南二丁目下車徒歩17', '北出張所前下車徒歩9',\n",
       "       '江戸川区役所下車徒歩5', '大杉第二小学校前下車徒歩33', '住宅前(練馬区)下車徒歩8', '三原台中学校下車徒歩1',\n",
       "       '大泉桜高校下車徒歩3', '西新井橋下車徒歩4', '大杉4丁目下車徒歩2', '006大泉風致地区下車徒歩3',\n",
       "       '都バスハートアイランド南下車徒歩1', '水元公園下車', '大泉風致地区下車徒歩4', '大杉第二小学校下車徒歩3',\n",
       "       '公園入口下車徒歩1', '西大泉郵便局前下車徒歩4', '北出張所下車徒歩1', '大泉学園町4丁目下車徒歩4',\n",
       "       'なぎさニュータウン下車徒歩33', '関町南三丁目下車徒歩2', '大泉町四丁目下車徒歩4', '都民農園(バス)下車徒歩3',\n",
       "       '松本1丁目下車徒歩2', '清水二丁目下車徒歩2', '森ヶ崎十字路下車徒歩3', '水元5丁目停下車徒歩2',\n",
       "       'NTT江戸川下車徒歩3', '天神橋下車徒歩5', '廻沢下車徒歩3', 'そよかぜ園下車徒歩1', '扇大橋停下車徒歩5',\n",
       "       '永安寺前下車徒歩1', '花畑六丁目下車徒歩6', '関町南二丁目下車徒歩18', '関町南2丁目下車徒歩25',\n",
       "       '葛飾清掃工場下車徒歩8', '花畑3丁目下車徒歩1', '鎌田下車徒歩8', '王子板紙裏門下車徒歩1',\n",
       "       'そよかぜ園下車徒歩2', '臼田坂上下車徒歩1', '小関下車徒歩1', '水元高校下車徒歩3', '東小松川一丁目下車徒歩2',\n",
       "       '関町南3丁目下車徒歩3', '北篠崎下車徒歩4', '松江下車徒歩3', '関町南二丁目下車徒歩1', 'バス下車',\n",
       "       '都バス東小松川一丁目下車徒歩1', '新町商店街入口下車徒歩19', '蒲田下車徒歩9', '大泉風致地区下車徒歩8',\n",
       "       '大泉北中入口下車徒歩5', '水元小学校前下車徒歩2', '保木間下車徒歩3', '東深沢小学校下車徒歩1',\n",
       "       '北出張所下車徒歩15', '宮城都営住宅前下車徒歩1', '西水元3丁目下車徒歩4', 'ふれあいの家下車徒歩34',\n",
       "       '臼田坂下下車徒歩3', '坂下下車徒歩1', '宇奈根地区会館下車徒歩5', '農業試験場下車徒歩24',\n",
       "       '東武バス関原2丁目下車徒歩4', '新小岩駅前下車徒歩15', '砧町下車徒歩2', '扇大橋北詰下車徒歩3',\n",
       "       '住宅前下車徒歩4', '大泉風致地区下車徒歩1', '北出張所下車徒歩5', '関町南2丁目下車徒歩3',\n",
       "       '関町一丁目下車徒歩1', '井草八幡宮下車徒歩3', '佐野センター下車徒歩1', '南小岩停下車徒歩26',\n",
       "       '鹿骨五丁目下車徒歩1', '八丁下車徒歩1', '奥戸六丁目下車徒歩18', '土支田八幡下車徒歩23',\n",
       "       '西水元二丁目下車徒歩6', '東武バス興本センター前下車徒歩3', '千歳台下車徒歩2', '北出張所下車徒歩7',\n",
       "       '大鳥前下車徒歩3', '長久保停歩5', '松本弁天下車徒歩1', '大泉学園町八丁目下車徒歩4', '鎌田下車徒歩5',\n",
       "       '鹿浜五丁目下車徒歩2', '鹿骨五丁目下車徒歩4', '上石神井中学校入口下車徒歩2', '大泉学園八丁目下車徒歩2',\n",
       "       '風致地区下車徒歩9', '西水元3丁目下車徒歩6', '王子マテリア裏門下車徒歩16', '関町2丁目下車徒歩4',\n",
       "       'リブレ京成前下車徒歩1', '大杉第二小学校下車徒歩4', 'なかよし通り(バス)下車徒歩1', '立野通り水道端下車徒歩1',\n",
       "       '西水元2丁目下車徒歩1', '土支田3丁目下車徒歩2', '花畑四丁目下車徒歩8', '池上営業所前下車徒歩1',\n",
       "       '池上営業所前下車徒歩3', '前沼橋下車徒歩3'], dtype=object)"
      ]
     },
     "execution_count": 154,
     "metadata": {},
     "output_type": "execute_result"
    }
   ],
   "source": [
    "df_2_1[1] = df_2_1[1].str.strip(\")\")\n",
    "df_2_1[1] = df_2_1[1].str.replace(\"\\u3000\", \"\")\n",
    "df_2_1[1].unique()"
   ]
  },
  {
   "cell_type": "code",
   "execution_count": 155,
   "metadata": {},
   "outputs": [],
   "source": [
    "df_2_1_1 = df_2_1[1].str.split(\"下車徒歩\", expand=True)"
   ]
  },
  {
   "cell_type": "code",
   "execution_count": 156,
   "metadata": {},
   "outputs": [
    {
     "data": {
      "text/html": [
       "<div>\n",
       "<style scoped>\n",
       "    .dataframe tbody tr th:only-of-type {\n",
       "        vertical-align: middle;\n",
       "    }\n",
       "\n",
       "    .dataframe tbody tr th {\n",
       "        vertical-align: top;\n",
       "    }\n",
       "\n",
       "    .dataframe thead th {\n",
       "        text-align: right;\n",
       "    }\n",
       "</style>\n",
       "<table border=\"1\" class=\"dataframe\">\n",
       "  <thead>\n",
       "    <tr style=\"text-align: right;\">\n",
       "      <th></th>\n",
       "      <th>0</th>\n",
       "      <th>1</th>\n",
       "    </tr>\n",
       "  </thead>\n",
       "  <tbody>\n",
       "    <tr>\n",
       "      <th>0</th>\n",
       "      <td>None</td>\n",
       "      <td>None</td>\n",
       "    </tr>\n",
       "    <tr>\n",
       "      <th>1</th>\n",
       "      <td>None</td>\n",
       "      <td>None</td>\n",
       "    </tr>\n",
       "    <tr>\n",
       "      <th>2</th>\n",
       "      <td>None</td>\n",
       "      <td>None</td>\n",
       "    </tr>\n",
       "    <tr>\n",
       "      <th>3</th>\n",
       "      <td>None</td>\n",
       "      <td>None</td>\n",
       "    </tr>\n",
       "    <tr>\n",
       "      <th>4</th>\n",
       "      <td>None</td>\n",
       "      <td>None</td>\n",
       "    </tr>\n",
       "  </tbody>\n",
       "</table>\n",
       "</div>"
      ],
      "text/plain": [
       "      0     1\n",
       "0  None  None\n",
       "1  None  None\n",
       "2  None  None\n",
       "3  None  None\n",
       "4  None  None"
      ]
     },
     "execution_count": 156,
     "metadata": {},
     "output_type": "execute_result"
    }
   ],
   "source": [
    "df_2_1_1.head()"
   ]
  },
  {
   "cell_type": "code",
   "execution_count": 157,
   "metadata": {},
   "outputs": [
    {
     "data": {
      "text/plain": [
       "array([None, '都民農園', '長久保', '大泉風致地区', '関町郵便局前', '新小71農業試験場', '土支田二丁目',\n",
       "       '比丘尼橋', '団地入口', '善福寺', 'ふれあいの家下車', '水元そよかぜ園', '水元4丁目', '武蔵関駅',\n",
       "       '越後山', '西長久保', '亀26松江', '葛飾車庫入口', '大田文化の森', '幸田小学校', '佐野センター前',\n",
       "       '花畑団地', '六木団地', '大泉学園町八丁目', '本木新道', '砧南中学校前', '鹿骨五丁目', '桑川町',\n",
       "       '日産自動車前', '水元2丁目', '富士公園', '京成バス大杉3丁目', '土支田三丁目', 'ハートアイランド南',\n",
       "       '西水元2丁目', '砧町', '吉祥寺通り入口', '水元神社前', '水元3丁目', '代沢一丁目', '東小松川一丁目',\n",
       "       '鎌田', '足立スポーツセンター', '扇2丁目', '次大夫堀公園', '関町3', '大泉桜高校', '水元四丁目',\n",
       "       '西水元二丁目', '北大泉', '新広橋', '松本橋東詰', '足立郷土博物館', '関町北一丁目', '有27西水元一',\n",
       "       '三原台北', '公園橋', '鹿骨', '大泉第三小', '宇奈根地区会館前', '綾21六木小', '六木都住',\n",
       "       '鹿浜四丁目', '堀江団地', '鹿浜橋', '桜木橋北詰', '北出張所', '深沢小学校前徒歩1', '松本弁天', '川南',\n",
       "       '入新井第四小学校', '関町南2丁目', '永安寺前', 'ふれあいの家', '天沼マーケット前', '元競馬場',\n",
       "       '久保新田停留所', '樫の木公園前', '立野橋', '風致地区', 'スポーツランド入口', '大杉3丁目停', '永安寺',\n",
       "       '西水元2丁目下車', '千歳台6丁目', 'ときわ橋', 'プロムナード荻窪', '大泉郵便局', 'あいぐみ公園前',\n",
       "       '青梅街道営業所', '谷原中', '下宿', '谷原5丁目', '稲荷前', '西水元一丁目', '橋戸小学校',\n",
       "       '上祖師谷四丁目', '都民住宅', '鹿骨五', '法林寺', '関町南三丁目', '花畑三丁目', '三軒寺',\n",
       "       '生活実習所前', '綾21六ツ木都住', '大泉町四丁目', '飯塚橋', '京葉交差点', '水元高校', '大泉第一小学校',\n",
       "       '関町北3', '泉38-2大泉学園幼稚園前', '本木小学校', '北01本木新道', '古千谷', '大泉町4丁目',\n",
       "       '大泉学園町8丁目', '谷原中学校', '小松川警察署前', '大泉町2丁目', '平井大橋', '西水元4丁目',\n",
       "       '綾61神明町', '一之江高速入口', '吉祥寺駅南口行とき', '水元小学校', '総合レクレーション公',\n",
       "       '大泉学園町四丁目', '南葛西小学校前', '池上営業所', '大泉学園4丁目', '水道端', 'あいぐみ公園',\n",
       "       '中央三丁目', '西一之江二丁目', '土支田八幡', '深沢小学校', '関町南二丁目', '水元5丁目', '石神井団地入口',\n",
       "       '慈雲堂前', '同潤会', '西篠崎1丁目', '北出張所前', 'スポーツセンター前', '大泉学園小学校入り口',\n",
       "       '都営住宅前', '和光市南', '次大夫堀公園前', '地区会館前', '西新井橋', 'あたご橋', '次太夫堀公園前',\n",
       "       '宇奈根地区会館', '水元4丁目下車', '岡本3丁目', '京成バス「西水元2丁目」', '新川橋', '元競馬場前',\n",
       "       '牟礼前', '富士神社入口', '花畑六丁目東', '松江', '都バス松江第1中学校前', '交通安全教育センター',\n",
       "       '久保新田', '水元中学校', '大泉町1丁目', 'リブレ京成', '大泉北中学校入口', '江戸川区役所',\n",
       "       '大杉第二小学校前', '住宅前(練馬区)', '三原台中学校', '大杉4丁目', '006大泉風致地区',\n",
       "       '都バスハートアイランド南', '水元公園下車', '大杉第二小学校', '公園入口', '西大泉郵便局前', '大泉学園町4丁目',\n",
       "       'なぎさニュータウン', '都民農園(バス)', '松本1丁目', '清水二丁目', '森ヶ崎十字路', '水元5丁目停',\n",
       "       'NTT江戸川', '天神橋', '廻沢', 'そよかぜ園', '扇大橋停', '花畑六丁目', '葛飾清掃工場', '花畑3丁目',\n",
       "       '王子板紙裏門', '臼田坂上', '小関', '関町南3丁目', '北篠崎', 'バス下車', '都バス東小松川一丁目',\n",
       "       '新町商店街入口', '蒲田', '大泉北中入口', '水元小学校前', '保木間', '東深沢小学校', '宮城都営住宅前',\n",
       "       '西水元3丁目', '臼田坂下', '坂下', '農業試験場', '東武バス関原2丁目', '新小岩駅前', '扇大橋北詰',\n",
       "       '住宅前', '関町一丁目', '井草八幡宮', '佐野センター', '南小岩停', '八丁', '奥戸六丁目',\n",
       "       '東武バス興本センター前', '千歳台', '大鳥前', '長久保停歩5', '鹿浜五丁目', '上石神井中学校入口',\n",
       "       '大泉学園八丁目', '王子マテリア裏門', '関町2丁目', 'リブレ京成前', 'なかよし通り(バス)', '立野通り水道端',\n",
       "       '土支田3丁目', '花畑四丁目', '池上営業所前', '前沼橋'], dtype=object)"
      ]
     },
     "execution_count": 157,
     "metadata": {},
     "output_type": "execute_result"
    }
   ],
   "source": [
    "df_2_1_1[0].unique()"
   ]
  },
  {
   "cell_type": "code",
   "execution_count": 158,
   "metadata": {},
   "outputs": [],
   "source": [
    "df_2_1_1[0] = df_2_1_1[0].str.strip(\"停歩5\")"
   ]
  },
  {
   "cell_type": "code",
   "execution_count": 159,
   "metadata": {},
   "outputs": [
    {
     "data": {
      "text/plain": [
       "array([None, '都民農園', '長久保', '大泉風致地区', '関町郵便局前', '新小71農業試験場', '土支田二丁目',\n",
       "       '比丘尼橋', '団地入口', '善福寺', 'ふれあいの家下車', '水元そよかぜ園', '水元4丁目', '武蔵関駅',\n",
       "       '越後山', '西長久保', '亀26松江', '葛飾車庫入口', '大田文化の森', '幸田小学校', '佐野センター前',\n",
       "       '花畑団地', '六木団地', '大泉学園町八丁目', '本木新道', '砧南中学校前', '鹿骨五丁目', '桑川町',\n",
       "       '日産自動車前', '水元2丁目', '富士公園', '京成バス大杉3丁目', '土支田三丁目', 'ハートアイランド南',\n",
       "       '西水元2丁目', '砧町', '吉祥寺通り入口', '水元神社前', '水元3丁目', '代沢一丁目', '東小松川一丁目',\n",
       "       '鎌田', '足立スポーツセンター', '扇2丁目', '次大夫堀公園', '関町3', '大泉桜高校', '水元四丁目',\n",
       "       '西水元二丁目', '北大泉', '新広橋', '松本橋東詰', '足立郷土博物館', '関町北一丁目', '有27西水元一',\n",
       "       '三原台北', '公園橋', '鹿骨', '大泉第三小', '宇奈根地区会館前', '綾21六木小', '六木都住',\n",
       "       '鹿浜四丁目', '堀江団地', '鹿浜橋', '桜木橋北詰', '北出張所', '深沢小学校前徒歩1', '松本弁天', '川南',\n",
       "       '入新井第四小学校', '関町南2丁目', '永安寺前', 'ふれあいの家', '天沼マーケット前', '元競馬場',\n",
       "       '久保新田停留所', '樫の木公園前', '立野橋', '風致地区', 'スポーツランド入口', '大杉3丁目', '永安寺',\n",
       "       '西水元2丁目下車', '千歳台6丁目', 'ときわ橋', 'プロムナード荻窪', '大泉郵便局', 'あいぐみ公園前',\n",
       "       '青梅街道営業所', '谷原中', '下宿', '谷原5丁目', '稲荷前', '西水元一丁目', '橋戸小学校',\n",
       "       '上祖師谷四丁目', '都民住宅', '鹿骨五', '法林寺', '関町南三丁目', '花畑三丁目', '三軒寺',\n",
       "       '生活実習所前', '綾21六ツ木都住', '大泉町四丁目', '飯塚橋', '京葉交差点', '水元高校', '大泉第一小学校',\n",
       "       '関町北3', '泉38-2大泉学園幼稚園前', '本木小学校', '北01本木新道', '古千谷', '大泉町4丁目',\n",
       "       '大泉学園町8丁目', '谷原中学校', '小松川警察署前', '大泉町2丁目', '平井大橋', '西水元4丁目',\n",
       "       '綾61神明町', '一之江高速入口', '吉祥寺駅南口行とき', '水元小学校', '総合レクレーション公',\n",
       "       '大泉学園町四丁目', '南葛西小学校前', '池上営業所', '大泉学園4丁目', '水道端', 'あいぐみ公園',\n",
       "       '中央三丁目', '西一之江二丁目', '土支田八幡', '深沢小学校', '関町南二丁目', '水元5丁目', '石神井団地入口',\n",
       "       '慈雲堂前', '同潤会', '西篠崎1丁目', '北出張所前', 'スポーツセンター前', '大泉学園小学校入り口',\n",
       "       '都営住宅前', '和光市南', '次大夫堀公園前', '地区会館前', '西新井橋', 'あたご橋', '次太夫堀公園前',\n",
       "       '宇奈根地区会館', '水元4丁目下車', '岡本3丁目', '京成バス「西水元2丁目」', '新川橋', '元競馬場前',\n",
       "       '牟礼前', '富士神社入口', '花畑六丁目東', '松江', '都バス松江第1中学校前', '交通安全教育センター',\n",
       "       '久保新田', '水元中学校', '大泉町1丁目', 'リブレ京成', '大泉北中学校入口', '江戸川区役所',\n",
       "       '大杉第二小学校前', '住宅前(練馬区)', '三原台中学校', '大杉4丁目', '006大泉風致地区',\n",
       "       '都バスハートアイランド南', '水元公園下車', '大杉第二小学校', '公園入口', '西大泉郵便局前', '大泉学園町4丁目',\n",
       "       'なぎさニュータウン', '都民農園(バス)', '松本1丁目', '清水二丁目', '森ヶ崎十字路', 'NTT江戸川',\n",
       "       '天神橋', '廻沢', 'そよかぜ園', '扇大橋', '花畑六丁目', '葛飾清掃工場', '花畑3丁目', '王子板紙裏門',\n",
       "       '臼田坂上', '小関', '関町南3丁目', '北篠崎', 'バス下車', '都バス東小松川一丁目', '新町商店街入口',\n",
       "       '蒲田', '大泉北中入口', '水元小学校前', '保木間', '東深沢小学校', '宮城都営住宅前', '西水元3丁目',\n",
       "       '臼田坂下', '坂下', '農業試験場', '東武バス関原2丁目', '新小岩駅前', '扇大橋北詰', '住宅前',\n",
       "       '関町一丁目', '井草八幡宮', '佐野センター', '南小岩', '八丁', '奥戸六丁目', '東武バス興本センター前',\n",
       "       '千歳台', '大鳥前', '鹿浜五丁目', '上石神井中学校入口', '大泉学園八丁目', '王子マテリア裏門', '関町2丁目',\n",
       "       'リブレ京成前', 'なかよし通り(バス)', '立野通り水道端', '土支田3丁目', '花畑四丁目', '池上営業所前',\n",
       "       '前沼橋'], dtype=object)"
      ]
     },
     "execution_count": 159,
     "metadata": {},
     "output_type": "execute_result"
    }
   ],
   "source": [
    "df_2_1_1[0].unique()"
   ]
  },
  {
   "cell_type": "code",
   "execution_count": 160,
   "metadata": {},
   "outputs": [
    {
     "data": {
      "text/plain": [
       "Index(['所在地', 'アクセス', '間取り', '方角', '面積', '所在階', 'バス・トイレ', 'キッチン', '放送・通信',\n",
       "       '室内設備', '駐車場', '周辺環境', '建物構造', '契約期間', '築年数_月', '階建', '所在階_地下', '階建_地下',\n",
       "       '納戸', '間取り_D', '間取り_K', '間取り_L', '間取り_R', '間取り_S', '間取り_数', '方角_南',\n",
       "       '方角_東', '方角_西', '方角_北', '契約期間_定期借家', '契約期間_月', '所在地_区', 'アクセス_線_1',\n",
       "       'アクセス_駅_1', 'アクセス_駅_1_徒歩_分', 'アクセス_駅_1_車_分', 'アクセス_駅_1_バス_分'],\n",
       "      dtype='object')"
      ]
     },
     "execution_count": 160,
     "metadata": {},
     "output_type": "execute_result"
    }
   ],
   "source": [
    "total_data.columns"
   ]
  },
  {
   "cell_type": "code",
   "execution_count": 161,
   "metadata": {},
   "outputs": [],
   "source": [
    "total_data[\"アクセス_駅_1_バス停\"] = df_2_1_1[0]"
   ]
  },
  {
   "cell_type": "code",
   "execution_count": 162,
   "metadata": {},
   "outputs": [],
   "source": [
    "total_data[\"アクセス_駅_1_バス停_徒歩\"] = df_2_1_1[1].astype(float)"
   ]
  },
  {
   "cell_type": "markdown",
   "metadata": {},
   "source": [
    "### ignore df_2_1[2] is probably walking time after train"
   ]
  },
  {
   "cell_type": "code",
   "execution_count": 163,
   "metadata": {},
   "outputs": [
    {
     "data": {
      "text/plain": [
       "array([nan, 10., 35.])"
      ]
     },
     "execution_count": 163,
     "metadata": {},
     "output_type": "execute_result"
    }
   ],
   "source": [
    "df_2_1[2] = df_2_1[2].replace(r'^\\s*$', np.nan, regex=True)\n",
    "df_2_1[2] = df_2_1[2].str.strip(\"下車徒歩\").astype(float)\n",
    "df_2_1[2].unique()"
   ]
  },
  {
   "cell_type": "code",
   "execution_count": 164,
   "metadata": {},
   "outputs": [
    {
     "data": {
      "text/plain": [
       "9845     東急田園都市線\\t桜新町駅\\t/バス(1分)深沢小学校前　　徒歩1分下車徒歩10分\n",
       "56577        西武池袋線\\t大泉学園駅\\t/バス(13分)長久保　停歩5分下車徒歩35分\n",
       "Name: アクセス, dtype: object"
      ]
     },
     "execution_count": 164,
     "metadata": {},
     "output_type": "execute_result"
    }
   ],
   "source": [
    "total_data[\"アクセス\"][df_2_1[2].notnull()]"
   ]
  },
  {
   "cell_type": "code",
   "execution_count": 165,
   "metadata": {},
   "outputs": [
    {
     "data": {
      "text/plain": [
       "Index(['所在地', 'アクセス', '間取り', '方角', '面積', '所在階', 'バス・トイレ', 'キッチン', '放送・通信',\n",
       "       '室内設備', '駐車場', '周辺環境', '建物構造', '契約期間', '築年数_月', '階建', '所在階_地下', '階建_地下',\n",
       "       '納戸', '間取り_D', '間取り_K', '間取り_L', '間取り_R', '間取り_S', '間取り_数', '方角_南',\n",
       "       '方角_東', '方角_西', '方角_北', '契約期間_定期借家', '契約期間_月', '所在地_区', 'アクセス_線_1',\n",
       "       'アクセス_駅_1', 'アクセス_駅_1_徒歩_分', 'アクセス_駅_1_車_分', 'アクセス_駅_1_バス_分',\n",
       "       'アクセス_駅_1_バス停', 'アクセス_駅_1_バス停_徒歩'],\n",
       "      dtype='object')"
      ]
     },
     "execution_count": 165,
     "metadata": {},
     "output_type": "execute_result"
    }
   ],
   "source": [
    "total_data.columns"
   ]
  },
  {
   "cell_type": "code",
   "execution_count": 166,
   "metadata": {},
   "outputs": [],
   "source": [
    "total_data[\"アクセス_駅_1_徒歩_分\"] = total_data[\"アクセス_駅_1_徒歩_分\"].combine_first(df_2_1[2])"
   ]
  },
  {
   "cell_type": "code",
   "execution_count": 167,
   "metadata": {},
   "outputs": [
    {
     "data": {
      "text/plain": [
       "array([None, ''], dtype=object)"
      ]
     },
     "execution_count": 167,
     "metadata": {},
     "output_type": "execute_result"
    }
   ],
   "source": [
    "df_2_1[3].unique()"
   ]
  },
  {
   "cell_type": "markdown",
   "metadata": {},
   "source": [
    "## df[3]"
   ]
  },
  {
   "cell_type": "code",
   "execution_count": 168,
   "metadata": {},
   "outputs": [
    {
     "data": {
      "text/plain": [
       "array(['', None], dtype=object)"
      ]
     },
     "execution_count": 168,
     "metadata": {},
     "output_type": "execute_result"
    }
   ],
   "source": [
    "df[3].unique()"
   ]
  },
  {
   "cell_type": "markdown",
   "metadata": {},
   "source": [
    "## df[4]"
   ]
  },
  {
   "cell_type": "code",
   "execution_count": 169,
   "metadata": {},
   "outputs": [
    {
     "data": {
      "text/plain": [
       "array(['埼京線', '有楽町線', '京王線', '丸ノ内線(池袋-荻窪)', '常磐線', '都電荒川線', '西武池袋線',\n",
       "       '東急東横線', '都営三田線', '都営浅草線', '京成本線', '千代田線', '都営大江戸線', '副都心線',\n",
       "       '都営新宿線', '日比谷線', '西武新宿線', '京葉線(東京-蘇我)', '京急本線', '小田急小田原線', '山手線',\n",
       "       '東西線', '東急田園都市線', '京成金町線', '南北線', '東急池上線', '常磐線快速', '東武スカイツリーライン',\n",
       "       '銀座線', 'つくばエクスプレス', '東急大井町線', '総武本線', None, '丸ノ内線(中野坂上-方南町)',\n",
       "       '東急世田谷線', '総武線・中央線(各停)', '京王新線', '京成押上線', '京王井の頭線', '京浜東北線',\n",
       "       '東急目黒線', 'ゆりかもめ', '東武東上線', 'りんかい線', '日暮里・舎人ライナー', '東武伊勢崎線(押上-曳舟)',\n",
       "       '中央線(快速)', '東急多摩川線', '半蔵門線', '東武亀戸線', '北総線', '東武大師線', '京急空港線',\n",
       "       '西武有楽町線', '高崎線', '東京モノレール羽田線', '西武豊島線', '東北本線(宇都宮線)', '東海道本線',\n",
       "       '横須賀線', '埼玉高速鉄道線', '湘南新宿ライン(東北本線-横須賀線)', '京急大師線', '三田線', '京成成田空港線',\n",
       "       'ディズニーリゾートライン', '東海道新幹線', '小76/松本橋東詰\\u30006分', '南武線(川崎-立川)'],\n",
       "      dtype=object)"
      ]
     },
     "execution_count": 169,
     "metadata": {},
     "output_type": "execute_result"
    }
   ],
   "source": [
    "df[4].unique()"
   ]
  },
  {
   "cell_type": "code",
   "execution_count": 170,
   "metadata": {},
   "outputs": [
    {
     "data": {
      "text/plain": [
       "array(['東武スカイツリーライン', 'つくばエクスプレス', 'ゆりかもめ', '日暮里・舎人ライナー', 'ディズニーリゾートライン',\n",
       "       '小76/松本橋東詰\\u30006分'], dtype=object)"
      ]
     },
     "execution_count": 170,
     "metadata": {},
     "output_type": "execute_result"
    }
   ],
   "source": [
    "df[4][df[4].str.contains(\"線\") == False].unique()"
   ]
  },
  {
   "cell_type": "code",
   "execution_count": 171,
   "metadata": {},
   "outputs": [],
   "source": [
    "df[4] = df[4].replace(\"小76/松本橋東詰\\u30006分\", None, regex=False)"
   ]
  },
  {
   "cell_type": "code",
   "execution_count": 172,
   "metadata": {},
   "outputs": [
    {
     "data": {
      "text/plain": [
       "array(['東武スカイツリーライン', 'つくばエクスプレス', 'ゆりかもめ', '日暮里・舎人ライナー', 'ディズニーリゾートライン'],\n",
       "      dtype=object)"
      ]
     },
     "execution_count": 172,
     "metadata": {},
     "output_type": "execute_result"
    }
   ],
   "source": [
    "df[4][df[4].str.contains(\"線\") == False].unique()"
   ]
  },
  {
   "cell_type": "code",
   "execution_count": 173,
   "metadata": {},
   "outputs": [
    {
     "data": {
      "text/plain": [
       "Index(['所在地', 'アクセス', '間取り', '方角', '面積', '所在階', 'バス・トイレ', 'キッチン', '放送・通信',\n",
       "       '室内設備', '駐車場', '周辺環境', '建物構造', '契約期間', '築年数_月', '階建', '所在階_地下', '階建_地下',\n",
       "       '納戸', '間取り_D', '間取り_K', '間取り_L', '間取り_R', '間取り_S', '間取り_数', '方角_南',\n",
       "       '方角_東', '方角_西', '方角_北', '契約期間_定期借家', '契約期間_月', '所在地_区', 'アクセス_線_1',\n",
       "       'アクセス_駅_1', 'アクセス_駅_1_徒歩_分', 'アクセス_駅_1_車_分', 'アクセス_駅_1_バス_分',\n",
       "       'アクセス_駅_1_バス停', 'アクセス_駅_1_バス停_徒歩'],\n",
       "      dtype='object')"
      ]
     },
     "execution_count": 173,
     "metadata": {},
     "output_type": "execute_result"
    }
   ],
   "source": [
    "total_data.columns"
   ]
  },
  {
   "cell_type": "code",
   "execution_count": 174,
   "metadata": {},
   "outputs": [],
   "source": [
    "total_data[\"アクセス_線_2\"] = df[4]"
   ]
  },
  {
   "cell_type": "markdown",
   "metadata": {},
   "source": [
    "## df[5]"
   ]
  },
  {
   "cell_type": "code",
   "execution_count": 175,
   "metadata": {},
   "outputs": [
    {
     "data": {
      "text/plain": [
       "array(['板橋駅', '月島駅', '代田橋駅', '新高円寺駅', '金町(東京都)駅', '三ノ輪橋駅', '保谷駅', '都立大学駅',\n",
       "       '白山(東京都)駅', '新板橋駅', '馬込駅', '江戸川駅', '表参道駅', '南阿佐ケ谷駅', '両国(都営線)駅',\n",
       "       '笹塚駅', '氷川台駅', '船堀駅', '四ツ谷駅', '茅場町駅', '野方駅', '湯島駅', '越中島駅', '平和島駅',\n",
       "       '京成小岩駅', '東長崎駅', '仲御徒町駅', '北綾瀬駅', '一之江駅', '東北沢駅', '目白駅', '西葛西駅',\n",
       "       '用賀駅', '国立競技場駅', 'お花茶屋駅', '石神井公園駅', '荒川一中前駅', '落合南長崎駅', '京成金町駅',\n",
       "       '後楽園駅', '浅草駅', '西馬込駅', '千鳥町駅', '大泉学園駅', '南千住駅', '曳舟駅', '渋谷駅',\n",
       "       '新江古田駅', '西新宿五丁目駅', '千歳烏山駅', '浅草(TX)駅', '駒沢大学駅', '緑が丘(東京都)駅',\n",
       "       '錦糸町駅', '八丁堀(東京都)駅', '馬喰町駅', '本駒込駅', '大森町駅', '祖師ケ谷大蔵駅', None,\n",
       "       '蓮沼駅', '青井駅', '石川台駅', '中野新橋駅', '町屋(東京メトロ)駅', '栄町(東京都)駅', '巣鴨新田駅',\n",
       "       '瑞江駅', '西大島駅', '春日(東京都)駅', '梅島駅', '千駄木駅', '北赤羽駅', '東高円寺駅', '上町駅',\n",
       "       '西ケ原駅', '地下鉄成増駅', '若林(東京都)駅', '広尾駅', '門前仲町駅', '池袋駅', '押上駅', '熊野前駅',\n",
       "       '荻窪駅', '王子駅前駅', '青物横丁駅', '方南町駅', '京成曳舟駅', '水道橋駅', '大島(東京都)駅',\n",
       "       '高井戸駅', '日暮里駅', '六町駅', '乃木坂駅', '青砥駅', '西巣鴨駅', '汐留駅', '要町駅', '上野毛駅',\n",
       "       '板橋区役所前駅', '中野(東京都)駅', '西小山駅', '麻布十番駅', '王子神谷駅', '狛江駅', '新豊洲駅',\n",
       "       '牛田(東京都)駅', '竹ノ塚駅', '京成立石駅', '成増駅', '祐天寺駅', '芦花公園駅', '芝浦ふ頭駅',\n",
       "       '梅屋敷(東京都)駅', '池上駅', '赤羽岩淵駅', '東大島駅', '桜台(東京都)駅', '両国駅', '淡路町駅',\n",
       "       '大崎広小路駅', '成城学園前駅', '北池袋駅', '下板橋駅', '西新井駅', '巣鴨駅', '三軒茶屋駅',\n",
       "       '雪が谷大塚駅', '神楽坂駅', '新大塚駅', '江戸川橋駅', '東雲(東京都)駅', '四谷三丁目駅', '浜田山駅',\n",
       "       '東十条駅', '赤羽駅', '京急蒲田駅', '武蔵小山駅', '池尻大橋駅', '洗足駅', '目黒駅', '新中野駅',\n",
       "       '東日本橋駅', '板橋本町駅', '舎人公園駅', 'とうきょうスカイツリー駅', '東池袋駅', '入谷(東京都)駅',\n",
       "       '練馬春日町駅', '幡ケ谷駅', '白金高輪駅', '戸越銀座駅', '高円寺駅', '鵜の木駅', '田町(東京都)駅',\n",
       "       '仙川駅', '町屋(京成線)駅', '谷在家駅', '鶯谷駅', '阿佐ケ谷駅', '新大久保駅', '練馬高野台駅',\n",
       "       '高田馬場駅', '本蓮沼駅', '中目黒駅', '上石神井駅', '六本木駅', '三河島駅', '西新宿駅', '新井薬師前駅',\n",
       "       '小菅駅', '旗の台駅', '大門(東京都)駅', '上板橋駅', '清澄白河駅', '堀切駅', '和光市駅', '勝どき駅',\n",
       "       '葛西臨海公園駅', '代官山駅', '代々木駅', '大山(東京都)駅', '奥沢駅', '千石駅', '住吉(東京都)駅',\n",
       "       '中板橋駅', '亀戸水神駅', '市ケ谷駅', '上井草駅', '秋葉原駅', '不動前駅', '天王洲アイル駅', '東中野駅',\n",
       "       '上野駅', '葛西駅', '新柴又駅', '東陽町駅', '西永福駅', '大師前駅', '大森海岸駅', '平井(東京都)駅',\n",
       "       '下落合駅', '蒲田駅', '初台駅', '中延駅', '菊川(東京都)駅', '小岩駅', '世田谷駅', '飯田橋駅',\n",
       "       '東武練馬駅', '大崎駅', '五反野駅', '人形町駅', '志村三丁目駅', '中野坂上駅', '上北沢駅', '富士見台駅',\n",
       "       'ひばりケ丘(東京都)駅', '雑色駅', '西太子堂駅', '二子新地駅', '江北駅', '沼袋駅', '白金台駅',\n",
       "       '大森(東京都)駅', '自由が丘駅', '小竹向原駅', '桜上水駅', '都立家政駅', '西荻窪駅', '練馬駅',\n",
       "       '松原(東京都)駅', '六郷土手駅', '森下(東京都)駅', '四ツ木駅', '上中里駅', '尾久駅', '千駄ケ谷駅',\n",
       "       '荏原中延駅', '熊野前(舎人ライナー)駅', '高野(東京都)駅', '綾瀬駅', '長原(東京都)駅', '地下鉄赤塚駅',\n",
       "       '西台駅', '等々力駅', '九品仏駅', '鮫洲駅', '経堂駅', '本郷三丁目駅', '立会川駅', '中井駅',\n",
       "       '恵比寿駅', '代々木上原駅', '篠崎駅', '吉祥寺駅', '戸越駅', '小伝馬町駅', '東松原駅', '茗荷谷駅',\n",
       "       '大井町駅', '荒川遊園地前駅', '新高島平駅', '田端駅', '浅草橋駅', '豪徳寺駅', '学芸大学駅',\n",
       "       '西日暮里駅', '豊島園(都営線)駅', '鷺ノ宮駅', '大鳥居駅', '馬喰横山駅', '浜町駅', '浮間舟渡駅',\n",
       "       '下高井戸駅', '下丸子駅', '信濃町駅', '明大前駅', '岩本町駅', '麹町駅', '赤羽橋駅', '王子駅',\n",
       "       '駒込駅', '桜新町駅', '本所吾妻橋駅', '志村坂上駅', '落合(東京都)駅', '荏原町駅', '喜多見駅',\n",
       "       '武蔵新田駅', '武蔵関駅', '三田(東京都)駅', '亀戸駅', '外苑前駅', '五反田駅', '豊洲駅',\n",
       "       '西新井大師西駅', '東あずま駅', '亀有駅', '千住大橋駅', '赤坂(東京都)駅', '千川駅', '浦安(千葉県)駅',\n",
       "       '東向島駅', '十条(東京都)駅', '富士見ケ丘駅', '高輪台駅', '品川シーサイド駅', '東伏見駅', '三ノ輪駅',\n",
       "       '若松河田駅', '新宿駅', '下神明駅', '三鷹台駅', '松陰神社前駅', '池ノ上駅', '江古田駅',\n",
       "       '稲荷町(東京都)駅', '北千束駅', '平和台(東京都)駅', '町屋二丁目駅', '御茶ノ水駅', '新代田駅',\n",
       "       '代々木八幡駅', '八広駅', '下北沢駅', '西高島平駅', '椎名町駅', '水天宮前駅', '大久保(東京都)駅',\n",
       "       '中野富士見町駅', '新富町(東京都)駅', '久我山駅', '谷塚駅', '永福町駅', '宝町(東京都)駅', '都庁前駅',\n",
       "       '神泉駅', '糀谷駅', '木場(東京都)駅', 'ときわ台(東京都)駅', '品川駅', '雑司が谷駅', '二子玉川駅',\n",
       "       '八幡山駅', '御成門駅', '下井草駅', '宮の坂駅', '新小岩駅', '東新宿駅', '駒場東大前駅', '高島平駅',\n",
       "       '井荻駅', '早稲田(東京メトロ)駅', '宮ノ前駅', '溜池山王駅', '辰巳駅', '洗足池駅', '赤土小学校前駅',\n",
       "       '牛込神楽坂駅', '豊島園(西武線)駅', '新日本橋駅', '神谷町駅', '蔵前駅', '護国寺駅', '新御徒町駅',\n",
       "       '下赤塚駅', '光が丘駅', '御嶽山駅', '京成高砂駅', '築地駅', '青山一丁目駅', '見沼代親水公園駅',\n",
       "       '世田谷代田駅', '曙橋駅', '穴守稲荷駅', '大塚(東京都)駅', '田園調布駅', '久が原駅', '京急川崎駅',\n",
       "       '東大前駅', '新桜台駅', '都電雑司ケ谷駅', '蓮根駅', '潮見駅', '小村井駅', '内幸町駅', '東尾久三丁目駅',\n",
       "       '新宿御苑前駅', '志茂駅', '泉岳寺駅', '代々木公園駅', '北品川駅', '柴又駅', '西日暮里(舎人ライナー)駅',\n",
       "       '永田町駅', '梅ケ丘駅', '北千住駅', '上野広小路駅', '扇大橋駅', '天空橋駅', '矢口渡駅', '多摩川駅',\n",
       "       '京橋(東京都)駅', '新御茶ノ水駅', '神田(東京都)駅', '中村橋駅', '西武新宿駅', '新三河島駅',\n",
       "       '堀切菖蒲園駅', '西大井駅', '新橋駅', '浜松町駅', '西早稲田駅', '八潮駅', '末広町(東京都)駅',\n",
       "       '舎人駅', '参宮橋駅', '大岡山駅', '国際展示場駅', '六本木一丁目駅', '田原町(東京都)駅', '千歳船橋駅',\n",
       "       '牛込柳町駅', '日本橋(東京都)駅', '御徒町駅', '東京テレポート駅', '芝公園駅', '原宿駅', '神保町駅',\n",
       "       '南砂町駅', '赤坂見附駅', '鐘ケ淵駅', '京成関屋駅', '東京駅', '南新宿駅', '東銀座駅', '新宿三丁目駅',\n",
       "       '根津駅', '大塚駅前駅', '朝霞駅', '梶原駅', '九段下駅', '整備場駅', '築地市場駅', '荒川区役所前駅',\n",
       "       '戸越公園駅', '小台駅', '面影橋駅', '小川町(東京都)駅', '沼部駅', '西ケ原四丁目駅', '新庚申塚駅',\n",
       "       '北参道駅', '市川駅', '竹橋駅', '三越前駅', '新木場駅', '新馬場駅', '鬼子母神前駅',\n",
       "       '日の出(東京都)駅', '井の頭公園駅', '明治神宮前駅', '尾山台駅', '荒川七丁目駅', '京成上野駅', '国府台駅',\n",
       "       '虎ノ門駅', '昭和島駅', '山下(東京都)駅', '銀座駅', '大手町(東京都)駅', 'お台場海浜公園駅', '妙典駅',\n",
       "       '町屋駅前駅', '半蔵門駅', '向原(東京都)駅', '荒川車庫前駅', '庚申塚駅', '早稲田(都電荒川線)駅',\n",
       "       '有明テニスの森駅', 'つつじケ丘駅', '竹芝駅', '松戸駅', '港町駅', '三田(兵庫県)駅', '滝野川一丁目駅',\n",
       "       '足立小台駅', '東池袋四丁目駅', '飛鳥山駅', '上野御徒町駅', '大井競馬場前駅', '川崎駅', '銀座一丁目駅',\n",
       "       '東京ディズニーランド・ステーション駅', '国会議事堂前駅', '学習院下駅', '産業道路駅', '霞ケ関(東京都)駅',\n",
       "       '舞浜駅', '鈴木町駅', '有楽町駅', '南行徳駅', '日暮里(舎人ライナー)駅', '川口駅', '新宿西口駅',\n",
       "       '和泉多摩川駅', '鹿島田駅'], dtype=object)"
      ]
     },
     "execution_count": 175,
     "metadata": {},
     "output_type": "execute_result"
    }
   ],
   "source": [
    "df[5].unique()"
   ]
  },
  {
   "cell_type": "code",
   "execution_count": 176,
   "metadata": {},
   "outputs": [
    {
     "data": {
      "text/plain": [
       "array([], dtype=object)"
      ]
     },
     "execution_count": 176,
     "metadata": {},
     "output_type": "execute_result"
    }
   ],
   "source": [
    "df[5][df[5].str.contains(\"駅\") == False].unique()"
   ]
  },
  {
   "cell_type": "code",
   "execution_count": 177,
   "metadata": {},
   "outputs": [],
   "source": [
    "total_data[\"アクセス_駅_2\"] = df[5]"
   ]
  },
  {
   "cell_type": "markdown",
   "metadata": {},
   "source": [
    "## df[6]"
   ]
  },
  {
   "cell_type": "code",
   "execution_count": 178,
   "metadata": {},
   "outputs": [
    {
     "data": {
      "text/plain": [
       "array(['徒歩14分', '徒歩9分', '徒歩7分', '徒歩3分', '徒歩10分', '徒歩25分', '徒歩16分', '徒歩4分',\n",
       "       '徒歩11分', '徒歩12分', '徒歩21分', '徒歩30分', '徒歩6分', '徒歩15分', '徒歩23分',\n",
       "       '徒歩8分', '徒歩18分', '徒歩2分', '徒歩20分', '徒歩19分', '徒歩13分', '徒歩5分', None,\n",
       "       '徒歩28分', '徒歩24分', '徒歩17分', '/バス(20分)都民農園下車徒歩1分',\n",
       "       '/バス(17分)長久保下車徒歩2分', '/バス(10分)東葛西八丁目下車徒歩34分',\n",
       "       '/バス(10分)最寄りのバス停下車徒歩14分', '徒歩22分', '/バス(7分)三軒寺下車徒歩1分',\n",
       "       '車5.2km(18分)', '徒歩31分', '徒歩26分', '徒歩27分', '/バス(5分)大泉北中学校入口下車徒歩7分',\n",
       "       '/バス(15分)足立車検場下車徒歩2分', '徒歩1分', '徒歩42分', '/バス(15分)東小岩一丁目下車徒歩2分',\n",
       "       '/バス(27分)石神井郵便局停留所下車徒歩7分', '/バス(15分)谷中中入口下車徒歩3分', '徒歩70分', '徒歩36分',\n",
       "       '/バス(16分)土支田二丁目下車徒歩5分', '/バス(7分)上祖師谷4丁目下車徒歩2分', '徒歩37分',\n",
       "       '/バス(10分)本州製紙裏門下車徒歩2分', '/バス(19分)新小岩1丁目下車徒歩8分', '徒歩33分',\n",
       "       '/バス(18分)比丘尼橋下車徒歩3分', '/バス(5分)日産自動車前下車徒歩4分', '/バス(10分)中央図書館下車徒歩3分',\n",
       "       '/バス(15分)大谷田下車徒歩2分', '徒歩29分', '/バス(4分)善福寺下車徒歩1分',\n",
       "       '/バス(12分)谷原二丁目下車徒歩16分', '/バス(10分)鹿本橋下車徒歩6分', '徒歩32分',\n",
       "       '/バス(13分)水元そよかぜ園下車徒歩1分', '/バス(15分)鹿骨五丁目下車徒歩7分',\n",
       "       '/バス(21分)滋雲堂前下車徒歩1分', '/バス(7分)高円寺駅北口下車徒歩6分',\n",
       "       '/バス(12分)新小51\\u3000東上平井下車徒歩1分', '/バス(15分)東武バス\\u3000西新井駅西口下車徒歩5分',\n",
       "       '/バス(20分)越後山下車徒歩4分', '/バス(27分)第五上石神井住宅下車徒歩6分', '徒歩38分',\n",
       "       '/バス(20分)辰沼団地入口下車徒歩3分', '徒歩35分', '車3.1km(9分)',\n",
       "       '/バス(10分)区立八中下車徒歩2分', '/バス(13分)新蒲田三丁目下車徒歩3分', '徒歩55分',\n",
       "       '/バス(15分)佐野センター前下車徒歩2分', '/バス(25分)関町北町学校下車徒歩8分',\n",
       "       '/バス(15分)都営住宅下車徒歩1分', '徒歩41分', '/バス(21分)新島橋下車徒歩3分',\n",
       "       '/バス(27分)西長久保(バス)下車徒歩1分', '/バス(13分)瑞江斎場下車徒歩20分',\n",
       "       '/バス(28分)西武車庫前下車徒歩1分', '/バス(18分)北出張所下車徒歩2分', '/バス(12分)永安寺下車徒歩6分',\n",
       "       '/バス(18分)武蔵関駅前下車徒歩4分', '徒歩45分', '/バス(12分)葛西駅下車徒歩21分',\n",
       "       '/バス(8分)南葛西第二小学校前下車徒歩1分', '/バス(18分)幸田小学校下車徒歩3分',\n",
       "       '/バス(15分)関原2丁目下車徒歩3分', '/バス(22分)小関下車徒歩9分', '/バス(26分)小関下車徒歩4分',\n",
       "       '/バス(27分)入谷新道(バス)下車徒歩15分', '/バス(35分)東映撮影所前(バス)下車徒歩14分',\n",
       "       '/バス(18分)樫の木公園前下車徒歩6分', '/バス(15分)水元そよかぜ園下車徒歩2分',\n",
       "       '/バス(31分)長久保(東京都)下車徒歩2分', '/バス(15分)ハートアイランド南下車徒歩2分',\n",
       "       '/バス(17分)関町北1丁目下車徒歩3分', '/バス(26分)小関下車徒歩5分', '/バス(19分)花畑3町目下車徒歩6分',\n",
       "       '/バス(20分)岡本3丁目下車徒歩6分', '/バス(18分)江北一丁目下車徒歩8分',\n",
       "       '/バス(21分)関町北小学校下車徒歩8分', '/バス(12分)永安寺前下車徒歩6分', '徒歩34分',\n",
       "       '/バス(19分)下井草二丁目下車徒歩2分', '/バス(8分)国立西が丘競技場北門下車徒歩2分',\n",
       "       '/バス(20分)青梅街道営業所下車徒歩9分', '/バス(12分)松の木下車徒歩6分',\n",
       "       '/バス(12分)水元2丁目下車徒歩2分', '/バス(10分)千住車庫前下車徒歩10分', '/バス(7分)水元中下車徒歩1分',\n",
       "       '/バス(10分)京成バス\\u3000大杉3丁目下車徒歩1分', '/バス(10分)次大夫堀公園下車徒歩7分',\n",
       "       '/バス(11分)土支田二丁目下車徒歩6分', '/バス(15分)天沼マーケット前下車徒歩6分',\n",
       "       '/バス(10分)北出張所下車徒歩3分', '/バス(15分)ハートアイランド南下車徒歩1分',\n",
       "       '/バス(14分)西水元2丁目下車徒歩2分', '/バス(13分)品川シーサイド駅前下車徒歩3分', '徒歩44分',\n",
       "       '/バス(6分)野毛二丁目下車徒歩4分', '/バス(2分)半田稲荷前下車徒歩17分', '車4.6km(17分)',\n",
       "       '/バス(15分)足立総合スポーツセンター前下車徒歩3分', '/バス(18分)北糀谷下車徒歩3分',\n",
       "       '/バス(13分)水元3丁目下車徒歩1分', '/バス(15分)西新井駅西口下車徒歩5分',\n",
       "       '/バス(17分)関町北一丁目下車徒歩1分', '/バス(9分)ハートアイランド南下車徒歩2分',\n",
       "       '/バス(19分)住宅前下車徒歩3分', '/バス(16分)本郷花街道下車徒歩2分', '/バス(12分)加平2丁目下車徒歩5分',\n",
       "       '/バス(10分)保木間一丁目下車徒歩7分', '車3.1km(14分)', '/バス(15分)六木小学校下車徒歩5分',\n",
       "       '/バス(9分)東小松川一丁目下車徒歩7分', '/バス(29分)上石神井イ中学校入口下車徒歩13分',\n",
       "       '/バス(24分)水元特別支援学校前下車徒歩14分', '/バス(21分)鎌田下車徒歩4分',\n",
       "       '/バス(10分)恵32\\u3000五本木下車徒歩4分', '/バス(17分)都民農園下車徒歩2分',\n",
       "       '/バス(14分)中図師下車徒歩4分', '/バス(20分)都民農園下車徒歩3分', '/バス(9分)菅原橋下車徒歩10分',\n",
       "       '/バス(13分)中郷下車徒歩3分', '/バス(15分)NTT技研前下車徒歩4分',\n",
       "       '/バス(17分)小松川警察署前下車徒歩6分', '/バス(30分)駅下車徒歩5分', '/バス(13分)久保新田下車徒歩2分',\n",
       "       '/バス(12分)水元四丁目下車徒歩3分', '/バス(7分)飯塚橋下車徒歩37分', '車2.48km(7分)', '徒歩74分',\n",
       "       '車3.6km(15分)', '/バス(20分)新広橋下車徒歩3分', '/バス(16分)扇2丁目下車徒歩3分',\n",
       "       '/バス(10分)東武バス\\u3000四ッ家町下車徒歩5分', '/バス(9分)仲町西組下車徒歩3分',\n",
       "       '/バス(12分)都バス\\u3000弥生町下車徒歩2分', '/バス(12分)本木2丁目下車徒歩4分',\n",
       "       '/バス(12分)鹿骨五丁目下車徒歩4分', '/バス(17分)足立郷土博物館下車徒歩4分',\n",
       "       '/バス(25分)瑞江斎場下車徒歩3分', '徒歩43分', '/バス(21分)名主屋敷下車徒歩4分',\n",
       "       '/バス(18分)関町北四丁目下車徒歩4分', '徒歩39分', '/バス(13分)野方三丁目下車徒歩1分',\n",
       "       '/バス(20分)有27\\u3000西水元二下車徒歩3分', '/バス(15分)谷中3丁目下車徒歩1分',\n",
       "       '/バス(5分)千歳台4丁目下車徒歩1分', '/バス(20分)上石神井駅前下車徒歩4分',\n",
       "       '/バス(21分)船堀駅前下車徒歩15分', '/バス(20分)保木間町下車徒歩1分', '/バス(6分)光が丘六丁目下車徒歩7分',\n",
       "       '徒歩48分', '/バス(14分)砧本村下車徒歩10分', '/バス(18分)ハートアイランド西(バス)下車徒歩1分',\n",
       "       '/バス(11分)新田3丁目下車徒歩2分', '/バス(15分)谷中三丁目下車徒歩1分',\n",
       "       '/バス(10分)五丁目住宅下車徒歩3分', '/バス(19分)大泉風致地区下車徒歩1分',\n",
       "       '/バス(13分)佐野二丁目下車徒歩3分', '/バス(15分)六木小学校前下車徒歩1分',\n",
       "       '/バス(10分)足立郷土博物館下車徒歩3分', '徒歩65分', '車2.8km(5分)',\n",
       "       '/バス(36分)六ツ木団地下車徒歩4分', '/バス(60分)北出張所下車徒歩3分', '/バス(38分)長久保下車徒歩9分',\n",
       "       '/バス(33分)保谷駅南口下車徒歩10分', '/バス(13分)幸町:国際興業バス下車徒歩2分',\n",
       "       '/バス(16分)大森東5丁目下車徒歩2分', '/バス(30分)新小岩駅前下車徒歩7分',\n",
       "       '/バス(15分)江戸川区役所前下車徒歩7分', '/バス(6分)大杉第二小学校下車徒歩9分',\n",
       "       '/バス(11分)代沢1丁目下車徒歩2分', '/バス(11分)石神井団地入口下車徒歩5分',\n",
       "       '/バス(17分)公園橋下車徒歩2分', '/バス(28分)大泉学園駅南口下車徒歩6分', '/バス(11分)二丁目西下車徒歩4分',\n",
       "       '/バス(40分)都バス\\u3000ドナウ通り下車徒歩2分', '徒歩63分', '/バス(36分)高松五丁目下車徒歩5分',\n",
       "       '/バス(27分)西村下車徒歩10分', '/バス(13分)品川シーサイド駅前下車徒歩1分',\n",
       "       '/バス(17分)関町北一丁目下車徒歩18分', '車5.9km(17分)', '/バス(15分)鹿骨3丁目下車徒歩5分',\n",
       "       '徒歩156分', '/バス(15分)花畑団地停下車徒歩8分', '/バス(15分)長久保下車徒歩1分',\n",
       "       '/バス(21分)新小岩駅前下車徒歩2分', '/バス(20分)いこいの家入口下車徒歩7分',\n",
       "       '/バス(8分)大井第一小学校下車徒歩7分', '/バス(15分)西長久保下車徒歩2分', '/バス(12分)西長久保下車徒歩3分',\n",
       "       '/バス(22分)下目黒五丁目下車徒歩1分', '徒歩47分', '/バス(11分)代沢一丁目下車徒歩6分',\n",
       "       '/バス(15分)関町北四丁目下車徒歩3分', '/バス(15分)神明町下車徒歩2分',\n",
       "       '/バス(10分)南葛西中学校前下車徒歩1分', '/バス(12分)舎人二ツ橋下車徒歩4分',\n",
       "       '/バス(11分)学芸大学駅下車徒歩3分', '徒歩40分', '/バス(22分)住宅前下車徒歩6分',\n",
       "       '/バス(40分)都営バス\\u3000ドナウ通り下車徒歩2分', '/バス(25分)篠崎駅下車徒歩2分',\n",
       "       '/バス(11分)菊池外科胃腸科下車徒歩3分', '/バス(20分)大泉北中学校入口下車徒歩11分',\n",
       "       '/バス(20分)武蔵関駅下車徒歩3分', '/バス(10分)水元4丁目下車徒歩3分',\n",
       "       '/バス(10分)東武バス\\u3000四ツ家町下車徒歩7分', '/バス(15分)一ツ家一丁目下車徒歩1分',\n",
       "       '/バス(17分)高松5丁目下車徒歩5分', '/バス(4分)東新小岩三丁目下車徒歩7分', '車4.3km(12分)',\n",
       "       '/バス(17分)江戸川高校前下車徒歩7分', '徒歩78分', '/バス(24分)関町北四丁目下車徒歩3分',\n",
       "       '/バス(30分)北園(バス)下車徒歩4分', '/バス(15分)花畑交番前下車徒歩3分',\n",
       "       '/バス(21分)篠崎2丁目下車徒歩2分', '/バス(11分)EXシアター六本木前下車徒歩9分',\n",
       "       '/バス(15分)武蔵関駅入口下車徒歩6分', '/バス(19分)西水元二丁目下車徒歩2分',\n",
       "       '/バス(18分)高松大門通り下車徒歩2分', '/バス(6分)総合レクリエーション公園前下車徒歩12分',\n",
       "       '/バス(12分)清水公園入口下車徒歩2分', '/バス(20分)京葉交差点下車徒歩3分',\n",
       "       '/バス(15分)江戸川高校前下車徒歩5分', '/バス(26分)小関下車徒歩18分', '/バス(10分)永安寺下車徒歩8分',\n",
       "       '/バス(5分)三軒寺下車徒歩3分', '/バス(25分)江戸川高校前下車徒歩8分', '/バス(20分)枝川2丁目下車徒歩13分',\n",
       "       '/バス(6分)総合荻窪病院下車徒歩1分', '/バス(17分)長久保下車徒歩5分', '/バス(9分)京葉交差点下車徒歩1分',\n",
       "       '/バス(21分)大泉郵便局下車徒歩3分', '/バス(8分)南小岩二下車徒歩29分', '/バス(10分)花畑4丁目下車徒歩8分',\n",
       "       '/バス(14分)井草中学校下車徒歩1分', '/バス(13分)下馬営業所下車徒歩2分',\n",
       "       '/バス(11分)清新ふたば小学校前下車徒歩4分', '/バス(10分)善福寺郵便局下車徒歩2分',\n",
       "       '/バス(14分)砧本村停下車徒歩10分', '/バス(7分)杉並5小前下車徒歩7分',\n",
       "       '/バス(5分)西武車庫前[練馬区]下車徒歩8分', '/バス(19分)三園一丁目中央下車徒歩12分',\n",
       "       '/バス(19分)久保新田(東京都)下車徒歩2分', '/バス(12分)武蔵関駅下車徒歩2分', '車2.78km(7分)',\n",
       "       '/バス(30分)都民農園下車徒歩6分', '/バス(14分)土支田二丁目下車徒歩8分',\n",
       "       '/バス(16分)鹿骨一丁目下車徒歩2分', '/バス(25分)松江第一中前下車徒歩4分', '徒歩75分',\n",
       "       '/バス(17分)下石神井坂下下車徒歩2分', '/バス(24分)南小岩二丁目下車徒歩4分',\n",
       "       '/バス(41分)三原台一丁目下車徒歩2分', '/バス(14分)西水元一丁目下車徒歩1分', '/バス(9分)廻沢下車徒歩5分',\n",
       "       '/バス(21分)大泉町四丁目下車徒歩5分', '/バス(20分)水道端下車徒歩5分',\n",
       "       '/バス(16分)小松川三丁目下車徒歩6分', '/バス(22分)住宅前[練馬区]下車徒歩3分',\n",
       "       '/バス(11分)学芸付属中学校下車徒歩3分', '/バス(17分)西荻窪駅下車徒歩4分',\n",
       "       '/バス(15分)都民住宅下車徒歩2分', '/バス(25分)松江中下車徒歩4分', '/バス(10分)都民農園下車徒歩10分',\n",
       "       '/バス(20分)北糀谷下車徒歩3分', '/バス(25分)大泉郵便局下車徒歩2分', '車3.5km(10分)',\n",
       "       '/バス(10分)鎌田下車徒歩5分', '/バス(15分)関町北小学校下車徒歩6分', '/バス(20分)法林寺下車徒歩2分',\n",
       "       '/バス(24分)西武車庫前下車徒歩21分', '/バス(4分)目白5丁目下車徒歩4分',\n",
       "       '/バス(12分)小松川警察署前下車徒歩12分', '/バス(5分)堀江団地下車徒歩4分',\n",
       "       '/バス(19分)松江第一中学校前下車徒歩4分', '/バス(10分)生活実習所前下車徒歩3分',\n",
       "       '/バス(18分)大泉風致地区下車徒歩2分', '/バス(14分)上篠崎下車徒歩4分',\n",
       "       '/バス(15分)武蔵関駅入口下車徒歩1分', '/バス(15分)花畑団地下車徒歩5分',\n",
       "       '/バス(21分)保木間1丁目下車徒歩8分', '/バス(10分)農芸高校前下車徒歩2分',\n",
       "       '/バス(25分)北園(東京都)下車徒歩5分', '徒歩52分', '/バス(12分)飯塚橋下車徒歩2分',\n",
       "       '/バス(20分)小岩警察・区民館下車徒歩2分', '/バス(12分)葛西駅下車徒歩41分',\n",
       "       '/バス(15分)新広場下車徒歩2分', '/バス(33分)東武区民間入口下車徒歩2分', '/バス(15分)水元高校下車徒歩2分',\n",
       "       '車3.2km(9分)', '/バス(24分)南篠崎3丁目下車徒歩5分', '/バス(8分)公園前下車徒歩7分',\n",
       "       '/バス(15分)花畑団地下車徒歩10分', '/バス(12分)成城四番下車徒歩4分', '/バス(25分)加賀1丁目下車徒歩2分',\n",
       "       '/バス(18分)松本小学校下車徒歩1分', '車7.3km(25分)', '/バス(18分)小岩駅下車徒歩2分',\n",
       "       '/バス(25分)中郷下車徒歩4分', '/バス(16分)小72\\u3000ポニーランド下車徒歩3分',\n",
       "       '/バス(18分)都営住宅下車徒歩2分', '/バス(9分)上鎌田下車徒歩7分', '/バス(25分)住宅前(練馬区)下車徒歩3分',\n",
       "       '徒歩62分', '/バス(15分)関町南三丁目下車徒歩1分', '/バス(15分)税務署前下車徒歩5分',\n",
       "       '/バス(17分)松本弁天下車徒歩4分', '/バス(15分)大谷田1丁目下車徒歩8分',\n",
       "       '/バス(3分)江戸川高校前下車徒歩6分', '/バス(15分)北大泉下車徒歩5分',\n",
       "       '/バス(9分)都バス\\u3000ハートアイランド南下車徒歩2分', '/バス(10分)雪見橋南詰下車徒歩1分',\n",
       "       '/バス(52分)学園橋下車徒歩2分', '/バス(1分)千住車庫前下車徒歩9分', '/バス(11分)臼田坂下下車徒歩1分',\n",
       "       '/バス(3分)鹿浜三丁目下車徒歩12分', '/バス(15分)総合レクリエーション公園下車徒歩11分',\n",
       "       '/バス(14分)関町北4丁目下車徒歩3分', '/バス(15分)鹿本中学校下車徒歩10分',\n",
       "       '/バス(23分)和光市南下車徒歩5分', '/バス(15分)大泉町4丁目下車徒歩5分', '/バス(21分)今井下車徒歩2分',\n",
       "       '/バス(15分)石神井高校前下車徒歩1分', '/バス(20分)新田下車徒歩12分', '/バス(13分)長久保下車徒歩5分',\n",
       "       '/バス(20分)ときわ橋下車徒歩1分', '/バス(13分)東武バス\\u3000ハートランド南下車徒歩1分',\n",
       "       '/バス(12分)下井草5丁目下車徒歩3分', '/バス(6分)谷原中学校下車徒歩1分',\n",
       "       '/バス(23分)西水元一丁目下車徒歩2分', '/バス(15分)都営バス\\u3000NTT江戸川支店前下車徒歩4分',\n",
       "       '/バス(13分)大泉町2丁目下車徒歩8分', '/バス(20分)岡本三丁目下車徒歩3分',\n",
       "       '/バス(20分)辰沼団地入口下車徒歩1分', '/バス(15分)佐野センター下車徒歩1分',\n",
       "       '/バス(26分)亀有駅下車徒歩12分', '/バス(12分)辰沼小学校入口下車徒歩2分',\n",
       "       '/バス(10分)谷中三郵便局前下車徒歩3分', '/バス(14分)東小松川二丁目下車徒歩1分',\n",
       "       '/バス(12分)野方駅北口下車徒歩1分', '/バス(14分)東武バス\\u3000六町駅下車徒歩2分',\n",
       "       '/バス(15分)大谷田5丁目下車徒歩1分', '/バス(20分)大谷田四丁目下車徒歩1分',\n",
       "       '/バス(15分)六町駅入口下車徒歩10分', '/バス(10分)船堀小学校前下車徒歩4分',\n",
       "       '/バス(3分)小松中下車徒歩20分', '車2.8km(10分)', '/バス(6分)総合レクリエーション前下車徒歩24分',\n",
       "       '/バス(6分)等々力7丁目下車徒歩3分', '/バス(17分)ハートアイランド東下車徒歩2分',\n",
       "       '/バス(21分)住宅前下車徒歩8分', '/バス(22分)大泉学園町四丁目下車徒歩4分',\n",
       "       '/バス(55分)長久保(東京都)下車徒歩5分', '/バス(6分)南葛西小学校前下車徒歩4分',\n",
       "       '/バス(6分)土支田交番下車徒歩3分', '/バス(29分)入谷三丁目下車徒歩6分',\n",
       "       '/バス(10分)三原台中学校下車徒歩3分', '/バス(8分)雪見橋下車徒歩3分',\n",
       "       '/バス(35分)中丸小学校下車下車徒歩1分', '/バス(15分)新田3丁目下車徒歩3分',\n",
       "       '/バス(27分)葛飾区役所下車徒歩10分', '/バス(17分)長久保下車徒歩3分', '/バス(15分)鷺ノ宮駅下車徒歩4分',\n",
       "       '/バス(32分)大泉郵便局下車徒歩5分', '/バス(9分)北加平下車徒歩5分', '/バス(9分)巽橋下車徒歩8分',\n",
       "       '/バス(7分)菅原橋下車徒歩4分', '/バス(10分)都営\\u3000弥生町下車徒歩2分',\n",
       "       '/バス(15分)西一之江二丁目下車徒歩5分', '/バス(20分)東武バス\\u3000西新井陸橋下車徒歩2分',\n",
       "       '/バス(18分)土支田八幡下車徒歩5分', '/バス(18分)江北陸橋下下車徒歩2分',\n",
       "       '/バス(12分)田柄三丁目下車徒歩3分', '/バス(7分)光が丘六丁目下車徒歩6分', '/バス(8分)西台1丁目下車徒歩2分',\n",
       "       '/バス(6分)関町南二丁目下車徒歩3分', '/バス(15分)水元5丁目下車徒歩4分', '車3.9km(13分)',\n",
       "       '/バス(19分)新小岩駅前下車徒歩4分', '/バス(15分)浮間舟渡駅行\\u3000浮間舟渡駅下車徒歩6分',\n",
       "       '/バス(35分)桑川町下車徒歩7分', '/バス(27分)石神井団地入口下車徒歩3分', '車2.58km(7分)',\n",
       "       '/バス(15分)松江第一中学校前下車徒歩5分', '/バス(15分)名主屋敷下車徒歩4分',\n",
       "       '/バス(14分)大杉第二小学校下車徒歩8分', '/バス(15分)宇奈根地区会館下車徒歩1分',\n",
       "       '/バス(15分)興野公団住宅下車徒歩2分', '/バス(13分)宇奈根地区会館下車徒歩3分',\n",
       "       '/バス(20分)大泉郵便局下車徒歩3分', '/バス(15分)興本センター前下車徒歩3分',\n",
       "       '/バス(10分)大泉町4丁目下車徒歩4分', '/バス(15分)光が丘南口入口下車徒歩9分',\n",
       "       '/バス(16分)大泉風致地区下車徒歩7分', '/バス(23分)新小岩駅前下車徒歩3分',\n",
       "       '/バス(11分)水元神社前下車徒歩2分', '/バス(15分)鹿骨下車徒歩3分', '/バス(21分)大泉郵便局下車徒歩2分',\n",
       "       '/バス(6分)次大夫堀公園下車徒歩6分', '/バス(9分)越後山下車徒歩6分', '/バス(15分)水元小学校下車徒歩3分',\n",
       "       '/バス(15分)喜多見小学校前下車徒歩4分', '/バス(13分)大泉町二丁目下車徒歩7分', '徒歩58分',\n",
       "       '/バス(22分)武蔵関駅入口下車徒歩2分', '/バス(24分)枝川二丁目下車徒歩18分',\n",
       "       '/バス(13分)小豆沢二丁目下車徒歩2分', '/バス(6分)東武バス下車徒歩13分', '/バス(23分)水道端下車徒歩6分',\n",
       "       '/バス(18分)鹿骨五丁目下車徒歩7分', '/バス(10分)三ッ塚下車徒歩1分', '/バス(8分)下井草郵便局下車徒歩16分',\n",
       "       '/バス(12分)善福寺郵便局前下車徒歩2分', '/バス(15分)仲町東組下車徒歩1分',\n",
       "       '/バス(17分)萩中公園前下車徒歩5分', '/バス(20分)大泉学園駅南口下車徒歩5分',\n",
       "       '/バス(40分)谷原中学校前下車徒歩5分', '/バス(20分)上池上下車徒歩5分',\n",
       "       '/バス(13分)練高01\\u3000光が丘六下車徒歩5分', '/バス(20分)関町北一丁目下車徒歩2分',\n",
       "       '/バス(14分)東陽町駅前下車徒歩5分', '/バス(19分)住宅前下車徒歩7分',\n",
       "       '/バス(11分)宇奈根ハンカチ公園下車徒歩7分', '/バス(15分)本木小学校前下車徒歩3分',\n",
       "       '/バス(15分)西水元2丁目下車徒歩2分', '/バス(25分)司法研修所(バス)下車徒歩10分',\n",
       "       '/バス(10分)谷中5丁目下車徒歩3分', '/バス(9分)ふれあいの家下車', '徒歩113分',\n",
       "       '/バス(10分)鹿浜3丁目下車徒歩4分', '/バス(20分)土支田二丁目下車徒歩7分',\n",
       "       '/バス(24分)西武車庫前下車徒歩4分', '/バス(23分)水道端下車徒歩4分', '/バス(18分)六の橋下車徒歩5分',\n",
       "       '車6.4km(22分)', '/バス(20分)椿2丁目下車徒歩1分', '/バス(10分)廻沢下車徒歩4分',\n",
       "       '/バス(33分)学園橋下車徒歩4分', '/バス(21分)大泉郵便局下車徒歩9分',\n",
       "       '/バス(28分)新町商店街入り口下車徒歩7分', '/バス(8分)土支田1丁目下車徒歩2分',\n",
       "       '/バス(20分)花畑団地下車徒歩7分', '/バス(14分)東武バス\\u3000興本センター前下車徒歩3分',\n",
       "       '/バス(16分)水道端下車徒歩2分', '/バス(11分)宝性寺下車徒歩1分', '/バス(25分)関町北小学校下車徒歩2分',\n",
       "       '/バス(13分)NTT江戸川支店前下車徒歩3分', '車3.3km(12分)', '車3.6km(11分)',\n",
       "       '/バス(24分)水元総合スポーツセンター下車徒歩6分', '/バス(14分)砧本村下車徒歩14分',\n",
       "       '/バス(2分)南葛西中学校前下車徒歩2分', '/バス(21分)亀有二丁目東下車徒歩10分',\n",
       "       '/バス(12分)宇奈根1丁目下車徒歩3分', '/バス(20分)竹の塚駅東口下車徒歩2分',\n",
       "       '/バス(8分)光が丘団地下車徒歩12分', '/バス(12分)越後山下車徒歩5分', '/バス(28分)富士街道下車徒歩2分',\n",
       "       '/バス(19分)都営住宅下車徒歩5分', '/バス(18分)篠崎駅下車徒歩4分', '/バス(19分)東六郷三丁目下車徒歩2分',\n",
       "       '/バス(20分)六木4丁目下車徒歩2分', '徒歩69分', '徒歩46分', '車4.1km(8分)',\n",
       "       '/バス(23分)高松五丁目下車徒歩5分', '徒歩68分', '/バス(21分)大泉郵便局下車徒歩4分',\n",
       "       '/バス(13分)関町南二丁目下車徒歩23分', '/バス(10分)二軒新田下車徒歩14分',\n",
       "       '/バス(13分)上篠崎下車徒歩2分', '/バス(15分)関町北4丁目下車徒歩2分',\n",
       "       '/バス(22分)新町商店街入口下車徒歩4分', '/バス(25分)住宅前(練馬区)下車徒歩8分',\n",
       "       '/バス(20分)江戸川区役所前下車徒歩8分', '/バス(14分)京葉交差点下車徒歩5分',\n",
       "       '/バス(19分)西水元二丁目下車徒歩3分', '/バス(10分)江戸川区役所下車徒歩14分',\n",
       "       '/バス(14分)南千住駅東口下車徒歩5分', '/バス(18分)鹿骨5丁目下車徒歩5分',\n",
       "       '/バス(10分)三原台中学校下車徒歩1分', '/バス(20分)上石神井駅下車徒歩4分',\n",
       "       '/バス(18分)大泉町4丁目下車徒歩4分', '/バス(11分)松江下車徒歩2分', '/バス(8分)ふれあいの家下車徒歩4分',\n",
       "       '/バス(12分)江戸川区役所前下車徒歩10分', '/バス(26分)長久保下車徒歩4分', '/バス(8分)大島駅前下車徒歩2分',\n",
       "       '/バス(15分)学園通り補助230号線下車徒歩2分', '/バス(6分)大杉第二小学校(バス)下車徒歩3分',\n",
       "       '/バス(10分)関原2丁目下車徒歩3分', '/バス(17分)都営\\u3000新小岩一丁目下車徒歩3分',\n",
       "       '/バス(7分)関町北一丁目下車徒歩4分', '/バス(37分)大泉風致地区下車徒歩3分',\n",
       "       '/バス(15分)水元2丁目下車徒歩2分', '/バス(17分)土支田八幡前下車徒歩4分',\n",
       "       '/バス(18分)北出張所下車徒歩1分', '/バス(20分)高砂小橋下車徒歩4分', '/バス(10分)西門寺橋下車徒歩2分',\n",
       "       '/バス(11分)氷川神社下車徒歩1分', '/バス(17分)大泉町3丁目下車徒歩5分', '/バス(16分)船堀駅前下車徒歩2分',\n",
       "       '/バス(9分)小76\\u3000鹿骨五下車徒歩1分', '/バス(10分)練高01\\u3000旭町南地区区民館下車徒歩5分',\n",
       "       '/バス(18分)武蔵関駅入口下車徒歩2分', '/バス(24分)東武バス\\u3000西新井車庫下車徒歩5分',\n",
       "       '/バス(14分)東武バス\\u3000都営住宅下車徒歩2分', '/バス(21分)大泉三丁目下車徒歩4分',\n",
       "       '/バス(15分)花畑小下車徒歩1分', '/バス(7分)赤羽西六丁目下車徒歩3分', '徒歩51分',\n",
       "       '/バス(18分)西水元2丁目下車徒歩6分', '/バス(29分)都民農園(バス)下車徒歩3分',\n",
       "       '/バス(6分)富士見台一丁目下車徒歩2分', '/バス(17分)都民農園下車徒歩1分', '/バス(14分)松本弁天下車徒歩3分',\n",
       "       '/バス(24分)山王三丁目下車徒歩9分', '/バス(15分)水元5丁目停下車徒歩2分', '/バス(20分)長久保下車徒歩1分',\n",
       "       '/バス(6分)司法研修所下車徒歩10分', '/バス(15分)佐野2丁目下車徒歩3分', '/バス(20分)西台公園下車徒歩3分',\n",
       "       '/バス(32分)石神井警察署下車徒歩1分', '/バス(7分)京急バス(森50)下車徒歩2分',\n",
       "       '/バス(19分)大泉風致地区下車徒歩2分', '/バス(28分)上石神井駅(南口)下車徒歩14分',\n",
       "       '/バス(15分)佐野二丁目下車徒歩3分', '/バス(5分)練馬春日町駅下車徒歩1分', '車5.4km(18分)',\n",
       "       '徒歩60分', '/バス(17分)菅原橋下車徒歩7分', '/バス(21分)丸山西橋下車徒歩3分',\n",
       "       '/バス(7分)小岩消防署下車徒歩23分', '/バス(15分)岡本1丁目下車徒歩2分', '車3km(12分)',\n",
       "       '/バス(15分)大谷田5丁目下車徒歩5分', '/バス(15分)東武バス\\u3000六ツ木団地下車徒歩5分',\n",
       "       '/バス(10分)永安寺前下車徒歩1分', '/バス(15分)新小51\\u3000中関橋下車徒歩9分',\n",
       "       '/バス(10分)南葛西会館前下車徒歩2分', '/バス(16分)新小岩一丁目下車徒歩4分', '/バス(10分)鎌田下車徒歩6分',\n",
       "       '/バス(11分)巽橋下車徒歩5分', '/バス(8分)柳之宮下車徒歩19分',\n",
       "       '/バス(12分)東武バス\\u3000本木小学校下車徒歩6分', '/バス(5分)目黒消防署下車徒歩3分',\n",
       "       '/バス(10分)土支田二丁目下車徒歩6分', '/バス(7分)小名木川小学校入口下車徒歩1分',\n",
       "       '/バス(8分)大杉第二小学校下車徒歩7分', '/バス(13分)草41\\u3000赤不動下車徒歩5分',\n",
       "       '/バス(7分)農業試験場下車徒歩4分', '/バス(6分)関町南二丁目下車徒歩22分',\n",
       "       '/バス(5分)長島町交差点下車徒歩6分', '/バス(10分)関町郵便局前下車徒歩1分',\n",
       "       '/バス(20分)船28\\u3000大杉東小下車徒歩3分', '/バス(20分)亀21\\u3000東砂六下車徒歩3分',\n",
       "       '/バス(10分)花畑六丁目下車徒歩2分', '/バス(35分)中丸小学校下車徒歩18分',\n",
       "       '/バス(22分)駒大深沢キャンパス前下車徒歩3分', '徒歩157分', '/バス(14分)土支田二丁目下車徒歩4分',\n",
       "       '/バス(2分)亀有二丁目下車徒歩3分', '/バス(29分)竹の塚駅東口下車徒歩10分',\n",
       "       '/バス(14分)東武バス\\u3000扇二丁目下車徒歩4分', '/バス(20分)幸田小学校下車徒歩3分',\n",
       "       '/バス(18分)ハートアイランド南下車徒歩1分', '/バス(15分)水元高校下車徒歩3分',\n",
       "       '/バス(5分)国立西が丘競技場北門下車徒歩1分', '/バス(26分)東武バス\\u3000南花畑1丁目下車徒歩2分',\n",
       "       '/バス(28分)西武車庫前下車徒歩21分', '/バス(24分)北園(東京都)下車徒歩1分',\n",
       "       '/バス(14分)農業試験場下車徒歩6分', '/バス(16分)土支田八幡下車徒歩5分',\n",
       "       '/バス(15分)関原2丁目下車徒歩2分', '/バス(7分)南葛西中学校下車徒歩4分',\n",
       "       '/バス(15分)鹿浜三丁目交差点下車徒歩3分', '/バス(5分)大森十中前下車徒歩9分',\n",
       "       '/バス(20分)竹ノ塚駅西口下車徒歩2分', '/バス(16分)松江下車徒歩3分', '/バス(20分)南小岩三丁目下車徒歩3分',\n",
       "       '/バス(14分)交通安全教育センター入口下車徒歩4分', '/バス(20分)上沼田団地下車徒歩3分',\n",
       "       '/バス(20分)上石神井中学校入口下車徒歩1分', '/バス(8分)東武バス\\u3000末広町下車徒歩8分',\n",
       "       '/バス(20分)武蔵関駅入口下車徒歩7分', '/バス(10分)バス下車',\n",
       "       '/バス(14分)交通安全教育センター入り口下車徒歩2分', '/バス(3分)住宅前下車徒歩4分',\n",
       "       '/バス(30分)大泉学園駅南口下車徒歩2分', '/バス(25分)住宅前(練馬区)下車徒歩4分',\n",
       "       '/バス(10分)本町4丁目下車徒歩3分', '/バス(15分)蒲田下車徒歩9分', '/バス(16分)大泉風致地区下車徒歩8分',\n",
       "       '/バス(20分)扇北詰下車徒歩5分', '/バス(15分)大谷田5丁目下車徒歩3分',\n",
       "       '/バス(25分)大泉北中入口下車徒歩5分', '/バス(15分)水元小学校前下車徒歩2分',\n",
       "       '/バス(7分)臼田坂上下車徒歩3分', '/バス(10分)スポーツランド入口下車徒歩4分',\n",
       "       '/バス(15分)武蔵関駅駅入り口下車徒歩4分', '/バス(25分)土支田八幡前下車徒歩3分',\n",
       "       '/バス(18分)亀有駅下車徒歩4分', '/バス(19分)高松大門通り下車徒歩8分', '車5.5km(20分)',\n",
       "       '/バス(12分)東深沢小学校下車徒歩1分', '/バス(9分)成城八丁目下車徒歩1分',\n",
       "       '/バス(12分)辰沼団地入口下車徒歩2分', '/バス(10分)永安寺前下車徒歩5分',\n",
       "       '/バス(10分)東武バス\\u3000四ツ家町下車徒歩1分', '/バス(16分)長久保下車徒歩5分',\n",
       "       '/バス(19分)世田谷観音下車徒歩3分', '/バス(11分)都バス\\u3000東京都実験プラザ前停下車徒歩2分',\n",
       "       '/バス(7分)光が丘六丁目下車徒歩32分', '/バス(20分)南花畑1丁目下車徒歩6分',\n",
       "       '/バス(15分)東保木間下車徒歩3分', '/バス(9分)園芸高校前下車徒歩3分', '/バス(13分)西葛西駅前下車徒歩2分',\n",
       "       '/バス(4分)学園橋下車徒歩5分', '/バス(12分)もみじが丘下車徒歩4分', '/バス(10分)南葛西中学校前下車徒歩2分',\n",
       "       '/バス(38分)西大泉二丁目交番前下車徒歩6分', '/バス(20分)住宅前下車徒歩5分',\n",
       "       '/バス(6分)東武バス\\u3000高砂町下車徒歩12分', '/バス(4分)東宝前下車徒歩9分',\n",
       "       '/バス(15分)大杉4丁目下車徒歩2分', '/バス(15分)六町駅前下車徒歩2分',\n",
       "       '/バス(2分)新小岩駅東北広場下車徒歩2分', '徒歩86分', '/バス(19分)都立大学駅北口下車徒歩5分',\n",
       "       '/バス(12分)東武バス\\u3000本木2丁目下車徒歩4分', '徒歩53分', '/バス(14分)中葛西七丁目下車徒歩6分',\n",
       "       '/バス(8分)東新小岩8丁目下車徒歩6分', '/バス(10分)上石神井駅下車徒歩4分', '/バス(17分)住宅前下車徒歩4分',\n",
       "       '徒歩54分', '/バス(13分)大泉風致地区下車徒歩1分', '/バス(18分)巽橋下車徒歩14分',\n",
       "       '/バス(20分)三ツ塚下車徒歩1分', '/バス(13分)関町南二丁目下車徒歩1分', '/バス(11分)志村坂上下車徒歩2分',\n",
       "       '車4.3km(14分)', '/バス(23分)新小岩駅前下車徒歩5分', '/バス(8分)南葛西4丁目下車徒歩4分',\n",
       "       '/バス(12分)下新倉下車徒歩8分', '/バス(12分)弁天神社下車徒歩2分', '/バス(10分)鹿骨五丁目下車徒歩7分',\n",
       "       '/バス(31分)長久保(バス)下車徒歩11分', '/バス(8分)北加平下車徒歩5分',\n",
       "       '/バス(11分)放水路土手下下車徒歩4分', '/バス(15分)武蔵関駅入口下車徒歩10分',\n",
       "       '/バス(10分)南葛西会館前下車徒歩1分', '/バス(10分)NHK技術研究所下車', '/バス(12分)赤不動下車徒歩2分',\n",
       "       '/バス(14分)西一之江三丁目下車徒歩2分', '/バス(10分)大森東四丁目下車徒歩4分',\n",
       "       '/バス(27分)土支田二丁目(バス)下車徒歩19分', '/バス(10分)土支田2丁目下車徒歩4分',\n",
       "       '/バス(10分)NTT技研前下車徒歩4分', '/バス(10分)花畑四丁目下車徒歩8分',\n",
       "       '/バス(16分)大泉風致地区下車徒歩2分', '/バス(22分)武蔵関駅入口下車徒歩3分',\n",
       "       '/バス(18分)江戸川高校前下車徒歩12分', '/バス(20分)雪見橋北詰下車徒歩4分',\n",
       "       '/バス(25分)瑞江駅下車徒歩4分', '/バス(10分)春江町五丁目下車徒歩5分',\n",
       "       '/バス(14分)奥戸三丁目下車徒歩11分', '/バス(16分)土支田八幡下車徒歩25分',\n",
       "       '/バス(20分)西水元下車徒歩3分', '/バス(14分)巽橋下車徒歩9分', '/バス(6分)善福寺下車徒歩2分',\n",
       "       '/バス(17分)長久保下車徒歩1分', '/バス(5分)西武車庫前下車徒歩2分', '徒歩73分',\n",
       "       '/バス(15分)六町下車徒歩3分', '/バス(10分)神明町下車徒歩4分', '/バス(17分)一ツ家2丁目下車徒歩1分',\n",
       "       '/バス(12分)宇奈根ハンカチ公園下車徒歩2分', '/バス(18分)大泉一小下車徒歩8分',\n",
       "       '/バス(1分)岡本3丁目下車徒歩10分', '/バス(15分)水元神社前下車徒歩2分',\n",
       "       '/バス(20分)枝川二丁目下車徒歩13分', '/バス(18分)長久保下車徒歩4分',\n",
       "       '/バス(11分)東深沢中学校下車徒歩2分', '/バス(12分)葛西駅下車徒歩35分', '/バス(8分)水元4丁目下車',\n",
       "       '/バス(25分)新小岩3丁目下車徒歩3分', '/バス(20分)北裏下車徒歩6分', '/バス(12分)東葛西8丁目下車徒歩3分',\n",
       "       '/バス(14分)東武バス\\u3000都営住宅下車徒歩5分', '/バス(12分)東淵江庭園下車徒歩10分',\n",
       "       '/バス(24分)都立足立高校前下車徒歩15分', '/バス(13分)新小21\\u3000松島三下車徒歩4分',\n",
       "       '/バス(15分)陣屋橋下車徒歩7分', '/バス(15分)鎌田下車徒歩5分', '/バス(13分)本木小学校下車徒歩1分',\n",
       "       '/バス(22分)葛西南高校入口下車徒歩8分', '/バス(15分)東陽一丁目下車徒歩12分',\n",
       "       '/バス(11分)関町北一丁目下車徒歩3分', '/バス(15分)谷中5丁目下車徒歩2分',\n",
       "       '/バス(14分)東武バス\\u3000待木医院前下車徒歩1分', '/バス(12分)NHK技術研究所下車',\n",
       "       '/バス(15分)西台公園下車徒歩4分', '車7.4km(21分)', '/バス(17分)いこいの家入口下車徒歩6分',\n",
       "       '/バス(12分)風致地区下車徒歩9分', '/バス(15分)辰沼団地下車徒歩2分', '/バス(25分)新小岩1丁目下車徒歩5分',\n",
       "       '/バス(23分)足立車検場下車徒歩2分', '/バス(36分)保谷駅南口下車徒歩2分', '/バス(11分)北裏下車徒歩4分',\n",
       "       '/バス(29分)長久保(東京都)下車徒歩5分', '/バス(15分)青井6丁目下車徒歩4分',\n",
       "       '/バス(9分)水元公園下車徒歩3分', '徒歩56分', '/バス(15分)リブレ京成前下車徒歩1分',\n",
       "       '/バス(8分)雪が谷下車徒歩6分', '/バス(8分)比丘尼橋(バス)下車徒歩23分', '車2.9km(9分)',\n",
       "       '/バス(12分)花畑四丁目下車徒歩1分', '車3km(10分)', '/バス(17分)小73\\u3000鹿骨三下車徒歩1分',\n",
       "       '/バス(27分)小菅下車徒歩10分', '/バス(2分)善福寺下車徒歩10分', '/バス(13分)長久保下車徒歩9分',\n",
       "       '/バス(21分)大岡山小学校前下車徒歩3分', '/バス(16分)東小松川小学校前下車徒歩9分',\n",
       "       '/バス(23分)鹿浜6丁目下車徒歩4分', '/バス(15分)多摩川大橋下車徒歩1分', '/バス(17分)天祖神社下車徒歩3分',\n",
       "       '/バス(11分)新小51\\u3000新小岩駅下車徒歩8分', '/バス(8分)しばられ地蔵前下車',\n",
       "       '/バス(28分)水元五丁目下車徒歩17分', '/バス(10分)西03\\u3000西新井消防署前下車徒歩3分',\n",
       "       '車5.8km(20分)', '/バス(13分)土支田3丁目下車徒歩2分', '/バス(10分)宇奈根地区会館前下車徒歩4分',\n",
       "       '/バス(11分)東砂4丁目下車徒歩1分', '/バス(10分)あいぐみ公園前下車徒歩2分',\n",
       "       '/バス(9分)池上営業所前下車徒歩1分', '/バス(9分)池上営業所前下車徒歩3分', '/バス(12分)榎北下車徒歩4分'],\n",
       "      dtype=object)"
      ]
     },
     "execution_count": 178,
     "metadata": {},
     "output_type": "execute_result"
    }
   ],
   "source": [
    "df[6].unique()"
   ]
  },
  {
   "cell_type": "code",
   "execution_count": 179,
   "metadata": {},
   "outputs": [
    {
     "data": {
      "text/html": [
       "<div>\n",
       "<style scoped>\n",
       "    .dataframe tbody tr th:only-of-type {\n",
       "        vertical-align: middle;\n",
       "    }\n",
       "\n",
       "    .dataframe tbody tr th {\n",
       "        vertical-align: top;\n",
       "    }\n",
       "\n",
       "    .dataframe thead th {\n",
       "        text-align: right;\n",
       "    }\n",
       "</style>\n",
       "<table border=\"1\" class=\"dataframe\">\n",
       "  <thead>\n",
       "    <tr style=\"text-align: right;\">\n",
       "      <th></th>\n",
       "      <th>0</th>\n",
       "      <th>1</th>\n",
       "    </tr>\n",
       "  </thead>\n",
       "  <tbody>\n",
       "    <tr>\n",
       "      <th>0</th>\n",
       "      <td>徒歩14分</td>\n",
       "      <td>None</td>\n",
       "    </tr>\n",
       "    <tr>\n",
       "      <th>1</th>\n",
       "      <td>徒歩9分</td>\n",
       "      <td>None</td>\n",
       "    </tr>\n",
       "    <tr>\n",
       "      <th>2</th>\n",
       "      <td>徒歩7分</td>\n",
       "      <td>None</td>\n",
       "    </tr>\n",
       "  </tbody>\n",
       "</table>\n",
       "</div>"
      ],
      "text/plain": [
       "       0     1\n",
       "0  徒歩14分  None\n",
       "1   徒歩9分  None\n",
       "2   徒歩7分  None"
      ]
     },
     "execution_count": 179,
     "metadata": {},
     "output_type": "execute_result"
    }
   ],
   "source": [
    "df_6 = df[6].str.split(\"/\", expand=True)\n",
    "df_6.head(3)"
   ]
  },
  {
   "cell_type": "code",
   "execution_count": 180,
   "metadata": {},
   "outputs": [
    {
     "data": {
      "text/plain": [
       "array(['徒歩14分', '徒歩9分', '徒歩7分', '徒歩3分', '徒歩10分', '徒歩25分', '徒歩16分', '徒歩4分',\n",
       "       '徒歩11分', '徒歩12分', '徒歩21分', '徒歩30分', '徒歩6分', '徒歩15分', '徒歩23分',\n",
       "       '徒歩8分', '徒歩18分', '徒歩2分', '徒歩20分', '徒歩19分', '徒歩13分', '徒歩5分', None,\n",
       "       '徒歩28分', '徒歩24分', '徒歩17分', '', '徒歩22分', '車5.2km(18分)', '徒歩31分',\n",
       "       '徒歩26分', '徒歩27分', '徒歩1分', '徒歩42分', '徒歩70分', '徒歩36分', '徒歩37分',\n",
       "       '徒歩33分', '徒歩29分', '徒歩32分', '徒歩38分', '徒歩35分', '車3.1km(9分)', '徒歩55分',\n",
       "       '徒歩41分', '徒歩45分', '徒歩34分', '徒歩44分', '車4.6km(17分)', '車3.1km(14分)',\n",
       "       '車2.48km(7分)', '徒歩74分', '車3.6km(15分)', '徒歩43分', '徒歩39分', '徒歩48分',\n",
       "       '徒歩65分', '車2.8km(5分)', '徒歩63分', '車5.9km(17分)', '徒歩156分', '徒歩47分',\n",
       "       '徒歩40分', '車4.3km(12分)', '徒歩78分', '車2.78km(7分)', '徒歩75分',\n",
       "       '車3.5km(10分)', '徒歩52分', '車3.2km(9分)', '車7.3km(25分)', '徒歩62分',\n",
       "       '車2.8km(10分)', '車3.9km(13分)', '車2.58km(7分)', '徒歩58分', '徒歩113分',\n",
       "       '車6.4km(22分)', '車3.3km(12分)', '車3.6km(11分)', '徒歩69分', '徒歩46分',\n",
       "       '車4.1km(8分)', '徒歩68分', '徒歩51分', '車5.4km(18分)', '徒歩60分',\n",
       "       '車3km(12分)', '徒歩157分', '車5.5km(20分)', '徒歩86分', '徒歩53分', '徒歩54分',\n",
       "       '車4.3km(14分)', '徒歩73分', '車7.4km(21分)', '徒歩56分', '車2.9km(9分)',\n",
       "       '車3km(10分)', '車5.8km(20分)'], dtype=object)"
      ]
     },
     "execution_count": 180,
     "metadata": {},
     "output_type": "execute_result"
    }
   ],
   "source": [
    "df_6[0].unique()"
   ]
  },
  {
   "cell_type": "code",
   "execution_count": 181,
   "metadata": {
    "scrolled": true
   },
   "outputs": [
    {
     "data": {
      "text/plain": [
       "array(['徒歩14分', '徒歩9分', '徒歩7分', '徒歩3分', '徒歩10分', '徒歩25分', '徒歩16分', '徒歩4分',\n",
       "       '徒歩11分', '徒歩12分', '徒歩21分', '徒歩30分', '徒歩6分', '徒歩15分', '徒歩23分',\n",
       "       '徒歩8分', '徒歩18分', '徒歩2分', '徒歩20分', '徒歩19分', '徒歩13分', '徒歩5分', nan,\n",
       "       '徒歩28分', '徒歩24分', '徒歩17分', '徒歩22分', '徒歩31分', '徒歩26分', '徒歩27分',\n",
       "       '徒歩1分', '徒歩42分', '徒歩70分', '徒歩36分', '徒歩37分', '徒歩33分', '徒歩29分',\n",
       "       '徒歩32分', '徒歩38分', '徒歩35分', '徒歩55分', '徒歩41分', '徒歩45分', '徒歩34分',\n",
       "       '徒歩44分', '徒歩74分', '徒歩43分', '徒歩39分', '徒歩48分', '徒歩65分', '徒歩63分',\n",
       "       '徒歩156分', '徒歩47分', '徒歩40分', '徒歩78分', '徒歩75分', '徒歩52分', '徒歩62分',\n",
       "       '徒歩58分', '徒歩113分', '徒歩69分', '徒歩46分', '徒歩68分', '徒歩51分', '徒歩60分',\n",
       "       '徒歩157分', '徒歩86分', '徒歩53分', '徒歩54分', '徒歩73分', '徒歩56分'],\n",
       "      dtype=object)"
      ]
     },
     "execution_count": 181,
     "metadata": {},
     "output_type": "execute_result"
    }
   ],
   "source": [
    "total_data[\"アクセス_駅_2_徒歩_分\"] = df_6[0].where(df_6[0].str.contains(\"徒歩\", regex=False))\n",
    "total_data[\"アクセス_駅_2_徒歩_分\"].unique()"
   ]
  },
  {
   "cell_type": "code",
   "execution_count": 182,
   "metadata": {},
   "outputs": [],
   "source": [
    "total_data[\"アクセス_駅_2_徒歩_分\"] = total_data[\"アクセス_駅_2_徒歩_分\"].str.strip(\"徒歩分\").astype(float)"
   ]
  },
  {
   "cell_type": "code",
   "execution_count": 183,
   "metadata": {},
   "outputs": [
    {
     "data": {
      "text/plain": [
       "array([ 14.,   9.,   7.,   3.,  10.,  25.,  16.,   4.,  11.,  12.,  21.,\n",
       "        30.,   6.,  15.,  23.,   8.,  18.,   2.,  20.,  19.,  13.,   5.,\n",
       "        nan,  28.,  24.,  17.,  22.,  31.,  26.,  27.,   1.,  42.,  70.,\n",
       "        36.,  37.,  33.,  29.,  32.,  38.,  35.,  55.,  41.,  45.,  34.,\n",
       "        44.,  74.,  43.,  39.,  48.,  65.,  63., 156.,  47.,  40.,  78.,\n",
       "        75.,  52.,  62.,  58., 113.,  69.,  46.,  68.,  51.,  60., 157.,\n",
       "        86.,  53.,  54.,  73.,  56.])"
      ]
     },
     "execution_count": 183,
     "metadata": {},
     "output_type": "execute_result"
    }
   ],
   "source": [
    "total_data[\"アクセス_駅_2_徒歩_分\"].unique()"
   ]
  },
  {
   "cell_type": "code",
   "execution_count": 184,
   "metadata": {},
   "outputs": [],
   "source": [
    "total_data[\"アクセス_駅_2_車_分\"] = df_6[0].where(df_6[0].str.contains(\"徒歩\", regex=False)==False)"
   ]
  },
  {
   "cell_type": "code",
   "execution_count": 185,
   "metadata": {},
   "outputs": [],
   "source": [
    "total_data[\"アクセス_駅_2_車_分\"] = total_data[\"アクセス_駅_2_車_分\"].replace(r'^\\s*$', np.nan, regex=True)"
   ]
  },
  {
   "cell_type": "code",
   "execution_count": 186,
   "metadata": {},
   "outputs": [
    {
     "data": {
      "text/plain": [
       "array([nan, '車5.2km(18分)', '車3.1km(9分)', '車4.6km(17分)', '車3.1km(14分)',\n",
       "       '車2.48km(7分)', '車3.6km(15分)', '車2.8km(5分)', '車5.9km(17分)',\n",
       "       '車4.3km(12分)', '車2.78km(7分)', '車3.5km(10分)', '車3.2km(9分)',\n",
       "       '車7.3km(25分)', '車2.8km(10分)', '車3.9km(13分)', '車2.58km(7分)',\n",
       "       '車6.4km(22分)', '車3.3km(12分)', '車3.6km(11分)', '車4.1km(8分)',\n",
       "       '車5.4km(18分)', '車3km(12分)', '車5.5km(20分)', '車4.3km(14分)',\n",
       "       '車7.4km(21分)', '車2.9km(9分)', '車3km(10分)', '車5.8km(20分)'],\n",
       "      dtype=object)"
      ]
     },
     "execution_count": 186,
     "metadata": {},
     "output_type": "execute_result"
    }
   ],
   "source": [
    "total_data[\"アクセス_駅_2_車_分\"].unique()"
   ]
  },
  {
   "cell_type": "code",
   "execution_count": 187,
   "metadata": {},
   "outputs": [],
   "source": [
    "total_data[\"アクセス_駅_2_車_分\"] = total_data[\"アクセス_駅_2_車_分\"].str.split(\"(\", expand=True)[1].str.strip(\"分)\").astype(float)"
   ]
  },
  {
   "cell_type": "code",
   "execution_count": 188,
   "metadata": {},
   "outputs": [
    {
     "data": {
      "text/plain": [
       "array([nan, 18.,  9., 17., 14.,  7., 15.,  5., 12., 10., 25., 13., 22.,\n",
       "       11.,  8., 20., 21.])"
      ]
     },
     "execution_count": 188,
     "metadata": {},
     "output_type": "execute_result"
    }
   ],
   "source": [
    "total_data[\"アクセス_駅_2_車_分\"].unique()"
   ]
  },
  {
   "cell_type": "code",
   "execution_count": 189,
   "metadata": {},
   "outputs": [
    {
     "data": {
      "text/plain": [
       "array([None, 'バス(20分)都民農園下車徒歩1分', 'バス(17分)長久保下車徒歩2分',\n",
       "       'バス(10分)東葛西八丁目下車徒歩34分', 'バス(10分)最寄りのバス停下車徒歩14分', 'バス(7分)三軒寺下車徒歩1分',\n",
       "       'バス(5分)大泉北中学校入口下車徒歩7分', 'バス(15分)足立車検場下車徒歩2分',\n",
       "       'バス(15分)東小岩一丁目下車徒歩2分', 'バス(27分)石神井郵便局停留所下車徒歩7分',\n",
       "       'バス(15分)谷中中入口下車徒歩3分', 'バス(16分)土支田二丁目下車徒歩5分', 'バス(7分)上祖師谷4丁目下車徒歩2分',\n",
       "       'バス(10分)本州製紙裏門下車徒歩2分', 'バス(19分)新小岩1丁目下車徒歩8分', 'バス(18分)比丘尼橋下車徒歩3分',\n",
       "       'バス(5分)日産自動車前下車徒歩4分', 'バス(10分)中央図書館下車徒歩3分', 'バス(15分)大谷田下車徒歩2分',\n",
       "       'バス(4分)善福寺下車徒歩1分', 'バス(12分)谷原二丁目下車徒歩16分', 'バス(10分)鹿本橋下車徒歩6分',\n",
       "       'バス(13分)水元そよかぜ園下車徒歩1分', 'バス(15分)鹿骨五丁目下車徒歩7分', 'バス(21分)滋雲堂前下車徒歩1分',\n",
       "       'バス(7分)高円寺駅北口下車徒歩6分', 'バス(12分)新小51\\u3000東上平井下車徒歩1分',\n",
       "       'バス(15分)東武バス\\u3000西新井駅西口下車徒歩5分', 'バス(20分)越後山下車徒歩4分',\n",
       "       'バス(27分)第五上石神井住宅下車徒歩6分', 'バス(20分)辰沼団地入口下車徒歩3分',\n",
       "       'バス(10分)区立八中下車徒歩2分', 'バス(13分)新蒲田三丁目下車徒歩3分', 'バス(15分)佐野センター前下車徒歩2分',\n",
       "       'バス(25分)関町北町学校下車徒歩8分', 'バス(15分)都営住宅下車徒歩1分', 'バス(21分)新島橋下車徒歩3分',\n",
       "       'バス(27分)西長久保(バス)下車徒歩1分', 'バス(13分)瑞江斎場下車徒歩20分',\n",
       "       'バス(28分)西武車庫前下車徒歩1分', 'バス(18分)北出張所下車徒歩2分', 'バス(12分)永安寺下車徒歩6分',\n",
       "       'バス(18分)武蔵関駅前下車徒歩4分', 'バス(12分)葛西駅下車徒歩21分', 'バス(8分)南葛西第二小学校前下車徒歩1分',\n",
       "       'バス(18分)幸田小学校下車徒歩3分', 'バス(15分)関原2丁目下車徒歩3分', 'バス(22分)小関下車徒歩9分',\n",
       "       'バス(26分)小関下車徒歩4分', 'バス(27分)入谷新道(バス)下車徒歩15分',\n",
       "       'バス(35分)東映撮影所前(バス)下車徒歩14分', 'バス(18分)樫の木公園前下車徒歩6分',\n",
       "       'バス(15分)水元そよかぜ園下車徒歩2分', 'バス(31分)長久保(東京都)下車徒歩2分',\n",
       "       'バス(15分)ハートアイランド南下車徒歩2分', 'バス(17分)関町北1丁目下車徒歩3分', 'バス(26分)小関下車徒歩5分',\n",
       "       'バス(19分)花畑3町目下車徒歩6分', 'バス(20分)岡本3丁目下車徒歩6分', 'バス(18分)江北一丁目下車徒歩8分',\n",
       "       'バス(21分)関町北小学校下車徒歩8分', 'バス(12分)永安寺前下車徒歩6分', 'バス(19分)下井草二丁目下車徒歩2分',\n",
       "       'バス(8分)国立西が丘競技場北門下車徒歩2分', 'バス(20分)青梅街道営業所下車徒歩9分',\n",
       "       'バス(12分)松の木下車徒歩6分', 'バス(12分)水元2丁目下車徒歩2分', 'バス(10分)千住車庫前下車徒歩10分',\n",
       "       'バス(7分)水元中下車徒歩1分', 'バス(10分)京成バス\\u3000大杉3丁目下車徒歩1分',\n",
       "       'バス(10分)次大夫堀公園下車徒歩7分', 'バス(11分)土支田二丁目下車徒歩6分',\n",
       "       'バス(15分)天沼マーケット前下車徒歩6分', 'バス(10分)北出張所下車徒歩3分',\n",
       "       'バス(15分)ハートアイランド南下車徒歩1分', 'バス(14分)西水元2丁目下車徒歩2分',\n",
       "       'バス(13分)品川シーサイド駅前下車徒歩3分', 'バス(6分)野毛二丁目下車徒歩4分',\n",
       "       'バス(2分)半田稲荷前下車徒歩17分', 'バス(15分)足立総合スポーツセンター前下車徒歩3分',\n",
       "       'バス(18分)北糀谷下車徒歩3分', 'バス(13分)水元3丁目下車徒歩1分', 'バス(15分)西新井駅西口下車徒歩5分',\n",
       "       'バス(17分)関町北一丁目下車徒歩1分', 'バス(9分)ハートアイランド南下車徒歩2分', 'バス(19分)住宅前下車徒歩3分',\n",
       "       'バス(16分)本郷花街道下車徒歩2分', 'バス(12分)加平2丁目下車徒歩5分', 'バス(10分)保木間一丁目下車徒歩7分',\n",
       "       'バス(15分)六木小学校下車徒歩5分', 'バス(9分)東小松川一丁目下車徒歩7分',\n",
       "       'バス(29分)上石神井イ中学校入口下車徒歩13分', 'バス(24分)水元特別支援学校前下車徒歩14分',\n",
       "       'バス(21分)鎌田下車徒歩4分', 'バス(10分)恵32\\u3000五本木下車徒歩4分',\n",
       "       'バス(17分)都民農園下車徒歩2分', 'バス(14分)中図師下車徒歩4分', 'バス(20分)都民農園下車徒歩3分',\n",
       "       'バス(9分)菅原橋下車徒歩10分', 'バス(13分)中郷下車徒歩3分', 'バス(15分)NTT技研前下車徒歩4分',\n",
       "       'バス(17分)小松川警察署前下車徒歩6分', 'バス(30分)駅下車徒歩5分', 'バス(13分)久保新田下車徒歩2分',\n",
       "       'バス(12分)水元四丁目下車徒歩3分', 'バス(7分)飯塚橋下車徒歩37分', 'バス(20分)新広橋下車徒歩3分',\n",
       "       'バス(16分)扇2丁目下車徒歩3分', 'バス(10分)東武バス\\u3000四ッ家町下車徒歩5分',\n",
       "       'バス(9分)仲町西組下車徒歩3分', 'バス(12分)都バス\\u3000弥生町下車徒歩2分',\n",
       "       'バス(12分)本木2丁目下車徒歩4分', 'バス(12分)鹿骨五丁目下車徒歩4分', 'バス(17分)足立郷土博物館下車徒歩4分',\n",
       "       'バス(25分)瑞江斎場下車徒歩3分', 'バス(21分)名主屋敷下車徒歩4分', 'バス(18分)関町北四丁目下車徒歩4分',\n",
       "       'バス(13分)野方三丁目下車徒歩1分', 'バス(20分)有27\\u3000西水元二下車徒歩3分',\n",
       "       'バス(15分)谷中3丁目下車徒歩1分', 'バス(5分)千歳台4丁目下車徒歩1分', 'バス(20分)上石神井駅前下車徒歩4分',\n",
       "       'バス(21分)船堀駅前下車徒歩15分', 'バス(20分)保木間町下車徒歩1分', 'バス(6分)光が丘六丁目下車徒歩7分',\n",
       "       'バス(14分)砧本村下車徒歩10分', 'バス(18分)ハートアイランド西(バス)下車徒歩1分',\n",
       "       'バス(11分)新田3丁目下車徒歩2分', 'バス(15分)谷中三丁目下車徒歩1分', 'バス(10分)五丁目住宅下車徒歩3分',\n",
       "       'バス(19分)大泉風致地区下車徒歩1分', 'バス(13分)佐野二丁目下車徒歩3分', 'バス(15分)六木小学校前下車徒歩1分',\n",
       "       'バス(10分)足立郷土博物館下車徒歩3分', 'バス(36分)六ツ木団地下車徒歩4分', 'バス(60分)北出張所下車徒歩3分',\n",
       "       'バス(38分)長久保下車徒歩9分', 'バス(33分)保谷駅南口下車徒歩10分',\n",
       "       'バス(13分)幸町:国際興業バス下車徒歩2分', 'バス(16分)大森東5丁目下車徒歩2分',\n",
       "       'バス(30分)新小岩駅前下車徒歩7分', 'バス(15分)江戸川区役所前下車徒歩7分',\n",
       "       'バス(6分)大杉第二小学校下車徒歩9分', 'バス(11分)代沢1丁目下車徒歩2分',\n",
       "       'バス(11分)石神井団地入口下車徒歩5分', 'バス(17分)公園橋下車徒歩2分', 'バス(28分)大泉学園駅南口下車徒歩6分',\n",
       "       'バス(11分)二丁目西下車徒歩4分', 'バス(40分)都バス\\u3000ドナウ通り下車徒歩2分',\n",
       "       'バス(36分)高松五丁目下車徒歩5分', 'バス(27分)西村下車徒歩10分', 'バス(13分)品川シーサイド駅前下車徒歩1分',\n",
       "       'バス(17分)関町北一丁目下車徒歩18分', 'バス(15分)鹿骨3丁目下車徒歩5分', 'バス(15分)花畑団地停下車徒歩8分',\n",
       "       'バス(15分)長久保下車徒歩1分', 'バス(21分)新小岩駅前下車徒歩2分', 'バス(20分)いこいの家入口下車徒歩7分',\n",
       "       'バス(8分)大井第一小学校下車徒歩7分', 'バス(15分)西長久保下車徒歩2分', 'バス(12分)西長久保下車徒歩3分',\n",
       "       'バス(22分)下目黒五丁目下車徒歩1分', 'バス(11分)代沢一丁目下車徒歩6分', 'バス(15分)関町北四丁目下車徒歩3分',\n",
       "       'バス(15分)神明町下車徒歩2分', 'バス(10分)南葛西中学校前下車徒歩1分', 'バス(12分)舎人二ツ橋下車徒歩4分',\n",
       "       'バス(11分)学芸大学駅下車徒歩3分', 'バス(22分)住宅前下車徒歩6分',\n",
       "       'バス(40分)都営バス\\u3000ドナウ通り下車徒歩2分', 'バス(25分)篠崎駅下車徒歩2分',\n",
       "       'バス(11分)菊池外科胃腸科下車徒歩3分', 'バス(20分)大泉北中学校入口下車徒歩11分',\n",
       "       'バス(20分)武蔵関駅下車徒歩3分', 'バス(10分)水元4丁目下車徒歩3分',\n",
       "       'バス(10分)東武バス\\u3000四ツ家町下車徒歩7分', 'バス(15分)一ツ家一丁目下車徒歩1分',\n",
       "       'バス(17分)高松5丁目下車徒歩5分', 'バス(4分)東新小岩三丁目下車徒歩7分', 'バス(17分)江戸川高校前下車徒歩7分',\n",
       "       'バス(24分)関町北四丁目下車徒歩3分', 'バス(30分)北園(バス)下車徒歩4分', 'バス(15分)花畑交番前下車徒歩3分',\n",
       "       'バス(21分)篠崎2丁目下車徒歩2分', 'バス(11分)EXシアター六本木前下車徒歩9分',\n",
       "       'バス(15分)武蔵関駅入口下車徒歩6分', 'バス(19分)西水元二丁目下車徒歩2分',\n",
       "       'バス(18分)高松大門通り下車徒歩2分', 'バス(6分)総合レクリエーション公園前下車徒歩12分',\n",
       "       'バス(12分)清水公園入口下車徒歩2分', 'バス(20分)京葉交差点下車徒歩3分', 'バス(15分)江戸川高校前下車徒歩5分',\n",
       "       'バス(26分)小関下車徒歩18分', 'バス(10分)永安寺下車徒歩8分', 'バス(5分)三軒寺下車徒歩3分',\n",
       "       'バス(25分)江戸川高校前下車徒歩8分', 'バス(20分)枝川2丁目下車徒歩13分', 'バス(6分)総合荻窪病院下車徒歩1分',\n",
       "       'バス(17分)長久保下車徒歩5分', 'バス(9分)京葉交差点下車徒歩1分', 'バス(21分)大泉郵便局下車徒歩3分',\n",
       "       'バス(8分)南小岩二下車徒歩29分', 'バス(10分)花畑4丁目下車徒歩8分', 'バス(14分)井草中学校下車徒歩1分',\n",
       "       'バス(13分)下馬営業所下車徒歩2分', 'バス(11分)清新ふたば小学校前下車徒歩4分',\n",
       "       'バス(10分)善福寺郵便局下車徒歩2分', 'バス(14分)砧本村停下車徒歩10分', 'バス(7分)杉並5小前下車徒歩7分',\n",
       "       'バス(5分)西武車庫前[練馬区]下車徒歩8分', 'バス(19分)三園一丁目中央下車徒歩12分',\n",
       "       'バス(19分)久保新田(東京都)下車徒歩2分', 'バス(12分)武蔵関駅下車徒歩2分', 'バス(30分)都民農園下車徒歩6分',\n",
       "       'バス(14分)土支田二丁目下車徒歩8分', 'バス(16分)鹿骨一丁目下車徒歩2分', 'バス(25分)松江第一中前下車徒歩4分',\n",
       "       'バス(17分)下石神井坂下下車徒歩2分', 'バス(24分)南小岩二丁目下車徒歩4分',\n",
       "       'バス(41分)三原台一丁目下車徒歩2分', 'バス(14分)西水元一丁目下車徒歩1分', 'バス(9分)廻沢下車徒歩5分',\n",
       "       'バス(21分)大泉町四丁目下車徒歩5分', 'バス(20分)水道端下車徒歩5分', 'バス(16分)小松川三丁目下車徒歩6分',\n",
       "       'バス(22分)住宅前[練馬区]下車徒歩3分', 'バス(11分)学芸付属中学校下車徒歩3分',\n",
       "       'バス(17分)西荻窪駅下車徒歩4分', 'バス(15分)都民住宅下車徒歩2分', 'バス(25分)松江中下車徒歩4分',\n",
       "       'バス(10分)都民農園下車徒歩10分', 'バス(20分)北糀谷下車徒歩3分', 'バス(25分)大泉郵便局下車徒歩2分',\n",
       "       'バス(10分)鎌田下車徒歩5分', 'バス(15分)関町北小学校下車徒歩6分', 'バス(20分)法林寺下車徒歩2分',\n",
       "       'バス(24分)西武車庫前下車徒歩21分', 'バス(4分)目白5丁目下車徒歩4分',\n",
       "       'バス(12分)小松川警察署前下車徒歩12分', 'バス(5分)堀江団地下車徒歩4分',\n",
       "       'バス(19分)松江第一中学校前下車徒歩4分', 'バス(10分)生活実習所前下車徒歩3分',\n",
       "       'バス(18分)大泉風致地区下車徒歩2分', 'バス(14分)上篠崎下車徒歩4分', 'バス(15分)武蔵関駅入口下車徒歩1分',\n",
       "       'バス(15分)花畑団地下車徒歩5分', 'バス(21分)保木間1丁目下車徒歩8分', 'バス(10分)農芸高校前下車徒歩2分',\n",
       "       'バス(25分)北園(東京都)下車徒歩5分', 'バス(12分)飯塚橋下車徒歩2分',\n",
       "       'バス(20分)小岩警察・区民館下車徒歩2分', 'バス(12分)葛西駅下車徒歩41分', 'バス(15分)新広場下車徒歩2分',\n",
       "       'バス(33分)東武区民間入口下車徒歩2分', 'バス(15分)水元高校下車徒歩2分', 'バス(24分)南篠崎3丁目下車徒歩5分',\n",
       "       'バス(8分)公園前下車徒歩7分', 'バス(15分)花畑団地下車徒歩10分', 'バス(12分)成城四番下車徒歩4分',\n",
       "       'バス(25分)加賀1丁目下車徒歩2分', 'バス(18分)松本小学校下車徒歩1分', 'バス(18分)小岩駅下車徒歩2分',\n",
       "       'バス(25分)中郷下車徒歩4分', 'バス(16分)小72\\u3000ポニーランド下車徒歩3分',\n",
       "       'バス(18分)都営住宅下車徒歩2分', 'バス(9分)上鎌田下車徒歩7分', 'バス(25分)住宅前(練馬区)下車徒歩3分',\n",
       "       'バス(15分)関町南三丁目下車徒歩1分', 'バス(15分)税務署前下車徒歩5分', 'バス(17分)松本弁天下車徒歩4分',\n",
       "       'バス(15分)大谷田1丁目下車徒歩8分', 'バス(3分)江戸川高校前下車徒歩6分', 'バス(15分)北大泉下車徒歩5分',\n",
       "       'バス(9分)都バス\\u3000ハートアイランド南下車徒歩2分', 'バス(10分)雪見橋南詰下車徒歩1分',\n",
       "       'バス(52分)学園橋下車徒歩2分', 'バス(1分)千住車庫前下車徒歩9分', 'バス(11分)臼田坂下下車徒歩1分',\n",
       "       'バス(3分)鹿浜三丁目下車徒歩12分', 'バス(15分)総合レクリエーション公園下車徒歩11分',\n",
       "       'バス(14分)関町北4丁目下車徒歩3分', 'バス(15分)鹿本中学校下車徒歩10分', 'バス(23分)和光市南下車徒歩5分',\n",
       "       'バス(15分)大泉町4丁目下車徒歩5分', 'バス(21分)今井下車徒歩2分', 'バス(15分)石神井高校前下車徒歩1分',\n",
       "       'バス(20分)新田下車徒歩12分', 'バス(13分)長久保下車徒歩5分', 'バス(20分)ときわ橋下車徒歩1分',\n",
       "       'バス(13分)東武バス\\u3000ハートランド南下車徒歩1分', 'バス(12分)下井草5丁目下車徒歩3分',\n",
       "       'バス(6分)谷原中学校下車徒歩1分', 'バス(23分)西水元一丁目下車徒歩2分',\n",
       "       'バス(15分)都営バス\\u3000NTT江戸川支店前下車徒歩4分', 'バス(13分)大泉町2丁目下車徒歩8分',\n",
       "       'バス(20分)岡本三丁目下車徒歩3分', 'バス(20分)辰沼団地入口下車徒歩1分', 'バス(15分)佐野センター下車徒歩1分',\n",
       "       'バス(26分)亀有駅下車徒歩12分', 'バス(12分)辰沼小学校入口下車徒歩2分',\n",
       "       'バス(10分)谷中三郵便局前下車徒歩3分', 'バス(14分)東小松川二丁目下車徒歩1分',\n",
       "       'バス(12分)野方駅北口下車徒歩1分', 'バス(14分)東武バス\\u3000六町駅下車徒歩2分',\n",
       "       'バス(15分)大谷田5丁目下車徒歩1分', 'バス(20分)大谷田四丁目下車徒歩1分',\n",
       "       'バス(15分)六町駅入口下車徒歩10分', 'バス(10分)船堀小学校前下車徒歩4分', 'バス(3分)小松中下車徒歩20分',\n",
       "       'バス(6分)総合レクリエーション前下車徒歩24分', 'バス(6分)等々力7丁目下車徒歩3分',\n",
       "       'バス(17分)ハートアイランド東下車徒歩2分', 'バス(21分)住宅前下車徒歩8分',\n",
       "       'バス(22分)大泉学園町四丁目下車徒歩4分', 'バス(55分)長久保(東京都)下車徒歩5分',\n",
       "       'バス(6分)南葛西小学校前下車徒歩4分', 'バス(6分)土支田交番下車徒歩3分', 'バス(29分)入谷三丁目下車徒歩6分',\n",
       "       'バス(10分)三原台中学校下車徒歩3分', 'バス(8分)雪見橋下車徒歩3分', 'バス(35分)中丸小学校下車下車徒歩1分',\n",
       "       'バス(15分)新田3丁目下車徒歩3分', 'バス(27分)葛飾区役所下車徒歩10分', 'バス(17分)長久保下車徒歩3分',\n",
       "       'バス(15分)鷺ノ宮駅下車徒歩4分', 'バス(32分)大泉郵便局下車徒歩5分', 'バス(9分)北加平下車徒歩5分',\n",
       "       'バス(9分)巽橋下車徒歩8分', 'バス(7分)菅原橋下車徒歩4分', 'バス(10分)都営\\u3000弥生町下車徒歩2分',\n",
       "       'バス(15分)西一之江二丁目下車徒歩5分', 'バス(20分)東武バス\\u3000西新井陸橋下車徒歩2分',\n",
       "       'バス(18分)土支田八幡下車徒歩5分', 'バス(18分)江北陸橋下下車徒歩2分', 'バス(12分)田柄三丁目下車徒歩3分',\n",
       "       'バス(7分)光が丘六丁目下車徒歩6分', 'バス(8分)西台1丁目下車徒歩2分', 'バス(6分)関町南二丁目下車徒歩3分',\n",
       "       'バス(15分)水元5丁目下車徒歩4分', 'バス(19分)新小岩駅前下車徒歩4分',\n",
       "       'バス(15分)浮間舟渡駅行\\u3000浮間舟渡駅下車徒歩6分', 'バス(35分)桑川町下車徒歩7分',\n",
       "       'バス(27分)石神井団地入口下車徒歩3分', 'バス(15分)松江第一中学校前下車徒歩5分',\n",
       "       'バス(15分)名主屋敷下車徒歩4分', 'バス(14分)大杉第二小学校下車徒歩8分',\n",
       "       'バス(15分)宇奈根地区会館下車徒歩1分', 'バス(15分)興野公団住宅下車徒歩2分',\n",
       "       'バス(13分)宇奈根地区会館下車徒歩3分', 'バス(20分)大泉郵便局下車徒歩3分',\n",
       "       'バス(15分)興本センター前下車徒歩3分', 'バス(10分)大泉町4丁目下車徒歩4分',\n",
       "       'バス(15分)光が丘南口入口下車徒歩9分', 'バス(16分)大泉風致地区下車徒歩7分',\n",
       "       'バス(23分)新小岩駅前下車徒歩3分', 'バス(11分)水元神社前下車徒歩2分', 'バス(15分)鹿骨下車徒歩3分',\n",
       "       'バス(21分)大泉郵便局下車徒歩2分', 'バス(6分)次大夫堀公園下車徒歩6分', 'バス(9分)越後山下車徒歩6分',\n",
       "       'バス(15分)水元小学校下車徒歩3分', 'バス(15分)喜多見小学校前下車徒歩4分',\n",
       "       'バス(13分)大泉町二丁目下車徒歩7分', 'バス(22分)武蔵関駅入口下車徒歩2分',\n",
       "       'バス(24分)枝川二丁目下車徒歩18分', 'バス(13分)小豆沢二丁目下車徒歩2分', 'バス(6分)東武バス下車徒歩13分',\n",
       "       'バス(23分)水道端下車徒歩6分', 'バス(18分)鹿骨五丁目下車徒歩7分', 'バス(10分)三ッ塚下車徒歩1分',\n",
       "       'バス(8分)下井草郵便局下車徒歩16分', 'バス(12分)善福寺郵便局前下車徒歩2分', 'バス(15分)仲町東組下車徒歩1分',\n",
       "       'バス(17分)萩中公園前下車徒歩5分', 'バス(20分)大泉学園駅南口下車徒歩5分',\n",
       "       'バス(40分)谷原中学校前下車徒歩5分', 'バス(20分)上池上下車徒歩5分',\n",
       "       'バス(13分)練高01\\u3000光が丘六下車徒歩5分', 'バス(20分)関町北一丁目下車徒歩2分',\n",
       "       'バス(14分)東陽町駅前下車徒歩5分', 'バス(19分)住宅前下車徒歩7分', 'バス(11分)宇奈根ハンカチ公園下車徒歩7分',\n",
       "       'バス(15分)本木小学校前下車徒歩3分', 'バス(15分)西水元2丁目下車徒歩2分',\n",
       "       'バス(25分)司法研修所(バス)下車徒歩10分', 'バス(10分)谷中5丁目下車徒歩3分', 'バス(9分)ふれあいの家下車',\n",
       "       'バス(10分)鹿浜3丁目下車徒歩4分', 'バス(20分)土支田二丁目下車徒歩7分', 'バス(24分)西武車庫前下車徒歩4分',\n",
       "       'バス(23分)水道端下車徒歩4分', 'バス(18分)六の橋下車徒歩5分', 'バス(20分)椿2丁目下車徒歩1分',\n",
       "       'バス(10分)廻沢下車徒歩4分', 'バス(33分)学園橋下車徒歩4分', 'バス(21分)大泉郵便局下車徒歩9分',\n",
       "       'バス(28分)新町商店街入り口下車徒歩7分', 'バス(8分)土支田1丁目下車徒歩2分', 'バス(20分)花畑団地下車徒歩7分',\n",
       "       'バス(14分)東武バス\\u3000興本センター前下車徒歩3分', 'バス(16分)水道端下車徒歩2分',\n",
       "       'バス(11分)宝性寺下車徒歩1分', 'バス(25分)関町北小学校下車徒歩2分',\n",
       "       'バス(13分)NTT江戸川支店前下車徒歩3分', 'バス(24分)水元総合スポーツセンター下車徒歩6分',\n",
       "       'バス(14分)砧本村下車徒歩14分', 'バス(2分)南葛西中学校前下車徒歩2分', 'バス(21分)亀有二丁目東下車徒歩10分',\n",
       "       'バス(12分)宇奈根1丁目下車徒歩3分', 'バス(20分)竹の塚駅東口下車徒歩2分', 'バス(8分)光が丘団地下車徒歩12分',\n",
       "       'バス(12分)越後山下車徒歩5分', 'バス(28分)富士街道下車徒歩2分', 'バス(19分)都営住宅下車徒歩5分',\n",
       "       'バス(18分)篠崎駅下車徒歩4分', 'バス(19分)東六郷三丁目下車徒歩2分', 'バス(20分)六木4丁目下車徒歩2分',\n",
       "       'バス(23分)高松五丁目下車徒歩5分', 'バス(21分)大泉郵便局下車徒歩4分', 'バス(13分)関町南二丁目下車徒歩23分',\n",
       "       'バス(10分)二軒新田下車徒歩14分', 'バス(13分)上篠崎下車徒歩2分', 'バス(15分)関町北4丁目下車徒歩2分',\n",
       "       'バス(22分)新町商店街入口下車徒歩4分', 'バス(25分)住宅前(練馬区)下車徒歩8分',\n",
       "       'バス(20分)江戸川区役所前下車徒歩8分', 'バス(14分)京葉交差点下車徒歩5分',\n",
       "       'バス(19分)西水元二丁目下車徒歩3分', 'バス(10分)江戸川区役所下車徒歩14分',\n",
       "       'バス(14分)南千住駅東口下車徒歩5分', 'バス(18分)鹿骨5丁目下車徒歩5分', 'バス(10分)三原台中学校下車徒歩1分',\n",
       "       'バス(20分)上石神井駅下車徒歩4分', 'バス(18分)大泉町4丁目下車徒歩4分', 'バス(11分)松江下車徒歩2分',\n",
       "       'バス(8分)ふれあいの家下車徒歩4分', 'バス(12分)江戸川区役所前下車徒歩10分', 'バス(26分)長久保下車徒歩4分',\n",
       "       'バス(8分)大島駅前下車徒歩2分', 'バス(15分)学園通り補助230号線下車徒歩2分',\n",
       "       'バス(6分)大杉第二小学校(バス)下車徒歩3分', 'バス(10分)関原2丁目下車徒歩3分',\n",
       "       'バス(17分)都営\\u3000新小岩一丁目下車徒歩3分', 'バス(7分)関町北一丁目下車徒歩4分',\n",
       "       'バス(37分)大泉風致地区下車徒歩3分', 'バス(15分)水元2丁目下車徒歩2分', 'バス(17分)土支田八幡前下車徒歩4分',\n",
       "       'バス(18分)北出張所下車徒歩1分', 'バス(20分)高砂小橋下車徒歩4分', 'バス(10分)西門寺橋下車徒歩2分',\n",
       "       'バス(11分)氷川神社下車徒歩1分', 'バス(17分)大泉町3丁目下車徒歩5分', 'バス(16分)船堀駅前下車徒歩2分',\n",
       "       'バス(9分)小76\\u3000鹿骨五下車徒歩1分', 'バス(10分)練高01\\u3000旭町南地区区民館下車徒歩5分',\n",
       "       'バス(18分)武蔵関駅入口下車徒歩2分', 'バス(24分)東武バス\\u3000西新井車庫下車徒歩5分',\n",
       "       'バス(14分)東武バス\\u3000都営住宅下車徒歩2分', 'バス(21分)大泉三丁目下車徒歩4分',\n",
       "       'バス(15分)花畑小下車徒歩1分', 'バス(7分)赤羽西六丁目下車徒歩3分', 'バス(18分)西水元2丁目下車徒歩6分',\n",
       "       'バス(29分)都民農園(バス)下車徒歩3分', 'バス(6分)富士見台一丁目下車徒歩2分',\n",
       "       'バス(17分)都民農園下車徒歩1分', 'バス(14分)松本弁天下車徒歩3分', 'バス(24分)山王三丁目下車徒歩9分',\n",
       "       'バス(15分)水元5丁目停下車徒歩2分', 'バス(20分)長久保下車徒歩1分', 'バス(6分)司法研修所下車徒歩10分',\n",
       "       'バス(15分)佐野2丁目下車徒歩3分', 'バス(20分)西台公園下車徒歩3分', 'バス(32分)石神井警察署下車徒歩1分',\n",
       "       'バス(7分)京急バス(森50)下車徒歩2分', 'バス(19分)大泉風致地区下車徒歩2分',\n",
       "       'バス(28分)上石神井駅(南口)下車徒歩14分', 'バス(15分)佐野二丁目下車徒歩3分',\n",
       "       'バス(5分)練馬春日町駅下車徒歩1分', 'バス(17分)菅原橋下車徒歩7分', 'バス(21分)丸山西橋下車徒歩3分',\n",
       "       'バス(7分)小岩消防署下車徒歩23分', 'バス(15分)岡本1丁目下車徒歩2分', 'バス(15分)大谷田5丁目下車徒歩5分',\n",
       "       'バス(15分)東武バス\\u3000六ツ木団地下車徒歩5分', 'バス(10分)永安寺前下車徒歩1分',\n",
       "       'バス(15分)新小51\\u3000中関橋下車徒歩9分', 'バス(10分)南葛西会館前下車徒歩2分',\n",
       "       'バス(16分)新小岩一丁目下車徒歩4分', 'バス(10分)鎌田下車徒歩6分', 'バス(11分)巽橋下車徒歩5分',\n",
       "       'バス(8分)柳之宮下車徒歩19分', 'バス(12分)東武バス\\u3000本木小学校下車徒歩6分',\n",
       "       'バス(5分)目黒消防署下車徒歩3分', 'バス(10分)土支田二丁目下車徒歩6分',\n",
       "       'バス(7分)小名木川小学校入口下車徒歩1分', 'バス(8分)大杉第二小学校下車徒歩7分',\n",
       "       'バス(13分)草41\\u3000赤不動下車徒歩5分', 'バス(7分)農業試験場下車徒歩4分',\n",
       "       'バス(6分)関町南二丁目下車徒歩22分', 'バス(5分)長島町交差点下車徒歩6分', 'バス(10分)関町郵便局前下車徒歩1分',\n",
       "       'バス(20分)船28\\u3000大杉東小下車徒歩3分', 'バス(20分)亀21\\u3000東砂六下車徒歩3分',\n",
       "       'バス(10分)花畑六丁目下車徒歩2分', 'バス(35分)中丸小学校下車徒歩18分',\n",
       "       'バス(22分)駒大深沢キャンパス前下車徒歩3分', 'バス(14分)土支田二丁目下車徒歩4分',\n",
       "       'バス(2分)亀有二丁目下車徒歩3分', 'バス(29分)竹の塚駅東口下車徒歩10分',\n",
       "       'バス(14分)東武バス\\u3000扇二丁目下車徒歩4分', 'バス(20分)幸田小学校下車徒歩3分',\n",
       "       'バス(18分)ハートアイランド南下車徒歩1分', 'バス(15分)水元高校下車徒歩3分',\n",
       "       'バス(5分)国立西が丘競技場北門下車徒歩1分', 'バス(26分)東武バス\\u3000南花畑1丁目下車徒歩2分',\n",
       "       'バス(28分)西武車庫前下車徒歩21分', 'バス(24分)北園(東京都)下車徒歩1分',\n",
       "       'バス(14分)農業試験場下車徒歩6分', 'バス(16分)土支田八幡下車徒歩5分', 'バス(15分)関原2丁目下車徒歩2分',\n",
       "       'バス(7分)南葛西中学校下車徒歩4分', 'バス(15分)鹿浜三丁目交差点下車徒歩3分', 'バス(5分)大森十中前下車徒歩9分',\n",
       "       'バス(20分)竹ノ塚駅西口下車徒歩2分', 'バス(16分)松江下車徒歩3分', 'バス(20分)南小岩三丁目下車徒歩3分',\n",
       "       'バス(14分)交通安全教育センター入口下車徒歩4分', 'バス(20分)上沼田団地下車徒歩3分',\n",
       "       'バス(20分)上石神井中学校入口下車徒歩1分', 'バス(8分)東武バス\\u3000末広町下車徒歩8分',\n",
       "       'バス(20分)武蔵関駅入口下車徒歩7分', 'バス(10分)バス下車', 'バス(14分)交通安全教育センター入り口下車徒歩2分',\n",
       "       'バス(3分)住宅前下車徒歩4分', 'バス(30分)大泉学園駅南口下車徒歩2分', 'バス(25分)住宅前(練馬区)下車徒歩4分',\n",
       "       'バス(10分)本町4丁目下車徒歩3分', 'バス(15分)蒲田下車徒歩9分', 'バス(16分)大泉風致地区下車徒歩8分',\n",
       "       'バス(20分)扇北詰下車徒歩5分', 'バス(15分)大谷田5丁目下車徒歩3分', 'バス(25分)大泉北中入口下車徒歩5分',\n",
       "       'バス(15分)水元小学校前下車徒歩2分', 'バス(7分)臼田坂上下車徒歩3分',\n",
       "       'バス(10分)スポーツランド入口下車徒歩4分', 'バス(15分)武蔵関駅駅入り口下車徒歩4分',\n",
       "       'バス(25分)土支田八幡前下車徒歩3分', 'バス(18分)亀有駅下車徒歩4分', 'バス(19分)高松大門通り下車徒歩8分',\n",
       "       'バス(12分)東深沢小学校下車徒歩1分', 'バス(9分)成城八丁目下車徒歩1分', 'バス(12分)辰沼団地入口下車徒歩2分',\n",
       "       'バス(10分)永安寺前下車徒歩5分', 'バス(10分)東武バス\\u3000四ツ家町下車徒歩1分',\n",
       "       'バス(16分)長久保下車徒歩5分', 'バス(19分)世田谷観音下車徒歩3分',\n",
       "       'バス(11分)都バス\\u3000東京都実験プラザ前停下車徒歩2分', 'バス(7分)光が丘六丁目下車徒歩32分',\n",
       "       'バス(20分)南花畑1丁目下車徒歩6分', 'バス(15分)東保木間下車徒歩3分', 'バス(9分)園芸高校前下車徒歩3分',\n",
       "       'バス(13分)西葛西駅前下車徒歩2分', 'バス(4分)学園橋下車徒歩5分', 'バス(12分)もみじが丘下車徒歩4分',\n",
       "       'バス(10分)南葛西中学校前下車徒歩2分', 'バス(38分)西大泉二丁目交番前下車徒歩6分',\n",
       "       'バス(20分)住宅前下車徒歩5分', 'バス(6分)東武バス\\u3000高砂町下車徒歩12分',\n",
       "       'バス(4分)東宝前下車徒歩9分', 'バス(15分)大杉4丁目下車徒歩2分', 'バス(15分)六町駅前下車徒歩2分',\n",
       "       'バス(2分)新小岩駅東北広場下車徒歩2分', 'バス(19分)都立大学駅北口下車徒歩5分',\n",
       "       'バス(12分)東武バス\\u3000本木2丁目下車徒歩4分', 'バス(14分)中葛西七丁目下車徒歩6分',\n",
       "       'バス(8分)東新小岩8丁目下車徒歩6分', 'バス(10分)上石神井駅下車徒歩4分', 'バス(17分)住宅前下車徒歩4分',\n",
       "       'バス(13分)大泉風致地区下車徒歩1分', 'バス(18分)巽橋下車徒歩14分', 'バス(20分)三ツ塚下車徒歩1分',\n",
       "       'バス(13分)関町南二丁目下車徒歩1分', 'バス(11分)志村坂上下車徒歩2分', 'バス(23分)新小岩駅前下車徒歩5分',\n",
       "       'バス(8分)南葛西4丁目下車徒歩4分', 'バス(12分)下新倉下車徒歩8分', 'バス(12分)弁天神社下車徒歩2分',\n",
       "       'バス(10分)鹿骨五丁目下車徒歩7分', 'バス(31分)長久保(バス)下車徒歩11分', 'バス(8分)北加平下車徒歩5分',\n",
       "       'バス(11分)放水路土手下下車徒歩4分', 'バス(15分)武蔵関駅入口下車徒歩10分',\n",
       "       'バス(10分)南葛西会館前下車徒歩1分', 'バス(10分)NHK技術研究所下車', 'バス(12分)赤不動下車徒歩2分',\n",
       "       'バス(14分)西一之江三丁目下車徒歩2分', 'バス(10分)大森東四丁目下車徒歩4分',\n",
       "       'バス(27分)土支田二丁目(バス)下車徒歩19分', 'バス(10分)土支田2丁目下車徒歩4分',\n",
       "       'バス(10分)NTT技研前下車徒歩4分', 'バス(10分)花畑四丁目下車徒歩8分', 'バス(16分)大泉風致地区下車徒歩2分',\n",
       "       'バス(22分)武蔵関駅入口下車徒歩3分', 'バス(18分)江戸川高校前下車徒歩12分',\n",
       "       'バス(20分)雪見橋北詰下車徒歩4分', 'バス(25分)瑞江駅下車徒歩4分', 'バス(10分)春江町五丁目下車徒歩5分',\n",
       "       'バス(14分)奥戸三丁目下車徒歩11分', 'バス(16分)土支田八幡下車徒歩25分', 'バス(20分)西水元下車徒歩3分',\n",
       "       'バス(14分)巽橋下車徒歩9分', 'バス(6分)善福寺下車徒歩2分', 'バス(17分)長久保下車徒歩1分',\n",
       "       'バス(5分)西武車庫前下車徒歩2分', 'バス(15分)六町下車徒歩3分', 'バス(10分)神明町下車徒歩4分',\n",
       "       'バス(17分)一ツ家2丁目下車徒歩1分', 'バス(12分)宇奈根ハンカチ公園下車徒歩2分',\n",
       "       'バス(18分)大泉一小下車徒歩8分', 'バス(1分)岡本3丁目下車徒歩10分', 'バス(15分)水元神社前下車徒歩2分',\n",
       "       'バス(20分)枝川二丁目下車徒歩13分', 'バス(18分)長久保下車徒歩4分', 'バス(11分)東深沢中学校下車徒歩2分',\n",
       "       'バス(12分)葛西駅下車徒歩35分', 'バス(8分)水元4丁目下車', 'バス(25分)新小岩3丁目下車徒歩3分',\n",
       "       'バス(20分)北裏下車徒歩6分', 'バス(12分)東葛西8丁目下車徒歩3分',\n",
       "       'バス(14分)東武バス\\u3000都営住宅下車徒歩5分', 'バス(12分)東淵江庭園下車徒歩10分',\n",
       "       'バス(24分)都立足立高校前下車徒歩15分', 'バス(13分)新小21\\u3000松島三下車徒歩4分',\n",
       "       'バス(15分)陣屋橋下車徒歩7分', 'バス(15分)鎌田下車徒歩5分', 'バス(13分)本木小学校下車徒歩1分',\n",
       "       'バス(22分)葛西南高校入口下車徒歩8分', 'バス(15分)東陽一丁目下車徒歩12分',\n",
       "       'バス(11分)関町北一丁目下車徒歩3分', 'バス(15分)谷中5丁目下車徒歩2分',\n",
       "       'バス(14分)東武バス\\u3000待木医院前下車徒歩1分', 'バス(12分)NHK技術研究所下車',\n",
       "       'バス(15分)西台公園下車徒歩4分', 'バス(17分)いこいの家入口下車徒歩6分', 'バス(12分)風致地区下車徒歩9分',\n",
       "       'バス(15分)辰沼団地下車徒歩2分', 'バス(25分)新小岩1丁目下車徒歩5分', 'バス(23分)足立車検場下車徒歩2分',\n",
       "       'バス(36分)保谷駅南口下車徒歩2分', 'バス(11分)北裏下車徒歩4分', 'バス(29分)長久保(東京都)下車徒歩5分',\n",
       "       'バス(15分)青井6丁目下車徒歩4分', 'バス(9分)水元公園下車徒歩3分', 'バス(15分)リブレ京成前下車徒歩1分',\n",
       "       'バス(8分)雪が谷下車徒歩6分', 'バス(8分)比丘尼橋(バス)下車徒歩23分', 'バス(12分)花畑四丁目下車徒歩1分',\n",
       "       'バス(17分)小73\\u3000鹿骨三下車徒歩1分', 'バス(27分)小菅下車徒歩10分',\n",
       "       'バス(2分)善福寺下車徒歩10分', 'バス(13分)長久保下車徒歩9分', 'バス(21分)大岡山小学校前下車徒歩3分',\n",
       "       'バス(16分)東小松川小学校前下車徒歩9分', 'バス(23分)鹿浜6丁目下車徒歩4分',\n",
       "       'バス(15分)多摩川大橋下車徒歩1分', 'バス(17分)天祖神社下車徒歩3分',\n",
       "       'バス(11分)新小51\\u3000新小岩駅下車徒歩8分', 'バス(8分)しばられ地蔵前下車',\n",
       "       'バス(28分)水元五丁目下車徒歩17分', 'バス(10分)西03\\u3000西新井消防署前下車徒歩3分',\n",
       "       'バス(13分)土支田3丁目下車徒歩2分', 'バス(10分)宇奈根地区会館前下車徒歩4分',\n",
       "       'バス(11分)東砂4丁目下車徒歩1分', 'バス(10分)あいぐみ公園前下車徒歩2分', 'バス(9分)池上営業所前下車徒歩1分',\n",
       "       'バス(9分)池上営業所前下車徒歩3分', 'バス(12分)榎北下車徒歩4分'], dtype=object)"
      ]
     },
     "execution_count": 189,
     "metadata": {},
     "output_type": "execute_result"
    }
   ],
   "source": [
    "df_6[1].unique()"
   ]
  },
  {
   "cell_type": "code",
   "execution_count": 190,
   "metadata": {},
   "outputs": [],
   "source": [
    "df_6_1 = df_6[1].str.split(\"分\", expand=True)"
   ]
  },
  {
   "cell_type": "code",
   "execution_count": 191,
   "metadata": {},
   "outputs": [
    {
     "data": {
      "text/html": [
       "<div>\n",
       "<style scoped>\n",
       "    .dataframe tbody tr th:only-of-type {\n",
       "        vertical-align: middle;\n",
       "    }\n",
       "\n",
       "    .dataframe tbody tr th {\n",
       "        vertical-align: top;\n",
       "    }\n",
       "\n",
       "    .dataframe thead th {\n",
       "        text-align: right;\n",
       "    }\n",
       "</style>\n",
       "<table border=\"1\" class=\"dataframe\">\n",
       "  <thead>\n",
       "    <tr style=\"text-align: right;\">\n",
       "      <th></th>\n",
       "      <th>0</th>\n",
       "      <th>1</th>\n",
       "      <th>2</th>\n",
       "    </tr>\n",
       "  </thead>\n",
       "  <tbody>\n",
       "    <tr>\n",
       "      <th>0</th>\n",
       "      <td>None</td>\n",
       "      <td>None</td>\n",
       "      <td>None</td>\n",
       "    </tr>\n",
       "    <tr>\n",
       "      <th>1</th>\n",
       "      <td>None</td>\n",
       "      <td>None</td>\n",
       "      <td>None</td>\n",
       "    </tr>\n",
       "    <tr>\n",
       "      <th>2</th>\n",
       "      <td>None</td>\n",
       "      <td>None</td>\n",
       "      <td>None</td>\n",
       "    </tr>\n",
       "    <tr>\n",
       "      <th>3</th>\n",
       "      <td>None</td>\n",
       "      <td>None</td>\n",
       "      <td>None</td>\n",
       "    </tr>\n",
       "    <tr>\n",
       "      <th>4</th>\n",
       "      <td>None</td>\n",
       "      <td>None</td>\n",
       "      <td>None</td>\n",
       "    </tr>\n",
       "  </tbody>\n",
       "</table>\n",
       "</div>"
      ],
      "text/plain": [
       "      0     1     2\n",
       "0  None  None  None\n",
       "1  None  None  None\n",
       "2  None  None  None\n",
       "3  None  None  None\n",
       "4  None  None  None"
      ]
     },
     "execution_count": 191,
     "metadata": {},
     "output_type": "execute_result"
    }
   ],
   "source": [
    "df_6_1.head()"
   ]
  },
  {
   "cell_type": "code",
   "execution_count": 192,
   "metadata": {},
   "outputs": [
    {
     "data": {
      "text/plain": [
       "array([None, 'バス(20', 'バス(17', 'バス(10', 'バス(7', 'バス(5', 'バス(15', 'バス(27',\n",
       "       'バス(16', 'バス(19', 'バス(18', 'バス(4', 'バス(12', 'バス(13', 'バス(21',\n",
       "       'バス(25', 'バス(28', 'バス(8', 'バス(22', 'バス(26', 'バス(35', 'バス(31',\n",
       "       'バス(11', 'バス(14', 'バス(6', 'バス(2', 'バス(9', 'バス(29', 'バス(24',\n",
       "       'バス(30', 'バス(36', 'バス(60', 'バス(38', 'バス(33', 'バス(40', 'バス(41',\n",
       "       'バス(3', 'バス(52', 'バス(1', 'バス(23', 'バス(55', 'バス(32', 'バス(37'],\n",
       "      dtype=object)"
      ]
     },
     "execution_count": 192,
     "metadata": {},
     "output_type": "execute_result"
    }
   ],
   "source": [
    "df_6_1[0].unique()"
   ]
  },
  {
   "cell_type": "code",
   "execution_count": 193,
   "metadata": {},
   "outputs": [],
   "source": [
    "total_data[\"アクセス_駅_2_バス_分\"] = df_6_1[0].str.strip(\"バス(\").astype(float)"
   ]
  },
  {
   "cell_type": "code",
   "execution_count": 194,
   "metadata": {},
   "outputs": [
    {
     "data": {
      "text/plain": [
       "array([nan, 20., 17., 10.,  7.,  5., 15., 27., 16., 19., 18.,  4., 12.,\n",
       "       13., 21., 25., 28.,  8., 22., 26., 35., 31., 11., 14.,  6.,  2.,\n",
       "        9., 29., 24., 30., 36., 60., 38., 33., 40., 41.,  3., 52.,  1.,\n",
       "       23., 55., 32., 37.])"
      ]
     },
     "execution_count": 194,
     "metadata": {},
     "output_type": "execute_result"
    }
   ],
   "source": [
    "total_data[\"アクセス_駅_2_バス_分\"].unique()"
   ]
  },
  {
   "cell_type": "code",
   "execution_count": 195,
   "metadata": {},
   "outputs": [
    {
     "data": {
      "text/plain": [
       "array([None, '都民農園下車徒歩1', '長久保下車徒歩2', '東葛西八丁目下車徒歩34', '最寄りのバス停下車徒歩14',\n",
       "       '三軒寺下車徒歩1', '大泉北中学校入口下車徒歩7', '足立車検場下車徒歩2', '東小岩一丁目下車徒歩2',\n",
       "       '石神井郵便局停留所下車徒歩7', '谷中中入口下車徒歩3', '土支田二丁目下車徒歩5', '上祖師谷4丁目下車徒歩2',\n",
       "       '本州製紙裏門下車徒歩2', '新小岩1丁目下車徒歩8', '比丘尼橋下車徒歩3', '日産自動車前下車徒歩4',\n",
       "       '中央図書館下車徒歩3', '大谷田下車徒歩2', '善福寺下車徒歩1', '谷原二丁目下車徒歩16', '鹿本橋下車徒歩6',\n",
       "       '水元そよかぜ園下車徒歩1', '鹿骨五丁目下車徒歩7', '滋雲堂前下車徒歩1', '高円寺駅北口下車徒歩6',\n",
       "       '新小51東上平井下車徒歩1', '東武バス西新井駅西口下車徒歩5', '越後山下車徒歩4', '第五上石神井住宅下車徒歩6',\n",
       "       '辰沼団地入口下車徒歩3', '区立八中下車徒歩2', '新蒲田三丁目下車徒歩3', '佐野センター前下車徒歩2',\n",
       "       '関町北町学校下車徒歩8', '都営住宅下車徒歩1', '新島橋下車徒歩3', '西長久保(バス)下車徒歩1',\n",
       "       '瑞江斎場下車徒歩20', '西武車庫前下車徒歩1', '北出張所下車徒歩2', '永安寺下車徒歩6', '武蔵関駅前下車徒歩4',\n",
       "       '葛西駅下車徒歩21', '南葛西第二小学校前下車徒歩1', '幸田小学校下車徒歩3', '関原2丁目下車徒歩3',\n",
       "       '小関下車徒歩9', '小関下車徒歩4', '入谷新道(バス)下車徒歩15', '東映撮影所前(バス)下車徒歩14',\n",
       "       '樫の木公園前下車徒歩6', '水元そよかぜ園下車徒歩2', '長久保(東京都)下車徒歩2', 'ハートアイランド南下車徒歩2',\n",
       "       '関町北1丁目下車徒歩3', '小関下車徒歩5', '花畑3町目下車徒歩6', '岡本3丁目下車徒歩6', '江北一丁目下車徒歩8',\n",
       "       '関町北小学校下車徒歩8', '永安寺前下車徒歩6', '下井草二丁目下車徒歩2', '国立西が丘競技場北門下車徒歩2',\n",
       "       '青梅街道営業所下車徒歩9', '松の木下車徒歩6', '水元2丁目下車徒歩2', '千住車庫前下車徒歩10',\n",
       "       '水元中下車徒歩1', '京成バス大杉3丁目下車徒歩1', '次大夫堀公園下車徒歩7', '土支田二丁目下車徒歩6',\n",
       "       '天沼マーケット前下車徒歩6', '北出張所下車徒歩3', 'ハートアイランド南下車徒歩1', '西水元2丁目下車徒歩2',\n",
       "       '品川シーサイド駅前下車徒歩3', '野毛二丁目下車徒歩4', '半田稲荷前下車徒歩17',\n",
       "       '足立総合スポーツセンター前下車徒歩3', '北糀谷下車徒歩3', '水元3丁目下車徒歩1', '西新井駅西口下車徒歩5',\n",
       "       '関町北一丁目下車徒歩1', '住宅前下車徒歩3', '本郷花街道下車徒歩2', '加平2丁目下車徒歩5',\n",
       "       '保木間一丁目下車徒歩7', '六木小学校下車徒歩5', '東小松川一丁目下車徒歩7', '上石神井イ中学校入口下車徒歩13',\n",
       "       '水元特別支援学校前下車徒歩14', '鎌田下車徒歩4', '恵32五本木下車徒歩4', '都民農園下車徒歩2',\n",
       "       '中図師下車徒歩4', '都民農園下車徒歩3', '菅原橋下車徒歩10', '中郷下車徒歩3', 'NTT技研前下車徒歩4',\n",
       "       '小松川警察署前下車徒歩6', '駅下車徒歩5', '久保新田下車徒歩2', '水元四丁目下車徒歩3', '飯塚橋下車徒歩37',\n",
       "       '新広橋下車徒歩3', '扇2丁目下車徒歩3', '東武バス四ッ家町下車徒歩5', '仲町西組下車徒歩3',\n",
       "       '都バス弥生町下車徒歩2', '本木2丁目下車徒歩4', '鹿骨五丁目下車徒歩4', '足立郷土博物館下車徒歩4',\n",
       "       '瑞江斎場下車徒歩3', '名主屋敷下車徒歩4', '関町北四丁目下車徒歩4', '野方三丁目下車徒歩1',\n",
       "       '有27西水元二下車徒歩3', '谷中3丁目下車徒歩1', '千歳台4丁目下車徒歩1', '上石神井駅前下車徒歩4',\n",
       "       '船堀駅前下車徒歩15', '保木間町下車徒歩1', '光が丘六丁目下車徒歩7', '砧本村下車徒歩10',\n",
       "       'ハートアイランド西(バス)下車徒歩1', '新田3丁目下車徒歩2', '谷中三丁目下車徒歩1', '五丁目住宅下車徒歩3',\n",
       "       '大泉風致地区下車徒歩1', '佐野二丁目下車徒歩3', '六木小学校前下車徒歩1', '足立郷土博物館下車徒歩3',\n",
       "       '六ツ木団地下車徒歩4', '長久保下車徒歩9', '保谷駅南口下車徒歩10', '幸町:国際興業バス下車徒歩2',\n",
       "       '大森東5丁目下車徒歩2', '新小岩駅前下車徒歩7', '江戸川区役所前下車徒歩7', '大杉第二小学校下車徒歩9',\n",
       "       '代沢1丁目下車徒歩2', '石神井団地入口下車徒歩5', '公園橋下車徒歩2', '大泉学園駅南口下車徒歩6',\n",
       "       '二丁目西下車徒歩4', '都バスドナウ通り下車徒歩2', '高松五丁目下車徒歩5', '西村下車徒歩10',\n",
       "       '品川シーサイド駅前下車徒歩1', '関町北一丁目下車徒歩18', '鹿骨3丁目下車徒歩5', '花畑団地停下車徒歩8',\n",
       "       '長久保下車徒歩1', '新小岩駅前下車徒歩2', 'いこいの家入口下車徒歩7', '大井第一小学校下車徒歩7',\n",
       "       '西長久保下車徒歩2', '西長久保下車徒歩3', '下目黒五丁目下車徒歩1', '代沢一丁目下車徒歩6',\n",
       "       '関町北四丁目下車徒歩3', '神明町下車徒歩2', '南葛西中学校前下車徒歩1', '舎人二ツ橋下車徒歩4',\n",
       "       '学芸大学駅下車徒歩3', '住宅前下車徒歩6', '都営バスドナウ通り下車徒歩2', '篠崎駅下車徒歩2',\n",
       "       '菊池外科胃腸科下車徒歩3', '大泉北中学校入口下車徒歩11', '武蔵関駅下車徒歩3', '水元4丁目下車徒歩3',\n",
       "       '東武バス四ツ家町下車徒歩7', '一ツ家一丁目下車徒歩1', '高松5丁目下車徒歩5', '東新小岩三丁目下車徒歩7',\n",
       "       '江戸川高校前下車徒歩7', '北園(バス)下車徒歩4', '花畑交番前下車徒歩3', '篠崎2丁目下車徒歩2',\n",
       "       'EXシアター六本木前下車徒歩9', '武蔵関駅入口下車徒歩6', '西水元二丁目下車徒歩2', '高松大門通り下車徒歩2',\n",
       "       '総合レクリエーション公園前下車徒歩12', '清水公園入口下車徒歩2', '京葉交差点下車徒歩3', '江戸川高校前下車徒歩5',\n",
       "       '小関下車徒歩18', '永安寺下車徒歩8', '三軒寺下車徒歩3', '江戸川高校前下車徒歩8', '枝川2丁目下車徒歩13',\n",
       "       '総合荻窪病院下車徒歩1', '長久保下車徒歩5', '京葉交差点下車徒歩1', '大泉郵便局下車徒歩3',\n",
       "       '南小岩二下車徒歩29', '花畑4丁目下車徒歩8', '井草中学校下車徒歩1', '下馬営業所下車徒歩2',\n",
       "       '清新ふたば小学校前下車徒歩4', '善福寺郵便局下車徒歩2', '砧本村停下車徒歩10', '杉並5小前下車徒歩7',\n",
       "       '西武車庫前[練馬区]下車徒歩8', '三園一丁目中央下車徒歩12', '久保新田(東京都)下車徒歩2', '武蔵関駅下車徒歩2',\n",
       "       '都民農園下車徒歩6', '土支田二丁目下車徒歩8', '鹿骨一丁目下車徒歩2', '松江第一中前下車徒歩4',\n",
       "       '下石神井坂下下車徒歩2', '南小岩二丁目下車徒歩4', '三原台一丁目下車徒歩2', '西水元一丁目下車徒歩1',\n",
       "       '廻沢下車徒歩5', '大泉町四丁目下車徒歩5', '水道端下車徒歩5', '小松川三丁目下車徒歩6',\n",
       "       '住宅前[練馬区]下車徒歩3', '学芸付属中学校下車徒歩3', '西荻窪駅下車徒歩4', '都民住宅下車徒歩2',\n",
       "       '松江中下車徒歩4', '都民農園下車徒歩10', '大泉郵便局下車徒歩2', '鎌田下車徒歩5', '関町北小学校下車徒歩6',\n",
       "       '法林寺下車徒歩2', '西武車庫前下車徒歩21', '目白5丁目下車徒歩4', '小松川警察署前下車徒歩12',\n",
       "       '堀江団地下車徒歩4', '松江第一中学校前下車徒歩4', '生活実習所前下車徒歩3', '大泉風致地区下車徒歩2',\n",
       "       '上篠崎下車徒歩4', '武蔵関駅入口下車徒歩1', '花畑団地下車徒歩5', '保木間1丁目下車徒歩8',\n",
       "       '農芸高校前下車徒歩2', '北園(東京都)下車徒歩5', '飯塚橋下車徒歩2', '小岩警察・区民館下車徒歩2',\n",
       "       '葛西駅下車徒歩41', '新広場下車徒歩2', '東武区民間入口下車徒歩2', '水元高校下車徒歩2',\n",
       "       '南篠崎3丁目下車徒歩5', '公園前下車徒歩7', '花畑団地下車徒歩10', '成城四番下車徒歩4', '加賀1丁目下車徒歩2',\n",
       "       '松本小学校下車徒歩1', '小岩駅下車徒歩2', '中郷下車徒歩4', '小72ポニーランド下車徒歩3', '都営住宅下車徒歩2',\n",
       "       '上鎌田下車徒歩7', '住宅前(練馬区)下車徒歩3', '関町南三丁目下車徒歩1', '税務署前下車徒歩5',\n",
       "       '松本弁天下車徒歩4', '大谷田1丁目下車徒歩8', '江戸川高校前下車徒歩6', '北大泉下車徒歩5',\n",
       "       '都バスハートアイランド南下車徒歩2', '雪見橋南詰下車徒歩1', '学園橋下車徒歩2', '千住車庫前下車徒歩9',\n",
       "       '臼田坂下下車徒歩1', '鹿浜三丁目下車徒歩12', '総合レクリエーション公園下車徒歩11', '関町北4丁目下車徒歩3',\n",
       "       '鹿本中学校下車徒歩10', '和光市南下車徒歩5', '大泉町4丁目下車徒歩5', '今井下車徒歩2',\n",
       "       '石神井高校前下車徒歩1', '新田下車徒歩12', 'ときわ橋下車徒歩1', '東武バスハートランド南下車徒歩1',\n",
       "       '下井草5丁目下車徒歩3', '谷原中学校下車徒歩1', '西水元一丁目下車徒歩2', '都営バスNTT江戸川支店前下車徒歩4',\n",
       "       '大泉町2丁目下車徒歩8', '岡本三丁目下車徒歩3', '辰沼団地入口下車徒歩1', '佐野センター下車徒歩1',\n",
       "       '亀有駅下車徒歩12', '辰沼小学校入口下車徒歩2', '谷中三郵便局前下車徒歩3', '東小松川二丁目下車徒歩1',\n",
       "       '野方駅北口下車徒歩1', '東武バス六町駅下車徒歩2', '大谷田5丁目下車徒歩1', '大谷田四丁目下車徒歩1',\n",
       "       '六町駅入口下車徒歩10', '船堀小学校前下車徒歩4', '小松中下車徒歩20', '総合レクリエーション前下車徒歩24',\n",
       "       '等々力7丁目下車徒歩3', 'ハートアイランド東下車徒歩2', '住宅前下車徒歩8', '大泉学園町四丁目下車徒歩4',\n",
       "       '長久保(東京都)下車徒歩5', '南葛西小学校前下車徒歩4', '土支田交番下車徒歩3', '入谷三丁目下車徒歩6',\n",
       "       '三原台中学校下車徒歩3', '雪見橋下車徒歩3', '中丸小学校下車下車徒歩1', '新田3丁目下車徒歩3',\n",
       "       '葛飾区役所下車徒歩10', '長久保下車徒歩3', '鷺ノ宮駅下車徒歩4', '大泉郵便局下車徒歩5', '北加平下車徒歩5',\n",
       "       '巽橋下車徒歩8', '菅原橋下車徒歩4', '都営弥生町下車徒歩2', '西一之江二丁目下車徒歩5',\n",
       "       '東武バス西新井陸橋下車徒歩2', '土支田八幡下車徒歩5', '江北陸橋下下車徒歩2', '田柄三丁目下車徒歩3',\n",
       "       '光が丘六丁目下車徒歩6', '西台1丁目下車徒歩2', '関町南二丁目下車徒歩3', '水元5丁目下車徒歩4',\n",
       "       '新小岩駅前下車徒歩4', '浮間舟渡駅行浮間舟渡駅下車徒歩6', '桑川町下車徒歩7', '石神井団地入口下車徒歩3',\n",
       "       '松江第一中学校前下車徒歩5', '大杉第二小学校下車徒歩8', '宇奈根地区会館下車徒歩1', '興野公団住宅下車徒歩2',\n",
       "       '宇奈根地区会館下車徒歩3', '興本センター前下車徒歩3', '大泉町4丁目下車徒歩4', '光が丘南口入口下車徒歩9',\n",
       "       '大泉風致地区下車徒歩7', '新小岩駅前下車徒歩3', '水元神社前下車徒歩2', '鹿骨下車徒歩3',\n",
       "       '次大夫堀公園下車徒歩6', '越後山下車徒歩6', '水元小学校下車徒歩3', '喜多見小学校前下車徒歩4',\n",
       "       '大泉町二丁目下車徒歩7', '武蔵関駅入口下車徒歩2', '枝川二丁目下車徒歩18', '小豆沢二丁目下車徒歩2',\n",
       "       '東武バス下車徒歩13', '水道端下車徒歩6', '三ッ塚下車徒歩1', '下井草郵便局下車徒歩16',\n",
       "       '善福寺郵便局前下車徒歩2', '仲町東組下車徒歩1', '萩中公園前下車徒歩5', '大泉学園駅南口下車徒歩5',\n",
       "       '谷原中学校前下車徒歩5', '上池上下車徒歩5', '練高01光が丘六下車徒歩5', '関町北一丁目下車徒歩2',\n",
       "       '東陽町駅前下車徒歩5', '住宅前下車徒歩7', '宇奈根ハンカチ公園下車徒歩7', '本木小学校前下車徒歩3',\n",
       "       '司法研修所(バス)下車徒歩10', '谷中5丁目下車徒歩3', 'ふれあいの家下車', '鹿浜3丁目下車徒歩4',\n",
       "       '土支田二丁目下車徒歩7', '西武車庫前下車徒歩4', '水道端下車徒歩4', '六の橋下車徒歩5', '椿2丁目下車徒歩1',\n",
       "       '廻沢下車徒歩4', '学園橋下車徒歩4', '大泉郵便局下車徒歩9', '新町商店街入り口下車徒歩7',\n",
       "       '土支田1丁目下車徒歩2', '花畑団地下車徒歩7', '東武バス興本センター前下車徒歩3', '水道端下車徒歩2',\n",
       "       '宝性寺下車徒歩1', '関町北小学校下車徒歩2', 'NTT江戸川支店前下車徒歩3', '水元総合スポーツセンター下車徒歩6',\n",
       "       '砧本村下車徒歩14', '南葛西中学校前下車徒歩2', '亀有二丁目東下車徒歩10', '宇奈根1丁目下車徒歩3',\n",
       "       '竹の塚駅東口下車徒歩2', '光が丘団地下車徒歩12', '越後山下車徒歩5', '富士街道下車徒歩2', '都営住宅下車徒歩5',\n",
       "       '篠崎駅下車徒歩4', '東六郷三丁目下車徒歩2', '六木4丁目下車徒歩2', '大泉郵便局下車徒歩4',\n",
       "       '関町南二丁目下車徒歩23', '二軒新田下車徒歩14', '上篠崎下車徒歩2', '関町北4丁目下車徒歩2',\n",
       "       '新町商店街入口下車徒歩4', '住宅前(練馬区)下車徒歩8', '江戸川区役所前下車徒歩8', '京葉交差点下車徒歩5',\n",
       "       '西水元二丁目下車徒歩3', '江戸川区役所下車徒歩14', '南千住駅東口下車徒歩5', '鹿骨5丁目下車徒歩5',\n",
       "       '三原台中学校下車徒歩1', '上石神井駅下車徒歩4', '松江下車徒歩2', 'ふれあいの家下車徒歩4',\n",
       "       '江戸川区役所前下車徒歩10', '長久保下車徒歩4', '大島駅前下車徒歩2', '学園通り補助230号線下車徒歩2',\n",
       "       '大杉第二小学校(バス)下車徒歩3', '都営新小岩一丁目下車徒歩3', '関町北一丁目下車徒歩4', '大泉風致地区下車徒歩3',\n",
       "       '土支田八幡前下車徒歩4', '北出張所下車徒歩1', '高砂小橋下車徒歩4', '西門寺橋下車徒歩2', '氷川神社下車徒歩1',\n",
       "       '大泉町3丁目下車徒歩5', '船堀駅前下車徒歩2', '小76鹿骨五下車徒歩1', '練高01旭町南地区区民館下車徒歩5',\n",
       "       '東武バス西新井車庫下車徒歩5', '東武バス都営住宅下車徒歩2', '大泉三丁目下車徒歩4', '花畑小下車徒歩1',\n",
       "       '赤羽西六丁目下車徒歩3', '西水元2丁目下車徒歩6', '都民農園(バス)下車徒歩3', '富士見台一丁目下車徒歩2',\n",
       "       '松本弁天下車徒歩3', '山王三丁目下車徒歩9', '水元5丁目停下車徒歩2', '司法研修所下車徒歩10',\n",
       "       '佐野2丁目下車徒歩3', '西台公園下車徒歩3', '石神井警察署下車徒歩1', '京急バス(森50)下車徒歩2',\n",
       "       '上石神井駅(南口)下車徒歩14', '練馬春日町駅下車徒歩1', '菅原橋下車徒歩7', '丸山西橋下車徒歩3',\n",
       "       '小岩消防署下車徒歩23', '岡本1丁目下車徒歩2', '大谷田5丁目下車徒歩5', '東武バス六ツ木団地下車徒歩5',\n",
       "       '永安寺前下車徒歩1', '新小51中関橋下車徒歩9', '南葛西会館前下車徒歩2', '新小岩一丁目下車徒歩4',\n",
       "       '鎌田下車徒歩6', '巽橋下車徒歩5', '柳之宮下車徒歩19', '東武バス本木小学校下車徒歩6', '目黒消防署下車徒歩3',\n",
       "       '小名木川小学校入口下車徒歩1', '大杉第二小学校下車徒歩7', '草41赤不動下車徒歩5', '農業試験場下車徒歩4',\n",
       "       '関町南二丁目下車徒歩22', '長島町交差点下車徒歩6', '関町郵便局前下車徒歩1', '船28大杉東小下車徒歩3',\n",
       "       '亀21東砂六下車徒歩3', '花畑六丁目下車徒歩2', '中丸小学校下車徒歩18', '駒大深沢キャンパス前下車徒歩3',\n",
       "       '土支田二丁目下車徒歩4', '亀有二丁目下車徒歩3', '竹の塚駅東口下車徒歩10', '東武バス扇二丁目下車徒歩4',\n",
       "       '水元高校下車徒歩3', '国立西が丘競技場北門下車徒歩1', '東武バス南花畑1丁目下車徒歩2', '北園(東京都)下車徒歩1',\n",
       "       '農業試験場下車徒歩6', '関原2丁目下車徒歩2', '南葛西中学校下車徒歩4', '鹿浜三丁目交差点下車徒歩3',\n",
       "       '大森十中前下車徒歩9', '竹ノ塚駅西口下車徒歩2', '松江下車徒歩3', '南小岩三丁目下車徒歩3',\n",
       "       '交通安全教育センター入口下車徒歩4', '上沼田団地下車徒歩3', '上石神井中学校入口下車徒歩1',\n",
       "       '東武バス末広町下車徒歩8', '武蔵関駅入口下車徒歩7', 'バス下車', '交通安全教育センター入り口下車徒歩2',\n",
       "       '住宅前下車徒歩4', '大泉学園駅南口下車徒歩2', '住宅前(練馬区)下車徒歩4', '本町4丁目下車徒歩3',\n",
       "       '蒲田下車徒歩9', '大泉風致地区下車徒歩8', '扇北詰下車徒歩5', '大谷田5丁目下車徒歩3', '大泉北中入口下車徒歩5',\n",
       "       '水元小学校前下車徒歩2', '臼田坂上下車徒歩3', 'スポーツランド入口下車徒歩4', '武蔵関駅駅入り口下車徒歩4',\n",
       "       '土支田八幡前下車徒歩3', '亀有駅下車徒歩4', '高松大門通り下車徒歩8', '東深沢小学校下車徒歩1',\n",
       "       '成城八丁目下車徒歩1', '辰沼団地入口下車徒歩2', '永安寺前下車徒歩5', '東武バス四ツ家町下車徒歩1',\n",
       "       '世田谷観音下車徒歩3', '都バス東京都実験プラザ前停下車徒歩2', '光が丘六丁目下車徒歩32', '南花畑1丁目下車徒歩6',\n",
       "       '東保木間下車徒歩3', '園芸高校前下車徒歩3', '西葛西駅前下車徒歩2', '学園橋下車徒歩5', 'もみじが丘下車徒歩4',\n",
       "       '西大泉二丁目交番前下車徒歩6', '住宅前下車徒歩5', '東武バス高砂町下車徒歩12', '東宝前下車徒歩9',\n",
       "       '大杉4丁目下車徒歩2', '六町駅前下車徒歩2', '新小岩駅東北広場下車徒歩2', '都立大学駅北口下車徒歩5',\n",
       "       '東武バス本木2丁目下車徒歩4', '中葛西七丁目下車徒歩6', '東新小岩8丁目下車徒歩6', '巽橋下車徒歩14',\n",
       "       '三ツ塚下車徒歩1', '関町南二丁目下車徒歩1', '志村坂上下車徒歩2', '新小岩駅前下車徒歩5',\n",
       "       '南葛西4丁目下車徒歩4', '下新倉下車徒歩8', '弁天神社下車徒歩2', '長久保(バス)下車徒歩11',\n",
       "       '放水路土手下下車徒歩4', '武蔵関駅入口下車徒歩10', '南葛西会館前下車徒歩1', 'NHK技術研究所下車',\n",
       "       '赤不動下車徒歩2', '西一之江三丁目下車徒歩2', '大森東四丁目下車徒歩4', '土支田二丁目(バス)下車徒歩19',\n",
       "       '土支田2丁目下車徒歩4', '花畑四丁目下車徒歩8', '武蔵関駅入口下車徒歩3', '江戸川高校前下車徒歩12',\n",
       "       '雪見橋北詰下車徒歩4', '瑞江駅下車徒歩4', '春江町五丁目下車徒歩5', '奥戸三丁目下車徒歩11',\n",
       "       '土支田八幡下車徒歩25', '西水元下車徒歩3', '巽橋下車徒歩9', '善福寺下車徒歩2', '西武車庫前下車徒歩2',\n",
       "       '六町下車徒歩3', '神明町下車徒歩4', '一ツ家2丁目下車徒歩1', '宇奈根ハンカチ公園下車徒歩2',\n",
       "       '大泉一小下車徒歩8', '岡本3丁目下車徒歩10', '枝川二丁目下車徒歩13', '東深沢中学校下車徒歩2',\n",
       "       '葛西駅下車徒歩35', '水元4丁目下車', '新小岩3丁目下車徒歩3', '北裏下車徒歩6', '東葛西8丁目下車徒歩3',\n",
       "       '東武バス都営住宅下車徒歩5', '東淵江庭園下車徒歩10', '都立足立高校前下車徒歩15', '新小21松島三下車徒歩4',\n",
       "       '陣屋橋下車徒歩7', '本木小学校下車徒歩1', '葛西南高校入口下車徒歩8', '東陽一丁目下車徒歩12',\n",
       "       '関町北一丁目下車徒歩3', '谷中5丁目下車徒歩2', '東武バス待木医院前下車徒歩1', '西台公園下車徒歩4',\n",
       "       'いこいの家入口下車徒歩6', '風致地区下車徒歩9', '辰沼団地下車徒歩2', '新小岩1丁目下車徒歩5',\n",
       "       '保谷駅南口下車徒歩2', '北裏下車徒歩4', '青井6丁目下車徒歩4', '水元公園下車徒歩3', 'リブレ京成前下車徒歩1',\n",
       "       '雪が谷下車徒歩6', '比丘尼橋(バス)下車徒歩23', '花畑四丁目下車徒歩1', '小73鹿骨三下車徒歩1',\n",
       "       '小菅下車徒歩10', '善福寺下車徒歩10', '大岡山小学校前下車徒歩3', '東小松川小学校前下車徒歩9',\n",
       "       '鹿浜6丁目下車徒歩4', '多摩川大橋下車徒歩1', '天祖神社下車徒歩3', '新小51新小岩駅下車徒歩8',\n",
       "       'しばられ地蔵前下車', '水元五丁目下車徒歩17', '西03西新井消防署前下車徒歩3', '土支田3丁目下車徒歩2',\n",
       "       '宇奈根地区会館前下車徒歩4', '東砂4丁目下車徒歩1', 'あいぐみ公園前下車徒歩2', '池上営業所前下車徒歩1',\n",
       "       '池上営業所前下車徒歩3', '榎北下車徒歩4'], dtype=object)"
      ]
     },
     "execution_count": 195,
     "metadata": {},
     "output_type": "execute_result"
    }
   ],
   "source": [
    "df_6_1[1] = df_6_1[1].str.strip(\")\")\n",
    "df_6_1[1] = df_6_1[1].str.replace(\"\\u3000\", \"\")\n",
    "df_6_1[1].unique()"
   ]
  },
  {
   "cell_type": "code",
   "execution_count": 196,
   "metadata": {},
   "outputs": [],
   "source": [
    "df_6_1_1 = df_6_1[1].str.split(\"下車徒歩\", expand=True)"
   ]
  },
  {
   "cell_type": "code",
   "execution_count": 197,
   "metadata": {},
   "outputs": [
    {
     "data": {
      "text/html": [
       "<div>\n",
       "<style scoped>\n",
       "    .dataframe tbody tr th:only-of-type {\n",
       "        vertical-align: middle;\n",
       "    }\n",
       "\n",
       "    .dataframe tbody tr th {\n",
       "        vertical-align: top;\n",
       "    }\n",
       "\n",
       "    .dataframe thead th {\n",
       "        text-align: right;\n",
       "    }\n",
       "</style>\n",
       "<table border=\"1\" class=\"dataframe\">\n",
       "  <thead>\n",
       "    <tr style=\"text-align: right;\">\n",
       "      <th></th>\n",
       "      <th>0</th>\n",
       "      <th>1</th>\n",
       "    </tr>\n",
       "  </thead>\n",
       "  <tbody>\n",
       "    <tr>\n",
       "      <th>0</th>\n",
       "      <td>None</td>\n",
       "      <td>None</td>\n",
       "    </tr>\n",
       "    <tr>\n",
       "      <th>1</th>\n",
       "      <td>None</td>\n",
       "      <td>None</td>\n",
       "    </tr>\n",
       "    <tr>\n",
       "      <th>2</th>\n",
       "      <td>None</td>\n",
       "      <td>None</td>\n",
       "    </tr>\n",
       "    <tr>\n",
       "      <th>3</th>\n",
       "      <td>None</td>\n",
       "      <td>None</td>\n",
       "    </tr>\n",
       "    <tr>\n",
       "      <th>4</th>\n",
       "      <td>None</td>\n",
       "      <td>None</td>\n",
       "    </tr>\n",
       "  </tbody>\n",
       "</table>\n",
       "</div>"
      ],
      "text/plain": [
       "      0     1\n",
       "0  None  None\n",
       "1  None  None\n",
       "2  None  None\n",
       "3  None  None\n",
       "4  None  None"
      ]
     },
     "execution_count": 197,
     "metadata": {},
     "output_type": "execute_result"
    }
   ],
   "source": [
    "df_6_1_1.head()"
   ]
  },
  {
   "cell_type": "code",
   "execution_count": 198,
   "metadata": {},
   "outputs": [
    {
     "data": {
      "text/plain": [
       "array([None, '都民農園', '長久保', '東葛西八丁目', '最寄りのバス停', '三軒寺', '大泉北中学校入口',\n",
       "       '足立車検場', '東小岩一丁目', '石神井郵便局停留所', '谷中中入口', '土支田二丁目', '上祖師谷4丁目',\n",
       "       '本州製紙裏門', '新小岩1丁目', '比丘尼橋', '日産自動車前', '中央図書館', '大谷田', '善福寺',\n",
       "       '谷原二丁目', '鹿本橋', '水元そよかぜ園', '鹿骨五丁目', '滋雲堂前', '高円寺駅北口', '新小51東上平井',\n",
       "       '東武バス西新井駅西口', '越後山', '第五上石神井住宅', '辰沼団地入口', '区立八中', '新蒲田三丁目',\n",
       "       '佐野センター前', '関町北町学校', '都営住宅', '新島橋', '西長久保(バス)', '瑞江斎場', '西武車庫前',\n",
       "       '北出張所', '永安寺', '武蔵関駅前', '葛西駅', '南葛西第二小学校前', '幸田小学校', '関原2丁目', '小関',\n",
       "       '入谷新道(バス)', '東映撮影所前(バス)', '樫の木公園前', '長久保(東京都)', 'ハートアイランド南',\n",
       "       '関町北1丁目', '花畑3町目', '岡本3丁目', '江北一丁目', '関町北小学校', '永安寺前', '下井草二丁目',\n",
       "       '国立西が丘競技場北門', '青梅街道営業所', '松の木', '水元2丁目', '千住車庫前', '水元中',\n",
       "       '京成バス大杉3丁目', '次大夫堀公園', '天沼マーケット前', '西水元2丁目', '品川シーサイド駅前', '野毛二丁目',\n",
       "       '半田稲荷前', '足立総合スポーツセンター前', '北糀谷', '水元3丁目', '西新井駅西口', '関町北一丁目',\n",
       "       '住宅前', '本郷花街道', '加平2丁目', '保木間一丁目', '六木小学校', '東小松川一丁目',\n",
       "       '上石神井イ中学校入口', '水元特別支援学校前', '鎌田', '恵32五本木', '中図師', '菅原橋', '中郷',\n",
       "       'NTT技研前', '小松川警察署前', '駅', '久保新田', '水元四丁目', '飯塚橋', '新広橋', '扇2丁目',\n",
       "       '東武バス四ッ家町', '仲町西組', '都バス弥生町', '本木2丁目', '足立郷土博物館', '名主屋敷', '関町北四丁目',\n",
       "       '野方三丁目', '有27西水元二', '谷中3丁目', '千歳台4丁目', '上石神井駅前', '船堀駅前', '保木間町',\n",
       "       '光が丘六丁目', '砧本村', 'ハートアイランド西(バス)', '新田3丁目', '谷中三丁目', '五丁目住宅',\n",
       "       '大泉風致地区', '佐野二丁目', '六木小学校前', '六ツ木団地', '保谷駅南口', '幸町:国際興業バス',\n",
       "       '大森東5丁目', '新小岩駅前', '江戸川区役所前', '大杉第二小学校', '代沢1丁目', '石神井団地入口', '公園橋',\n",
       "       '大泉学園駅南口', '二丁目西', '都バスドナウ通り', '高松五丁目', '西村', '鹿骨3丁目', '花畑団地停',\n",
       "       'いこいの家入口', '大井第一小学校', '西長久保', '下目黒五丁目', '代沢一丁目', '神明町', '南葛西中学校前',\n",
       "       '舎人二ツ橋', '学芸大学駅', '都営バスドナウ通り', '篠崎駅', '菊池外科胃腸科', '武蔵関駅', '水元4丁目',\n",
       "       '東武バス四ツ家町', '一ツ家一丁目', '高松5丁目', '東新小岩三丁目', '江戸川高校前', '北園(バス)',\n",
       "       '花畑交番前', '篠崎2丁目', 'EXシアター六本木前', '武蔵関駅入口', '西水元二丁目', '高松大門通り',\n",
       "       '総合レクリエーション公園前', '清水公園入口', '京葉交差点', '枝川2丁目', '総合荻窪病院', '大泉郵便局',\n",
       "       '南小岩二', '花畑4丁目', '井草中学校', '下馬営業所', '清新ふたば小学校前', '善福寺郵便局', '砧本村停',\n",
       "       '杉並5小前', '西武車庫前[練馬区]', '三園一丁目中央', '久保新田(東京都)', '鹿骨一丁目', '松江第一中前',\n",
       "       '下石神井坂下', '南小岩二丁目', '三原台一丁目', '西水元一丁目', '廻沢', '大泉町四丁目', '水道端',\n",
       "       '小松川三丁目', '住宅前[練馬区]', '学芸付属中学校', '西荻窪駅', '都民住宅', '松江中', '法林寺',\n",
       "       '目白5丁目', '堀江団地', '松江第一中学校前', '生活実習所前', '上篠崎', '花畑団地', '保木間1丁目',\n",
       "       '農芸高校前', '北園(東京都)', '小岩警察・区民館', '新広場', '東武区民間入口', '水元高校', '南篠崎3丁目',\n",
       "       '公園前', '成城四番', '加賀1丁目', '松本小学校', '小岩駅', '小72ポニーランド', '上鎌田',\n",
       "       '住宅前(練馬区)', '関町南三丁目', '税務署前', '松本弁天', '大谷田1丁目', '北大泉',\n",
       "       '都バスハートアイランド南', '雪見橋南詰', '学園橋', '臼田坂下', '鹿浜三丁目', '総合レクリエーション公園',\n",
       "       '関町北4丁目', '鹿本中学校', '和光市南', '大泉町4丁目', '今井', '石神井高校前', '新田', 'ときわ橋',\n",
       "       '東武バスハートランド南', '下井草5丁目', '谷原中学校', '都営バスNTT江戸川支店前', '大泉町2丁目',\n",
       "       '岡本三丁目', '佐野センター', '亀有駅', '辰沼小学校入口', '谷中三郵便局前', '東小松川二丁目', '野方駅北口',\n",
       "       '東武バス六町駅', '大谷田5丁目', '大谷田四丁目', '六町駅入口', '船堀小学校前', '小松中',\n",
       "       '総合レクリエーション前', '等々力7丁目', 'ハートアイランド東', '大泉学園町四丁目', '南葛西小学校前',\n",
       "       '土支田交番', '入谷三丁目', '三原台中学校', '雪見橋', '中丸小学校下車', '葛飾区役所', '鷺ノ宮駅',\n",
       "       '北加平', '巽橋', '都営弥生町', '西一之江二丁目', '東武バス西新井陸橋', '土支田八幡', '江北陸橋下',\n",
       "       '田柄三丁目', '西台1丁目', '関町南二丁目', '水元5丁目', '浮間舟渡駅行浮間舟渡駅', '桑川町',\n",
       "       '宇奈根地区会館', '興野公団住宅', '興本センター前', '光が丘南口入口', '水元神社前', '鹿骨', '水元小学校',\n",
       "       '喜多見小学校前', '大泉町二丁目', '枝川二丁目', '小豆沢二丁目', '東武バス', '三ッ塚', '下井草郵便局',\n",
       "       '善福寺郵便局前', '仲町東組', '萩中公園前', '谷原中学校前', '上池上', '練高01光が丘六', '東陽町駅前',\n",
       "       '宇奈根ハンカチ公園', '本木小学校前', '司法研修所(バス)', '谷中5丁目', 'ふれあいの家下車', '鹿浜3丁目',\n",
       "       '六の橋', '椿2丁目', '新町商店街入り口', '土支田1丁目', '東武バス興本センター前', '宝性寺',\n",
       "       'NTT江戸川支店前', '水元総合スポーツセンター', '亀有二丁目東', '宇奈根1丁目', '竹の塚駅東口', '光が丘団地',\n",
       "       '富士街道', '東六郷三丁目', '六木4丁目', '二軒新田', '新町商店街入口', '江戸川区役所', '南千住駅東口',\n",
       "       '鹿骨5丁目', '上石神井駅', '松江', 'ふれあいの家', '大島駅前', '学園通り補助230号線',\n",
       "       '大杉第二小学校(バス)', '都営新小岩一丁目', '土支田八幡前', '高砂小橋', '西門寺橋', '氷川神社',\n",
       "       '大泉町3丁目', '小76鹿骨五', '練高01旭町南地区区民館', '東武バス西新井車庫', '東武バス都営住宅',\n",
       "       '大泉三丁目', '花畑小', '赤羽西六丁目', '都民農園(バス)', '富士見台一丁目', '山王三丁目', '水元5丁目停',\n",
       "       '司法研修所', '佐野2丁目', '西台公園', '石神井警察署', '京急バス(森50)', '上石神井駅(南口)',\n",
       "       '練馬春日町駅', '丸山西橋', '小岩消防署', '岡本1丁目', '東武バス六ツ木団地', '新小51中関橋',\n",
       "       '南葛西会館前', '新小岩一丁目', '柳之宮', '東武バス本木小学校', '目黒消防署', '小名木川小学校入口',\n",
       "       '草41赤不動', '農業試験場', '長島町交差点', '関町郵便局前', '船28大杉東小', '亀21東砂六',\n",
       "       '花畑六丁目', '中丸小学校', '駒大深沢キャンパス前', '亀有二丁目', '東武バス扇二丁目', '東武バス南花畑1丁目',\n",
       "       '南葛西中学校', '鹿浜三丁目交差点', '大森十中前', '竹ノ塚駅西口', '南小岩三丁目', '交通安全教育センター入口',\n",
       "       '上沼田団地', '上石神井中学校入口', '東武バス末広町', 'バス下車', '交通安全教育センター入り口', '本町4丁目',\n",
       "       '蒲田', '扇北詰', '大泉北中入口', '水元小学校前', '臼田坂上', 'スポーツランド入口', '武蔵関駅駅入り口',\n",
       "       '東深沢小学校', '成城八丁目', '世田谷観音', '都バス東京都実験プラザ前停', '南花畑1丁目', '東保木間',\n",
       "       '園芸高校前', '西葛西駅前', 'もみじが丘', '西大泉二丁目交番前', '東武バス高砂町', '東宝前', '大杉4丁目',\n",
       "       '六町駅前', '新小岩駅東北広場', '都立大学駅北口', '東武バス本木2丁目', '中葛西七丁目', '東新小岩8丁目',\n",
       "       '三ツ塚', '志村坂上', '南葛西4丁目', '下新倉', '弁天神社', '長久保(バス)', '放水路土手下',\n",
       "       'NHK技術研究所下車', '赤不動', '西一之江三丁目', '大森東四丁目', '土支田二丁目(バス)', '土支田2丁目',\n",
       "       '花畑四丁目', '雪見橋北詰', '瑞江駅', '春江町五丁目', '奥戸三丁目', '西水元', '六町', '一ツ家2丁目',\n",
       "       '大泉一小', '東深沢中学校', '水元4丁目下車', '新小岩3丁目', '北裏', '東葛西8丁目', '東淵江庭園',\n",
       "       '都立足立高校前', '新小21松島三', '陣屋橋', '本木小学校', '葛西南高校入口', '東陽一丁目',\n",
       "       '東武バス待木医院前', '風致地区', '辰沼団地', '青井6丁目', '水元公園', 'リブレ京成前', '雪が谷',\n",
       "       '比丘尼橋(バス)', '小73鹿骨三', '小菅', '大岡山小学校前', '東小松川小学校前', '鹿浜6丁目',\n",
       "       '多摩川大橋', '天祖神社', '新小51新小岩駅', 'しばられ地蔵前下車', '水元五丁目', '西03西新井消防署前',\n",
       "       '土支田3丁目', '宇奈根地区会館前', '東砂4丁目', 'あいぐみ公園前', '池上営業所前', '榎北'],\n",
       "      dtype=object)"
      ]
     },
     "execution_count": 198,
     "metadata": {},
     "output_type": "execute_result"
    }
   ],
   "source": [
    "df_6_1_1[0].unique()"
   ]
  },
  {
   "cell_type": "code",
   "execution_count": 199,
   "metadata": {},
   "outputs": [],
   "source": [
    "df_6_1_1[0] = df_6_1_1[0].str.strip(\"下車\")\n",
    "# df_6_1_1[0] = df_6_1_1[0].str.strip(\"駅\")"
   ]
  },
  {
   "cell_type": "code",
   "execution_count": 200,
   "metadata": {},
   "outputs": [
    {
     "data": {
      "text/plain": [
       "array([None, '都民農園', '長久保', '東葛西八丁目', '最寄りのバス停', '三軒寺', '大泉北中学校入口',\n",
       "       '足立車検場', '東小岩一丁目', '石神井郵便局停留所', '谷中中入口', '土支田二丁目', '上祖師谷4丁目',\n",
       "       '本州製紙裏門', '新小岩1丁目', '比丘尼橋', '日産自動車前', '中央図書館', '大谷田', '善福寺',\n",
       "       '谷原二丁目', '鹿本橋', '水元そよかぜ園', '鹿骨五丁目', '滋雲堂前', '高円寺駅北口', '新小51東上平井',\n",
       "       '東武バス西新井駅西口', '越後山', '第五上石神井住宅', '辰沼団地入口', '区立八中', '新蒲田三丁目',\n",
       "       '佐野センター前', '関町北町学校', '都営住宅', '新島橋', '西長久保(バス)', '瑞江斎場', '西武車庫前',\n",
       "       '北出張所', '永安寺', '武蔵関駅前', '葛西駅', '南葛西第二小学校前', '幸田小学校', '関原2丁目', '小関',\n",
       "       '入谷新道(バス)', '東映撮影所前(バス)', '樫の木公園前', '長久保(東京都)', 'ハートアイランド南',\n",
       "       '関町北1丁目', '花畑3町目', '岡本3丁目', '江北一丁目', '関町北小学校', '永安寺前', '井草二丁目',\n",
       "       '国立西が丘競技場北門', '青梅街道営業所', '松の木', '水元2丁目', '千住車庫前', '水元中',\n",
       "       '京成バス大杉3丁目', '次大夫堀公園', '天沼マーケット前', '西水元2丁目', '品川シーサイド駅前', '野毛二丁目',\n",
       "       '半田稲荷前', '足立総合スポーツセンター前', '北糀谷', '水元3丁目', '西新井駅西口', '関町北一丁目',\n",
       "       '住宅前', '本郷花街道', '加平2丁目', '保木間一丁目', '六木小学校', '東小松川一丁目',\n",
       "       '上石神井イ中学校入口', '水元特別支援学校前', '鎌田', '恵32五本木', '中図師', '菅原橋', '中郷',\n",
       "       'NTT技研前', '小松川警察署前', '駅', '久保新田', '水元四丁目', '飯塚橋', '新広橋', '扇2丁目',\n",
       "       '東武バス四ッ家町', '仲町西組', '都バス弥生町', '本木2丁目', '足立郷土博物館', '名主屋敷', '関町北四丁目',\n",
       "       '野方三丁目', '有27西水元二', '谷中3丁目', '千歳台4丁目', '上石神井駅前', '船堀駅前', '保木間町',\n",
       "       '光が丘六丁目', '砧本村', 'ハートアイランド西(バス)', '新田3丁目', '谷中三丁目', '五丁目住宅',\n",
       "       '大泉風致地区', '佐野二丁目', '六木小学校前', '六ツ木団地', '保谷駅南口', '幸町:国際興業バス',\n",
       "       '大森東5丁目', '新小岩駅前', '江戸川区役所前', '大杉第二小学校', '代沢1丁目', '石神井団地入口', '公園橋',\n",
       "       '大泉学園駅南口', '二丁目西', '都バスドナウ通り', '高松五丁目', '西村', '鹿骨3丁目', '花畑団地停',\n",
       "       'いこいの家入口', '大井第一小学校', '西長久保', '目黒五丁目', '代沢一丁目', '神明町', '南葛西中学校前',\n",
       "       '舎人二ツ橋', '学芸大学駅', '都営バスドナウ通り', '篠崎駅', '菊池外科胃腸科', '武蔵関駅', '水元4丁目',\n",
       "       '東武バス四ツ家町', '一ツ家一丁目', '高松5丁目', '東新小岩三丁目', '江戸川高校前', '北園(バス)',\n",
       "       '花畑交番前', '篠崎2丁目', 'EXシアター六本木前', '武蔵関駅入口', '西水元二丁目', '高松大門通り',\n",
       "       '総合レクリエーション公園前', '清水公園入口', '京葉交差点', '枝川2丁目', '総合荻窪病院', '大泉郵便局',\n",
       "       '南小岩二', '花畑4丁目', '井草中学校', '馬営業所', '清新ふたば小学校前', '善福寺郵便局', '砧本村停',\n",
       "       '杉並5小前', '西武車庫前[練馬区]', '三園一丁目中央', '久保新田(東京都)', '鹿骨一丁目', '松江第一中前',\n",
       "       '石神井坂', '南小岩二丁目', '三原台一丁目', '西水元一丁目', '廻沢', '大泉町四丁目', '水道端',\n",
       "       '小松川三丁目', '住宅前[練馬区]', '学芸付属中学校', '西荻窪駅', '都民住宅', '松江中', '法林寺',\n",
       "       '目白5丁目', '堀江団地', '松江第一中学校前', '生活実習所前', '上篠崎', '花畑団地', '保木間1丁目',\n",
       "       '農芸高校前', '北園(東京都)', '小岩警察・区民館', '新広場', '東武区民間入口', '水元高校', '南篠崎3丁目',\n",
       "       '公園前', '成城四番', '加賀1丁目', '松本小学校', '小岩駅', '小72ポニーランド', '上鎌田',\n",
       "       '住宅前(練馬区)', '関町南三丁目', '税務署前', '松本弁天', '大谷田1丁目', '北大泉',\n",
       "       '都バスハートアイランド南', '雪見橋南詰', '学園橋', '臼田坂', '鹿浜三丁目', '総合レクリエーション公園',\n",
       "       '関町北4丁目', '鹿本中学校', '和光市南', '大泉町4丁目', '今井', '石神井高校前', '新田', 'ときわ橋',\n",
       "       '東武バスハートランド南', '井草5丁目', '谷原中学校', '都営バスNTT江戸川支店前', '大泉町2丁目',\n",
       "       '岡本三丁目', '佐野センター', '亀有駅', '辰沼小学校入口', '谷中三郵便局前', '東小松川二丁目', '野方駅北口',\n",
       "       '東武バス六町駅', '大谷田5丁目', '大谷田四丁目', '六町駅入口', '船堀小学校前', '小松中',\n",
       "       '総合レクリエーション前', '等々力7丁目', 'ハートアイランド東', '大泉学園町四丁目', '南葛西小学校前',\n",
       "       '土支田交番', '入谷三丁目', '三原台中学校', '雪見橋', '中丸小学校', '葛飾区役所', '鷺ノ宮駅', '北加平',\n",
       "       '巽橋', '都営弥生町', '西一之江二丁目', '東武バス西新井陸橋', '土支田八幡', '江北陸橋', '田柄三丁目',\n",
       "       '西台1丁目', '関町南二丁目', '水元5丁目', '浮間舟渡駅行浮間舟渡駅', '桑川町', '宇奈根地区会館',\n",
       "       '興野公団住宅', '興本センター前', '光が丘南口入口', '水元神社前', '鹿骨', '水元小学校', '喜多見小学校前',\n",
       "       '大泉町二丁目', '枝川二丁目', '小豆沢二丁目', '東武バス', '三ッ塚', '井草郵便局', '善福寺郵便局前',\n",
       "       '仲町東組', '萩中公園前', '谷原中学校前', '上池上', '練高01光が丘六', '東陽町駅前', '宇奈根ハンカチ公園',\n",
       "       '本木小学校前', '司法研修所(バス)', '谷中5丁目', 'ふれあいの家', '鹿浜3丁目', '六の橋', '椿2丁目',\n",
       "       '新町商店街入り口', '土支田1丁目', '東武バス興本センター前', '宝性寺', 'NTT江戸川支店前',\n",
       "       '水元総合スポーツセンター', '亀有二丁目東', '宇奈根1丁目', '竹の塚駅東口', '光が丘団地', '富士街道',\n",
       "       '東六郷三丁目', '六木4丁目', '二軒新田', '新町商店街入口', '江戸川区役所', '南千住駅東口', '鹿骨5丁目',\n",
       "       '上石神井駅', '松江', '大島駅前', '学園通り補助230号線', '大杉第二小学校(バス)', '都営新小岩一丁目',\n",
       "       '土支田八幡前', '高砂小橋', '西門寺橋', '氷川神社', '大泉町3丁目', '小76鹿骨五',\n",
       "       '練高01旭町南地区区民館', '東武バス西新井車庫', '東武バス都営住宅', '大泉三丁目', '花畑小', '赤羽西六丁目',\n",
       "       '都民農園(バス)', '富士見台一丁目', '山王三丁目', '水元5丁目停', '司法研修所', '佐野2丁目', '西台公園',\n",
       "       '石神井警察署', '京急バス(森50)', '上石神井駅(南口)', '練馬春日町駅', '丸山西橋', '小岩消防署',\n",
       "       '岡本1丁目', '東武バス六ツ木団地', '新小51中関橋', '南葛西会館前', '新小岩一丁目', '柳之宮',\n",
       "       '東武バス本木小学校', '目黒消防署', '小名木川小学校入口', '草41赤不動', '農業試験場', '長島町交差点',\n",
       "       '関町郵便局前', '船28大杉東小', '亀21東砂六', '花畑六丁目', '駒大深沢キャンパス前', '亀有二丁目',\n",
       "       '東武バス扇二丁目', '東武バス南花畑1丁目', '南葛西中学校', '鹿浜三丁目交差点', '大森十中前', '竹ノ塚駅西口',\n",
       "       '南小岩三丁目', '交通安全教育センター入口', '上沼田団地', '上石神井中学校入口', '東武バス末広町', 'バス',\n",
       "       '交通安全教育センター入り口', '本町4丁目', '蒲田', '扇北詰', '大泉北中入口', '水元小学校前', '臼田坂上',\n",
       "       'スポーツランド入口', '武蔵関駅駅入り口', '東深沢小学校', '成城八丁目', '世田谷観音',\n",
       "       '都バス東京都実験プラザ前停', '南花畑1丁目', '東保木間', '園芸高校前', '西葛西駅前', 'もみじが丘',\n",
       "       '西大泉二丁目交番前', '東武バス高砂町', '東宝前', '大杉4丁目', '六町駅前', '新小岩駅東北広場',\n",
       "       '都立大学駅北口', '東武バス本木2丁目', '中葛西七丁目', '東新小岩8丁目', '三ツ塚', '志村坂上',\n",
       "       '南葛西4丁目', '新倉', '弁天神社', '長久保(バス)', '放水路土手', 'NHK技術研究所', '赤不動',\n",
       "       '西一之江三丁目', '大森東四丁目', '土支田二丁目(バス)', '土支田2丁目', '花畑四丁目', '雪見橋北詰',\n",
       "       '瑞江駅', '春江町五丁目', '奥戸三丁目', '西水元', '六町', '一ツ家2丁目', '大泉一小', '東深沢中学校',\n",
       "       '新小岩3丁目', '北裏', '東葛西8丁目', '東淵江庭園', '都立足立高校前', '新小21松島三', '陣屋橋',\n",
       "       '本木小学校', '葛西南高校入口', '東陽一丁目', '東武バス待木医院前', '風致地区', '辰沼団地', '青井6丁目',\n",
       "       '水元公園', 'リブレ京成前', '雪が谷', '比丘尼橋(バス)', '小73鹿骨三', '小菅', '大岡山小学校前',\n",
       "       '東小松川小学校前', '鹿浜6丁目', '多摩川大橋', '天祖神社', '新小51新小岩駅', 'しばられ地蔵前',\n",
       "       '水元五丁目', '西03西新井消防署前', '土支田3丁目', '宇奈根地区会館前', '東砂4丁目', 'あいぐみ公園前',\n",
       "       '池上営業所前', '榎北'], dtype=object)"
      ]
     },
     "execution_count": 200,
     "metadata": {},
     "output_type": "execute_result"
    }
   ],
   "source": [
    "df_6_1_1[0].unique()"
   ]
  },
  {
   "cell_type": "code",
   "execution_count": 201,
   "metadata": {},
   "outputs": [
    {
     "name": "stdout",
     "output_type": "stream",
     "text": [
      "None\n",
      "都民農園\n",
      "長久保\n",
      "東葛西八丁目\n",
      "最寄りのバス停\n",
      "三軒寺\n",
      "大泉北中学校入口\n",
      "足立車検場\n",
      "東小岩一丁目\n",
      "石神井郵便局停留所\n",
      "谷中中入口\n",
      "土支田二丁目\n",
      "上祖師谷4丁目\n",
      "本州製紙裏門\n",
      "新小岩1丁目\n",
      "比丘尼橋\n",
      "日産自動車前\n",
      "中央図書館\n",
      "大谷田\n",
      "善福寺\n",
      "谷原二丁目\n",
      "鹿本橋\n",
      "水元そよかぜ園\n",
      "鹿骨五丁目\n",
      "滋雲堂前\n",
      "高円寺駅北口\n",
      "新小51東上平井\n",
      "東武バス西新井駅西口\n",
      "越後山\n",
      "第五上石神井住宅\n",
      "辰沼団地入口\n",
      "区立八中\n",
      "新蒲田三丁目\n",
      "佐野センター前\n",
      "関町北町学校\n",
      "都営住宅\n",
      "新島橋\n",
      "西長久保(バス)\n",
      "瑞江斎場\n",
      "西武車庫前\n",
      "北出張所\n",
      "永安寺\n",
      "武蔵関駅前\n",
      "葛西駅\n",
      "南葛西第二小学校前\n",
      "幸田小学校\n",
      "関原2丁目\n",
      "小関\n",
      "入谷新道(バス)\n",
      "東映撮影所前(バス)\n",
      "樫の木公園前\n",
      "長久保(東京都)\n",
      "ハートアイランド南\n",
      "関町北1丁目\n",
      "花畑3町目\n",
      "岡本3丁目\n",
      "江北一丁目\n",
      "関町北小学校\n",
      "永安寺前\n",
      "井草二丁目\n",
      "国立西が丘競技場北門\n",
      "青梅街道営業所\n",
      "松の木\n",
      "水元2丁目\n",
      "千住車庫前\n",
      "水元中\n",
      "京成バス大杉3丁目\n",
      "次大夫堀公園\n",
      "天沼マーケット前\n",
      "西水元2丁目\n",
      "品川シーサイド駅前\n",
      "野毛二丁目\n",
      "半田稲荷前\n",
      "足立総合スポーツセンター前\n",
      "北糀谷\n",
      "水元3丁目\n",
      "西新井駅西口\n",
      "関町北一丁目\n",
      "住宅前\n",
      "本郷花街道\n",
      "加平2丁目\n",
      "保木間一丁目\n",
      "六木小学校\n",
      "東小松川一丁目\n",
      "上石神井イ中学校入口\n",
      "水元特別支援学校前\n",
      "鎌田\n",
      "恵32五本木\n",
      "中図師\n",
      "菅原橋\n",
      "中郷\n",
      "NTT技研前\n",
      "小松川警察署前\n",
      "駅\n",
      "久保新田\n",
      "水元四丁目\n",
      "飯塚橋\n",
      "新広橋\n",
      "扇2丁目\n",
      "東武バス四ッ家町\n",
      "仲町西組\n",
      "都バス弥生町\n",
      "本木2丁目\n",
      "足立郷土博物館\n",
      "名主屋敷\n",
      "関町北四丁目\n",
      "野方三丁目\n",
      "有27西水元二\n",
      "谷中3丁目\n",
      "千歳台4丁目\n",
      "上石神井駅前\n",
      "船堀駅前\n",
      "保木間町\n",
      "光が丘六丁目\n",
      "砧本村\n",
      "ハートアイランド西(バス)\n",
      "新田3丁目\n",
      "谷中三丁目\n",
      "五丁目住宅\n",
      "大泉風致地区\n",
      "佐野二丁目\n",
      "六木小学校前\n",
      "六ツ木団地\n",
      "保谷駅南口\n",
      "幸町:国際興業バス\n",
      "大森東5丁目\n",
      "新小岩駅前\n",
      "江戸川区役所前\n",
      "大杉第二小学校\n",
      "代沢1丁目\n",
      "石神井団地入口\n",
      "公園橋\n",
      "大泉学園駅南口\n",
      "二丁目西\n",
      "都バスドナウ通り\n",
      "高松五丁目\n",
      "西村\n",
      "鹿骨3丁目\n",
      "花畑団地停\n",
      "いこいの家入口\n",
      "大井第一小学校\n",
      "西長久保\n",
      "目黒五丁目\n",
      "代沢一丁目\n",
      "神明町\n",
      "南葛西中学校前\n",
      "舎人二ツ橋\n",
      "学芸大学駅\n",
      "都営バスドナウ通り\n",
      "篠崎駅\n",
      "菊池外科胃腸科\n",
      "武蔵関駅\n",
      "水元4丁目\n",
      "東武バス四ツ家町\n",
      "一ツ家一丁目\n",
      "高松5丁目\n",
      "東新小岩三丁目\n",
      "江戸川高校前\n",
      "北園(バス)\n",
      "花畑交番前\n",
      "篠崎2丁目\n",
      "EXシアター六本木前\n",
      "武蔵関駅入口\n",
      "西水元二丁目\n",
      "高松大門通り\n",
      "総合レクリエーション公園前\n",
      "清水公園入口\n",
      "京葉交差点\n",
      "枝川2丁目\n",
      "総合荻窪病院\n",
      "大泉郵便局\n",
      "南小岩二\n",
      "花畑4丁目\n",
      "井草中学校\n",
      "馬営業所\n",
      "清新ふたば小学校前\n",
      "善福寺郵便局\n",
      "砧本村停\n",
      "杉並5小前\n",
      "西武車庫前[練馬区]\n",
      "三園一丁目中央\n",
      "久保新田(東京都)\n",
      "鹿骨一丁目\n",
      "松江第一中前\n",
      "石神井坂\n",
      "南小岩二丁目\n",
      "三原台一丁目\n",
      "西水元一丁目\n",
      "廻沢\n",
      "大泉町四丁目\n",
      "水道端\n",
      "小松川三丁目\n",
      "住宅前[練馬区]\n",
      "学芸付属中学校\n",
      "西荻窪駅\n",
      "都民住宅\n",
      "松江中\n",
      "法林寺\n",
      "目白5丁目\n",
      "堀江団地\n",
      "松江第一中学校前\n",
      "生活実習所前\n",
      "上篠崎\n",
      "花畑団地\n",
      "保木間1丁目\n",
      "農芸高校前\n",
      "北園(東京都)\n",
      "小岩警察・区民館\n",
      "新広場\n",
      "東武区民間入口\n",
      "水元高校\n",
      "南篠崎3丁目\n",
      "公園前\n",
      "成城四番\n",
      "加賀1丁目\n",
      "松本小学校\n",
      "小岩駅\n",
      "小72ポニーランド\n",
      "上鎌田\n",
      "住宅前(練馬区)\n",
      "関町南三丁目\n",
      "税務署前\n",
      "松本弁天\n",
      "大谷田1丁目\n",
      "北大泉\n",
      "都バスハートアイランド南\n",
      "雪見橋南詰\n",
      "学園橋\n",
      "臼田坂\n",
      "鹿浜三丁目\n",
      "総合レクリエーション公園\n",
      "関町北4丁目\n",
      "鹿本中学校\n",
      "和光市南\n",
      "大泉町4丁目\n",
      "今井\n",
      "石神井高校前\n",
      "新田\n",
      "ときわ橋\n",
      "東武バスハートランド南\n",
      "井草5丁目\n",
      "谷原中学校\n",
      "都営バスNTT江戸川支店前\n",
      "大泉町2丁目\n",
      "岡本三丁目\n",
      "佐野センター\n",
      "亀有駅\n",
      "辰沼小学校入口\n",
      "谷中三郵便局前\n",
      "東小松川二丁目\n",
      "野方駅北口\n",
      "東武バス六町駅\n",
      "大谷田5丁目\n",
      "大谷田四丁目\n",
      "六町駅入口\n",
      "船堀小学校前\n",
      "小松中\n",
      "総合レクリエーション前\n",
      "等々力7丁目\n",
      "ハートアイランド東\n",
      "大泉学園町四丁目\n",
      "南葛西小学校前\n",
      "土支田交番\n",
      "入谷三丁目\n",
      "三原台中学校\n",
      "雪見橋\n",
      "中丸小学校\n",
      "葛飾区役所\n",
      "鷺ノ宮駅\n",
      "北加平\n",
      "巽橋\n",
      "都営弥生町\n",
      "西一之江二丁目\n",
      "東武バス西新井陸橋\n",
      "土支田八幡\n",
      "江北陸橋\n",
      "田柄三丁目\n",
      "西台1丁目\n",
      "関町南二丁目\n",
      "水元5丁目\n",
      "浮間舟渡駅行浮間舟渡駅\n",
      "桑川町\n",
      "宇奈根地区会館\n",
      "興野公団住宅\n",
      "興本センター前\n",
      "光が丘南口入口\n",
      "水元神社前\n",
      "鹿骨\n",
      "水元小学校\n",
      "喜多見小学校前\n",
      "大泉町二丁目\n",
      "枝川二丁目\n",
      "小豆沢二丁目\n",
      "東武バス\n",
      "三ッ塚\n",
      "井草郵便局\n",
      "善福寺郵便局前\n",
      "仲町東組\n",
      "萩中公園前\n",
      "谷原中学校前\n",
      "上池上\n",
      "練高01光が丘六\n",
      "東陽町駅前\n",
      "宇奈根ハンカチ公園\n",
      "本木小学校前\n",
      "司法研修所(バス)\n",
      "谷中5丁目\n",
      "ふれあいの家\n",
      "鹿浜3丁目\n",
      "六の橋\n",
      "椿2丁目\n",
      "新町商店街入り口\n",
      "土支田1丁目\n",
      "東武バス興本センター前\n",
      "宝性寺\n",
      "NTT江戸川支店前\n",
      "水元総合スポーツセンター\n",
      "亀有二丁目東\n",
      "宇奈根1丁目\n",
      "竹の塚駅東口\n",
      "光が丘団地\n",
      "富士街道\n",
      "東六郷三丁目\n",
      "六木4丁目\n",
      "二軒新田\n",
      "新町商店街入口\n",
      "江戸川区役所\n",
      "南千住駅東口\n",
      "鹿骨5丁目\n",
      "上石神井駅\n",
      "松江\n",
      "大島駅前\n",
      "学園通り補助230号線\n",
      "大杉第二小学校(バス)\n",
      "都営新小岩一丁目\n",
      "土支田八幡前\n",
      "高砂小橋\n",
      "西門寺橋\n",
      "氷川神社\n",
      "大泉町3丁目\n",
      "小76鹿骨五\n",
      "練高01旭町南地区区民館\n",
      "東武バス西新井車庫\n",
      "東武バス都営住宅\n",
      "大泉三丁目\n",
      "花畑小\n",
      "赤羽西六丁目\n",
      "都民農園(バス)\n",
      "富士見台一丁目\n",
      "山王三丁目\n",
      "水元5丁目停\n",
      "司法研修所\n",
      "佐野2丁目\n",
      "西台公園\n",
      "石神井警察署\n",
      "京急バス(森50)\n",
      "上石神井駅(南口)\n",
      "練馬春日町駅\n",
      "丸山西橋\n",
      "小岩消防署\n",
      "岡本1丁目\n",
      "東武バス六ツ木団地\n",
      "新小51中関橋\n",
      "南葛西会館前\n",
      "新小岩一丁目\n",
      "柳之宮\n",
      "東武バス本木小学校\n",
      "目黒消防署\n",
      "小名木川小学校入口\n",
      "草41赤不動\n",
      "農業試験場\n",
      "長島町交差点\n",
      "関町郵便局前\n",
      "船28大杉東小\n",
      "亀21東砂六\n",
      "花畑六丁目\n",
      "駒大深沢キャンパス前\n",
      "亀有二丁目\n",
      "東武バス扇二丁目\n",
      "東武バス南花畑1丁目\n",
      "南葛西中学校\n",
      "鹿浜三丁目交差点\n",
      "大森十中前\n",
      "竹ノ塚駅西口\n",
      "南小岩三丁目\n",
      "交通安全教育センター入口\n",
      "上沼田団地\n",
      "上石神井中学校入口\n",
      "東武バス末広町\n",
      "バス\n",
      "交通安全教育センター入り口\n",
      "本町4丁目\n",
      "蒲田\n",
      "扇北詰\n",
      "大泉北中入口\n",
      "水元小学校前\n",
      "臼田坂上\n",
      "スポーツランド入口\n",
      "武蔵関駅駅入り口\n",
      "東深沢小学校\n",
      "成城八丁目\n",
      "世田谷観音\n",
      "都バス東京都実験プラザ前停\n",
      "南花畑1丁目\n",
      "東保木間\n",
      "園芸高校前\n",
      "西葛西駅前\n",
      "もみじが丘\n",
      "西大泉二丁目交番前\n",
      "東武バス高砂町\n",
      "東宝前\n",
      "大杉4丁目\n",
      "六町駅前\n",
      "新小岩駅東北広場\n",
      "都立大学駅北口\n",
      "東武バス本木2丁目\n",
      "中葛西七丁目\n",
      "東新小岩8丁目\n",
      "三ツ塚\n",
      "志村坂上\n",
      "南葛西4丁目\n",
      "新倉\n",
      "弁天神社\n",
      "長久保(バス)\n",
      "放水路土手\n",
      "NHK技術研究所\n",
      "赤不動\n",
      "西一之江三丁目\n",
      "大森東四丁目\n",
      "土支田二丁目(バス)\n",
      "土支田2丁目\n",
      "花畑四丁目\n",
      "雪見橋北詰\n",
      "瑞江駅\n",
      "春江町五丁目\n",
      "奥戸三丁目\n",
      "西水元\n",
      "六町\n",
      "一ツ家2丁目\n",
      "大泉一小\n",
      "東深沢中学校\n",
      "新小岩3丁目\n",
      "北裏\n",
      "東葛西8丁目\n",
      "東淵江庭園\n",
      "都立足立高校前\n",
      "新小21松島三\n",
      "陣屋橋\n",
      "本木小学校\n",
      "葛西南高校入口\n",
      "東陽一丁目\n",
      "東武バス待木医院前\n",
      "風致地区\n",
      "辰沼団地\n",
      "青井6丁目\n",
      "水元公園\n",
      "リブレ京成前\n",
      "雪が谷\n",
      "比丘尼橋(バス)\n",
      "小73鹿骨三\n",
      "小菅\n",
      "大岡山小学校前\n",
      "東小松川小学校前\n",
      "鹿浜6丁目\n",
      "多摩川大橋\n",
      "天祖神社\n",
      "新小51新小岩駅\n",
      "しばられ地蔵前\n",
      "水元五丁目\n",
      "西03西新井消防署前\n",
      "土支田3丁目\n",
      "宇奈根地区会館前\n",
      "東砂4丁目\n",
      "あいぐみ公園前\n",
      "池上営業所前\n",
      "榎北\n"
     ]
    }
   ],
   "source": [
    "for i in df_6_1_1[0].unique():\n",
    "    print(i)"
   ]
  },
  {
   "cell_type": "code",
   "execution_count": 202,
   "metadata": {},
   "outputs": [
    {
     "data": {
      "text/plain": [
       "Index(['所在地', 'アクセス', '間取り', '方角', '面積', '所在階', 'バス・トイレ', 'キッチン', '放送・通信',\n",
       "       '室内設備', '駐車場', '周辺環境', '建物構造', '契約期間', '築年数_月', '階建', '所在階_地下', '階建_地下',\n",
       "       '納戸', '間取り_D', '間取り_K', '間取り_L', '間取り_R', '間取り_S', '間取り_数', '方角_南',\n",
       "       '方角_東', '方角_西', '方角_北', '契約期間_定期借家', '契約期間_月', '所在地_区', 'アクセス_線_1',\n",
       "       'アクセス_駅_1', 'アクセス_駅_1_徒歩_分', 'アクセス_駅_1_車_分', 'アクセス_駅_1_バス_分',\n",
       "       'アクセス_駅_1_バス停', 'アクセス_駅_1_バス停_徒歩', 'アクセス_線_2', 'アクセス_駅_2',\n",
       "       'アクセス_駅_2_徒歩_分', 'アクセス_駅_2_車_分', 'アクセス_駅_2_バス_分'],\n",
       "      dtype='object')"
      ]
     },
     "execution_count": 202,
     "metadata": {},
     "output_type": "execute_result"
    }
   ],
   "source": [
    "total_data.columns"
   ]
  },
  {
   "cell_type": "code",
   "execution_count": 203,
   "metadata": {},
   "outputs": [],
   "source": [
    "total_data[\"アクセス_駅_2_バス停\"] = df_6_1_1[0]"
   ]
  },
  {
   "cell_type": "code",
   "execution_count": 204,
   "metadata": {},
   "outputs": [],
   "source": [
    "total_data[\"アクセス_駅_2_バス停_徒歩\"] = df_6_1_1[1].astype(float)"
   ]
  },
  {
   "cell_type": "code",
   "execution_count": 205,
   "metadata": {},
   "outputs": [
    {
     "data": {
      "text/html": [
       "<div>\n",
       "<style scoped>\n",
       "    .dataframe tbody tr th:only-of-type {\n",
       "        vertical-align: middle;\n",
       "    }\n",
       "\n",
       "    .dataframe tbody tr th {\n",
       "        vertical-align: top;\n",
       "    }\n",
       "\n",
       "    .dataframe thead th {\n",
       "        text-align: right;\n",
       "    }\n",
       "</style>\n",
       "<table border=\"1\" class=\"dataframe\">\n",
       "  <thead>\n",
       "    <tr style=\"text-align: right;\">\n",
       "      <th></th>\n",
       "      <th>アクセス_線_1</th>\n",
       "      <th>アクセス_駅_1</th>\n",
       "      <th>アクセス_駅_1_徒歩_分</th>\n",
       "      <th>アクセス_駅_1_車_分</th>\n",
       "      <th>アクセス_駅_1_バス_分</th>\n",
       "      <th>アクセス_駅_1_バス停</th>\n",
       "      <th>アクセス_駅_1_バス停_徒歩</th>\n",
       "      <th>アクセス_線_2</th>\n",
       "      <th>アクセス_駅_2</th>\n",
       "      <th>アクセス_駅_2_徒歩_分</th>\n",
       "      <th>アクセス_駅_2_車_分</th>\n",
       "      <th>アクセス_駅_2_バス_分</th>\n",
       "      <th>アクセス_駅_2_バス停</th>\n",
       "      <th>アクセス_駅_2_バス停_徒歩</th>\n",
       "    </tr>\n",
       "  </thead>\n",
       "  <tbody>\n",
       "    <tr>\n",
       "      <th>12581</th>\n",
       "      <td>山手線</td>\n",
       "      <td>日暮里駅</td>\n",
       "      <td>NaN</td>\n",
       "      <td>15.0</td>\n",
       "      <td>NaN</td>\n",
       "      <td>None</td>\n",
       "      <td>NaN</td>\n",
       "      <td>千代田線</td>\n",
       "      <td>町屋(東京メトロ)駅</td>\n",
       "      <td>8.0</td>\n",
       "      <td>NaN</td>\n",
       "      <td>NaN</td>\n",
       "      <td>None</td>\n",
       "      <td>NaN</td>\n",
       "    </tr>\n",
       "    <tr>\n",
       "      <th>34224</th>\n",
       "      <td>常磐線</td>\n",
       "      <td>金町(東京都)駅</td>\n",
       "      <td>NaN</td>\n",
       "      <td>10.0</td>\n",
       "      <td>NaN</td>\n",
       "      <td>None</td>\n",
       "      <td>NaN</td>\n",
       "      <td>常磐線</td>\n",
       "      <td>亀有駅</td>\n",
       "      <td>NaN</td>\n",
       "      <td>NaN</td>\n",
       "      <td>24.0</td>\n",
       "      <td>水元総合スポーツセンター</td>\n",
       "      <td>6.0</td>\n",
       "    </tr>\n",
       "    <tr>\n",
       "      <th>37603</th>\n",
       "      <td>千代田線</td>\n",
       "      <td>北綾瀬駅</td>\n",
       "      <td>NaN</td>\n",
       "      <td>11.0</td>\n",
       "      <td>NaN</td>\n",
       "      <td>None</td>\n",
       "      <td>NaN</td>\n",
       "      <td>常磐線</td>\n",
       "      <td>亀有駅</td>\n",
       "      <td>NaN</td>\n",
       "      <td>NaN</td>\n",
       "      <td>19.0</td>\n",
       "      <td>西水元二丁目</td>\n",
       "      <td>3.0</td>\n",
       "    </tr>\n",
       "  </tbody>\n",
       "</table>\n",
       "</div>"
      ],
      "text/plain": [
       "      アクセス_線_1  アクセス_駅_1  アクセス_駅_1_徒歩_分  アクセス_駅_1_車_分  アクセス_駅_1_バス_分  \\\n",
       "12581      山手線      日暮里駅            NaN          15.0            NaN   \n",
       "34224      常磐線  金町(東京都)駅            NaN          10.0            NaN   \n",
       "37603     千代田線      北綾瀬駅            NaN          11.0            NaN   \n",
       "\n",
       "      アクセス_駅_1_バス停  アクセス_駅_1_バス停_徒歩 アクセス_線_2    アクセス_駅_2  アクセス_駅_2_徒歩_分  \\\n",
       "12581         None              NaN     千代田線  町屋(東京メトロ)駅            8.0   \n",
       "34224         None              NaN      常磐線         亀有駅            NaN   \n",
       "37603         None              NaN      常磐線         亀有駅            NaN   \n",
       "\n",
       "       アクセス_駅_2_車_分  アクセス_駅_2_バス_分  アクセス_駅_2_バス停  アクセス_駅_2_バス停_徒歩  \n",
       "12581           NaN            NaN          None              NaN  \n",
       "34224           NaN           24.0  水元総合スポーツセンター              6.0  \n",
       "37603           NaN           19.0        西水元二丁目              3.0  "
      ]
     },
     "execution_count": 205,
     "metadata": {},
     "output_type": "execute_result"
    }
   ],
   "source": [
    "total_data.iloc[:, 32:][total_data[\"アクセス_駅_1_車_分\"].notnull()]"
   ]
  },
  {
   "cell_type": "code",
   "execution_count": 206,
   "metadata": {},
   "outputs": [
    {
     "data": {
      "text/plain": [
       "'山手線\\t日暮里駅\\t車3km(15分)\\t\\t千代田線\\t町屋(東京メトロ)駅\\t徒歩8分\\t\\t都電荒川線\\t町屋駅前駅\\t徒歩7分'"
      ]
     },
     "execution_count": 206,
     "metadata": {},
     "output_type": "execute_result"
    }
   ],
   "source": [
    "train[\"アクセス\"][12581]"
   ]
  },
  {
   "cell_type": "markdown",
   "metadata": {},
   "source": [
    "# df[7]"
   ]
  },
  {
   "cell_type": "code",
   "execution_count": 207,
   "metadata": {},
   "outputs": [
    {
     "data": {
      "text/plain": [
       "array(['', None], dtype=object)"
      ]
     },
     "execution_count": 207,
     "metadata": {},
     "output_type": "execute_result"
    }
   ],
   "source": [
    "df[7].unique()"
   ]
  },
  {
   "cell_type": "markdown",
   "metadata": {},
   "source": [
    "## df[8]"
   ]
  },
  {
   "cell_type": "code",
   "execution_count": 220,
   "metadata": {},
   "outputs": [
    {
     "data": {
      "text/plain": [
       "(470,)"
      ]
     },
     "execution_count": 220,
     "metadata": {},
     "output_type": "execute_result"
    }
   ],
   "source": [
    "df[8].unique().shape"
   ]
  },
  {
   "cell_type": "code",
   "execution_count": 112,
   "metadata": {},
   "outputs": [],
   "source": [
    "# df[8] = df[8].str.replace(\"\\u3000\", \"\")"
   ]
  },
  {
   "cell_type": "code",
   "execution_count": 221,
   "metadata": {},
   "outputs": [
    {
     "data": {
      "text/plain": [
       "(426,)"
      ]
     },
     "execution_count": 221,
     "metadata": {},
     "output_type": "execute_result"
    }
   ],
   "source": [
    "df[8].str.split(\"/\", expand=True)[0].unique().shape"
   ]
  },
  {
   "cell_type": "code",
   "execution_count": 222,
   "metadata": {},
   "outputs": [
    {
     "data": {
      "text/plain": [
       "(77,)"
      ]
     },
     "execution_count": 222,
     "metadata": {},
     "output_type": "execute_result"
    }
   ],
   "source": [
    "df[8].str.split(\"/\", expand=True)[1].unique().shape"
   ]
  },
  {
   "cell_type": "markdown",
   "metadata": {},
   "source": [
    "### 2 distinct formats"
   ]
  },
  {
   "cell_type": "code",
   "execution_count": 243,
   "metadata": {},
   "outputs": [
    {
     "data": {
      "text/plain": [
       "(557,)"
      ]
     },
     "execution_count": 243,
     "metadata": {},
     "output_type": "execute_result"
    }
   ],
   "source": [
    "df[8][df[8].str.contains(\"分\") == True].shape"
   ]
  },
  {
   "cell_type": "code",
   "execution_count": 244,
   "metadata": {},
   "outputs": [
    {
     "data": {
      "text/plain": [
       "(55692,)"
      ]
     },
     "execution_count": 244,
     "metadata": {},
     "output_type": "execute_result"
    }
   ],
   "source": [
    "df[8][df[8].str.contains(\"分\") == False].shape"
   ]
  },
  {
   "cell_type": "code",
   "execution_count": 229,
   "metadata": {},
   "outputs": [
    {
     "data": {
      "text/plain": [
       "(6483,)"
      ]
     },
     "execution_count": 229,
     "metadata": {},
     "output_type": "execute_result"
    }
   ],
   "source": [
    "df[8][df[8].isnull()].shape"
   ]
  },
  {
   "cell_type": "code",
   "execution_count": 245,
   "metadata": {},
   "outputs": [
    {
     "data": {
      "text/plain": [
       "True"
      ]
     },
     "execution_count": 245,
     "metadata": {},
     "output_type": "execute_result"
    }
   ],
   "source": [
    "557+55692+6483 == total_data.shape[0]"
   ]
  },
  {
   "cell_type": "code",
   "execution_count": 248,
   "metadata": {},
   "outputs": [],
   "source": [
    "total_data[\"アクセス_線_3\"] = df[8].where(df[8].str.contains(\"分\") == False)"
   ]
  },
  {
   "cell_type": "code",
   "execution_count": 320,
   "metadata": {},
   "outputs": [],
   "source": [
    "station_names_without_sen = ['東武スカイツリーライン', '日暮里・舎人ライナー', 'ゆりかもめ', 'つくばエクスプレス']"
   ]
  },
  {
   "cell_type": "code",
   "execution_count": 504,
   "metadata": {},
   "outputs": [],
   "source": [
    "temp_df = total_data[\"アクセス\"]\n",
    "\n",
    "temp_df = temp_df.str.replace(\"\\u3000\\u3000\", \"\\u3000\", regex=False)\n",
    "\n",
    "for i in range(10):\n",
    "    temp_df = temp_df.str.replace(str(i) + \"\\u3000\", str(i), regex=False)\n",
    "    \n",
    "temp_df = temp_df.str.replace(\")\\u3000\", \"\", regex=False)\n",
    "\n",
    "temp_df = temp_df.str.replace(\"(東京都)\", \"\", regex=False)\n",
    "temp_df = temp_df.str.replace(\"熊野前(舎人ライナー)駅\", \"熊野前舎人ライナ駅\", regex=False)\n",
    "temp_df = temp_df.str.replace(\"町屋(東京メトロ)駅\", \"町屋東京メトロ駅\", regex=False)\n",
    "temp_df = temp_df.str.replace(\"町屋(東京メトロ)\", \"町屋東京メトロ駅\", regex=False)\n",
    "temp_df = temp_df.str.replace(\"豊島園(西武線)駅\", \"豊島園西武駅\", regex=False)\n",
    "temp_df = temp_df.str.replace(\"早稲田(東京メトロ)駅\", \"早稲田東京メトロ駅\", regex=False)\n",
    "temp_df = temp_df.str.replace(\"浅草(TX)駅\", \"浅草TX駅\", regex=False)\n",
    "temp_df = temp_df.str.replace(\"豊島園(都営線)駅\", \"豊島園都営駅\", regex=False)\n",
    "temp_df = temp_df.str.replace(\"浦安(千葉県)駅\", \"浦安千葉県駅\", regex=False)\n",
    "temp_df = temp_df.str.replace(\"早稲田(都電荒川線)駅\", \"早稲田都電荒川駅\", regex=False)\n",
    "temp_df = temp_df.str.replace(\"西日暮里(舎人ライナー)駅\", \"西日暮里舎人ライナ駅\", regex=False)\n",
    "temp_df = temp_df.str.replace(\"町屋(京成線)駅\", \"町屋京成駅\", regex=False)\n",
    "temp_df = temp_df.str.replace(\"両国(都営線)駅\", \"両国都営駅\", regex=False)\n",
    "temp_df = temp_df.str.replace(\"町屋駅前駅\", \"町屋駅\", regex=False)\n",
    "temp_df = temp_df.str.replace(\"大塚駅前駅\", \"大塚駅\", regex=False)\n",
    "temp_df = temp_df.str.replace(\"王子駅前駅\", \"王子駅\", regex=False)\n",
    "temp_df = temp_df.str.replace(\"日暮里(舎人ライナー)駅\", \"日暮里舎人ライナ駅\", regex=False)\n",
    "\n",
    "temp_df = temp_df.str.replace(\"総武線・中央線(各停)\", \"総武中央各停線\", regex=False)\n",
    "temp_df = temp_df.str.replace(\"総武線・中央線(快速)\", \"総武中央快速線\", regex=False)\n",
    "temp_df = temp_df.str.replace(\"中央線(各停)\", \"中央各停線\", regex=False)\n",
    "temp_df = temp_df.str.replace(\"中央線(快速)\", \"中央快速線\", regex=False)\n",
    "temp_df = temp_df.str.replace(\"東武スカイツリーライン\", \"東武スカイツリーライン線\", regex=False)\n",
    "temp_df = temp_df.str.replace(\"日暮里・舎人ライナー\", \"日暮里・舎人ライナー線\", regex=False)\n",
    "temp_df = temp_df.str.replace(\"ゆりかもめ\", \"ゆりかもめ線\", regex=False)\n",
    "temp_df = temp_df.str.replace(\"つくばエクスプレス\", \"つくばエクスプレス線\", regex=False)\n",
    "temp_df = temp_df.str.replace(\"丸ノ内線(中野坂上-方南町)\", \"丸ノ内中野坂上方南町線\", regex=False)\n",
    "temp_df = temp_df.str.replace(\"丸ノ内線(池袋-荻窪)\", \"丸ノ内池袋荻窪線\", regex=False)\n",
    "temp_df = temp_df.str.replace(\"常磐線快速\", \"常磐快速線\", regex=False)\n",
    "temp_df = temp_df.str.replace(\"京葉線(東京-蘇我)\", \"京葉東京蘇我線\", regex=False)\n",
    "temp_df = temp_df.str.replace(\"東武伊勢崎線(押上-曳舟)\", \"東武伊勢崎押上曳舟線\", regex=False)\n",
    "temp_df = temp_df.str.replace(\"東北本線(宇都宮線)\", \"東北本宇都宮線\", regex=False)\n",
    "temp_df = temp_df.str.replace(\"湘南新宿ライン(東北本線-横須賀線)\", \"湘南新宿ライン東北本横須賀線\", regex=False)\n",
    "temp_df = temp_df.str.replace(\"湘南新宿ライン(高崎線-東海道本線)\", \"湘南新宿ライン高崎東海道本線\", regex=False)\n",
    "temp_df = temp_df.str.replace(\"中央本線(東京-松本)\", \"中央本東京松本線\", regex=False)\n",
    "temp_df = temp_df.str.replace(\"南武線(川崎-立川)\", \"南武川崎立川線\", regex=False)\n",
    "\n",
    "\n",
    "temp_df = temp_df.str.replace(\"線\", \"線\\t\", regex=False)\n",
    "temp_df = temp_df.str.replace(\"駅\", \"駅\\t\", regex=False)\n",
    "temp_df = temp_df.str.replace(\"徒歩\", \"\\t徒歩\", regex=False)\n",
    "temp_df = temp_df.str.replace(\"徒歩\", \"\\t徒歩\", regex=False)\n",
    "temp_df = temp_df.str.replace(\"\\u3000\", \"\\t\", regex=False)\n",
    "\n",
    "temp_df = temp_df.str.replace(\"/\", \"\", regex=False)\n",
    "\n",
    "\n",
    "# temp_df = temp_df.str.replace(\"(\", \"\", regex=False)\n",
    "# temp_df = temp_df.str.replace(\")\", \"\", regex=False)\n",
    "\n",
    "for i in range(1, 10):\n",
    "    temp_df = temp_df.str.replace(\"車\" + str(i), \"\\t車\" + str(i), regex=False)\n",
    "    \n",
    "for i in range(10):\n",
    "    temp_df = temp_df.str.replace(str(i)+\"分\",str(i)+\"分\\t\", regex=False)\n",
    "\n",
    "temp_df = temp_df.str.replace(\"\\t\\t\", \"\\t\", regex=False)\n",
    "temp_df = temp_df.str.replace(\"駅駅\", \"駅\", regex=False)\n",
    "temp_df = temp_df.str.replace(\"線線\", \"線\", regex=False)\n",
    "\n",
    "for i in range(10):\n",
    "    temp_df = temp_df.str.replace(str(i)+\"分\\t\",str(i)+\"分\\t\\t\", regex=False)\n"
   ]
  },
  {
   "cell_type": "code",
   "execution_count": 508,
   "metadata": {},
   "outputs": [
    {
     "data": {
      "text/plain": [
       "array(['徒歩4分', '徒歩5分', '徒歩6分', '徒歩9分', '徒歩2分', '徒歩7分', '徒歩3分', '徒歩8分',\n",
       "       '徒歩15分', '徒歩11分', '徒歩10分', '徒歩13分', '徒歩12分', '徒歩22分', '徒歩1分',\n",
       "       '徒歩19分', '徒歩18分', '徒歩23分', '徒歩17分', '徒歩20分', '', '徒歩14分', '徒歩24分',\n",
       "       '徒歩16分', '徒歩29分', '徒歩37分', '徒歩21分', '徒歩25分', '徒歩27分', '徒歩28分',\n",
       "       '徒歩33分', '徒歩26分', '徒歩38分', '徒歩36分', '徒歩32分', '徒歩34分', '徒歩39分',\n",
       "       '車3km(15分', '徒歩30分', '徒歩31分', '徒歩42分', '徒歩40分', '車3.1km(10分',\n",
       "       '徒歩43分', '車3.9km(11分', '徒歩49分', '徒歩35分', '徒歩44分'], dtype=object)"
      ]
     },
     "execution_count": 508,
     "metadata": {},
     "output_type": "execute_result"
    }
   ],
   "source": [
    "# for i in range(28):\n",
    "#     print(temp_df.str.split(\"\\t\", expand=True)[i].unique())\n",
    "temp_df_split = temp_df.str.split(\"\\t\", expand=True)\n",
    "# temp_df_split\n",
    "# temp_df_split[temp_df_split[6] == \"(川崎-立川)\"]\n",
    "temp_df_split[3].unique()\n"
   ]
  },
  {
   "cell_type": "code",
   "execution_count": 506,
   "metadata": {},
   "outputs": [
    {
     "name": "stdout",
     "output_type": "stream",
     "text": [
      "0\n",
      "0\n",
      "\n",
      "\n",
      ")武蔵関駅)京成バス)武蔵関駅)深沢小学校前)武蔵関駅)吉祥寺駅)都バス)都バス)吉祥寺駅)都バス)東武バス)新小岩駅)東武バス)都バス)長久保)都バス\n"
     ]
    }
   ],
   "source": [
    "print(temp_df_split[0][temp_df_split[0].str.contains(\"線\")==False].sum())\n",
    "print(temp_df_split[1][temp_df_split[1].str.contains(\"駅\")==False].sum())\n",
    "print(temp_df_split[2][temp_df_split[2].str.contains(\"バス\")==False].sum())\n",
    "print(temp_df_split[3][temp_df_split[3].str.contains(\"分\")==False].sum())\n",
    "print(temp_df_split[4][temp_df_split[4].str.contains(\"下車\")==False].sum())"
   ]
  },
  {
   "cell_type": "code",
   "execution_count": 359,
   "metadata": {},
   "outputs": [
    {
     "data": {
      "text/plain": [
       "'総武線・中央線(各停)\\t高円寺駅\\t徒歩9分\\t\\t丸ノ内線(池袋-荻窪)\\t新高円寺駅\\t徒歩3分\\t\\t丸ノ内線(池袋-荻窪)\\t東高円寺駅\\t徒歩14分'"
      ]
     },
     "execution_count": 359,
     "metadata": {},
     "output_type": "execute_result"
    }
   ],
   "source": [
    "total_data[\"アクセス\"].iloc[3]"
   ]
  },
  {
   "cell_type": "code",
   "execution_count": 379,
   "metadata": {},
   "outputs": [
    {
     "data": {
      "text/plain": [
       "array(['大森(東京都)駅', '金町(東京都)駅', '新富町(東京都)駅', '梅屋敷(東京都)駅', '大塚(東京都)駅',\n",
       "       '大島(東京都)駅', '中野(東京都)駅', '木場(東京都)駅', '熊野前(舎人ライナー)駅', '田町(東京都)駅',\n",
       "       '両国(都営線)駅', '神田(東京都)駅', '住吉(東京都)駅', '町屋(東京メトロ)駅', '入谷(東京都)駅',\n",
       "       '大久保(東京都)駅', 'ときわ台(東京都)駅', '平井(東京都)駅', '稲荷町(東京都)駅', '緑が丘(東京都)駅',\n",
       "       '森下(東京都)駅', '菊川(東京都)駅', '平和台(東京都)駅', '八丁堀(東京都)駅', '十条(東京都)駅',\n",
       "       '松原(東京都)駅', '豊島園(西武線)駅', '桜台(東京都)駅', '宝町(東京都)駅', '落合(東京都)駅',\n",
       "       '大山(東京都)駅', '赤坂(東京都)駅', '早稲田(東京メトロ)駅', '浅草(TX)駅', '三田(東京都)駅',\n",
       "       '末広町(東京都)駅', '春日(東京都)駅', '長原(東京都)駅', '白山(東京都)駅', '豊島園(都営線)駅',\n",
       "       '若林(東京都)駅', '高野(東京都)駅', '田原町(東京都)駅', '浦安(千葉県)駅', '早稲田(都電荒川線)駅',\n",
       "       '京橋(東京都)駅', '大門(東京都)駅', '山下(東京都)駅', '小川町(東京都)駅', '東雲(東京都)駅',\n",
       "       '牛田(東京都)駅', '日本橋(東京都)駅', '大手町(東京都)駅', '日の出(東京都)駅', '西日暮里(舎人ライナー)駅',\n",
       "       '栄町(東京都)駅', '向原(東京都)駅', '町屋(京成線)駅'], dtype=object)"
      ]
     },
     "execution_count": 379,
     "metadata": {},
     "output_type": "execute_result"
    }
   ],
   "source": [
    "total_data[\"アクセス_駅_1\"][total_data[\"アクセス_駅_1\"].str.contains(\"(\", regex=False)].unique()"
   ]
  },
  {
   "cell_type": "code",
   "execution_count": 352,
   "metadata": {},
   "outputs": [
    {
     "data": {
      "text/plain": [
       "array(['都営三田線', '都営大江戸線', '京王線', '総武線・中央線(各停)', '京成金町線', '常磐線快速', '西武池袋線',\n",
       "       '東急東横線', '南北線', '埼京線', '都営浅草線', '京成本線', '銀座線', '中央線(快速)', '京王新線',\n",
       "       '東武東上線', '都営新宿線', '半蔵門線', '西武新宿線', '有楽町線', '京浜東北線', 'つくばエクスプレス',\n",
       "       '小田急小田原線', '副都心線', '東西線', '東急大井町線', '常磐線', '山手線', '東急池上線', '日比谷線',\n",
       "       '京成押上線', '東武スカイツリーライン', '東急田園都市線', '京急本線', '東急目黒線', '千代田線',\n",
       "       '丸ノ内線(中野坂上-方南町)', '日暮里・舎人ライナー', '京王井の頭線', '丸ノ内線(池袋-荻窪)', '東武亀戸線',\n",
       "       '東急多摩川線', 'ゆりかもめ', '都電荒川線', '東急世田谷線', '北総線', '総武本線', '東海道新幹線',\n",
       "       '京葉線(東京-蘇我)', '高崎線', '西武豊島線', '京急空港線', '横須賀線', 'りんかい線', '西武有楽町線',\n",
       "       '東武大師線', '東武伊勢崎線(押上-曳舟)', '東北本線(宇都宮線)', '東京モノレール羽田線', '東海道本線',\n",
       "       '湘南新宿ライン(東北本線-横須賀線)', '湘南新宿ライン(高崎線-東海道本線)', '東北新幹線', '京成成田空港線',\n",
       "       '中央本線(東京-松本)', '埼玉高速鉄道線'], dtype=object)"
      ]
     },
     "execution_count": 352,
     "metadata": {},
     "output_type": "execute_result"
    }
   ],
   "source": [
    "total_data[\"アクセス_線_1\"].unique()"
   ]
  },
  {
   "cell_type": "code",
   "execution_count": 497,
   "metadata": {},
   "outputs": [
    {
     "data": {
      "text/plain": [
       "61                       東急目黒線\\t西小山駅\\t徒歩10分\n",
       "72                     常磐線\\t金町(東京都)駅\\t徒歩18分\n",
       "151                        東西線\\t西葛西駅\\t徒歩11分\n",
       "185                        都営浅草線\\t馬込駅\\t徒歩1分\n",
       "219                     京成本線\\t堀切菖蒲園駅\\t徒歩12分\n",
       "225                      京王井の頭線\\t浜田山駅\\t徒歩4分\n",
       "229                          東西線\\t葛西駅\\t徒歩7分\n",
       "236                      西武新宿線\\t武蔵関駅\\t徒歩15分\n",
       "287                        都営浅草線\\t馬込駅\\t徒歩4分\n",
       "338                         有楽町線\\t千川駅\\t徒歩2分\n",
       "350                     東急東横線\\t学芸大学駅\\t徒歩12分\n",
       "361                    都営三田線\\t板橋区役所前駅\\t徒歩7分\n",
       "403                      東急東横線\\t学芸大学駅\\t徒歩9分\n",
       "404                 総武線・中央線(各停)\\t小岩駅\\t徒歩16分\n",
       "413                       日比谷線\\t南千住駅\\t徒歩14分\n",
       "426                      小田急小田原線\\t経堂駅\\t徒歩6分\n",
       "433                総武線・中央線(各停)\\t新小岩駅\\t徒歩12分\n",
       "442       西武池袋線\\t大泉学園駅\\t/バス(7分)大泉風致地区下車徒歩5分\n",
       "452                       東西線\\t門前仲町駅\\t徒歩11分\n",
       "457                          常磐線\\t亀有駅\\t徒歩4分\n",
       "464                       都営新宿線\\t瑞江駅\\t徒歩16分\n",
       "465                        東急池上線\\t池上駅\\t徒歩7分\n",
       "471                     東急世田谷線\\t西太子堂駅\\t徒歩6分\n",
       "473                    都営三田線\\t板橋区役所前駅\\t徒歩8分\n",
       "474                     都営大江戸線\\t光が丘駅\\t徒歩15分\n",
       "484                  小田急小田原線\\t成城学園前駅\\t徒歩15分\n",
       "487                       都営新宿線\\t篠崎駅\\t徒歩15分\n",
       "498                       都営新宿線\\t篠崎駅\\t徒歩37分\n",
       "499                       西武池袋線\\t椎名町駅\\t徒歩8分\n",
       "503                        都営三田線\\t西台駅\\t徒歩6分\n",
       "                        ...                \n",
       "62209                     都営三田線\\t西台駅\\t徒歩12分\n",
       "62229                小田急小田原線\\t成城学園前駅\\t徒歩19分\n",
       "62234                   西武池袋線\\t大泉学園駅\\t徒歩19分\n",
       "62239                      都営新宿線\\t篠崎駅\\t徒歩4分\n",
       "62262                        東西線\\t葛西駅\\t徒歩9分\n",
       "62273    常磐線\\t金町(東京都)駅\\t/バス(11分)リブレ京成下車徒歩3分\n",
       "62302                     東急東横線\\t中目黒駅\\t徒歩7分\n",
       "62322                    東急田園都市線\\t用賀駅\\t徒歩9分\n",
       "62346                      東西線\\t南砂町駅\\t徒歩17分\n",
       "62366                京浜東北線\\t大森(東京都)駅\\t徒歩12分\n",
       "62395              総武線・中央線(各停)\\t新小岩駅\\t徒歩27分\n",
       "62412                       東西線\\t西葛西駅\\t徒歩7分\n",
       "62431                    中央線(快速)\\t荻窪駅\\t徒歩2分\n",
       "62438                      総武本線\\t新小岩駅\\t徒歩8分\n",
       "62453                     京成押上線\\t青砥駅\\t徒歩10分\n",
       "62486            日暮里・舎人ライナー\\t西新井大師西駅\\t徒歩20分\n",
       "62496                     東急目黒線\\t不動前駅\\t徒歩4分\n",
       "62508              東武スカイツリーライン\\t竹ノ塚駅\\t徒歩10分\n",
       "62512                     都営三田線\\t蓮根駅\\t徒歩10分\n",
       "62526                     東武東上線\\t上板橋駅\\t徒歩7分\n",
       "62560                   西武池袋線\\t富士見台駅\\t徒歩12分\n",
       "62606                   中央線(快速)\\t西荻窪駅\\t徒歩4分\n",
       "62623         都営新宿線\\t篠崎駅\\t/バス(2分)鹿骨五下車徒歩29分\n",
       "62629               東武東上線\\tときわ台(東京都)駅\\t徒歩9分\n",
       "62635                     都営新宿線\\t篠崎駅\\t徒歩16分\n",
       "62656                    中央線(快速)\\t荻窪駅\\t徒歩3分\n",
       "62683                    都営三田線\\t新高島平駅\\t徒歩4分\n",
       "62687                   東急田園都市線\\t用賀駅\\t徒歩23分\n",
       "62693                  中央線(快速)\\t吉祥寺駅\\t徒歩21分\n",
       "62718                      有楽町線\\t要町駅\\t徒歩12分\n",
       "Name: アクセス, Length: 2984, dtype: object"
      ]
     },
     "execution_count": 497,
     "metadata": {},
     "output_type": "execute_result"
    }
   ],
   "source": [
    "total_data[\"アクセス\"][total_data[\"アクセス\"].str.count(\"\\t\") == 2]"
   ]
  },
  {
   "cell_type": "code",
   "execution_count": 494,
   "metadata": {},
   "outputs": [
    {
     "data": {
      "text/plain": [
       "[2, 4, 6, 8, 10, 12]"
      ]
     },
     "execution_count": 494,
     "metadata": {},
     "output_type": "execute_result"
    }
   ],
   "source": [
    "sorted(total_data[\"アクセス\"].str.count(\"\\t\").unique())"
   ]
  },
  {
   "cell_type": "code",
   "execution_count": null,
   "metadata": {},
   "outputs": [],
   "source": []
  }
 ],
 "metadata": {
  "kernelspec": {
   "display_name": "Python 3",
   "language": "python",
   "name": "python3"
  },
  "language_info": {
   "codemirror_mode": {
    "name": "ipython",
    "version": 3
   },
   "file_extension": ".py",
   "mimetype": "text/x-python",
   "name": "python",
   "nbconvert_exporter": "python",
   "pygments_lexer": "ipython3",
   "version": "3.5.2"
  }
 },
 "nbformat": 4,
 "nbformat_minor": 2
}
