{
 "cells": [
  {
   "cell_type": "code",
   "execution_count": 1,
   "metadata": {},
   "outputs": [],
   "source": [
    "import pandas as pd\n",
    "import numpy as np\n",
    "import matplotlib.pyplot as plt\n",
    "import matplotlib as mpl\n",
    "font = {'family':\"IPAexGothic\",\n",
    "        'weight' : 'bold'}\n",
    "\n",
    "mpl.rc('font', **font)"
   ]
  },
  {
   "cell_type": "code",
   "execution_count": 2,
   "metadata": {},
   "outputs": [],
   "source": [
    "train = pd.read_csv(\"./data/train.csv\")\n",
    "test = pd.read_csv(\"./data/test.csv\")\n",
    "sample_submit = pd.read_csv(\"./data/sample_submit.csv\")"
   ]
  },
  {
   "cell_type": "markdown",
   "metadata": {},
   "source": [
    "# Data Shape"
   ]
  },
  {
   "cell_type": "code",
   "execution_count": 3,
   "metadata": {},
   "outputs": [
    {
     "name": "stdout",
     "output_type": "stream",
     "text": [
      "Training data: (31470, 17)\n",
      "Test data: (31262, 16)\n"
     ]
    }
   ],
   "source": [
    "print(\"Training data:\", train.shape)\n",
    "print(\"Test data:\", test.shape)"
   ]
  },
  {
   "cell_type": "markdown",
   "metadata": {},
   "source": [
    "# Concat train and test\n",
    "# 賃料 and ID are saved as target, total_id respectively"
   ]
  },
  {
   "cell_type": "code",
   "execution_count": 4,
   "metadata": {},
   "outputs": [
    {
     "data": {
      "text/plain": [
       "(62732, 15)"
      ]
     },
     "execution_count": 4,
     "metadata": {},
     "output_type": "execute_result"
    }
   ],
   "source": [
    "target = train[\"賃料\"]\n",
    "train = train.drop(columns=[\"賃料\"])\n",
    "total_data = pd.concat([train, test], ignore_index=True)\n",
    "total_id = total_data[\"id\"]\n",
    "total_data = total_data.drop(columns=\"id\")\n",
    "total_data.shape"
   ]
  },
  {
   "cell_type": "markdown",
   "metadata": {},
   "source": [
    "# Examine Missing Values"
   ]
  },
  {
   "cell_type": "code",
   "execution_count": 5,
   "metadata": {},
   "outputs": [],
   "source": [
    "# Function to calculate missing values by column# Funct \n",
    "def missing_values_table(df):\n",
    "        # Total missing values\n",
    "        mis_val = df.isnull().sum()\n",
    "        \n",
    "        # Percentage of missing values\n",
    "        mis_val_percent = 100 * df.isnull().sum() / len(df)\n",
    "        \n",
    "        # Make a table with the results\n",
    "        mis_val_table = pd.concat([mis_val, mis_val_percent], axis=1)\n",
    "        \n",
    "        # Rename the columns\n",
    "        mis_val_table_ren_columns = mis_val_table.rename(\n",
    "        columns = {0 : 'Missing Values', 1 : '% of Total Values'})\n",
    "        \n",
    "        # Sort the table by percentage of missing descending\n",
    "        mis_val_table_ren_columns = mis_val_table_ren_columns[\n",
    "            mis_val_table_ren_columns.iloc[:,1] != 0].sort_values(\n",
    "        '% of Total Values', ascending=False).round(1)\n",
    "        \n",
    "        # Print some summary information\n",
    "        print (\"Your selected dataframe has \" + str(df.shape[1]) + \" columns.\\n\"      \n",
    "            \"There are \" + str(mis_val_table_ren_columns.shape[0]) +\n",
    "              \" columns that have missing values.\")\n",
    "        \n",
    "        # Return the dataframe with missing information\n",
    "        return mis_val_table_ren_columns"
   ]
  },
  {
   "cell_type": "code",
   "execution_count": 6,
   "metadata": {},
   "outputs": [
    {
     "name": "stdout",
     "output_type": "stream",
     "text": [
      "Your selected dataframe has 15 columns.\n",
      "There are 9 columns that have missing values.\n"
     ]
    },
    {
     "data": {
      "text/html": [
       "<div>\n",
       "<style scoped>\n",
       "    .dataframe tbody tr th:only-of-type {\n",
       "        vertical-align: middle;\n",
       "    }\n",
       "\n",
       "    .dataframe tbody tr th {\n",
       "        vertical-align: top;\n",
       "    }\n",
       "\n",
       "    .dataframe thead th {\n",
       "        text-align: right;\n",
       "    }\n",
       "</style>\n",
       "<table border=\"1\" class=\"dataframe\">\n",
       "  <thead>\n",
       "    <tr style=\"text-align: right;\">\n",
       "      <th></th>\n",
       "      <th>Missing Values</th>\n",
       "      <th>% of Total Values</th>\n",
       "    </tr>\n",
       "  </thead>\n",
       "  <tbody>\n",
       "    <tr>\n",
       "      <th>周辺環境</th>\n",
       "      <td>18673</td>\n",
       "      <td>29.8</td>\n",
       "    </tr>\n",
       "    <tr>\n",
       "      <th>契約期間</th>\n",
       "      <td>14101</td>\n",
       "      <td>22.5</td>\n",
       "    </tr>\n",
       "    <tr>\n",
       "      <th>駐車場</th>\n",
       "      <td>10643</td>\n",
       "      <td>17.0</td>\n",
       "    </tr>\n",
       "    <tr>\n",
       "      <th>放送・通信</th>\n",
       "      <td>6894</td>\n",
       "      <td>11.0</td>\n",
       "    </tr>\n",
       "    <tr>\n",
       "      <th>方角</th>\n",
       "      <td>5557</td>\n",
       "      <td>8.9</td>\n",
       "    </tr>\n",
       "    <tr>\n",
       "      <th>キッチン</th>\n",
       "      <td>1256</td>\n",
       "      <td>2.0</td>\n",
       "    </tr>\n",
       "    <tr>\n",
       "      <th>バス・トイレ</th>\n",
       "      <td>649</td>\n",
       "      <td>1.0</td>\n",
       "    </tr>\n",
       "    <tr>\n",
       "      <th>室内設備</th>\n",
       "      <td>155</td>\n",
       "      <td>0.2</td>\n",
       "    </tr>\n",
       "    <tr>\n",
       "      <th>所在階</th>\n",
       "      <td>1</td>\n",
       "      <td>0.0</td>\n",
       "    </tr>\n",
       "  </tbody>\n",
       "</table>\n",
       "</div>"
      ],
      "text/plain": [
       "        Missing Values  % of Total Values\n",
       "周辺環境             18673               29.8\n",
       "契約期間             14101               22.5\n",
       "駐車場              10643               17.0\n",
       "放送・通信             6894               11.0\n",
       "方角                5557                8.9\n",
       "キッチン              1256                2.0\n",
       "バス・トイレ             649                1.0\n",
       "室内設備               155                0.2\n",
       "所在階                  1                0.0"
      ]
     },
     "execution_count": 6,
     "metadata": {},
     "output_type": "execute_result"
    }
   ],
   "source": [
    "missing_values = missing_values_table(total_data)\n",
    "missing_values"
   ]
  },
  {
   "cell_type": "markdown",
   "metadata": {},
   "source": [
    "# Convert 全角 to 半角"
   ]
  },
  {
   "cell_type": "code",
   "execution_count": 7,
   "metadata": {},
   "outputs": [
    {
     "name": "stdout",
     "output_type": "stream",
     "text": [
      "所在地\n",
      "アクセス\n",
      "間取り\n",
      "築年数\n",
      "方角\n",
      "面積\n",
      "所在階\n",
      "バス・トイレ\n",
      "キッチン\n",
      "放送・通信\n",
      "室内設備\n",
      "駐車場\n",
      "周辺環境\n",
      "建物構造\n",
      "契約期間\n"
     ]
    }
   ],
   "source": [
    "for column in total_data.columns:\n",
    "    print(column)\n",
    "    total_data[column] = total_data[column].str.translate(str.maketrans({chr(0xFF01 + i): chr(0x21 + i) for i in range(94)}))"
   ]
  },
  {
   "cell_type": "markdown",
   "metadata": {},
   "source": [
    "# 築年数"
   ]
  },
  {
   "cell_type": "markdown",
   "metadata": {},
   "source": [
    "## This format is \"%Y年%m\"\n",
    "## But there are entries with \"新築\""
   ]
  },
  {
   "cell_type": "code",
   "execution_count": 8,
   "metadata": {},
   "outputs": [],
   "source": [
    "total_data[\"築年数\"] = total_data[\"築年数\"].replace(\"新築\", \"0年0ヶ月\")\n",
    "df = total_data[\"築年数\"].str.split(\"年\", expand=True)\n",
    "df[0] = df[0].astype(int)\n",
    "df[1] = df[1].str.strip(\"ヶ月\").astype(int)\n",
    "total_data[\"築年数_月\"] = df[0] * 12 + df[1]\n",
    "total_data.drop(columns=[\"築年数\"], inplace=True)"
   ]
  },
  {
   "cell_type": "markdown",
   "metadata": {},
   "source": [
    "# 面積"
   ]
  },
  {
   "cell_type": "markdown",
   "metadata": {},
   "source": [
    "## Just converts \"%dm2\" to float"
   ]
  },
  {
   "cell_type": "code",
   "execution_count": 9,
   "metadata": {},
   "outputs": [],
   "source": [
    "total_data[\"面積\"] = total_data[\"面積\"].str.replace(\"m2\", \"\").astype(np.float)"
   ]
  },
  {
   "cell_type": "markdown",
   "metadata": {},
   "source": [
    "# 所在階"
   ]
  },
  {
   "cell_type": "code",
   "execution_count": 10,
   "metadata": {},
   "outputs": [
    {
     "name": "stderr",
     "output_type": "stream",
     "text": [
      "/home/amar/.local/lib/python3.6/site-packages/ipykernel_launcher.py:4: SettingWithCopyWarning: \n",
      "A value is trying to be set on a copy of a slice from a DataFrame\n",
      "\n",
      "See the caveats in the documentation: http://pandas.pydata.org/pandas-docs/stable/indexing.html#indexing-view-versus-copy\n",
      "  after removing the cwd from sys.path.\n"
     ]
    }
   ],
   "source": [
    "# fill nan with \"\"-999\"\n",
    "total_data[\"所在階\"] = total_data[\"所在階\"].fillna(\"-999\")\n",
    "# add \"/\" to entries without \"/\" for splitting\n",
    "total_data[\"所在階\"][~total_data[\"所在階\"].str.contains(\"/\")] = \"/\" + total_data[\"所在階\"][~total_data[\"所在階\"].str.contains(\"/\")]\n",
    "# Split\n",
    "total_data[\"階建\"] = total_data[\"所在階\"].str.split(\"/\", expand=True)[1]\n",
    "total_data[\"所在階\"] = total_data[\"所在階\"].str.split(\"/\", expand=True)[0]\n",
    "# Remove \"階\" from 所在階\n",
    "total_data[\"所在階\"] = total_data[\"所在階\"].str.replace(\"階\", \"\")\n",
    "# Split again\n",
    "total_data[\"所在階_地下\"] = total_data[\"所在階\"].str.split(\"地下\", expand=True)[1]\n",
    "total_data[\"所在階\"] = total_data[\"所在階\"].str.split(\"地下\", expand=True)[0]\n",
    "total_data[\"所在階\"] = total_data[\"所在階\"].replace(\"\", 0).astype(int)\n",
    "total_data[\"所在階_地下\"] = total_data[\"所在階_地下\"].fillna(0).astype(int)\n",
    "total_data[\"階建\"] = total_data[\"階建\"].str.replace(\"階建\", \"\")\n",
    "total_data[\"階建\"] = total_data[\"階建\"].str.replace(\"階\", \"\")\n",
    "total_data[\"階建_地下\"] = total_data[\"階建\"].str.split(\"(\", expand=True)[1]\n",
    "total_data[\"階建\"] = total_data[\"階建\"].str.split(\"(\", expand=True)[0].astype(int)\n",
    "total_data[\"階建_地下\"] = total_data[\"階建_地下\"].str.replace(\"地下\", \"\").str.replace(\")\", \"\").fillna(0).astype(int)"
   ]
  },
  {
   "cell_type": "code",
   "execution_count": 11,
   "metadata": {},
   "outputs": [
    {
     "data": {
      "text/html": [
       "<div>\n",
       "<style scoped>\n",
       "    .dataframe tbody tr th:only-of-type {\n",
       "        vertical-align: middle;\n",
       "    }\n",
       "\n",
       "    .dataframe tbody tr th {\n",
       "        vertical-align: top;\n",
       "    }\n",
       "\n",
       "    .dataframe thead th {\n",
       "        text-align: right;\n",
       "    }\n",
       "</style>\n",
       "<table border=\"1\" class=\"dataframe\">\n",
       "  <thead>\n",
       "    <tr style=\"text-align: right;\">\n",
       "      <th></th>\n",
       "      <th>所在地</th>\n",
       "      <th>アクセス</th>\n",
       "      <th>間取り</th>\n",
       "      <th>方角</th>\n",
       "      <th>面積</th>\n",
       "      <th>所在階</th>\n",
       "      <th>バス・トイレ</th>\n",
       "      <th>キッチン</th>\n",
       "      <th>放送・通信</th>\n",
       "      <th>室内設備</th>\n",
       "      <th>駐車場</th>\n",
       "      <th>周辺環境</th>\n",
       "      <th>建物構造</th>\n",
       "      <th>契約期間</th>\n",
       "      <th>築年数_月</th>\n",
       "      <th>階建</th>\n",
       "      <th>所在階_地下</th>\n",
       "      <th>階建_地下</th>\n",
       "    </tr>\n",
       "  </thead>\n",
       "  <tbody>\n",
       "    <tr>\n",
       "      <th>0</th>\n",
       "      <td>東京都北区滝野川3丁目</td>\n",
       "      <td>都営三田線\\t西巣鴨駅\\t徒歩4分\\t\\t埼京線\\t板橋駅\\t徒歩14分\\t\\t都電荒川線\\...</td>\n",
       "      <td>1K</td>\n",
       "      <td>南東</td>\n",
       "      <td>20.01</td>\n",
       "      <td>1</td>\n",
       "      <td>専用バス/\\t専用トイレ/\\tバス・トイレ別/\\tシャワー/\\t浴室乾燥機\\t/\\t温水洗浄便座</td>\n",
       "      <td>ガスコンロ/\\tコンロ2口/\\tシステムキッチン\\t/\\t給湯</td>\n",
       "      <td>インターネット対応/\\tCATV/\\tCSアンテナ/\\tBSアンテナ</td>\n",
       "      <td>エアコン付\\tシューズボックス/\\tバルコニー/\\tフローリング/\\t室内洗濯機置場/\\t敷...</td>\n",
       "      <td>駐輪場\\t空有</td>\n",
       "      <td>【小学校】 495m\\t【大学】 461m\\t【小学校】 962m\\t【公園】 1103m\\...</td>\n",
       "      <td>RC(鉄筋コンクリート)</td>\n",
       "      <td>2年間</td>\n",
       "      <td>117</td>\n",
       "      <td>12</td>\n",
       "      <td>0</td>\n",
       "      <td>0</td>\n",
       "    </tr>\n",
       "  </tbody>\n",
       "</table>\n",
       "</div>"
      ],
      "text/plain": [
       "           所在地                                               アクセス 間取り  方角  \\\n",
       "0  東京都北区滝野川3丁目  都営三田線\\t西巣鴨駅\\t徒歩4分\\t\\t埼京線\\t板橋駅\\t徒歩14分\\t\\t都電荒川線\\...  1K  南東   \n",
       "\n",
       "      面積  所在階                                            バス・トイレ  \\\n",
       "0  20.01    1  専用バス/\\t専用トイレ/\\tバス・トイレ別/\\tシャワー/\\t浴室乾燥機\\t/\\t温水洗浄便座   \n",
       "\n",
       "                              キッチン                               放送・通信  \\\n",
       "0  ガスコンロ/\\tコンロ2口/\\tシステムキッチン\\t/\\t給湯  インターネット対応/\\tCATV/\\tCSアンテナ/\\tBSアンテナ   \n",
       "\n",
       "                                                室内設備      駐車場  \\\n",
       "0  エアコン付\\tシューズボックス/\\tバルコニー/\\tフローリング/\\t室内洗濯機置場/\\t敷...  駐輪場\\t空有   \n",
       "\n",
       "                                                周辺環境          建物構造 契約期間  \\\n",
       "0  【小学校】 495m\\t【大学】 461m\\t【小学校】 962m\\t【公園】 1103m\\...  RC(鉄筋コンクリート)  2年間   \n",
       "\n",
       "   築年数_月  階建  所在階_地下  階建_地下  \n",
       "0    117  12       0      0  "
      ]
     },
     "execution_count": 11,
     "metadata": {},
     "output_type": "execute_result"
    }
   ],
   "source": [
    "total_data.head(1)"
   ]
  },
  {
   "cell_type": "markdown",
   "metadata": {},
   "source": [
    "# 間取り"
   ]
  },
  {
   "cell_type": "code",
   "execution_count": 12,
   "metadata": {},
   "outputs": [
    {
     "data": {
      "text/plain": [
       "array(['1K', '1R', '2LDK', '2DK', '1DK', '1LDK', '3LDK', '3DK',\n",
       "       '1LDK+S(納戸)', '4K', '2K', '1K+S(納戸)', '4LDK', '3LDK+S(納戸)',\n",
       "       '5LDK+S(納戸)', '5LDK', '3K', '4DK', '2LDK+S(納戸)', '2DK+S(納戸)',\n",
       "       '4LDK+S(納戸)', '5DK', '3DK+S(納戸)', '1DK+S(納戸)', '5K', '6LDK',\n",
       "       '2K+S(納戸)', '1LK+S(納戸)', '5DK+S(納戸)', '3K+S(納戸)', '8LDK',\n",
       "       '6LDK+S(納戸)', '11R', '6K', '6DK', '4DK+S(納戸)', '2R', '1LK'],\n",
       "      dtype=object)"
      ]
     },
     "execution_count": 12,
     "metadata": {},
     "output_type": "execute_result"
    }
   ],
   "source": [
    "total_data[\"間取り\"].unique()"
   ]
  },
  {
   "cell_type": "code",
   "execution_count": 13,
   "metadata": {},
   "outputs": [],
   "source": [
    "total_data[\"納戸\"] = total_data[\"間取り\"].str.contains(\"納戸\", regex=False)"
   ]
  },
  {
   "cell_type": "code",
   "execution_count": 14,
   "metadata": {},
   "outputs": [
    {
     "data": {
      "text/plain": [
       "array(['1K', '1R', '2LDK', '2DK', '1DK', '1LDK', '3LDK', '3DK', '1LDK+S',\n",
       "       '4K', '2K', '1K+S', '4LDK', '3LDK+S', '5LDK+S', '5LDK', '3K',\n",
       "       '4DK', '2LDK+S', '2DK+S', '4LDK+S', '5DK', '3DK+S', '1DK+S', '5K',\n",
       "       '6LDK', '2K+S', '1LK+S', '5DK+S', '3K+S', '8LDK', '6LDK+S', '11R',\n",
       "       '6K', '6DK', '4DK+S', '2R', '1LK'], dtype=object)"
      ]
     },
     "execution_count": 14,
     "metadata": {},
     "output_type": "execute_result"
    }
   ],
   "source": [
    "total_data[\"間取り\"] = total_data[\"間取り\"].str.strip(\"(納戸)\")\n",
    "total_data[\"間取り\"].unique()"
   ]
  },
  {
   "cell_type": "code",
   "execution_count": 15,
   "metadata": {},
   "outputs": [
    {
     "name": "stdout",
     "output_type": "stream",
     "text": [
      "['+', '1', '2', '3', '4', '5', '6', '8', 'D', 'K', 'L', 'R', 'S']\n"
     ]
    }
   ],
   "source": [
    "unique_keys = sorted(set(''.join(total_data[\"間取り\"].unique())))\n",
    "print(unique_keys)"
   ]
  },
  {
   "cell_type": "code",
   "execution_count": 16,
   "metadata": {},
   "outputs": [
    {
     "name": "stdout",
     "output_type": "stream",
     "text": [
      "間取り_D\n",
      "間取り_K\n",
      "間取り_L\n",
      "間取り_R\n",
      "間取り_S\n"
     ]
    }
   ],
   "source": [
    "for char in [\"D\", \"K\", \"L\", \"R\", \"S\"]:\n",
    "    new_col = \"間取り\" + \"_\" + char\n",
    "    print(new_col)\n",
    "    total_data[new_col] = total_data[\"間取り\"].str.contains(char)"
   ]
  },
  {
   "cell_type": "code",
   "execution_count": 17,
   "metadata": {},
   "outputs": [
    {
     "name": "stdout",
     "output_type": "stream",
     "text": [
      "間取り_D\n",
      "2\n",
      "間取り_K\n",
      "2\n",
      "間取り_L\n",
      "2\n",
      "間取り_R\n",
      "2\n",
      "間取り_S\n",
      "2\n"
     ]
    }
   ],
   "source": [
    "for char in [\"D\", \"K\", \"L\", \"R\", \"S\"]:\n",
    "    new_col = \"間取り\" + \"_\" + char\n",
    "    print(new_col)\n",
    "    print(total_data[new_col].nunique())"
   ]
  },
  {
   "cell_type": "code",
   "execution_count": 18,
   "metadata": {},
   "outputs": [],
   "source": [
    "total_data[\"間取り_数\"] = total_data[\"間取り\"].str.strip(\"DKLRS+\").astype(int)"
   ]
  },
  {
   "cell_type": "markdown",
   "metadata": {},
   "source": [
    "# 方角"
   ]
  },
  {
   "cell_type": "code",
   "execution_count": 19,
   "metadata": {},
   "outputs": [
    {
     "data": {
      "text/plain": [
       "array(['南東', nan, '南', '東', '北西', '西', '北', '南西', '北東'], dtype=object)"
      ]
     },
     "execution_count": 19,
     "metadata": {},
     "output_type": "execute_result"
    }
   ],
   "source": [
    "total_data[\"方角\"].unique()"
   ]
  },
  {
   "cell_type": "code",
   "execution_count": 20,
   "metadata": {},
   "outputs": [],
   "source": [
    "total_data[\"方角_南\"] = total_data[\"方角\"].str.contains(\"南\")\n",
    "total_data[\"方角_東\"] = total_data[\"方角\"].str.contains(\"東\")\n",
    "total_data[\"方角_西\"] = total_data[\"方角\"].str.contains(\"西\")\n",
    "total_data[\"方角_北\"] = total_data[\"方角\"].str.contains(\"北\")"
   ]
  },
  {
   "cell_type": "code",
   "execution_count": 21,
   "metadata": {},
   "outputs": [
    {
     "data": {
      "text/html": [
       "<div>\n",
       "<style scoped>\n",
       "    .dataframe tbody tr th:only-of-type {\n",
       "        vertical-align: middle;\n",
       "    }\n",
       "\n",
       "    .dataframe tbody tr th {\n",
       "        vertical-align: top;\n",
       "    }\n",
       "\n",
       "    .dataframe thead th {\n",
       "        text-align: right;\n",
       "    }\n",
       "</style>\n",
       "<table border=\"1\" class=\"dataframe\">\n",
       "  <thead>\n",
       "    <tr style=\"text-align: right;\">\n",
       "      <th></th>\n",
       "      <th>所在地</th>\n",
       "      <th>アクセス</th>\n",
       "      <th>間取り</th>\n",
       "      <th>方角</th>\n",
       "      <th>面積</th>\n",
       "      <th>所在階</th>\n",
       "      <th>バス・トイレ</th>\n",
       "      <th>キッチン</th>\n",
       "      <th>放送・通信</th>\n",
       "      <th>室内設備</th>\n",
       "      <th>...</th>\n",
       "      <th>間取り_D</th>\n",
       "      <th>間取り_K</th>\n",
       "      <th>間取り_L</th>\n",
       "      <th>間取り_R</th>\n",
       "      <th>間取り_S</th>\n",
       "      <th>間取り_数</th>\n",
       "      <th>方角_南</th>\n",
       "      <th>方角_東</th>\n",
       "      <th>方角_西</th>\n",
       "      <th>方角_北</th>\n",
       "    </tr>\n",
       "  </thead>\n",
       "  <tbody>\n",
       "    <tr>\n",
       "      <th>0</th>\n",
       "      <td>東京都北区滝野川3丁目</td>\n",
       "      <td>都営三田線\\t西巣鴨駅\\t徒歩4分\\t\\t埼京線\\t板橋駅\\t徒歩14分\\t\\t都電荒川線\\...</td>\n",
       "      <td>1K</td>\n",
       "      <td>南東</td>\n",
       "      <td>20.01</td>\n",
       "      <td>1</td>\n",
       "      <td>専用バス/\\t専用トイレ/\\tバス・トイレ別/\\tシャワー/\\t浴室乾燥機\\t/\\t温水洗浄便座</td>\n",
       "      <td>ガスコンロ/\\tコンロ2口/\\tシステムキッチン\\t/\\t給湯</td>\n",
       "      <td>インターネット対応/\\tCATV/\\tCSアンテナ/\\tBSアンテナ</td>\n",
       "      <td>エアコン付\\tシューズボックス/\\tバルコニー/\\tフローリング/\\t室内洗濯機置場/\\t敷...</td>\n",
       "      <td>...</td>\n",
       "      <td>False</td>\n",
       "      <td>True</td>\n",
       "      <td>False</td>\n",
       "      <td>False</td>\n",
       "      <td>False</td>\n",
       "      <td>1</td>\n",
       "      <td>True</td>\n",
       "      <td>True</td>\n",
       "      <td>False</td>\n",
       "      <td>False</td>\n",
       "    </tr>\n",
       "    <tr>\n",
       "      <th>1</th>\n",
       "      <td>東京都中央区月島3丁目</td>\n",
       "      <td>都営大江戸線\\t勝どき駅\\t徒歩5分\\t\\t有楽町線\\t月島駅\\t徒歩9分\\t\\t日比谷線\\...</td>\n",
       "      <td>1R</td>\n",
       "      <td>NaN</td>\n",
       "      <td>16.50</td>\n",
       "      <td>5</td>\n",
       "      <td>専用トイレ/\\tシャワー/\\t温水洗浄便座</td>\n",
       "      <td>ガスコンロ/\\tシステムキッチン\\t/\\t給湯</td>\n",
       "      <td>インターネット対応</td>\n",
       "      <td>エアコン付\\tシューズボックス/\\tバルコニー/\\tフローリング/\\t室内洗濯機置場/\\t敷...</td>\n",
       "      <td>...</td>\n",
       "      <td>False</td>\n",
       "      <td>False</td>\n",
       "      <td>False</td>\n",
       "      <td>True</td>\n",
       "      <td>False</td>\n",
       "      <td>1</td>\n",
       "      <td>NaN</td>\n",
       "      <td>NaN</td>\n",
       "      <td>NaN</td>\n",
       "      <td>NaN</td>\n",
       "    </tr>\n",
       "    <tr>\n",
       "      <th>2</th>\n",
       "      <td>東京都渋谷区笹塚2丁目</td>\n",
       "      <td>京王線\\t笹塚駅\\t徒歩6分\\t\\t京王線\\t代田橋駅\\t徒歩7分\\t\\t京王線\\t明大前駅...</td>\n",
       "      <td>1K</td>\n",
       "      <td>南</td>\n",
       "      <td>22.05</td>\n",
       "      <td>12</td>\n",
       "      <td>専用バス/\\t専用トイレ/\\tバス・トイレ別/\\tシャワー/\\t浴室乾燥機\\t/\\t温水洗浄...</td>\n",
       "      <td>ガスコンロ/\\tコンロ2口/\\tシステムキッチン\\t/\\t給湯</td>\n",
       "      <td>インターネット対応/\\t光ファイバー/\\tCSアンテナ/\\tBSアンテナ</td>\n",
       "      <td>エアコン付\\tウォークインクローゼット\\tシューズボックス/\\tバルコニー/\\tフローリング...</td>\n",
       "      <td>...</td>\n",
       "      <td>False</td>\n",
       "      <td>True</td>\n",
       "      <td>False</td>\n",
       "      <td>False</td>\n",
       "      <td>False</td>\n",
       "      <td>1</td>\n",
       "      <td>True</td>\n",
       "      <td>False</td>\n",
       "      <td>False</td>\n",
       "      <td>False</td>\n",
       "    </tr>\n",
       "    <tr>\n",
       "      <th>3</th>\n",
       "      <td>東京都杉並区高円寺南2丁目23-2</td>\n",
       "      <td>総武線・中央線(各停)\\t高円寺駅\\t徒歩9分\\t\\t丸ノ内線(池袋-荻窪)\\t新高円寺駅\\...</td>\n",
       "      <td>2LDK</td>\n",
       "      <td>南</td>\n",
       "      <td>60.48</td>\n",
       "      <td>3</td>\n",
       "      <td>専用バス/\\t専用トイレ/\\tバス・トイレ別/\\tシャワー/\\t温水洗浄便座/\\t洗面台独立</td>\n",
       "      <td>ガスコンロ/\\t給湯</td>\n",
       "      <td>インターネット対応/\\t光ファイバー</td>\n",
       "      <td>エアコン付\\tシューズボックス/\\tバルコニー/\\t2面採光/\\t室内洗濯機置場/\\tエレベ...</td>\n",
       "      <td>...</td>\n",
       "      <td>True</td>\n",
       "      <td>True</td>\n",
       "      <td>True</td>\n",
       "      <td>False</td>\n",
       "      <td>False</td>\n",
       "      <td>2</td>\n",
       "      <td>True</td>\n",
       "      <td>False</td>\n",
       "      <td>False</td>\n",
       "      <td>False</td>\n",
       "    </tr>\n",
       "    <tr>\n",
       "      <th>4</th>\n",
       "      <td>東京都葛飾区金町3丁目7-2</td>\n",
       "      <td>京成金町線\\t京成金町駅\\t徒歩5分\\t\\t常磐線\\t金町(東京都)駅\\t徒歩7分\\t\\t京...</td>\n",
       "      <td>2DK</td>\n",
       "      <td>南</td>\n",
       "      <td>39.66</td>\n",
       "      <td>1</td>\n",
       "      <td>専用バス/\\t専用トイレ/\\tバス・トイレ別/\\tシャワー/\\t追焚機能</td>\n",
       "      <td>給湯/\\t独立キッチン</td>\n",
       "      <td>NaN</td>\n",
       "      <td>バルコニー/\\tフローリング/\\t室内洗濯機置場\\t公営水道/\\t下水</td>\n",
       "      <td>...</td>\n",
       "      <td>True</td>\n",
       "      <td>True</td>\n",
       "      <td>False</td>\n",
       "      <td>False</td>\n",
       "      <td>False</td>\n",
       "      <td>2</td>\n",
       "      <td>True</td>\n",
       "      <td>False</td>\n",
       "      <td>False</td>\n",
       "      <td>False</td>\n",
       "    </tr>\n",
       "  </tbody>\n",
       "</table>\n",
       "<p>5 rows × 29 columns</p>\n",
       "</div>"
      ],
      "text/plain": [
       "                 所在地                                               アクセス   間取り  \\\n",
       "0        東京都北区滝野川3丁目  都営三田線\\t西巣鴨駅\\t徒歩4分\\t\\t埼京線\\t板橋駅\\t徒歩14分\\t\\t都電荒川線\\...    1K   \n",
       "1        東京都中央区月島3丁目  都営大江戸線\\t勝どき駅\\t徒歩5分\\t\\t有楽町線\\t月島駅\\t徒歩9分\\t\\t日比谷線\\...    1R   \n",
       "2        東京都渋谷区笹塚2丁目  京王線\\t笹塚駅\\t徒歩6分\\t\\t京王線\\t代田橋駅\\t徒歩7分\\t\\t京王線\\t明大前駅...    1K   \n",
       "3  東京都杉並区高円寺南2丁目23-2  総武線・中央線(各停)\\t高円寺駅\\t徒歩9分\\t\\t丸ノ内線(池袋-荻窪)\\t新高円寺駅\\...  2LDK   \n",
       "4     東京都葛飾区金町3丁目7-2  京成金町線\\t京成金町駅\\t徒歩5分\\t\\t常磐線\\t金町(東京都)駅\\t徒歩7分\\t\\t京...   2DK   \n",
       "\n",
       "    方角     面積  所在階                                             バス・トイレ  \\\n",
       "0   南東  20.01    1   専用バス/\\t専用トイレ/\\tバス・トイレ別/\\tシャワー/\\t浴室乾燥機\\t/\\t温水洗浄便座   \n",
       "1  NaN  16.50    5                              専用トイレ/\\tシャワー/\\t温水洗浄便座   \n",
       "2    南  22.05   12  専用バス/\\t専用トイレ/\\tバス・トイレ別/\\tシャワー/\\t浴室乾燥機\\t/\\t温水洗浄...   \n",
       "3    南  60.48    3     専用バス/\\t専用トイレ/\\tバス・トイレ別/\\tシャワー/\\t温水洗浄便座/\\t洗面台独立   \n",
       "4    南  39.66    1               専用バス/\\t専用トイレ/\\tバス・トイレ別/\\tシャワー/\\t追焚機能   \n",
       "\n",
       "                              キッチン                                 放送・通信  \\\n",
       "0  ガスコンロ/\\tコンロ2口/\\tシステムキッチン\\t/\\t給湯    インターネット対応/\\tCATV/\\tCSアンテナ/\\tBSアンテナ   \n",
       "1          ガスコンロ/\\tシステムキッチン\\t/\\t給湯                             インターネット対応   \n",
       "2  ガスコンロ/\\tコンロ2口/\\tシステムキッチン\\t/\\t給湯  インターネット対応/\\t光ファイバー/\\tCSアンテナ/\\tBSアンテナ   \n",
       "3                       ガスコンロ/\\t給湯                    インターネット対応/\\t光ファイバー   \n",
       "4                      給湯/\\t独立キッチン                                   NaN   \n",
       "\n",
       "                                                室内設備  ...  間取り_D  間取り_K  \\\n",
       "0  エアコン付\\tシューズボックス/\\tバルコニー/\\tフローリング/\\t室内洗濯機置場/\\t敷...  ...  False   True   \n",
       "1  エアコン付\\tシューズボックス/\\tバルコニー/\\tフローリング/\\t室内洗濯機置場/\\t敷...  ...  False  False   \n",
       "2  エアコン付\\tウォークインクローゼット\\tシューズボックス/\\tバルコニー/\\tフローリング...  ...  False   True   \n",
       "3  エアコン付\\tシューズボックス/\\tバルコニー/\\t2面採光/\\t室内洗濯機置場/\\tエレベ...  ...   True   True   \n",
       "4                バルコニー/\\tフローリング/\\t室内洗濯機置場\\t公営水道/\\t下水  ...   True   True   \n",
       "\n",
       "   間取り_L  間取り_R  間取り_S  間取り_数  方角_南   方角_東   方角_西   方角_北  \n",
       "0  False  False  False      1  True   True  False  False  \n",
       "1  False   True  False      1   NaN    NaN    NaN    NaN  \n",
       "2  False  False  False      1  True  False  False  False  \n",
       "3   True  False  False      2  True  False  False  False  \n",
       "4  False  False  False      2  True  False  False  False  \n",
       "\n",
       "[5 rows x 29 columns]"
      ]
     },
     "execution_count": 21,
     "metadata": {},
     "output_type": "execute_result"
    }
   ],
   "source": [
    "total_data.head()"
   ]
  },
  {
   "cell_type": "markdown",
   "metadata": {},
   "source": [
    "# 建物構造"
   ]
  },
  {
   "cell_type": "markdown",
   "metadata": {},
   "source": [
    "## Fine the way it is"
   ]
  },
  {
   "cell_type": "code",
   "execution_count": 22,
   "metadata": {},
   "outputs": [
    {
     "name": "stdout",
     "output_type": "stream",
     "text": [
      "RC(鉄筋コンクリート)\n",
      "鉄骨造\n",
      "木造\n",
      "SRC(鉄骨鉄筋コンクリート)\n",
      "軽量鉄骨\n",
      "ALC(軽量気泡コンクリート)\n",
      "その他\n",
      "PC(プレキャスト・コンクリート(鉄筋コンクリート))\n",
      "HPC(プレキャスト・コンクリート(重量鉄骨))\n",
      "ブロック\n",
      "鉄筋ブロック\n"
     ]
    }
   ],
   "source": [
    "for i in total_data[\"建物構造\"].unique():\n",
    "    print(i)"
   ]
  },
  {
   "cell_type": "code",
   "execution_count": 23,
   "metadata": {},
   "outputs": [
    {
     "data": {
      "text/plain": [
       "<matplotlib.axes._subplots.AxesSubplot at 0x7fcd8caa2ef0>"
      ]
     },
     "execution_count": 23,
     "metadata": {},
     "output_type": "execute_result"
    },
    {
     "data": {
      "image/png": "[encoded data removed]",
      "text/plain": [
       "<Figure size 432x288 with 1 Axes>"
      ]
     },
     "metadata": {
      "needs_background": "light"
     },
     "output_type": "display_data"
    }
   ],
   "source": [
    "total_data[\"建物構造\"].value_counts().hist()"
   ]
  },
  {
   "cell_type": "markdown",
   "metadata": {},
   "source": [
    "# 契約期間"
   ]
  },
  {
   "cell_type": "code",
   "execution_count": 24,
   "metadata": {},
   "outputs": [
    {
     "data": {
      "text/html": [
       "<div>\n",
       "<style scoped>\n",
       "    .dataframe tbody tr th:only-of-type {\n",
       "        vertical-align: middle;\n",
       "    }\n",
       "\n",
       "    .dataframe tbody tr th {\n",
       "        vertical-align: top;\n",
       "    }\n",
       "\n",
       "    .dataframe thead th {\n",
       "        text-align: right;\n",
       "    }\n",
       "</style>\n",
       "<table border=\"1\" class=\"dataframe\">\n",
       "  <thead>\n",
       "    <tr style=\"text-align: right;\">\n",
       "      <th></th>\n",
       "      <th>0</th>\n",
       "      <th>1</th>\n",
       "      <th>2</th>\n",
       "      <th>3</th>\n",
       "    </tr>\n",
       "  </thead>\n",
       "  <tbody>\n",
       "    <tr>\n",
       "      <th>0</th>\n",
       "      <td>2年間</td>\n",
       "      <td>None</td>\n",
       "      <td>None</td>\n",
       "      <td>None</td>\n",
       "    </tr>\n",
       "    <tr>\n",
       "      <th>1</th>\n",
       "      <td>2年間</td>\n",
       "      <td>None</td>\n",
       "      <td>None</td>\n",
       "      <td>None</td>\n",
       "    </tr>\n",
       "    <tr>\n",
       "      <th>2</th>\n",
       "      <td>2年間</td>\n",
       "      <td>None</td>\n",
       "      <td>None</td>\n",
       "      <td>None</td>\n",
       "    </tr>\n",
       "    <tr>\n",
       "      <th>3</th>\n",
       "      <td>2年間</td>\n",
       "      <td>※この物件は</td>\n",
       "      <td>定期借家</td>\n",
       "      <td>です。</td>\n",
       "    </tr>\n",
       "    <tr>\n",
       "      <th>4</th>\n",
       "      <td>2年間</td>\n",
       "      <td>None</td>\n",
       "      <td>None</td>\n",
       "      <td>None</td>\n",
       "    </tr>\n",
       "  </tbody>\n",
       "</table>\n",
       "</div>"
      ],
      "text/plain": [
       "     0       1     2     3\n",
       "0  2年間    None  None  None\n",
       "1  2年間    None  None  None\n",
       "2  2年間    None  None  None\n",
       "3  2年間  ※この物件は  定期借家   です。\n",
       "4  2年間    None  None  None"
      ]
     },
     "execution_count": 24,
     "metadata": {},
     "output_type": "execute_result"
    }
   ],
   "source": [
    "df = total_data[\"契約期間\"].str.split(\"\\t\", expand=True)\n",
    "df.head()"
   ]
  },
  {
   "cell_type": "code",
   "execution_count": 25,
   "metadata": {},
   "outputs": [
    {
     "name": "stdout",
     "output_type": "stream",
     "text": [
      "2年間\n",
      "nan\n",
      "1年間\n",
      "5年間\n",
      "3年間\n",
      "2ヶ月間\n",
      "4年間\n",
      "2021年4月まで\n",
      "2023年3月まで\n",
      "2022年3月まで\n",
      "2021年8月まで\n",
      "1ヶ月間\n",
      "2020年3月まで\n",
      "2021年2月まで\n",
      "22年間\n",
      "12年間\n",
      "2020年6月まで\n",
      "4年8ヶ月間\n",
      "2021年7月まで\n",
      "2022年6月まで\n",
      "2021年3月まで\n",
      "2021年12月まで\n",
      "3年3ヶ月間\n",
      "2022年7月まで\n",
      "2年6ヶ月間\n",
      "2022年2月まで\n",
      "1年10ヶ月間\n",
      "2023年8月まで\n",
      "2020年5月まで\n",
      "7年間\n",
      "10年間\n",
      "2021年1月まで\n",
      "2019年12月まで\n",
      "2021年9月まで\n",
      "6年間\n",
      "2023年10月まで\n",
      "5年7ヶ月間\n",
      "2024年3月まで\n",
      "2020年8月まで\n",
      "2年4ヶ月間\n",
      "2022年5月まで\n",
      "2024年9月まで\n",
      "4年9ヶ月間\n",
      "9ヶ月間\n",
      "6ヶ月間\n",
      "2020年7月まで\n",
      "2020年2月まで\n",
      "1年8ヶ月間\n",
      "1年5ヶ月間\n",
      "4年6ヶ月間\n",
      "3年9ヶ月間\n",
      "2021年5月まで\n",
      "2021年6月まで\n",
      "2020年12月まで\n",
      "2023年2月まで\n",
      "2024年2月まで\n",
      "1年6ヶ月間\n",
      "2020年1月まで\n",
      "2022年9月まで\n",
      "15年間\n",
      "2022年8月まで\n",
      "4年7ヶ月間\n",
      "2025年8月まで\n",
      "10ヶ月間\n",
      "4年4ヶ月間\n",
      "2024年4月まで\n",
      "7ヶ月間\n",
      "2025年2月まで\n",
      "2019年11月まで\n",
      "2020年11月まで\n",
      "2023年12月まで\n",
      "2年1ヶ月間\n",
      "2023年7月まで\n"
     ]
    }
   ],
   "source": [
    "for i in df[0].unique():\n",
    "    print(i)"
   ]
  },
  {
   "cell_type": "code",
   "execution_count": 26,
   "metadata": {},
   "outputs": [
    {
     "name": "stdout",
     "output_type": "stream",
     "text": [
      "None\n",
      "です。\n",
      "nan\n"
     ]
    }
   ],
   "source": [
    "for i in df[3].unique():\n",
    "    print(i)"
   ]
  },
  {
   "cell_type": "code",
   "execution_count": 27,
   "metadata": {},
   "outputs": [],
   "source": [
    "total_data[\"契約期間_定期借家\"] = total_data[\"契約期間\"].str.split(\"\\t\", expand=True)[2].replace(\"定期借家\", 1).fillna(0).astype(int)"
   ]
  },
  {
   "cell_type": "code",
   "execution_count": 28,
   "metadata": {},
   "outputs": [],
   "source": [
    "total_data[\"契約期間\"] = total_data[\"契約期間\"].str.split(\"\\t\", expand=True)[0]\n",
    "total_data[\"契約期間\"] = total_data[\"契約期間\"].str.replace(\"ヶ\", \"\")"
   ]
  },
  {
   "cell_type": "code",
   "execution_count": 29,
   "metadata": {},
   "outputs": [
    {
     "name": "stderr",
     "output_type": "stream",
     "text": [
      "/home/amar/.local/lib/python3.6/site-packages/ipykernel_launcher.py:2: SettingWithCopyWarning: \n",
      "A value is trying to be set on a copy of a slice from a DataFrame\n",
      "\n",
      "See the caveats in the documentation: http://pandas.pydata.org/pandas-docs/stable/indexing.html#indexing-view-versus-copy\n",
      "  \n",
      "/home/amar/.local/lib/python3.6/site-packages/ipykernel_launcher.py:3: SettingWithCopyWarning: \n",
      "A value is trying to be set on a copy of a slice from a DataFrame\n",
      "\n",
      "See the caveats in the documentation: http://pandas.pydata.org/pandas-docs/stable/indexing.html#indexing-view-versus-copy\n",
      "  This is separate from the ipykernel package so we can avoid doing imports until\n",
      "/home/amar/.local/lib/python3.6/site-packages/ipykernel_launcher.py:9: SettingWithCopyWarning: \n",
      "A value is trying to be set on a copy of a slice from a DataFrame\n",
      "\n",
      "See the caveats in the documentation: http://pandas.pydata.org/pandas-docs/stable/indexing.html#indexing-view-versus-copy\n",
      "  if __name__ == '__main__':\n"
     ]
    },
    {
     "data": {
      "text/plain": [
       "array(['2021年8月まで', '2019年8月まで', '2020年8月まで', '2024年8月まで', '2022年8月まで',\n",
       "       '2019年10月まで', '2023年8月まで', '2021年4月まで', '2023年3月まで', '2022年3月まで',\n",
       "       '2019年9月まで', '2020年3月まで', '2021年2月まで', '2041年8月まで', '2031年8月まで',\n",
       "       '2020年6月まで', '2024年4月まで', '2021年7月まで', '2022年6月まで', '2021年3月まで',\n",
       "       '2021年12月まで', '2022年11月まで', '2022年7月まで', '2022年2月まで', '2021年6月まで',\n",
       "       '2020年5月まで', '2026年8月まで', '2029年8月まで', '2021年1月まで', '2019年12月まで',\n",
       "       '2021年9月まで', '2025年8月まで', '2023年10月まで', '2025年3月まで', '2024年3月まで',\n",
       "       '2022年5月まで', '2024年9月まで', '2024年5月まで', '2020年2月まで', '2020年7月まで',\n",
       "       '2024年2月まで', '2023年5月まで', '2021年5月まで', '2020年12月まで', '2023年2月まで',\n",
       "       '2020年1月まで', '2022年9月まで', '2034年8月まで', '2023年12月まで', '2025年2月まで',\n",
       "       '2019年11月まで', '2020年11月まで', '2023年7月まで'], dtype=object)"
      ]
     },
     "execution_count": 29,
     "metadata": {},
     "output_type": "execute_result"
    }
   ],
   "source": [
    "total_data[\"契約期間\"] = total_data[\"契約期間\"].fillna(\"0年間\")\n",
    "total_data[\"契約期間\"][total_data[\"契約期間\"].str.contains(\"年間\", regex=False)] = (total_data[\"契約期間\"][total_data[\"契約期間\"].str.contains(\"年間\", regex=False)].str.replace(\"年間\", \"\").astype(int)+2019).astype(str)+\"年8月まで\"\n",
    "total_data[\"契約期間\"][~total_data[\"契約期間\"].str.contains(\"年\")] = \"年\" + total_data[\"契約期間\"][~total_data[\"契約期間\"].str.contains(\"年\")]\n",
    "temp_df = total_data[\"契約期間\"][total_data[\"契約期間\"].str.contains(\"月間\", regex=False)].str.replace(\"月間\", \"\").str.split(\"年\", expand=True)\n",
    "temp_df[1] = temp_df[1].astype(int) + 8\n",
    "temp_df[0] = 2019 + temp_df[0].replace(\"\", \"0\").astype(int)\n",
    "temp_df[0][temp_df[1] > 12] = temp_df[0][temp_df[1] > 12] + 1\n",
    "temp_df[1][temp_df[1] > 12] = temp_df[1][temp_df[1] > 12] - 12\n",
    "total_data[\"契約期間\"][total_data[\"契約期間\"].str.contains(\"月間\", regex=False)] = temp_df[0].astype(str)+ \"年\" + temp_df[1].astype(str) + \"月まで\"\n",
    "total_data[\"契約期間\"].unique()"
   ]
  },
  {
   "cell_type": "code",
   "execution_count": 30,
   "metadata": {},
   "outputs": [],
   "source": [
    "total_data[\"契約期間\"] = pd.to_datetime(total_data[\"契約期間\"], format=\"%Y年%m月まで\")\n",
    "total_data[\"契約期間_月\"] = (total_data[\"契約期間\"].dt.year - 2019)*12 + total_data[\"契約期間\"].dt.month - 8"
   ]
  },
  {
   "cell_type": "markdown",
   "metadata": {},
   "source": [
    "# 所在地"
   ]
  },
  {
   "cell_type": "code",
   "execution_count": 31,
   "metadata": {},
   "outputs": [],
   "source": [
    "total_data[\"所在地\"] = total_data[\"所在地\"].str.replace(\"東京都\", \"\")\n",
    "total_data[\"所在地_区\"] = total_data[\"所在地\"].str.split(\"区\", expand=True)[0]"
   ]
  },
  {
   "cell_type": "code",
   "execution_count": 32,
   "metadata": {},
   "outputs": [],
   "source": [
    "total_data[\"所在地\"] = total_data[\"所在地\"].str.split(\"区\", expand=True)[1]"
   ]
  },
  {
   "cell_type": "code",
   "execution_count": 33,
   "metadata": {},
   "outputs": [
    {
     "data": {
      "text/plain": [
       "日本橋馬喰町2丁目4-12     116\n",
       "太子堂2丁目            106\n",
       "板橋3丁目1-8          102\n",
       "白鷺2丁目1-21          92\n",
       "南長崎5丁目             85\n",
       "本町4丁目              83\n",
       "日本橋馬喰町2丁目          79\n",
       "勝どき6丁目             77\n",
       "江古田3丁目14-3         75\n",
       "東池袋2丁目             74\n",
       "池袋3丁目              71\n",
       "海辺                 71\n",
       "高島平1丁目             70\n",
       "新田1丁目              69\n",
       "勝どき6丁目3-2          68\n",
       "三筋1丁目              68\n",
       "栗原3丁目              66\n",
       "笹塚2丁目              66\n",
       "東雲1丁目              66\n",
       "鹿骨5丁目              64\n",
       "本町1丁目              64\n",
       "南大塚3丁目             63\n",
       "港南3丁目7-3           63\n",
       "滝野川6丁目             62\n",
       "緑4丁目               62\n",
       "堀ノ内3丁目             62\n",
       "方南1丁目              61\n",
       "浅草3丁目              60\n",
       "本町5丁目              59\n",
       "高円寺南3丁目            59\n",
       "                 ... \n",
       "仲池上1丁目1-15          1\n",
       "栄町18-8              1\n",
       "栄町13-6              1\n",
       "細田4丁目42-2           1\n",
       "給田4丁目27-6           1\n",
       "高島平8丁目27-3          1\n",
       "駒込2丁目6-5            1\n",
       "阿佐谷北2丁目21-11        1\n",
       "恵比寿4丁目7-2           1\n",
       "六町3丁目7-12           1\n",
       "久が原4丁目24-20         1\n",
       "若宮1丁目8-19           1\n",
       "西ケ原4丁目61-12         1\n",
       "代田3丁目55-16          1\n",
       "新町2丁目23-22          1\n",
       "経堂3丁目19-14          1\n",
       "小石川5丁目10-14         1\n",
       "築地2丁目11             1\n",
       "小竹町1丁目20-4          1\n",
       "玉川台1丁目7-1           1\n",
       "上池台2丁目34-10         1\n",
       "赤塚3丁目19-17          1\n",
       "目黒2丁目12-10          1\n",
       "本駒込6丁目1-22-403      1\n",
       "水元4丁目13-21          1\n",
       "和田1丁目12-10          1\n",
       "青戸2丁目14-17          1\n",
       "深沢3丁目26-5           1\n",
       "要町2丁目30-9           1\n",
       "北小岩8丁目1-1           1\n",
       "Name: 所在地, Length: 16149, dtype: int64"
      ]
     },
     "execution_count": 33,
     "metadata": {},
     "output_type": "execute_result"
    }
   ],
   "source": [
    "total_data[\"所在地\"].value_counts()"
   ]
  },
  {
   "cell_type": "markdown",
   "metadata": {},
   "source": [
    "# アクセス"
   ]
  },
  {
   "cell_type": "code",
   "execution_count": 34,
   "metadata": {},
   "outputs": [],
   "source": [
    "df = total_data[\"アクセス\"].str.split(\"\\t\", expand=True)"
   ]
  },
  {
   "cell_type": "code",
   "execution_count": 35,
   "metadata": {},
   "outputs": [
    {
     "data": {
      "text/html": [
       "<div>\n",
       "<style scoped>\n",
       "    .dataframe tbody tr th:only-of-type {\n",
       "        vertical-align: middle;\n",
       "    }\n",
       "\n",
       "    .dataframe tbody tr th {\n",
       "        vertical-align: top;\n",
       "    }\n",
       "\n",
       "    .dataframe thead th {\n",
       "        text-align: right;\n",
       "    }\n",
       "</style>\n",
       "<table border=\"1\" class=\"dataframe\">\n",
       "  <thead>\n",
       "    <tr style=\"text-align: right;\">\n",
       "      <th></th>\n",
       "      <th>0</th>\n",
       "      <th>1</th>\n",
       "      <th>2</th>\n",
       "      <th>3</th>\n",
       "      <th>4</th>\n",
       "      <th>5</th>\n",
       "      <th>6</th>\n",
       "      <th>7</th>\n",
       "      <th>8</th>\n",
       "      <th>9</th>\n",
       "      <th>10</th>\n",
       "      <th>11</th>\n",
       "      <th>12</th>\n",
       "    </tr>\n",
       "  </thead>\n",
       "  <tbody>\n",
       "    <tr>\n",
       "      <th>0</th>\n",
       "      <td>都営三田線</td>\n",
       "      <td>西巣鴨駅</td>\n",
       "      <td>徒歩4分</td>\n",
       "      <td></td>\n",
       "      <td>埼京線</td>\n",
       "      <td>板橋駅</td>\n",
       "      <td>徒歩14分</td>\n",
       "      <td></td>\n",
       "      <td>都電荒川線</td>\n",
       "      <td>西ケ原四丁目駅</td>\n",
       "      <td>徒歩7分</td>\n",
       "      <td>None</td>\n",
       "      <td>None</td>\n",
       "    </tr>\n",
       "    <tr>\n",
       "      <th>1</th>\n",
       "      <td>都営大江戸線</td>\n",
       "      <td>勝どき駅</td>\n",
       "      <td>徒歩5分</td>\n",
       "      <td></td>\n",
       "      <td>有楽町線</td>\n",
       "      <td>月島駅</td>\n",
       "      <td>徒歩9分</td>\n",
       "      <td></td>\n",
       "      <td>日比谷線</td>\n",
       "      <td>築地駅</td>\n",
       "      <td>徒歩20分</td>\n",
       "      <td>None</td>\n",
       "      <td>None</td>\n",
       "    </tr>\n",
       "    <tr>\n",
       "      <th>2</th>\n",
       "      <td>京王線</td>\n",
       "      <td>笹塚駅</td>\n",
       "      <td>徒歩6分</td>\n",
       "      <td></td>\n",
       "      <td>京王線</td>\n",
       "      <td>代田橋駅</td>\n",
       "      <td>徒歩7分</td>\n",
       "      <td></td>\n",
       "      <td>京王線</td>\n",
       "      <td>明大前駅</td>\n",
       "      <td>徒歩17分</td>\n",
       "      <td>None</td>\n",
       "      <td>None</td>\n",
       "    </tr>\n",
       "    <tr>\n",
       "      <th>3</th>\n",
       "      <td>総武線・中央線(各停)</td>\n",
       "      <td>高円寺駅</td>\n",
       "      <td>徒歩9分</td>\n",
       "      <td></td>\n",
       "      <td>丸ノ内線(池袋-荻窪)</td>\n",
       "      <td>新高円寺駅</td>\n",
       "      <td>徒歩3分</td>\n",
       "      <td></td>\n",
       "      <td>丸ノ内線(池袋-荻窪)</td>\n",
       "      <td>東高円寺駅</td>\n",
       "      <td>徒歩14分</td>\n",
       "      <td>None</td>\n",
       "      <td>None</td>\n",
       "    </tr>\n",
       "    <tr>\n",
       "      <th>4</th>\n",
       "      <td>京成金町線</td>\n",
       "      <td>京成金町駅</td>\n",
       "      <td>徒歩5分</td>\n",
       "      <td></td>\n",
       "      <td>常磐線</td>\n",
       "      <td>金町(東京都)駅</td>\n",
       "      <td>徒歩7分</td>\n",
       "      <td></td>\n",
       "      <td>京成金町線</td>\n",
       "      <td>柴又駅</td>\n",
       "      <td>徒歩17分</td>\n",
       "      <td>None</td>\n",
       "      <td>None</td>\n",
       "    </tr>\n",
       "    <tr>\n",
       "      <th>5</th>\n",
       "      <td>常磐線快速</td>\n",
       "      <td>南千住駅</td>\n",
       "      <td>徒歩2分</td>\n",
       "      <td></td>\n",
       "      <td>都電荒川線</td>\n",
       "      <td>三ノ輪橋駅</td>\n",
       "      <td>徒歩10分</td>\n",
       "      <td></td>\n",
       "      <td>日比谷線</td>\n",
       "      <td>三ノ輪駅</td>\n",
       "      <td>徒歩10分</td>\n",
       "      <td>None</td>\n",
       "      <td>None</td>\n",
       "    </tr>\n",
       "    <tr>\n",
       "      <th>6</th>\n",
       "      <td>西武池袋線</td>\n",
       "      <td>大泉学園駅</td>\n",
       "      <td>徒歩4分</td>\n",
       "      <td></td>\n",
       "      <td>西武池袋線</td>\n",
       "      <td>保谷駅</td>\n",
       "      <td>徒歩25分</td>\n",
       "      <td></td>\n",
       "      <td>東武東上線</td>\n",
       "      <td>和光市駅</td>\n",
       "      <td>/バス(23分)大泉学園駅北口下車徒歩1分</td>\n",
       "      <td>None</td>\n",
       "      <td>None</td>\n",
       "    </tr>\n",
       "    <tr>\n",
       "      <th>7</th>\n",
       "      <td>東急東横線</td>\n",
       "      <td>学芸大学駅</td>\n",
       "      <td>徒歩7分</td>\n",
       "      <td></td>\n",
       "      <td>東急東横線</td>\n",
       "      <td>都立大学駅</td>\n",
       "      <td>徒歩16分</td>\n",
       "      <td></td>\n",
       "      <td>東急東横線</td>\n",
       "      <td>祐天寺駅</td>\n",
       "      <td>徒歩20分</td>\n",
       "      <td>None</td>\n",
       "      <td>None</td>\n",
       "    </tr>\n",
       "    <tr>\n",
       "      <th>8</th>\n",
       "      <td>南北線</td>\n",
       "      <td>東大前駅</td>\n",
       "      <td>徒歩3分</td>\n",
       "      <td></td>\n",
       "      <td>都営三田線</td>\n",
       "      <td>白山(東京都)駅</td>\n",
       "      <td>徒歩10分</td>\n",
       "      <td></td>\n",
       "      <td>千代田線</td>\n",
       "      <td>根津駅</td>\n",
       "      <td>徒歩12分</td>\n",
       "      <td>None</td>\n",
       "      <td>None</td>\n",
       "    </tr>\n",
       "    <tr>\n",
       "      <th>9</th>\n",
       "      <td>埼京線</td>\n",
       "      <td>板橋駅</td>\n",
       "      <td>徒歩8分</td>\n",
       "      <td></td>\n",
       "      <td>都営三田線</td>\n",
       "      <td>新板橋駅</td>\n",
       "      <td>徒歩4分</td>\n",
       "      <td></td>\n",
       "      <td>東武東上線</td>\n",
       "      <td>下板橋駅</td>\n",
       "      <td>徒歩7分</td>\n",
       "      <td>None</td>\n",
       "      <td>None</td>\n",
       "    </tr>\n",
       "  </tbody>\n",
       "</table>\n",
       "</div>"
      ],
      "text/plain": [
       "            0      1     2  3            4         5      6  7            8   \\\n",
       "0        都営三田線   西巣鴨駅  徒歩4分             埼京線       板橋駅  徒歩14分           都電荒川線   \n",
       "1       都営大江戸線   勝どき駅  徒歩5分            有楽町線       月島駅   徒歩9分            日比谷線   \n",
       "2          京王線    笹塚駅  徒歩6分             京王線      代田橋駅   徒歩7分             京王線   \n",
       "3  総武線・中央線(各停)   高円寺駅  徒歩9分     丸ノ内線(池袋-荻窪)     新高円寺駅   徒歩3分     丸ノ内線(池袋-荻窪)   \n",
       "4        京成金町線  京成金町駅  徒歩5分             常磐線  金町(東京都)駅   徒歩7分           京成金町線   \n",
       "5        常磐線快速   南千住駅  徒歩2分           都電荒川線     三ノ輪橋駅  徒歩10分            日比谷線   \n",
       "6        西武池袋線  大泉学園駅  徒歩4分           西武池袋線       保谷駅  徒歩25分           東武東上線   \n",
       "7        東急東横線  学芸大学駅  徒歩7分           東急東横線     都立大学駅  徒歩16分           東急東横線   \n",
       "8          南北線   東大前駅  徒歩3分           都営三田線  白山(東京都)駅  徒歩10分            千代田線   \n",
       "9          埼京線    板橋駅  徒歩8分           都営三田線      新板橋駅   徒歩4分           東武東上線   \n",
       "\n",
       "        9                      10    11    12  \n",
       "0  西ケ原四丁目駅                   徒歩7分  None  None  \n",
       "1      築地駅                  徒歩20分  None  None  \n",
       "2     明大前駅                  徒歩17分  None  None  \n",
       "3    東高円寺駅                  徒歩14分  None  None  \n",
       "4      柴又駅                  徒歩17分  None  None  \n",
       "5     三ノ輪駅                  徒歩10分  None  None  \n",
       "6     和光市駅  /バス(23分)大泉学園駅北口下車徒歩1分  None  None  \n",
       "7     祐天寺駅                  徒歩20分  None  None  \n",
       "8      根津駅                  徒歩12分  None  None  \n",
       "9     下板橋駅                   徒歩7分  None  None  "
      ]
     },
     "execution_count": 35,
     "metadata": {},
     "output_type": "execute_result"
    }
   ],
   "source": [
    "df.head(10)"
   ]
  },
  {
   "cell_type": "markdown",
   "metadata": {},
   "source": [
    "## df[0]"
   ]
  },
  {
   "cell_type": "code",
   "execution_count": 36,
   "metadata": {},
   "outputs": [
    {
     "name": "stdout",
     "output_type": "stream",
     "text": [
      "都営三田線\n",
      "都営大江戸線\n",
      "京王線\n",
      "総武線・中央線(各停)\n",
      "京成金町線\n",
      "常磐線快速\n",
      "西武池袋線\n",
      "東急東横線\n",
      "南北線\n",
      "埼京線\n",
      "都営浅草線\n",
      "京成本線\n",
      "銀座線\n",
      "中央線(快速)\n",
      "京王新線\n",
      "東武東上線\n",
      "都営新宿線\n",
      "半蔵門線\n",
      "西武新宿線\n",
      "有楽町線\n",
      "京浜東北線\n",
      "つくばエクスプレス\n",
      "小田急小田原線\n",
      "副都心線\n",
      "東西線\n",
      "東急大井町線\n",
      "常磐線\n",
      "山手線\n",
      "東急池上線\n",
      "日比谷線\n",
      "京成押上線\n",
      "東武スカイツリーライン\n",
      "東急田園都市線\n",
      "京急本線\n",
      "東急目黒線\n",
      "千代田線\n",
      "丸ノ内線(中野坂上-方南町)\n",
      "日暮里・舎人ライナー\n",
      "京王井の頭線\n",
      "丸ノ内線(池袋-荻窪)\n",
      "東武亀戸線\n",
      "東急多摩川線\n",
      "ゆりかもめ\n",
      "都電荒川線\n",
      "東急世田谷線\n",
      "北総線\n",
      "総武本線\n",
      "東海道新幹線\n",
      "京葉線(東京-蘇我)\n",
      "高崎線\n",
      "西武豊島線\n",
      "京急空港線\n",
      "横須賀線\n",
      "りんかい線\n",
      "西武有楽町線\n",
      "東武大師線\n",
      "東武伊勢崎線(押上-曳舟)\n",
      "東北本線(宇都宮線)\n",
      "東京モノレール羽田線\n",
      "東海道本線\n",
      "湘南新宿ライン(東北本線-横須賀線)\n",
      "湘南新宿ライン(高崎線-東海道本線)\n",
      "東北新幹線\n",
      "京成成田空港線\n",
      "中央本線(東京-松本)\n",
      "埼玉高速鉄道線\n"
     ]
    }
   ],
   "source": [
    "def print_unique(series):\n",
    "    for i in series.unique():\n",
    "        print(i)\n",
    "print_unique(df[0])"
   ]
  },
  {
   "cell_type": "code",
   "execution_count": 37,
   "metadata": {},
   "outputs": [],
   "source": [
    "total_data[\"アクセス_線_1\"] = df[0]"
   ]
  },
  {
   "cell_type": "markdown",
   "metadata": {},
   "source": [
    "## df[1]"
   ]
  },
  {
   "cell_type": "code",
   "execution_count": 38,
   "metadata": {},
   "outputs": [
    {
     "data": {
      "text/plain": [
       "(62732,)"
      ]
     },
     "execution_count": 38,
     "metadata": {},
     "output_type": "execute_result"
    }
   ],
   "source": [
    "df[1][df[1].str.contains(\"駅\")].shape"
   ]
  },
  {
   "cell_type": "code",
   "execution_count": 39,
   "metadata": {},
   "outputs": [
    {
     "data": {
      "text/plain": [
       "(62732,)"
      ]
     },
     "execution_count": 39,
     "metadata": {},
     "output_type": "execute_result"
    }
   ],
   "source": [
    "df[1].shape"
   ]
  },
  {
   "cell_type": "code",
   "execution_count": 40,
   "metadata": {},
   "outputs": [],
   "source": [
    "total_data[\"アクセス_駅_1\"] = df[1]"
   ]
  },
  {
   "cell_type": "markdown",
   "metadata": {},
   "source": [
    "## df[2]"
   ]
  },
  {
   "cell_type": "code",
   "execution_count": 41,
   "metadata": {},
   "outputs": [
    {
     "data": {
      "text/plain": [
       "array(['徒歩4分', '徒歩5分', '徒歩6分', '徒歩9分', '徒歩2分', '徒歩7分', '徒歩3分', '徒歩8分',\n",
       "       '徒歩15分', '徒歩11分', '徒歩10分', '徒歩13分', '徒歩12分', '徒歩22分', '徒歩1分',\n",
       "       '徒歩19分', '徒歩18分', '徒歩23分', '徒歩17分', '徒歩20分', '/バス(6分)都民農園下車徒歩1分',\n",
       "       '徒歩14分', '/バス(19分)長久保下車徒歩2分', '徒歩24分', '徒歩16分',\n",
       "       '/バス(7分)大泉風致地区下車徒歩5分', '徒歩29分', '徒歩37分', '徒歩21分',\n",
       "       '/バス(10分)関町郵便局前下車徒歩1分', '/バス(16分)新小71\\u3000農業試験場下車徒歩3分',\n",
       "       '/バス(18分)土支田二丁目下車徒歩5分', '/バス(12分)比丘尼橋下車徒歩3分', '/バス(10分)団地入口下車徒歩3分',\n",
       "       '/バス(5分)善福寺下車徒歩1分', '徒歩25分', '/バス(15分)ふれあいの家下車',\n",
       "       '/バス(13分)水元そよかぜ園下車徒歩1分', '/バス(15分)水元4丁目下車徒歩28分',\n",
       "       '/バス(25分)武蔵関駅下車徒歩7分', '/バス(15分)越後山下車徒歩4分', '徒歩27分', '徒歩28分',\n",
       "       '徒歩33分', '/バス(9分)西長久保下車徒歩1分', '/バス(16分)亀26\\u3000松江下車徒歩5分', '徒歩26分',\n",
       "       '/バス(23分)葛飾車庫入口下車徒歩11分', '/バス(10分)大田文化の森下車徒歩3分',\n",
       "       '/バス(18分)幸田小学校下車徒歩3分', '/バス(11分)水元そよかぜ園下車徒歩6分',\n",
       "       '/バス(16分)佐野センター前下車徒歩34分', '/バス(15分)花畑団地下車徒歩10分',\n",
       "       '/バス(15分)水元そよかぜ園下車徒歩2分', '/バス(12分)六木団地下車徒歩3分',\n",
       "       '/バス(19分)大泉学園町八丁目下車徒歩2分', '/バス(18分)本木新道下車徒歩3分',\n",
       "       '/バス(13分)砧南中学校前下車徒歩4分', '徒歩38分', '/バス(10分)鹿骨五丁目下車徒歩3分',\n",
       "       '/バス(3分)桑川町下車徒歩7分', '/バス(12分)関町郵便局前下車徒歩5分', '/バス(5分)日産自動車前下車徒歩4分',\n",
       "       '/バス(12分)水元2丁目下車徒歩2分', '/バス(10分)富士公園下車徒歩3分',\n",
       "       '/バス(18分)京成バス\\u3000大杉3丁目下車徒歩1分', '/バス(10分)都民農園下車徒歩3分',\n",
       "       '/バス(12分)土支田二丁目下車徒歩6分', '/バス(12分)西長久保下車徒歩3分',\n",
       "       '/バス(14分)土支田三丁目下車徒歩3分', '/バス(9分)ハートアイランド南下車徒歩1分',\n",
       "       '/バス(14分)西水元2丁目下車徒歩2分', '/バス(9分)砧町下車徒歩3分', '/バス(15分)大泉風致地区下車徒歩3分',\n",
       "       '/バス(21分)吉祥寺通り入口下車徒歩5分', '/バス(15分)水元神社前下車徒歩4分',\n",
       "       '/バス(13分)水元3丁目下車徒歩1分', '/バス(14分)代沢一丁目下車徒歩5分',\n",
       "       '/バス(12分)東小松川一丁目下車徒歩7分', '/バス(18分)鎌田下車徒歩4分',\n",
       "       '/バス(8分)足立スポーツセンター下車徒歩2分', '/バス(8分)都民農園下車徒歩2分',\n",
       "       '/バス(18分)扇2丁目下車徒歩3分', '/バス(20分)土支田三丁目下車徒歩3分',\n",
       "       '/バス(10分)次大夫堀公園下車徒歩3分', '/バス(10分)関町3下車徒歩3分', '/バス(7分)大泉桜高校下車徒歩1分',\n",
       "       '/バス(12分)水元四丁目下車徒歩3分', '/バス(14分)西水元二丁目下車徒歩38分', '徒歩36分',\n",
       "       '/バス(23分)北大泉下車徒歩8分', '/バス(17分)新広橋下車徒歩1分', '/バス(9分)松本橋東詰下車徒歩3分',\n",
       "       '/バス(17分)足立郷土博物館下車徒歩23分', '/バス(15分)大泉風致地区下車徒歩2分',\n",
       "       '/バス(20分)関町北一丁目下車徒歩3分', '/バス(10分)有27\\u3000西水元一下車徒歩3分',\n",
       "       '/バス(5分)三原台北下車徒歩3分', '/バス(10分)公園橋下車徒歩29分', '/バス(6分)鹿骨下車徒歩24分',\n",
       "       '徒歩32分', '/バス(10分)大泉第三小下車徒歩1分', '/バス(12分)宇奈根地区会館前下車徒歩4分',\n",
       "       '/バス(15分)綾21\\u3000六木小下車徒歩5分', '/バス(20分)六木都住下車徒歩2分',\n",
       "       '/バス(19分)鹿浜四丁目下車徒歩2分', '/バス(5分)堀江団地下車徒歩4分', '/バス(15分)鹿浜橋下車徒歩3分',\n",
       "       '/バス(16分)桜木橋北詰下車徒歩8分', '/バス(9分)北出張所下車徒歩3分', '徒歩34分',\n",
       "       '/バス(1分)深沢小学校前\\u3000\\u3000徒歩1分下車徒歩10分', '/バス(9分)松本弁天下車徒歩25分',\n",
       "       '/バス(8分)大泉学園町八丁目下車徒歩3分', '/バス(4分)川南下車徒歩6分',\n",
       "       '/バス(6分)入新井第四小学校下車徒歩5分', '/バス(7分)関町南2丁目下車徒歩2分',\n",
       "       '/バス(16分)都民農園下車徒歩1分', '/バス(12分)永安寺前下車徒歩5分', '/バス(15分)長久保下車徒歩1分',\n",
       "       '/バス(9分)ふれあいの家下車徒歩11分', '徒歩39分', '/バス(7分)西長久保下車徒歩2分',\n",
       "       '/バス(12分)天沼マーケット前下車徒歩5分', '/バス(5分)元競馬場下車徒歩4分',\n",
       "       '/バス(15分)久保新田停留所下車徒歩4分', '/バス(14分)樫の木公園前下車徒歩9分',\n",
       "       '/バス(14分)立野橋下車徒歩5分', '/バス(9分)風致地区下車徒歩32分', '/バス(15分)佐野センター前下車徒歩2分',\n",
       "       '車3km(15分)', '/バス(10分)水元4丁目下車徒歩3分', '/バス(20分)幸田小学校下車徒歩3分',\n",
       "       '/バス(10分)スポーツランド入口下車徒歩18分', '/バス(12分)大杉3丁目停下車徒歩1分',\n",
       "       '/バス(11分)永安寺下車徒歩1分', '/バス(15分)西水元2丁目下車', '/バス(15分)西水元2丁目下車徒歩2分',\n",
       "       '/バス(13分)長久保下車徒歩1分', '/バス(10分)千歳台6丁目下車徒歩7分', '/バス(4分)ときわ橋下車徒歩8分',\n",
       "       '/バス(8分)プロムナード荻窪下車徒歩1分', '/バス(13分)長久保下車徒歩5分',\n",
       "       '/バス(10分)大泉郵便局下車徒歩3分', '/バス(10分)あいぐみ公園前下車徒歩2分', '徒歩30分',\n",
       "       '/バス(15分)青梅街道営業所下車徒歩3分', '/バス(10分)谷原中下車徒歩5分', '/バス(7分)北大泉下車徒歩4分',\n",
       "       '/バス(16分)土支田二丁目下車徒歩8分', '/バス(20分)下宿下車徒歩2分', '/バス(10分)谷原5丁目下車徒歩16分',\n",
       "       '/バス(2分)稲荷前下車徒歩12分', '/バス(14分)西水元一丁目下車徒歩1分', '/バス(15分)橋戸小学校下車徒歩8分',\n",
       "       '/バス(11分)上祖師谷四丁目下車徒歩4分', '/バス(15分)都民住宅下車徒歩1分', '/バス(2分)鹿骨五下車徒歩29分',\n",
       "       '/バス(12分)長久保下車徒歩3分', '/バス(20分)法林寺下車徒歩2分', '/バス(20分)関町南三丁目下車徒歩1分',\n",
       "       '/バス(19分)花畑三丁目下車徒歩6分', '/バス(5分)三軒寺下車徒歩20分', '/バス(10分)生活実習所前下車徒歩3分',\n",
       "       '/バス(10分)大泉風致地区下車徒歩2分', '/バス(12分)樫の木公園前下車徒歩3分',\n",
       "       '/バス(13分)水元2丁目下車徒歩1分', '/バス(20分)綾21\\u3000六ツ木都住下車徒歩2分',\n",
       "       '/バス(20分)新広橋下車徒歩1分', '/バス(10分)大泉町四丁目下車徒歩5分', '/バス(12分)飯塚橋下車徒歩2分',\n",
       "       '/バス(8分)京葉交差点下車徒歩27分', '/バス(15分)水元高校下車徒歩2分', '/バス(8分)北出張所下車徒歩12分',\n",
       "       '/バス(15分)本木新道下車徒歩2分', '/バス(12分)樫の木公園前下車徒歩6分',\n",
       "       '/バス(16分)大泉第一小学校下車徒歩5分', '徒歩31分', '/バス(12分)関町北3下車徒歩1分',\n",
       "       '/バス(17分)北大泉下車徒歩5分', '/バス(7分)泉38-2\\u3000大泉学園幼稚園前下車徒歩2分',\n",
       "       '/バス(15分)本木小学校下車徒歩2分', '/バス(12分)北01\\u3000本木新道下車徒歩3分',\n",
       "       '/バス(10分)古千谷下車徒歩1分', '/バス(12分)武蔵関駅下車徒歩6分', '/バス(9分)越後山下車徒歩6分',\n",
       "       '/バス(10分)大泉町4丁目下車徒歩5分', '/バス(12分)大泉学園町8丁目下車徒歩1分',\n",
       "       '/バス(6分)谷原中学校下車徒歩1分', '/バス(20分)西水元2丁目下車徒歩2分',\n",
       "       '/バス(10分)小松川警察署前下車徒歩45分', '/バス(13分)大泉町2丁目下車徒歩8分',\n",
       "       '/バス(8分)平井大橋下車徒歩20分', '/バス(20分)西水元4丁目下車徒歩3分', '徒歩42分',\n",
       "       '/バス(19分)綾61\\u3000神明町下車徒歩3分', '/バス(6分)一之江高速入口下車徒歩20分',\n",
       "       '/バス(5分)吉祥寺駅南口行\\u3000とき下車徒歩4分', '/バス(15分)水元小学校下車徒歩2分',\n",
       "       '/バス(6分)総合レクレーション公下車徒歩23分', '/バス(14分)大泉学園町四丁目下車徒歩4分',\n",
       "       '/バス(8分)南葛西小学校前下車徒歩4分', '/バス(5分)風致地区下車徒歩10分',\n",
       "       '/バス(10分)池上営業所下車徒歩7分', '/バス(8分)大泉学園4丁目下車徒歩5分', '/バス(12分)水道端下車徒歩3分',\n",
       "       '/バス(7分)あいぐみ公園下車徒歩4分', '/バス(9分)中央三丁目下車徒歩1分',\n",
       "       '/バス(9分)西一之江二丁目下車徒歩5分', '/バス(11分)土支田八幡下車徒歩5分',\n",
       "       '/バス(17分)深沢小学校下車徒歩3分', '/バス(8分)関町南二丁目下車徒歩3分',\n",
       "       '/バス(15分)水元5丁目下車徒歩4分', '/バス(17分)足立郷土博物館下車徒歩4分',\n",
       "       '/バス(5分)石神井団地入口下車徒歩18分', '/バス(18分)西水元2丁目下車徒歩6分',\n",
       "       '/バス(5分)大泉風致地区下車徒歩5分', '/バス(12分)慈雲堂前下車徒歩1分', '/バス(14分)同潤会下車徒歩3分',\n",
       "       '/バス(15分)西篠崎1丁目下車徒歩3分', '/バス(10分)北出張所前下車徒歩1分',\n",
       "       '/バス(5分)スポーツセンター前下車徒歩25分', '/バス(9分)大泉学園小学校入り口下車徒歩3分',\n",
       "       '/バス(9分)大泉風致地区下車徒歩7分', '/バス(11分)水元神社前下車徒歩2分', '/バス(8分)大泉郵便局下車徒歩2分',\n",
       "       '/バス(10分)谷原中学校下車徒歩4分', '/バス(12分)都営住宅前下車徒歩2分', '/バス(23分)和光市南下車徒歩5分',\n",
       "       '/バス(15分)水元小学校下車徒歩3分', '/バス(10分)次大夫堀公園前下車徒歩6分',\n",
       "       '/バス(12分)地区会館前下車徒歩4分', '/バス(7分)西新井橋下車徒歩3分', '/バス(19分)あたご橋下車徒歩6分',\n",
       "       '/バス(8分)次太夫堀公園前下車徒歩1分', '/バス(11分)宇奈根地区会館下車徒歩6分', '/バス(7分)水元4丁目下車',\n",
       "       '/バス(9分)ふれあいの家下車', '/バス(20分)岡本3丁目下車徒歩5分',\n",
       "       '/バス(15分)京成バス「西水元2丁目」下車徒歩2分', '/バス(15分)土支田二丁目下車徒歩6分',\n",
       "       '/バス(10分)新川橋下車徒歩22分', '徒歩40分', '/バス(15分)大泉第一小学校下車徒歩9分',\n",
       "       '/バス(6分)元競馬場前下車徒歩15分', '/バス(11分)牟礼前下車徒歩2分', '/バス(15分)西水元4丁目下車徒歩1分',\n",
       "       '/バス(11分)富士神社入口下車徒歩1分', '/バス(20分)花畑六丁目東下車徒歩1分', '/バス(10分)松江下車徒歩2分',\n",
       "       '車3.1km(10分)', '/バス(17分)都バス\\u3000松江第1中学校前下車徒歩4分',\n",
       "       '/バス(9分)交通安全教育センター下車徒歩7分', '/バス(16分)西水元4丁目下車徒歩2分',\n",
       "       '/バス(10分)鎌田下車徒歩6分', '/バス(16分)久保新田下車徒歩2分', '/バス(10分)水元中学校下車徒歩1分',\n",
       "       '/バス(20分)大泉町1丁目下車徒歩5分', '徒歩43分', '/バス(11分)リブレ京成下車徒歩3分',\n",
       "       '/バス(6分)関町南2丁目下車徒歩4分', '/バス(5分)大泉北中学校入口下車徒歩7分',\n",
       "       '/バス(8分)関町南二丁目下車徒歩17分', '/バス(7分)北出張所前下車徒歩9分',\n",
       "       '/バス(5分)江戸川区役所下車徒歩5分', '/バス(20分)大杉第二小学校前下車徒歩33分',\n",
       "       '/バス(4分)住宅前(練馬区)下車徒歩8分', '車3.9km(11分)', '/バス(8分)三原台中学校下車徒歩1分',\n",
       "       '/バス(7分)大泉桜高校下車徒歩3分', '/バス(25分)西水元4丁目下車徒歩3分', '/バス(12分)西新井橋下車徒歩4分',\n",
       "       '/バス(10分)大杉4丁目下車徒歩2分', '/バス(10分)006\\u3000大泉風致地区下車徒歩3分',\n",
       "       '/バス(13分)長久保下車徒歩2分', '/バス(12分)水元神社前下車徒歩2分',\n",
       "       '/バス(9分)都バス\\u3000ハートアイランド南下車徒歩1分', '/バス(8分)水元公園下車',\n",
       "       '/バス(7分)大泉風致地区下車徒歩4分', '/バス(18分)大杉第二小学校下車徒歩3分',\n",
       "       '/バス(15分)新広橋下車徒歩1分', '/バス(10分)公園入口下車徒歩1分', '/バス(10分)西大泉郵便局前下車徒歩4分',\n",
       "       '徒歩49分', '/バス(10分)大泉風致地区下車徒歩3分', '/バス(15分)水元2丁目下車徒歩2分',\n",
       "       '/バス(12分)北出張所下車徒歩1分', '/バス(14分)大泉学園町4丁目下車徒歩4分',\n",
       "       '/バス(10分)なぎさニュータウン下車徒歩33分', '/バス(9分)関町南三丁目下車徒歩2分',\n",
       "       '/バス(10分)大泉町四丁目下車徒歩4分', '/バス(14分)都民農園(バス)下車徒歩3分',\n",
       "       '/バス(7分)松本1丁目下車徒歩2分', '/バス(8分)清水二丁目下車徒歩2分', '/バス(19分)森ヶ崎十字路下車徒歩3分',\n",
       "       '/バス(15分)水元5丁目停下車徒歩2分', '/バス(12分)長久保下車徒歩1分', '/バス(16分)長久保下車徒歩2分',\n",
       "       '/バス(10分)NTT江戸川下車徒歩3分', '/バス(6分)天神橋下車徒歩5分', '徒歩35分',\n",
       "       '/バス(5分)廻沢下車徒歩3分', '/バス(13分)そよかぜ園下車徒歩1分', '/バス(20分)扇大橋停下車徒歩5分',\n",
       "       '/バス(10分)永安寺前下車徒歩1分', '/バス(10分)鎌田下車徒歩4分', '/バス(12分)花畑六丁目下車徒歩6分',\n",
       "       '/バス(8分)鹿浜橋下車徒歩3分', '/バス(6分)関町南二丁目下車徒歩18分', '/バス(8分)関町南2丁目下車徒歩25分',\n",
       "       '/バス(19分)葛飾清掃工場下車徒歩8分', '/バス(15分)花畑3丁目下車徒歩1分', '/バス(10分)鎌田下車徒歩8分',\n",
       "       '/バス(8分)王子板紙裏門下車徒歩1分', '/バス(13分)そよかぜ園下車徒歩2分', '/バス(8分)臼田坂上下車徒歩1分',\n",
       "       '/バス(17分)小関下車徒歩1分', '/バス(15分)水元高校下車徒歩3分', '/バス(12分)佐野センター前下車徒歩2分',\n",
       "       '/バス(9分)東小松川一丁目下車徒歩2分', '/バス(14分)土支田二丁目下車徒歩6分',\n",
       "       '/バス(18分)土支田八幡下車徒歩5分', '/バス(10分)関町南3丁目下車徒歩3分', '/バス(12分)北篠崎下車徒歩4分',\n",
       "       '/バス(11分)松江下車徒歩3分', '/バス(10分)本木新道下車徒歩2分', '/バス(7分)関町南二丁目下車徒歩1分',\n",
       "       '/バス(10分)バス下車', '/バス(13分)都バス\\u3000東小松川一丁目下車徒歩1分',\n",
       "       '/バス(6分)新町商店街入口下車徒歩19分', '/バス(10分)蒲田下車徒歩9分', '/バス(7分)大泉風致地区下車徒歩8分',\n",
       "       '/バス(6分)大泉北中入口下車徒歩5分', '/バス(15分)水元小学校前下車徒歩2分', '/バス(8分)保木間下車徒歩3分',\n",
       "       '/バス(12分)東深沢小学校下車徒歩1分', '/バス(6分)北出張所下車徒歩15分', '/バス(10分)永安寺前下車徒歩5分',\n",
       "       '/バス(15分)宮城都営住宅前下車徒歩1分', '/バス(25分)西水元3丁目下車徒歩4分',\n",
       "       '/バス(9分)ふれあいの家下車徒歩34分', '/バス(7分)臼田坂下下車徒歩3分', '/バス(10分)坂下下車徒歩1分',\n",
       "       '/バス(12分)宇奈根地区会館下車徒歩5分', '/バス(7分)農業試験場下車徒歩24分',\n",
       "       '/バス(10分)東武バス\\u3000関原2丁目下車徒歩4分', '/バス(23分)新小岩駅前下車徒歩15分',\n",
       "       '/バス(13分)大泉学園町八丁目下車徒歩2分', '/バス(11分)砧町下車徒歩2分',\n",
       "       '/バス(15分)扇大橋北詰下車徒歩3分', '/バス(6分)住宅前下車徒歩4分', '/バス(10分)大泉風致地区下車徒歩1分',\n",
       "       '/バス(15分)大泉学園町四丁目下車徒歩4分', '/バス(10分)北出張所下車徒歩5分',\n",
       "       '/バス(7分)関町南2丁目下車徒歩3分', '/バス(6分)関町一丁目下車徒歩1分', '/バス(10分)井草八幡宮下車徒歩3分',\n",
       "       '/バス(10分)佐野センター下車徒歩1分', '/バス(12分)南小岩停下車徒歩26分',\n",
       "       '/バス(10分)鹿骨五丁目下車徒歩1分', '/バス(27分)大泉風致地区下車徒歩2分', '/バス(10分)八丁下車徒歩1分',\n",
       "       '/バス(11分)奥戸六丁目下車徒歩18分', '/バス(18分)土支田八幡下車徒歩23分',\n",
       "       '/バス(14分)西水元二丁目下車徒歩6分', '/バス(15分)東武バス\\u3000興本センター前下車徒歩3分',\n",
       "       '/バス(16分)千歳台下車徒歩2分', '/バス(7分)北出張所下車徒歩7分', '/バス(15分)水元神社前下車徒歩2分',\n",
       "       '/バス(4分)大鳥前下車徒歩3分', '/バス(13分)長久保\\u3000停歩5分下車徒歩35分',\n",
       "       '/バス(16分)松本弁天下車徒歩1分', '/バス(16分)大泉学園町八丁目下車徒歩4分', '/バス(8分)水元4丁目下車',\n",
       "       '/バス(15分)西長久保下車徒歩3分', '/バス(12分)鎌田下車徒歩5分', '/バス(6分)鹿浜五丁目下車徒歩2分',\n",
       "       '/バス(10分)鹿骨五丁目下車徒歩4分', '/バス(18分)上石神井中学校入口下車徒歩2分',\n",
       "       '/バス(16分)大泉学園八丁目下車徒歩2分', '/バス(10分)風致地区下車徒歩9分', '徒歩44分',\n",
       "       '/バス(25分)西水元3丁目下車徒歩6分', '/バス(11分)王子マテリア裏門下車徒歩16分',\n",
       "       '/バス(15分)長久保下車徒歩5分', '/バス(11分)関町2丁目下車徒歩4分', '/バス(15分)リブレ京成前下車徒歩1分',\n",
       "       '/バス(16分)大杉第二小学校下車徒歩4分', '/バス(17分)なかよし通り(バス)下車徒歩1分',\n",
       "       '/バス(20分)大泉学園町四丁目下車徒歩4分', '/バス(10分)立野通り水道端下車徒歩1分',\n",
       "       '/バス(15分)西水元2丁目下車徒歩1分', '/バス(15分)土支田3丁目下車徒歩2分',\n",
       "       '/バス(10分)花畑四丁目下車徒歩8分', '/バス(7分)池上営業所前下車徒歩1分',\n",
       "       '/バス(7分)池上営業所前下車徒歩3分', '/バス(20分)前沼橋下車徒歩3分'], dtype=object)"
      ]
     },
     "execution_count": 41,
     "metadata": {},
     "output_type": "execute_result"
    }
   ],
   "source": [
    "df[2].unique()"
   ]
  },
  {
   "cell_type": "markdown",
   "metadata": {},
   "source": [
    "## df[3]"
   ]
  },
  {
   "cell_type": "code",
   "execution_count": 42,
   "metadata": {},
   "outputs": [
    {
     "data": {
      "text/plain": [
       "array(['', None], dtype=object)"
      ]
     },
     "execution_count": 42,
     "metadata": {},
     "output_type": "execute_result"
    }
   ],
   "source": [
    "df[3].unique()"
   ]
  },
  {
   "cell_type": "markdown",
   "metadata": {},
   "source": [
    "## df[4]"
   ]
  },
  {
   "cell_type": "code",
   "execution_count": 43,
   "metadata": {},
   "outputs": [
    {
     "name": "stdout",
     "output_type": "stream",
     "text": [
      "埼京線\n",
      "有楽町線\n",
      "京王線\n",
      "丸ノ内線(池袋-荻窪)\n",
      "常磐線\n",
      "都電荒川線\n",
      "西武池袋線\n",
      "東急東横線\n",
      "都営三田線\n",
      "都営浅草線\n",
      "京成本線\n",
      "千代田線\n",
      "都営大江戸線\n",
      "副都心線\n",
      "都営新宿線\n",
      "日比谷線\n",
      "西武新宿線\n",
      "京葉線(東京-蘇我)\n",
      "京急本線\n",
      "小田急小田原線\n",
      "山手線\n",
      "東西線\n",
      "東急田園都市線\n",
      "京成金町線\n",
      "南北線\n",
      "東急池上線\n",
      "常磐線快速\n",
      "東武スカイツリーライン\n",
      "銀座線\n",
      "つくばエクスプレス\n",
      "東急大井町線\n",
      "総武本線\n",
      "None\n",
      "丸ノ内線(中野坂上-方南町)\n",
      "東急世田谷線\n",
      "総武線・中央線(各停)\n",
      "京王新線\n",
      "京成押上線\n",
      "京王井の頭線\n",
      "京浜東北線\n",
      "東急目黒線\n",
      "ゆりかもめ\n",
      "東武東上線\n",
      "りんかい線\n",
      "日暮里・舎人ライナー\n",
      "東武伊勢崎線(押上-曳舟)\n",
      "中央線(快速)\n",
      "東急多摩川線\n",
      "半蔵門線\n",
      "東武亀戸線\n",
      "北総線\n",
      "東武大師線\n",
      "京急空港線\n",
      "西武有楽町線\n",
      "高崎線\n",
      "東京モノレール羽田線\n",
      "西武豊島線\n",
      "東北本線(宇都宮線)\n",
      "東海道本線\n",
      "横須賀線\n",
      "埼玉高速鉄道線\n",
      "湘南新宿ライン(東北本線-横須賀線)\n",
      "京急大師線\n",
      "三田線\n",
      "京成成田空港線\n",
      "ディズニーリゾートライン\n",
      "東海道新幹線\n",
      "小76/松本橋東詰　6分\n",
      "南武線(川崎-立川)\n"
     ]
    }
   ],
   "source": [
    "print_unique(df[4])"
   ]
  },
  {
   "cell_type": "markdown",
   "metadata": {},
   "source": [
    "### There is an abnormally formatted data at id=33518"
   ]
  },
  {
   "cell_type": "code",
   "execution_count": 44,
   "metadata": {},
   "outputs": [
    {
     "data": {
      "text/html": [
       "<div>\n",
       "<style scoped>\n",
       "    .dataframe tbody tr th:only-of-type {\n",
       "        vertical-align: middle;\n",
       "    }\n",
       "\n",
       "    .dataframe tbody tr th {\n",
       "        vertical-align: top;\n",
       "    }\n",
       "\n",
       "    .dataframe thead th {\n",
       "        text-align: right;\n",
       "    }\n",
       "</style>\n",
       "<table border=\"1\" class=\"dataframe\">\n",
       "  <thead>\n",
       "    <tr style=\"text-align: right;\">\n",
       "      <th></th>\n",
       "      <th>所在地</th>\n",
       "      <th>アクセス</th>\n",
       "      <th>間取り</th>\n",
       "      <th>方角</th>\n",
       "      <th>面積</th>\n",
       "      <th>所在階</th>\n",
       "      <th>バス・トイレ</th>\n",
       "      <th>キッチン</th>\n",
       "      <th>放送・通信</th>\n",
       "      <th>室内設備</th>\n",
       "      <th>...</th>\n",
       "      <th>間取り_数</th>\n",
       "      <th>方角_南</th>\n",
       "      <th>方角_東</th>\n",
       "      <th>方角_西</th>\n",
       "      <th>方角_北</th>\n",
       "      <th>契約期間_定期借家</th>\n",
       "      <th>契約期間_月</th>\n",
       "      <th>所在地_区</th>\n",
       "      <th>アクセス_線_1</th>\n",
       "      <th>アクセス_駅_1</th>\n",
       "    </tr>\n",
       "  </thead>\n",
       "  <tbody>\n",
       "    <tr>\n",
       "      <th>33518</th>\n",
       "      <td>南小岩1丁目</td>\n",
       "      <td>総武線・中央線(各停)\\t小岩駅\\t徒歩22分\\t\\t小76/松本橋東詰　6分</td>\n",
       "      <td>6LDK</td>\n",
       "      <td>NaN</td>\n",
       "      <td>119.18</td>\n",
       "      <td>0</td>\n",
       "      <td>バス・トイレ別/\\tシャワー/\\t追焚機能/\\t温水洗浄便座/\\t洗面台独立</td>\n",
       "      <td>IHコンロ\\t/\\tコンロ3口/\\tシステムキッチン\\t/\\t給湯</td>\n",
       "      <td>光ファイバー</td>\n",
       "      <td>ウォークインクローゼット\\tシューズボックス/\\tバルコニー/\\tルーフバルコニー\\t/\\t...</td>\n",
       "      <td>...</td>\n",
       "      <td>6</td>\n",
       "      <td>NaN</td>\n",
       "      <td>NaN</td>\n",
       "      <td>NaN</td>\n",
       "      <td>NaN</td>\n",
       "      <td>0</td>\n",
       "      <td>24</td>\n",
       "      <td>江戸川</td>\n",
       "      <td>総武線・中央線(各停)</td>\n",
       "      <td>小岩駅</td>\n",
       "    </tr>\n",
       "  </tbody>\n",
       "</table>\n",
       "<p>1 rows × 34 columns</p>\n",
       "</div>"
      ],
      "text/plain": [
       "          所在地                                     アクセス   間取り   方角      面積  \\\n",
       "33518  南小岩1丁目  総武線・中央線(各停)\\t小岩駅\\t徒歩22分\\t\\t小76/松本橋東詰　6分  6LDK  NaN  119.18   \n",
       "\n",
       "       所在階                                  バス・トイレ  \\\n",
       "33518    0  バス・トイレ別/\\tシャワー/\\t追焚機能/\\t温水洗浄便座/\\t洗面台独立   \n",
       "\n",
       "                                    キッチン   放送・通信  \\\n",
       "33518  IHコンロ\\t/\\tコンロ3口/\\tシステムキッチン\\t/\\t給湯  光ファイバー   \n",
       "\n",
       "                                                    室内設備  ... 間取り_数 方角_南 方角_東  \\\n",
       "33518  ウォークインクローゼット\\tシューズボックス/\\tバルコニー/\\tルーフバルコニー\\t/\\t...  ...     6  NaN  NaN   \n",
       "\n",
       "      方角_西  方角_北  契約期間_定期借家  契約期間_月  所在地_区     アクセス_線_1  アクセス_駅_1  \n",
       "33518  NaN   NaN          0      24    江戸川  総武線・中央線(各停)       小岩駅  \n",
       "\n",
       "[1 rows x 34 columns]"
      ]
     },
     "execution_count": 44,
     "metadata": {},
     "output_type": "execute_result"
    }
   ],
   "source": [
    "total_data[df[4].str.contains(\"小76\", regex=False).fillna(False)]"
   ]
  },
  {
   "cell_type": "code",
   "execution_count": 45,
   "metadata": {},
   "outputs": [],
   "source": [
    "# 総武線・中央線(各停)\\t小岩駅\\t徒歩22分"
   ]
  },
  {
   "cell_type": "code",
   "execution_count": 46,
   "metadata": {},
   "outputs": [
    {
     "data": {
      "text/plain": [
       "'小76/松本橋東詰\\u30006分'"
      ]
     },
     "execution_count": 46,
     "metadata": {},
     "output_type": "execute_result"
    }
   ],
   "source": [
    "df[4].iloc[33518]"
   ]
  },
  {
   "cell_type": "code",
   "execution_count": 47,
   "metadata": {},
   "outputs": [],
   "source": [
    "df[4].iloc[33518] = None"
   ]
  },
  {
   "cell_type": "code",
   "execution_count": 48,
   "metadata": {},
   "outputs": [
    {
     "name": "stdout",
     "output_type": "stream",
     "text": [
      "埼京線\n",
      "有楽町線\n",
      "京王線\n",
      "丸ノ内線(池袋-荻窪)\n",
      "常磐線\n",
      "都電荒川線\n",
      "西武池袋線\n",
      "東急東横線\n",
      "都営三田線\n",
      "都営浅草線\n",
      "京成本線\n",
      "千代田線\n",
      "都営大江戸線\n",
      "副都心線\n",
      "都営新宿線\n",
      "日比谷線\n",
      "西武新宿線\n",
      "京葉線(東京-蘇我)\n",
      "京急本線\n",
      "小田急小田原線\n",
      "山手線\n",
      "東西線\n",
      "東急田園都市線\n",
      "京成金町線\n",
      "南北線\n",
      "東急池上線\n",
      "常磐線快速\n",
      "東武スカイツリーライン\n",
      "銀座線\n",
      "つくばエクスプレス\n",
      "東急大井町線\n",
      "総武本線\n",
      "None\n",
      "丸ノ内線(中野坂上-方南町)\n",
      "東急世田谷線\n",
      "総武線・中央線(各停)\n",
      "京王新線\n",
      "京成押上線\n",
      "京王井の頭線\n",
      "京浜東北線\n",
      "東急目黒線\n",
      "ゆりかもめ\n",
      "東武東上線\n",
      "りんかい線\n",
      "日暮里・舎人ライナー\n",
      "東武伊勢崎線(押上-曳舟)\n",
      "中央線(快速)\n",
      "東急多摩川線\n",
      "半蔵門線\n",
      "東武亀戸線\n",
      "北総線\n",
      "東武大師線\n",
      "京急空港線\n",
      "西武有楽町線\n",
      "高崎線\n",
      "東京モノレール羽田線\n",
      "西武豊島線\n",
      "東北本線(宇都宮線)\n",
      "東海道本線\n",
      "横須賀線\n",
      "埼玉高速鉄道線\n",
      "湘南新宿ライン(東北本線-横須賀線)\n",
      "京急大師線\n",
      "三田線\n",
      "京成成田空港線\n",
      "ディズニーリゾートライン\n",
      "東海道新幹線\n",
      "南武線(川崎-立川)\n"
     ]
    }
   ],
   "source": [
    "print_unique(df[4])"
   ]
  },
  {
   "cell_type": "code",
   "execution_count": 49,
   "metadata": {},
   "outputs": [],
   "source": [
    "total_data[\"アクセス_線_2\"] = df[4]"
   ]
  },
  {
   "cell_type": "markdown",
   "metadata": {},
   "source": [
    "## df[5]"
   ]
  },
  {
   "cell_type": "code",
   "execution_count": 50,
   "metadata": {},
   "outputs": [
    {
     "data": {
      "text/plain": [
       "array(['板橋駅', '月島駅', '代田橋駅', '新高円寺駅', '金町(東京都)駅', '三ノ輪橋駅', '保谷駅', '都立大学駅',\n",
       "       '白山(東京都)駅', '新板橋駅', '馬込駅', '江戸川駅', '表参道駅', '南阿佐ケ谷駅', '両国(都営線)駅',\n",
       "       '笹塚駅', '氷川台駅', '船堀駅', '四ツ谷駅', '茅場町駅', '野方駅', '湯島駅', '越中島駅', '平和島駅',\n",
       "       '京成小岩駅', '東長崎駅', '仲御徒町駅', '北綾瀬駅', '一之江駅', '東北沢駅', '目白駅', '西葛西駅',\n",
       "       '用賀駅', '国立競技場駅', 'お花茶屋駅', '石神井公園駅', '荒川一中前駅', '落合南長崎駅', '京成金町駅',\n",
       "       '後楽園駅', '浅草駅', '西馬込駅', '千鳥町駅', '大泉学園駅', '南千住駅', '曳舟駅', '渋谷駅',\n",
       "       '新江古田駅', '西新宿五丁目駅', '千歳烏山駅', '浅草(TX)駅', '駒沢大学駅', '緑が丘(東京都)駅',\n",
       "       '錦糸町駅', '八丁堀(東京都)駅', '馬喰町駅', '本駒込駅', '大森町駅', '祖師ケ谷大蔵駅', None,\n",
       "       '蓮沼駅', '青井駅', '石川台駅', '中野新橋駅', '町屋(東京メトロ)駅', '栄町(東京都)駅', '巣鴨新田駅',\n",
       "       '瑞江駅', '西大島駅', '春日(東京都)駅', '梅島駅', '千駄木駅', '北赤羽駅', '東高円寺駅', '上町駅',\n",
       "       '西ケ原駅', '地下鉄成増駅', '若林(東京都)駅', '広尾駅', '門前仲町駅', '池袋駅', '押上駅', '熊野前駅',\n",
       "       '荻窪駅', '王子駅前駅', '青物横丁駅', '方南町駅', '京成曳舟駅', '水道橋駅', '大島(東京都)駅',\n",
       "       '高井戸駅', '日暮里駅', '六町駅', '乃木坂駅', '青砥駅', '西巣鴨駅', '汐留駅', '要町駅', '上野毛駅',\n",
       "       '板橋区役所前駅', '中野(東京都)駅', '西小山駅', '麻布十番駅', '王子神谷駅', '狛江駅', '新豊洲駅',\n",
       "       '牛田(東京都)駅', '竹ノ塚駅', '京成立石駅', '成増駅', '祐天寺駅', '芦花公園駅', '芝浦ふ頭駅',\n",
       "       '梅屋敷(東京都)駅', '池上駅', '赤羽岩淵駅', '東大島駅', '桜台(東京都)駅', '両国駅', '淡路町駅',\n",
       "       '大崎広小路駅', '成城学園前駅', '北池袋駅', '下板橋駅', '西新井駅', '巣鴨駅', '三軒茶屋駅',\n",
       "       '雪が谷大塚駅', '神楽坂駅', '新大塚駅', '江戸川橋駅', '東雲(東京都)駅', '四谷三丁目駅', '浜田山駅',\n",
       "       '東十条駅', '赤羽駅', '京急蒲田駅', '武蔵小山駅', '池尻大橋駅', '洗足駅', '目黒駅', '新中野駅',\n",
       "       '東日本橋駅', '板橋本町駅', '舎人公園駅', 'とうきょうスカイツリー駅', '東池袋駅', '入谷(東京都)駅',\n",
       "       '練馬春日町駅', '幡ケ谷駅', '白金高輪駅', '戸越銀座駅', '高円寺駅', '鵜の木駅', '田町(東京都)駅',\n",
       "       '仙川駅', '町屋(京成線)駅', '谷在家駅', '鶯谷駅', '阿佐ケ谷駅', '新大久保駅', '練馬高野台駅',\n",
       "       '高田馬場駅', '本蓮沼駅', '中目黒駅', '上石神井駅', '六本木駅', '三河島駅', '西新宿駅', '新井薬師前駅',\n",
       "       '小菅駅', '旗の台駅', '大門(東京都)駅', '上板橋駅', '清澄白河駅', '堀切駅', '和光市駅', '勝どき駅',\n",
       "       '葛西臨海公園駅', '代官山駅', '代々木駅', '大山(東京都)駅', '奥沢駅', '千石駅', '住吉(東京都)駅',\n",
       "       '中板橋駅', '亀戸水神駅', '市ケ谷駅', '上井草駅', '秋葉原駅', '不動前駅', '天王洲アイル駅', '東中野駅',\n",
       "       '上野駅', '葛西駅', '新柴又駅', '東陽町駅', '西永福駅', '大師前駅', '大森海岸駅', '平井(東京都)駅',\n",
       "       '下落合駅', '蒲田駅', '初台駅', '中延駅', '菊川(東京都)駅', '小岩駅', '世田谷駅', '飯田橋駅',\n",
       "       '東武練馬駅', '大崎駅', '五反野駅', '人形町駅', '志村三丁目駅', '中野坂上駅', '上北沢駅', '富士見台駅',\n",
       "       'ひばりケ丘(東京都)駅', '雑色駅', '西太子堂駅', '二子新地駅', '江北駅', '沼袋駅', '白金台駅',\n",
       "       '大森(東京都)駅', '自由が丘駅', '小竹向原駅', '桜上水駅', '都立家政駅', '西荻窪駅', '練馬駅',\n",
       "       '松原(東京都)駅', '六郷土手駅', '森下(東京都)駅', '四ツ木駅', '上中里駅', '尾久駅', '千駄ケ谷駅',\n",
       "       '荏原中延駅', '熊野前(舎人ライナー)駅', '高野(東京都)駅', '綾瀬駅', '長原(東京都)駅', '地下鉄赤塚駅',\n",
       "       '西台駅', '等々力駅', '九品仏駅', '鮫洲駅', '経堂駅', '本郷三丁目駅', '立会川駅', '中井駅',\n",
       "       '恵比寿駅', '代々木上原駅', '篠崎駅', '吉祥寺駅', '戸越駅', '小伝馬町駅', '東松原駅', '茗荷谷駅',\n",
       "       '大井町駅', '荒川遊園地前駅', '新高島平駅', '田端駅', '浅草橋駅', '豪徳寺駅', '学芸大学駅',\n",
       "       '西日暮里駅', '豊島園(都営線)駅', '鷺ノ宮駅', '大鳥居駅', '馬喰横山駅', '浜町駅', '浮間舟渡駅',\n",
       "       '下高井戸駅', '下丸子駅', '信濃町駅', '明大前駅', '岩本町駅', '麹町駅', '赤羽橋駅', '王子駅',\n",
       "       '駒込駅', '桜新町駅', '本所吾妻橋駅', '志村坂上駅', '落合(東京都)駅', '荏原町駅', '喜多見駅',\n",
       "       '武蔵新田駅', '武蔵関駅', '三田(東京都)駅', '亀戸駅', '外苑前駅', '五反田駅', '豊洲駅',\n",
       "       '西新井大師西駅', '東あずま駅', '亀有駅', '千住大橋駅', '赤坂(東京都)駅', '千川駅', '浦安(千葉県)駅',\n",
       "       '東向島駅', '十条(東京都)駅', '富士見ケ丘駅', '高輪台駅', '品川シーサイド駅', '東伏見駅', '三ノ輪駅',\n",
       "       '若松河田駅', '新宿駅', '下神明駅', '三鷹台駅', '松陰神社前駅', '池ノ上駅', '江古田駅',\n",
       "       '稲荷町(東京都)駅', '北千束駅', '平和台(東京都)駅', '町屋二丁目駅', '御茶ノ水駅', '新代田駅',\n",
       "       '代々木八幡駅', '八広駅', '下北沢駅', '西高島平駅', '椎名町駅', '水天宮前駅', '大久保(東京都)駅',\n",
       "       '中野富士見町駅', '新富町(東京都)駅', '久我山駅', '谷塚駅', '永福町駅', '宝町(東京都)駅', '都庁前駅',\n",
       "       '神泉駅', '糀谷駅', '木場(東京都)駅', 'ときわ台(東京都)駅', '品川駅', '雑司が谷駅', '二子玉川駅',\n",
       "       '八幡山駅', '御成門駅', '下井草駅', '宮の坂駅', '新小岩駅', '東新宿駅', '駒場東大前駅', '高島平駅',\n",
       "       '井荻駅', '早稲田(東京メトロ)駅', '宮ノ前駅', '溜池山王駅', '辰巳駅', '洗足池駅', '赤土小学校前駅',\n",
       "       '牛込神楽坂駅', '豊島園(西武線)駅', '新日本橋駅', '神谷町駅', '蔵前駅', '護国寺駅', '新御徒町駅',\n",
       "       '下赤塚駅', '光が丘駅', '御嶽山駅', '京成高砂駅', '築地駅', '青山一丁目駅', '見沼代親水公園駅',\n",
       "       '世田谷代田駅', '曙橋駅', '穴守稲荷駅', '大塚(東京都)駅', '田園調布駅', '久が原駅', '京急川崎駅',\n",
       "       '東大前駅', '新桜台駅', '都電雑司ケ谷駅', '蓮根駅', '潮見駅', '小村井駅', '内幸町駅', '東尾久三丁目駅',\n",
       "       '新宿御苑前駅', '志茂駅', '泉岳寺駅', '代々木公園駅', '北品川駅', '柴又駅', '西日暮里(舎人ライナー)駅',\n",
       "       '永田町駅', '梅ケ丘駅', '北千住駅', '上野広小路駅', '扇大橋駅', '天空橋駅', '矢口渡駅', '多摩川駅',\n",
       "       '京橋(東京都)駅', '新御茶ノ水駅', '神田(東京都)駅', '中村橋駅', '西武新宿駅', '新三河島駅',\n",
       "       '堀切菖蒲園駅', '西大井駅', '新橋駅', '浜松町駅', '西早稲田駅', '八潮駅', '末広町(東京都)駅',\n",
       "       '舎人駅', '参宮橋駅', '大岡山駅', '国際展示場駅', '六本木一丁目駅', '田原町(東京都)駅', '千歳船橋駅',\n",
       "       '牛込柳町駅', '日本橋(東京都)駅', '御徒町駅', '東京テレポート駅', '芝公園駅', '原宿駅', '神保町駅',\n",
       "       '南砂町駅', '赤坂見附駅', '鐘ケ淵駅', '京成関屋駅', '東京駅', '南新宿駅', '東銀座駅', '新宿三丁目駅',\n",
       "       '根津駅', '大塚駅前駅', '朝霞駅', '梶原駅', '九段下駅', '整備場駅', '築地市場駅', '荒川区役所前駅',\n",
       "       '戸越公園駅', '小台駅', '面影橋駅', '小川町(東京都)駅', '沼部駅', '西ケ原四丁目駅', '新庚申塚駅',\n",
       "       '北参道駅', '市川駅', '竹橋駅', '三越前駅', '新木場駅', '新馬場駅', '鬼子母神前駅',\n",
       "       '日の出(東京都)駅', '井の頭公園駅', '明治神宮前駅', '尾山台駅', '荒川七丁目駅', '京成上野駅', '国府台駅',\n",
       "       '虎ノ門駅', '昭和島駅', '山下(東京都)駅', '銀座駅', '大手町(東京都)駅', 'お台場海浜公園駅', '妙典駅',\n",
       "       '町屋駅前駅', '半蔵門駅', '向原(東京都)駅', '荒川車庫前駅', '庚申塚駅', '早稲田(都電荒川線)駅',\n",
       "       '有明テニスの森駅', 'つつじケ丘駅', '竹芝駅', '松戸駅', '港町駅', '三田(兵庫県)駅', '滝野川一丁目駅',\n",
       "       '足立小台駅', '東池袋四丁目駅', '飛鳥山駅', '上野御徒町駅', '大井競馬場前駅', '川崎駅', '銀座一丁目駅',\n",
       "       '東京ディズニーランド・ステーション駅', '国会議事堂前駅', '学習院下駅', '産業道路駅', '霞ケ関(東京都)駅',\n",
       "       '舞浜駅', '鈴木町駅', '有楽町駅', '南行徳駅', '日暮里(舎人ライナー)駅', '川口駅', '新宿西口駅',\n",
       "       '和泉多摩川駅', '鹿島田駅'], dtype=object)"
      ]
     },
     "execution_count": 50,
     "metadata": {},
     "output_type": "execute_result"
    }
   ],
   "source": [
    "df[5].unique()"
   ]
  },
  {
   "cell_type": "code",
   "execution_count": 51,
   "metadata": {},
   "outputs": [
    {
     "data": {
      "text/plain": [
       "0"
      ]
     },
     "execution_count": 51,
     "metadata": {},
     "output_type": "execute_result"
    }
   ],
   "source": [
    "df[5].str.contains(\"徒歩\", regex=False).sum()"
   ]
  },
  {
   "cell_type": "code",
   "execution_count": 52,
   "metadata": {},
   "outputs": [],
   "source": [
    "total_data[\"アクセス_駅_2\"] = df[5]"
   ]
  },
  {
   "cell_type": "markdown",
   "metadata": {},
   "source": [
    "# df[6]"
   ]
  },
  {
   "cell_type": "code",
   "execution_count": 53,
   "metadata": {},
   "outputs": [
    {
     "data": {
      "text/plain": [
       "774"
      ]
     },
     "execution_count": 53,
     "metadata": {},
     "output_type": "execute_result"
    }
   ],
   "source": [
    "df[6].nunique()"
   ]
  },
  {
   "cell_type": "code",
   "execution_count": 54,
   "metadata": {},
   "outputs": [
    {
     "data": {
      "text/plain": [
       "array(['徒歩14分', '徒歩9分', '徒歩7分', '徒歩3分', '徒歩10分', '徒歩25分', '徒歩16分', '徒歩4分',\n",
       "       '徒歩11分', '徒歩12分', '徒歩21分', '徒歩30分', '徒歩6分', '徒歩15分', '徒歩23分',\n",
       "       '徒歩8分', '徒歩18分', '徒歩2分', '徒歩20分', '徒歩19分', '徒歩13分', '徒歩5分', None,\n",
       "       '徒歩28分', '徒歩24分', '徒歩17分', '/バス(20分)都民農園下車徒歩1分',\n",
       "       '/バス(17分)長久保下車徒歩2分', '/バス(10分)東葛西八丁目下車徒歩34分',\n",
       "       '/バス(10分)最寄りのバス停下車徒歩14分', '徒歩22分', '/バス(7分)三軒寺下車徒歩1分',\n",
       "       '車5.2km(18分)', '徒歩31分', '徒歩26分', '徒歩27分', '/バス(5分)大泉北中学校入口下車徒歩7分',\n",
       "       '/バス(15分)足立車検場下車徒歩2分', '徒歩1分', '徒歩42分', '/バス(15分)東小岩一丁目下車徒歩2分',\n",
       "       '/バス(27分)石神井郵便局停留所下車徒歩7分', '/バス(15分)谷中中入口下車徒歩3分', '徒歩70分', '徒歩36分',\n",
       "       '/バス(16分)土支田二丁目下車徒歩5分', '/バス(7分)上祖師谷4丁目下車徒歩2分', '徒歩37分',\n",
       "       '/バス(10分)本州製紙裏門下車徒歩2分', '/バス(19分)新小岩1丁目下車徒歩8分', '徒歩33分',\n",
       "       '/バス(18分)比丘尼橋下車徒歩3分', '/バス(5分)日産自動車前下車徒歩4分', '/バス(10分)中央図書館下車徒歩3分',\n",
       "       '/バス(15分)大谷田下車徒歩2分', '徒歩29分', '/バス(4分)善福寺下車徒歩1分',\n",
       "       '/バス(12分)谷原二丁目下車徒歩16分', '/バス(10分)鹿本橋下車徒歩6分', '徒歩32分',\n",
       "       '/バス(13分)水元そよかぜ園下車徒歩1分', '/バス(15分)鹿骨五丁目下車徒歩7分',\n",
       "       '/バス(21分)滋雲堂前下車徒歩1分', '/バス(7分)高円寺駅北口下車徒歩6分',\n",
       "       '/バス(12分)新小51\\u3000東上平井下車徒歩1分', '/バス(15分)東武バス\\u3000西新井駅西口下車徒歩5分',\n",
       "       '/バス(20分)越後山下車徒歩4分', '/バス(27分)第五上石神井住宅下車徒歩6分', '徒歩38分',\n",
       "       '/バス(20分)辰沼団地入口下車徒歩3分', '徒歩35分', '車3.1km(9分)',\n",
       "       '/バス(10分)区立八中下車徒歩2分', '/バス(13分)新蒲田三丁目下車徒歩3分', '徒歩55分',\n",
       "       '/バス(15分)佐野センター前下車徒歩2分', '/バス(25分)関町北町学校下車徒歩8分',\n",
       "       '/バス(15分)都営住宅下車徒歩1分', '徒歩41分', '/バス(21分)新島橋下車徒歩3分',\n",
       "       '/バス(27分)西長久保(バス)下車徒歩1分', '/バス(13分)瑞江斎場下車徒歩20分',\n",
       "       '/バス(28分)西武車庫前下車徒歩1分', '/バス(18分)北出張所下車徒歩2分', '/バス(12分)永安寺下車徒歩6分',\n",
       "       '/バス(18分)武蔵関駅前下車徒歩4分', '徒歩45分', '/バス(12分)葛西駅下車徒歩21分',\n",
       "       '/バス(8分)南葛西第二小学校前下車徒歩1分', '/バス(18分)幸田小学校下車徒歩3分',\n",
       "       '/バス(15分)関原2丁目下車徒歩3分', '/バス(22分)小関下車徒歩9分', '/バス(26分)小関下車徒歩4分',\n",
       "       '/バス(27分)入谷新道(バス)下車徒歩15分', '/バス(35分)東映撮影所前(バス)下車徒歩14分',\n",
       "       '/バス(18分)樫の木公園前下車徒歩6分', '/バス(15分)水元そよかぜ園下車徒歩2分',\n",
       "       '/バス(31分)長久保(東京都)下車徒歩2分', '/バス(15分)ハートアイランド南下車徒歩2分',\n",
       "       '/バス(17分)関町北1丁目下車徒歩3分', '/バス(26分)小関下車徒歩5分', '/バス(19分)花畑3町目下車徒歩6分',\n",
       "       '/バス(20分)岡本3丁目下車徒歩6分', '/バス(18分)江北一丁目下車徒歩8分',\n",
       "       '/バス(21分)関町北小学校下車徒歩8分', '/バス(12分)永安寺前下車徒歩6分', '徒歩34分',\n",
       "       '/バス(19分)下井草二丁目下車徒歩2分', '/バス(8分)国立西が丘競技場北門下車徒歩2分',\n",
       "       '/バス(20分)青梅街道営業所下車徒歩9分', '/バス(12分)松の木下車徒歩6分',\n",
       "       '/バス(12分)水元2丁目下車徒歩2分', '/バス(10分)千住車庫前下車徒歩10分', '/バス(7分)水元中下車徒歩1分',\n",
       "       '/バス(10分)京成バス\\u3000大杉3丁目下車徒歩1分', '/バス(10分)次大夫堀公園下車徒歩7分',\n",
       "       '/バス(11分)土支田二丁目下車徒歩6分', '/バス(15分)天沼マーケット前下車徒歩6分',\n",
       "       '/バス(10分)北出張所下車徒歩3分', '/バス(15分)ハートアイランド南下車徒歩1分',\n",
       "       '/バス(14分)西水元2丁目下車徒歩2分', '/バス(13分)品川シーサイド駅前下車徒歩3分', '徒歩44分',\n",
       "       '/バス(6分)野毛二丁目下車徒歩4分', '/バス(2分)半田稲荷前下車徒歩17分', '車4.6km(17分)',\n",
       "       '/バス(15分)足立総合スポーツセンター前下車徒歩3分', '/バス(18分)北糀谷下車徒歩3分',\n",
       "       '/バス(13分)水元3丁目下車徒歩1分', '/バス(15分)西新井駅西口下車徒歩5分',\n",
       "       '/バス(17分)関町北一丁目下車徒歩1分', '/バス(9分)ハートアイランド南下車徒歩2分',\n",
       "       '/バス(19分)住宅前下車徒歩3分', '/バス(16分)本郷花街道下車徒歩2分', '/バス(12分)加平2丁目下車徒歩5分',\n",
       "       '/バス(10分)保木間一丁目下車徒歩7分', '車3.1km(14分)', '/バス(15分)六木小学校下車徒歩5分',\n",
       "       '/バス(9分)東小松川一丁目下車徒歩7分', '/バス(29分)上石神井イ中学校入口下車徒歩13分',\n",
       "       '/バス(24分)水元特別支援学校前下車徒歩14分', '/バス(21分)鎌田下車徒歩4分',\n",
       "       '/バス(10分)恵32\\u3000五本木下車徒歩4分', '/バス(17分)都民農園下車徒歩2分',\n",
       "       '/バス(14分)中図師下車徒歩4分', '/バス(20分)都民農園下車徒歩3分', '/バス(9分)菅原橋下車徒歩10分',\n",
       "       '/バス(13分)中郷下車徒歩3分', '/バス(15分)NTT技研前下車徒歩4分',\n",
       "       '/バス(17分)小松川警察署前下車徒歩6分', '/バス(30分)駅下車徒歩5分', '/バス(13分)久保新田下車徒歩2分',\n",
       "       '/バス(12分)水元四丁目下車徒歩3分', '/バス(7分)飯塚橋下車徒歩37分', '車2.48km(7分)', '徒歩74分',\n",
       "       '車3.6km(15分)', '/バス(20分)新広橋下車徒歩3分', '/バス(16分)扇2丁目下車徒歩3分',\n",
       "       '/バス(10分)東武バス\\u3000四ッ家町下車徒歩5分', '/バス(9分)仲町西組下車徒歩3分',\n",
       "       '/バス(12分)都バス\\u3000弥生町下車徒歩2分', '/バス(12分)本木2丁目下車徒歩4分',\n",
       "       '/バス(12分)鹿骨五丁目下車徒歩4分', '/バス(17分)足立郷土博物館下車徒歩4分',\n",
       "       '/バス(25分)瑞江斎場下車徒歩3分', '徒歩43分', '/バス(21分)名主屋敷下車徒歩4分',\n",
       "       '/バス(18分)関町北四丁目下車徒歩4分', '徒歩39分', '/バス(13分)野方三丁目下車徒歩1分',\n",
       "       '/バス(20分)有27\\u3000西水元二下車徒歩3分', '/バス(15分)谷中3丁目下車徒歩1分',\n",
       "       '/バス(5分)千歳台4丁目下車徒歩1分', '/バス(20分)上石神井駅前下車徒歩4分',\n",
       "       '/バス(21分)船堀駅前下車徒歩15分', '/バス(20分)保木間町下車徒歩1分', '/バス(6分)光が丘六丁目下車徒歩7分',\n",
       "       '徒歩48分', '/バス(14分)砧本村下車徒歩10分', '/バス(18分)ハートアイランド西(バス)下車徒歩1分',\n",
       "       '/バス(11分)新田3丁目下車徒歩2分', '/バス(15分)谷中三丁目下車徒歩1分',\n",
       "       '/バス(10分)五丁目住宅下車徒歩3分', '/バス(19分)大泉風致地区下車徒歩1分',\n",
       "       '/バス(13分)佐野二丁目下車徒歩3分', '/バス(15分)六木小学校前下車徒歩1分',\n",
       "       '/バス(10分)足立郷土博物館下車徒歩3分', '徒歩65分', '車2.8km(5分)',\n",
       "       '/バス(36分)六ツ木団地下車徒歩4分', '/バス(60分)北出張所下車徒歩3分', '/バス(38分)長久保下車徒歩9分',\n",
       "       '/バス(33分)保谷駅南口下車徒歩10分', '/バス(13分)幸町:国際興業バス下車徒歩2分',\n",
       "       '/バス(16分)大森東5丁目下車徒歩2分', '/バス(30分)新小岩駅前下車徒歩7分',\n",
       "       '/バス(15分)江戸川区役所前下車徒歩7分', '/バス(6分)大杉第二小学校下車徒歩9分',\n",
       "       '/バス(11分)代沢1丁目下車徒歩2分', '/バス(11分)石神井団地入口下車徒歩5分',\n",
       "       '/バス(17分)公園橋下車徒歩2分', '/バス(28分)大泉学園駅南口下車徒歩6分', '/バス(11分)二丁目西下車徒歩4分',\n",
       "       '/バス(40分)都バス\\u3000ドナウ通り下車徒歩2分', '徒歩63分', '/バス(36分)高松五丁目下車徒歩5分',\n",
       "       '/バス(27分)西村下車徒歩10分', '/バス(13分)品川シーサイド駅前下車徒歩1分',\n",
       "       '/バス(17分)関町北一丁目下車徒歩18分', '車5.9km(17分)', '/バス(15分)鹿骨3丁目下車徒歩5分',\n",
       "       '徒歩156分', '/バス(15分)花畑団地停下車徒歩8分', '/バス(15分)長久保下車徒歩1分',\n",
       "       '/バス(21分)新小岩駅前下車徒歩2分', '/バス(20分)いこいの家入口下車徒歩7分',\n",
       "       '/バス(8分)大井第一小学校下車徒歩7分', '/バス(15分)西長久保下車徒歩2分', '/バス(12分)西長久保下車徒歩3分',\n",
       "       '/バス(22分)下目黒五丁目下車徒歩1分', '徒歩47分', '/バス(11分)代沢一丁目下車徒歩6分',\n",
       "       '/バス(15分)関町北四丁目下車徒歩3分', '/バス(15分)神明町下車徒歩2分',\n",
       "       '/バス(10分)南葛西中学校前下車徒歩1分', '/バス(12分)舎人二ツ橋下車徒歩4分',\n",
       "       '/バス(11分)学芸大学駅下車徒歩3分', '徒歩40分', '/バス(22分)住宅前下車徒歩6分',\n",
       "       '/バス(40分)都営バス\\u3000ドナウ通り下車徒歩2分', '/バス(25分)篠崎駅下車徒歩2分',\n",
       "       '/バス(11分)菊池外科胃腸科下車徒歩3分', '/バス(20分)大泉北中学校入口下車徒歩11分',\n",
       "       '/バス(20分)武蔵関駅下車徒歩3分', '/バス(10分)水元4丁目下車徒歩3分',\n",
       "       '/バス(10分)東武バス\\u3000四ツ家町下車徒歩7分', '/バス(15分)一ツ家一丁目下車徒歩1分',\n",
       "       '/バス(17分)高松5丁目下車徒歩5分', '/バス(4分)東新小岩三丁目下車徒歩7分', '車4.3km(12分)',\n",
       "       '/バス(17分)江戸川高校前下車徒歩7分', '徒歩78分', '/バス(24分)関町北四丁目下車徒歩3分',\n",
       "       '/バス(30分)北園(バス)下車徒歩4分', '/バス(15分)花畑交番前下車徒歩3分',\n",
       "       '/バス(21分)篠崎2丁目下車徒歩2分', '/バス(11分)EXシアター六本木前下車徒歩9分',\n",
       "       '/バス(15分)武蔵関駅入口下車徒歩6分', '/バス(19分)西水元二丁目下車徒歩2分',\n",
       "       '/バス(18分)高松大門通り下車徒歩2分', '/バス(6分)総合レクリエーション公園前下車徒歩12分',\n",
       "       '/バス(12分)清水公園入口下車徒歩2分', '/バス(20分)京葉交差点下車徒歩3分',\n",
       "       '/バス(15分)江戸川高校前下車徒歩5分', '/バス(26分)小関下車徒歩18分', '/バス(10分)永安寺下車徒歩8分',\n",
       "       '/バス(5分)三軒寺下車徒歩3分', '/バス(25分)江戸川高校前下車徒歩8分', '/バス(20分)枝川2丁目下車徒歩13分',\n",
       "       '/バス(6分)総合荻窪病院下車徒歩1分', '/バス(17分)長久保下車徒歩5分', '/バス(9分)京葉交差点下車徒歩1分',\n",
       "       '/バス(21分)大泉郵便局下車徒歩3分', '/バス(8分)南小岩二下車徒歩29分', '/バス(10分)花畑4丁目下車徒歩8分',\n",
       "       '/バス(14分)井草中学校下車徒歩1分', '/バス(13分)下馬営業所下車徒歩2分',\n",
       "       '/バス(11分)清新ふたば小学校前下車徒歩4分', '/バス(10分)善福寺郵便局下車徒歩2分',\n",
       "       '/バス(14分)砧本村停下車徒歩10分', '/バス(7分)杉並5小前下車徒歩7分',\n",
       "       '/バス(5分)西武車庫前[練馬区]下車徒歩8分', '/バス(19分)三園一丁目中央下車徒歩12分',\n",
       "       '/バス(19分)久保新田(東京都)下車徒歩2分', '/バス(12分)武蔵関駅下車徒歩2分', '車2.78km(7分)',\n",
       "       '/バス(30分)都民農園下車徒歩6分', '/バス(14分)土支田二丁目下車徒歩8分',\n",
       "       '/バス(16分)鹿骨一丁目下車徒歩2分', '/バス(25分)松江第一中前下車徒歩4分', '徒歩75分',\n",
       "       '/バス(17分)下石神井坂下下車徒歩2分', '/バス(24分)南小岩二丁目下車徒歩4分',\n",
       "       '/バス(41分)三原台一丁目下車徒歩2分', '/バス(14分)西水元一丁目下車徒歩1分', '/バス(9分)廻沢下車徒歩5分',\n",
       "       '/バス(21分)大泉町四丁目下車徒歩5分', '/バス(20分)水道端下車徒歩5分',\n",
       "       '/バス(16分)小松川三丁目下車徒歩6分', '/バス(22分)住宅前[練馬区]下車徒歩3分',\n",
       "       '/バス(11分)学芸付属中学校下車徒歩3分', '/バス(17分)西荻窪駅下車徒歩4分',\n",
       "       '/バス(15分)都民住宅下車徒歩2分', '/バス(25分)松江中下車徒歩4分', '/バス(10分)都民農園下車徒歩10分',\n",
       "       '/バス(20分)北糀谷下車徒歩3分', '/バス(25分)大泉郵便局下車徒歩2分', '車3.5km(10分)',\n",
       "       '/バス(10分)鎌田下車徒歩5分', '/バス(15分)関町北小学校下車徒歩6分', '/バス(20分)法林寺下車徒歩2分',\n",
       "       '/バス(24分)西武車庫前下車徒歩21分', '/バス(4分)目白5丁目下車徒歩4分',\n",
       "       '/バス(12分)小松川警察署前下車徒歩12分', '/バス(5分)堀江団地下車徒歩4分',\n",
       "       '/バス(19分)松江第一中学校前下車徒歩4分', '/バス(10分)生活実習所前下車徒歩3分',\n",
       "       '/バス(18分)大泉風致地区下車徒歩2分', '/バス(14分)上篠崎下車徒歩4分',\n",
       "       '/バス(15分)武蔵関駅入口下車徒歩1分', '/バス(15分)花畑団地下車徒歩5分',\n",
       "       '/バス(21分)保木間1丁目下車徒歩8分', '/バス(10分)農芸高校前下車徒歩2分',\n",
       "       '/バス(25分)北園(東京都)下車徒歩5分', '徒歩52分', '/バス(12分)飯塚橋下車徒歩2分',\n",
       "       '/バス(20分)小岩警察・区民館下車徒歩2分', '/バス(12分)葛西駅下車徒歩41分',\n",
       "       '/バス(15分)新広場下車徒歩2分', '/バス(33分)東武区民間入口下車徒歩2分', '/バス(15分)水元高校下車徒歩2分',\n",
       "       '車3.2km(9分)', '/バス(24分)南篠崎3丁目下車徒歩5分', '/バス(8分)公園前下車徒歩7分',\n",
       "       '/バス(15分)花畑団地下車徒歩10分', '/バス(12分)成城四番下車徒歩4分', '/バス(25分)加賀1丁目下車徒歩2分',\n",
       "       '/バス(18分)松本小学校下車徒歩1分', '車7.3km(25分)', '/バス(18分)小岩駅下車徒歩2分',\n",
       "       '/バス(25分)中郷下車徒歩4分', '/バス(16分)小72\\u3000ポニーランド下車徒歩3分',\n",
       "       '/バス(18分)都営住宅下車徒歩2分', '/バス(9分)上鎌田下車徒歩7分', '/バス(25分)住宅前(練馬区)下車徒歩3分',\n",
       "       '徒歩62分', '/バス(15分)関町南三丁目下車徒歩1分', '/バス(15分)税務署前下車徒歩5分',\n",
       "       '/バス(17分)松本弁天下車徒歩4分', '/バス(15分)大谷田1丁目下車徒歩8分',\n",
       "       '/バス(3分)江戸川高校前下車徒歩6分', '/バス(15分)北大泉下車徒歩5分',\n",
       "       '/バス(9分)都バス\\u3000ハートアイランド南下車徒歩2分', '/バス(10分)雪見橋南詰下車徒歩1分',\n",
       "       '/バス(52分)学園橋下車徒歩2分', '/バス(1分)千住車庫前下車徒歩9分', '/バス(11分)臼田坂下下車徒歩1分',\n",
       "       '/バス(3分)鹿浜三丁目下車徒歩12分', '/バス(15分)総合レクリエーション公園下車徒歩11分',\n",
       "       '/バス(14分)関町北4丁目下車徒歩3分', '/バス(15分)鹿本中学校下車徒歩10分',\n",
       "       '/バス(23分)和光市南下車徒歩5分', '/バス(15分)大泉町4丁目下車徒歩5分', '/バス(21分)今井下車徒歩2分',\n",
       "       '/バス(15分)石神井高校前下車徒歩1分', '/バス(20分)新田下車徒歩12分', '/バス(13分)長久保下車徒歩5分',\n",
       "       '/バス(20分)ときわ橋下車徒歩1分', '/バス(13分)東武バス\\u3000ハートランド南下車徒歩1分',\n",
       "       '/バス(12分)下井草5丁目下車徒歩3分', '/バス(6分)谷原中学校下車徒歩1分',\n",
       "       '/バス(23分)西水元一丁目下車徒歩2分', '/バス(15分)都営バス\\u3000NTT江戸川支店前下車徒歩4分',\n",
       "       '/バス(13分)大泉町2丁目下車徒歩8分', '/バス(20分)岡本三丁目下車徒歩3分',\n",
       "       '/バス(20分)辰沼団地入口下車徒歩1分', '/バス(15分)佐野センター下車徒歩1分',\n",
       "       '/バス(26分)亀有駅下車徒歩12分', '/バス(12分)辰沼小学校入口下車徒歩2分',\n",
       "       '/バス(10分)谷中三郵便局前下車徒歩3分', '/バス(14分)東小松川二丁目下車徒歩1分',\n",
       "       '/バス(12分)野方駅北口下車徒歩1分', '/バス(14分)東武バス\\u3000六町駅下車徒歩2分',\n",
       "       '/バス(15分)大谷田5丁目下車徒歩1分', '/バス(20分)大谷田四丁目下車徒歩1分',\n",
       "       '/バス(15分)六町駅入口下車徒歩10分', '/バス(10分)船堀小学校前下車徒歩4分',\n",
       "       '/バス(3分)小松中下車徒歩20分', '車2.8km(10分)', '/バス(6分)総合レクリエーション前下車徒歩24分',\n",
       "       '/バス(6分)等々力7丁目下車徒歩3分', '/バス(17分)ハートアイランド東下車徒歩2分',\n",
       "       '/バス(21分)住宅前下車徒歩8分', '/バス(22分)大泉学園町四丁目下車徒歩4分',\n",
       "       '/バス(55分)長久保(東京都)下車徒歩5分', '/バス(6分)南葛西小学校前下車徒歩4分',\n",
       "       '/バス(6分)土支田交番下車徒歩3分', '/バス(29分)入谷三丁目下車徒歩6分',\n",
       "       '/バス(10分)三原台中学校下車徒歩3分', '/バス(8分)雪見橋下車徒歩3分',\n",
       "       '/バス(35分)中丸小学校下車下車徒歩1分', '/バス(15分)新田3丁目下車徒歩3分',\n",
       "       '/バス(27分)葛飾区役所下車徒歩10分', '/バス(17分)長久保下車徒歩3分', '/バス(15分)鷺ノ宮駅下車徒歩4分',\n",
       "       '/バス(32分)大泉郵便局下車徒歩5分', '/バス(9分)北加平下車徒歩5分', '/バス(9分)巽橋下車徒歩8分',\n",
       "       '/バス(7分)菅原橋下車徒歩4分', '/バス(10分)都営\\u3000弥生町下車徒歩2分',\n",
       "       '/バス(15分)西一之江二丁目下車徒歩5分', '/バス(20分)東武バス\\u3000西新井陸橋下車徒歩2分',\n",
       "       '/バス(18分)土支田八幡下車徒歩5分', '/バス(18分)江北陸橋下下車徒歩2分',\n",
       "       '/バス(12分)田柄三丁目下車徒歩3分', '/バス(7分)光が丘六丁目下車徒歩6分', '/バス(8分)西台1丁目下車徒歩2分',\n",
       "       '/バス(6分)関町南二丁目下車徒歩3分', '/バス(15分)水元5丁目下車徒歩4分', '車3.9km(13分)',\n",
       "       '/バス(19分)新小岩駅前下車徒歩4分', '/バス(15分)浮間舟渡駅行\\u3000浮間舟渡駅下車徒歩6分',\n",
       "       '/バス(35分)桑川町下車徒歩7分', '/バス(27分)石神井団地入口下車徒歩3分', '車2.58km(7分)',\n",
       "       '/バス(15分)松江第一中学校前下車徒歩5分', '/バス(15分)名主屋敷下車徒歩4分',\n",
       "       '/バス(14分)大杉第二小学校下車徒歩8分', '/バス(15分)宇奈根地区会館下車徒歩1分',\n",
       "       '/バス(15分)興野公団住宅下車徒歩2分', '/バス(13分)宇奈根地区会館下車徒歩3分',\n",
       "       '/バス(20分)大泉郵便局下車徒歩3分', '/バス(15分)興本センター前下車徒歩3分',\n",
       "       '/バス(10分)大泉町4丁目下車徒歩4分', '/バス(15分)光が丘南口入口下車徒歩9分',\n",
       "       '/バス(16分)大泉風致地区下車徒歩7分', '/バス(23分)新小岩駅前下車徒歩3分',\n",
       "       '/バス(11分)水元神社前下車徒歩2分', '/バス(15分)鹿骨下車徒歩3分', '/バス(21分)大泉郵便局下車徒歩2分',\n",
       "       '/バス(6分)次大夫堀公園下車徒歩6分', '/バス(9分)越後山下車徒歩6分', '/バス(15分)水元小学校下車徒歩3分',\n",
       "       '/バス(15分)喜多見小学校前下車徒歩4分', '/バス(13分)大泉町二丁目下車徒歩7分', '徒歩58分',\n",
       "       '/バス(22分)武蔵関駅入口下車徒歩2分', '/バス(24分)枝川二丁目下車徒歩18分',\n",
       "       '/バス(13分)小豆沢二丁目下車徒歩2分', '/バス(6分)東武バス下車徒歩13分', '/バス(23分)水道端下車徒歩6分',\n",
       "       '/バス(18分)鹿骨五丁目下車徒歩7分', '/バス(10分)三ッ塚下車徒歩1分', '/バス(8分)下井草郵便局下車徒歩16分',\n",
       "       '/バス(12分)善福寺郵便局前下車徒歩2分', '/バス(15分)仲町東組下車徒歩1分',\n",
       "       '/バス(17分)萩中公園前下車徒歩5分', '/バス(20分)大泉学園駅南口下車徒歩5分',\n",
       "       '/バス(40分)谷原中学校前下車徒歩5分', '/バス(20分)上池上下車徒歩5分',\n",
       "       '/バス(13分)練高01\\u3000光が丘六下車徒歩5分', '/バス(20分)関町北一丁目下車徒歩2分',\n",
       "       '/バス(14分)東陽町駅前下車徒歩5分', '/バス(19分)住宅前下車徒歩7分',\n",
       "       '/バス(11分)宇奈根ハンカチ公園下車徒歩7分', '/バス(15分)本木小学校前下車徒歩3分',\n",
       "       '/バス(15分)西水元2丁目下車徒歩2分', '/バス(25分)司法研修所(バス)下車徒歩10分',\n",
       "       '/バス(10分)谷中5丁目下車徒歩3分', '/バス(9分)ふれあいの家下車', '徒歩113分',\n",
       "       '/バス(10分)鹿浜3丁目下車徒歩4分', '/バス(20分)土支田二丁目下車徒歩7分',\n",
       "       '/バス(24分)西武車庫前下車徒歩4分', '/バス(23分)水道端下車徒歩4分', '/バス(18分)六の橋下車徒歩5分',\n",
       "       '車6.4km(22分)', '/バス(20分)椿2丁目下車徒歩1分', '/バス(10分)廻沢下車徒歩4分',\n",
       "       '/バス(33分)学園橋下車徒歩4分', '/バス(21分)大泉郵便局下車徒歩9分',\n",
       "       '/バス(28分)新町商店街入り口下車徒歩7分', '/バス(8分)土支田1丁目下車徒歩2分',\n",
       "       '/バス(20分)花畑団地下車徒歩7分', '/バス(14分)東武バス\\u3000興本センター前下車徒歩3分',\n",
       "       '/バス(16分)水道端下車徒歩2分', '/バス(11分)宝性寺下車徒歩1分', '/バス(25分)関町北小学校下車徒歩2分',\n",
       "       '/バス(13分)NTT江戸川支店前下車徒歩3分', '車3.3km(12分)', '車3.6km(11分)',\n",
       "       '/バス(24分)水元総合スポーツセンター下車徒歩6分', '/バス(14分)砧本村下車徒歩14分',\n",
       "       '/バス(2分)南葛西中学校前下車徒歩2分', '/バス(21分)亀有二丁目東下車徒歩10分',\n",
       "       '/バス(12分)宇奈根1丁目下車徒歩3分', '/バス(20分)竹の塚駅東口下車徒歩2分',\n",
       "       '/バス(8分)光が丘団地下車徒歩12分', '/バス(12分)越後山下車徒歩5分', '/バス(28分)富士街道下車徒歩2分',\n",
       "       '/バス(19分)都営住宅下車徒歩5分', '/バス(18分)篠崎駅下車徒歩4分', '/バス(19分)東六郷三丁目下車徒歩2分',\n",
       "       '/バス(20分)六木4丁目下車徒歩2分', '徒歩69分', '徒歩46分', '車4.1km(8分)',\n",
       "       '/バス(23分)高松五丁目下車徒歩5分', '徒歩68分', '/バス(21分)大泉郵便局下車徒歩4分',\n",
       "       '/バス(13分)関町南二丁目下車徒歩23分', '/バス(10分)二軒新田下車徒歩14分',\n",
       "       '/バス(13分)上篠崎下車徒歩2分', '/バス(15分)関町北4丁目下車徒歩2分',\n",
       "       '/バス(22分)新町商店街入口下車徒歩4分', '/バス(25分)住宅前(練馬区)下車徒歩8分',\n",
       "       '/バス(20分)江戸川区役所前下車徒歩8分', '/バス(14分)京葉交差点下車徒歩5分',\n",
       "       '/バス(19分)西水元二丁目下車徒歩3分', '/バス(10分)江戸川区役所下車徒歩14分',\n",
       "       '/バス(14分)南千住駅東口下車徒歩5分', '/バス(18分)鹿骨5丁目下車徒歩5分',\n",
       "       '/バス(10分)三原台中学校下車徒歩1分', '/バス(20分)上石神井駅下車徒歩4分',\n",
       "       '/バス(18分)大泉町4丁目下車徒歩4分', '/バス(11分)松江下車徒歩2分', '/バス(8分)ふれあいの家下車徒歩4分',\n",
       "       '/バス(12分)江戸川区役所前下車徒歩10分', '/バス(26分)長久保下車徒歩4分', '/バス(8分)大島駅前下車徒歩2分',\n",
       "       '/バス(15分)学園通り補助230号線下車徒歩2分', '/バス(6分)大杉第二小学校(バス)下車徒歩3分',\n",
       "       '/バス(10分)関原2丁目下車徒歩3分', '/バス(17分)都営\\u3000新小岩一丁目下車徒歩3分',\n",
       "       '/バス(7分)関町北一丁目下車徒歩4分', '/バス(37分)大泉風致地区下車徒歩3分',\n",
       "       '/バス(15分)水元2丁目下車徒歩2分', '/バス(17分)土支田八幡前下車徒歩4分',\n",
       "       '/バス(18分)北出張所下車徒歩1分', '/バス(20分)高砂小橋下車徒歩4分', '/バス(10分)西門寺橋下車徒歩2分',\n",
       "       '/バス(11分)氷川神社下車徒歩1分', '/バス(17分)大泉町3丁目下車徒歩5分', '/バス(16分)船堀駅前下車徒歩2分',\n",
       "       '/バス(9分)小76\\u3000鹿骨五下車徒歩1分', '/バス(10分)練高01\\u3000旭町南地区区民館下車徒歩5分',\n",
       "       '/バス(18分)武蔵関駅入口下車徒歩2分', '/バス(24分)東武バス\\u3000西新井車庫下車徒歩5分',\n",
       "       '/バス(14分)東武バス\\u3000都営住宅下車徒歩2分', '/バス(21分)大泉三丁目下車徒歩4分',\n",
       "       '/バス(15分)花畑小下車徒歩1分', '/バス(7分)赤羽西六丁目下車徒歩3分', '徒歩51分',\n",
       "       '/バス(18分)西水元2丁目下車徒歩6分', '/バス(29分)都民農園(バス)下車徒歩3分',\n",
       "       '/バス(6分)富士見台一丁目下車徒歩2分', '/バス(17分)都民農園下車徒歩1分', '/バス(14分)松本弁天下車徒歩3分',\n",
       "       '/バス(24分)山王三丁目下車徒歩9分', '/バス(15分)水元5丁目停下車徒歩2分', '/バス(20分)長久保下車徒歩1分',\n",
       "       '/バス(6分)司法研修所下車徒歩10分', '/バス(15分)佐野2丁目下車徒歩3分', '/バス(20分)西台公園下車徒歩3分',\n",
       "       '/バス(32分)石神井警察署下車徒歩1分', '/バス(7分)京急バス(森50)下車徒歩2分',\n",
       "       '/バス(19分)大泉風致地区下車徒歩2分', '/バス(28分)上石神井駅(南口)下車徒歩14分',\n",
       "       '/バス(15分)佐野二丁目下車徒歩3分', '/バス(5分)練馬春日町駅下車徒歩1分', '車5.4km(18分)',\n",
       "       '徒歩60分', '/バス(17分)菅原橋下車徒歩7分', '/バス(21分)丸山西橋下車徒歩3分',\n",
       "       '/バス(7分)小岩消防署下車徒歩23分', '/バス(15分)岡本1丁目下車徒歩2分', '車3km(12分)',\n",
       "       '/バス(15分)大谷田5丁目下車徒歩5分', '/バス(15分)東武バス\\u3000六ツ木団地下車徒歩5分',\n",
       "       '/バス(10分)永安寺前下車徒歩1分', '/バス(15分)新小51\\u3000中関橋下車徒歩9分',\n",
       "       '/バス(10分)南葛西会館前下車徒歩2分', '/バス(16分)新小岩一丁目下車徒歩4分', '/バス(10分)鎌田下車徒歩6分',\n",
       "       '/バス(11分)巽橋下車徒歩5分', '/バス(8分)柳之宮下車徒歩19分',\n",
       "       '/バス(12分)東武バス\\u3000本木小学校下車徒歩6分', '/バス(5分)目黒消防署下車徒歩3分',\n",
       "       '/バス(10分)土支田二丁目下車徒歩6分', '/バス(7分)小名木川小学校入口下車徒歩1分',\n",
       "       '/バス(8分)大杉第二小学校下車徒歩7分', '/バス(13分)草41\\u3000赤不動下車徒歩5分',\n",
       "       '/バス(7分)農業試験場下車徒歩4分', '/バス(6分)関町南二丁目下車徒歩22分',\n",
       "       '/バス(5分)長島町交差点下車徒歩6分', '/バス(10分)関町郵便局前下車徒歩1分',\n",
       "       '/バス(20分)船28\\u3000大杉東小下車徒歩3分', '/バス(20分)亀21\\u3000東砂六下車徒歩3分',\n",
       "       '/バス(10分)花畑六丁目下車徒歩2分', '/バス(35分)中丸小学校下車徒歩18分',\n",
       "       '/バス(22分)駒大深沢キャンパス前下車徒歩3分', '徒歩157分', '/バス(14分)土支田二丁目下車徒歩4分',\n",
       "       '/バス(2分)亀有二丁目下車徒歩3分', '/バス(29分)竹の塚駅東口下車徒歩10分',\n",
       "       '/バス(14分)東武バス\\u3000扇二丁目下車徒歩4分', '/バス(20分)幸田小学校下車徒歩3分',\n",
       "       '/バス(18分)ハートアイランド南下車徒歩1分', '/バス(15分)水元高校下車徒歩3分',\n",
       "       '/バス(5分)国立西が丘競技場北門下車徒歩1分', '/バス(26分)東武バス\\u3000南花畑1丁目下車徒歩2分',\n",
       "       '/バス(28分)西武車庫前下車徒歩21分', '/バス(24分)北園(東京都)下車徒歩1分',\n",
       "       '/バス(14分)農業試験場下車徒歩6分', '/バス(16分)土支田八幡下車徒歩5分',\n",
       "       '/バス(15分)関原2丁目下車徒歩2分', '/バス(7分)南葛西中学校下車徒歩4分',\n",
       "       '/バス(15分)鹿浜三丁目交差点下車徒歩3分', '/バス(5分)大森十中前下車徒歩9分',\n",
       "       '/バス(20分)竹ノ塚駅西口下車徒歩2分', '/バス(16分)松江下車徒歩3分', '/バス(20分)南小岩三丁目下車徒歩3分',\n",
       "       '/バス(14分)交通安全教育センター入口下車徒歩4分', '/バス(20分)上沼田団地下車徒歩3分',\n",
       "       '/バス(20分)上石神井中学校入口下車徒歩1分', '/バス(8分)東武バス\\u3000末広町下車徒歩8分',\n",
       "       '/バス(20分)武蔵関駅入口下車徒歩7分', '/バス(10分)バス下車',\n",
       "       '/バス(14分)交通安全教育センター入り口下車徒歩2分', '/バス(3分)住宅前下車徒歩4分',\n",
       "       '/バス(30分)大泉学園駅南口下車徒歩2分', '/バス(25分)住宅前(練馬区)下車徒歩4分',\n",
       "       '/バス(10分)本町4丁目下車徒歩3分', '/バス(15分)蒲田下車徒歩9分', '/バス(16分)大泉風致地区下車徒歩8分',\n",
       "       '/バス(20分)扇北詰下車徒歩5分', '/バス(15分)大谷田5丁目下車徒歩3分',\n",
       "       '/バス(25分)大泉北中入口下車徒歩5分', '/バス(15分)水元小学校前下車徒歩2分',\n",
       "       '/バス(7分)臼田坂上下車徒歩3分', '/バス(10分)スポーツランド入口下車徒歩4分',\n",
       "       '/バス(15分)武蔵関駅駅入り口下車徒歩4分', '/バス(25分)土支田八幡前下車徒歩3分',\n",
       "       '/バス(18分)亀有駅下車徒歩4分', '/バス(19分)高松大門通り下車徒歩8分', '車5.5km(20分)',\n",
       "       '/バス(12分)東深沢小学校下車徒歩1分', '/バス(9分)成城八丁目下車徒歩1分',\n",
       "       '/バス(12分)辰沼団地入口下車徒歩2分', '/バス(10分)永安寺前下車徒歩5分',\n",
       "       '/バス(10分)東武バス\\u3000四ツ家町下車徒歩1分', '/バス(16分)長久保下車徒歩5分',\n",
       "       '/バス(19分)世田谷観音下車徒歩3分', '/バス(11分)都バス\\u3000東京都実験プラザ前停下車徒歩2分',\n",
       "       '/バス(7分)光が丘六丁目下車徒歩32分', '/バス(20分)南花畑1丁目下車徒歩6分',\n",
       "       '/バス(15分)東保木間下車徒歩3分', '/バス(9分)園芸高校前下車徒歩3分', '/バス(13分)西葛西駅前下車徒歩2分',\n",
       "       '/バス(4分)学園橋下車徒歩5分', '/バス(12分)もみじが丘下車徒歩4分', '/バス(10分)南葛西中学校前下車徒歩2分',\n",
       "       '/バス(38分)西大泉二丁目交番前下車徒歩6分', '/バス(20分)住宅前下車徒歩5分',\n",
       "       '/バス(6分)東武バス\\u3000高砂町下車徒歩12分', '/バス(4分)東宝前下車徒歩9分',\n",
       "       '/バス(15分)大杉4丁目下車徒歩2分', '/バス(15分)六町駅前下車徒歩2分',\n",
       "       '/バス(2分)新小岩駅東北広場下車徒歩2分', '徒歩86分', '/バス(19分)都立大学駅北口下車徒歩5分',\n",
       "       '/バス(12分)東武バス\\u3000本木2丁目下車徒歩4分', '徒歩53分', '/バス(14分)中葛西七丁目下車徒歩6分',\n",
       "       '/バス(8分)東新小岩8丁目下車徒歩6分', '/バス(10分)上石神井駅下車徒歩4分', '/バス(17分)住宅前下車徒歩4分',\n",
       "       '徒歩54分', '/バス(13分)大泉風致地区下車徒歩1分', '/バス(18分)巽橋下車徒歩14分',\n",
       "       '/バス(20分)三ツ塚下車徒歩1分', '/バス(13分)関町南二丁目下車徒歩1分', '/バス(11分)志村坂上下車徒歩2分',\n",
       "       '車4.3km(14分)', '/バス(23分)新小岩駅前下車徒歩5分', '/バス(8分)南葛西4丁目下車徒歩4分',\n",
       "       '/バス(12分)下新倉下車徒歩8分', '/バス(12分)弁天神社下車徒歩2分', '/バス(10分)鹿骨五丁目下車徒歩7分',\n",
       "       '/バス(31分)長久保(バス)下車徒歩11分', '/バス(8分)北加平下車徒歩5分',\n",
       "       '/バス(11分)放水路土手下下車徒歩4分', '/バス(15分)武蔵関駅入口下車徒歩10分',\n",
       "       '/バス(10分)南葛西会館前下車徒歩1分', '/バス(10分)NHK技術研究所下車', '/バス(12分)赤不動下車徒歩2分',\n",
       "       '/バス(14分)西一之江三丁目下車徒歩2分', '/バス(10分)大森東四丁目下車徒歩4分',\n",
       "       '/バス(27分)土支田二丁目(バス)下車徒歩19分', '/バス(10分)土支田2丁目下車徒歩4分',\n",
       "       '/バス(10分)NTT技研前下車徒歩4分', '/バス(10分)花畑四丁目下車徒歩8分',\n",
       "       '/バス(16分)大泉風致地区下車徒歩2分', '/バス(22分)武蔵関駅入口下車徒歩3分',\n",
       "       '/バス(18分)江戸川高校前下車徒歩12分', '/バス(20分)雪見橋北詰下車徒歩4分',\n",
       "       '/バス(25分)瑞江駅下車徒歩4分', '/バス(10分)春江町五丁目下車徒歩5分',\n",
       "       '/バス(14分)奥戸三丁目下車徒歩11分', '/バス(16分)土支田八幡下車徒歩25分',\n",
       "       '/バス(20分)西水元下車徒歩3分', '/バス(14分)巽橋下車徒歩9分', '/バス(6分)善福寺下車徒歩2分',\n",
       "       '/バス(17分)長久保下車徒歩1分', '/バス(5分)西武車庫前下車徒歩2分', '徒歩73分',\n",
       "       '/バス(15分)六町下車徒歩3分', '/バス(10分)神明町下車徒歩4分', '/バス(17分)一ツ家2丁目下車徒歩1分',\n",
       "       '/バス(12分)宇奈根ハンカチ公園下車徒歩2分', '/バス(18分)大泉一小下車徒歩8分',\n",
       "       '/バス(1分)岡本3丁目下車徒歩10分', '/バス(15分)水元神社前下車徒歩2分',\n",
       "       '/バス(20分)枝川二丁目下車徒歩13分', '/バス(18分)長久保下車徒歩4分',\n",
       "       '/バス(11分)東深沢中学校下車徒歩2分', '/バス(12分)葛西駅下車徒歩35分', '/バス(8分)水元4丁目下車',\n",
       "       '/バス(25分)新小岩3丁目下車徒歩3分', '/バス(20分)北裏下車徒歩6分', '/バス(12分)東葛西8丁目下車徒歩3分',\n",
       "       '/バス(14分)東武バス\\u3000都営住宅下車徒歩5分', '/バス(12分)東淵江庭園下車徒歩10分',\n",
       "       '/バス(24分)都立足立高校前下車徒歩15分', '/バス(13分)新小21\\u3000松島三下車徒歩4分',\n",
       "       '/バス(15分)陣屋橋下車徒歩7分', '/バス(15分)鎌田下車徒歩5分', '/バス(13分)本木小学校下車徒歩1分',\n",
       "       '/バス(22分)葛西南高校入口下車徒歩8分', '/バス(15分)東陽一丁目下車徒歩12分',\n",
       "       '/バス(11分)関町北一丁目下車徒歩3分', '/バス(15分)谷中5丁目下車徒歩2分',\n",
       "       '/バス(14分)東武バス\\u3000待木医院前下車徒歩1分', '/バス(12分)NHK技術研究所下車',\n",
       "       '/バス(15分)西台公園下車徒歩4分', '車7.4km(21分)', '/バス(17分)いこいの家入口下車徒歩6分',\n",
       "       '/バス(12分)風致地区下車徒歩9分', '/バス(15分)辰沼団地下車徒歩2分', '/バス(25分)新小岩1丁目下車徒歩5分',\n",
       "       '/バス(23分)足立車検場下車徒歩2分', '/バス(36分)保谷駅南口下車徒歩2分', '/バス(11分)北裏下車徒歩4分',\n",
       "       '/バス(29分)長久保(東京都)下車徒歩5分', '/バス(15分)青井6丁目下車徒歩4分',\n",
       "       '/バス(9分)水元公園下車徒歩3分', '徒歩56分', '/バス(15分)リブレ京成前下車徒歩1分',\n",
       "       '/バス(8分)雪が谷下車徒歩6分', '/バス(8分)比丘尼橋(バス)下車徒歩23分', '車2.9km(9分)',\n",
       "       '/バス(12分)花畑四丁目下車徒歩1分', '車3km(10分)', '/バス(17分)小73\\u3000鹿骨三下車徒歩1分',\n",
       "       '/バス(27分)小菅下車徒歩10分', '/バス(2分)善福寺下車徒歩10分', '/バス(13分)長久保下車徒歩9分',\n",
       "       '/バス(21分)大岡山小学校前下車徒歩3分', '/バス(16分)東小松川小学校前下車徒歩9分',\n",
       "       '/バス(23分)鹿浜6丁目下車徒歩4分', '/バス(15分)多摩川大橋下車徒歩1分', '/バス(17分)天祖神社下車徒歩3分',\n",
       "       '/バス(11分)新小51\\u3000新小岩駅下車徒歩8分', '/バス(8分)しばられ地蔵前下車',\n",
       "       '/バス(28分)水元五丁目下車徒歩17分', '/バス(10分)西03\\u3000西新井消防署前下車徒歩3分',\n",
       "       '車5.8km(20分)', '/バス(13分)土支田3丁目下車徒歩2分', '/バス(10分)宇奈根地区会館前下車徒歩4分',\n",
       "       '/バス(11分)東砂4丁目下車徒歩1分', '/バス(10分)あいぐみ公園前下車徒歩2分',\n",
       "       '/バス(9分)池上営業所前下車徒歩1分', '/バス(9分)池上営業所前下車徒歩3分', '/バス(12分)榎北下車徒歩4分'],\n",
       "      dtype=object)"
      ]
     },
     "execution_count": 54,
     "metadata": {},
     "output_type": "execute_result"
    }
   ],
   "source": [
    "df[6].unique()"
   ]
  },
  {
   "cell_type": "markdown",
   "metadata": {},
   "source": [
    "## df[7]"
   ]
  },
  {
   "cell_type": "code",
   "execution_count": 55,
   "metadata": {},
   "outputs": [
    {
     "data": {
      "text/plain": [
       "1"
      ]
     },
     "execution_count": 55,
     "metadata": {},
     "output_type": "execute_result"
    }
   ],
   "source": [
    "df[7].nunique()"
   ]
  },
  {
   "cell_type": "code",
   "execution_count": 56,
   "metadata": {},
   "outputs": [
    {
     "data": {
      "text/plain": [
       "array(['', None], dtype=object)"
      ]
     },
     "execution_count": 56,
     "metadata": {},
     "output_type": "execute_result"
    }
   ],
   "source": [
    "df[7].unique()"
   ]
  },
  {
   "cell_type": "markdown",
   "metadata": {},
   "source": [
    "## df[8] did up to this point. Let's see the feature importances to see if it's useful or not"
   ]
  },
  {
   "cell_type": "code",
   "execution_count": 57,
   "metadata": {},
   "outputs": [
    {
     "data": {
      "text/plain": [
       "469"
      ]
     },
     "execution_count": 57,
     "metadata": {},
     "output_type": "execute_result"
    }
   ],
   "source": [
    "df[8].nunique()"
   ]
  },
  {
   "cell_type": "code",
   "execution_count": 58,
   "metadata": {},
   "outputs": [
    {
     "data": {
      "text/plain": [
       "array(['都電荒川線', '日比谷線', '京王線', '丸ノ内線(池袋-荻窪)', '京成金町線', '東武東上線', '東急東横線',\n",
       "       '千代田線', '東急池上線', None, '山手線渋谷駅徒歩18分', '都営新宿線', '丸ノ内線(中野坂上-方南町)',\n",
       "       '都営浅草線', '中央線(快速)', '銀座線', '有楽町線', '京急本線', '総武線・中央線(各停)', '山手線',\n",
       "       '京王井の頭線', '東京メトロ東西線高田馬場駅徒歩9分', '京成本線', '西武新宿線', '常磐線', '都営三田線',\n",
       "       '東武スカイツリーライン', '東急多摩川線', '西武池袋線', '東武亀戸線', '半蔵門線', '西武有楽町線',\n",
       "       '都営大江戸線', '小田急小田原線', '東急世田谷線', '東急目黒線', '京浜東北線', '東西線', '東武大師線',\n",
       "       '東急田園都市線', '副都心線', '京成押上線', '日暮里・舎人ライナー', '南北線', '埼京線', 'ゆりかもめ',\n",
       "       '総武本線', '京葉線(東京-蘇我)', '東急大井町線', '東北本線(宇都宮線)', 'つくばエクスプレス', '常磐線快速',\n",
       "       '京葉線越中島駅徒歩13分', '北総線', '京王新線', '横須賀線', '東海道新幹線', '東急目黒線奥沢駅徒歩15分',\n",
       "       '東京メトロ東西線茅場町駅徒歩8分', '東京モノレール羽田線', '東京メトロ南北線目黒駅徒歩8分',\n",
       "       '亀29/新田\\u30004分', '中央本線(東京-松本)', '京急空港線', '西武豊島線', 'りんかい線',\n",
       "       '都営大江戸線六本木駅徒歩8分', '東武伊勢崎線(押上-曳舟)', '東急世田谷線世田谷駅徒歩10分',\n",
       "       '都営大江戸線両国駅徒歩12分', '埼玉高速鉄道線', '高崎線', '東京臨海高速鉄道天王洲アイル駅徒歩14分',\n",
       "       '東京メトロ日比谷線広尾駅徒歩12分', '京急大師線', '東京メトロ東西線中野駅徒歩15分',\n",
       "       '東京メトロ南北線目黒駅徒歩6分', '東京メトロ千代田線西日暮里駅徒歩5分', 'ゆりかもめ竹芝駅徒歩2分',\n",
       "       '湘南新宿ライン(東北本線-横須賀線)', '京王電鉄京王線芦花公園駅徒歩17分', '東京メトロ半蔵門線表参道駅徒歩9分',\n",
       "       '西武新宿線井荻駅徒歩15分', '東京メトロ有楽町線月島駅徒歩14分', '京浜東北・根岸線品川駅徒歩8分',\n",
       "       '東京メトロ日比谷線築地駅徒歩21分', '都営大江戸線勝どき駅徒歩9分', '東京メトロ南北線永田町駅徒歩8分',\n",
       "       '新小21/棒茅場\\u30006分', '東京メトロ千代田線乃木坂駅徒歩6分', '東京メトロ銀座線田原町駅徒歩7分',\n",
       "       '東京メトロ千代田線千駄木駅徒歩8分', '亀26/東小松川一\\u30002分', '山手線渋谷駅バス14分若林一丁目下車徒歩3分',\n",
       "       '東京メトロ有楽町線豊洲駅徒歩18分', '東京メトロ南北線白金台駅徒歩14分', '東京メトロ副都心線雑司が谷駅徒歩8分',\n",
       "       '京王電鉄井の頭線駒場東大前駅徒歩10分', '西武池袋・豊島線椎名町駅徒歩11分', '東京メトロ半蔵門線水天宮前駅徒歩12分',\n",
       "       '京浜東北・根岸線王子駅バス25分常盤台教会下車徒歩2分', '東海道本線', '船28/新堀一\\u30003分',\n",
       "       '小72/東小岩六\\u30005分', '東京メトロ南北線後楽園駅徒歩15分', '都営三田線千石駅徒歩7分',\n",
       "       '新小22/江戸川区口腔保健センター入口\\u30004分', '東北新幹線', '都営三田線御成門駅徒歩8分',\n",
       "       '東京メトロ千代田線新御茶ノ水駅徒歩5分', '東京メトロ千代田線明治神宮前駅徒歩6分', '京成電鉄本線京成小岩駅徒歩16分',\n",
       "       '東京メトロ千代田線乃木坂駅徒歩7分', '高崎線尾久駅徒歩11分', '中央・総武緩行線市ヶ谷駅徒歩10分',\n",
       "       '東京メトロ銀座線新橋駅徒歩8分', '東急目黒線奥沢駅徒歩16分', '都電荒川線町屋駅前駅徒歩1分',\n",
       "       '山手線大崎駅徒歩12分', '中央・総武緩行線市ヶ谷駅徒歩3分', '都営新宿線浜町駅徒歩12分',\n",
       "       '新小21/新小岩一\\u30006分', '東急大井町線緑が丘駅徒歩5分', '南武線(川崎-立川)',\n",
       "       '東京メトロ千代田線代々木上原駅徒歩20分', '都営浅草線五反田駅徒歩10分', '亀29/堀江団地\\u30001分',\n",
       "       '京浜東北・根岸線大井町駅徒歩16分', '山手線五反田駅徒歩13分', '葛西21/第二葛西小入口\\u30003分',\n",
       "       '京王電鉄京王線初台駅徒歩13分', '中央本線吉祥寺駅バス8分関町南2丁目下車徒歩8分', '東武東上線下板橋駅徒歩10分',\n",
       "       '西葛26/南葛西中\\u30004分', '東京臨海高速鉄道東雲駅徒歩17分', '東京メトロ千代田線明治神宮前駅徒歩8分',\n",
       "       '京成成田空港線', '葛西21/南葛西中\\u30004分', '都営浅草線泉岳寺駅徒歩14分',\n",
       "       '葛西21/東葛西六\\u30004分', '都営大江戸線勝どき駅徒歩15分', '東急東横線自由が丘駅徒歩12分',\n",
       "       '小田急電鉄小田原線経堂駅徒歩21分', 'ゆりかもめ豊洲駅徒歩17分', '新小21/松江第一中\\u30005分',\n",
       "       'ゆりかもめ市場前駅徒歩8分', '東急池上線蒲田駅徒歩9分', '都営三田線白金高輪駅徒歩8分', '都営三田線三田駅徒歩10分',\n",
       "       '都電荒川線荒川遊園地前駅徒歩9分', '都営浅草線人形町駅徒歩5分', '東急目黒線武蔵小山駅徒歩17分',\n",
       "       '001/葛西駅\\u30004分', '都電荒川線早稲田駅徒歩2分', '東京メトロ日比谷線北千住駅徒歩16分',\n",
       "       '東京メトロ日比谷線八丁堀駅徒歩15分', '山手線浜松町駅徒歩11分', '京葉線八丁堀駅徒歩11分',\n",
       "       '都営大江戸線汐留駅徒歩6分', '東22/江東区役所\\u30003分', '東京メトロ南北線白金台駅徒歩13分',\n",
       "       '東京メトロ千代田線表参道駅徒歩6分', '山手線新宿駅徒歩14分', '都営三田線白金台駅徒歩8分',\n",
       "       '葛西22/浦安橋\\u30005分', '東京メトロ南北線目黒駅徒歩13分', '武蔵野線',\n",
       "       '東京メトロ南北線麻布十番駅徒歩10分', '東急大井町線上野毛駅徒歩11分', '都営三田線白金高輪駅徒歩9分',\n",
       "       '都営三田線目黒駅徒歩1分', '東京メトロ丸ノ内線荻窪駅徒歩24分', '関東バス/善福寺緑地公園\\u30007分',\n",
       "       '山手線新宿駅徒歩15分', '中央・総武緩行線錦糸町駅徒歩6分', '東急池上線長原駅徒歩13分', '都営三田線目黒駅徒歩2分',\n",
       "       '山手線渋谷駅徒歩13分', '臨海28乙/葛西南高校入口\\u30005分', '東京メトロ丸ノ内線四谷三丁目駅徒歩12分',\n",
       "       '東京メトロ南北線六本木一丁目駅徒歩7分', '京王電鉄京王線明大前駅徒歩15分', '東京メトロ丸ノ内線茗荷谷駅徒歩14分',\n",
       "       '東京メトロ日比谷線入谷駅徒歩9分', '東京メトロ東西線中野駅徒歩13分', '都営浅草線大門駅徒歩7分',\n",
       "       '東京メトロ有楽町線豊洲駅徒歩15分', '東武亀戸線亀戸水神駅徒歩13分', '東急田園都市線桜新町駅徒歩19分',\n",
       "       '東京メトロ南北線目黒駅徒歩9分', '京浜東北・根岸線日暮里駅徒歩9分', '東京メトロ日比谷線恵比寿駅徒歩16分',\n",
       "       '西武新宿線下井草駅バス8分下石神井坂下下車徒歩2分', '都営大江戸線月島駅徒歩10分',\n",
       "       '小田急電鉄小田原線成城学園前駅バス9分上祖師谷四丁目下車徒歩4分', '小76/鹿骨四\\u30003分',\n",
       "       '東急田園都市線渋谷駅徒歩3分', '山手線東京駅徒歩16分', '京急本線平和島駅徒歩7分',\n",
       "       '京浜東北・根岸線蒲田駅バス19分高畑神社下車徒歩4分', '都営大江戸線六本木駅徒歩12分',\n",
       "       '東22/江東区役所\\u30004分', '東京メトロ日比谷線広尾駅徒歩14分', '都営大江戸線両国駅徒歩13分',\n",
       "       '京急本線北品川駅徒歩13分', '東京メトロ東西線中野駅徒歩7分', '都電荒川線面影橋駅徒歩8分',\n",
       "       '都営浅草線五反田駅徒歩6分', '都営大江戸線麻布十番駅徒歩23分', '東京メトロ副都心線雑司が谷駅徒歩10分',\n",
       "       '京葉線越中島駅徒歩12分', '都営新宿線九段下駅徒歩5分', '001/葛西駅\\u30005分',\n",
       "       '東急大井町線北千束駅徒歩8分', '東京メトロ日比谷線六本木駅徒歩13分', '東京メトロ有楽町線麹町駅徒歩10分',\n",
       "       '京浜東北・根岸線蒲田駅バス15分税務署前下車徒歩5分', '山手線恵比寿駅徒歩22分', '北陸新幹線(東京-上越妙高)',\n",
       "       '山手線目黒駅徒歩14分', '東京メトロ南北線六本木一丁目駅徒歩9分', 'ゆりかもめ豊洲駅徒歩7分',\n",
       "       '臨海28乙/仲町西組\\u30001分', '山手線目黒駅徒歩11分', '都営大江戸線練馬春日町駅徒歩20分',\n",
       "       '山手線大塚駅徒歩14分', '東京メトロ日比谷線六本木駅徒歩16分', '東京メトロ丸ノ内線新中野駅徒歩12分',\n",
       "       '東京メトロ南北線四ツ谷駅徒歩7分', '京葉線越中島駅徒歩18分', '東急世田谷線世田谷駅徒歩15分',\n",
       "       '小76/鹿骨四\\u30005分', '京王電鉄京王線仙川駅徒歩28分', '竹03/氷川神社前\\u30004分',\n",
       "       '東京メトロ千代田線西日暮里駅徒歩13分', '東京メトロ銀座線青山一丁目駅徒歩12分', '中央・総武緩行線信濃町駅徒歩13分',\n",
       "       '東急田園都市線用賀駅徒歩18分', '山手線渋谷駅バス9分三宿下車徒歩3分', '東京メトロ南北線目黒駅徒歩5分',\n",
       "       '山手線東京駅バス20分新島橋下車徒歩1分', '東京メトロ丸ノ内線荻窪駅徒歩18分', '日暮里舎人ライナー江北駅徒歩15分',\n",
       "       '都営大江戸線牛込神楽坂駅徒歩9分', '東京メトロ銀座線日本橋駅徒歩12分', '東京メトロ南北線六本木一丁目駅徒歩12分',\n",
       "       '山手線東京駅バス19分晴海三丁目下車徒歩2分', '東武伊勢崎・大師線牛田駅徒歩3分', '都営三田線芝公園駅徒歩11分',\n",
       "       '渋24/農大一高前\\u30002分', '東京メトロ銀座線表参道駅徒歩14分', '山手線五反田駅徒歩12分',\n",
       "       '東京メトロ有楽町線市ヶ谷駅徒歩15分', '三田線', '東京メトロ日比谷線広尾駅徒歩13分',\n",
       "       '東京メトロ南北線東大前駅徒歩12分', '001/葛西駅\\u30003分', 'ゆりかもめお台場海浜公園駅徒歩12分',\n",
       "       '東武伊勢崎・大師線堀切駅徒歩22分', '亀29/南葛西小\\u30002分', '都営三田線白山駅徒歩10分',\n",
       "       '中央・総武緩行線荻窪駅徒歩14分', '新小21/七軒町\\u30001分', '東京メトロ丸ノ内線淡路町駅徒歩7分',\n",
       "       '都営浅草線高輪台駅徒歩8分', '葛西21/南葛西会館\\u30002分', '山手線目白駅徒歩13分',\n",
       "       '中央本線中野駅バス15分成田東三丁目下車徒歩1分', '西武新宿線下井草駅徒歩10分', '京葉線越中島駅徒歩19分',\n",
       "       '東京メトロ南北線駒込駅徒歩11分', '関東バス/成田東三丁目\\u30002分', '都営浅草線東銀座駅徒歩12分',\n",
       "       '東京メトロ半蔵門線表参道駅徒歩12分', '東京メトロ東西線神楽坂駅徒歩12分', '東京メトロ南北線溜池山王駅徒歩4分',\n",
       "       '京急本線品川駅徒歩11分', '東武東上線下板橋駅徒歩4分', '東京メトロ千代田線西日暮里駅徒歩12分',\n",
       "       '中央本線中野駅バス7分大新横丁下車徒歩4分', '椿04/江北三\\u30001分', '東西線落合駅',\n",
       "       '東京メトロ丸ノ内線新中野駅徒歩7分', '東京メトロ南北線東大前駅徒歩10分', '都営大江戸線都庁前駅徒歩12分',\n",
       "       '亀29/西葛西六\\u30005分', '京王電鉄井の頭線渋谷駅徒歩2分', '東京メトロ日比谷線広尾駅徒歩15分',\n",
       "       '東京メトロ南北線白金高輪駅徒歩15分', '東京メトロ東西線落合駅徒歩7分', '京葉線八丁堀駅徒歩5分',\n",
       "       '葛西22/浦安橋\\u30003分', '環07急行/総合レクリエーション公園\\u30006分',\n",
       "       '亀29/なぎさニュータウン\\u30003分', '東京メトロ丸ノ内線四ツ谷駅徒歩7分', '都営大江戸線月島駅徒歩19分',\n",
       "       '都営大江戸線勝どき駅徒歩13分', '山手線渋谷駅バス8分池尻住宅前下車徒歩5分', '山手線田町駅徒歩13分',\n",
       "       '都営浅草線日本橋駅徒歩6分', '都営大江戸線赤羽橋駅徒歩6分', '小76/明和橋\\u30002分',\n",
       "       '都営三田線西台駅徒歩13分', '葛西21/南葛西中\\u30002分', '埼京線赤羽駅徒歩30分',\n",
       "       '京王電鉄井の頭線西永福駅徒歩18分', '都営大江戸線国立競技場駅徒歩12分', '東京メトロ銀座線外苑前駅徒歩6分',\n",
       "       '都営大江戸線赤羽橋駅徒歩10分', '東京メトロ副都心線地下鉄成増駅徒歩3分', '新小30/葛西第三中入口\\u30003分',\n",
       "       '東京メトロ半蔵門線住吉駅徒歩10分', '篠01/鹿骨一公園\\u30002分', '中24/江古田三\\u30003分',\n",
       "       '小田急電鉄小田原線代々木上原駅徒歩9分', '山手線高田馬場駅徒歩14分', '東京メトロ南北線六本木一丁目駅徒歩10分',\n",
       "       '東京メトロ副都心線雑司が谷駅徒歩6分', '葛西21/第二葛西小入口\\u30005分', '渋24/大蔵ランド前\\u30003分',\n",
       "       '新小21/棒茅場\\u30002分', '都営大江戸線蔵前駅徒歩8分', '亀29/中葛西五\\u30005分',\n",
       "       '京急本線北品川駅徒歩21分', '西武池袋・豊島線椎名町駅徒歩8分', '東京メトロ日比谷線六本木駅徒歩9分',\n",
       "       '山手線大崎駅徒歩6分', '東京メトロ銀座線溜池山王駅徒歩8分', '東京メトロ副都心線地下鉄成増駅徒歩16分',\n",
       "       '新小21/東小松川二\\u30005分', '小74/京葉交差点\\u30003分', '見01/見沼代親水公園駅\\u30005分',\n",
       "       '都営大江戸線赤羽橋駅徒歩7分', '湘南新宿ライン(高崎線-東海道本線)', '新小20/小松中\\u30003分',\n",
       "       '東京臨海高速鉄道大崎駅徒歩3分', '都営バス/堀ノ内\\u30002分', '東急世田谷線下高井戸駅徒歩12分',\n",
       "       '山手線新宿駅徒歩18分', '山手線恵比寿駅徒歩24分', '埼京線恵比寿駅徒歩3分', '都営大江戸線月島駅徒歩18分',\n",
       "       '東急田園都市線桜新町駅徒歩25分', '西武新宿線下井草駅徒歩14分', '山手線新宿駅徒歩16分',\n",
       "       '葛西21/東葛西七\\u30003分', '都営浅草線馬込駅徒歩20分', '山手線恵比寿駅バス19分下馬六丁目下車徒歩3分',\n",
       "       '関東バス/日産自動車\\u30006分', '小73/鹿骨三\\u30001分', '山手線品川駅徒歩17分',\n",
       "       '千代田・常磐緩行線綾瀬駅バス9分中之台小学校下車徒歩3分', '東海道本線品川駅徒歩4分',\n",
       "       '東京メトロ日比谷線中目黒駅徒歩8分', '東京メトロ副都心線氷川台駅徒歩9分', '篠01/鹿骨一公園\\u30001分',\n",
       "       '埼京線恵比寿駅徒歩6分', '新小21/棒茅場\\u30001分', '都電荒川線学習院下駅徒歩4分', '山手線五反田駅徒歩9分',\n",
       "       '総武本線馬喰町駅徒歩8分', '京急本線北品川駅徒歩9分', '東京メトロ日比谷線八丁堀駅徒歩4分',\n",
       "       '船28/松江六\\u30005分', '東急東横線中目黒駅徒歩10分', '総武本線新日本橋駅徒歩4分',\n",
       "       '都営三田線春日駅徒歩11分', '平23/一之江七\\u30004分', '東京メトロ南北線白金高輪駅徒歩9分',\n",
       "       '東京メトロ銀座線表参道駅徒歩15分', '山手線新宿駅バス14分笹塚こども図書館下車徒歩1分',\n",
       "       '錦22/西葛西駅南\\u30004分', '葛西22/浦安橋\\u30002分', '小田急電鉄小田原線代々木上原駅徒歩12分',\n",
       "       '中央・総武緩行線市ヶ谷駅徒歩15分', '常磐線南千住駅徒歩18分', '東京メトロ日比谷線六本木駅徒歩12分',\n",
       "       '東急目黒線不動前駅徒歩9分', '日暮里舎人ライナー谷在家駅徒歩15分', '亀29/葛西駅通り\\u30005分',\n",
       "       '京王電鉄井の頭線富士見ヶ丘駅徒歩15分', '京浜東北・根岸線大井町駅バス6分大井第一小学校下車徒歩3分',\n",
       "       '東京メトロ南北線東大前駅徒歩8分', '小76/明和橋\\u30004分', '都営新宿線馬喰横山駅徒歩10分',\n",
       "       '中央・総武緩行線荻窪駅徒歩7分', '小72/王子製紙裏門\\u30004分', '都営三田線新板橋駅徒歩7分',\n",
       "       '東京メトロ丸ノ内線茗荷谷駅徒歩17分', '東京メトロ東西線神楽坂駅徒歩10分', '中央・総武緩行線荻窪駅徒歩10分',\n",
       "       '内神田・富士見便/都営四番町アパート\\u30006分', '新京成線', '都営三田線千石駅徒歩10分',\n",
       "       '東京メトロ半蔵門線表参道駅徒歩6分', '東急世田谷線上町駅徒歩17分', '横須賀線品川駅徒歩10分',\n",
       "       '東京メトロ半蔵門線神保町駅徒歩7分', '山手線新宿駅徒歩12分', '山手線東京駅バス26分晴海三丁目下車徒歩5分',\n",
       "       '小76/片山病院\\u30005分', '京葉線八丁堀駅徒歩6分', 'ディズニーリゾートライン', '東急東横線渋谷駅徒歩5分',\n",
       "       '葛西21/南葛西会館\\u30003分', '東京メトロ南北線目黒駅徒歩10分', '都営大江戸線落合南長崎駅徒歩11分',\n",
       "       '新小30/中葛西七\\u30002分', '山手線大塚駅徒歩17分', '東京メトロ有楽町線要町駅バス19分志村坂上下車徒歩2分',\n",
       "       '東急世田谷線松原駅徒歩9分', '東京メトロ日比谷線仲御徒町駅徒歩9分', '中央・総武緩行線四ツ谷駅徒歩7分',\n",
       "       '椿04/江北橋下\\u30004分', '京葉線越中島駅徒歩10分', '東京メトロ千代田線表参道駅徒歩5分',\n",
       "       '草43/三ノ輪橋\\u30003分', '東京メトロ半蔵門線半蔵門駅徒歩11分', '東京メトロ有楽町線麹町駅徒歩7分',\n",
       "       '小田急電鉄小田原線南新宿駅徒歩3分', '東京メトロ千代田線湯島駅徒歩3分', '都営浅草線三田駅徒歩4分',\n",
       "       '東京メトロ東西線高田馬場駅徒歩14分', '京急本線平和島駅徒歩18分', '京王電鉄井の頭線三鷹台駅徒歩22分',\n",
       "       '東京メトロ丸ノ内線荻窪駅バス10分南荻窪二丁目下車徒歩2分', '東武東上線大山駅徒歩18分',\n",
       "       '東急大井町線上野毛駅徒歩20分', '東京メトロ有楽町線江戸川橋駅徒歩11分', '東武東上線池袋駅徒歩3分',\n",
       "       '東京メトロ半蔵門線表参道駅徒歩5分', '東急東横線学芸大学駅徒歩17分', '都営三田線芝公園駅徒歩8分',\n",
       "       '葛西22/仲町東組\\u30004分', '山手線目白駅徒歩18分', '東急目黒線武蔵小山駅徒歩14分',\n",
       "       '都営新宿線森下駅徒歩15分', '金62/中央公園\\u30002分', '東京メトロ有楽町線江戸川橋駅徒歩10分',\n",
       "       '中央・総武緩行線高円寺駅徒歩23分', '西武池袋・豊島線練馬駅徒歩21分', '都営新宿線市ヶ谷駅徒歩8分',\n",
       "       '豊洲01/芝浦工大\\u30003分', '東京メトロ日比谷線小伝馬町駅徒歩3分', '都営大江戸線赤羽橋駅徒歩4分',\n",
       "       '都営浅草線宝町駅徒歩5分', '東京メトロ丸ノ内線新大塚駅徒歩12分', '中央本線四ツ谷駅徒歩10分',\n",
       "       '葛西24/葛西区民館\\u30003分', '中央本線三鷹駅バス9分北裏下車徒歩4分', '葛西22/小学校通り\\u30003分',\n",
       "       '葛西21/南葛西中\\u30001分', '東京メトロ日比谷線中目黒駅徒歩15分',\n",
       "       '東急目黒線多摩川駅バス3分雪が谷下車徒歩6分', '東京メトロ千代田線赤坂駅徒歩10分', '東京メトロ日比谷線広尾駅徒歩16分',\n",
       "       '総武本線錦糸町駅バス20分小松川警察署前下車徒歩6分', '小76/明和橋\\u30005分', '山手線新大久保駅徒歩13分',\n",
       "       '亀29/西葛西駅\\u30004分', '東京メトロ有楽町線要町駅徒歩10分', '都営大江戸線築地市場駅徒歩9分',\n",
       "       '常磐線南千住駅徒歩13分', '東京メトロ南北線目黒駅徒歩7分', '東京臨海高速鉄道東雲駅徒歩15分',\n",
       "       '葛西22/新川口\\u30004分', '東京メトロ千代田線新御茶ノ水駅徒歩10分', '京急本線梅屋敷駅徒歩8分',\n",
       "       '亀29/西葛西六\\u30004分', '東京メトロ日比谷線秋葉原駅徒歩7分'], dtype=object)"
      ]
     },
     "execution_count": 58,
     "metadata": {},
     "output_type": "execute_result"
    }
   ],
   "source": [
    "df[8].unique()"
   ]
  },
  {
   "cell_type": "code",
   "execution_count": 59,
   "metadata": {},
   "outputs": [
    {
     "data": {
      "text/plain": [
       "Index(['所在地', 'アクセス', '間取り', '方角', '面積', '所在階', 'バス・トイレ', 'キッチン', '放送・通信',\n",
       "       '室内設備', '駐車場', '周辺環境', '建物構造', '契約期間', '築年数_月', '階建', '所在階_地下', '階建_地下',\n",
       "       '納戸', '間取り_D', '間取り_K', '間取り_L', '間取り_R', '間取り_S', '間取り_数', '方角_南',\n",
       "       '方角_東', '方角_西', '方角_北', '契約期間_定期借家', '契約期間_月', '所在地_区', 'アクセス_線_1',\n",
       "       'アクセス_駅_1', 'アクセス_線_2', 'アクセス_駅_2'],\n",
       "      dtype='object')"
      ]
     },
     "execution_count": 59,
     "metadata": {},
     "output_type": "execute_result"
    }
   ],
   "source": [
    "total_data.columns"
   ]
  },
  {
   "cell_type": "markdown",
   "metadata": {},
   "source": [
    "# バス・トイレ"
   ]
  },
  {
   "cell_type": "code",
   "execution_count": 60,
   "metadata": {},
   "outputs": [
    {
     "data": {
      "text/plain": [
       "404"
      ]
     },
     "execution_count": 60,
     "metadata": {},
     "output_type": "execute_result"
    }
   ],
   "source": [
    "total_data[\"バス・トイレ\"].nunique()"
   ]
  },
  {
   "cell_type": "code",
   "execution_count": 61,
   "metadata": {},
   "outputs": [
    {
     "data": {
      "text/plain": [
       "array(['専用バス/\\t専用トイレ/\\tバス・トイレ別/\\tシャワー/\\t浴室乾燥機\\t/\\t温水洗浄便座',\n",
       "       '専用トイレ/\\tシャワー/\\t温水洗浄便座',\n",
       "       '専用バス/\\t専用トイレ/\\tバス・トイレ別/\\tシャワー/\\t浴室乾燥機\\t/\\t温水洗浄便座/\\t洗面台独立/\\t脱衣所',\n",
       "       '専用バス/\\t専用トイレ/\\tバス・トイレ別/\\tシャワー/\\t温水洗浄便座/\\t洗面台独立',\n",
       "       '専用バス/\\t専用トイレ/\\tバス・トイレ別/\\tシャワー/\\t追焚機能',\n",
       "       '専用バス/\\t専用トイレ/\\tバス・トイレ別/\\tシャワー/\\t追焚機能/\\t浴室乾燥機\\t/\\t温水洗浄便座/\\t洗面台独立/\\t脱衣所',\n",
       "       '専用バス/\\t専用トイレ/\\tバス・トイレ別/\\t追焚機能/\\t浴室乾燥機\\t/\\t温水洗浄便座/\\t洗面台独立/\\t脱衣所',\n",
       "       '専用バス/\\t専用トイレ/\\tバス・トイレ別/\\t追焚機能/\\t洗面台独立',\n",
       "       '専用バス/\\t専用トイレ/\\tバス・トイレ別/\\tシャワー/\\t洗面台独立', '専用トイレ',\n",
       "       '専用バス/\\t専用トイレ/\\tバス・トイレ別/\\tシャワー/\\t追焚機能/\\t浴室乾燥機\\t/\\t温水洗浄便座/\\t洗面台独立',\n",
       "       'バス・トイレ別/\\tシャワー/\\t追焚機能', 'シャワー',\n",
       "       '専用バス/\\t専用トイレ/\\tバス・トイレ別/\\tシャワー/\\t洗面台独立/\\t脱衣所',\n",
       "       'バス・トイレ別/\\tシャワー/\\t浴室乾燥機\\t/\\t温水洗浄便座/\\t洗面台独立/\\t脱衣所',\n",
       "       '専用バス/\\tバス・トイレ別/\\tシャワー/\\t浴室乾燥機\\t/\\t温水洗浄便座/\\t洗面台独立',\n",
       "       '専用バス/\\t専用トイレ/\\tバス・トイレ別/\\tシャワー/\\t追焚機能/\\t洗面台独立/\\t脱衣所',\n",
       "       '専用バス/\\t専用トイレ/\\tバス・トイレ別/\\tシャワー', '専用バス/\\tシャワー',\n",
       "       '専用バス/\\t専用トイレ/\\tバス・トイレ別/\\tシャワー/\\t温水洗浄便座',\n",
       "       'シャワー/\\t追焚機能/\\t浴室乾燥機\\t/\\t洗面台独立',\n",
       "       '専用バス/\\t専用トイレ/\\tバス・トイレ別/\\tシャワー/\\t追焚機能/\\t洗面台独立',\n",
       "       'バス・トイレ別/\\tシャワー/\\t洗面台独立', '専用バス/\\t専用トイレ/\\tバス・トイレ別',\n",
       "       '専用バス/\\t専用トイレ/\\tバス・トイレ別/\\t追焚機能',\n",
       "       '専用バス/\\t専用トイレ/\\tバス・トイレ別/\\tシャワー/\\t浴室乾燥機\\t/\\t温水洗浄便座/\\t洗面台独立',\n",
       "       '専用トイレ/\\tバス・トイレ別/\\tシャワー/\\t浴室乾燥機',\n",
       "       '専用バス/\\t専用トイレ/\\tバス・トイレ別/\\tシャワー/\\t追焚機能/\\t温水洗浄便座/\\t洗面台独立/\\t脱衣所',\n",
       "       '専用バス/\\t専用トイレ/\\tバス・トイレ別/\\tシャワー/\\t浴室乾燥機\\t/\\t洗面台独立/\\t脱衣所',\n",
       "       'バス・トイレ別/\\tシャワー/\\t温水洗浄便座', 'バス・トイレ別/\\t追焚機能/\\t浴室乾燥機',\n",
       "       '専用バス/\\t専用トイレ/\\tシャワー',\n",
       "       '専用バス/\\t専用トイレ/\\tバス・トイレ別/\\tシャワー/\\t追焚機能/\\t浴室乾燥機\\t/\\t洗面台独立/\\t脱衣所',\n",
       "       '専用バス/\\t専用トイレ/\\tバス・トイレ別/\\tシャワー/\\t浴室乾燥機',\n",
       "       '専用バス/\\t専用トイレ/\\tバス・トイレ別/\\t浴室乾燥機\\t/\\t温水洗浄便座/\\t洗面台独立/\\t脱衣所',\n",
       "       'バス・トイレ別/\\tシャワー/\\t追焚機能/\\t温水洗浄便座/\\t洗面台独立',\n",
       "       '専用バス/\\tバス・トイレ別/\\tシャワー/\\t追焚機能/\\t浴室乾燥機\\t/\\t温水洗浄便座/\\t洗面台独立/\\t脱衣所',\n",
       "       'バス・トイレ別/\\tシャワー/\\t浴室乾燥機\\t/\\t温水洗浄便座/\\t洗面台独立',\n",
       "       'バス・トイレ別/\\tシャワー/\\t追焚機能/\\t洗面台独立',\n",
       "       'バス・トイレ別/\\t浴室乾燥機\\t/\\t温水洗浄便座/\\t洗面台独立',\n",
       "       '専用バス/\\t専用トイレ/\\tバス・トイレ別/\\tシャワー/\\t温水洗浄便座/\\t洗面台独立/\\t脱衣所',\n",
       "       '専用バス/\\t専用トイレ/\\tシャワー/\\t脱衣所', 'バス・トイレ別/\\tシャワー',\n",
       "       '専用バス/\\tバス・トイレ別/\\tシャワー/\\t洗面台独立', '専用バス/\\t専用トイレ/\\tバス・トイレ別/\\t温水洗浄便座',\n",
       "       '専用バス/\\tバス・トイレ別/\\tシャワー/\\t追焚機能/\\t浴室乾燥機\\t/\\t洗面台独立', '共同トイレ',\n",
       "       '専用バス/\\t専用トイレ/\\tシャワー/\\t浴室乾燥機',\n",
       "       '専用バス/\\tバス・トイレ別/\\tシャワー/\\t追焚機能/\\t温水洗浄便座/\\t洗面台独立',\n",
       "       '専用バス/\\t専用トイレ/\\tバス・トイレ別/\\t浴室乾燥機\\t/\\t温水洗浄便座',\n",
       "       '専用バス/\\tバス・トイレ別/\\tシャワー/\\t追焚機能/\\t浴室乾燥機\\t/\\t温水洗浄便座/\\t洗面台独立',\n",
       "       '専用バス/\\t専用トイレ/\\tバス・トイレ別/\\tシャワー/\\t追焚機能/\\t浴室乾燥機\\t/\\t洗面台独立',\n",
       "       '専用トイレ/\\tバス・トイレ別/\\tシャワー/\\t追焚機能/\\t浴室乾燥機\\t/\\t温水洗浄便座/\\t洗面台独立',\n",
       "       'バス・トイレ別/\\t洗面台独立/\\t脱衣所', '専用トイレ/\\tシャワー', nan,\n",
       "       'バス・トイレ別/\\tシャワー/\\t追焚機能/\\t浴室乾燥機\\t/\\t温水洗浄便座/\\t洗面台独立/\\t脱衣所',\n",
       "       '専用バス/\\tバス・トイレ別/\\t追焚機能/\\t洗面台独立/\\t脱衣所',\n",
       "       '専用バス/\\t専用トイレ/\\tシャワー/\\t追焚機能/\\t浴室乾燥機\\t/\\t温水洗浄便座/\\t洗面台独立/\\t脱衣所',\n",
       "       '共同トイレ/\\t洗面台独立',\n",
       "       'バス・トイレ別/\\tシャワー/\\t追焚機能/\\t浴室乾燥機\\t/\\t温水洗浄便座/\\t洗面台独立',\n",
       "       '専用バス/\\t専用トイレ/\\tバス・トイレ別/\\t追焚機能/\\t浴室乾燥機\\t/\\t温水洗浄便座/\\t洗面台独立',\n",
       "       '専用バス/\\tバス・トイレ別/\\tシャワー/\\t浴室乾燥機\\t/\\t温水洗浄便座',\n",
       "       '専用バス/\\tバス・トイレ別/\\tシャワー', '専用トイレ/\\tバス・トイレ別/\\t浴室乾燥機\\t/\\t洗面台独立',\n",
       "       '専用トイレ/\\tバス・トイレ別/\\tシャワー/\\t浴室乾燥機\\t/\\t温水洗浄便座/\\t洗面台独立',\n",
       "       '専用トイレ/\\tバス・トイレ別/\\tシャワー',\n",
       "       '専用バス/\\t専用トイレ/\\tシャワー/\\t浴室乾燥機\\t/\\t温水洗浄便座/\\t洗面台独立/\\t脱衣所',\n",
       "       '専用トイレ/\\tバス・トイレ別/\\tシャワー/\\t温水洗浄便座/\\t洗面台独立',\n",
       "       '専用バス/\\tバス・トイレ別/\\tシャワー/\\t追焚機能/\\t洗面台独立',\n",
       "       '専用バス/\\t専用トイレ/\\tバス・トイレ別/\\tシャワー/\\t追焚機能/\\t浴室乾燥機\\t/\\t温水洗浄便座',\n",
       "       'バスなし/\\t専用トイレ/\\tシャワー/\\t温水洗浄便座',\n",
       "       '専用バス/\\t専用トイレ/\\tバス・トイレ別/\\tシャワー/\\t浴室乾燥機\\t/\\t温水洗浄便座/\\t脱衣所',\n",
       "       '専用トイレ/\\tバス・トイレ別/\\tシャワー/\\t洗面台独立', '専用トイレ/\\tバス・トイレ別/\\t温水洗浄便座',\n",
       "       'バスなし/\\tシャワー/\\t温水洗浄便座', '専用バス/\\t専用トイレ/\\tバス・トイレ別/\\t洗面台独立',\n",
       "       'バス・トイレ別/\\tシャワー/\\t浴室乾燥機',\n",
       "       '専用バス/\\t専用トイレ/\\tバス・トイレ別/\\tシャワー/\\t追焚機能/\\t脱衣所',\n",
       "       '専用バス/\\t専用トイレ/\\tバス・トイレ別/\\t追焚機能/\\t浴室乾燥機\\t/\\t洗面台独立',\n",
       "       '専用バス/\\tバス・トイレ別/\\t浴室乾燥機\\t/\\t洗面台独立',\n",
       "       'バスなし/\\t専用トイレ/\\tバス・トイレ別/\\tシャワー/\\t浴室乾燥機\\t/\\t温水洗浄便座',\n",
       "       '専用バス/\\tバス・トイレ別/\\tシャワー/\\t浴室乾燥機\\t/\\t洗面台独立',\n",
       "       'バス・トイレ別/\\tシャワー/\\t洗面台独立/\\t脱衣所', 'バス・トイレ別/\\tシャワー/\\t温水洗浄便座/\\t洗面台独立',\n",
       "       '専用バス/\\t専用トイレ/\\tバス・トイレ別/\\tシャワー/\\t追焚機能/\\t温水洗浄便座/\\t洗面台独立',\n",
       "       '専用バス/\\t専用トイレ/\\tバス・トイレ別/\\tシャワー/\\t追焚機能/\\t温水洗浄便座/\\t脱衣所',\n",
       "       'バス・トイレ別/\\tシャワー/\\t追焚機能/\\t浴室乾燥機\\t/\\t洗面台独立', '専用バス/\\t専用トイレ/\\t洗面台独立',\n",
       "       'バス・トイレ別/\\tシャワー/\\t浴室乾燥機\\t/\\t温水洗浄便座',\n",
       "       'バス・トイレ別/\\tシャワー/\\t追焚機能/\\t浴室乾燥機\\t/\\t洗面台独立/\\t脱衣所', '専用バス/\\t専用トイレ',\n",
       "       '専用バス/\\t専用トイレ/\\tバス・トイレ別/\\t追焚機能/\\t温水洗浄便座/\\t洗面台独立/\\t脱衣所',\n",
       "       '専用トイレ/\\tバス・トイレ別/\\tシャワー/\\t浴室乾燥機\\t/\\t洗面台独立',\n",
       "       '専用バス/\\tバス・トイレ別/\\tシャワー/\\t浴室乾燥機\\t/\\t温水洗浄便座/\\t洗面台独立/\\t脱衣所',\n",
       "       '専用バス/\\t専用トイレ/\\tバス・トイレ別/\\tシャワー/\\t浴室乾燥機\\t/\\t洗面台独立',\n",
       "       '専用バス/\\t専用トイレ/\\tバス・トイレ別/\\tシャワー/\\t脱衣所',\n",
       "       '専用バス/\\t専用トイレ/\\tバス・トイレ別/\\t温水洗浄便座/\\t脱衣所', '共同バス/\\t共同トイレ/\\tシャワー',\n",
       "       '専用バス/\\t専用トイレ/\\tシャワー/\\t追焚機能',\n",
       "       '専用バス/\\t専用トイレ/\\tバス・トイレ別/\\t浴室乾燥機\\t/\\t洗面台独立', '浴室乾燥機\\t/\\t温水洗浄便座',\n",
       "       'バス・トイレ別/\\t追焚機能/\\t温水洗浄便座/\\t洗面台独立', '共同トイレ/\\t温水洗浄便座/\\t洗面台独立',\n",
       "       '専用バス/\\t専用トイレ/\\tバス・トイレ別/\\t浴室乾燥機\\t/\\t洗面台独立/\\t脱衣所',\n",
       "       '専用バス/\\t専用トイレ/\\tバス・トイレ別/\\tシャワー/\\t温水洗浄便座/\\t脱衣所',\n",
       "       '追焚機能/\\t浴室乾燥機\\t/\\t洗面台独立', '専用トイレ/\\tバス・トイレ別',\n",
       "       'バス・トイレ別/\\t浴室乾燥機\\t/\\t洗面台独立',\n",
       "       '専用バス/\\t専用トイレ/\\tシャワー/\\t浴室乾燥機\\t/\\t洗面台独立/\\t脱衣所',\n",
       "       '専用トイレ/\\tバス・トイレ別/\\t追焚機能/\\t温水洗浄便座/\\t洗面台独立',\n",
       "       'バス・トイレ別/\\tシャワー/\\t追焚機能/\\t温水洗浄便座',\n",
       "       '専用トイレ/\\tバス・トイレ別/\\tシャワー/\\t追焚機能/\\t洗面台独立', 'バス・トイレ別',\n",
       "       '専用バス/\\t専用トイレ/\\tバス・トイレ別/\\t浴室乾燥機\\t/\\t温水洗浄便座/\\t洗面台独立',\n",
       "       'バス・トイレ別/\\t追焚機能/\\t浴室乾燥機\\t/\\t温水洗浄便座/\\t洗面台独立',\n",
       "       'バス・トイレ別/\\t温水洗浄便座/\\t洗面台独立', 'シャワー/\\t脱衣所',\n",
       "       '専用バス/\\t専用トイレ/\\tシャワー/\\t温水洗浄便座', '追焚機能',\n",
       "       '専用バス/\\t専用トイレ/\\tバス・トイレ別/\\t追焚機能/\\t洗面台独立/\\t脱衣所',\n",
       "       'バス・トイレ別/\\t追焚機能/\\t温水洗浄便座/\\t洗面台独立/\\t脱衣所',\n",
       "       'バス・トイレ別/\\t浴室乾燥機\\t/\\t温水洗浄便座', '専用トイレ/\\tバス・トイレ別/\\tシャワー/\\t温水洗浄便座',\n",
       "       '専用バス/\\t専用トイレ/\\tバス・トイレ別/\\t追焚機能/\\t浴室乾燥機',\n",
       "       '専用バス/\\t専用トイレ/\\tバス・トイレ別/\\tシャワー/\\t追焚機能/\\t温水洗浄便座',\n",
       "       'バス・トイレ別/\\tシャワー/\\t浴室乾燥機\\t/\\t温水洗浄便座/\\t脱衣所',\n",
       "       '専用バス/\\tバス・トイレ別/\\tシャワー/\\t温水洗浄便座/\\t洗面台独立', '浴室乾燥機', 'シャワー/\\t追焚機能',\n",
       "       'バス・トイレ別/\\tシャワー/\\t脱衣所', '専用トイレ/\\tバス・トイレ別/\\t追焚機能/\\t洗面台独立',\n",
       "       '専用バス/\\t専用トイレ/\\tバス・トイレ別/\\t追焚機能/\\t浴室乾燥機\\t/\\t洗面台独立/\\t脱衣所',\n",
       "       '専用バス/\\t専用トイレ/\\tバス・トイレ別/\\t浴室乾燥機',\n",
       "       '専用バス/\\t専用トイレ/\\tバス・トイレ別/\\t温水洗浄便座/\\t洗面台独立/\\t脱衣所',\n",
       "       '専用バス/\\t専用トイレ/\\tバス・トイレ別/\\t追焚機能/\\t温水洗浄便座',\n",
       "       'バス・トイレ別/\\tシャワー/\\t浴室乾燥機\\t/\\t洗面台独立', '専用バス/\\t共同トイレ/\\tシャワー',\n",
       "       'シャワー/\\t温水洗浄便座', '専用トイレ/\\tバス・トイレ別/\\t追焚機能',\n",
       "       '専用バス/\\tバス・トイレ別/\\tシャワー/\\t浴室乾燥機', '専用トイレ/\\t温水洗浄便座',\n",
       "       '専用バス/\\tバス・トイレ別/\\t追焚機能/\\t浴室乾燥機\\t/\\t洗面台独立',\n",
       "       '専用バス/\\t専用トイレ/\\t追焚機能/\\t浴室乾燥機',\n",
       "       '専用バス/\\t専用トイレ/\\tシャワー/\\t温水洗浄便座/\\t洗面台独立',\n",
       "       '専用バス/\\t専用トイレ/\\tシャワー/\\t追焚機能/\\t浴室乾燥機\\t/\\t洗面台独立',\n",
       "       'バスなし/\\t専用トイレ/\\tバス・トイレ別/\\tシャワー/\\t温水洗浄便座/\\t脱衣所',\n",
       "       '専用トイレ/\\tシャワー/\\t浴室乾燥機\\t/\\t温水洗浄便座', '温水洗浄便座',\n",
       "       '専用トイレ/\\tシャワー/\\t浴室乾燥機\\t/\\t温水洗浄便座/\\t洗面台独立',\n",
       "       'バス・トイレ別/\\t追焚機能/\\t温水洗浄便座',\n",
       "       '専用バス/\\tバス・トイレ別/\\tシャワー/\\t追焚機能/\\t温水洗浄便座/\\t洗面台独立/\\t脱衣所',\n",
       "       '専用バス/\\t専用トイレ/\\tシャワー/\\t洗面台独立',\n",
       "       '専用バス/\\t専用トイレ/\\tシャワー/\\t浴室乾燥機\\t/\\t温水洗浄便座',\n",
       "       '専用バス/\\t専用トイレ/\\tバス・トイレ別/\\tシャワー/\\t追焚機能/\\t浴室乾燥機',\n",
       "       '専用トイレ/\\tバス・トイレ別/\\t追焚機能/\\t浴室乾燥機\\t/\\t温水洗浄便座/\\t洗面台独立',\n",
       "       'バス・トイレ別/\\tシャワー/\\t追焚機能/\\t温水洗浄便座/\\t洗面台独立/\\t脱衣所',\n",
       "       '専用トイレ/\\tバス・トイレ別/\\tシャワー/\\t追焚機能', '専用トイレ/\\tバス・トイレ別/\\t洗面台独立',\n",
       "       '共同バス/\\t共同トイレ/\\tバス・トイレ別/\\t温水洗浄便座/\\t洗面台独立/\\t脱衣所',\n",
       "       '共同トイレ/\\tバス・トイレ別/\\tシャワー',\n",
       "       '専用バス/\\t専用トイレ/\\tバス・トイレ別/\\t温水洗浄便座/\\t洗面台独立',\n",
       "       '専用バス/\\t専用トイレ/\\tバス・トイレ別/\\t追焚機能/\\t温水洗浄便座/\\t洗面台独立',\n",
       "       '専用トイレ/\\tバス・トイレ別/\\t浴室乾燥機\\t/\\t温水洗浄便座/\\t洗面台独立',\n",
       "       '専用トイレ/\\tバス・トイレ別/\\t温水洗浄便座/\\t洗面台独立', 'バス・トイレ別/\\t洗面台独立',\n",
       "       '専用バス/\\t専用トイレ/\\tシャワー/\\t追焚機能/\\t浴室乾燥機\\t/\\t温水洗浄便座',\n",
       "       '共同トイレ/\\tシャワー/\\t温水洗浄便座', '専用バス/\\t専用トイレ/\\tバス・トイレ別/\\t洗面台独立/\\t脱衣所',\n",
       "       '専用トイレ/\\tバス・トイレ別/\\tシャワー/\\t浴室乾燥機\\t/\\t温水洗浄便座',\n",
       "       'バス・トイレ別/\\t追焚機能/\\t温水洗浄便座/\\t脱衣所',\n",
       "       'バスなし/\\t専用トイレ/\\tバス・トイレ別/\\tシャワー/\\t温水洗浄便座',\n",
       "       'バス・トイレ別/\\t浴室乾燥機\\t/\\t温水洗浄便座/\\t洗面台独立/\\t脱衣所', 'バス・トイレ別/\\t浴室乾燥機',\n",
       "       '専用トイレ/\\tシャワー/\\t浴室乾燥機', '専用バス/\\t専用トイレ/\\tバス・トイレ別/\\t脱衣所',\n",
       "       'バス・トイレ別/\\tシャワー/\\t追焚機能/\\t浴室乾燥機',\n",
       "       '専用バス/\\t専用トイレ/\\tバス・トイレ別/\\tシャワー/\\t追焚機能/\\t浴室乾燥機\\t/\\t温水洗浄便座/\\t脱衣所',\n",
       "       '追焚機能/\\t浴室乾燥機', '専用バス', '専用バス/\\t専用トイレ/\\t温水洗浄便座/\\t洗面台独立/\\t脱衣所',\n",
       "       'バスなし/\\t専用トイレ/\\t洗面台独立/\\t脱衣所', '専用バス/\\t専用トイレ/\\t追焚機能/\\t温水洗浄便座',\n",
       "       'シャワー/\\t洗面台独立', 'バス・トイレ別/\\t追焚機能/\\t浴室乾燥機\\t/\\t洗面台独立',\n",
       "       'バスなし/\\t専用トイレ/\\tシャワー', '共同バス/\\t共同トイレ/\\t洗面台独立',\n",
       "       '専用バス/\\t専用トイレ/\\tシャワー/\\t温水洗浄便座/\\t洗面台独立/\\t脱衣所',\n",
       "       'バス・トイレ別/\\tシャワー/\\t浴室乾燥機\\t/\\t洗面台独立/\\t脱衣所',\n",
       "       '専用バス/\\t専用トイレ/\\tシャワー/\\t洗面台独立/\\t脱衣所',\n",
       "       'バスなし/\\t専用トイレ/\\tバス・トイレ別/\\t追焚機能/\\t浴室乾燥機\\t/\\t温水洗浄便座/\\t洗面台独立',\n",
       "       '専用バス/\\tバス・トイレ別/\\tシャワー/\\t温水洗浄便座',\n",
       "       '専用トイレ/\\tバス・トイレ別/\\tシャワー/\\t温水洗浄便座/\\t洗面台独立/\\t脱衣所',\n",
       "       '専用バス/\\tバス・トイレ別/\\tシャワー/\\t洗面台独立/\\t脱衣所', 'バス・トイレ別/\\t温水洗浄便座',\n",
       "       '専用バス/\\t専用トイレ/\\t浴室乾燥機\\t/\\t温水洗浄便座', 'バス・トイレ別/\\t追焚機能/\\t洗面台独立',\n",
       "       '専用バス/\\t専用トイレ/\\t温水洗浄便座/\\t洗面台独立',\n",
       "       '共同バス/\\t共同トイレ/\\tバス・トイレ別/\\tシャワー/\\t温水洗浄便座/\\t洗面台独立/\\t脱衣所',\n",
       "       '専用トイレ/\\tシャワー/\\t洗面台独立',\n",
       "       '専用バス/\\tバス・トイレ別/\\t追焚機能/\\t浴室乾燥機\\t/\\t温水洗浄便座/\\t洗面台独立',\n",
       "       'バス・トイレ別/\\tシャワー/\\t温水洗浄便座/\\t洗面台独立/\\t脱衣所',\n",
       "       '専用バス/\\tバス・トイレ別/\\tシャワー/\\t追焚機能',\n",
       "       '専用バス/\\t専用トイレ/\\tシャワー/\\t追焚機能/\\t浴室乾燥機\\t/\\t温水洗浄便座/\\t洗面台独立',\n",
       "       'バス・トイレ別/\\t追焚機能', 'バスなし/\\t専用トイレ',\n",
       "       '専用トイレ/\\tバス・トイレ別/\\tシャワー/\\t追焚機能/\\t温水洗浄便座',\n",
       "       'バス・トイレ別/\\tシャワー/\\t追焚機能/\\t浴室乾燥機\\t/\\t温水洗浄便座', 'バスなし/\\t共同トイレ',\n",
       "       '専用トイレ/\\tシャワー/\\t温水洗浄便座/\\t洗面台独立',\n",
       "       '専用トイレ/\\tバス・トイレ別/\\tシャワー/\\t追焚機能/\\t浴室乾燥機\\t/\\t洗面台独立',\n",
       "       '専用バス/\\t専用トイレ/\\tシャワー/\\t浴室乾燥機\\t/\\t温水洗浄便座/\\t洗面台独立',\n",
       "       '専用トイレ/\\tバス・トイレ別/\\tシャワー/\\t追焚機能/\\t温水洗浄便座/\\t洗面台独立',\n",
       "       'シャワー/\\t温水洗浄便座/\\t洗面台独立', 'バス・トイレ別/\\t追焚機能/\\t浴室乾燥機\\t/\\t温水洗浄便座',\n",
       "       '専用トイレ/\\tバス・トイレ別/\\tシャワー/\\t洗面台独立/\\t脱衣所',\n",
       "       '専用トイレ/\\tバス・トイレ別/\\tシャワー/\\t追焚機能/\\t浴室乾燥機\\t/\\t温水洗浄便座/\\t洗面台独立/\\t脱衣所',\n",
       "       '専用バス/\\t専用トイレ/\\tバス・トイレ別/\\tシャワー/\\t追焚機能/\\t浴室乾燥機\\t/\\t脱衣所',\n",
       "       '専用バス/\\t専用トイレ/\\tシャワー/\\t追焚機能/\\t浴室乾燥機',\n",
       "       '専用バス/\\t専用トイレ/\\tシャワー/\\t追焚機能/\\t洗面台独立/\\t脱衣所',\n",
       "       'シャワー/\\t追焚機能/\\t浴室乾燥機\\t/\\t温水洗浄便座/\\t洗面台独立', '共同バス/\\t共同トイレ',\n",
       "       'シャワー/\\t追焚機能/\\t浴室乾燥機\\t/\\t温水洗浄便座',\n",
       "       'バス・トイレ別/\\t追焚機能/\\t浴室乾燥機\\t/\\t洗面台独立/\\t脱衣所',\n",
       "       '専用バス/\\t専用トイレ/\\tシャワー/\\t追焚機能/\\t温水洗浄便座', '専用バス/\\t専用トイレ/\\t温水洗浄便座',\n",
       "       'バス・トイレ別/\\tシャワー/\\t温水洗浄便座/\\t脱衣所', 'シャワー/\\t浴室乾燥機',\n",
       "       'バスなし/\\t専用トイレ/\\tバス・トイレ別/\\tシャワー/\\t追焚機能',\n",
       "       '専用バス/\\t専用トイレ/\\tバス・トイレ別/\\t追焚機能/\\t浴室乾燥機\\t/\\t温水洗浄便座',\n",
       "       'バス・トイレ別/\\tシャワー/\\t追焚機能/\\t洗面台独立/\\t脱衣所', '追焚機能/\\t洗面台独立',\n",
       "       '専用バス/\\tバス・トイレ別/\\tシャワー/\\t追焚機能/\\t温水洗浄便座',\n",
       "       '専用バス/\\t専用トイレ/\\tバス・トイレ別/\\tシャワー/\\t浴室乾燥機\\t/\\t脱衣所',\n",
       "       '専用バス/\\tシャワー/\\t浴室乾燥機', '追焚機能/\\t浴室乾燥機\\t/\\t温水洗浄便座',\n",
       "       '専用バス/\\t専用トイレ/\\tシャワー/\\t追焚機能/\\t温水洗浄便座/\\t脱衣所', '専用トイレ/\\tシャワー/\\t追焚機能',\n",
       "       '専用バス/\\tバス・トイレ別/\\t浴室乾燥機\\t/\\t温水洗浄便座/\\t洗面台独立', 'シャワー/\\t追焚機能/\\t浴室乾燥機',\n",
       "       '専用バス/\\tバス・トイレ別/\\tシャワー/\\t追焚機能/\\t浴室乾燥機\\t/\\t温水洗浄便座',\n",
       "       '専用トイレ/\\t温水洗浄便座/\\t洗面台独立', '共同バス/\\t共同トイレ/\\tシャワー/\\t洗面台独立',\n",
       "       'シャワー/\\t追焚機能/\\t温水洗浄便座/\\t洗面台独立', 'シャワー/\\t浴室乾燥機\\t/\\t温水洗浄便座',\n",
       "       'シャワー/\\t追焚機能/\\t浴室乾燥機\\t/\\t温水洗浄便座/\\t洗面台独立/\\t脱衣所',\n",
       "       '専用バス/\\t専用トイレ/\\tシャワー/\\t浴室乾燥機\\t/\\t脱衣所', '専用トイレ/\\t洗面台独立',\n",
       "       '専用バス/\\tバス・トイレ別', 'シャワー/\\t浴室乾燥機\\t/\\t温水洗浄便座/\\t洗面台独立',\n",
       "       '専用バス/\\t専用トイレ/\\t追焚機能/\\t浴室乾燥機\\t/\\t温水洗浄便座',\n",
       "       '専用トイレ/\\tシャワー/\\t温水洗浄便座/\\t洗面台独立/\\t脱衣所', 'シャワー/\\t追焚機能/\\t洗面台独立',\n",
       "       '専用バス/\\tバス・トイレ別/\\t追焚機能/\\t温水洗浄便座/\\t洗面台独立', '共同トイレ/\\tバス・トイレ別',\n",
       "       '専用トイレ/\\tバス・トイレ別/\\t追焚機能/\\t温水洗浄便座',\n",
       "       '共同バス/\\t専用トイレ/\\tバス・トイレ別/\\tシャワー/\\t浴室乾燥機\\t/\\t温水洗浄便座/\\t洗面台独立',\n",
       "       '専用トイレ/\\tバス・トイレ別/\\t追焚機能/\\t浴室乾燥機\\t/\\t洗面台独立',\n",
       "       'バス・トイレ別/\\tシャワー/\\t追焚機能/\\t脱衣所', '専用バス/\\t温水洗浄便座',\n",
       "       '専用トイレ/\\tバス・トイレ別/\\tシャワー/\\t追焚機能/\\t浴室乾燥機\\t/\\t温水洗浄便座/\\t脱衣所',\n",
       "       'シャワー/\\t追焚機能/\\t温水洗浄便座', 'バス・トイレ別/\\t追焚機能/\\t洗面台独立/\\t脱衣所',\n",
       "       '専用トイレ/\\tシャワー/\\t追焚機能/\\t浴室乾燥機\\t/\\t温水洗浄便座/\\t洗面台独立',\n",
       "       'バスなし/\\t専用トイレ/\\tシャワー/\\t浴室乾燥機',\n",
       "       '専用バス/\\tシャワー/\\t追焚機能/\\t浴室乾燥機\\t/\\t洗面台独立', '専用トイレ/\\tバス・トイレ別/\\t浴室乾燥機',\n",
       "       '専用バス/\\tバス・トイレ別/\\t浴室乾燥機\\t/\\t温水洗浄便座',\n",
       "       'バス・トイレ別/\\t追焚機能/\\t浴室乾燥機\\t/\\t温水洗浄便座/\\t洗面台独立/\\t脱衣所',\n",
       "       '専用バス/\\tバス・トイレ別/\\tシャワー/\\t追焚機能/\\t洗面台独立/\\t脱衣所',\n",
       "       '専用バス/\\t専用トイレ/\\t追焚機能', 'バスなし', 'バス・トイレ別/\\t脱衣所',\n",
       "       '専用バス/\\t専用トイレ/\\tシャワー/\\t追焚機能/\\t温水洗浄便座/\\t洗面台独立/\\t脱衣所',\n",
       "       '専用トイレ/\\tバス・トイレ別/\\tシャワー/\\t追焚機能/\\t洗面台独立/\\t脱衣所',\n",
       "       '共同バス/\\t共同トイレ/\\tバス・トイレ別/\\tシャワー/\\t浴室乾燥機\\t/\\t温水洗浄便座/\\t洗面台独立/\\t脱衣所',\n",
       "       '専用トイレ/\\tバス・トイレ別/\\tシャワー/\\t追焚機能/\\t浴室乾燥機\\t/\\t温水洗浄便座',\n",
       "       '専用トイレ/\\tバス・トイレ別/\\tシャワー/\\t浴室乾燥機\\t/\\t温水洗浄便座/\\t洗面台独立/\\t脱衣所',\n",
       "       '専用バス/\\t専用トイレ/\\tシャワー/\\t温水洗浄便座/\\t脱衣所', '専用バス/\\t共同トイレ/\\tシャワー/\\t追焚機能',\n",
       "       'バスなし/\\t専用トイレ/\\tシャワー/\\t温水洗浄便座/\\t洗面台独立/\\t脱衣所',\n",
       "       '追焚機能/\\t温水洗浄便座/\\t洗面台独立',\n",
       "       '共同バス/\\t共同トイレ/\\tバス・トイレ別/\\tシャワー/\\t追焚機能/\\t洗面台独立/\\t脱衣所',\n",
       "       '共同トイレ/\\tシャワー', '洗面台独立',\n",
       "       '専用バス/\\t専用トイレ/\\t浴室乾燥機\\t/\\t温水洗浄便座/\\t洗面台独立/\\t脱衣所',\n",
       "       'バスなし/\\t専用トイレ/\\tバス・トイレ別/\\tシャワー/\\t浴室乾燥機',\n",
       "       '専用トイレ/\\tバス・トイレ別/\\tシャワー/\\t追焚機能/\\t浴室乾燥機',\n",
       "       '専用バス/\\tバス・トイレ別/\\tシャワー/\\t追焚機能/\\t浴室乾燥機',\n",
       "       '専用バス/\\t専用トイレ/\\tシャワー/\\t浴室乾燥機\\t/\\t温水洗浄便座/\\t脱衣所',\n",
       "       '専用バス/\\tバス・トイレ別/\\t洗面台独立',\n",
       "       '専用トイレ/\\tバス・トイレ別/\\tシャワー/\\t追焚機能/\\t温水洗浄便座/\\t洗面台独立/\\t脱衣所',\n",
       "       '追焚機能/\\t浴室乾燥機\\t/\\t温水洗浄便座/\\t洗面台独立',\n",
       "       'バスなし/\\tバス・トイレ別/\\tシャワー/\\t追焚機能/\\t浴室乾燥機\\t/\\t温水洗浄便座/\\t洗面台独立',\n",
       "       '専用バス/\\t専用トイレ/\\tバス・トイレ別/\\t追焚機能/\\t脱衣所', 'バスなし/\\t共同トイレ/\\tシャワー',\n",
       "       '専用バス/\\tバス・トイレ別/\\t温水洗浄便座', '専用トイレ/\\tバス・トイレ別/\\t浴室乾燥機\\t/\\t温水洗浄便座',\n",
       "       '専用バス/\\t専用トイレ/\\tシャワー/\\t追焚機能/\\t脱衣所', 'バスなし/\\tシャワー/\\t洗面台独立',\n",
       "       '共同バス/\\t専用トイレ/\\tバス・トイレ別/\\tシャワー/\\t洗面台独立/\\t脱衣所',\n",
       "       'バス・トイレ別/\\tシャワー/\\t追焚機能/\\t浴室乾燥機\\t/\\t脱衣所',\n",
       "       '専用トイレ/\\tバス・トイレ別/\\tシャワー/\\t追焚機能/\\t温水洗浄便座/\\t脱衣所',\n",
       "       '専用トイレ/\\tバス・トイレ別/\\t追焚機能/\\t浴室乾燥機\\t/\\t温水洗浄便座',\n",
       "       'バス・トイレ別/\\tシャワー/\\t追焚機能/\\t温水洗浄便座/\\t脱衣所',\n",
       "       '専用バス/\\t専用トイレ/\\tシャワー/\\t追焚機能/\\t浴室乾燥機\\t/\\t温水洗浄便座/\\t脱衣所',\n",
       "       '専用バス/\\t専用トイレ/\\tシャワー/\\t追焚機能/\\t洗面台独立',\n",
       "       '専用トイレ/\\tバス・トイレ別/\\t追焚機能/\\t浴室乾燥機',\n",
       "       '専用バス/\\t専用トイレ/\\tシャワー/\\t浴室乾燥機\\t/\\t洗面台独立',\n",
       "       '専用トイレ/\\tシャワー/\\t浴室乾燥機\\t/\\t洗面台独立/\\t脱衣所', 'バスなし/\\t専用トイレ/\\t洗面台独立',\n",
       "       '専用トイレ/\\tバス・トイレ別/\\tシャワー/\\t追焚機能/\\t浴室乾燥機\\t/\\t洗面台独立/\\t脱衣所',\n",
       "       '専用トイレ/\\t浴室乾燥機\\t/\\t温水洗浄便座/\\t洗面台独立',\n",
       "       '専用バス/\\t専用トイレ/\\tシャワー/\\t追焚機能/\\t温水洗浄便座/\\t洗面台独立',\n",
       "       'バス・トイレ別/\\tシャワー/\\t追焚機能/\\t浴室乾燥機\\t/\\t温水洗浄便座/\\t脱衣所',\n",
       "       '専用バス/\\tバス・トイレ別/\\t温水洗浄便座/\\t洗面台独立', '浴室乾燥機\\t/\\t温水洗浄便座/\\t洗面台独立',\n",
       "       '専用バス/\\t専用トイレ/\\tバス・トイレ別/\\t浴室乾燥機\\t/\\t脱衣所', '温水洗浄便座/\\t洗面台独立',\n",
       "       '専用バス/\\t共同トイレ/\\tバス・トイレ別/\\tシャワー/\\t追焚機能/\\t浴室乾燥機\\t/\\t洗面台独立/\\t脱衣所',\n",
       "       '専用バス/\\tバス・トイレ別/\\t追焚機能/\\t洗面台独立',\n",
       "       '専用バス/\\t専用トイレ/\\t浴室乾燥機\\t/\\t温水洗浄便座/\\t洗面台独立',\n",
       "       'バスなし/\\tバス・トイレ別/\\tシャワー/\\t洗面台独立/\\t脱衣所',\n",
       "       '共同バス/\\t共同トイレ/\\tシャワー/\\t温水洗浄便座/\\t洗面台独立/\\t脱衣所',\n",
       "       '専用バス/\\tバス・トイレ別/\\tシャワー/\\t追焚機能/\\t浴室乾燥機\\t/\\t洗面台独立/\\t脱衣所',\n",
       "       '専用トイレ/\\tバス・トイレ別/\\tシャワー/\\t温水洗浄便座/\\t脱衣所', 'バスなし/\\tシャワー',\n",
       "       '専用トイレ/\\tシャワー/\\t浴室乾燥機\\t/\\t温水洗浄便座/\\t洗面台独立/\\t脱衣所',\n",
       "       '専用トイレ/\\t追焚機能/\\t浴室乾燥機\\t/\\t温水洗浄便座/\\t洗面台独立',\n",
       "       'バスなし/\\t専用トイレ/\\tバス・トイレ別/\\tシャワー', '専用バス/\\tシャワー/\\t追焚機能',\n",
       "       '浴室乾燥機\\t/\\t洗面台独立',\n",
       "       'バスなし/\\t専用トイレ/\\tバス・トイレ別/\\tシャワー/\\t浴室乾燥機\\t/\\t温水洗浄便座/\\t洗面台独立/\\t脱衣所',\n",
       "       '専用バス/\\tシャワー/\\t追焚機能/\\t浴室乾燥機\\t/\\t温水洗浄便座/\\t洗面台独立',\n",
       "       '専用バス/\\t専用トイレ/\\tバス・トイレ別/\\t浴室乾燥機\\t/\\t温水洗浄便座/\\t脱衣所',\n",
       "       '専用バス/\\t専用トイレ/\\tバス・トイレ別/\\t追焚機能/\\t浴室乾燥機\\t/\\t脱衣所',\n",
       "       'バスなし/\\tシャワー/\\t浴室乾燥機\\t/\\t温水洗浄便座', 'バス・トイレ別/\\tシャワー/\\t浴室乾燥機\\t/\\t脱衣所',\n",
       "       '共同バス/\\t専用トイレ/\\tバス・トイレ別/\\tシャワー',\n",
       "       'バスなし/\\t専用トイレ/\\tシャワー/\\t温水洗浄便座/\\t洗面台独立',\n",
       "       'バスなし/\\t専用トイレ/\\tシャワー/\\t浴室乾燥機\\t/\\t温水洗浄便座/\\t洗面台独立',\n",
       "       '専用バス/\\tシャワー/\\t追焚機能/\\t洗面台独立', 'バス・トイレ別/\\t温水洗浄便座/\\t洗面台独立/\\t脱衣所',\n",
       "       '専用バス/\\tバス・トイレ別/\\tシャワー/\\t浴室乾燥機\\t/\\t温水洗浄便座/\\t脱衣所', '追焚機能/\\t温水洗浄便座',\n",
       "       '専用バス/\\tバス・トイレ別/\\t追焚機能', '専用バス/\\t専用トイレ/\\t浴室乾燥機',\n",
       "       '専用バス/\\t専用トイレ/\\t脱衣所', 'バスなし/\\t専用トイレ/\\tシャワー/\\t洗面台独立',\n",
       "       'バス・トイレ別/\\t浴室乾燥機\\t/\\t洗面台独立/\\t脱衣所',\n",
       "       '共同バス/\\t共同トイレ/\\tバス・トイレ別/\\t浴室乾燥機\\t/\\t温水洗浄便座/\\t洗面台独立',\n",
       "       '専用トイレ/\\t浴室乾燥機\\t/\\t洗面台独立', '追焚機能/\\t浴室乾燥機\\t/\\t脱衣所',\n",
       "       '共同バス/\\t共同トイレ/\\tバス・トイレ別/\\tシャワー/\\t追焚機能/\\t浴室乾燥機\\t/\\t温水洗浄便座/\\t洗面台独立/\\t脱衣所',\n",
       "       '共同バス/\\t共同トイレ/\\tバス・トイレ別/\\tシャワー', '専用バス/\\t共同トイレ/\\t洗面台独立',\n",
       "       '専用バス/\\t共同トイレ',\n",
       "       '共同バス/\\t共同トイレ/\\tシャワー/\\t追焚機能/\\t温水洗浄便座/\\t洗面台独立/\\t脱衣所',\n",
       "       '専用バス/\\tバス・トイレ別/\\t浴室乾燥機', '共同バス/\\t共同トイレ/\\tシャワー/\\t温水洗浄便座',\n",
       "       'バスなし/\\t専用トイレ/\\tシャワー/\\t浴室乾燥機\\t/\\t温水洗浄便座',\n",
       "       '共同バス/\\t専用トイレ/\\tバス・トイレ別/\\tシャワー/\\t浴室乾燥機\\t/\\t温水洗浄便座/\\t洗面台独立/\\t脱衣所',\n",
       "       '専用バス/\\t共同トイレ/\\tバス・トイレ別/\\tシャワー/\\t温水洗浄便座/\\t洗面台独立',\n",
       "       '専用バス/\\tシャワー/\\t追焚機能/\\t温水洗浄便座', '専用トイレ/\\tシャワー/\\t浴室乾燥機\\t/\\t洗面台独立',\n",
       "       '専用トイレ/\\tバス・トイレ別/\\tシャワー/\\t浴室乾燥機\\t/\\t洗面台独立/\\t脱衣所',\n",
       "       'バスなし/\\t専用トイレ/\\tバス・トイレ別/\\tシャワー/\\t温水洗浄便座/\\t洗面台独立',\n",
       "       '専用バス/\\tシャワー/\\t浴室乾燥機\\t/\\t温水洗浄便座/\\t洗面台独立',\n",
       "       '共同バス/\\t専用トイレ/\\tバス・トイレ別/\\tシャワー/\\t温水洗浄便座/\\t洗面台独立/\\t脱衣所',\n",
       "       'バスなし/\\t専用トイレ/\\tバス・トイレ別/\\tシャワー/\\t洗面台独立',\n",
       "       'バスなし/\\t専用トイレ/\\tシャワー/\\t浴室乾燥機\\t/\\t温水洗浄便座/\\t洗面台独立/\\t脱衣所',\n",
       "       '専用バス/\\t専用トイレ/\\tバス・トイレ別/\\t追焚機能/\\t浴室乾燥機\\t/\\t温水洗浄便座/\\t脱衣所',\n",
       "       '専用トイレ/\\t浴室乾燥機', '専用バス/\\tバス・トイレ別/\\t追焚機能/\\t浴室乾燥機',\n",
       "       'バスなし/\\tシャワー/\\t浴室乾燥機\\t/\\t温水洗浄便座/\\t洗面台独立', '専用トイレ/\\t追焚機能',\n",
       "       '共同トイレ/\\tバス・トイレ別/\\tシャワー/\\t追焚機能/\\t温水洗浄便座/\\t洗面台独立',\n",
       "       '共同バス/\\t専用トイレ/\\tシャワー', '専用バス/\\tシャワー/\\t温水洗浄便座',\n",
       "       '専用バス/\\tシャワー/\\t追焚機能/\\t浴室乾燥機',\n",
       "       '専用バス/\\t専用トイレ/\\tシャワー/\\t追焚機能/\\t浴室乾燥機\\t/\\t洗面台独立/\\t脱衣所',\n",
       "       'バスなし/\\t専用トイレ/\\tバス・トイレ別/\\t追焚機能/\\t浴室乾燥機\\t/\\t洗面台独立',\n",
       "       '専用バス/\\t専用トイレ/\\t追焚機能/\\t浴室乾燥機\\t/\\t温水洗浄便座/\\t洗面台独立',\n",
       "       '専用バス/\\tバス・トイレ別/\\tシャワー/\\t温水洗浄便座/\\t脱衣所', '専用バス/\\tシャワー/\\t洗面台独立',\n",
       "       '共同バス/\\t専用トイレ/\\tバス・トイレ別/\\t追焚機能/\\t温水洗浄便座/\\t洗面台独立',\n",
       "       '専用トイレ/\\tシャワー/\\t脱衣所', 'シャワー/\\t浴室乾燥機\\t/\\t洗面台独立/\\t脱衣所',\n",
       "       'バスなし/\\tバス・トイレ別', 'バスなし/\\tシャワー/\\t脱衣所',\n",
       "       'バスなし/\\t専用トイレ/\\tバス・トイレ別/\\tシャワー/\\t洗面台独立/\\t脱衣所',\n",
       "       'バスなし/\\tシャワー/\\t温水洗浄便座/\\t洗面台独立', '専用トイレ/\\t温水洗浄便座/\\t洗面台独立/\\t脱衣所',\n",
       "       'バスなし/\\tトイレなし', 'バス・トイレ別/\\t浴室乾燥機\\t/\\t温水洗浄便座/\\t脱衣所',\n",
       "       '専用バス/\\tバス・トイレ別/\\tシャワー/\\t温水洗浄便座/\\t洗面台独立/\\t脱衣所',\n",
       "       '専用バス/\\t専用トイレ/\\t追焚機能/\\t洗面台独立', '専用トイレ/\\tシャワー/\\t浴室乾燥機\\t/\\t脱衣所',\n",
       "       '専用トイレ/\\tシャワー/\\t追焚機能/\\t温水洗浄便座', '共同バス/\\t共同トイレ/\\tシャワー/\\t追焚機能',\n",
       "       'バスなし/\\t専用トイレ/\\tシャワー/\\t追焚機能/\\t浴室乾燥機\\t/\\t温水洗浄便座/\\t洗面台独立',\n",
       "       'バスなし/\\t専用トイレ/\\tバス・トイレ別',\n",
       "       '専用バス/\\t共同トイレ/\\tバス・トイレ別/\\tシャワー/\\t追焚機能/\\t浴室乾燥機\\t/\\t温水洗浄便座/\\t洗面台独立',\n",
       "       'シャワー/\\t浴室乾燥機\\t/\\t洗面台独立', '共同トイレ/\\tシャワー/\\t温水洗浄便座/\\t洗面台独立'],\n",
       "      dtype=object)"
      ]
     },
     "execution_count": 61,
     "metadata": {},
     "output_type": "execute_result"
    }
   ],
   "source": [
    "total_data[\"バス・トイレ\"].unique()"
   ]
  },
  {
   "cell_type": "code",
   "execution_count": 62,
   "metadata": {},
   "outputs": [],
   "source": [
    "df = total_data[\"バス・トイレ\"].str.split(\"\\t\", expand=True)"
   ]
  },
  {
   "cell_type": "code",
   "execution_count": 63,
   "metadata": {},
   "outputs": [
    {
     "data": {
      "text/html": [
       "<div>\n",
       "<style scoped>\n",
       "    .dataframe tbody tr th:only-of-type {\n",
       "        vertical-align: middle;\n",
       "    }\n",
       "\n",
       "    .dataframe tbody tr th {\n",
       "        vertical-align: top;\n",
       "    }\n",
       "\n",
       "    .dataframe thead th {\n",
       "        text-align: right;\n",
       "    }\n",
       "</style>\n",
       "<table border=\"1\" class=\"dataframe\">\n",
       "  <thead>\n",
       "    <tr style=\"text-align: right;\">\n",
       "      <th></th>\n",
       "      <th>0</th>\n",
       "      <th>1</th>\n",
       "      <th>2</th>\n",
       "      <th>3</th>\n",
       "      <th>4</th>\n",
       "      <th>5</th>\n",
       "      <th>6</th>\n",
       "      <th>7</th>\n",
       "      <th>8</th>\n",
       "      <th>9</th>\n",
       "    </tr>\n",
       "  </thead>\n",
       "  <tbody>\n",
       "    <tr>\n",
       "      <th>0</th>\n",
       "      <td>専用バス/</td>\n",
       "      <td>専用トイレ/</td>\n",
       "      <td>バス・トイレ別/</td>\n",
       "      <td>シャワー/</td>\n",
       "      <td>浴室乾燥機</td>\n",
       "      <td>/</td>\n",
       "      <td>温水洗浄便座</td>\n",
       "      <td>None</td>\n",
       "      <td>None</td>\n",
       "      <td>None</td>\n",
       "    </tr>\n",
       "    <tr>\n",
       "      <th>1</th>\n",
       "      <td>専用トイレ/</td>\n",
       "      <td>シャワー/</td>\n",
       "      <td>温水洗浄便座</td>\n",
       "      <td>None</td>\n",
       "      <td>None</td>\n",
       "      <td>None</td>\n",
       "      <td>None</td>\n",
       "      <td>None</td>\n",
       "      <td>None</td>\n",
       "      <td>None</td>\n",
       "    </tr>\n",
       "    <tr>\n",
       "      <th>2</th>\n",
       "      <td>専用バス/</td>\n",
       "      <td>専用トイレ/</td>\n",
       "      <td>バス・トイレ別/</td>\n",
       "      <td>シャワー/</td>\n",
       "      <td>浴室乾燥機</td>\n",
       "      <td>/</td>\n",
       "      <td>温水洗浄便座/</td>\n",
       "      <td>洗面台独立/</td>\n",
       "      <td>脱衣所</td>\n",
       "      <td>None</td>\n",
       "    </tr>\n",
       "  </tbody>\n",
       "</table>\n",
       "</div>"
      ],
      "text/plain": [
       "        0       1         2      3      4     5        6       7     8     9\n",
       "0   専用バス/  専用トイレ/  バス・トイレ別/  シャワー/  浴室乾燥機     /   温水洗浄便座    None  None  None\n",
       "1  専用トイレ/   シャワー/    温水洗浄便座   None   None  None     None    None  None  None\n",
       "2   専用バス/  専用トイレ/  バス・トイレ別/  シャワー/  浴室乾燥機     /  温水洗浄便座/  洗面台独立/   脱衣所  None"
      ]
     },
     "execution_count": 63,
     "metadata": {},
     "output_type": "execute_result"
    }
   ],
   "source": [
    "df.head(3)"
   ]
  },
  {
   "cell_type": "code",
   "execution_count": 64,
   "metadata": {},
   "outputs": [
    {
     "name": "stdout",
     "output_type": "stream",
     "text": [
      "Your selected dataframe has 10 columns.\n",
      "There are 10 columns that have missing values.\n"
     ]
    },
    {
     "data": {
      "text/html": [
       "<div>\n",
       "<style scoped>\n",
       "    .dataframe tbody tr th:only-of-type {\n",
       "        vertical-align: middle;\n",
       "    }\n",
       "\n",
       "    .dataframe tbody tr th {\n",
       "        vertical-align: top;\n",
       "    }\n",
       "\n",
       "    .dataframe thead th {\n",
       "        text-align: right;\n",
       "    }\n",
       "</style>\n",
       "<table border=\"1\" class=\"dataframe\">\n",
       "  <thead>\n",
       "    <tr style=\"text-align: right;\">\n",
       "      <th></th>\n",
       "      <th>Missing Values</th>\n",
       "      <th>% of Total Values</th>\n",
       "    </tr>\n",
       "  </thead>\n",
       "  <tbody>\n",
       "    <tr>\n",
       "      <th>9</th>\n",
       "      <td>53618</td>\n",
       "      <td>85.5</td>\n",
       "    </tr>\n",
       "    <tr>\n",
       "      <th>8</th>\n",
       "      <td>44606</td>\n",
       "      <td>71.1</td>\n",
       "    </tr>\n",
       "    <tr>\n",
       "      <th>7</th>\n",
       "      <td>38393</td>\n",
       "      <td>61.2</td>\n",
       "    </tr>\n",
       "    <tr>\n",
       "      <th>6</th>\n",
       "      <td>31267</td>\n",
       "      <td>49.8</td>\n",
       "    </tr>\n",
       "    <tr>\n",
       "      <th>5</th>\n",
       "      <td>25964</td>\n",
       "      <td>41.4</td>\n",
       "    </tr>\n",
       "    <tr>\n",
       "      <th>4</th>\n",
       "      <td>20286</td>\n",
       "      <td>32.3</td>\n",
       "    </tr>\n",
       "    <tr>\n",
       "      <th>3</th>\n",
       "      <td>13506</td>\n",
       "      <td>21.5</td>\n",
       "    </tr>\n",
       "    <tr>\n",
       "      <th>2</th>\n",
       "      <td>6053</td>\n",
       "      <td>9.6</td>\n",
       "    </tr>\n",
       "    <tr>\n",
       "      <th>1</th>\n",
       "      <td>2989</td>\n",
       "      <td>4.8</td>\n",
       "    </tr>\n",
       "    <tr>\n",
       "      <th>0</th>\n",
       "      <td>649</td>\n",
       "      <td>1.0</td>\n",
       "    </tr>\n",
       "  </tbody>\n",
       "</table>\n",
       "</div>"
      ],
      "text/plain": [
       "   Missing Values  % of Total Values\n",
       "9           53618               85.5\n",
       "8           44606               71.1\n",
       "7           38393               61.2\n",
       "6           31267               49.8\n",
       "5           25964               41.4\n",
       "4           20286               32.3\n",
       "3           13506               21.5\n",
       "2            6053                9.6\n",
       "1            2989                4.8\n",
       "0             649                1.0"
      ]
     },
     "execution_count": 64,
     "metadata": {},
     "output_type": "execute_result"
    }
   ],
   "source": [
    "missing_values = missing_values_table(df)\n",
    "missing_values"
   ]
  },
  {
   "cell_type": "code",
   "execution_count": 65,
   "metadata": {},
   "outputs": [],
   "source": [
    "for i in df.columns:\n",
    "    df[i] = df[i].str.strip(\"/\")"
   ]
  },
  {
   "cell_type": "code",
   "execution_count": 66,
   "metadata": {},
   "outputs": [
    {
     "data": {
      "text/plain": [
       "array(['専用トイレ', 'シャワー', '専用トイレ', ..., 'シャワー', '専用トイレ', '専用トイレ'],\n",
       "      dtype=object)"
      ]
     },
     "execution_count": 66,
     "metadata": {},
     "output_type": "execute_result"
    }
   ],
   "source": [
    "df[1].values"
   ]
  },
  {
   "cell_type": "code",
   "execution_count": 67,
   "metadata": {},
   "outputs": [],
   "source": [
    "list_1 = np.array([])\n",
    "for i in df.columns:\n",
    "    list_1 = np.append(list_1, df[i].values)"
   ]
  },
  {
   "cell_type": "code",
   "execution_count": 68,
   "metadata": {},
   "outputs": [
    {
     "data": {
      "text/plain": [
       "{'',\n",
       " None,\n",
       " nan,\n",
       " 'シャワー',\n",
       " 'トイレなし',\n",
       " 'バスなし',\n",
       " 'バス・トイレ別',\n",
       " '共同トイレ',\n",
       " '共同バス',\n",
       " '専用トイレ',\n",
       " '専用バス',\n",
       " '洗面台独立',\n",
       " '浴室乾燥機',\n",
       " '温水洗浄便座',\n",
       " '脱衣所',\n",
       " '追焚機能'}"
      ]
     },
     "execution_count": 68,
     "metadata": {},
     "output_type": "execute_result"
    }
   ],
   "source": [
    "set(list_1)"
   ]
  },
  {
   "cell_type": "code",
   "execution_count": 69,
   "metadata": {},
   "outputs": [],
   "source": [
    "bath_toilet_list = ['シャワー',\n",
    " 'バス・トイレ別',\n",
    " '共同トイレ',\n",
    " '共同バス',\n",
    " '専用トイレ',\n",
    " '専用バス',\n",
    " '洗面台独立',\n",
    " '浴室乾燥機',\n",
    " '温水洗浄便座',\n",
    " '脱衣所',\n",
    " '追焚機能']"
   ]
  },
  {
   "cell_type": "code",
   "execution_count": 70,
   "metadata": {},
   "outputs": [
    {
     "data": {
      "text/plain": [
       "['シャワー',\n",
       " 'バス・トイレ別',\n",
       " '共同トイレ',\n",
       " '共同バス',\n",
       " '専用トイレ',\n",
       " '専用バス',\n",
       " '洗面台独立',\n",
       " '浴室乾燥機',\n",
       " '温水洗浄便座',\n",
       " '脱衣所',\n",
       " '追焚機能']"
      ]
     },
     "execution_count": 70,
     "metadata": {},
     "output_type": "execute_result"
    }
   ],
   "source": [
    "bath_toilet_list"
   ]
  },
  {
   "cell_type": "code",
   "execution_count": 71,
   "metadata": {},
   "outputs": [],
   "source": [
    "for item in bath_toilet_list:\n",
    "    total_data[item] = total_data[\"バス・トイレ\"].str.contains(item, regex=False)"
   ]
  },
  {
   "cell_type": "code",
   "execution_count": 72,
   "metadata": {},
   "outputs": [
    {
     "data": {
      "text/html": [
       "<div>\n",
       "<style scoped>\n",
       "    .dataframe tbody tr th:only-of-type {\n",
       "        vertical-align: middle;\n",
       "    }\n",
       "\n",
       "    .dataframe tbody tr th {\n",
       "        vertical-align: top;\n",
       "    }\n",
       "\n",
       "    .dataframe thead th {\n",
       "        text-align: right;\n",
       "    }\n",
       "</style>\n",
       "<table border=\"1\" class=\"dataframe\">\n",
       "  <thead>\n",
       "    <tr style=\"text-align: right;\">\n",
       "      <th></th>\n",
       "      <th>所在地</th>\n",
       "      <th>アクセス</th>\n",
       "      <th>間取り</th>\n",
       "      <th>方角</th>\n",
       "      <th>面積</th>\n",
       "      <th>所在階</th>\n",
       "      <th>バス・トイレ</th>\n",
       "      <th>キッチン</th>\n",
       "      <th>放送・通信</th>\n",
       "      <th>室内設備</th>\n",
       "      <th>...</th>\n",
       "      <th>バス・トイレ別</th>\n",
       "      <th>共同トイレ</th>\n",
       "      <th>共同バス</th>\n",
       "      <th>専用トイレ</th>\n",
       "      <th>専用バス</th>\n",
       "      <th>洗面台独立</th>\n",
       "      <th>浴室乾燥機</th>\n",
       "      <th>温水洗浄便座</th>\n",
       "      <th>脱衣所</th>\n",
       "      <th>追焚機能</th>\n",
       "    </tr>\n",
       "  </thead>\n",
       "  <tbody>\n",
       "    <tr>\n",
       "      <th>0</th>\n",
       "      <td>滝野川3丁目</td>\n",
       "      <td>都営三田線\\t西巣鴨駅\\t徒歩4分\\t\\t埼京線\\t板橋駅\\t徒歩14分\\t\\t都電荒川線\\...</td>\n",
       "      <td>1K</td>\n",
       "      <td>南東</td>\n",
       "      <td>20.01</td>\n",
       "      <td>1</td>\n",
       "      <td>専用バス/\\t専用トイレ/\\tバス・トイレ別/\\tシャワー/\\t浴室乾燥機\\t/\\t温水洗浄便座</td>\n",
       "      <td>ガスコンロ/\\tコンロ2口/\\tシステムキッチン\\t/\\t給湯</td>\n",
       "      <td>インターネット対応/\\tCATV/\\tCSアンテナ/\\tBSアンテナ</td>\n",
       "      <td>エアコン付\\tシューズボックス/\\tバルコニー/\\tフローリング/\\t室内洗濯機置場/\\t敷...</td>\n",
       "      <td>...</td>\n",
       "      <td>True</td>\n",
       "      <td>False</td>\n",
       "      <td>False</td>\n",
       "      <td>True</td>\n",
       "      <td>True</td>\n",
       "      <td>False</td>\n",
       "      <td>True</td>\n",
       "      <td>True</td>\n",
       "      <td>False</td>\n",
       "      <td>False</td>\n",
       "    </tr>\n",
       "    <tr>\n",
       "      <th>1</th>\n",
       "      <td>月島3丁目</td>\n",
       "      <td>都営大江戸線\\t勝どき駅\\t徒歩5分\\t\\t有楽町線\\t月島駅\\t徒歩9分\\t\\t日比谷線\\...</td>\n",
       "      <td>1R</td>\n",
       "      <td>NaN</td>\n",
       "      <td>16.50</td>\n",
       "      <td>5</td>\n",
       "      <td>専用トイレ/\\tシャワー/\\t温水洗浄便座</td>\n",
       "      <td>ガスコンロ/\\tシステムキッチン\\t/\\t給湯</td>\n",
       "      <td>インターネット対応</td>\n",
       "      <td>エアコン付\\tシューズボックス/\\tバルコニー/\\tフローリング/\\t室内洗濯機置場/\\t敷...</td>\n",
       "      <td>...</td>\n",
       "      <td>False</td>\n",
       "      <td>False</td>\n",
       "      <td>False</td>\n",
       "      <td>True</td>\n",
       "      <td>False</td>\n",
       "      <td>False</td>\n",
       "      <td>False</td>\n",
       "      <td>True</td>\n",
       "      <td>False</td>\n",
       "      <td>False</td>\n",
       "    </tr>\n",
       "    <tr>\n",
       "      <th>2</th>\n",
       "      <td>笹塚2丁目</td>\n",
       "      <td>京王線\\t笹塚駅\\t徒歩6分\\t\\t京王線\\t代田橋駅\\t徒歩7分\\t\\t京王線\\t明大前駅...</td>\n",
       "      <td>1K</td>\n",
       "      <td>南</td>\n",
       "      <td>22.05</td>\n",
       "      <td>12</td>\n",
       "      <td>専用バス/\\t専用トイレ/\\tバス・トイレ別/\\tシャワー/\\t浴室乾燥機\\t/\\t温水洗浄...</td>\n",
       "      <td>ガスコンロ/\\tコンロ2口/\\tシステムキッチン\\t/\\t給湯</td>\n",
       "      <td>インターネット対応/\\t光ファイバー/\\tCSアンテナ/\\tBSアンテナ</td>\n",
       "      <td>エアコン付\\tウォークインクローゼット\\tシューズボックス/\\tバルコニー/\\tフローリング...</td>\n",
       "      <td>...</td>\n",
       "      <td>True</td>\n",
       "      <td>False</td>\n",
       "      <td>False</td>\n",
       "      <td>True</td>\n",
       "      <td>True</td>\n",
       "      <td>True</td>\n",
       "      <td>True</td>\n",
       "      <td>True</td>\n",
       "      <td>True</td>\n",
       "      <td>False</td>\n",
       "    </tr>\n",
       "    <tr>\n",
       "      <th>3</th>\n",
       "      <td>高円寺南2丁目23-2</td>\n",
       "      <td>総武線・中央線(各停)\\t高円寺駅\\t徒歩9分\\t\\t丸ノ内線(池袋-荻窪)\\t新高円寺駅\\...</td>\n",
       "      <td>2LDK</td>\n",
       "      <td>南</td>\n",
       "      <td>60.48</td>\n",
       "      <td>3</td>\n",
       "      <td>専用バス/\\t専用トイレ/\\tバス・トイレ別/\\tシャワー/\\t温水洗浄便座/\\t洗面台独立</td>\n",
       "      <td>ガスコンロ/\\t給湯</td>\n",
       "      <td>インターネット対応/\\t光ファイバー</td>\n",
       "      <td>エアコン付\\tシューズボックス/\\tバルコニー/\\t2面採光/\\t室内洗濯機置場/\\tエレベ...</td>\n",
       "      <td>...</td>\n",
       "      <td>True</td>\n",
       "      <td>False</td>\n",
       "      <td>False</td>\n",
       "      <td>True</td>\n",
       "      <td>True</td>\n",
       "      <td>True</td>\n",
       "      <td>False</td>\n",
       "      <td>True</td>\n",
       "      <td>False</td>\n",
       "      <td>False</td>\n",
       "    </tr>\n",
       "    <tr>\n",
       "      <th>4</th>\n",
       "      <td>金町3丁目7-2</td>\n",
       "      <td>京成金町線\\t京成金町駅\\t徒歩5分\\t\\t常磐線\\t金町(東京都)駅\\t徒歩7分\\t\\t京...</td>\n",
       "      <td>2DK</td>\n",
       "      <td>南</td>\n",
       "      <td>39.66</td>\n",
       "      <td>1</td>\n",
       "      <td>専用バス/\\t専用トイレ/\\tバス・トイレ別/\\tシャワー/\\t追焚機能</td>\n",
       "      <td>給湯/\\t独立キッチン</td>\n",
       "      <td>NaN</td>\n",
       "      <td>バルコニー/\\tフローリング/\\t室内洗濯機置場\\t公営水道/\\t下水</td>\n",
       "      <td>...</td>\n",
       "      <td>True</td>\n",
       "      <td>False</td>\n",
       "      <td>False</td>\n",
       "      <td>True</td>\n",
       "      <td>True</td>\n",
       "      <td>False</td>\n",
       "      <td>False</td>\n",
       "      <td>False</td>\n",
       "      <td>False</td>\n",
       "      <td>True</td>\n",
       "    </tr>\n",
       "  </tbody>\n",
       "</table>\n",
       "<p>5 rows × 47 columns</p>\n",
       "</div>"
      ],
      "text/plain": [
       "           所在地                                               アクセス   間取り   方角  \\\n",
       "0       滝野川3丁目  都営三田線\\t西巣鴨駅\\t徒歩4分\\t\\t埼京線\\t板橋駅\\t徒歩14分\\t\\t都電荒川線\\...    1K   南東   \n",
       "1        月島3丁目  都営大江戸線\\t勝どき駅\\t徒歩5分\\t\\t有楽町線\\t月島駅\\t徒歩9分\\t\\t日比谷線\\...    1R  NaN   \n",
       "2        笹塚2丁目  京王線\\t笹塚駅\\t徒歩6分\\t\\t京王線\\t代田橋駅\\t徒歩7分\\t\\t京王線\\t明大前駅...    1K    南   \n",
       "3  高円寺南2丁目23-2  総武線・中央線(各停)\\t高円寺駅\\t徒歩9分\\t\\t丸ノ内線(池袋-荻窪)\\t新高円寺駅\\...  2LDK    南   \n",
       "4     金町3丁目7-2  京成金町線\\t京成金町駅\\t徒歩5分\\t\\t常磐線\\t金町(東京都)駅\\t徒歩7分\\t\\t京...   2DK    南   \n",
       "\n",
       "      面積  所在階                                             バス・トイレ  \\\n",
       "0  20.01    1   専用バス/\\t専用トイレ/\\tバス・トイレ別/\\tシャワー/\\t浴室乾燥機\\t/\\t温水洗浄便座   \n",
       "1  16.50    5                              専用トイレ/\\tシャワー/\\t温水洗浄便座   \n",
       "2  22.05   12  専用バス/\\t専用トイレ/\\tバス・トイレ別/\\tシャワー/\\t浴室乾燥機\\t/\\t温水洗浄...   \n",
       "3  60.48    3     専用バス/\\t専用トイレ/\\tバス・トイレ別/\\tシャワー/\\t温水洗浄便座/\\t洗面台独立   \n",
       "4  39.66    1               専用バス/\\t専用トイレ/\\tバス・トイレ別/\\tシャワー/\\t追焚機能   \n",
       "\n",
       "                              キッチン                                 放送・通信  \\\n",
       "0  ガスコンロ/\\tコンロ2口/\\tシステムキッチン\\t/\\t給湯    インターネット対応/\\tCATV/\\tCSアンテナ/\\tBSアンテナ   \n",
       "1          ガスコンロ/\\tシステムキッチン\\t/\\t給湯                             インターネット対応   \n",
       "2  ガスコンロ/\\tコンロ2口/\\tシステムキッチン\\t/\\t給湯  インターネット対応/\\t光ファイバー/\\tCSアンテナ/\\tBSアンテナ   \n",
       "3                       ガスコンロ/\\t給湯                    インターネット対応/\\t光ファイバー   \n",
       "4                      給湯/\\t独立キッチン                                   NaN   \n",
       "\n",
       "                                                室内設備  ... バス・トイレ別  共同トイレ  \\\n",
       "0  エアコン付\\tシューズボックス/\\tバルコニー/\\tフローリング/\\t室内洗濯機置場/\\t敷...  ...    True  False   \n",
       "1  エアコン付\\tシューズボックス/\\tバルコニー/\\tフローリング/\\t室内洗濯機置場/\\t敷...  ...   False  False   \n",
       "2  エアコン付\\tウォークインクローゼット\\tシューズボックス/\\tバルコニー/\\tフローリング...  ...    True  False   \n",
       "3  エアコン付\\tシューズボックス/\\tバルコニー/\\t2面採光/\\t室内洗濯機置場/\\tエレベ...  ...    True  False   \n",
       "4                バルコニー/\\tフローリング/\\t室内洗濯機置場\\t公営水道/\\t下水  ...    True  False   \n",
       "\n",
       "    共同バス 専用トイレ   専用バス  洗面台独立  浴室乾燥機  温水洗浄便座    脱衣所   追焚機能  \n",
       "0  False  True   True  False   True    True  False  False  \n",
       "1  False  True  False  False  False    True  False  False  \n",
       "2  False  True   True   True   True    True   True  False  \n",
       "3  False  True   True   True  False    True  False  False  \n",
       "4  False  True   True  False  False   False  False   True  \n",
       "\n",
       "[5 rows x 47 columns]"
      ]
     },
     "execution_count": 72,
     "metadata": {},
     "output_type": "execute_result"
    }
   ],
   "source": [
    "total_data.head()"
   ]
  },
  {
   "cell_type": "code",
   "execution_count": 73,
   "metadata": {},
   "outputs": [
    {
     "data": {
      "text/plain": [
       "Index(['所在地', 'アクセス', '間取り', '方角', '面積', '所在階', 'バス・トイレ', 'キッチン', '放送・通信',\n",
       "       '室内設備', '駐車場', '周辺環境', '建物構造', '契約期間', '築年数_月', '階建', '所在階_地下', '階建_地下',\n",
       "       '納戸', '間取り_D', '間取り_K', '間取り_L', '間取り_R', '間取り_S', '間取り_数', '方角_南',\n",
       "       '方角_東', '方角_西', '方角_北', '契約期間_定期借家', '契約期間_月', '所在地_区', 'アクセス_線_1',\n",
       "       'アクセス_駅_1', 'アクセス_線_2', 'アクセス_駅_2', 'シャワー', 'バス・トイレ別', '共同トイレ', '共同バス',\n",
       "       '専用トイレ', '専用バス', '洗面台独立', '浴室乾燥機', '温水洗浄便座', '脱衣所', '追焚機能'],\n",
       "      dtype='object')"
      ]
     },
     "execution_count": 73,
     "metadata": {},
     "output_type": "execute_result"
    }
   ],
   "source": [
    "total_data.columns"
   ]
  },
  {
   "cell_type": "markdown",
   "metadata": {},
   "source": [
    "# キッチン"
   ]
  },
  {
   "cell_type": "code",
   "execution_count": 74,
   "metadata": {},
   "outputs": [
    {
     "data": {
      "text/plain": [
       "447"
      ]
     },
     "execution_count": 74,
     "metadata": {},
     "output_type": "execute_result"
    }
   ],
   "source": [
    "total_data[\"キッチン\"].nunique()"
   ]
  },
  {
   "cell_type": "code",
   "execution_count": 75,
   "metadata": {},
   "outputs": [
    {
     "data": {
      "text/plain": [
       "array(['ガスコンロ/\\tコンロ2口/\\tシステムキッチン\\t/\\t給湯', 'ガスコンロ/\\tシステムキッチン\\t/\\t給湯',\n",
       "       'ガスコンロ/\\t給湯', '給湯/\\t独立キッチン',\n",
       "       'ガスコンロ/\\tコンロ3口/\\tシステムキッチン\\t/\\t給湯/\\t独立キッチン',\n",
       "       'ガスコンロ/\\tコンロ2口/\\tシステムキッチン', 'ガスコンロ/\\tコンロ3口/\\tシステムキッチン\\t/\\t給湯',\n",
       "       'ガスコンロ/\\tコンロ2口/\\t給湯', nan, 'コンロ2口/\\t給湯', '給湯',\n",
       "       'IHコンロ\\t/\\tコンロ3口/\\tシステムキッチン',\n",
       "       'IHコンロ\\t/\\tコンロ3口/\\tシステムキッチン\\t/\\t独立キッチン', 'ガスコンロ/\\tコンロ1口/\\t給湯',\n",
       "       'ガスコンロ/\\tコンロ1口/\\t給湯/\\t冷蔵庫あり',\n",
       "       'ガスコンロ/\\tコンロ2口/\\tシステムキッチン\\t/\\t給湯/\\t独立キッチン',\n",
       "       'コンロ3口/\\tシステムキッチン\\t/\\t給湯', 'IHコンロ\\t/\\tシステムキッチン\\t/\\t給湯',\n",
       "       'コンロ設置可(コンロ2口)',\n",
       "       'ガスコンロ/\\tコンロ3口/\\tシステムキッチン\\t/\\tカウンターキッチン\\t/\\t給湯/\\tL字キッチン',\n",
       "       'ガスコンロ/\\tコンロ1口/\\t給湯/\\t独立キッチン',\n",
       "       'ガスコンロ/\\tコンロ3口/\\tシステムキッチン\\t/\\tカウンターキッチン\\t/\\t給湯',\n",
       "       'ガスコンロ/\\tコンロ設置可(口数不明)/\\t給湯',\n",
       "       'ガスコンロ/\\tコンロ2口/\\t給湯/\\t独立キッチン/\\tL字キッチン', 'システムキッチン',\n",
       "       'ガスコンロ/\\tコンロ2口', '電気コンロ/\\t給湯',\n",
       "       'IHコンロ\\t/\\tコンロ2口/\\tシステムキッチン\\t/\\t給湯/\\tL字キッチン',\n",
       "       'コンロ2口/\\tシステムキッチン\\t/\\t給湯', 'コンロ2口/\\tシステムキッチン\\t/\\t独立キッチン',\n",
       "       'ガスコンロ/\\tコンロ2口/\\tシステムキッチン\\t/\\tカウンターキッチン\\t/\\t給湯',\n",
       "       'IHコンロ\\t/\\tコンロ1口/\\t給湯', 'コンロ設置可(コンロ2口)/\\t給湯', 'システムキッチン\\t/\\t給湯',\n",
       "       'コンロ1口', 'ガスコンロ/\\tコンロ1口/\\tシステムキッチン', '電気コンロ/\\t給湯/\\t冷蔵庫あり',\n",
       "       'コンロ設置可(コンロ2口)/\\tシステムキッチン\\t/\\t給湯',\n",
       "       'コンロ2口/\\tシステムキッチン\\t/\\tカウンターキッチン\\t/\\t給湯',\n",
       "       'IHコンロ\\t/\\tコンロ1口/\\tシステムキッチン\\t/\\t給湯', 'IHコンロ\\t/\\tコンロ1口/\\tシステムキッチン',\n",
       "       'IHコンロ\\t/\\tコンロ2口/\\tシステムキッチン',\n",
       "       'コンロ設置可(コンロ2口)/\\tシステムキッチン\\t/\\tカウンターキッチン\\t/\\t給湯',\n",
       "       'IHコンロ\\t/\\tコンロ1口/\\t給湯/\\t冷蔵庫あり', 'IHコンロ\\t/\\tシステムキッチン',\n",
       "       'コンロ3口/\\tシステムキッチン', 'ガスコンロ/\\tコンロ2口/\\tカウンターキッチン\\t/\\t給湯',\n",
       "       'コンロ設置可(口数不明)/\\t給湯', 'ガスコンロ/\\tコンロ2口/\\t給湯/\\t独立キッチン',\n",
       "       'ガスコンロ/\\tコンロ1口/\\tシステムキッチン\\t/\\t給湯/\\t冷蔵庫あり',\n",
       "       'ガスコンロ/\\tコンロ設置可(コンロ2口)/\\t給湯',\n",
       "       'コンロ設置可(コンロ3口)/\\tシステムキッチン\\t/\\tカウンターキッチン',\n",
       "       '電気コンロ/\\tコンロ1口/\\t給湯/\\t独立キッチン', 'IHコンロ\\t/\\t給湯',\n",
       "       'ガスコンロ/\\tIHコンロ\\t/\\tコンロ3口/\\tシステムキッチン\\t/\\t給湯',\n",
       "       'ガスコンロ/\\tコンロ2口/\\tシステムキッチン\\t/\\tカウンターキッチン',\n",
       "       'ガスコンロ/\\tコンロ3口/\\tシステムキッチン', '電気コンロ/\\tIHコンロ\\t/\\t給湯',\n",
       "       'ガスコンロ/\\tシステムキッチン\\t/\\t給湯/\\t独立キッチン', 'コンロ1口/\\tシステムキッチン\\t/\\t給湯',\n",
       "       'ガスコンロ/\\tコンロ1口/\\tシステムキッチン\\t/\\t給湯/\\t独立キッチン',\n",
       "       'IHコンロ\\t/\\tコンロ2口/\\tシステムキッチン\\t/\\t給湯/\\t独立キッチン', 'コンロ1口/\\t給湯',\n",
       "       'ガスコンロ/\\tコンロ2口/\\tシステムキッチン\\t/\\t独立キッチン',\n",
       "       'コンロ3口/\\tシステムキッチン\\t/\\tカウンターキッチン', 'ガスコンロ',\n",
       "       'ガスコンロ/\\tコンロ3口/\\tシステムキッチン\\t/\\tカウンターキッチン',\n",
       "       'ガスコンロ/\\tIHコンロ\\t/\\tコンロ3口/\\tシステムキッチン\\t/\\tカウンターキッチン\\t/\\t給湯',\n",
       "       'IHコンロ\\t/\\tコンロ3口/\\tシステムキッチン\\t/\\tカウンターキッチン\\t/\\t給湯', 'IHコンロ',\n",
       "       'ガスコンロ/\\tコンロ4口以上/\\tシステムキッチン', 'コンロ設置可(コンロ1口)/\\t給湯',\n",
       "       'IHコンロ\\t/\\tシステムキッチン\\t/\\t独立キッチン/\\tL字キッチン', '電気コンロ/\\tコンロ1口/\\t給湯',\n",
       "       'コンロ設置可(口数不明)', '電気コンロ/\\tコンロ1口/\\tシステムキッチン\\t/\\t給湯',\n",
       "       'ガスコンロ/\\tコンロ3口/\\tシステムキッチン\\t/\\tカウンターキッチン\\t/\\t独立キッチン',\n",
       "       'IHコンロ\\t/\\tシステムキッチン\\t/\\t給湯/\\t独立キッチン', '電気コンロ',\n",
       "       'ガスコンロ/\\tコンロ3口/\\tシステムキッチン\\t/\\tL字キッチン',\n",
       "       'コンロ設置可(コンロ1口)/\\tシステムキッチン\\t/\\t給湯/\\t冷蔵庫あり',\n",
       "       'コンロ設置可(コンロ2口)/\\t給湯/\\t独立キッチン', 'IHコンロ\\t/\\tコンロ2口/\\tシステムキッチン\\t/\\t給湯',\n",
       "       'ガスコンロ/\\tコンロ3口/\\tシステムキッチン\\t/\\t独立キッチン', 'IHコンロ\\t/\\tコンロ1口',\n",
       "       '電気コンロ/\\tコンロ1口/\\tシステムキッチン\\t/\\t給湯/\\t独立キッチン',\n",
       "       'IHコンロ\\t/\\tコンロ1口/\\tシステムキッチン\\t/\\t給湯/\\t冷蔵庫あり',\n",
       "       'IHコンロ\\t/\\t給湯/\\t冷蔵庫あり',\n",
       "       'IHコンロ\\t/\\tコンロ3口/\\tシステムキッチン\\t/\\tカウンターキッチン\\t/\\t給湯/\\tL字キッチン',\n",
       "       'IHコンロ\\t/\\tコンロ2口/\\tシステムキッチン\\t/\\tカウンターキッチン\\t/\\t給湯',\n",
       "       'ガスコンロ/\\tコンロ3口/\\tカウンターキッチン\\t/\\t独立キッチン',\n",
       "       'IHコンロ\\t/\\tコンロ2口/\\tシステムキッチン\\t/\\tカウンターキッチン\\t/\\t給湯/\\t独立キッチン',\n",
       "       'コンロ2口/\\tシステムキッチン\\t/\\t給湯/\\t冷蔵庫あり', '冷蔵庫あり',\n",
       "       'ガスコンロ/\\tコンロ3口/\\tシステムキッチン\\t/\\tカウンターキッチン\\t/\\t給湯/\\t独立キッチン', 'コンロ2口',\n",
       "       'コンロ3口/\\tシステムキッチン\\t/\\tカウンターキッチン\\t/\\t給湯',\n",
       "       'ガスコンロ/\\tコンロ2口/\\tシステムキッチン\\t/\\tカウンターキッチン\\t/\\t独立キッチン',\n",
       "       'コンロ2口/\\tシステムキッチン', 'IHコンロ\\t/\\tコンロ2口/\\t給湯/\\t冷蔵庫あり',\n",
       "       'IHコンロ\\t/\\tコンロ3口/\\tシステムキッチン\\t/\\t給湯', 'IHコンロ\\t/\\tコンロ2口/\\t給湯',\n",
       "       'コンロ設置可(コンロ1口)/\\tシステムキッチン', 'IHコンロ\\t/\\tシステムキッチン\\t/\\t冷蔵庫あり',\n",
       "       'ガスコンロ/\\tコンロ3口/\\tシステムキッチン\\t/\\t給湯/\\tL字キッチン',\n",
       "       'IHコンロ\\t/\\tコンロ3口/\\tシステムキッチン\\t/\\t給湯/\\t独立キッチン',\n",
       "       'システムキッチン\\t/\\tカウンターキッチン', 'ガスコンロ/\\tコンロ1口/\\tシステムキッチン\\t/\\t給湯',\n",
       "       'IHコンロ\\t/\\tシステムキッチン\\t/\\tカウンターキッチン\\t/\\t給湯',\n",
       "       'コンロ設置可(コンロ1口)/\\tシステムキッチン\\t/\\t給湯', 'システムキッチン\\t/\\tカウンターキッチン\\t/\\t給湯',\n",
       "       'ガスコンロ/\\t給湯/\\t冷蔵庫あり', 'ガスコンロ/\\tコンロ2口/\\tシステムキッチン\\t/\\t給湯/\\t冷蔵庫あり',\n",
       "       'コンロ設置可(口数不明)/\\tシステムキッチン\\t/\\t給湯',\n",
       "       'ガスコンロ/\\tコンロ4口以上/\\tシステムキッチン\\t/\\tカウンターキッチン\\t/\\t給湯/\\t独立キッチン',\n",
       "       'ガスコンロ/\\tコンロ2口/\\tシステムキッチン\\t/\\t給湯/\\t冷蔵庫あり/\\t独立キッチン',\n",
       "       'ガスコンロ/\\tコンロ2口/\\tシステムキッチン\\t/\\tカウンターキッチン\\t/\\t給湯/\\t独立キッチン',\n",
       "       'コンロ設置可(コンロ2口)/\\tシステムキッチン\\t/\\t給湯/\\t冷蔵庫あり',\n",
       "       'ガスコンロ/\\tIHコンロ\\t/\\tコンロ2口/\\tシステムキッチン\\t/\\t給湯', 'ガスコンロ/\\tコンロ3口/\\t給湯',\n",
       "       'コンロ設置可(コンロ1口)', 'IHコンロ\\t/\\tコンロ2口',\n",
       "       'ガスコンロ/\\tコンロ4口以上/\\tシステムキッチン\\t/\\t給湯',\n",
       "       'ガスコンロ/\\tIHコンロ\\t/\\tコンロ2口/\\t給湯',\n",
       "       'ガスコンロ/\\tコンロ1口/\\tシステムキッチン\\t/\\t独立キッチン',\n",
       "       'ガスコンロ/\\tシステムキッチン\\t/\\tカウンターキッチン\\t/\\t給湯', 'ガスコンロ/\\t給湯/\\t独立キッチン',\n",
       "       'IHコンロ\\t/\\tコンロ3口/\\t給湯',\n",
       "       'コンロ設置可(コンロ3口)/\\tシステムキッチン\\t/\\tカウンターキッチン\\t/\\t給湯', '給湯/\\t冷蔵庫あり',\n",
       "       'カウンターキッチン\\t/\\t冷蔵庫あり', 'コンロ設置可(コンロ2口)/\\tシステムキッチン\\t/\\tカウンターキッチン',\n",
       "       '電気コンロ/\\tコンロ2口/\\tシステムキッチン\\t/\\t給湯',\n",
       "       'IHコンロ\\t/\\tコンロ3口/\\tシステムキッチン\\t/\\tカウンターキッチン',\n",
       "       'ガスコンロ/\\tコンロ3口/\\tシステムキッチン\\t/\\tカウンターキッチン\\t/\\t給湯/\\t独立キッチン/\\tL字キッチン',\n",
       "       'システムキッチン\\t/\\tカウンターキッチン\\t/\\t給湯/\\t独立キッチン', 'ガスコンロ/\\tコンロ2口/\\t独立キッチン',\n",
       "       'IHコンロ\\t/\\tコンロ3口/\\tシステムキッチン\\t/\\tカウンターキッチン\\t/\\t独立キッチン',\n",
       "       'ガスコンロ/\\tIHコンロ\\t/\\t給湯', 'ガスコンロ/\\tIHコンロ\\t/\\tシステムキッチン\\t/\\t給湯',\n",
       "       'ガスコンロ/\\tカウンターキッチン\\t/\\t給湯',\n",
       "       '電気コンロ/\\tコンロ2口/\\tシステムキッチン\\t/\\t給湯/\\t冷蔵庫あり',\n",
       "       'システムキッチン\\t/\\tカウンターキッチン\\t/\\t独立キッチン',\n",
       "       'IHコンロ\\t/\\tコンロ1口/\\tシステムキッチン\\t/\\t給湯/\\t独立キッチン', 'ガスコンロ/\\tコンロ4口以上',\n",
       "       '電気コンロ/\\tコンロ2口', 'ガスコンロ/\\tコンロ3口/\\tカウンターキッチン\\t/\\t給湯',\n",
       "       'ガスコンロ/\\tコンロ3口/\\tシステムキッチン\\t/\\t独立キッチン/\\tL字キッチン', 'ガスコンロ/\\t独立キッチン',\n",
       "       'コンロ設置可(コンロ3口)/\\tシステムキッチン\\t/\\t給湯',\n",
       "       'ガスコンロ/\\tコンロ2口/\\tシステムキッチン\\t/\\t冷蔵庫あり/\\t独立キッチン',\n",
       "       'ガスコンロ/\\tコンロ1口/\\t給湯/\\t冷蔵庫あり/\\t独立キッチン',\n",
       "       '電気コンロ/\\tコンロ1口/\\tシステムキッチン\\t/\\t給湯/\\t冷蔵庫あり',\n",
       "       'ガスコンロ/\\tコンロ設置可(コンロ1口)/\\t給湯', 'IHコンロ\\t/\\tコンロ1口/\\t給湯/\\t独立キッチン',\n",
       "       'コンロ設置可(コンロ2口)/\\tシステムキッチン', '電気コンロ/\\tコンロ1口/\\t給湯/\\t冷蔵庫あり',\n",
       "       '電気コンロ/\\tコンロ2口/\\tシステムキッチン\\t/\\t給湯/\\t独立キッチン',\n",
       "       'ガスコンロ/\\tコンロ3口/\\tシステムキッチン\\t/\\t給湯/\\t独立キッチン/\\tL字キッチン',\n",
       "       'IHコンロ\\t/\\tコンロ3口/\\tシステムキッチン\\t/\\t冷蔵庫あり',\n",
       "       'IHコンロ\\t/\\tコンロ2口/\\tシステムキッチン\\t/\\t独立キッチン',\n",
       "       '電気コンロ/\\tコンロ3口/\\tシステムキッチン\\t/\\t給湯/\\t独立キッチン', 'ガスコンロ/\\tコンロ1口',\n",
       "       'コンロ2口/\\tカウンターキッチン\\t/\\t給湯',\n",
       "       'IHコンロ\\t/\\tコンロ1口/\\tカウンターキッチン\\t/\\t給湯/\\t冷蔵庫あり',\n",
       "       '電気コンロ/\\tコンロ2口/\\tシステムキッチン\\t/\\tカウンターキッチン\\t/\\t給湯/\\t冷蔵庫あり',\n",
       "       'ガスコンロ/\\tIHコンロ\\t/\\tシステムキッチン', 'ガスコンロ/\\tコンロ1口/\\tコンロ設置可(コンロ1口)',\n",
       "       'ガスコンロ/\\tコンロ4口以上/\\tシステムキッチン\\t/\\tカウンターキッチン\\t/\\t給湯',\n",
       "       '電気コンロ/\\tシステムキッチン\\t/\\t給湯', 'IHコンロ\\t/\\tコンロ3口/\\tカウンターキッチン\\t/\\t給湯',\n",
       "       'IHコンロ\\t/\\tシステムキッチン\\t/\\t給湯/\\t冷蔵庫あり', 'カウンターキッチン\\t/\\t給湯',\n",
       "       'ガスコンロ/\\tコンロ4口以上/\\tシステムキッチン\\t/\\t給湯/\\t独立キッチン',\n",
       "       'ガスコンロ/\\tコンロ3口/\\tコンロ設置可(口数不明)/\\tシステムキッチン\\t/\\t給湯',\n",
       "       'IHコンロ\\t/\\tコンロ1口/\\t独立キッチン',\n",
       "       'ガスコンロ/\\tコンロ2口/\\tシステムキッチン\\t/\\t給湯/\\t独立キッチン/\\tL字キッチン',\n",
       "       'ガスコンロ/\\tコンロ3口/\\tシステムキッチン\\t/\\t給湯/\\t冷蔵庫あり/\\t独立キッチン',\n",
       "       'ガスコンロ/\\tシステムキッチン\\t/\\t独立キッチン',\n",
       "       'IHコンロ\\t/\\tコンロ3口/\\tシステムキッチン\\t/\\t給湯/\\t独立キッチン/\\tL字キッチン',\n",
       "       'IHコンロ\\t/\\tコンロ2口/\\tシステムキッチン\\t/\\tカウンターキッチン',\n",
       "       'ガスコンロ/\\tコンロ1口/\\tシステムキッチン\\t/\\t給湯/\\t冷蔵庫あり/\\t独立キッチン',\n",
       "       'システムキッチン\\t/\\t給湯/\\t独立キッチン', 'ガスコンロ/\\tシステムキッチン',\n",
       "       'ガスコンロ/\\tコンロ設置可(口数不明)', 'ガスコンロ/\\tコンロ2口/\\t給湯/\\tL字キッチン',\n",
       "       'ガスコンロ/\\tIHコンロ', 'IHコンロ\\t/\\tシステムキッチン\\t/\\tカウンターキッチン\\t/\\t独立キッチン',\n",
       "       'ガスコンロ/\\tシステムキッチン\\t/\\t給湯/\\t冷蔵庫あり',\n",
       "       'ガスコンロ/\\tコンロ3口/\\tシステムキッチン\\t/\\tカウンターキッチン\\t/\\t給湯/\\t冷蔵庫あり',\n",
       "       'IHコンロ\\t/\\tカウンターキッチン\\t/\\t給湯',\n",
       "       'ガスコンロ/\\tコンロ3口/\\tシステムキッチン\\t/\\tカウンターキッチン\\t/\\tL字キッチン',\n",
       "       'ガスコンロ/\\tコンロ2口/\\tカウンターキッチン', 'コンロ設置可(コンロ2口)/\\t給湯/\\tL字キッチン',\n",
       "       'コンロ3口/\\tシステムキッチン\\t/\\t独立キッチン',\n",
       "       'IHコンロ\\t/\\tコンロ2口/\\tシステムキッチン\\t/\\tカウンターキッチン\\t/\\t給湯/\\t冷蔵庫あり/\\t独立キッチン',\n",
       "       'IHコンロ\\t/\\tコンロ4口以上/\\tシステムキッチン\\t/\\t給湯/\\t独立キッチン',\n",
       "       'コンロ設置可(口数不明)/\\t給湯/\\t独立キッチン', 'ガスコンロ/\\tシステムキッチン\\t/\\t冷蔵庫あり',\n",
       "       'ガスコンロ/\\tコンロ2口/\\tシステムキッチン\\t/\\tカウンターキッチン\\t/\\t給湯/\\t独立キッチン/\\tL字キッチン',\n",
       "       'ガスコンロ/\\tシステムキッチン\\t/\\tカウンターキッチン',\n",
       "       'コンロ設置可(コンロ2口)/\\t独立キッチン/\\tL字キッチン',\n",
       "       'ガスコンロ/\\tコンロ設置可(口数不明)/\\tシステムキッチン\\t/\\t給湯',\n",
       "       'ガスコンロ/\\tシステムキッチン\\t/\\t給湯/\\t冷蔵庫あり/\\t独立キッチン',\n",
       "       'IHコンロ\\t/\\tコンロ3口/\\tシステムキッチン\\t/\\tカウンターキッチン\\t/\\t給湯/\\t独立キッチン',\n",
       "       'ガスコンロ/\\tコンロ2口/\\tコンロ設置可(コンロ2口)', 'ガスコンロ/\\tコンロ3口/\\t給湯/\\t独立キッチン',\n",
       "       'IHコンロ\\t/\\tコンロ1口/\\t冷蔵庫あり',\n",
       "       'IHコンロ\\t/\\tコンロ1口/\\tシステムキッチン\\t/\\t給湯/\\t冷蔵庫あり/\\t独立キッチン',\n",
       "       'ガスコンロ/\\t電気コンロ/\\t給湯', 'コンロ設置可(コンロ2口)/\\tシステムキッチン\\t/\\t独立キッチン',\n",
       "       'システムキッチン\\t/\\t給湯/\\t独立キッチン/\\tL字キッチン',\n",
       "       'ガスコンロ/\\tコンロ1口/\\tシステムキッチン\\t/\\t給湯/\\tL字キッチン', 'IHコンロ\\t/\\t冷蔵庫あり',\n",
       "       'コンロ3口/\\tシステムキッチン\\t/\\tカウンターキッチン\\t/\\t独立キッチン',\n",
       "       'ガスコンロ/\\tコンロ2口/\\tシステムキッチン\\t/\\t給湯/\\tL字キッチン',\n",
       "       'ガスコンロ/\\tコンロ設置可(口数不明)/\\t給湯/\\tL字キッチン',\n",
       "       'IHコンロ\\t/\\tコンロ2口/\\tカウンターキッチン\\t/\\t給湯',\n",
       "       'IHコンロ\\t/\\tコンロ3口/\\tシステムキッチン\\t/\\tカウンターキッチン\\t/\\tL字キッチン',\n",
       "       'IHコンロ\\t/\\tコンロ2口/\\tシステムキッチン\\t/\\t給湯/\\t冷蔵庫あり',\n",
       "       'ガスコンロ/\\tコンロ3口/\\tシステムキッチン\\t/\\tカウンターキッチン\\t/\\t独立キッチン/\\tL字キッチン',\n",
       "       'ガスコンロ/\\tコンロ2口/\\tシステムキッチン\\t/\\t独立キッチン/\\tL字キッチン',\n",
       "       '電気コンロ/\\tコンロ3口/\\tシステムキッチン\\t/\\tカウンターキッチン\\t/\\t給湯',\n",
       "       'IHコンロ\\t/\\tコンロ1口/\\tシステムキッチン\\t/\\tカウンターキッチン\\t/\\t給湯',\n",
       "       'IHコンロ\\t/\\tコンロ3口/\\tシステムキッチン\\t/\\tカウンターキッチン\\t/\\t給湯/\\t冷蔵庫あり',\n",
       "       'IHコンロ\\t/\\tシステムキッチン\\t/\\t給湯/\\t冷蔵庫あり/\\t独立キッチン',\n",
       "       '電気コンロ/\\tコンロ2口/\\tシステムキッチン\\t/\\tカウンターキッチン\\t/\\t給湯',\n",
       "       'ガスコンロ/\\tシステムキッチン\\t/\\t給湯/\\tL字キッチン',\n",
       "       'ガスコンロ/\\t電気コンロ/\\tコンロ3口/\\tシステムキッチン\\t/\\t給湯', 'コンロ設置可(口数不明)/\\t冷蔵庫あり',\n",
       "       'ガスコンロ/\\tコンロ1口/\\tシステムキッチン\\t/\\t給湯/\\t独立キッチン/\\tL字キッチン',\n",
       "       '電気コンロ/\\tコンロ1口/\\tシステムキッチン', 'コンロ1口/\\tシステムキッチン',\n",
       "       'IHコンロ\\t/\\tコンロ4口以上/\\tシステムキッチン\\t/\\t給湯/\\t冷蔵庫あり/\\t独立キッチン',\n",
       "       'ガスコンロ/\\tコンロ1口/\\t冷蔵庫あり',\n",
       "       'ガスコンロ/\\tシステムキッチン\\t/\\tカウンターキッチン\\t/\\t給湯/\\t独立キッチン',\n",
       "       'ガスコンロ/\\tコンロ2口/\\tシステムキッチン\\t/\\t冷蔵庫あり', 'ガスコンロ/\\t冷蔵庫あり', '独立キッチン',\n",
       "       'システムキッチン\\t/\\t給湯/\\t冷蔵庫あり',\n",
       "       'IHコンロ\\t/\\tコンロ2口/\\tコンロ設置可(口数不明)/\\tシステムキッチン\\t/\\t給湯',\n",
       "       'ガスコンロ/\\tコンロ設置可(口数不明)/\\t独立キッチン',\n",
       "       'ガスコンロ/\\tコンロ4口以上/\\tシステムキッチン\\t/\\t給湯/\\tL字キッチン',\n",
       "       'ガスコンロ/\\tコンロ2口/\\t給湯/\\t冷蔵庫あり', 'システムキッチン\\t/\\t独立キッチン',\n",
       "       'コンロ設置可(コンロ2口)/\\tカウンターキッチン\\t/\\t給湯', '電気コンロ/\\tコンロ1口',\n",
       "       '電気コンロ/\\tカウンターキッチン', '電気コンロ/\\tシステムキッチン', 'コンロ設置可(コンロ2口)/\\t独立キッチン',\n",
       "       'IHコンロ\\t/\\tコンロ1口/\\tコンロ設置可(口数不明)/\\tシステムキッチン\\t/\\t給湯',\n",
       "       'ガスコンロ/\\tコンロ設置可(コンロ2口)/\\tシステムキッチン\\t/\\t給湯',\n",
       "       'IHコンロ\\t/\\tコンロ1口/\\tカウンターキッチン\\t/\\t給湯',\n",
       "       'IHコンロ\\t/\\tシステムキッチン\\t/\\tカウンターキッチン',\n",
       "       'ガスコンロ/\\tコンロ設置可(コンロ2口)/\\tカウンターキッチン\\t/\\t給湯',\n",
       "       'コンロ設置可(コンロ1口)/\\t給湯/\\t冷蔵庫あり', 'ガスコンロ/\\t電気コンロ',\n",
       "       'コンロ設置可(コンロ4口以上)/\\tシステムキッチン\\t/\\t給湯',\n",
       "       'IHコンロ\\t/\\tシステムキッチン\\t/\\t独立キッチン', '電気コンロ/\\tコンロ2口/\\t給湯',\n",
       "       '電気コンロ/\\tシステムキッチン\\t/\\t給湯/\\t独立キッチン',\n",
       "       'コンロ設置可(口数不明)/\\tカウンターキッチン\\t/\\t給湯',\n",
       "       'IHコンロ\\t/\\tシステムキッチン\\t/\\tカウンターキッチン\\t/\\t給湯/\\t独立キッチン',\n",
       "       'コンロ3口/\\tシステムキッチン\\t/\\t給湯/\\t独立キッチン',\n",
       "       'ガスコンロ/\\tコンロ2口/\\tシステムキッチン\\t/\\tL字キッチン',\n",
       "       'ガスコンロ/\\tコンロ2口/\\tシステムキッチン\\t/\\tカウンターキッチン\\t/\\tL字キッチン',\n",
       "       '電気コンロ/\\tシステムキッチン\\t/\\t給湯/\\t冷蔵庫あり', 'コンロ設置可(コンロ2口)/\\tカウンターキッチン',\n",
       "       'コンロ設置可(コンロ2口)/\\t給湯/\\t冷蔵庫あり', 'ガスコンロ/\\tコンロ4口以上/\\tカウンターキッチン\\t/\\t給湯',\n",
       "       '電気コンロ/\\tコンロ1口/\\t冷蔵庫あり', 'システムキッチン\\t/\\t冷蔵庫あり',\n",
       "       'コンロ2口/\\tシステムキッチン\\t/\\tカウンターキッチン\\t/\\t独立キッチン',\n",
       "       'ガスコンロ/\\tコンロ設置可(口数不明)/\\tカウンターキッチン\\t/\\t給湯/\\t独立キッチン',\n",
       "       'コンロ2口/\\tシステムキッチン\\t/\\tカウンターキッチン\\t/\\t給湯/\\t独立キッチン',\n",
       "       'ガスコンロ/\\t電気コンロ/\\tIHコンロ\\t/\\tコンロ3口/\\tシステムキッチン\\t/\\tカウンターキッチン',\n",
       "       'IHコンロ\\t/\\tコンロ3口/\\tシステムキッチン\\t/\\t給湯/\\t冷蔵庫あり/\\t独立キッチン',\n",
       "       'ガスコンロ/\\tIHコンロ\\t/\\tコンロ1口/\\tシステムキッチン\\t/\\t給湯',\n",
       "       'ガスコンロ/\\tコンロ4口以上/\\tシステムキッチン\\t/\\t給湯/\\t冷蔵庫あり/\\t独立キッチン/\\tL字キッチン',\n",
       "       'IHコンロ\\t/\\tコンロ1口/\\tカウンターキッチン', 'ガスコンロ/\\tコンロ設置可(コンロ2口)',\n",
       "       'ガスコンロ/\\t給湯/\\tL字キッチン',\n",
       "       '電気コンロ/\\tIHコンロ\\t/\\tコンロ2口/\\tカウンターキッチン\\t/\\t給湯',\n",
       "       'ガスコンロ/\\tコンロ1口/\\t独立キッチン', 'IHコンロ\\t/\\tコンロ1口/\\tシステムキッチン\\t/\\t冷蔵庫あり',\n",
       "       'ガスコンロ/\\tコンロ2口/\\t冷蔵庫あり', 'コンロ設置可(コンロ3口)/\\tシステムキッチン',\n",
       "       'コンロ設置可(コンロ2口)/\\t冷蔵庫あり', 'コンロ設置可(口数不明)/\\tシステムキッチン',\n",
       "       'コンロ2口/\\t冷蔵庫あり', 'ガスコンロ/\\tコンロ設置可(口数不明)/\\tカウンターキッチン\\t/\\t給湯',\n",
       "       'ガスコンロ/\\tカウンターキッチン\\t/\\t独立キッチン',\n",
       "       'IHコンロ\\t/\\tコンロ3口/\\tシステムキッチン\\t/\\t冷蔵庫あり/\\t独立キッチン/\\tL字キッチン',\n",
       "       'IHコンロ\\t/\\tコンロ2口/\\tシステムキッチン\\t/\\tカウンターキッチン\\t/\\t給湯/\\tL字キッチン',\n",
       "       'ガスコンロ/\\tコンロ3口/\\tシステムキッチン\\t/\\t給湯/\\t冷蔵庫あり',\n",
       "       'ガスコンロ/\\t電気コンロ/\\tシステムキッチン\\t/\\t給湯',\n",
       "       'IHコンロ\\t/\\tコンロ3口/\\tシステムキッチン\\t/\\t給湯/\\t冷蔵庫あり', 'コンロ3口',\n",
       "       'ガスコンロ/\\tコンロ3口', 'コンロ2口/\\tシステムキッチン\\t/\\tカウンターキッチン',\n",
       "       'ガスコンロ/\\t電気コンロ/\\tIHコンロ\\t/\\t給湯', 'システムキッチン\\t/\\t給湯/\\t冷蔵庫あり/\\t独立キッチン',\n",
       "       'ガスコンロ/\\tIHコンロ\\t/\\tコンロ3口/\\tカウンターキッチン\\t/\\t給湯',\n",
       "       '電気コンロ/\\t給湯/\\t独立キッチン',\n",
       "       '電気コンロ/\\tIHコンロ\\t/\\tシステムキッチン\\t/\\tカウンターキッチン\\t/\\t給湯',\n",
       "       'IHコンロ\\t/\\tコンロ2口/\\tシステムキッチン\\t/\\tカウンターキッチン\\t/\\t独立キッチン',\n",
       "       'IHコンロ\\t/\\tコンロ1口/\\tシステムキッチン\\t/\\t独立キッチン',\n",
       "       'ガスコンロ/\\tコンロ2口/\\tカウンターキッチン\\t/\\t給湯/\\t独立キッチン',\n",
       "       '電気コンロ/\\tコンロ2口/\\tシステムキッチン\\t/\\t給湯/\\t冷蔵庫あり/\\t独立キッチン',\n",
       "       'ガスコンロ/\\tコンロ3口/\\tシステムキッチン\\t/\\tカウンターキッチン\\t/\\t冷蔵庫あり',\n",
       "       'コンロ設置可(口数不明)/\\t独立キッチン',\n",
       "       'IHコンロ\\t/\\tコンロ3口/\\tシステムキッチン\\t/\\t給湯/\\tL字キッチン',\n",
       "       'コンロ設置可(口数不明)/\\tシステムキッチン\\t/\\tカウンターキッチン\\t/\\t給湯',\n",
       "       'ガスコンロ/\\tコンロ1口/\\tシステムキッチン\\t/\\tカウンターキッチン\\t/\\t給湯',\n",
       "       '電気コンロ/\\tコンロ1口/\\tシステムキッチン\\t/\\t冷蔵庫あり',\n",
       "       'ガスコンロ/\\tコンロ設置可(コンロ2口)/\\tカウンターキッチン', 'コンロ設置可(口数不明)/\\t給湯/\\t冷蔵庫あり',\n",
       "       'ガスコンロ/\\tコンロ2口/\\tシステムキッチン\\t/\\tカウンターキッチン\\t/\\t給湯/\\t冷蔵庫あり',\n",
       "       'ガスコンロ/\\tシステムキッチン\\t/\\tカウンターキッチン\\t/\\t給湯/\\t独立キッチン/\\tL字キッチン',\n",
       "       'ガスコンロ/\\tコンロ3口/\\t独立キッチン', '電気コンロ/\\tカウンターキッチン\\t/\\t給湯',\n",
       "       'IHコンロ\\t/\\tコンロ設置可(コンロ1口)/\\tカウンターキッチン\\t/\\t給湯',\n",
       "       'コンロ3口/\\tシステムキッチン\\t/\\tL字キッチン', 'コンロ設置可(コンロ1口)/\\t冷蔵庫あり',\n",
       "       'IHコンロ\\t/\\t給湯/\\t独立キッチン', 'IHコンロ\\t/\\tコンロ3口/\\tシステムキッチン\\t/\\tL字キッチン',\n",
       "       'ガスコンロ/\\tコンロ2口/\\tコンロ設置可(コンロ2口)/\\t給湯',\n",
       "       'ガスコンロ/\\t給湯/\\t独立キッチン/\\tL字キッチン', 'コンロ3口/\\t給湯', 'カウンターキッチン',\n",
       "       'IHコンロ\\t/\\tコンロ3口/\\tシステムキッチン\\t/\\t独立キッチン/\\tL字キッチン',\n",
       "       'ガスコンロ/\\tコンロ2口/\\tシステムキッチン\\t/\\tカウンターキッチン\\t/\\t給湯/\\tL字キッチン',\n",
       "       'コンロ4口以上/\\tシステムキッチン\\t/\\t給湯', '電気コンロ/\\tコンロ2口/\\tシステムキッチン',\n",
       "       'IHコンロ\\t/\\tコンロ1口/\\t給湯/\\t冷蔵庫あり/\\t独立キッチン',\n",
       "       'ガスコンロ/\\tIHコンロ\\t/\\tコンロ3口/\\tシステムキッチン\\t/\\tカウンターキッチン',\n",
       "       'ガスコンロ/\\tコンロ設置可(口数不明)/\\tシステムキッチン\\t/\\tカウンターキッチン\\t/\\t給湯',\n",
       "       'ガスコンロ/\\tコンロ設置可(口数不明)/\\t給湯/\\t独立キッチン', 'システムキッチン\\t/\\t給湯/\\tL字キッチン',\n",
       "       'ガスコンロ/\\tコンロ2口/\\tカウンターキッチン\\t/\\t給湯/\\tL字キッチン',\n",
       "       'コンロ2口/\\tシステムキッチン\\t/\\t給湯/\\t独立キッチン',\n",
       "       'ガスコンロ/\\tコンロ2口/\\tコンロ設置可(口数不明)/\\tシステムキッチン\\t/\\t給湯',\n",
       "       'ガスコンロ/\\tコンロ4口以上/\\tシステムキッチン\\t/\\t独立キッチン',\n",
       "       'ガスコンロ/\\tコンロ3口/\\t給湯/\\tL字キッチン',\n",
       "       'ガスコンロ/\\tシステムキッチン\\t/\\t冷蔵庫あり/\\t独立キッチン',\n",
       "       'システムキッチン\\t/\\tカウンターキッチン\\t/\\t給湯/\\tL字キッチン',\n",
       "       'ガスコンロ/\\tコンロ設置可(口数不明)/\\tシステムキッチン',\n",
       "       'ガスコンロ/\\tコンロ4口以上/\\tシステムキッチン\\t/\\t給湯/\\t独立キッチン/\\tL字キッチン',\n",
       "       'ガスコンロ/\\tコンロ3口/\\tシステムキッチン\\t/\\t給湯/\\t冷蔵庫あり/\\tL字キッチン',\n",
       "       '電気コンロ/\\tコンロ1口/\\tシステムキッチン\\t/\\t給湯/\\t冷蔵庫あり/\\t独立キッチン',\n",
       "       'ガスコンロ/\\tコンロ2口/\\tシステムキッチン\\t/\\tカウンターキッチン\\t/\\t独立キッチン/\\tL字キッチン',\n",
       "       'コンロ設置可(コンロ3口)/\\t給湯', 'コンロ設置可(コンロ3口)/\\tカウンターキッチン\\t/\\t給湯',\n",
       "       'コンロ2口/\\tカウンターキッチン',\n",
       "       'コンロ設置可(コンロ1口)/\\tシステムキッチン\\t/\\tカウンターキッチン\\t/\\t給湯',\n",
       "       'ガスコンロ/\\tコンロ4口以上/\\tシステムキッチン\\t/\\tカウンターキッチン',\n",
       "       'コンロ1口/\\tシステムキッチン\\t/\\tカウンターキッチン',\n",
       "       'ガスコンロ/\\tコンロ2口/\\tコンロ設置可(口数不明)/\\t給湯', 'IHコンロ\\t/\\tコンロ3口/\\tカウンターキッチン',\n",
       "       'ガスコンロ/\\tカウンターキッチン\\t/\\t給湯/\\t独立キッチン',\n",
       "       'ガスコンロ/\\tコンロ1口/\\tシステムキッチン\\t/\\t冷蔵庫あり',\n",
       "       'ガスコンロ/\\tコンロ4口以上/\\tカウンターキッチン\\t/\\t給湯/\\t独立キッチン',\n",
       "       'ガスコンロ/\\tIHコンロ\\t/\\tコンロ2口/\\tシステムキッチン\\t/\\tカウンターキッチン\\t/\\t給湯/\\t独立キッチン',\n",
       "       '電気コンロ/\\tコンロ1口/\\t給湯/\\t冷蔵庫あり/\\t独立キッチン', 'ガスコンロ/\\tコンロ3口/\\tカウンターキッチン',\n",
       "       'ガスコンロ/\\tコンロ設置可(口数不明)/\\t冷蔵庫あり', 'IHコンロ\\t/\\t独立キッチン',\n",
       "       'ガスコンロ/\\tIHコンロ\\t/\\tコンロ2口/\\tシステムキッチン\\t/\\tカウンターキッチン\\t/\\t給湯',\n",
       "       'ガスコンロ/\\tコンロ2口/\\tコンロ設置可(口数不明)/\\tシステムキッチン\\t/\\tカウンターキッチン\\t/\\t給湯',\n",
       "       'ガスコンロ/\\tコンロ3口/\\tカウンターキッチン\\t/\\t給湯/\\tL字キッチン', '給湯/\\t冷蔵庫あり/\\t独立キッチン',\n",
       "       '電気コンロ/\\tシステムキッチン\\t/\\tカウンターキッチン',\n",
       "       'ガスコンロ/\\tコンロ2口/\\t給湯/\\t冷蔵庫あり/\\t独立キッチン',\n",
       "       'コンロ設置可(コンロ2口)/\\tシステムキッチン\\t/\\t冷蔵庫あり', 'コンロ設置可(コンロ3口)',\n",
       "       'ガスコンロ/\\tコンロ4口以上/\\tシステムキッチン\\t/\\tカウンターキッチン\\t/\\t独立キッチン',\n",
       "       '給湯/\\tL字キッチン', '給湯/\\t冷蔵庫あり/\\tL字キッチン',\n",
       "       'ガスコンロ/\\tコンロ2口/\\tコンロ設置可(コンロ2口)/\\tシステムキッチン',\n",
       "       'ガスコンロ/\\tコンロ設置可(コンロ2口)/\\tシステムキッチン',\n",
       "       'IHコンロ\\t/\\tコンロ2口/\\t給湯/\\t独立キッチン',\n",
       "       'IHコンロ\\t/\\tコンロ2口/\\tシステムキッチン\\t/\\t給湯/\\t独立キッチン/\\tL字キッチン',\n",
       "       'IHコンロ\\t/\\tコンロ1口/\\tカウンターキッチン\\t/\\t給湯/\\t独立キッチン',\n",
       "       '電気コンロ/\\tコンロ設置可(口数不明)',\n",
       "       'コンロ設置可(コンロ2口)/\\tカウンターキッチン\\t/\\t給湯/\\tL字キッチン',\n",
       "       '電気コンロ/\\tIHコンロ\\t/\\tシステムキッチン\\t/\\t給湯', 'コンロ設置可(コンロ3口)/\\tカウンターキッチン',\n",
       "       'ガスコンロ/\\tコンロ2口/\\tL字キッチン', 'コンロ3口/\\tカウンターキッチン\\t/\\t給湯',\n",
       "       'IHコンロ\\t/\\tコンロ2口/\\tシステムキッチン\\t/\\tカウンターキッチン\\t/\\t給湯/\\t冷蔵庫あり',\n",
       "       'ガスコンロ/\\tコンロ3口/\\t給湯/\\t独立キッチン/\\tL字キッチン',\n",
       "       'IHコンロ\\t/\\tコンロ4口以上/\\tシステムキッチン\\t/\\tカウンターキッチン\\t/\\t給湯',\n",
       "       'IHコンロ\\t/\\tコンロ2口/\\tカウンターキッチン', 'ガスコンロ/\\t給湯/\\t冷蔵庫あり/\\t独立キッチン',\n",
       "       'コンロ設置可(コンロ1口)/\\t独立キッチン', '電気コンロ/\\tコンロ1口/\\tシステムキッチン\\t/\\t独立キッチン',\n",
       "       'ガスコンロ/\\tコンロ3口/\\t冷蔵庫あり', '電気コンロ/\\tコンロ2口/\\t給湯/\\t独立キッチン',\n",
       "       '電気コンロ/\\tコンロ3口/\\tシステムキッチン\\t/\\t給湯',\n",
       "       'ガスコンロ/\\tIHコンロ\\t/\\tコンロ2口/\\tシステムキッチン\\t/\\t独立キッチン',\n",
       "       'ガスコンロ/\\tIHコンロ\\t/\\tコンロ3口/\\tシステムキッチン',\n",
       "       'コンロ2口/\\tコンロ設置可(口数不明)/\\tシステムキッチン\\t/\\t給湯',\n",
       "       'IHコンロ\\t/\\tコンロ2口/\\tシステムキッチン\\t/\\t給湯/\\t冷蔵庫あり/\\t独立キッチン',\n",
       "       'コンロ2口/\\tシステムキッチン\\t/\\t冷蔵庫あり', 'システムキッチン\\t/\\tL字キッチン',\n",
       "       'IHコンロ\\t/\\tコンロ3口/\\tシステムキッチン\\t/\\t冷蔵庫あり/\\t独立キッチン',\n",
       "       'コンロ設置可(口数不明)/\\t給湯/\\tL字キッチン',\n",
       "       '電気コンロ/\\tコンロ2口/\\tシステムキッチン\\t/\\t給湯/\\t独立キッチン/\\tL字キッチン',\n",
       "       'コンロ3口/\\tシステムキッチン\\t/\\t給湯/\\t冷蔵庫あり',\n",
       "       'IHコンロ\\t/\\tコンロ1口/\\tコンロ設置可(口数不明)/\\t給湯',\n",
       "       'ガスコンロ/\\tコンロ設置可(コンロ3口)/\\t給湯',\n",
       "       '電気コンロ/\\tIHコンロ\\t/\\tコンロ2口/\\tシステムキッチン\\t/\\t給湯',\n",
       "       'ガスコンロ/\\t電気コンロ/\\t給湯/\\t冷蔵庫あり', 'IHコンロ\\t/\\tコンロ2口/\\t独立キッチン',\n",
       "       'ガスコンロ/\\tコンロ2口/\\tシステムキッチン\\t/\\tカウンターキッチン\\t/\\t給湯/\\t冷蔵庫あり/\\t独立キッチン',\n",
       "       'コンロ1口/\\tコンロ設置可(コンロ1口)',\n",
       "       'ガスコンロ/\\tコンロ3口/\\tコンロ設置可(コンロ3口)/\\tシステムキッチン\\t/\\t給湯',\n",
       "       'コンロ設置可(口数不明)/\\tシステムキッチン\\t/\\t冷蔵庫あり', 'コンロ1口/\\t冷蔵庫あり',\n",
       "       'ガスコンロ/\\tコンロ1口/\\tコンロ設置可(口数不明)/\\tシステムキッチン\\t/\\t給湯',\n",
       "       '電気コンロ/\\tコンロ1口/\\tコンロ設置可(コンロ2口)/\\t給湯',\n",
       "       'ガスコンロ/\\tコンロ1口/\\tカウンターキッチン\\t/\\t給湯', 'コンロ設置可(コンロ3口)/\\t独立キッチン',\n",
       "       'コンロ1口/\\t給湯/\\t冷蔵庫あり',\n",
       "       'ガスコンロ/\\tコンロ設置可(コンロ3口)/\\tシステムキッチン\\t/\\tカウンターキッチン\\t/\\t給湯',\n",
       "       'ガスコンロ/\\tコンロ設置可(口数不明)/\\tシステムキッチン\\t/\\tカウンターキッチン\\t/\\t給湯/\\tL字キッチン',\n",
       "       'ガスコンロ/\\tコンロ設置可(口数不明)/\\tカウンターキッチン\\t/\\t給湯/\\tL字キッチン',\n",
       "       '電気コンロ/\\tIHコンロ\\t/\\tコンロ2口/\\t給湯',\n",
       "       'IHコンロ\\t/\\tシステムキッチン\\t/\\tカウンターキッチン\\t/\\t給湯/\\t冷蔵庫あり',\n",
       "       'ガスコンロ/\\tコンロ4口以上/\\t給湯',\n",
       "       'コンロ3口/\\tシステムキッチン\\t/\\tカウンターキッチン\\t/\\tL字キッチン',\n",
       "       'コンロ設置可(口数不明)/\\tカウンターキッチン', 'ガスコンロ/\\tコンロ2口/\\tカウンターキッチン\\t/\\t独立キッチン',\n",
       "       'カウンターキッチン\\t/\\t給湯/\\t冷蔵庫あり', 'コンロ設置可(コンロ1口)/\\tシステムキッチン\\t/\\t冷蔵庫あり',\n",
       "       'コンロ3口/\\tシステムキッチン\\t/\\tカウンターキッチン\\t/\\t給湯/\\t独立キッチン',\n",
       "       'ガスコンロ/\\tカウンターキッチン',\n",
       "       'IHコンロ\\t/\\tコンロ3口/\\tシステムキッチン\\t/\\t給湯/\\t冷蔵庫あり/\\t独立キッチン/\\tL字キッチン',\n",
       "       'ガスコンロ/\\tIHコンロ\\t/\\tコンロ2口/\\tシステムキッチン\\t/\\tカウンターキッチン',\n",
       "       'コンロ2口/\\t給湯/\\tL字キッチン', 'ガスコンロ/\\tコンロ4口以上/\\tシステムキッチン\\t/\\tL字キッチン',\n",
       "       'ガスコンロ/\\tコンロ4口以上/\\tシステムキッチン\\t/\\tカウンターキッチン\\t/\\t給湯/\\t冷蔵庫あり/\\t独立キッチン/\\tL字キッチン',\n",
       "       'コンロ2口/\\t給湯/\\t冷蔵庫あり', 'IHコンロ\\t/\\tシステムキッチン\\t/\\t冷蔵庫あり/\\t独立キッチン',\n",
       "       'コンロ設置可(口数不明)/\\tシステムキッチン\\t/\\tカウンターキッチン\\t/\\t給湯/\\t独立キッチン',\n",
       "       'ガスコンロ/\\tIHコンロ\\t/\\tシステムキッチン\\t/\\tカウンターキッチン\\t/\\t給湯',\n",
       "       'ガスコンロ/\\tコンロ1口/\\tシステムキッチン\\t/\\tカウンターキッチン\\t/\\t給湯/\\t独立キッチン',\n",
       "       '電気コンロ/\\tIHコンロ\\t/\\tコンロ1口'], dtype=object)"
      ]
     },
     "execution_count": 75,
     "metadata": {},
     "output_type": "execute_result"
    }
   ],
   "source": [
    "total_data[\"キッチン\"].unique()"
   ]
  },
  {
   "cell_type": "code",
   "execution_count": 76,
   "metadata": {},
   "outputs": [],
   "source": [
    "df = total_data[\"キッチン\"].str.split(\"\\t\", expand=True)"
   ]
  },
  {
   "cell_type": "code",
   "execution_count": 77,
   "metadata": {},
   "outputs": [
    {
     "data": {
      "text/html": [
       "<div>\n",
       "<style scoped>\n",
       "    .dataframe tbody tr th:only-of-type {\n",
       "        vertical-align: middle;\n",
       "    }\n",
       "\n",
       "    .dataframe tbody tr th {\n",
       "        vertical-align: top;\n",
       "    }\n",
       "\n",
       "    .dataframe thead th {\n",
       "        text-align: right;\n",
       "    }\n",
       "</style>\n",
       "<table border=\"1\" class=\"dataframe\">\n",
       "  <thead>\n",
       "    <tr style=\"text-align: right;\">\n",
       "      <th></th>\n",
       "      <th>0</th>\n",
       "      <th>1</th>\n",
       "      <th>2</th>\n",
       "      <th>3</th>\n",
       "      <th>4</th>\n",
       "      <th>5</th>\n",
       "      <th>6</th>\n",
       "      <th>7</th>\n",
       "      <th>8</th>\n",
       "      <th>9</th>\n",
       "    </tr>\n",
       "  </thead>\n",
       "  <tbody>\n",
       "    <tr>\n",
       "      <th>0</th>\n",
       "      <td>ガスコンロ/</td>\n",
       "      <td>コンロ2口/</td>\n",
       "      <td>システムキッチン</td>\n",
       "      <td>/</td>\n",
       "      <td>給湯</td>\n",
       "      <td>None</td>\n",
       "      <td>None</td>\n",
       "      <td>None</td>\n",
       "      <td>None</td>\n",
       "      <td>None</td>\n",
       "    </tr>\n",
       "    <tr>\n",
       "      <th>1</th>\n",
       "      <td>ガスコンロ/</td>\n",
       "      <td>システムキッチン</td>\n",
       "      <td>/</td>\n",
       "      <td>給湯</td>\n",
       "      <td>None</td>\n",
       "      <td>None</td>\n",
       "      <td>None</td>\n",
       "      <td>None</td>\n",
       "      <td>None</td>\n",
       "      <td>None</td>\n",
       "    </tr>\n",
       "    <tr>\n",
       "      <th>2</th>\n",
       "      <td>ガスコンロ/</td>\n",
       "      <td>コンロ2口/</td>\n",
       "      <td>システムキッチン</td>\n",
       "      <td>/</td>\n",
       "      <td>給湯</td>\n",
       "      <td>None</td>\n",
       "      <td>None</td>\n",
       "      <td>None</td>\n",
       "      <td>None</td>\n",
       "      <td>None</td>\n",
       "    </tr>\n",
       "  </tbody>\n",
       "</table>\n",
       "</div>"
      ],
      "text/plain": [
       "        0         1         2   3     4     5     6     7     8     9\n",
       "0  ガスコンロ/    コンロ2口/  システムキッチン   /    給湯  None  None  None  None  None\n",
       "1  ガスコンロ/  システムキッチン         /  給湯  None  None  None  None  None  None\n",
       "2  ガスコンロ/    コンロ2口/  システムキッチン   /    給湯  None  None  None  None  None"
      ]
     },
     "execution_count": 77,
     "metadata": {},
     "output_type": "execute_result"
    }
   ],
   "source": [
    "df.head(3)"
   ]
  },
  {
   "cell_type": "code",
   "execution_count": 78,
   "metadata": {},
   "outputs": [
    {
     "name": "stdout",
     "output_type": "stream",
     "text": [
      "Your selected dataframe has 10 columns.\n",
      "There are 10 columns that have missing values.\n"
     ]
    },
    {
     "data": {
      "text/html": [
       "<div>\n",
       "<style scoped>\n",
       "    .dataframe tbody tr th:only-of-type {\n",
       "        vertical-align: middle;\n",
       "    }\n",
       "\n",
       "    .dataframe tbody tr th {\n",
       "        vertical-align: top;\n",
       "    }\n",
       "\n",
       "    .dataframe thead th {\n",
       "        text-align: right;\n",
       "    }\n",
       "</style>\n",
       "<table border=\"1\" class=\"dataframe\">\n",
       "  <thead>\n",
       "    <tr style=\"text-align: right;\">\n",
       "      <th></th>\n",
       "      <th>Missing Values</th>\n",
       "      <th>% of Total Values</th>\n",
       "    </tr>\n",
       "  </thead>\n",
       "  <tbody>\n",
       "    <tr>\n",
       "      <th>9</th>\n",
       "      <td>62728</td>\n",
       "      <td>100.0</td>\n",
       "    </tr>\n",
       "    <tr>\n",
       "      <th>8</th>\n",
       "      <td>62603</td>\n",
       "      <td>99.8</td>\n",
       "    </tr>\n",
       "    <tr>\n",
       "      <th>7</th>\n",
       "      <td>61332</td>\n",
       "      <td>97.8</td>\n",
       "    </tr>\n",
       "    <tr>\n",
       "      <th>6</th>\n",
       "      <td>56404</td>\n",
       "      <td>89.9</td>\n",
       "    </tr>\n",
       "    <tr>\n",
       "      <th>5</th>\n",
       "      <td>48839</td>\n",
       "      <td>77.9</td>\n",
       "    </tr>\n",
       "    <tr>\n",
       "      <th>4</th>\n",
       "      <td>29466</td>\n",
       "      <td>47.0</td>\n",
       "    </tr>\n",
       "    <tr>\n",
       "      <th>3</th>\n",
       "      <td>22796</td>\n",
       "      <td>36.3</td>\n",
       "    </tr>\n",
       "    <tr>\n",
       "      <th>2</th>\n",
       "      <td>11779</td>\n",
       "      <td>18.8</td>\n",
       "    </tr>\n",
       "    <tr>\n",
       "      <th>1</th>\n",
       "      <td>5722</td>\n",
       "      <td>9.1</td>\n",
       "    </tr>\n",
       "    <tr>\n",
       "      <th>0</th>\n",
       "      <td>1256</td>\n",
       "      <td>2.0</td>\n",
       "    </tr>\n",
       "  </tbody>\n",
       "</table>\n",
       "</div>"
      ],
      "text/plain": [
       "   Missing Values  % of Total Values\n",
       "9           62728              100.0\n",
       "8           62603               99.8\n",
       "7           61332               97.8\n",
       "6           56404               89.9\n",
       "5           48839               77.9\n",
       "4           29466               47.0\n",
       "3           22796               36.3\n",
       "2           11779               18.8\n",
       "1            5722                9.1\n",
       "0            1256                2.0"
      ]
     },
     "execution_count": 78,
     "metadata": {},
     "output_type": "execute_result"
    }
   ],
   "source": [
    "missing_values = missing_values_table(df)\n",
    "missing_values"
   ]
  },
  {
   "cell_type": "code",
   "execution_count": 79,
   "metadata": {},
   "outputs": [],
   "source": [
    "for i in df.columns:\n",
    "    df[i] = df[i].str.strip(\"/\")"
   ]
  },
  {
   "cell_type": "code",
   "execution_count": 80,
   "metadata": {},
   "outputs": [
    {
     "data": {
      "text/html": [
       "<div>\n",
       "<style scoped>\n",
       "    .dataframe tbody tr th:only-of-type {\n",
       "        vertical-align: middle;\n",
       "    }\n",
       "\n",
       "    .dataframe tbody tr th {\n",
       "        vertical-align: top;\n",
       "    }\n",
       "\n",
       "    .dataframe thead th {\n",
       "        text-align: right;\n",
       "    }\n",
       "</style>\n",
       "<table border=\"1\" class=\"dataframe\">\n",
       "  <thead>\n",
       "    <tr style=\"text-align: right;\">\n",
       "      <th></th>\n",
       "      <th>0</th>\n",
       "      <th>1</th>\n",
       "      <th>2</th>\n",
       "      <th>3</th>\n",
       "      <th>4</th>\n",
       "      <th>5</th>\n",
       "      <th>6</th>\n",
       "      <th>7</th>\n",
       "      <th>8</th>\n",
       "      <th>9</th>\n",
       "    </tr>\n",
       "  </thead>\n",
       "  <tbody>\n",
       "    <tr>\n",
       "      <th>0</th>\n",
       "      <td>ガスコンロ</td>\n",
       "      <td>コンロ2口</td>\n",
       "      <td>システムキッチン</td>\n",
       "      <td></td>\n",
       "      <td>給湯</td>\n",
       "      <td>None</td>\n",
       "      <td>None</td>\n",
       "      <td>None</td>\n",
       "      <td>None</td>\n",
       "      <td>None</td>\n",
       "    </tr>\n",
       "    <tr>\n",
       "      <th>1</th>\n",
       "      <td>ガスコンロ</td>\n",
       "      <td>システムキッチン</td>\n",
       "      <td></td>\n",
       "      <td>給湯</td>\n",
       "      <td>None</td>\n",
       "      <td>None</td>\n",
       "      <td>None</td>\n",
       "      <td>None</td>\n",
       "      <td>None</td>\n",
       "      <td>None</td>\n",
       "    </tr>\n",
       "    <tr>\n",
       "      <th>2</th>\n",
       "      <td>ガスコンロ</td>\n",
       "      <td>コンロ2口</td>\n",
       "      <td>システムキッチン</td>\n",
       "      <td></td>\n",
       "      <td>給湯</td>\n",
       "      <td>None</td>\n",
       "      <td>None</td>\n",
       "      <td>None</td>\n",
       "      <td>None</td>\n",
       "      <td>None</td>\n",
       "    </tr>\n",
       "  </tbody>\n",
       "</table>\n",
       "</div>"
      ],
      "text/plain": [
       "       0         1         2   3     4     5     6     7     8     9\n",
       "0  ガスコンロ     コンロ2口  システムキッチン        給湯  None  None  None  None  None\n",
       "1  ガスコンロ  システムキッチン            給湯  None  None  None  None  None  None\n",
       "2  ガスコンロ     コンロ2口  システムキッチン        給湯  None  None  None  None  None"
      ]
     },
     "execution_count": 80,
     "metadata": {},
     "output_type": "execute_result"
    }
   ],
   "source": [
    "df.head(3)"
   ]
  },
  {
   "cell_type": "code",
   "execution_count": 81,
   "metadata": {},
   "outputs": [],
   "source": [
    "list_1 = np.array([])\n",
    "for i in df.columns:\n",
    "    list_1 = np.append(list_1, df[i].values)"
   ]
  },
  {
   "cell_type": "code",
   "execution_count": 82,
   "metadata": {},
   "outputs": [
    {
     "data": {
      "text/plain": [
       "{'',\n",
       " 'IHコンロ',\n",
       " 'L字キッチン',\n",
       " None,\n",
       " nan,\n",
       " 'カウンターキッチン',\n",
       " 'ガスコンロ',\n",
       " 'コンロ1口',\n",
       " 'コンロ2口',\n",
       " 'コンロ3口',\n",
       " 'コンロ4口以上',\n",
       " 'コンロ設置可(コンロ1口)',\n",
       " 'コンロ設置可(コンロ2口)',\n",
       " 'コンロ設置可(コンロ3口)',\n",
       " 'コンロ設置可(コンロ4口以上)',\n",
       " 'コンロ設置可(口数不明)',\n",
       " 'システムキッチン',\n",
       " '冷蔵庫あり',\n",
       " '独立キッチン',\n",
       " '給湯',\n",
       " '電気コンロ'}"
      ]
     },
     "execution_count": 82,
     "metadata": {},
     "output_type": "execute_result"
    }
   ],
   "source": [
    "set(list_1)"
   ]
  },
  {
   "cell_type": "code",
   "execution_count": 83,
   "metadata": {},
   "outputs": [],
   "source": [
    "kitchen_list = ['IHコンロ',\n",
    " 'L字キッチン',\n",
    " 'カウンターキッチン',\n",
    " 'ガスコンロ',\n",
    " 'コンロ1口',\n",
    " 'コンロ2口',\n",
    " 'コンロ3口',\n",
    " 'コンロ4口以上',\n",
    " '口数不明',\n",
    " 'システムキッチン',\n",
    " '冷蔵庫あり',\n",
    " '独立キッチン',\n",
    " '給湯',\n",
    " '電気コンロ']"
   ]
  },
  {
   "cell_type": "code",
   "execution_count": 84,
   "metadata": {},
   "outputs": [],
   "source": [
    "for item in kitchen_list:\n",
    "    total_data[item] = total_data[\"キッチン\"].str.contains(item, regex=False)"
   ]
  },
  {
   "cell_type": "code",
   "execution_count": 85,
   "metadata": {},
   "outputs": [
    {
     "data": {
      "text/plain": [
       "Index(['所在地', 'アクセス', '間取り', '方角', '面積', '所在階', 'バス・トイレ', 'キッチン', '放送・通信',\n",
       "       '室内設備', '駐車場', '周辺環境', '建物構造', '契約期間', '築年数_月', '階建', '所在階_地下', '階建_地下',\n",
       "       '納戸', '間取り_D', '間取り_K', '間取り_L', '間取り_R', '間取り_S', '間取り_数', '方角_南',\n",
       "       '方角_東', '方角_西', '方角_北', '契約期間_定期借家', '契約期間_月', '所在地_区', 'アクセス_線_1',\n",
       "       'アクセス_駅_1', 'アクセス_線_2', 'アクセス_駅_2', 'シャワー', 'バス・トイレ別', '共同トイレ', '共同バス',\n",
       "       '専用トイレ', '専用バス', '洗面台独立', '浴室乾燥機', '温水洗浄便座', '脱衣所', '追焚機能', 'IHコンロ',\n",
       "       'L字キッチン', 'カウンターキッチン', 'ガスコンロ', 'コンロ1口', 'コンロ2口', 'コンロ3口', 'コンロ4口以上',\n",
       "       '口数不明', 'システムキッチン', '冷蔵庫あり', '独立キッチン', '給湯', '電気コンロ'],\n",
       "      dtype='object')"
      ]
     },
     "execution_count": 85,
     "metadata": {},
     "output_type": "execute_result"
    }
   ],
   "source": [
    "total_data.columns"
   ]
  },
  {
   "cell_type": "markdown",
   "metadata": {},
   "source": [
    "# 放送・通信"
   ]
  },
  {
   "cell_type": "code",
   "execution_count": 86,
   "metadata": {},
   "outputs": [
    {
     "data": {
      "text/plain": [
       "150"
      ]
     },
     "execution_count": 86,
     "metadata": {},
     "output_type": "execute_result"
    }
   ],
   "source": [
    "total_data[\"放送・通信\"].nunique()"
   ]
  },
  {
   "cell_type": "code",
   "execution_count": 87,
   "metadata": {},
   "outputs": [
    {
     "data": {
      "text/plain": [
       "array(['インターネット対応/\\tCATV/\\tCSアンテナ/\\tBSアンテナ', 'インターネット対応',\n",
       "       'インターネット対応/\\t光ファイバー/\\tCSアンテナ/\\tBSアンテナ', 'インターネット対応/\\t光ファイバー', nan,\n",
       "       'インターネット対応/\\t光ファイバー/\\tCATV/\\tBSアンテナ',\n",
       "       '光ファイバー/\\tCATV/\\tCSアンテナ/\\tBSアンテナ', '光ファイバー/\\tCATV',\n",
       "       'インターネット対応/\\t光ファイバー/\\tCATV/\\tCSアンテナ/\\tBSアンテナ', 'CATV',\n",
       "       'インターネット対応/\\t高速インターネット/\\t光ファイバー/\\tCATV/\\tCSアンテナ/\\tBSアンテナ',\n",
       "       'インターネット対応/\\t光ファイバー/\\tCATV/\\tCSアンテナ', '光ファイバー',\n",
       "       '光ファイバー/\\tインターネット使用料無料', '高速インターネット/\\t光ファイバー/\\tCATV',\n",
       "       'インターネット対応/\\t光ファイバー/\\tCATV', '光ファイバー/\\tCATV/\\tBSアンテナ',\n",
       "       '高速インターネット/\\tCATV', 'インターネット対応/\\tインターネット使用料無料',\n",
       "       'インターネット対応/\\t光ファイバー/\\tインターネット使用料無料', 'インターネット対応/\\tCATV',\n",
       "       'インターネット対応/\\tCSアンテナ/\\tBSアンテナ/\\tインターネット使用料無料',\n",
       "       'インターネット対応/\\tCSアンテナ/\\tBSアンテナ', 'CSアンテナ/\\tBSアンテナ',\n",
       "       'インターネット対応/\\tCATV/\\tインターネット使用料無料',\n",
       "       '光ファイバー/\\tCATV/\\tCSアンテナ/\\tBSアンテナ/\\tインターネット使用料無料',\n",
       "       '高速インターネット/\\t光ファイバー/\\tCATV/\\tCSアンテナ/\\tBSアンテナ', 'CATV/\\tBSアンテナ',\n",
       "       'インターネット対応/\\tBSアンテナ', 'BSアンテナ', 'インターネット対応/\\tCATV/\\tBSアンテナ',\n",
       "       '高速インターネット/\\t光ファイバー/\\tBSアンテナ', '光ファイバー/\\tCSアンテナ/\\tBSアンテナ',\n",
       "       'インターネット対応/\\t光ファイバー/\\tBSアンテナ/\\tインターネット使用料無料',\n",
       "       'インターネット対応/\\t光ファイバー/\\tCSアンテナ/\\tBSアンテナ/\\tインターネット使用料無料',\n",
       "       'CSアンテナ/\\tBSアンテナ/\\tインターネット使用料無料', 'CATV/\\tCSアンテナ/\\tBSアンテナ',\n",
       "       'インターネット対応/\\t光ファイバー/\\tCATV/\\tBSアンテナ/\\tインターネット使用料無料',\n",
       "       'インターネット対応/\\t高速インターネット/\\t光ファイバー/\\tCATV/\\tCSアンテナ/\\tBSアンテナ/\\tインターネット使用料無料',\n",
       "       'インターネット対応/\\t光ファイバー/\\tCATV/\\tCSアンテナ/\\tBSアンテナ/\\tインターネット使用料無料',\n",
       "       'インターネット対応/\\tCATV/\\tCSアンテナ/\\tBSアンテナ/\\tインターネット使用料無料',\n",
       "       'インターネット対応/\\t高速インターネット/\\tCATV/\\tCSアンテナ/\\tBSアンテナ',\n",
       "       '光ファイバー/\\tCSアンテナ/\\tBSアンテナ/\\t有線放送', '光ファイバー/\\tBSアンテナ',\n",
       "       'CATV/\\tCSアンテナ', '高速インターネット', '高速インターネット/\\tBSアンテナ/\\tインターネット使用料無料',\n",
       "       'インターネット対応/\\t高速インターネット/\\t光ファイバー/\\tCATV/\\tインターネット使用料無料',\n",
       "       'インターネット対応/\\tBSアンテナ/\\tインターネット使用料無料',\n",
       "       'インターネット対応/\\t高速インターネット/\\t光ファイバー/\\tCATV', 'インターネット使用料無料',\n",
       "       'インターネット対応/\\t光ファイバー/\\tBSアンテナ', '高速インターネット/\\tCATV/\\tBSアンテナ',\n",
       "       'インターネット対応/\\t高速インターネット/\\tCATV/\\tインターネット使用料無料',\n",
       "       'インターネット対応/\\t高速インターネット/\\t光ファイバー/\\tCSアンテナ/\\tBSアンテナ',\n",
       "       'インターネット対応/\\t高速インターネット/\\t光ファイバー/\\tCSアンテナ/\\tBSアンテナ/\\tインターネット使用料無料',\n",
       "       'インターネット対応/\\t高速インターネット/\\tCATV/\\tCSアンテナ/\\tBSアンテナ/\\tインターネット使用料無料',\n",
       "       'インターネット対応/\\t光ファイバー/\\tCSアンテナ/\\tインターネット使用料無料',\n",
       "       'インターネット対応/\\t高速インターネット/\\t光ファイバー', '光ファイバー/\\tCATV/\\tCSアンテナ',\n",
       "       '高速インターネット/\\tインターネット使用料無料', 'インターネット対応/\\t高速インターネット/\\tCATV',\n",
       "       '光ファイバー/\\tCATV/\\tBSアンテナ/\\tインターネット使用料無料',\n",
       "       '光ファイバー/\\tCSアンテナ/\\tBSアンテナ/\\tインターネット使用料無料',\n",
       "       'インターネット対応/\\t光ファイバー/\\tCATV/\\tインターネット使用料無料',\n",
       "       'インターネット対応/\\t高速インターネット/\\tCATV/\\tBSアンテナ/\\tインターネット使用料無料',\n",
       "       '高速インターネット/\\tCATV/\\tCSアンテナ/\\tBSアンテナ/\\tインターネット使用料無料',\n",
       "       '高速インターネット/\\tBSアンテナ', '高速インターネット/\\tCSアンテナ/\\tBSアンテナ/\\tインターネット使用料無料',\n",
       "       '光ファイバー/\\tCATV/\\tインターネット使用料無料',\n",
       "       'インターネット対応/\\t高速インターネット/\\tCSアンテナ/\\tBSアンテナ/\\tインターネット使用料無料',\n",
       "       '光ファイバー/\\tBSアンテナ/\\tインターネット使用料無料',\n",
       "       '高速インターネット/\\tCATV/\\tCSアンテナ/\\tBSアンテナ',\n",
       "       '高速インターネット/\\t光ファイバー/\\tCSアンテナ/\\tBSアンテナ',\n",
       "       'インターネット対応/\\tCATV/\\tBSアンテナ/\\tインターネット使用料無料', 'CSアンテナ',\n",
       "       '光ファイバー/\\tCATV/\\tBSアンテナ/\\t有線放送', '高速インターネット/\\tCSアンテナ/\\tBSアンテナ',\n",
       "       '高速インターネット/\\t光ファイバー', 'インターネット対応/\\t高速インターネット',\n",
       "       'インターネット対応/\\t高速インターネット/\\t光ファイバー/\\tインターネット使用料無料',\n",
       "       'インターネット対応/\\t光ファイバー/\\t有線放送', '高速インターネット/\\t光ファイバー/\\tCATV/\\tBSアンテナ',\n",
       "       'インターネット対応/\\t光ファイバー/\\tCATV/\\t有線放送',\n",
       "       'インターネット対応/\\t光ファイバー/\\tCATV/\\tCSアンテナ/\\tBSアンテナ/\\t有線放送',\n",
       "       'インターネット対応/\\tCATV/\\tCSアンテナ', 'インターネット対応/\\t光ファイバー/\\tCSアンテナ',\n",
       "       '光ファイバー/\\tCSアンテナ/\\tインターネット使用料無料',\n",
       "       '高速インターネット/\\tCATV/\\tインターネット使用料無料',\n",
       "       'インターネット対応/\\tCATV/\\tBSアンテナ/\\t有線放送', 'CATV/\\tインターネット使用料無料',\n",
       "       '高速インターネット/\\tCATV/\\tCSアンテナ', 'BSアンテナ/\\tインターネット使用料無料',\n",
       "       'インターネット対応/\\t高速インターネット/\\tCATV/\\tBSアンテナ',\n",
       "       'インターネット対応/\\t光ファイバー/\\tCATV/\\tCSアンテナ/\\tインターネット使用料無料',\n",
       "       'インターネット対応/\\t高速インターネット/\\t光ファイバー/\\tCATV/\\tBSアンテナ',\n",
       "       'CATV/\\tCSアンテナ/\\tBSアンテナ/\\tインターネット使用料無料',\n",
       "       'インターネット対応/\\t高速インターネット/\\t光ファイバー/\\tBSアンテナ/\\tインターネット使用料無料',\n",
       "       'インターネット対応/\\t高速インターネット/\\t光ファイバー/\\tCATV/\\tCSアンテナ',\n",
       "       'インターネット対応/\\t高速インターネット/\\tCSアンテナ/\\tBSアンテナ',\n",
       "       'インターネット対応/\\t高速インターネット/\\tインターネット使用料無料', 'インターネット対応/\\tCATV/\\t有線放送',\n",
       "       '光ファイバー/\\tCSアンテナ', '高速インターネット/\\tCATV/\\tCSアンテナ/\\t有線放送',\n",
       "       'インターネット対応/\\t高速インターネット/\\t光ファイバー/\\tBSアンテナ',\n",
       "       'インターネット対応/\\tCATV/\\tCSアンテナ/\\tBSアンテナ/\\t有線放送', '光ファイバー/\\t有線放送',\n",
       "       'インターネット対応/\\tBSアンテナ/\\t有線放送',\n",
       "       '高速インターネット/\\tCATV/\\tBSアンテナ/\\tインターネット使用料無料', 'インターネット対応/\\tCSアンテナ',\n",
       "       'CATV/\\t有線放送',\n",
       "       'インターネット対応/\\t高速インターネット/\\t光ファイバー/\\tCATV/\\tBSアンテナ/\\tインターネット使用料無料',\n",
       "       '光ファイバー/\\t有線放送/\\tインターネット使用料無料', 'CATV/\\tBSアンテナ/\\tインターネット使用料無料',\n",
       "       'インターネット対応/\\t高速インターネット/\\tBSアンテナ/\\tインターネット使用料無料',\n",
       "       'インターネット対応/\\t光ファイバー/\\tCATV/\\tCSアンテナ/\\tBSアンテナ/\\t有線放送/\\tインターネット使用料無料',\n",
       "       'インターネット対応/\\tCSアンテナ/\\tBSアンテナ/\\t有線放送',\n",
       "       'インターネット対応/\\t高速インターネット/\\t光ファイバー/\\tCSアンテナ',\n",
       "       '光ファイバー/\\tCATV/\\tCSアンテナ/\\tインターネット使用料無料', '高速インターネット/\\tCSアンテナ',\n",
       "       'インターネット対応/\\tCATV/\\tCSアンテナ/\\tBSアンテナ/\\t有線放送/\\tインターネット使用料無料',\n",
       "       'インターネット対応/\\t高速インターネット/\\tCATV/\\tCSアンテナ',\n",
       "       'インターネット対応/\\tCSアンテナ/\\tインターネット使用料無料',\n",
       "       'インターネット対応/\\t高速インターネット/\\t光ファイバー/\\tCSアンテナ/\\tインターネット使用料無料',\n",
       "       'インターネット対応/\\t高速インターネット/\\t光ファイバー/\\tCSアンテナ/\\tBSアンテナ/\\t有線放送',\n",
       "       '光ファイバー/\\tBSアンテナ/\\t有線放送', '高速インターネット/\\t光ファイバー/\\tCATV/\\tCSアンテナ',\n",
       "       'インターネット対応/\\tCATV/\\t有線放送/\\tインターネット使用料無料',\n",
       "       'インターネット対応/\\tCATV/\\tCSアンテナ/\\tインターネット使用料無料',\n",
       "       'インターネット対応/\\tCSアンテナ/\\tBSアンテナ/\\t有線放送/\\tインターネット使用料無料',\n",
       "       '光ファイバー/\\tCATV/\\tCSアンテナ/\\tBSアンテナ/\\t有線放送',\n",
       "       'インターネット対応/\\t高速インターネット/\\tBSアンテナ',\n",
       "       'インターネット対応/\\t光ファイバー/\\tCATV/\\tBSアンテナ/\\t有線放送',\n",
       "       'インターネット対応/\\t高速インターネット/\\t光ファイバー/\\tCATV/\\tCSアンテナ/\\tBSアンテナ/\\t有線放送',\n",
       "       'インターネット対応/\\t光ファイバー/\\tCSアンテナ/\\tBSアンテナ/\\t有線放送',\n",
       "       'インターネット対応/\\t高速インターネット/\\tCSアンテナ',\n",
       "       'インターネット対応/\\t高速インターネット/\\t光ファイバー/\\tCATV/\\tCSアンテナ/\\tインターネット使用料無料',\n",
       "       'インターネット対応/\\t光ファイバー/\\tBSアンテナ/\\t有線放送', '光ファイバー/\\tCATV/\\t有線放送',\n",
       "       'インターネット対応/\\t有線放送', '有線放送', 'CATV/\\tCSアンテナ/\\tインターネット使用料無料',\n",
       "       'CATV/\\tCSアンテナ/\\tBSアンテナ/\\t有線放送/\\tインターネット使用料無料', 'BSアンテナ/\\t有線放送',\n",
       "       '光ファイバー/\\tCATV/\\tCSアンテナ/\\t有線放送', 'CATV/\\tCSアンテナ/\\tBSアンテナ/\\t有線放送',\n",
       "       '高速インターネット/\\tCATV/\\tCSアンテナ/\\tインターネット使用料無料',\n",
       "       'インターネット対応/\\t光ファイバー/\\tCATV/\\t有線放送/\\tインターネット使用料無料',\n",
       "       '高速インターネット/\\t光ファイバー/\\tCATV/\\tCSアンテナ/\\t有線放送',\n",
       "       'CSアンテナ/\\tBSアンテナ/\\t有線放送',\n",
       "       'インターネット対応/\\t高速インターネット/\\tCSアンテナ/\\tBSアンテナ/\\t有線放送'], dtype=object)"
      ]
     },
     "execution_count": 87,
     "metadata": {},
     "output_type": "execute_result"
    }
   ],
   "source": [
    "total_data[\"放送・通信\"].unique()"
   ]
  },
  {
   "cell_type": "code",
   "execution_count": 88,
   "metadata": {},
   "outputs": [],
   "source": [
    "df = total_data[\"放送・通信\"].str.split(\"\\t\", expand=True)"
   ]
  },
  {
   "cell_type": "code",
   "execution_count": 89,
   "metadata": {},
   "outputs": [],
   "source": [
    "for i in df.columns:\n",
    "    df[i] = df[i].str.strip(\"/\")"
   ]
  },
  {
   "cell_type": "code",
   "execution_count": 90,
   "metadata": {},
   "outputs": [
    {
     "data": {
      "text/html": [
       "<div>\n",
       "<style scoped>\n",
       "    .dataframe tbody tr th:only-of-type {\n",
       "        vertical-align: middle;\n",
       "    }\n",
       "\n",
       "    .dataframe tbody tr th {\n",
       "        vertical-align: top;\n",
       "    }\n",
       "\n",
       "    .dataframe thead th {\n",
       "        text-align: right;\n",
       "    }\n",
       "</style>\n",
       "<table border=\"1\" class=\"dataframe\">\n",
       "  <thead>\n",
       "    <tr style=\"text-align: right;\">\n",
       "      <th></th>\n",
       "      <th>0</th>\n",
       "      <th>1</th>\n",
       "      <th>2</th>\n",
       "      <th>3</th>\n",
       "      <th>4</th>\n",
       "      <th>5</th>\n",
       "      <th>6</th>\n",
       "    </tr>\n",
       "  </thead>\n",
       "  <tbody>\n",
       "    <tr>\n",
       "      <th>0</th>\n",
       "      <td>インターネット対応</td>\n",
       "      <td>CATV</td>\n",
       "      <td>CSアンテナ</td>\n",
       "      <td>BSアンテナ</td>\n",
       "      <td>None</td>\n",
       "      <td>None</td>\n",
       "      <td>None</td>\n",
       "    </tr>\n",
       "    <tr>\n",
       "      <th>1</th>\n",
       "      <td>インターネット対応</td>\n",
       "      <td>None</td>\n",
       "      <td>None</td>\n",
       "      <td>None</td>\n",
       "      <td>None</td>\n",
       "      <td>None</td>\n",
       "      <td>None</td>\n",
       "    </tr>\n",
       "    <tr>\n",
       "      <th>2</th>\n",
       "      <td>インターネット対応</td>\n",
       "      <td>光ファイバー</td>\n",
       "      <td>CSアンテナ</td>\n",
       "      <td>BSアンテナ</td>\n",
       "      <td>None</td>\n",
       "      <td>None</td>\n",
       "      <td>None</td>\n",
       "    </tr>\n",
       "  </tbody>\n",
       "</table>\n",
       "</div>"
      ],
      "text/plain": [
       "           0       1       2       3     4     5     6\n",
       "0  インターネット対応    CATV  CSアンテナ  BSアンテナ  None  None  None\n",
       "1  インターネット対応    None    None    None  None  None  None\n",
       "2  インターネット対応  光ファイバー  CSアンテナ  BSアンテナ  None  None  None"
      ]
     },
     "execution_count": 90,
     "metadata": {},
     "output_type": "execute_result"
    }
   ],
   "source": [
    "df.head(3)"
   ]
  },
  {
   "cell_type": "code",
   "execution_count": 91,
   "metadata": {},
   "outputs": [
    {
     "name": "stdout",
     "output_type": "stream",
     "text": [
      "Your selected dataframe has 7 columns.\n",
      "There are 7 columns that have missing values.\n"
     ]
    },
    {
     "data": {
      "text/html": [
       "<div>\n",
       "<style scoped>\n",
       "    .dataframe tbody tr th:only-of-type {\n",
       "        vertical-align: middle;\n",
       "    }\n",
       "\n",
       "    .dataframe tbody tr th {\n",
       "        vertical-align: top;\n",
       "    }\n",
       "\n",
       "    .dataframe thead th {\n",
       "        text-align: right;\n",
       "    }\n",
       "</style>\n",
       "<table border=\"1\" class=\"dataframe\">\n",
       "  <thead>\n",
       "    <tr style=\"text-align: right;\">\n",
       "      <th></th>\n",
       "      <th>Missing Values</th>\n",
       "      <th>% of Total Values</th>\n",
       "    </tr>\n",
       "  </thead>\n",
       "  <tbody>\n",
       "    <tr>\n",
       "      <th>6</th>\n",
       "      <td>62529</td>\n",
       "      <td>99.7</td>\n",
       "    </tr>\n",
       "    <tr>\n",
       "      <th>5</th>\n",
       "      <td>60700</td>\n",
       "      <td>96.8</td>\n",
       "    </tr>\n",
       "    <tr>\n",
       "      <th>4</th>\n",
       "      <td>55355</td>\n",
       "      <td>88.2</td>\n",
       "    </tr>\n",
       "    <tr>\n",
       "      <th>3</th>\n",
       "      <td>45604</td>\n",
       "      <td>72.7</td>\n",
       "    </tr>\n",
       "    <tr>\n",
       "      <th>2</th>\n",
       "      <td>34281</td>\n",
       "      <td>54.6</td>\n",
       "    </tr>\n",
       "    <tr>\n",
       "      <th>1</th>\n",
       "      <td>19775</td>\n",
       "      <td>31.5</td>\n",
       "    </tr>\n",
       "    <tr>\n",
       "      <th>0</th>\n",
       "      <td>6894</td>\n",
       "      <td>11.0</td>\n",
       "    </tr>\n",
       "  </tbody>\n",
       "</table>\n",
       "</div>"
      ],
      "text/plain": [
       "   Missing Values  % of Total Values\n",
       "6           62529               99.7\n",
       "5           60700               96.8\n",
       "4           55355               88.2\n",
       "3           45604               72.7\n",
       "2           34281               54.6\n",
       "1           19775               31.5\n",
       "0            6894               11.0"
      ]
     },
     "execution_count": 91,
     "metadata": {},
     "output_type": "execute_result"
    }
   ],
   "source": [
    "missing_values = missing_values_table(df)\n",
    "missing_values"
   ]
  },
  {
   "cell_type": "code",
   "execution_count": 92,
   "metadata": {},
   "outputs": [],
   "source": [
    "list_1 = np.array([])\n",
    "for i in df.columns:\n",
    "    list_1 = np.append(list_1, df[i].values)"
   ]
  },
  {
   "cell_type": "code",
   "execution_count": 93,
   "metadata": {},
   "outputs": [
    {
     "data": {
      "text/plain": [
       "{'BSアンテナ',\n",
       " 'CATV',\n",
       " 'CSアンテナ',\n",
       " None,\n",
       " nan,\n",
       " 'インターネット使用料無料',\n",
       " 'インターネット対応',\n",
       " '光ファイバー',\n",
       " '有線放送',\n",
       " '高速インターネット'}"
      ]
     },
     "execution_count": 93,
     "metadata": {},
     "output_type": "execute_result"
    }
   ],
   "source": [
    "set(list_1)"
   ]
  },
  {
   "cell_type": "code",
   "execution_count": 94,
   "metadata": {},
   "outputs": [],
   "source": [
    "network_list = ['BSアンテナ',\n",
    " 'CATV',\n",
    " 'CSアンテナ',\n",
    " 'インターネット使用料無料',\n",
    " 'インターネット対応',\n",
    " '光ファイバー',\n",
    " '有線放送',\n",
    " '高速インターネット']"
   ]
  },
  {
   "cell_type": "code",
   "execution_count": 95,
   "metadata": {},
   "outputs": [],
   "source": [
    "for item in network_list:\n",
    "    total_data[item] = total_data[\"放送・通信\"].str.contains(item, regex=False)"
   ]
  },
  {
   "cell_type": "code",
   "execution_count": 96,
   "metadata": {},
   "outputs": [
    {
     "data": {
      "text/plain": [
       "Index(['所在地', 'アクセス', '間取り', '方角', '面積', '所在階', 'バス・トイレ', 'キッチン', '放送・通信',\n",
       "       '室内設備', '駐車場', '周辺環境', '建物構造', '契約期間', '築年数_月', '階建', '所在階_地下', '階建_地下',\n",
       "       '納戸', '間取り_D', '間取り_K', '間取り_L', '間取り_R', '間取り_S', '間取り_数', '方角_南',\n",
       "       '方角_東', '方角_西', '方角_北', '契約期間_定期借家', '契約期間_月', '所在地_区', 'アクセス_線_1',\n",
       "       'アクセス_駅_1', 'アクセス_線_2', 'アクセス_駅_2', 'シャワー', 'バス・トイレ別', '共同トイレ', '共同バス',\n",
       "       '専用トイレ', '専用バス', '洗面台独立', '浴室乾燥機', '温水洗浄便座', '脱衣所', '追焚機能', 'IHコンロ',\n",
       "       'L字キッチン', 'カウンターキッチン', 'ガスコンロ', 'コンロ1口', 'コンロ2口', 'コンロ3口', 'コンロ4口以上',\n",
       "       '口数不明', 'システムキッチン', '冷蔵庫あり', '独立キッチン', '給湯', '電気コンロ', 'BSアンテナ', 'CATV',\n",
       "       'CSアンテナ', 'インターネット使用料無料', 'インターネット対応', '光ファイバー', '有線放送', '高速インターネット'],\n",
       "      dtype='object')"
      ]
     },
     "execution_count": 96,
     "metadata": {},
     "output_type": "execute_result"
    }
   ],
   "source": [
    "total_data.columns"
   ]
  },
  {
   "cell_type": "markdown",
   "metadata": {},
   "source": [
    "# 室内設備"
   ]
  },
  {
   "cell_type": "code",
   "execution_count": 97,
   "metadata": {},
   "outputs": [
    {
     "data": {
      "text/plain": [
       "9293"
      ]
     },
     "execution_count": 97,
     "metadata": {},
     "output_type": "execute_result"
    }
   ],
   "source": [
    "total_data[\"室内設備\"].nunique()"
   ]
  },
  {
   "cell_type": "code",
   "execution_count": 98,
   "metadata": {},
   "outputs": [
    {
     "data": {
      "text/plain": [
       "array(['エアコン付\\tシューズボックス/\\tバルコニー/\\tフローリング/\\t室内洗濯機置場/\\t敷地内ごみ置き場\\t/\\tエレベーター\\t公営水道/\\t下水/\\t都市ガス',\n",
       "       'エアコン付\\tシューズボックス/\\tバルコニー/\\tフローリング/\\t室内洗濯機置場/\\t敷地内ごみ置き場\\t/\\tエレベーター/\\tタイル張り',\n",
       "       'エアコン付\\tウォークインクローゼット\\tシューズボックス/\\tバルコニー/\\tフローリング/\\t室内洗濯機置場/\\t敷地内ごみ置き場\\t/\\tエレベーター/\\tタイル張り\\t公営水道/\\t下水/\\t都市ガス',\n",
       "       ..., 'エアコン付\\tフローリング/\\tペアガラス/\\t室内洗濯機置場/\\t敷地内ごみ置き場\\t/\\t専用庭',\n",
       "       'エアコン付\\tシューズボックス/\\t出窓/\\t室内洗濯機置場\\t公営水道/\\t下水/\\t都市ガス',\n",
       "       '冷房/\\tエアコン付/\\t床暖房\\tバルコニー/\\tフローリング/\\t24時間換気システム\\t/\\t室内洗濯機置場/\\t敷地内ごみ置き場\\t/\\tエレベーター/\\tタイル張り\\t公営水道/\\t下水/\\t都市ガス'],\n",
       "      dtype=object)"
      ]
     },
     "execution_count": 98,
     "metadata": {},
     "output_type": "execute_result"
    }
   ],
   "source": [
    "total_data[\"室内設備\"].unique()"
   ]
  },
  {
   "cell_type": "code",
   "execution_count": 99,
   "metadata": {},
   "outputs": [
    {
     "data": {
      "text/html": [
       "<div>\n",
       "<style scoped>\n",
       "    .dataframe tbody tr th:only-of-type {\n",
       "        vertical-align: middle;\n",
       "    }\n",
       "\n",
       "    .dataframe tbody tr th {\n",
       "        vertical-align: top;\n",
       "    }\n",
       "\n",
       "    .dataframe thead th {\n",
       "        text-align: right;\n",
       "    }\n",
       "</style>\n",
       "<table border=\"1\" class=\"dataframe\">\n",
       "  <thead>\n",
       "    <tr style=\"text-align: right;\">\n",
       "      <th></th>\n",
       "      <th>0</th>\n",
       "      <th>1</th>\n",
       "      <th>2</th>\n",
       "      <th>3</th>\n",
       "      <th>4</th>\n",
       "      <th>5</th>\n",
       "      <th>6</th>\n",
       "      <th>7</th>\n",
       "      <th>8</th>\n",
       "      <th>9</th>\n",
       "      <th>...</th>\n",
       "      <th>13</th>\n",
       "      <th>14</th>\n",
       "      <th>15</th>\n",
       "      <th>16</th>\n",
       "      <th>17</th>\n",
       "      <th>18</th>\n",
       "      <th>19</th>\n",
       "      <th>20</th>\n",
       "      <th>21</th>\n",
       "      <th>22</th>\n",
       "    </tr>\n",
       "  </thead>\n",
       "  <tbody>\n",
       "    <tr>\n",
       "      <th>0</th>\n",
       "      <td>エアコン付</td>\n",
       "      <td>シューズボックス</td>\n",
       "      <td>バルコニー</td>\n",
       "      <td>フローリング</td>\n",
       "      <td>室内洗濯機置場</td>\n",
       "      <td>敷地内ごみ置き場</td>\n",
       "      <td></td>\n",
       "      <td>エレベーター</td>\n",
       "      <td>公営水道</td>\n",
       "      <td>下水</td>\n",
       "      <td>...</td>\n",
       "      <td>None</td>\n",
       "      <td>None</td>\n",
       "      <td>None</td>\n",
       "      <td>None</td>\n",
       "      <td>None</td>\n",
       "      <td>None</td>\n",
       "      <td>None</td>\n",
       "      <td>None</td>\n",
       "      <td>None</td>\n",
       "      <td>None</td>\n",
       "    </tr>\n",
       "    <tr>\n",
       "      <th>1</th>\n",
       "      <td>エアコン付</td>\n",
       "      <td>シューズボックス</td>\n",
       "      <td>バルコニー</td>\n",
       "      <td>フローリング</td>\n",
       "      <td>室内洗濯機置場</td>\n",
       "      <td>敷地内ごみ置き場</td>\n",
       "      <td></td>\n",
       "      <td>エレベーター</td>\n",
       "      <td>タイル張り</td>\n",
       "      <td>None</td>\n",
       "      <td>...</td>\n",
       "      <td>None</td>\n",
       "      <td>None</td>\n",
       "      <td>None</td>\n",
       "      <td>None</td>\n",
       "      <td>None</td>\n",
       "      <td>None</td>\n",
       "      <td>None</td>\n",
       "      <td>None</td>\n",
       "      <td>None</td>\n",
       "      <td>None</td>\n",
       "    </tr>\n",
       "    <tr>\n",
       "      <th>2</th>\n",
       "      <td>エアコン付</td>\n",
       "      <td>ウォークインクローゼット</td>\n",
       "      <td>シューズボックス</td>\n",
       "      <td>バルコニー</td>\n",
       "      <td>フローリング</td>\n",
       "      <td>室内洗濯機置場</td>\n",
       "      <td>敷地内ごみ置き場</td>\n",
       "      <td></td>\n",
       "      <td>エレベーター</td>\n",
       "      <td>タイル張り</td>\n",
       "      <td>...</td>\n",
       "      <td>None</td>\n",
       "      <td>None</td>\n",
       "      <td>None</td>\n",
       "      <td>None</td>\n",
       "      <td>None</td>\n",
       "      <td>None</td>\n",
       "      <td>None</td>\n",
       "      <td>None</td>\n",
       "      <td>None</td>\n",
       "      <td>None</td>\n",
       "    </tr>\n",
       "  </tbody>\n",
       "</table>\n",
       "<p>3 rows × 23 columns</p>\n",
       "</div>"
      ],
      "text/plain": [
       "      0             1         2       3        4         5         6       7   \\\n",
       "0  エアコン付      シューズボックス     バルコニー  フローリング  室内洗濯機置場  敷地内ごみ置き場            エレベーター   \n",
       "1  エアコン付      シューズボックス     バルコニー  フローリング  室内洗濯機置場  敷地内ごみ置き場            エレベーター   \n",
       "2  エアコン付  ウォークインクローゼット  シューズボックス   バルコニー   フローリング   室内洗濯機置場  敷地内ごみ置き場           \n",
       "\n",
       "       8      9   ...    13    14    15    16    17    18    19    20    21  \\\n",
       "0    公営水道     下水  ...  None  None  None  None  None  None  None  None  None   \n",
       "1   タイル張り   None  ...  None  None  None  None  None  None  None  None  None   \n",
       "2  エレベーター  タイル張り  ...  None  None  None  None  None  None  None  None  None   \n",
       "\n",
       "     22  \n",
       "0  None  \n",
       "1  None  \n",
       "2  None  \n",
       "\n",
       "[3 rows x 23 columns]"
      ]
     },
     "execution_count": 99,
     "metadata": {},
     "output_type": "execute_result"
    }
   ],
   "source": [
    "df = total_data[\"室内設備\"].str.split(\"\\t\", expand=True)\n",
    "for i in df.columns:\n",
    "    df[i] = df[i].str.strip(\"/\")\n",
    "df.head(3)"
   ]
  },
  {
   "cell_type": "code",
   "execution_count": 100,
   "metadata": {},
   "outputs": [
    {
     "name": "stdout",
     "output_type": "stream",
     "text": [
      "Your selected dataframe has 23 columns.\n",
      "There are 23 columns that have missing values.\n"
     ]
    },
    {
     "data": {
      "text/html": [
       "<div>\n",
       "<style scoped>\n",
       "    .dataframe tbody tr th:only-of-type {\n",
       "        vertical-align: middle;\n",
       "    }\n",
       "\n",
       "    .dataframe tbody tr th {\n",
       "        vertical-align: top;\n",
       "    }\n",
       "\n",
       "    .dataframe thead th {\n",
       "        text-align: right;\n",
       "    }\n",
       "</style>\n",
       "<table border=\"1\" class=\"dataframe\">\n",
       "  <thead>\n",
       "    <tr style=\"text-align: right;\">\n",
       "      <th></th>\n",
       "      <th>Missing Values</th>\n",
       "      <th>% of Total Values</th>\n",
       "    </tr>\n",
       "  </thead>\n",
       "  <tbody>\n",
       "    <tr>\n",
       "      <th>22</th>\n",
       "      <td>62730</td>\n",
       "      <td>100.0</td>\n",
       "    </tr>\n",
       "    <tr>\n",
       "      <th>21</th>\n",
       "      <td>62729</td>\n",
       "      <td>100.0</td>\n",
       "    </tr>\n",
       "    <tr>\n",
       "      <th>20</th>\n",
       "      <td>62728</td>\n",
       "      <td>100.0</td>\n",
       "    </tr>\n",
       "    <tr>\n",
       "      <th>19</th>\n",
       "      <td>62711</td>\n",
       "      <td>100.0</td>\n",
       "    </tr>\n",
       "    <tr>\n",
       "      <th>18</th>\n",
       "      <td>62635</td>\n",
       "      <td>99.8</td>\n",
       "    </tr>\n",
       "    <tr>\n",
       "      <th>17</th>\n",
       "      <td>62333</td>\n",
       "      <td>99.4</td>\n",
       "    </tr>\n",
       "    <tr>\n",
       "      <th>16</th>\n",
       "      <td>61449</td>\n",
       "      <td>98.0</td>\n",
       "    </tr>\n",
       "    <tr>\n",
       "      <th>15</th>\n",
       "      <td>59266</td>\n",
       "      <td>94.5</td>\n",
       "    </tr>\n",
       "    <tr>\n",
       "      <th>14</th>\n",
       "      <td>54490</td>\n",
       "      <td>86.9</td>\n",
       "    </tr>\n",
       "    <tr>\n",
       "      <th>13</th>\n",
       "      <td>48546</td>\n",
       "      <td>77.4</td>\n",
       "    </tr>\n",
       "    <tr>\n",
       "      <th>12</th>\n",
       "      <td>43895</td>\n",
       "      <td>70.0</td>\n",
       "    </tr>\n",
       "    <tr>\n",
       "      <th>11</th>\n",
       "      <td>38753</td>\n",
       "      <td>61.8</td>\n",
       "    </tr>\n",
       "    <tr>\n",
       "      <th>10</th>\n",
       "      <td>33675</td>\n",
       "      <td>53.7</td>\n",
       "    </tr>\n",
       "    <tr>\n",
       "      <th>9</th>\n",
       "      <td>29075</td>\n",
       "      <td>46.3</td>\n",
       "    </tr>\n",
       "    <tr>\n",
       "      <th>8</th>\n",
       "      <td>23610</td>\n",
       "      <td>37.6</td>\n",
       "    </tr>\n",
       "    <tr>\n",
       "      <th>7</th>\n",
       "      <td>17632</td>\n",
       "      <td>28.1</td>\n",
       "    </tr>\n",
       "    <tr>\n",
       "      <th>6</th>\n",
       "      <td>12148</td>\n",
       "      <td>19.4</td>\n",
       "    </tr>\n",
       "    <tr>\n",
       "      <th>5</th>\n",
       "      <td>7632</td>\n",
       "      <td>12.2</td>\n",
       "    </tr>\n",
       "    <tr>\n",
       "      <th>4</th>\n",
       "      <td>4483</td>\n",
       "      <td>7.1</td>\n",
       "    </tr>\n",
       "    <tr>\n",
       "      <th>3</th>\n",
       "      <td>2378</td>\n",
       "      <td>3.8</td>\n",
       "    </tr>\n",
       "    <tr>\n",
       "      <th>2</th>\n",
       "      <td>1079</td>\n",
       "      <td>1.7</td>\n",
       "    </tr>\n",
       "    <tr>\n",
       "      <th>1</th>\n",
       "      <td>424</td>\n",
       "      <td>0.7</td>\n",
       "    </tr>\n",
       "    <tr>\n",
       "      <th>0</th>\n",
       "      <td>155</td>\n",
       "      <td>0.2</td>\n",
       "    </tr>\n",
       "  </tbody>\n",
       "</table>\n",
       "</div>"
      ],
      "text/plain": [
       "    Missing Values  % of Total Values\n",
       "22           62730              100.0\n",
       "21           62729              100.0\n",
       "20           62728              100.0\n",
       "19           62711              100.0\n",
       "18           62635               99.8\n",
       "17           62333               99.4\n",
       "16           61449               98.0\n",
       "15           59266               94.5\n",
       "14           54490               86.9\n",
       "13           48546               77.4\n",
       "12           43895               70.0\n",
       "11           38753               61.8\n",
       "10           33675               53.7\n",
       "9            29075               46.3\n",
       "8            23610               37.6\n",
       "7            17632               28.1\n",
       "6            12148               19.4\n",
       "5             7632               12.2\n",
       "4             4483                7.1\n",
       "3             2378                3.8\n",
       "2             1079                1.7\n",
       "1              424                0.7\n",
       "0              155                0.2"
      ]
     },
     "execution_count": 100,
     "metadata": {},
     "output_type": "execute_result"
    }
   ],
   "source": [
    "missing_values = missing_values_table(df)\n",
    "missing_values"
   ]
  },
  {
   "cell_type": "code",
   "execution_count": 101,
   "metadata": {},
   "outputs": [],
   "source": [
    "list_1 = np.array([])\n",
    "for i in df.columns:\n",
    "    list_1 = np.append(list_1, df[i].values)"
   ]
  },
  {
   "cell_type": "code",
   "execution_count": 102,
   "metadata": {},
   "outputs": [
    {
     "data": {
      "text/plain": [
       "エアコン付           59257\n",
       "室内洗濯機置場         54579\n",
       "フローリング          54353\n",
       "都市ガス            50802\n",
       "バルコニー           49969\n",
       "                49018\n",
       "下水              46701\n",
       "公営水道            46183\n",
       "シューズボックス        45798\n",
       "敷地内ごみ置き場        33275\n",
       "エレベーター          32146\n",
       "タイル張り           27130\n",
       "24時間換気システム      21390\n",
       "2面採光            13132\n",
       "冷房              10474\n",
       "ウォークインクローゼット     7547\n",
       "室外洗濯機置場          3445\n",
       "水道その他            3410\n",
       "床暖房              3209\n",
       "出窓               2536\n",
       "ロフト付き            2458\n",
       "3面採光             2160\n",
       "プロパンガス           1971\n",
       "ペアガラス            1252\n",
       "床下収納             1198\n",
       "オール電化            1128\n",
       "トランクルーム          1028\n",
       "クッションフロア          773\n",
       "ルーフバルコニー          658\n",
       "専用庭               438\n",
       "バリアフリー            322\n",
       "二重サッシ             178\n",
       "洗濯機置場なし           132\n",
       "防音室               120\n",
       "ガスその他              35\n",
       "浄化槽                18\n",
       "排水その他              14\n",
       "ガス暖房               13\n",
       "汲み取り               11\n",
       "地下室                10\n",
       "二世帯住宅               4\n",
       "井戸                  3\n",
       "石油暖房                2\n",
       "dtype: int64"
      ]
     },
     "execution_count": 102,
     "metadata": {},
     "output_type": "execute_result"
    }
   ],
   "source": [
    "series = pd.Series(list_1)\n",
    "list_1 = series.value_counts()\n",
    "list_1"
   ]
  },
  {
   "cell_type": "code",
   "execution_count": 103,
   "metadata": {},
   "outputs": [
    {
     "data": {
      "text/plain": [
       "array(['エアコン付', '室内洗濯機置場', 'フローリング', '都市ガス', 'バルコニー', '', '下水', '公営水道',\n",
       "       'シューズボックス', '敷地内ごみ置き場', 'エレベーター', 'タイル張り', '24時間換気システム', '2面採光',\n",
       "       '冷房', 'ウォークインクローゼット', '室外洗濯機置場', '水道その他', '床暖房', '出窓', 'ロフト付き',\n",
       "       '3面採光', 'プロパンガス', 'ペアガラス', '床下収納', 'オール電化', 'トランクルーム', 'クッションフロア',\n",
       "       'ルーフバルコニー', '専用庭', 'バリアフリー', '二重サッシ', '洗濯機置場なし', '防音室'],\n",
       "      dtype=object)"
      ]
     },
     "execution_count": 103,
     "metadata": {},
     "output_type": "execute_result"
    }
   ],
   "source": [
    "list_1.index[:34].values"
   ]
  },
  {
   "cell_type": "code",
   "execution_count": 104,
   "metadata": {},
   "outputs": [],
   "source": [
    "utilities_list = list_1.index[:34].values"
   ]
  },
  {
   "cell_type": "code",
   "execution_count": 105,
   "metadata": {},
   "outputs": [
    {
     "data": {
      "text/plain": [
       "{'',\n",
       " '24時間換気システム',\n",
       " '2面採光',\n",
       " '3面採光',\n",
       " 'ウォークインクローゼット',\n",
       " 'エアコン付',\n",
       " 'エレベーター',\n",
       " 'オール電化',\n",
       " 'クッションフロア',\n",
       " 'シューズボックス',\n",
       " 'タイル張り',\n",
       " 'トランクルーム',\n",
       " 'バリアフリー',\n",
       " 'バルコニー',\n",
       " 'フローリング',\n",
       " 'プロパンガス',\n",
       " 'ペアガラス',\n",
       " 'ルーフバルコニー',\n",
       " 'ロフト付き',\n",
       " '下水',\n",
       " '二重サッシ',\n",
       " '公営水道',\n",
       " '冷房',\n",
       " '出窓',\n",
       " '室内洗濯機置場',\n",
       " '室外洗濯機置場',\n",
       " '専用庭',\n",
       " '床下収納',\n",
       " '床暖房',\n",
       " '敷地内ごみ置き場',\n",
       " '水道その他',\n",
       " '洗濯機置場なし',\n",
       " '都市ガス',\n",
       " '防音室'}"
      ]
     },
     "execution_count": 105,
     "metadata": {},
     "output_type": "execute_result"
    }
   ],
   "source": [
    "set(utilities_list)"
   ]
  },
  {
   "cell_type": "code",
   "execution_count": 106,
   "metadata": {},
   "outputs": [],
   "source": [
    "utilities_list = ['24時間換気システム',\n",
    " '2面採光',\n",
    " '3面採光',\n",
    " 'ウォークインクローゼット',\n",
    " 'エアコン付',\n",
    " 'エレベーター',\n",
    " 'オール電化',\n",
    " 'クッションフロア',\n",
    " 'シューズボックス',\n",
    " 'タイル張り',\n",
    " 'トランクルーム',\n",
    " 'バリアフリー',\n",
    " 'バルコニー',\n",
    " 'フローリング',\n",
    " 'プロパンガス',\n",
    " 'ペアガラス',\n",
    " 'ルーフバルコニー',\n",
    " 'ロフト付き',\n",
    " '下水',\n",
    " '二重サッシ',\n",
    " '公営水道',\n",
    " '冷房',\n",
    " '出窓',\n",
    " '室内洗濯機置場',\n",
    " '室外洗濯機置場',\n",
    " '専用庭',\n",
    " '床下収納',\n",
    " '床暖房',\n",
    " '敷地内ごみ置き場',\n",
    " '水道その他',\n",
    " '洗濯機置場なし',\n",
    " '都市ガス',\n",
    " '防音室']"
   ]
  },
  {
   "cell_type": "code",
   "execution_count": 107,
   "metadata": {},
   "outputs": [
    {
     "data": {
      "text/plain": [
       "33"
      ]
     },
     "execution_count": 107,
     "metadata": {},
     "output_type": "execute_result"
    }
   ],
   "source": [
    "len(utilities_list)"
   ]
  },
  {
   "cell_type": "code",
   "execution_count": 108,
   "metadata": {},
   "outputs": [],
   "source": [
    "for item in utilities_list:\n",
    "    total_data[item] = total_data[\"室内設備\"].str.contains(item, regex=False)"
   ]
  },
  {
   "cell_type": "code",
   "execution_count": 109,
   "metadata": {},
   "outputs": [
    {
     "data": {
      "text/plain": [
       "Index(['所在地', 'アクセス', '間取り', '方角', '面積', '所在階', 'バス・トイレ', 'キッチン', '放送・通信',\n",
       "       '室内設備', '駐車場', '周辺環境', '建物構造', '契約期間', '築年数_月', '階建', '所在階_地下', '階建_地下',\n",
       "       '納戸', '間取り_D'],\n",
       "      dtype='object')"
      ]
     },
     "execution_count": 109,
     "metadata": {},
     "output_type": "execute_result"
    }
   ],
   "source": [
    "total_data.columns[:20]"
   ]
  },
  {
   "cell_type": "markdown",
   "metadata": {},
   "source": [
    "# 駐車場"
   ]
  },
  {
   "cell_type": "code",
   "execution_count": 110,
   "metadata": {},
   "outputs": [
    {
     "data": {
      "text/plain": [
       "5926"
      ]
     },
     "execution_count": 110,
     "metadata": {},
     "output_type": "execute_result"
    }
   ],
   "source": [
    "total_data[\"駐車場\"].nunique()"
   ]
  },
  {
   "cell_type": "code",
   "execution_count": 111,
   "metadata": {},
   "outputs": [
    {
     "data": {
      "text/plain": [
       "array(['駐輪場\\t空有', '駐輪場\\t空有\\t駐車場\\t無\\tバイク置き場\\t無',\n",
       "       '駐輪場\\t空有\\tバイク置き場\\t空有\\t駐車場\\t近隣\\t30,000円(税込)\\t距離100m', ...,\n",
       "       '駐車場\\t空有\\t12,960円\\t距離10m\\t駐輪場\\t空有\\tバイク置き場\\t無',\n",
       "       '駐車場\\t空有\\t32,400円\\t(要空き確認)\\t駐輪場\\t空有\\tバイク置き場\\t空有',\n",
       "       '駐車場\\t空有\\t21,600円\\t(要確認)'], dtype=object)"
      ]
     },
     "execution_count": 111,
     "metadata": {},
     "output_type": "execute_result"
    }
   ],
   "source": [
    "total_data[\"駐車場\"].unique()"
   ]
  },
  {
   "cell_type": "code",
   "execution_count": 112,
   "metadata": {},
   "outputs": [
    {
     "data": {
      "text/html": [
       "<div>\n",
       "<style scoped>\n",
       "    .dataframe tbody tr th:only-of-type {\n",
       "        vertical-align: middle;\n",
       "    }\n",
       "\n",
       "    .dataframe tbody tr th {\n",
       "        vertical-align: top;\n",
       "    }\n",
       "\n",
       "    .dataframe thead th {\n",
       "        text-align: right;\n",
       "    }\n",
       "</style>\n",
       "<table border=\"1\" class=\"dataframe\">\n",
       "  <thead>\n",
       "    <tr style=\"text-align: right;\">\n",
       "      <th></th>\n",
       "      <th>0</th>\n",
       "      <th>1</th>\n",
       "      <th>2</th>\n",
       "      <th>3</th>\n",
       "      <th>4</th>\n",
       "      <th>5</th>\n",
       "      <th>6</th>\n",
       "      <th>7</th>\n",
       "      <th>8</th>\n",
       "      <th>9</th>\n",
       "      <th>10</th>\n",
       "      <th>11</th>\n",
       "      <th>12</th>\n",
       "      <th>13</th>\n",
       "      <th>14</th>\n",
       "      <th>15</th>\n",
       "      <th>16</th>\n",
       "      <th>17</th>\n",
       "      <th>18</th>\n",
       "    </tr>\n",
       "  </thead>\n",
       "  <tbody>\n",
       "    <tr>\n",
       "      <th>0</th>\n",
       "      <td>駐輪場</td>\n",
       "      <td>空有</td>\n",
       "      <td>None</td>\n",
       "      <td>None</td>\n",
       "      <td>None</td>\n",
       "      <td>None</td>\n",
       "      <td>None</td>\n",
       "      <td>None</td>\n",
       "      <td>None</td>\n",
       "      <td>None</td>\n",
       "      <td>None</td>\n",
       "      <td>None</td>\n",
       "      <td>None</td>\n",
       "      <td>None</td>\n",
       "      <td>None</td>\n",
       "      <td>None</td>\n",
       "      <td>None</td>\n",
       "      <td>None</td>\n",
       "      <td>None</td>\n",
       "    </tr>\n",
       "    <tr>\n",
       "      <th>1</th>\n",
       "      <td>駐輪場</td>\n",
       "      <td>空有</td>\n",
       "      <td>駐車場</td>\n",
       "      <td>無</td>\n",
       "      <td>バイク置き場</td>\n",
       "      <td>無</td>\n",
       "      <td>None</td>\n",
       "      <td>None</td>\n",
       "      <td>None</td>\n",
       "      <td>None</td>\n",
       "      <td>None</td>\n",
       "      <td>None</td>\n",
       "      <td>None</td>\n",
       "      <td>None</td>\n",
       "      <td>None</td>\n",
       "      <td>None</td>\n",
       "      <td>None</td>\n",
       "      <td>None</td>\n",
       "      <td>None</td>\n",
       "    </tr>\n",
       "    <tr>\n",
       "      <th>2</th>\n",
       "      <td>駐輪場</td>\n",
       "      <td>空有</td>\n",
       "      <td>バイク置き場</td>\n",
       "      <td>空有</td>\n",
       "      <td>駐車場</td>\n",
       "      <td>近隣</td>\n",
       "      <td>30,000円(税込)</td>\n",
       "      <td>距離100m</td>\n",
       "      <td>None</td>\n",
       "      <td>None</td>\n",
       "      <td>None</td>\n",
       "      <td>None</td>\n",
       "      <td>None</td>\n",
       "      <td>None</td>\n",
       "      <td>None</td>\n",
       "      <td>None</td>\n",
       "      <td>None</td>\n",
       "      <td>None</td>\n",
       "      <td>None</td>\n",
       "    </tr>\n",
       "  </tbody>\n",
       "</table>\n",
       "</div>"
      ],
      "text/plain": [
       "    0   1       2     3       4     5            6       7     8     9     10  \\\n",
       "0  駐輪場  空有    None  None    None  None         None    None  None  None  None   \n",
       "1  駐輪場  空有     駐車場     無  バイク置き場     無         None    None  None  None  None   \n",
       "2  駐輪場  空有  バイク置き場    空有     駐車場    近隣  30,000円(税込)  距離100m  None  None  None   \n",
       "\n",
       "     11    12    13    14    15    16    17    18  \n",
       "0  None  None  None  None  None  None  None  None  \n",
       "1  None  None  None  None  None  None  None  None  \n",
       "2  None  None  None  None  None  None  None  None  "
      ]
     },
     "execution_count": 112,
     "metadata": {},
     "output_type": "execute_result"
    }
   ],
   "source": [
    "df = total_data[\"駐車場\"].str.split(\"\\t\", expand=True)\n",
    "for i in df.columns:\n",
    "    df[i] = df[i].str.strip(\"/\")\n",
    "df.head(3)"
   ]
  },
  {
   "cell_type": "code",
   "execution_count": 113,
   "metadata": {},
   "outputs": [
    {
     "data": {
      "text/plain": [
       "array([None, '距離100m', '無', nan, '距離150m', '空有', '距離200m', '距離500m',\n",
       "       '距離300m', '0円', 'バイク置き場', '距離400m', '空有(1台)', '駐輪場', '23,000円',\n",
       "       '距離125m', '25,000円', '■デザイナーズ物件', '近隣', '3,240円', '距離159m',\n",
       "       '3,000円', '駐車場', '距離50m', '距離250m', '(中央2-36月極駐車場', '距離350m',\n",
       "       '空有(2台)', '距離132m', '距離135m', '1,000円', '(平置駐)', '距離450m',\n",
       "       '(※空き状況は都度確認が必要)', '距離160m', '距離260m', '月額)', '15120円/月額',\n",
       "       '距離158m', '21,600円', '1ヶ月)', '(別途契約要)', '距離320m', '距離20m',\n",
       "       '5,000円', '距離230m', '(自転車は無料で駐輪頂けます。(原付等バイクは有料))', '距離10m',\n",
       "       '30,000円', '空有(4台)', '距離15m', '17,280円(税込)', '距離162m', '距離374m',\n",
       "       '距離240m', '33,000円', '空無', '距離34m', '35,000円', '距離120m', '2,160円',\n",
       "       '距離1000m', '距離5m', '(空き要確認・50cc迄)', '(2台目', '4,000円', '距離2m',\n",
       "       '5,400円', '距離650m', '近隣(1台)', '1,000円(税抜)', '28,000円', '距離80m',\n",
       "       '22,000円', '(空要確認)', '21,000円', '27,000円', '40,000円', '1ヶ月、敷金あり',\n",
       "       '距離130m', '距離149m', '(月額制)', '26,000円', '(バイク(原付含む)駐輪不可)',\n",
       "       '距離138m', '距離83m', '距離199m', '4,320円', '10,800円', '1800KG)', ')',\n",
       "       '20,000円', '16,000円', '[空き台数]1台)', '距離165m', '22,500円',\n",
       "       '(詳細は当店までお気軽にお問い合わせ下さいませ。)', '(登録制・1台まで無料)', '500円', '2,500円(税無)',\n",
       "       '距離390m', '(ラック上段200円・下段400円)', '7,200円', '(駐輪場有、詳細はお問い合わせください。)',\n",
       "       '距離413m', '32,000円', '距離319m', '距離136m', '距離175m', '12,000円',\n",
       "       '6,480円', '300円', '(要確認)', '(敷地内です)', '(平置き)',\n",
       "       '(50ccスクーターのみ/詳細・空き要確認)', '距離169m', '14,040円', '距離198m', '距離82m',\n",
       "       '距離156m', '距離123m', '24,000円', '距離115m', '距離280m', '23,760円',\n",
       "       '距離185m', '距離329m', '324円', '距離800m', '距離172m', '距離55m', '空有(10台)',\n",
       "       '(※サイズ・空き要確認)', '￥23760)', '距離134m', '24,840円', '距離270m', '3,500円',\n",
       "       '距離124m', '2,000円', '距離268m', '距離121m', '距離210m', '1,080円',\n",
       "       '距離190m', '距離0m', '距離126m', '距離58m', '要確認)', '16,200円', '11,880円',\n",
       "       '距離187m', '距離220m', '距離180m', '距離290m', '(屋根付きです)', '距離113m',\n",
       "       '距離239m', '距離155m', '(無料でご利用いただける駐輪場があります。)', '(鷺宮6-4月極駐車場)',\n",
       "       '距離360m', '38,000円', '距離203m', '大きさによる)', '[距離]350m', '距離245m',\n",
       "       '(関口)', '■敷金0'], dtype=object)"
      ]
     },
     "execution_count": 113,
     "metadata": {},
     "output_type": "execute_result"
    }
   ],
   "source": [
    "df[7].unique()"
   ]
  },
  {
   "cell_type": "code",
   "execution_count": 114,
   "metadata": {},
   "outputs": [
    {
     "name": "stdout",
     "output_type": "stream",
     "text": [
      "Your selected dataframe has 19 columns.\n",
      "There are 19 columns that have missing values.\n"
     ]
    },
    {
     "data": {
      "text/html": [
       "<div>\n",
       "<style scoped>\n",
       "    .dataframe tbody tr th:only-of-type {\n",
       "        vertical-align: middle;\n",
       "    }\n",
       "\n",
       "    .dataframe tbody tr th {\n",
       "        vertical-align: top;\n",
       "    }\n",
       "\n",
       "    .dataframe thead th {\n",
       "        text-align: right;\n",
       "    }\n",
       "</style>\n",
       "<table border=\"1\" class=\"dataframe\">\n",
       "  <thead>\n",
       "    <tr style=\"text-align: right;\">\n",
       "      <th></th>\n",
       "      <th>Missing Values</th>\n",
       "      <th>% of Total Values</th>\n",
       "    </tr>\n",
       "  </thead>\n",
       "  <tbody>\n",
       "    <tr>\n",
       "      <th>18</th>\n",
       "      <td>62731</td>\n",
       "      <td>100.0</td>\n",
       "    </tr>\n",
       "    <tr>\n",
       "      <th>17</th>\n",
       "      <td>62710</td>\n",
       "      <td>100.0</td>\n",
       "    </tr>\n",
       "    <tr>\n",
       "      <th>16</th>\n",
       "      <td>62710</td>\n",
       "      <td>100.0</td>\n",
       "    </tr>\n",
       "    <tr>\n",
       "      <th>15</th>\n",
       "      <td>62710</td>\n",
       "      <td>100.0</td>\n",
       "    </tr>\n",
       "    <tr>\n",
       "      <th>14</th>\n",
       "      <td>62710</td>\n",
       "      <td>100.0</td>\n",
       "    </tr>\n",
       "    <tr>\n",
       "      <th>13</th>\n",
       "      <td>62709</td>\n",
       "      <td>100.0</td>\n",
       "    </tr>\n",
       "    <tr>\n",
       "      <th>12</th>\n",
       "      <td>62696</td>\n",
       "      <td>99.9</td>\n",
       "    </tr>\n",
       "    <tr>\n",
       "      <th>11</th>\n",
       "      <td>62673</td>\n",
       "      <td>99.9</td>\n",
       "    </tr>\n",
       "    <tr>\n",
       "      <th>10</th>\n",
       "      <td>62602</td>\n",
       "      <td>99.8</td>\n",
       "    </tr>\n",
       "    <tr>\n",
       "      <th>9</th>\n",
       "      <td>62185</td>\n",
       "      <td>99.1</td>\n",
       "    </tr>\n",
       "    <tr>\n",
       "      <th>8</th>\n",
       "      <td>61042</td>\n",
       "      <td>97.3</td>\n",
       "    </tr>\n",
       "    <tr>\n",
       "      <th>7</th>\n",
       "      <td>48967</td>\n",
       "      <td>78.1</td>\n",
       "    </tr>\n",
       "    <tr>\n",
       "      <th>6</th>\n",
       "      <td>43011</td>\n",
       "      <td>68.6</td>\n",
       "    </tr>\n",
       "    <tr>\n",
       "      <th>5</th>\n",
       "      <td>31021</td>\n",
       "      <td>49.5</td>\n",
       "    </tr>\n",
       "    <tr>\n",
       "      <th>4</th>\n",
       "      <td>29542</td>\n",
       "      <td>47.1</td>\n",
       "    </tr>\n",
       "    <tr>\n",
       "      <th>3</th>\n",
       "      <td>22807</td>\n",
       "      <td>36.4</td>\n",
       "    </tr>\n",
       "    <tr>\n",
       "      <th>2</th>\n",
       "      <td>19817</td>\n",
       "      <td>31.6</td>\n",
       "    </tr>\n",
       "    <tr>\n",
       "      <th>1</th>\n",
       "      <td>10643</td>\n",
       "      <td>17.0</td>\n",
       "    </tr>\n",
       "    <tr>\n",
       "      <th>0</th>\n",
       "      <td>10643</td>\n",
       "      <td>17.0</td>\n",
       "    </tr>\n",
       "  </tbody>\n",
       "</table>\n",
       "</div>"
      ],
      "text/plain": [
       "    Missing Values  % of Total Values\n",
       "18           62731              100.0\n",
       "17           62710              100.0\n",
       "16           62710              100.0\n",
       "15           62710              100.0\n",
       "14           62710              100.0\n",
       "13           62709              100.0\n",
       "12           62696               99.9\n",
       "11           62673               99.9\n",
       "10           62602               99.8\n",
       "9            62185               99.1\n",
       "8            61042               97.3\n",
       "7            48967               78.1\n",
       "6            43011               68.6\n",
       "5            31021               49.5\n",
       "4            29542               47.1\n",
       "3            22807               36.4\n",
       "2            19817               31.6\n",
       "1            10643               17.0\n",
       "0            10643               17.0"
      ]
     },
     "execution_count": 114,
     "metadata": {},
     "output_type": "execute_result"
    }
   ],
   "source": [
    "missing_values = missing_values_table(df)\n",
    "missing_values"
   ]
  },
  {
   "cell_type": "code",
   "execution_count": 115,
   "metadata": {},
   "outputs": [
    {
     "data": {
      "text/plain": [
       "array(['駐輪場', '駐車場', nan, 'バイク置き場'], dtype=object)"
      ]
     },
     "execution_count": 115,
     "metadata": {},
     "output_type": "execute_result"
    }
   ],
   "source": [
    "df[0].unique()"
   ]
  },
  {
   "cell_type": "code",
   "execution_count": 116,
   "metadata": {},
   "outputs": [],
   "source": [
    "list_1 = ['駐輪場', '駐車場', 'バイク置き場']\n",
    "for item in list_1:\n",
    "    total_data[item] = total_data[\"駐車場\"].str.contains(item, regex=False)"
   ]
  },
  {
   "cell_type": "code",
   "execution_count": 117,
   "metadata": {},
   "outputs": [],
   "source": [
    "df_1 = df[1].str.split(\"(\", expand=True)"
   ]
  },
  {
   "cell_type": "code",
   "execution_count": 118,
   "metadata": {},
   "outputs": [
    {
     "data": {
      "text/plain": [
       "array(['空有', '無', '近隣', nan, '空無'], dtype=object)"
      ]
     },
     "execution_count": 118,
     "metadata": {},
     "output_type": "execute_result"
    }
   ],
   "source": [
    "df_1[0].unique()"
   ]
  },
  {
   "cell_type": "code",
   "execution_count": 119,
   "metadata": {},
   "outputs": [],
   "source": [
    "list_1 = ['空有', '無', '近隣', '空無']\n",
    "for item in list_1:\n",
    "    total_data[item] = total_data[\"駐車場\"].str.contains(item, regex=False)"
   ]
  },
  {
   "cell_type": "code",
   "execution_count": 120,
   "metadata": {},
   "outputs": [],
   "source": [
    "df_1[1] = df_1[1].str.strip(\"台)\")"
   ]
  },
  {
   "cell_type": "code",
   "execution_count": 121,
   "metadata": {},
   "outputs": [
    {
     "data": {
      "text/plain": [
       "array([None, nan, '1', '22', '3', '4', '2', '5', '11', '99', '6', '43',\n",
       "       '8', '16', '15', '7', '27', '10', '13'], dtype=object)"
      ]
     },
     "execution_count": 121,
     "metadata": {},
     "output_type": "execute_result"
    }
   ],
   "source": [
    "df_1[1].unique()"
   ]
  },
  {
   "cell_type": "code",
   "execution_count": 122,
   "metadata": {},
   "outputs": [],
   "source": [
    "df_1[1] = df_1[1].fillna(\"-999\")\n",
    "df_1[1] = df_1[1].astype(int)"
   ]
  },
  {
   "cell_type": "code",
   "execution_count": 123,
   "metadata": {},
   "outputs": [
    {
     "name": "stderr",
     "output_type": "stream",
     "text": [
      "/home/amar/.local/lib/python3.6/site-packages/ipykernel_launcher.py:1: SettingWithCopyWarning: \n",
      "A value is trying to be set on a copy of a slice from a DataFrame\n",
      "\n",
      "See the caveats in the documentation: http://pandas.pydata.org/pandas-docs/stable/indexing.html#indexing-view-versus-copy\n",
      "  \"\"\"Entry point for launching an IPython kernel.\n"
     ]
    }
   ],
   "source": [
    "df_1[1][df_1[1] == -999] = np.nan"
   ]
  },
  {
   "cell_type": "code",
   "execution_count": 124,
   "metadata": {},
   "outputs": [
    {
     "data": {
      "text/plain": [
       "array([nan,  1., 22.,  3.,  4.,  2.,  5., 11., 99.,  6., 43.,  8., 16.,\n",
       "       15.,  7., 27., 10., 13.])"
      ]
     },
     "execution_count": 124,
     "metadata": {},
     "output_type": "execute_result"
    }
   ],
   "source": [
    "df_1[1].unique()"
   ]
  },
  {
   "cell_type": "code",
   "execution_count": 125,
   "metadata": {},
   "outputs": [],
   "source": [
    "total_data[\"駐車場_台数\"] = df_1[1]"
   ]
  },
  {
   "cell_type": "code",
   "execution_count": 126,
   "metadata": {},
   "outputs": [],
   "source": [
    "total_data[\"駐車場＿料金\"] = df[2].where(df[2].str.contains(\"円\") == True).str.strip(\"円()税込み抜き無初回登録料月額無料~:駐車場登録料\").str.replace(\",\", \"\").str.replace(\"、\", \"\").fillna(-999).astype(float)"
   ]
  },
  {
   "cell_type": "code",
   "execution_count": 127,
   "metadata": {},
   "outputs": [
    {
     "name": "stderr",
     "output_type": "stream",
     "text": [
      "/home/amar/.local/lib/python3.6/site-packages/ipykernel_launcher.py:1: SettingWithCopyWarning: \n",
      "A value is trying to be set on a copy of a slice from a DataFrame\n",
      "\n",
      "See the caveats in the documentation: http://pandas.pydata.org/pandas-docs/stable/indexing.html#indexing-view-versus-copy\n",
      "  \"\"\"Entry point for launching an IPython kernel.\n"
     ]
    }
   ],
   "source": [
    "total_data[\"駐車場＿料金\"][total_data[\"駐車場＿料金\"] == -999] = np.nan"
   ]
  },
  {
   "cell_type": "code",
   "execution_count": 128,
   "metadata": {},
   "outputs": [
    {
     "data": {
      "text/plain": [
       "0            NaN\n",
       "1            NaN\n",
       "2            NaN\n",
       "3            NaN\n",
       "4        17000.0\n",
       "5            NaN\n",
       "6            NaN\n",
       "7            NaN\n",
       "8            NaN\n",
       "9            NaN\n",
       "10       32400.0\n",
       "11           NaN\n",
       "12           NaN\n",
       "13           NaN\n",
       "14           NaN\n",
       "15       27000.0\n",
       "16           NaN\n",
       "17       15120.0\n",
       "18           NaN\n",
       "19           NaN\n",
       "20           0.0\n",
       "21           NaN\n",
       "22           NaN\n",
       "23           NaN\n",
       "24       10000.0\n",
       "25           0.0\n",
       "26           NaN\n",
       "27           NaN\n",
       "28           NaN\n",
       "29           NaN\n",
       "          ...   \n",
       "62702        NaN\n",
       "62703        NaN\n",
       "62704    35000.0\n",
       "62705        NaN\n",
       "62706        NaN\n",
       "62707        NaN\n",
       "62708        NaN\n",
       "62709        NaN\n",
       "62710        NaN\n",
       "62711        NaN\n",
       "62712        NaN\n",
       "62713        NaN\n",
       "62714        NaN\n",
       "62715        NaN\n",
       "62716        NaN\n",
       "62717        NaN\n",
       "62718        NaN\n",
       "62719        NaN\n",
       "62720        NaN\n",
       "62721        NaN\n",
       "62722        NaN\n",
       "62723        NaN\n",
       "62724    30000.0\n",
       "62725        NaN\n",
       "62726    30000.0\n",
       "62727        NaN\n",
       "62728    43200.0\n",
       "62729    32400.0\n",
       "62730        NaN\n",
       "62731        NaN\n",
       "Name: 駐車場＿料金, Length: 62732, dtype: float64"
      ]
     },
     "execution_count": 128,
     "metadata": {},
     "output_type": "execute_result"
    }
   ],
   "source": [
    "total_data[\"駐車場＿料金\"]"
   ]
  },
  {
   "cell_type": "code",
   "execution_count": 129,
   "metadata": {},
   "outputs": [
    {
     "data": {
      "text/plain": [
       "Index(['所在地', 'アクセス', '間取り', '方角', '面積', '所在階', 'バス・トイレ', 'キッチン', '放送・通信',\n",
       "       '室内設備', '駐車場', '周辺環境', '建物構造', '契約期間', '築年数_月', '階建', '所在階_地下', '階建_地下',\n",
       "       '納戸', '間取り_D'],\n",
       "      dtype='object')"
      ]
     },
     "execution_count": 129,
     "metadata": {},
     "output_type": "execute_result"
    }
   ],
   "source": [
    "total_data.columns[:20]"
   ]
  },
  {
   "cell_type": "markdown",
   "metadata": {},
   "source": [
    "# 周辺環境"
   ]
  },
  {
   "cell_type": "code",
   "execution_count": 130,
   "metadata": {},
   "outputs": [
    {
     "data": {
      "text/plain": [
       "32674"
      ]
     },
     "execution_count": 130,
     "metadata": {},
     "output_type": "execute_result"
    }
   ],
   "source": [
    "total_data[\"周辺環境\"].nunique()"
   ]
  },
  {
   "cell_type": "code",
   "execution_count": 131,
   "metadata": {},
   "outputs": [
    {
     "data": {
      "text/plain": [
       "array(['【小学校】 495m\\t【大学】 461m\\t【小学校】 962m\\t【公園】 1103m\\t【飲食店】 378m\\t【スーパー】 311m\\t【コンビニ】 588m\\t【スーパー】 1062m\\t【ドラッグストア】 956m\\t【郵便局】 1246m',\n",
       "       '【スーパー】 1283m',\n",
       "       '【スーパー】 89m\\t【コンビニ】 184m\\t【コンビニ】 392m\\t【スーパー】 492m', ...,\n",
       "       '【飲食店】 460m\\t【コンビニ】 410m\\t【コンビニ】 257m\\t【ドラッグストア】 432m\\t【銀行】 312m\\t【銀行】 409m\\t【飲食店】 882m\\t【飲食店】 882m\\t【スーパー】 627m',\n",
       "       '【スーパー】 283m\\t【スーパー】 839m\\t【コンビニ】 322m\\t【コンビニ】 662m\\t【ドラッグストア】 1168m',\n",
       "       '【スーパー】 523m\\t【スーパー】 696m\\t【コンビニ】 381m\\t【ドラッグストア】 769m'],\n",
       "      dtype=object)"
      ]
     },
     "execution_count": 131,
     "metadata": {},
     "output_type": "execute_result"
    }
   ],
   "source": [
    "total_data[\"周辺環境\"].unique()"
   ]
  },
  {
   "cell_type": "code",
   "execution_count": 132,
   "metadata": {},
   "outputs": [
    {
     "data": {
      "text/html": [
       "<div>\n",
       "<style scoped>\n",
       "    .dataframe tbody tr th:only-of-type {\n",
       "        vertical-align: middle;\n",
       "    }\n",
       "\n",
       "    .dataframe tbody tr th {\n",
       "        vertical-align: top;\n",
       "    }\n",
       "\n",
       "    .dataframe thead th {\n",
       "        text-align: right;\n",
       "    }\n",
       "</style>\n",
       "<table border=\"1\" class=\"dataframe\">\n",
       "  <thead>\n",
       "    <tr style=\"text-align: right;\">\n",
       "      <th></th>\n",
       "      <th>0</th>\n",
       "      <th>1</th>\n",
       "      <th>2</th>\n",
       "      <th>3</th>\n",
       "      <th>4</th>\n",
       "      <th>5</th>\n",
       "      <th>6</th>\n",
       "      <th>7</th>\n",
       "      <th>8</th>\n",
       "      <th>9</th>\n",
       "    </tr>\n",
       "  </thead>\n",
       "  <tbody>\n",
       "    <tr>\n",
       "      <th>0</th>\n",
       "      <td>【小学校】 495m</td>\n",
       "      <td>【大学】 461m</td>\n",
       "      <td>【小学校】 962m</td>\n",
       "      <td>【公園】 1103m</td>\n",
       "      <td>【飲食店】 378m</td>\n",
       "      <td>【スーパー】 311m</td>\n",
       "      <td>【コンビニ】 588m</td>\n",
       "      <td>【スーパー】 1062m</td>\n",
       "      <td>【ドラッグストア】 956m</td>\n",
       "      <td>【郵便局】 1246m</td>\n",
       "    </tr>\n",
       "    <tr>\n",
       "      <th>1</th>\n",
       "      <td>【スーパー】 1283m</td>\n",
       "      <td>None</td>\n",
       "      <td>None</td>\n",
       "      <td>None</td>\n",
       "      <td>None</td>\n",
       "      <td>None</td>\n",
       "      <td>None</td>\n",
       "      <td>None</td>\n",
       "      <td>None</td>\n",
       "      <td>None</td>\n",
       "    </tr>\n",
       "    <tr>\n",
       "      <th>2</th>\n",
       "      <td>【スーパー】 89m</td>\n",
       "      <td>【コンビニ】 184m</td>\n",
       "      <td>【コンビニ】 392m</td>\n",
       "      <td>【スーパー】 492m</td>\n",
       "      <td>None</td>\n",
       "      <td>None</td>\n",
       "      <td>None</td>\n",
       "      <td>None</td>\n",
       "      <td>None</td>\n",
       "      <td>None</td>\n",
       "    </tr>\n",
       "  </tbody>\n",
       "</table>\n",
       "</div>"
      ],
      "text/plain": [
       "              0            1            2            3           4  \\\n",
       "0    【小学校】 495m    【大学】 461m   【小学校】 962m   【公園】 1103m  【飲食店】 378m   \n",
       "1  【スーパー】 1283m         None         None         None        None   \n",
       "2    【スーパー】 89m  【コンビニ】 184m  【コンビニ】 392m  【スーパー】 492m        None   \n",
       "\n",
       "             5            6             7               8            9  \n",
       "0  【スーパー】 311m  【コンビニ】 588m  【スーパー】 1062m  【ドラッグストア】 956m  【郵便局】 1246m  \n",
       "1         None         None          None            None         None  \n",
       "2         None         None          None            None         None  "
      ]
     },
     "execution_count": 132,
     "metadata": {},
     "output_type": "execute_result"
    }
   ],
   "source": [
    "df = total_data[\"周辺環境\"].str.split(\"\\t\", expand=True)\n",
    "df.head(3)"
   ]
  },
  {
   "cell_type": "code",
   "execution_count": 133,
   "metadata": {},
   "outputs": [
    {
     "name": "stdout",
     "output_type": "stream",
     "text": [
      "Your selected dataframe has 10 columns.\n",
      "There are 10 columns that have missing values.\n"
     ]
    },
    {
     "data": {
      "text/html": [
       "<div>\n",
       "<style scoped>\n",
       "    .dataframe tbody tr th:only-of-type {\n",
       "        vertical-align: middle;\n",
       "    }\n",
       "\n",
       "    .dataframe tbody tr th {\n",
       "        vertical-align: top;\n",
       "    }\n",
       "\n",
       "    .dataframe thead th {\n",
       "        text-align: right;\n",
       "    }\n",
       "</style>\n",
       "<table border=\"1\" class=\"dataframe\">\n",
       "  <thead>\n",
       "    <tr style=\"text-align: right;\">\n",
       "      <th></th>\n",
       "      <th>Missing Values</th>\n",
       "      <th>% of Total Values</th>\n",
       "    </tr>\n",
       "  </thead>\n",
       "  <tbody>\n",
       "    <tr>\n",
       "      <th>9</th>\n",
       "      <td>61238</td>\n",
       "      <td>97.6</td>\n",
       "    </tr>\n",
       "    <tr>\n",
       "      <th>8</th>\n",
       "      <td>59591</td>\n",
       "      <td>95.0</td>\n",
       "    </tr>\n",
       "    <tr>\n",
       "      <th>7</th>\n",
       "      <td>57790</td>\n",
       "      <td>92.1</td>\n",
       "    </tr>\n",
       "    <tr>\n",
       "      <th>6</th>\n",
       "      <td>54367</td>\n",
       "      <td>86.7</td>\n",
       "    </tr>\n",
       "    <tr>\n",
       "      <th>5</th>\n",
       "      <td>45139</td>\n",
       "      <td>72.0</td>\n",
       "    </tr>\n",
       "    <tr>\n",
       "      <th>4</th>\n",
       "      <td>35201</td>\n",
       "      <td>56.1</td>\n",
       "    </tr>\n",
       "    <tr>\n",
       "      <th>3</th>\n",
       "      <td>26700</td>\n",
       "      <td>42.6</td>\n",
       "    </tr>\n",
       "    <tr>\n",
       "      <th>2</th>\n",
       "      <td>22109</td>\n",
       "      <td>35.2</td>\n",
       "    </tr>\n",
       "    <tr>\n",
       "      <th>1</th>\n",
       "      <td>19646</td>\n",
       "      <td>31.3</td>\n",
       "    </tr>\n",
       "    <tr>\n",
       "      <th>0</th>\n",
       "      <td>18673</td>\n",
       "      <td>29.8</td>\n",
       "    </tr>\n",
       "  </tbody>\n",
       "</table>\n",
       "</div>"
      ],
      "text/plain": [
       "   Missing Values  % of Total Values\n",
       "9           61238               97.6\n",
       "8           59591               95.0\n",
       "7           57790               92.1\n",
       "6           54367               86.7\n",
       "5           45139               72.0\n",
       "4           35201               56.1\n",
       "3           26700               42.6\n",
       "2           22109               35.2\n",
       "1           19646               31.3\n",
       "0           18673               29.8"
      ]
     },
     "execution_count": 133,
     "metadata": {},
     "output_type": "execute_result"
    }
   ],
   "source": [
    "missing_values = missing_values_table(df)\n",
    "missing_values"
   ]
  },
  {
   "cell_type": "code",
   "execution_count": 134,
   "metadata": {},
   "outputs": [],
   "source": [
    "list_1 = np.array([])\n",
    "for i in df.columns:\n",
    "    list_1 = np.append(list_1, df[i].str.replace(\"\\d+\", \"\").str.strip(\"m\").str.strip(\" \"))"
   ]
  },
  {
   "cell_type": "code",
   "execution_count": 135,
   "metadata": {},
   "outputs": [
    {
     "data": {
      "text/plain": [
       "【スーパー】        81401\n",
       "【コンビニ】        69790\n",
       "【飲食店】         14105\n",
       "【ドラッグストア】     11464\n",
       "【病院】           7647\n",
       "【公園】           7524\n",
       "【郵便局】          6993\n",
       "【小学校】          5305\n",
       "【大学】           4161\n",
       "【総合病院】         3822\n",
       "【幼稚園・保育園】      3623\n",
       "【学校】           3004\n",
       "【銀行】           2650\n",
       "【図書館】          2556\n",
       "【デパート】         1458\n",
       "【レンタルビデオ】      1018\n",
       "【クリーニング】        287\n",
       "【コインパーキング】       46\n",
       "【月極駐車場】          12\n",
       "dtype: int64"
      ]
     },
     "execution_count": 135,
     "metadata": {},
     "output_type": "execute_result"
    }
   ],
   "source": [
    "series = pd.Series(list_1)\n",
    "series.value_counts()"
   ]
  },
  {
   "cell_type": "code",
   "execution_count": 136,
   "metadata": {},
   "outputs": [],
   "source": [
    "for item in series.value_counts().index.values:\n",
    "    total_data[item] = total_data[\"周辺環境\"].str.contains(item, regex=False)"
   ]
  },
  {
   "cell_type": "code",
   "execution_count": 137,
   "metadata": {},
   "outputs": [
    {
     "data": {
      "text/plain": [
       "Index(['所在地', 'アクセス', '間取り', '方角', '面積', '所在階', 'バス・トイレ', 'キッチン', '放送・通信',\n",
       "       '室内設備', '駐車場', '周辺環境', '建物構造', '契約期間', '築年数_月', '階建', '所在階_地下', '階建_地下',\n",
       "       '納戸', '間取り_D'],\n",
       "      dtype='object')"
      ]
     },
     "execution_count": 137,
     "metadata": {},
     "output_type": "execute_result"
    }
   ],
   "source": [
    "total_data.columns[:20]"
   ]
  },
  {
   "cell_type": "markdown",
   "metadata": {},
   "source": [
    "# 建物構造"
   ]
  },
  {
   "cell_type": "markdown",
   "metadata": {},
   "source": [
    "## fine as it is"
   ]
  },
  {
   "cell_type": "code",
   "execution_count": 138,
   "metadata": {},
   "outputs": [
    {
     "data": {
      "text/plain": [
       "11"
      ]
     },
     "execution_count": 138,
     "metadata": {},
     "output_type": "execute_result"
    }
   ],
   "source": [
    "total_data[\"建物構造\"].nunique()"
   ]
  },
  {
   "cell_type": "code",
   "execution_count": 139,
   "metadata": {},
   "outputs": [
    {
     "data": {
      "text/plain": [
       "array(['RC(鉄筋コンクリート)', '鉄骨造', '木造', 'SRC(鉄骨鉄筋コンクリート)', '軽量鉄骨',\n",
       "       'ALC(軽量気泡コンクリート)', 'その他', 'PC(プレキャスト・コンクリート(鉄筋コンクリート))',\n",
       "       'HPC(プレキャスト・コンクリート(重量鉄骨))', 'ブロック', '鉄筋ブロック'], dtype=object)"
      ]
     },
     "execution_count": 139,
     "metadata": {},
     "output_type": "execute_result"
    }
   ],
   "source": [
    "total_data[\"建物構造\"].unique()"
   ]
  },
  {
   "cell_type": "markdown",
   "metadata": {},
   "source": [
    "# Add coordinates"
   ]
  },
  {
   "cell_type": "code",
   "execution_count": 140,
   "metadata": {},
   "outputs": [],
   "source": [
    "train_lat = pd.read_csv(\"train_lat.csv\", names=[\"緯度\"])\n",
    "train_lng = pd.read_csv(\"train_lng.csv\", names=[\"経度\"])\n",
    "test_lat = pd.read_csv(\"test_lat.csv\", names=[\"緯度\"])\n",
    "test_lng = pd.read_csv(\"test_lng.csv\", names=[\"経度\"])"
   ]
  },
  {
   "cell_type": "code",
   "execution_count": 141,
   "metadata": {},
   "outputs": [],
   "source": [
    "lat = pd.concat([train_lat, test_lat], ignore_index=True)\n",
    "lng = pd.concat([train_lng, test_lng], ignore_index=True)"
   ]
  },
  {
   "cell_type": "code",
   "execution_count": 142,
   "metadata": {},
   "outputs": [
    {
     "data": {
      "text/html": [
       "<div>\n",
       "<style scoped>\n",
       "    .dataframe tbody tr th:only-of-type {\n",
       "        vertical-align: middle;\n",
       "    }\n",
       "\n",
       "    .dataframe tbody tr th {\n",
       "        vertical-align: top;\n",
       "    }\n",
       "\n",
       "    .dataframe thead th {\n",
       "        text-align: right;\n",
       "    }\n",
       "</style>\n",
       "<table border=\"1\" class=\"dataframe\">\n",
       "  <thead>\n",
       "    <tr style=\"text-align: right;\">\n",
       "      <th></th>\n",
       "      <th>緯度</th>\n",
       "    </tr>\n",
       "  </thead>\n",
       "  <tbody>\n",
       "    <tr>\n",
       "      <th>0</th>\n",
       "      <td>35.748456</td>\n",
       "    </tr>\n",
       "    <tr>\n",
       "      <th>1</th>\n",
       "      <td>35.662885</td>\n",
       "    </tr>\n",
       "    <tr>\n",
       "      <th>2</th>\n",
       "      <td>35.675153</td>\n",
       "    </tr>\n",
       "    <tr>\n",
       "      <th>3</th>\n",
       "      <td>35.700170</td>\n",
       "    </tr>\n",
       "    <tr>\n",
       "      <th>4</th>\n",
       "      <td>35.766431</td>\n",
       "    </tr>\n",
       "  </tbody>\n",
       "</table>\n",
       "</div>"
      ],
      "text/plain": [
       "          緯度\n",
       "0  35.748456\n",
       "1  35.662885\n",
       "2  35.675153\n",
       "3  35.700170\n",
       "4  35.766431"
      ]
     },
     "execution_count": 142,
     "metadata": {},
     "output_type": "execute_result"
    }
   ],
   "source": [
    "lat.head()"
   ]
  },
  {
   "cell_type": "code",
   "execution_count": 143,
   "metadata": {},
   "outputs": [
    {
     "data": {
      "text/html": [
       "<div>\n",
       "<style scoped>\n",
       "    .dataframe tbody tr th:only-of-type {\n",
       "        vertical-align: middle;\n",
       "    }\n",
       "\n",
       "    .dataframe tbody tr th {\n",
       "        vertical-align: top;\n",
       "    }\n",
       "\n",
       "    .dataframe thead th {\n",
       "        text-align: right;\n",
       "    }\n",
       "</style>\n",
       "<table border=\"1\" class=\"dataframe\">\n",
       "  <thead>\n",
       "    <tr style=\"text-align: right;\">\n",
       "      <th></th>\n",
       "      <th>経度</th>\n",
       "    </tr>\n",
       "  </thead>\n",
       "  <tbody>\n",
       "    <tr>\n",
       "      <th>0</th>\n",
       "      <td>139.728800</td>\n",
       "    </tr>\n",
       "    <tr>\n",
       "      <th>1</th>\n",
       "      <td>139.778627</td>\n",
       "    </tr>\n",
       "    <tr>\n",
       "      <th>2</th>\n",
       "      <td>139.666255</td>\n",
       "    </tr>\n",
       "    <tr>\n",
       "      <th>3</th>\n",
       "      <td>139.648465</td>\n",
       "    </tr>\n",
       "    <tr>\n",
       "      <th>4</th>\n",
       "      <td>139.872321</td>\n",
       "    </tr>\n",
       "  </tbody>\n",
       "</table>\n",
       "</div>"
      ],
      "text/plain": [
       "           経度\n",
       "0  139.728800\n",
       "1  139.778627\n",
       "2  139.666255\n",
       "3  139.648465\n",
       "4  139.872321"
      ]
     },
     "execution_count": 143,
     "metadata": {},
     "output_type": "execute_result"
    }
   ],
   "source": [
    "lng.head()"
   ]
  },
  {
   "cell_type": "code",
   "execution_count": 144,
   "metadata": {},
   "outputs": [],
   "source": [
    "total_data[\"緯度\"] = lat[\"緯度\"]\n",
    "total_data[\"経度\"] = lng[\"経度\"]"
   ]
  },
  {
   "cell_type": "markdown",
   "metadata": {},
   "source": [
    "# Drop columns"
   ]
  },
  {
   "cell_type": "code",
   "execution_count": 145,
   "metadata": {},
   "outputs": [
    {
     "name": "stdout",
     "output_type": "stream",
     "text": [
      "所在地\n",
      "アクセス\n",
      "間取り\n",
      "方角\n",
      "面積\n",
      "所在階\n",
      "バス・トイレ\n",
      "キッチン\n",
      "放送・通信\n",
      "室内設備\n",
      "駐車場\n",
      "周辺環境\n",
      "建物構造\n",
      "契約期間\n",
      "築年数_月\n",
      "階建\n",
      "所在階_地下\n",
      "階建_地下\n",
      "納戸\n",
      "間取り_D\n",
      "間取り_K\n",
      "間取り_L\n",
      "間取り_R\n",
      "間取り_S\n",
      "間取り_数\n",
      "方角_南\n",
      "方角_東\n",
      "方角_西\n",
      "方角_北\n",
      "契約期間_定期借家\n",
      "契約期間_月\n",
      "所在地_区\n",
      "アクセス_線_1\n",
      "アクセス_駅_1\n",
      "アクセス_線_2\n",
      "アクセス_駅_2\n",
      "シャワー\n",
      "バス・トイレ別\n",
      "共同トイレ\n",
      "共同バス\n",
      "専用トイレ\n",
      "専用バス\n",
      "洗面台独立\n",
      "浴室乾燥機\n",
      "温水洗浄便座\n",
      "脱衣所\n",
      "追焚機能\n",
      "IHコンロ\n",
      "L字キッチン\n",
      "カウンターキッチン\n",
      "ガスコンロ\n",
      "コンロ1口\n",
      "コンロ2口\n",
      "コンロ3口\n",
      "コンロ4口以上\n",
      "口数不明\n",
      "システムキッチン\n",
      "冷蔵庫あり\n",
      "独立キッチン\n",
      "給湯\n",
      "電気コンロ\n",
      "BSアンテナ\n",
      "CATV\n",
      "CSアンテナ\n",
      "インターネット使用料無料\n",
      "インターネット対応\n",
      "光ファイバー\n",
      "有線放送\n",
      "高速インターネット\n",
      "24時間換気システム\n",
      "2面採光\n",
      "3面採光\n",
      "ウォークインクローゼット\n",
      "エアコン付\n",
      "エレベーター\n",
      "オール電化\n",
      "クッションフロア\n",
      "シューズボックス\n",
      "タイル張り\n",
      "トランクルーム\n",
      "バリアフリー\n",
      "バルコニー\n",
      "フローリング\n",
      "プロパンガス\n",
      "ペアガラス\n",
      "ルーフバルコニー\n",
      "ロフト付き\n",
      "下水\n",
      "二重サッシ\n",
      "公営水道\n",
      "冷房\n",
      "出窓\n",
      "室内洗濯機置場\n",
      "室外洗濯機置場\n",
      "専用庭\n",
      "床下収納\n",
      "床暖房\n",
      "敷地内ごみ置き場\n",
      "水道その他\n",
      "洗濯機置場なし\n",
      "都市ガス\n",
      "防音室\n",
      "駐輪場\n",
      "バイク置き場\n",
      "空有\n",
      "無\n",
      "近隣\n",
      "空無\n",
      "駐車場_台数\n",
      "駐車場＿料金\n",
      "【スーパー】\n",
      "【コンビニ】\n",
      "【飲食店】\n",
      "【ドラッグストア】\n",
      "【病院】\n",
      "【公園】\n",
      "【郵便局】\n",
      "【小学校】\n",
      "【大学】\n",
      "【総合病院】\n",
      "【幼稚園・保育園】\n",
      "【学校】\n",
      "【銀行】\n",
      "【図書館】\n",
      "【デパート】\n",
      "【レンタルビデオ】\n",
      "【クリーニング】\n",
      "【コインパーキング】\n",
      "【月極駐車場】\n",
      "緯度\n",
      "経度\n"
     ]
    }
   ],
   "source": [
    "for i in total_data.columns.values:\n",
    "    print(i)"
   ]
  },
  {
   "cell_type": "markdown",
   "metadata": {},
   "source": [
    "## Columns to remove"
   ]
  },
  {
   "cell_type": "code",
   "execution_count": 146,
   "metadata": {},
   "outputs": [],
   "source": [
    "columns = [\"所在地\", \"アクセス\", \"間取り\", \"方角\", \"バス・トイレ\", \"キッチン\",\n",
    "           \"放送・通信\", \"室内設備\", \"駐車場\", \"周辺環境\", \"契約期間\"]"
   ]
  },
  {
   "cell_type": "code",
   "execution_count": 147,
   "metadata": {},
   "outputs": [],
   "source": [
    "total_data = total_data.drop(columns=columns)"
   ]
  },
  {
   "cell_type": "markdown",
   "metadata": {},
   "source": [
    "# Model"
   ]
  },
  {
   "cell_type": "markdown",
   "metadata": {},
   "source": [
    "# Impute NaNs"
   ]
  },
  {
   "cell_type": "markdown",
   "metadata": {},
   "source": [
    "## Strategy: Mode"
   ]
  },
  {
   "cell_type": "code",
   "execution_count": 148,
   "metadata": {},
   "outputs": [
    {
     "name": "stdout",
     "output_type": "stream",
     "text": [
      "<class 'pandas.core.frame.DataFrame'>\n",
      "RangeIndex: 62732 entries, 0 to 62731\n",
      "Columns: 120 entries, 面積 to 経度\n",
      "dtypes: bool(6), float64(10), int64(8), object(96)\n",
      "memory usage: 54.9+ MB\n"
     ]
    }
   ],
   "source": [
    "total_data.info()"
   ]
  },
  {
   "cell_type": "code",
   "execution_count": 149,
   "metadata": {},
   "outputs": [
    {
     "data": {
      "text/html": [
       "<div>\n",
       "<style scoped>\n",
       "    .dataframe tbody tr th:only-of-type {\n",
       "        vertical-align: middle;\n",
       "    }\n",
       "\n",
       "    .dataframe tbody tr th {\n",
       "        vertical-align: top;\n",
       "    }\n",
       "\n",
       "    .dataframe thead th {\n",
       "        text-align: right;\n",
       "    }\n",
       "</style>\n",
       "<table border=\"1\" class=\"dataframe\">\n",
       "  <thead>\n",
       "    <tr style=\"text-align: right;\">\n",
       "      <th></th>\n",
       "      <th>建物構造</th>\n",
       "      <th>方角_南</th>\n",
       "      <th>方角_東</th>\n",
       "      <th>方角_西</th>\n",
       "      <th>方角_北</th>\n",
       "      <th>所在地_区</th>\n",
       "      <th>アクセス_線_1</th>\n",
       "      <th>アクセス_駅_1</th>\n",
       "      <th>アクセス_線_2</th>\n",
       "      <th>アクセス_駅_2</th>\n",
       "      <th>...</th>\n",
       "      <th>【総合病院】</th>\n",
       "      <th>【幼稚園・保育園】</th>\n",
       "      <th>【学校】</th>\n",
       "      <th>【銀行】</th>\n",
       "      <th>【図書館】</th>\n",
       "      <th>【デパート】</th>\n",
       "      <th>【レンタルビデオ】</th>\n",
       "      <th>【クリーニング】</th>\n",
       "      <th>【コインパーキング】</th>\n",
       "      <th>【月極駐車場】</th>\n",
       "    </tr>\n",
       "  </thead>\n",
       "  <tbody>\n",
       "    <tr>\n",
       "      <th>0</th>\n",
       "      <td>RC(鉄筋コンクリート)</td>\n",
       "      <td>True</td>\n",
       "      <td>True</td>\n",
       "      <td>False</td>\n",
       "      <td>False</td>\n",
       "      <td>北</td>\n",
       "      <td>都営三田線</td>\n",
       "      <td>西巣鴨駅</td>\n",
       "      <td>埼京線</td>\n",
       "      <td>板橋駅</td>\n",
       "      <td>...</td>\n",
       "      <td>False</td>\n",
       "      <td>False</td>\n",
       "      <td>False</td>\n",
       "      <td>False</td>\n",
       "      <td>False</td>\n",
       "      <td>False</td>\n",
       "      <td>False</td>\n",
       "      <td>False</td>\n",
       "      <td>False</td>\n",
       "      <td>False</td>\n",
       "    </tr>\n",
       "    <tr>\n",
       "      <th>1</th>\n",
       "      <td>鉄骨造</td>\n",
       "      <td>NaN</td>\n",
       "      <td>NaN</td>\n",
       "      <td>NaN</td>\n",
       "      <td>NaN</td>\n",
       "      <td>中央</td>\n",
       "      <td>都営大江戸線</td>\n",
       "      <td>勝どき駅</td>\n",
       "      <td>有楽町線</td>\n",
       "      <td>月島駅</td>\n",
       "      <td>...</td>\n",
       "      <td>False</td>\n",
       "      <td>False</td>\n",
       "      <td>False</td>\n",
       "      <td>False</td>\n",
       "      <td>False</td>\n",
       "      <td>False</td>\n",
       "      <td>False</td>\n",
       "      <td>False</td>\n",
       "      <td>False</td>\n",
       "      <td>False</td>\n",
       "    </tr>\n",
       "    <tr>\n",
       "      <th>2</th>\n",
       "      <td>RC(鉄筋コンクリート)</td>\n",
       "      <td>True</td>\n",
       "      <td>False</td>\n",
       "      <td>False</td>\n",
       "      <td>False</td>\n",
       "      <td>渋谷</td>\n",
       "      <td>京王線</td>\n",
       "      <td>笹塚駅</td>\n",
       "      <td>京王線</td>\n",
       "      <td>代田橋駅</td>\n",
       "      <td>...</td>\n",
       "      <td>False</td>\n",
       "      <td>False</td>\n",
       "      <td>False</td>\n",
       "      <td>False</td>\n",
       "      <td>False</td>\n",
       "      <td>False</td>\n",
       "      <td>False</td>\n",
       "      <td>False</td>\n",
       "      <td>False</td>\n",
       "      <td>False</td>\n",
       "    </tr>\n",
       "  </tbody>\n",
       "</table>\n",
       "<p>3 rows × 96 columns</p>\n",
       "</div>"
      ],
      "text/plain": [
       "           建物構造  方角_南   方角_東   方角_西   方角_北 所在地_区 アクセス_線_1 アクセス_駅_1 アクセス_線_2  \\\n",
       "0  RC(鉄筋コンクリート)  True   True  False  False     北    都営三田線     西巣鴨駅      埼京線   \n",
       "1           鉄骨造   NaN    NaN    NaN    NaN    中央   都営大江戸線     勝どき駅     有楽町線   \n",
       "2  RC(鉄筋コンクリート)  True  False  False  False    渋谷      京王線      笹塚駅      京王線   \n",
       "\n",
       "  アクセス_駅_2  ... 【総合病院】 【幼稚園・保育園】   【学校】   【銀行】  【図書館】 【デパート】 【レンタルビデオ】  \\\n",
       "0      板橋駅  ...  False     False  False  False  False  False     False   \n",
       "1      月島駅  ...  False     False  False  False  False  False     False   \n",
       "2     代田橋駅  ...  False     False  False  False  False  False     False   \n",
       "\n",
       "  【クリーニング】 【コインパーキング】 【月極駐車場】  \n",
       "0    False      False   False  \n",
       "1    False      False   False  \n",
       "2    False      False   False  \n",
       "\n",
       "[3 rows x 96 columns]"
      ]
     },
     "execution_count": 149,
     "metadata": {},
     "output_type": "execute_result"
    }
   ],
   "source": [
    "total_data.select_dtypes(\"object\").head(3)"
   ]
  },
  {
   "cell_type": "code",
   "execution_count": 150,
   "metadata": {},
   "outputs": [
    {
     "data": {
      "text/plain": [
       "0    True\n",
       "Name: 方角_南, dtype: object"
      ]
     },
     "execution_count": 150,
     "metadata": {},
     "output_type": "execute_result"
    }
   ],
   "source": [
    "total_data.mode()[\"方角_南\"]"
   ]
  },
  {
   "cell_type": "code",
   "execution_count": 151,
   "metadata": {},
   "outputs": [],
   "source": [
    "total_data_filled = total_data.fillna(total_data.mode())"
   ]
  },
  {
   "cell_type": "code",
   "execution_count": 152,
   "metadata": {},
   "outputs": [],
   "source": [
    "total_data_filled = total_data_filled.fillna(False)"
   ]
  },
  {
   "cell_type": "code",
   "execution_count": 153,
   "metadata": {},
   "outputs": [
    {
     "name": "stdout",
     "output_type": "stream",
     "text": [
      "<class 'pandas.core.frame.DataFrame'>\n",
      "RangeIndex: 62732 entries, 0 to 62731\n",
      "Columns: 120 entries, 面積 to 経度\n",
      "dtypes: bool(101), float64(3), int64(8), object(8)\n",
      "memory usage: 15.1+ MB\n"
     ]
    }
   ],
   "source": [
    "total_data_filled.info()"
   ]
  },
  {
   "cell_type": "code",
   "execution_count": 154,
   "metadata": {},
   "outputs": [],
   "source": [
    "total_data_filled[\"駐車場_台数\"] = total_data_filled[\"駐車場_台数\"].astype(float)\n",
    "total_data_filled[\"駐車場＿料金\"] = total_data_filled[\"駐車場＿料金\"].astype(float)"
   ]
  },
  {
   "cell_type": "code",
   "execution_count": 155,
   "metadata": {},
   "outputs": [
    {
     "data": {
      "text/html": [
       "<div>\n",
       "<style scoped>\n",
       "    .dataframe tbody tr th:only-of-type {\n",
       "        vertical-align: middle;\n",
       "    }\n",
       "\n",
       "    .dataframe tbody tr th {\n",
       "        vertical-align: top;\n",
       "    }\n",
       "\n",
       "    .dataframe thead th {\n",
       "        text-align: right;\n",
       "    }\n",
       "</style>\n",
       "<table border=\"1\" class=\"dataframe\">\n",
       "  <thead>\n",
       "    <tr style=\"text-align: right;\">\n",
       "      <th></th>\n",
       "      <th>建物構造</th>\n",
       "      <th>所在地_区</th>\n",
       "      <th>アクセス_線_1</th>\n",
       "      <th>アクセス_駅_1</th>\n",
       "      <th>アクセス_線_2</th>\n",
       "      <th>アクセス_駅_2</th>\n",
       "    </tr>\n",
       "  </thead>\n",
       "  <tbody>\n",
       "    <tr>\n",
       "      <th>0</th>\n",
       "      <td>RC(鉄筋コンクリート)</td>\n",
       "      <td>北</td>\n",
       "      <td>都営三田線</td>\n",
       "      <td>西巣鴨駅</td>\n",
       "      <td>埼京線</td>\n",
       "      <td>板橋駅</td>\n",
       "    </tr>\n",
       "    <tr>\n",
       "      <th>1</th>\n",
       "      <td>鉄骨造</td>\n",
       "      <td>中央</td>\n",
       "      <td>都営大江戸線</td>\n",
       "      <td>勝どき駅</td>\n",
       "      <td>有楽町線</td>\n",
       "      <td>月島駅</td>\n",
       "    </tr>\n",
       "    <tr>\n",
       "      <th>2</th>\n",
       "      <td>RC(鉄筋コンクリート)</td>\n",
       "      <td>渋谷</td>\n",
       "      <td>京王線</td>\n",
       "      <td>笹塚駅</td>\n",
       "      <td>京王線</td>\n",
       "      <td>代田橋駅</td>\n",
       "    </tr>\n",
       "    <tr>\n",
       "      <th>3</th>\n",
       "      <td>RC(鉄筋コンクリート)</td>\n",
       "      <td>杉並</td>\n",
       "      <td>総武線・中央線(各停)</td>\n",
       "      <td>高円寺駅</td>\n",
       "      <td>丸ノ内線(池袋-荻窪)</td>\n",
       "      <td>新高円寺駅</td>\n",
       "    </tr>\n",
       "    <tr>\n",
       "      <th>4</th>\n",
       "      <td>木造</td>\n",
       "      <td>葛飾</td>\n",
       "      <td>京成金町線</td>\n",
       "      <td>京成金町駅</td>\n",
       "      <td>常磐線</td>\n",
       "      <td>金町(東京都)駅</td>\n",
       "    </tr>\n",
       "    <tr>\n",
       "      <th>5</th>\n",
       "      <td>RC(鉄筋コンクリート)</td>\n",
       "      <td>荒川</td>\n",
       "      <td>常磐線快速</td>\n",
       "      <td>南千住駅</td>\n",
       "      <td>都電荒川線</td>\n",
       "      <td>三ノ輪橋駅</td>\n",
       "    </tr>\n",
       "    <tr>\n",
       "      <th>6</th>\n",
       "      <td>RC(鉄筋コンクリート)</td>\n",
       "      <td>練馬</td>\n",
       "      <td>西武池袋線</td>\n",
       "      <td>大泉学園駅</td>\n",
       "      <td>西武池袋線</td>\n",
       "      <td>保谷駅</td>\n",
       "    </tr>\n",
       "    <tr>\n",
       "      <th>7</th>\n",
       "      <td>RC(鉄筋コンクリート)</td>\n",
       "      <td>目黒</td>\n",
       "      <td>東急東横線</td>\n",
       "      <td>学芸大学駅</td>\n",
       "      <td>東急東横線</td>\n",
       "      <td>都立大学駅</td>\n",
       "    </tr>\n",
       "    <tr>\n",
       "      <th>8</th>\n",
       "      <td>SRC(鉄骨鉄筋コンクリート)</td>\n",
       "      <td>文京</td>\n",
       "      <td>南北線</td>\n",
       "      <td>東大前駅</td>\n",
       "      <td>都営三田線</td>\n",
       "      <td>白山(東京都)駅</td>\n",
       "    </tr>\n",
       "    <tr>\n",
       "      <th>9</th>\n",
       "      <td>鉄骨造</td>\n",
       "      <td>板橋</td>\n",
       "      <td>埼京線</td>\n",
       "      <td>板橋駅</td>\n",
       "      <td>都営三田線</td>\n",
       "      <td>新板橋駅</td>\n",
       "    </tr>\n",
       "  </tbody>\n",
       "</table>\n",
       "</div>"
      ],
      "text/plain": [
       "              建物構造 所在地_区     アクセス_線_1 アクセス_駅_1     アクセス_線_2  アクセス_駅_2\n",
       "0     RC(鉄筋コンクリート)     北        都営三田線     西巣鴨駅          埼京線       板橋駅\n",
       "1              鉄骨造    中央       都営大江戸線     勝どき駅         有楽町線       月島駅\n",
       "2     RC(鉄筋コンクリート)    渋谷          京王線      笹塚駅          京王線      代田橋駅\n",
       "3     RC(鉄筋コンクリート)    杉並  総武線・中央線(各停)     高円寺駅  丸ノ内線(池袋-荻窪)     新高円寺駅\n",
       "4               木造    葛飾        京成金町線    京成金町駅          常磐線  金町(東京都)駅\n",
       "5     RC(鉄筋コンクリート)    荒川        常磐線快速     南千住駅        都電荒川線     三ノ輪橋駅\n",
       "6     RC(鉄筋コンクリート)    練馬        西武池袋線    大泉学園駅        西武池袋線       保谷駅\n",
       "7     RC(鉄筋コンクリート)    目黒        東急東横線    学芸大学駅        東急東横線     都立大学駅\n",
       "8  SRC(鉄骨鉄筋コンクリート)    文京          南北線     東大前駅        都営三田線  白山(東京都)駅\n",
       "9              鉄骨造    板橋          埼京線      板橋駅        都営三田線      新板橋駅"
      ]
     },
     "execution_count": 155,
     "metadata": {},
     "output_type": "execute_result"
    }
   ],
   "source": [
    "total_data_filled.select_dtypes(\"object\").head(10)"
   ]
  },
  {
   "cell_type": "code",
   "execution_count": 156,
   "metadata": {},
   "outputs": [
    {
     "name": "stdout",
     "output_type": "stream",
     "text": [
      "<class 'pandas.core.frame.DataFrame'>\n",
      "RangeIndex: 62732 entries, 0 to 62731\n",
      "Columns: 120 entries, 面積 to 経度\n",
      "dtypes: bool(101), float64(5), int64(8), object(6)\n",
      "memory usage: 15.1+ MB\n"
     ]
    }
   ],
   "source": [
    "total_data_filled.info()"
   ]
  },
  {
   "cell_type": "code",
   "execution_count": 157,
   "metadata": {},
   "outputs": [
    {
     "data": {
      "text/html": [
       "<div>\n",
       "<style scoped>\n",
       "    .dataframe tbody tr th:only-of-type {\n",
       "        vertical-align: middle;\n",
       "    }\n",
       "\n",
       "    .dataframe tbody tr th {\n",
       "        vertical-align: top;\n",
       "    }\n",
       "\n",
       "    .dataframe thead th {\n",
       "        text-align: right;\n",
       "    }\n",
       "</style>\n",
       "<table border=\"1\" class=\"dataframe\">\n",
       "  <thead>\n",
       "    <tr style=\"text-align: right;\">\n",
       "      <th></th>\n",
       "      <th>面積</th>\n",
       "      <th>駐車場_台数</th>\n",
       "      <th>駐車場＿料金</th>\n",
       "      <th>緯度</th>\n",
       "      <th>経度</th>\n",
       "    </tr>\n",
       "  </thead>\n",
       "  <tbody>\n",
       "    <tr>\n",
       "      <th>0</th>\n",
       "      <td>20.01</td>\n",
       "      <td>1.0</td>\n",
       "      <td>0.0</td>\n",
       "      <td>35.748456</td>\n",
       "      <td>139.728800</td>\n",
       "    </tr>\n",
       "    <tr>\n",
       "      <th>1</th>\n",
       "      <td>16.50</td>\n",
       "      <td>0.0</td>\n",
       "      <td>0.0</td>\n",
       "      <td>35.662885</td>\n",
       "      <td>139.778627</td>\n",
       "    </tr>\n",
       "    <tr>\n",
       "      <th>2</th>\n",
       "      <td>22.05</td>\n",
       "      <td>0.0</td>\n",
       "      <td>0.0</td>\n",
       "      <td>35.675153</td>\n",
       "      <td>139.666255</td>\n",
       "    </tr>\n",
       "    <tr>\n",
       "      <th>3</th>\n",
       "      <td>60.48</td>\n",
       "      <td>0.0</td>\n",
       "      <td>0.0</td>\n",
       "      <td>35.700170</td>\n",
       "      <td>139.648465</td>\n",
       "    </tr>\n",
       "    <tr>\n",
       "      <th>4</th>\n",
       "      <td>39.66</td>\n",
       "      <td>0.0</td>\n",
       "      <td>17000.0</td>\n",
       "      <td>35.766431</td>\n",
       "      <td>139.872321</td>\n",
       "    </tr>\n",
       "    <tr>\n",
       "      <th>5</th>\n",
       "      <td>50.80</td>\n",
       "      <td>0.0</td>\n",
       "      <td>0.0</td>\n",
       "      <td>35.733822</td>\n",
       "      <td>139.795246</td>\n",
       "    </tr>\n",
       "    <tr>\n",
       "      <th>6</th>\n",
       "      <td>23.82</td>\n",
       "      <td>0.0</td>\n",
       "      <td>0.0</td>\n",
       "      <td>35.752992</td>\n",
       "      <td>139.587849</td>\n",
       "    </tr>\n",
       "    <tr>\n",
       "      <th>7</th>\n",
       "      <td>32.32</td>\n",
       "      <td>0.0</td>\n",
       "      <td>0.0</td>\n",
       "      <td>35.625996</td>\n",
       "      <td>139.686671</td>\n",
       "    </tr>\n",
       "    <tr>\n",
       "      <th>8</th>\n",
       "      <td>65.59</td>\n",
       "      <td>0.0</td>\n",
       "      <td>0.0</td>\n",
       "      <td>35.719499</td>\n",
       "      <td>139.755944</td>\n",
       "    </tr>\n",
       "    <tr>\n",
       "      <th>9</th>\n",
       "      <td>30.30</td>\n",
       "      <td>0.0</td>\n",
       "      <td>0.0</td>\n",
       "      <td>35.751231</td>\n",
       "      <td>139.718584</td>\n",
       "    </tr>\n",
       "  </tbody>\n",
       "</table>\n",
       "</div>"
      ],
      "text/plain": [
       "      面積  駐車場_台数   駐車場＿料金         緯度          経度\n",
       "0  20.01     1.0      0.0  35.748456  139.728800\n",
       "1  16.50     0.0      0.0  35.662885  139.778627\n",
       "2  22.05     0.0      0.0  35.675153  139.666255\n",
       "3  60.48     0.0      0.0  35.700170  139.648465\n",
       "4  39.66     0.0  17000.0  35.766431  139.872321\n",
       "5  50.80     0.0      0.0  35.733822  139.795246\n",
       "6  23.82     0.0      0.0  35.752992  139.587849\n",
       "7  32.32     0.0      0.0  35.625996  139.686671\n",
       "8  65.59     0.0      0.0  35.719499  139.755944\n",
       "9  30.30     0.0      0.0  35.751231  139.718584"
      ]
     },
     "execution_count": 157,
     "metadata": {},
     "output_type": "execute_result"
    }
   ],
   "source": [
    "total_data_filled.select_dtypes(\"float\").head(10)"
   ]
  },
  {
   "cell_type": "code",
   "execution_count": 158,
   "metadata": {},
   "outputs": [
    {
     "data": {
      "text/html": [
       "<div>\n",
       "<style scoped>\n",
       "    .dataframe tbody tr th:only-of-type {\n",
       "        vertical-align: middle;\n",
       "    }\n",
       "\n",
       "    .dataframe tbody tr th {\n",
       "        vertical-align: top;\n",
       "    }\n",
       "\n",
       "    .dataframe thead th {\n",
       "        text-align: right;\n",
       "    }\n",
       "</style>\n",
       "<table border=\"1\" class=\"dataframe\">\n",
       "  <thead>\n",
       "    <tr style=\"text-align: right;\">\n",
       "      <th></th>\n",
       "      <th>所在階</th>\n",
       "      <th>築年数_月</th>\n",
       "      <th>階建</th>\n",
       "      <th>所在階_地下</th>\n",
       "      <th>階建_地下</th>\n",
       "      <th>間取り_数</th>\n",
       "      <th>契約期間_定期借家</th>\n",
       "      <th>契約期間_月</th>\n",
       "    </tr>\n",
       "  </thead>\n",
       "  <tbody>\n",
       "    <tr>\n",
       "      <th>0</th>\n",
       "      <td>1</td>\n",
       "      <td>117</td>\n",
       "      <td>12</td>\n",
       "      <td>0</td>\n",
       "      <td>0</td>\n",
       "      <td>1</td>\n",
       "      <td>0</td>\n",
       "      <td>24</td>\n",
       "    </tr>\n",
       "    <tr>\n",
       "      <th>1</th>\n",
       "      <td>5</td>\n",
       "      <td>538</td>\n",
       "      <td>10</td>\n",
       "      <td>0</td>\n",
       "      <td>0</td>\n",
       "      <td>1</td>\n",
       "      <td>0</td>\n",
       "      <td>24</td>\n",
       "    </tr>\n",
       "    <tr>\n",
       "      <th>2</th>\n",
       "      <td>12</td>\n",
       "      <td>102</td>\n",
       "      <td>15</td>\n",
       "      <td>0</td>\n",
       "      <td>0</td>\n",
       "      <td>1</td>\n",
       "      <td>0</td>\n",
       "      <td>24</td>\n",
       "    </tr>\n",
       "    <tr>\n",
       "      <th>3</th>\n",
       "      <td>3</td>\n",
       "      <td>352</td>\n",
       "      <td>4</td>\n",
       "      <td>0</td>\n",
       "      <td>0</td>\n",
       "      <td>2</td>\n",
       "      <td>1</td>\n",
       "      <td>24</td>\n",
       "    </tr>\n",
       "    <tr>\n",
       "      <th>4</th>\n",
       "      <td>1</td>\n",
       "      <td>379</td>\n",
       "      <td>2</td>\n",
       "      <td>0</td>\n",
       "      <td>0</td>\n",
       "      <td>2</td>\n",
       "      <td>0</td>\n",
       "      <td>24</td>\n",
       "    </tr>\n",
       "    <tr>\n",
       "      <th>5</th>\n",
       "      <td>6</td>\n",
       "      <td>90</td>\n",
       "      <td>12</td>\n",
       "      <td>0</td>\n",
       "      <td>0</td>\n",
       "      <td>2</td>\n",
       "      <td>0</td>\n",
       "      <td>24</td>\n",
       "    </tr>\n",
       "    <tr>\n",
       "      <th>6</th>\n",
       "      <td>6</td>\n",
       "      <td>125</td>\n",
       "      <td>8</td>\n",
       "      <td>0</td>\n",
       "      <td>0</td>\n",
       "      <td>1</td>\n",
       "      <td>0</td>\n",
       "      <td>24</td>\n",
       "    </tr>\n",
       "    <tr>\n",
       "      <th>7</th>\n",
       "      <td>1</td>\n",
       "      <td>172</td>\n",
       "      <td>6</td>\n",
       "      <td>0</td>\n",
       "      <td>0</td>\n",
       "      <td>1</td>\n",
       "      <td>0</td>\n",
       "      <td>24</td>\n",
       "    </tr>\n",
       "    <tr>\n",
       "      <th>8</th>\n",
       "      <td>4</td>\n",
       "      <td>536</td>\n",
       "      <td>9</td>\n",
       "      <td>0</td>\n",
       "      <td>0</td>\n",
       "      <td>2</td>\n",
       "      <td>0</td>\n",
       "      <td>24</td>\n",
       "    </tr>\n",
       "    <tr>\n",
       "      <th>9</th>\n",
       "      <td>2</td>\n",
       "      <td>465</td>\n",
       "      <td>3</td>\n",
       "      <td>0</td>\n",
       "      <td>0</td>\n",
       "      <td>1</td>\n",
       "      <td>0</td>\n",
       "      <td>24</td>\n",
       "    </tr>\n",
       "  </tbody>\n",
       "</table>\n",
       "</div>"
      ],
      "text/plain": [
       "   所在階  築年数_月  階建  所在階_地下  階建_地下  間取り_数  契約期間_定期借家  契約期間_月\n",
       "0    1    117  12       0      0      1          0      24\n",
       "1    5    538  10       0      0      1          0      24\n",
       "2   12    102  15       0      0      1          0      24\n",
       "3    3    352   4       0      0      2          1      24\n",
       "4    1    379   2       0      0      2          0      24\n",
       "5    6     90  12       0      0      2          0      24\n",
       "6    6    125   8       0      0      1          0      24\n",
       "7    1    172   6       0      0      1          0      24\n",
       "8    4    536   9       0      0      2          0      24\n",
       "9    2    465   3       0      0      1          0      24"
      ]
     },
     "execution_count": 158,
     "metadata": {},
     "output_type": "execute_result"
    }
   ],
   "source": [
    "total_data_filled.select_dtypes(\"int\").head(10)"
   ]
  },
  {
   "cell_type": "code",
   "execution_count": 159,
   "metadata": {},
   "outputs": [
    {
     "data": {
      "text/html": [
       "<div>\n",
       "<style scoped>\n",
       "    .dataframe tbody tr th:only-of-type {\n",
       "        vertical-align: middle;\n",
       "    }\n",
       "\n",
       "    .dataframe tbody tr th {\n",
       "        vertical-align: top;\n",
       "    }\n",
       "\n",
       "    .dataframe thead th {\n",
       "        text-align: right;\n",
       "    }\n",
       "</style>\n",
       "<table border=\"1\" class=\"dataframe\">\n",
       "  <thead>\n",
       "    <tr style=\"text-align: right;\">\n",
       "      <th></th>\n",
       "      <th>納戸</th>\n",
       "      <th>間取り_D</th>\n",
       "      <th>間取り_K</th>\n",
       "      <th>間取り_L</th>\n",
       "      <th>間取り_R</th>\n",
       "      <th>間取り_S</th>\n",
       "      <th>方角_南</th>\n",
       "      <th>方角_東</th>\n",
       "      <th>方角_西</th>\n",
       "      <th>方角_北</th>\n",
       "      <th>...</th>\n",
       "      <th>【総合病院】</th>\n",
       "      <th>【幼稚園・保育園】</th>\n",
       "      <th>【学校】</th>\n",
       "      <th>【銀行】</th>\n",
       "      <th>【図書館】</th>\n",
       "      <th>【デパート】</th>\n",
       "      <th>【レンタルビデオ】</th>\n",
       "      <th>【クリーニング】</th>\n",
       "      <th>【コインパーキング】</th>\n",
       "      <th>【月極駐車場】</th>\n",
       "    </tr>\n",
       "  </thead>\n",
       "  <tbody>\n",
       "    <tr>\n",
       "      <th>0</th>\n",
       "      <td>False</td>\n",
       "      <td>False</td>\n",
       "      <td>True</td>\n",
       "      <td>False</td>\n",
       "      <td>False</td>\n",
       "      <td>False</td>\n",
       "      <td>True</td>\n",
       "      <td>True</td>\n",
       "      <td>False</td>\n",
       "      <td>False</td>\n",
       "      <td>...</td>\n",
       "      <td>False</td>\n",
       "      <td>False</td>\n",
       "      <td>False</td>\n",
       "      <td>False</td>\n",
       "      <td>False</td>\n",
       "      <td>False</td>\n",
       "      <td>False</td>\n",
       "      <td>False</td>\n",
       "      <td>False</td>\n",
       "      <td>False</td>\n",
       "    </tr>\n",
       "    <tr>\n",
       "      <th>1</th>\n",
       "      <td>False</td>\n",
       "      <td>False</td>\n",
       "      <td>False</td>\n",
       "      <td>False</td>\n",
       "      <td>True</td>\n",
       "      <td>False</td>\n",
       "      <td>False</td>\n",
       "      <td>False</td>\n",
       "      <td>False</td>\n",
       "      <td>False</td>\n",
       "      <td>...</td>\n",
       "      <td>False</td>\n",
       "      <td>False</td>\n",
       "      <td>False</td>\n",
       "      <td>False</td>\n",
       "      <td>False</td>\n",
       "      <td>False</td>\n",
       "      <td>False</td>\n",
       "      <td>False</td>\n",
       "      <td>False</td>\n",
       "      <td>False</td>\n",
       "    </tr>\n",
       "    <tr>\n",
       "      <th>2</th>\n",
       "      <td>False</td>\n",
       "      <td>False</td>\n",
       "      <td>True</td>\n",
       "      <td>False</td>\n",
       "      <td>False</td>\n",
       "      <td>False</td>\n",
       "      <td>True</td>\n",
       "      <td>False</td>\n",
       "      <td>False</td>\n",
       "      <td>False</td>\n",
       "      <td>...</td>\n",
       "      <td>False</td>\n",
       "      <td>False</td>\n",
       "      <td>False</td>\n",
       "      <td>False</td>\n",
       "      <td>False</td>\n",
       "      <td>False</td>\n",
       "      <td>False</td>\n",
       "      <td>False</td>\n",
       "      <td>False</td>\n",
       "      <td>False</td>\n",
       "    </tr>\n",
       "    <tr>\n",
       "      <th>3</th>\n",
       "      <td>False</td>\n",
       "      <td>True</td>\n",
       "      <td>True</td>\n",
       "      <td>True</td>\n",
       "      <td>False</td>\n",
       "      <td>False</td>\n",
       "      <td>True</td>\n",
       "      <td>False</td>\n",
       "      <td>False</td>\n",
       "      <td>False</td>\n",
       "      <td>...</td>\n",
       "      <td>False</td>\n",
       "      <td>False</td>\n",
       "      <td>False</td>\n",
       "      <td>False</td>\n",
       "      <td>False</td>\n",
       "      <td>False</td>\n",
       "      <td>False</td>\n",
       "      <td>False</td>\n",
       "      <td>False</td>\n",
       "      <td>False</td>\n",
       "    </tr>\n",
       "    <tr>\n",
       "      <th>4</th>\n",
       "      <td>False</td>\n",
       "      <td>True</td>\n",
       "      <td>True</td>\n",
       "      <td>False</td>\n",
       "      <td>False</td>\n",
       "      <td>False</td>\n",
       "      <td>True</td>\n",
       "      <td>False</td>\n",
       "      <td>False</td>\n",
       "      <td>False</td>\n",
       "      <td>...</td>\n",
       "      <td>False</td>\n",
       "      <td>False</td>\n",
       "      <td>False</td>\n",
       "      <td>False</td>\n",
       "      <td>False</td>\n",
       "      <td>False</td>\n",
       "      <td>False</td>\n",
       "      <td>False</td>\n",
       "      <td>False</td>\n",
       "      <td>False</td>\n",
       "    </tr>\n",
       "    <tr>\n",
       "      <th>5</th>\n",
       "      <td>False</td>\n",
       "      <td>True</td>\n",
       "      <td>True</td>\n",
       "      <td>True</td>\n",
       "      <td>False</td>\n",
       "      <td>False</td>\n",
       "      <td>False</td>\n",
       "      <td>True</td>\n",
       "      <td>False</td>\n",
       "      <td>False</td>\n",
       "      <td>...</td>\n",
       "      <td>False</td>\n",
       "      <td>False</td>\n",
       "      <td>False</td>\n",
       "      <td>False</td>\n",
       "      <td>False</td>\n",
       "      <td>False</td>\n",
       "      <td>False</td>\n",
       "      <td>False</td>\n",
       "      <td>False</td>\n",
       "      <td>False</td>\n",
       "    </tr>\n",
       "    <tr>\n",
       "      <th>6</th>\n",
       "      <td>False</td>\n",
       "      <td>False</td>\n",
       "      <td>True</td>\n",
       "      <td>False</td>\n",
       "      <td>False</td>\n",
       "      <td>False</td>\n",
       "      <td>True</td>\n",
       "      <td>False</td>\n",
       "      <td>False</td>\n",
       "      <td>False</td>\n",
       "      <td>...</td>\n",
       "      <td>False</td>\n",
       "      <td>False</td>\n",
       "      <td>False</td>\n",
       "      <td>False</td>\n",
       "      <td>False</td>\n",
       "      <td>False</td>\n",
       "      <td>False</td>\n",
       "      <td>False</td>\n",
       "      <td>False</td>\n",
       "      <td>False</td>\n",
       "    </tr>\n",
       "    <tr>\n",
       "      <th>7</th>\n",
       "      <td>False</td>\n",
       "      <td>False</td>\n",
       "      <td>True</td>\n",
       "      <td>False</td>\n",
       "      <td>False</td>\n",
       "      <td>False</td>\n",
       "      <td>False</td>\n",
       "      <td>False</td>\n",
       "      <td>False</td>\n",
       "      <td>False</td>\n",
       "      <td>...</td>\n",
       "      <td>False</td>\n",
       "      <td>False</td>\n",
       "      <td>False</td>\n",
       "      <td>False</td>\n",
       "      <td>False</td>\n",
       "      <td>False</td>\n",
       "      <td>False</td>\n",
       "      <td>False</td>\n",
       "      <td>False</td>\n",
       "      <td>False</td>\n",
       "    </tr>\n",
       "    <tr>\n",
       "      <th>8</th>\n",
       "      <td>False</td>\n",
       "      <td>True</td>\n",
       "      <td>True</td>\n",
       "      <td>False</td>\n",
       "      <td>False</td>\n",
       "      <td>False</td>\n",
       "      <td>False</td>\n",
       "      <td>False</td>\n",
       "      <td>True</td>\n",
       "      <td>True</td>\n",
       "      <td>...</td>\n",
       "      <td>False</td>\n",
       "      <td>False</td>\n",
       "      <td>False</td>\n",
       "      <td>False</td>\n",
       "      <td>False</td>\n",
       "      <td>False</td>\n",
       "      <td>False</td>\n",
       "      <td>False</td>\n",
       "      <td>False</td>\n",
       "      <td>False</td>\n",
       "    </tr>\n",
       "    <tr>\n",
       "      <th>9</th>\n",
       "      <td>False</td>\n",
       "      <td>True</td>\n",
       "      <td>True</td>\n",
       "      <td>False</td>\n",
       "      <td>False</td>\n",
       "      <td>False</td>\n",
       "      <td>True</td>\n",
       "      <td>True</td>\n",
       "      <td>False</td>\n",
       "      <td>False</td>\n",
       "      <td>...</td>\n",
       "      <td>False</td>\n",
       "      <td>False</td>\n",
       "      <td>False</td>\n",
       "      <td>False</td>\n",
       "      <td>False</td>\n",
       "      <td>False</td>\n",
       "      <td>False</td>\n",
       "      <td>False</td>\n",
       "      <td>False</td>\n",
       "      <td>False</td>\n",
       "    </tr>\n",
       "  </tbody>\n",
       "</table>\n",
       "<p>10 rows × 101 columns</p>\n",
       "</div>"
      ],
      "text/plain": [
       "      納戸  間取り_D  間取り_K  間取り_L  間取り_R  間取り_S   方角_南   方角_東   方角_西   方角_北  ...  \\\n",
       "0  False  False   True  False  False  False   True   True  False  False  ...   \n",
       "1  False  False  False  False   True  False  False  False  False  False  ...   \n",
       "2  False  False   True  False  False  False   True  False  False  False  ...   \n",
       "3  False   True   True   True  False  False   True  False  False  False  ...   \n",
       "4  False   True   True  False  False  False   True  False  False  False  ...   \n",
       "5  False   True   True   True  False  False  False   True  False  False  ...   \n",
       "6  False  False   True  False  False  False   True  False  False  False  ...   \n",
       "7  False  False   True  False  False  False  False  False  False  False  ...   \n",
       "8  False   True   True  False  False  False  False  False   True   True  ...   \n",
       "9  False   True   True  False  False  False   True   True  False  False  ...   \n",
       "\n",
       "   【総合病院】  【幼稚園・保育園】   【学校】   【銀行】  【図書館】  【デパート】  【レンタルビデオ】  【クリーニング】  \\\n",
       "0   False      False  False  False  False   False      False     False   \n",
       "1   False      False  False  False  False   False      False     False   \n",
       "2   False      False  False  False  False   False      False     False   \n",
       "3   False      False  False  False  False   False      False     False   \n",
       "4   False      False  False  False  False   False      False     False   \n",
       "5   False      False  False  False  False   False      False     False   \n",
       "6   False      False  False  False  False   False      False     False   \n",
       "7   False      False  False  False  False   False      False     False   \n",
       "8   False      False  False  False  False   False      False     False   \n",
       "9   False      False  False  False  False   False      False     False   \n",
       "\n",
       "   【コインパーキング】  【月極駐車場】  \n",
       "0       False    False  \n",
       "1       False    False  \n",
       "2       False    False  \n",
       "3       False    False  \n",
       "4       False    False  \n",
       "5       False    False  \n",
       "6       False    False  \n",
       "7       False    False  \n",
       "8       False    False  \n",
       "9       False    False  \n",
       "\n",
       "[10 rows x 101 columns]"
      ]
     },
     "execution_count": 159,
     "metadata": {},
     "output_type": "execute_result"
    }
   ],
   "source": [
    "total_data_filled.select_dtypes(\"bool\").head(10)"
   ]
  },
  {
   "cell_type": "code",
   "execution_count": 160,
   "metadata": {},
   "outputs": [],
   "source": [
    "column_names = total_data.columns.values"
   ]
  },
  {
   "cell_type": "code",
   "execution_count": 161,
   "metadata": {},
   "outputs": [
    {
     "name": "stdout",
     "output_type": "stream",
     "text": [
      "<class 'pandas.core.frame.DataFrame'>\n",
      "RangeIndex: 62732 entries, 0 to 62731\n",
      "Columns: 120 entries, 面積 to 経度\n",
      "dtypes: bool(101), float64(5), int64(8), object(6)\n",
      "memory usage: 15.1+ MB\n"
     ]
    }
   ],
   "source": [
    "total_data_filled.info()"
   ]
  },
  {
   "cell_type": "code",
   "execution_count": 162,
   "metadata": {},
   "outputs": [
    {
     "data": {
      "text/html": [
       "<div>\n",
       "<style scoped>\n",
       "    .dataframe tbody tr th:only-of-type {\n",
       "        vertical-align: middle;\n",
       "    }\n",
       "\n",
       "    .dataframe tbody tr th {\n",
       "        vertical-align: top;\n",
       "    }\n",
       "\n",
       "    .dataframe thead th {\n",
       "        text-align: right;\n",
       "    }\n",
       "</style>\n",
       "<table border=\"1\" class=\"dataframe\">\n",
       "  <thead>\n",
       "    <tr style=\"text-align: right;\">\n",
       "      <th></th>\n",
       "      <th>建物構造</th>\n",
       "      <th>所在地_区</th>\n",
       "      <th>アクセス_線_1</th>\n",
       "      <th>アクセス_駅_1</th>\n",
       "      <th>アクセス_線_2</th>\n",
       "      <th>アクセス_駅_2</th>\n",
       "    </tr>\n",
       "  </thead>\n",
       "  <tbody>\n",
       "    <tr>\n",
       "      <th>0</th>\n",
       "      <td>RC(鉄筋コンクリート)</td>\n",
       "      <td>北</td>\n",
       "      <td>都営三田線</td>\n",
       "      <td>西巣鴨駅</td>\n",
       "      <td>埼京線</td>\n",
       "      <td>板橋駅</td>\n",
       "    </tr>\n",
       "    <tr>\n",
       "      <th>1</th>\n",
       "      <td>鉄骨造</td>\n",
       "      <td>中央</td>\n",
       "      <td>都営大江戸線</td>\n",
       "      <td>勝どき駅</td>\n",
       "      <td>有楽町線</td>\n",
       "      <td>月島駅</td>\n",
       "    </tr>\n",
       "    <tr>\n",
       "      <th>2</th>\n",
       "      <td>RC(鉄筋コンクリート)</td>\n",
       "      <td>渋谷</td>\n",
       "      <td>京王線</td>\n",
       "      <td>笹塚駅</td>\n",
       "      <td>京王線</td>\n",
       "      <td>代田橋駅</td>\n",
       "    </tr>\n",
       "    <tr>\n",
       "      <th>3</th>\n",
       "      <td>RC(鉄筋コンクリート)</td>\n",
       "      <td>杉並</td>\n",
       "      <td>総武線・中央線(各停)</td>\n",
       "      <td>高円寺駅</td>\n",
       "      <td>丸ノ内線(池袋-荻窪)</td>\n",
       "      <td>新高円寺駅</td>\n",
       "    </tr>\n",
       "    <tr>\n",
       "      <th>4</th>\n",
       "      <td>木造</td>\n",
       "      <td>葛飾</td>\n",
       "      <td>京成金町線</td>\n",
       "      <td>京成金町駅</td>\n",
       "      <td>常磐線</td>\n",
       "      <td>金町(東京都)駅</td>\n",
       "    </tr>\n",
       "    <tr>\n",
       "      <th>5</th>\n",
       "      <td>RC(鉄筋コンクリート)</td>\n",
       "      <td>荒川</td>\n",
       "      <td>常磐線快速</td>\n",
       "      <td>南千住駅</td>\n",
       "      <td>都電荒川線</td>\n",
       "      <td>三ノ輪橋駅</td>\n",
       "    </tr>\n",
       "    <tr>\n",
       "      <th>6</th>\n",
       "      <td>RC(鉄筋コンクリート)</td>\n",
       "      <td>練馬</td>\n",
       "      <td>西武池袋線</td>\n",
       "      <td>大泉学園駅</td>\n",
       "      <td>西武池袋線</td>\n",
       "      <td>保谷駅</td>\n",
       "    </tr>\n",
       "    <tr>\n",
       "      <th>7</th>\n",
       "      <td>RC(鉄筋コンクリート)</td>\n",
       "      <td>目黒</td>\n",
       "      <td>東急東横線</td>\n",
       "      <td>学芸大学駅</td>\n",
       "      <td>東急東横線</td>\n",
       "      <td>都立大学駅</td>\n",
       "    </tr>\n",
       "    <tr>\n",
       "      <th>8</th>\n",
       "      <td>SRC(鉄骨鉄筋コンクリート)</td>\n",
       "      <td>文京</td>\n",
       "      <td>南北線</td>\n",
       "      <td>東大前駅</td>\n",
       "      <td>都営三田線</td>\n",
       "      <td>白山(東京都)駅</td>\n",
       "    </tr>\n",
       "    <tr>\n",
       "      <th>9</th>\n",
       "      <td>鉄骨造</td>\n",
       "      <td>板橋</td>\n",
       "      <td>埼京線</td>\n",
       "      <td>板橋駅</td>\n",
       "      <td>都営三田線</td>\n",
       "      <td>新板橋駅</td>\n",
       "    </tr>\n",
       "    <tr>\n",
       "      <th>10</th>\n",
       "      <td>RC(鉄筋コンクリート)</td>\n",
       "      <td>大田</td>\n",
       "      <td>都営浅草線</td>\n",
       "      <td>西馬込駅</td>\n",
       "      <td>都営浅草線</td>\n",
       "      <td>馬込駅</td>\n",
       "    </tr>\n",
       "    <tr>\n",
       "      <th>11</th>\n",
       "      <td>木造</td>\n",
       "      <td>江戸川</td>\n",
       "      <td>京成本線</td>\n",
       "      <td>京成小岩駅</td>\n",
       "      <td>京成本線</td>\n",
       "      <td>江戸川駅</td>\n",
       "    </tr>\n",
       "    <tr>\n",
       "      <th>12</th>\n",
       "      <td>RC(鉄筋コンクリート)</td>\n",
       "      <td>港</td>\n",
       "      <td>銀座線</td>\n",
       "      <td>表参道駅</td>\n",
       "      <td>千代田線</td>\n",
       "      <td>表参道駅</td>\n",
       "    </tr>\n",
       "    <tr>\n",
       "      <th>13</th>\n",
       "      <td>RC(鉄筋コンクリート)</td>\n",
       "      <td>杉並</td>\n",
       "      <td>中央線(快速)</td>\n",
       "      <td>阿佐ケ谷駅</td>\n",
       "      <td>丸ノ内線(池袋-荻窪)</td>\n",
       "      <td>南阿佐ケ谷駅</td>\n",
       "    </tr>\n",
       "    <tr>\n",
       "      <th>14</th>\n",
       "      <td>SRC(鉄骨鉄筋コンクリート)</td>\n",
       "      <td>墨田</td>\n",
       "      <td>総武線・中央線(各停)</td>\n",
       "      <td>錦糸町駅</td>\n",
       "      <td>都営大江戸線</td>\n",
       "      <td>両国(都営線)駅</td>\n",
       "    </tr>\n",
       "    <tr>\n",
       "      <th>15</th>\n",
       "      <td>RC(鉄筋コンクリート)</td>\n",
       "      <td>渋谷</td>\n",
       "      <td>京王新線</td>\n",
       "      <td>幡ケ谷駅</td>\n",
       "      <td>京王線</td>\n",
       "      <td>笹塚駅</td>\n",
       "    </tr>\n",
       "    <tr>\n",
       "      <th>16</th>\n",
       "      <td>RC(鉄筋コンクリート)</td>\n",
       "      <td>板橋</td>\n",
       "      <td>東武東上線</td>\n",
       "      <td>上板橋駅</td>\n",
       "      <td>副都心線</td>\n",
       "      <td>氷川台駅</td>\n",
       "    </tr>\n",
       "    <tr>\n",
       "      <th>17</th>\n",
       "      <td>木造</td>\n",
       "      <td>江戸川</td>\n",
       "      <td>都営新宿線</td>\n",
       "      <td>一之江駅</td>\n",
       "      <td>都営新宿線</td>\n",
       "      <td>船堀駅</td>\n",
       "    </tr>\n",
       "    <tr>\n",
       "      <th>18</th>\n",
       "      <td>RC(鉄筋コンクリート)</td>\n",
       "      <td>新宿</td>\n",
       "      <td>総武線・中央線(各停)</td>\n",
       "      <td>四ツ谷駅</td>\n",
       "      <td>丸ノ内線(池袋-荻窪)</td>\n",
       "      <td>四ツ谷駅</td>\n",
       "    </tr>\n",
       "    <tr>\n",
       "      <th>19</th>\n",
       "      <td>SRC(鉄骨鉄筋コンクリート)</td>\n",
       "      <td>中央</td>\n",
       "      <td>半蔵門線</td>\n",
       "      <td>水天宮前駅</td>\n",
       "      <td>日比谷線</td>\n",
       "      <td>茅場町駅</td>\n",
       "    </tr>\n",
       "    <tr>\n",
       "      <th>20</th>\n",
       "      <td>木造</td>\n",
       "      <td>中野</td>\n",
       "      <td>西武新宿線</td>\n",
       "      <td>沼袋駅</td>\n",
       "      <td>西武新宿線</td>\n",
       "      <td>野方駅</td>\n",
       "    </tr>\n",
       "    <tr>\n",
       "      <th>21</th>\n",
       "      <td>SRC(鉄骨鉄筋コンクリート)</td>\n",
       "      <td>文京</td>\n",
       "      <td>中央線(快速)</td>\n",
       "      <td>御茶ノ水駅</td>\n",
       "      <td>千代田線</td>\n",
       "      <td>湯島駅</td>\n",
       "    </tr>\n",
       "    <tr>\n",
       "      <th>22</th>\n",
       "      <td>SRC(鉄骨鉄筋コンクリート)</td>\n",
       "      <td>中央</td>\n",
       "      <td>有楽町線</td>\n",
       "      <td>月島駅</td>\n",
       "      <td>京葉線(東京-蘇我)</td>\n",
       "      <td>越中島駅</td>\n",
       "    </tr>\n",
       "    <tr>\n",
       "      <th>23</th>\n",
       "      <td>鉄骨造</td>\n",
       "      <td>大田</td>\n",
       "      <td>京浜東北線</td>\n",
       "      <td>大森(東京都)駅</td>\n",
       "      <td>京急本線</td>\n",
       "      <td>平和島駅</td>\n",
       "    </tr>\n",
       "    <tr>\n",
       "      <th>24</th>\n",
       "      <td>RC(鉄筋コンクリート)</td>\n",
       "      <td>江戸川</td>\n",
       "      <td>京成本線</td>\n",
       "      <td>江戸川駅</td>\n",
       "      <td>京成本線</td>\n",
       "      <td>京成小岩駅</td>\n",
       "    </tr>\n",
       "    <tr>\n",
       "      <th>25</th>\n",
       "      <td>木造</td>\n",
       "      <td>豊島</td>\n",
       "      <td>有楽町線</td>\n",
       "      <td>千川駅</td>\n",
       "      <td>西武池袋線</td>\n",
       "      <td>東長崎駅</td>\n",
       "    </tr>\n",
       "    <tr>\n",
       "      <th>26</th>\n",
       "      <td>RC(鉄筋コンクリート)</td>\n",
       "      <td>台東</td>\n",
       "      <td>都営大江戸線</td>\n",
       "      <td>新御徒町駅</td>\n",
       "      <td>日比谷線</td>\n",
       "      <td>仲御徒町駅</td>\n",
       "    </tr>\n",
       "    <tr>\n",
       "      <th>27</th>\n",
       "      <td>木造</td>\n",
       "      <td>足立</td>\n",
       "      <td>つくばエクスプレス</td>\n",
       "      <td>六町駅</td>\n",
       "      <td>千代田線</td>\n",
       "      <td>北綾瀬駅</td>\n",
       "    </tr>\n",
       "    <tr>\n",
       "      <th>28</th>\n",
       "      <td>RC(鉄筋コンクリート)</td>\n",
       "      <td>江戸川</td>\n",
       "      <td>都営新宿線</td>\n",
       "      <td>船堀駅</td>\n",
       "      <td>都営新宿線</td>\n",
       "      <td>一之江駅</td>\n",
       "    </tr>\n",
       "    <tr>\n",
       "      <th>29</th>\n",
       "      <td>RC(鉄筋コンクリート)</td>\n",
       "      <td>渋谷</td>\n",
       "      <td>小田急小田原線</td>\n",
       "      <td>代々木上原駅</td>\n",
       "      <td>小田急小田原線</td>\n",
       "      <td>東北沢駅</td>\n",
       "    </tr>\n",
       "    <tr>\n",
       "      <th>...</th>\n",
       "      <td>...</td>\n",
       "      <td>...</td>\n",
       "      <td>...</td>\n",
       "      <td>...</td>\n",
       "      <td>...</td>\n",
       "      <td>...</td>\n",
       "    </tr>\n",
       "    <tr>\n",
       "      <th>62702</th>\n",
       "      <td>RC(鉄筋コンクリート)</td>\n",
       "      <td>墨田</td>\n",
       "      <td>都営大江戸線</td>\n",
       "      <td>蔵前駅</td>\n",
       "      <td>都営大江戸線</td>\n",
       "      <td>両国(都営線)駅</td>\n",
       "    </tr>\n",
       "    <tr>\n",
       "      <th>62703</th>\n",
       "      <td>木造</td>\n",
       "      <td>杉並</td>\n",
       "      <td>京王線</td>\n",
       "      <td>桜上水駅</td>\n",
       "      <td>京王線</td>\n",
       "      <td>下高井戸駅</td>\n",
       "    </tr>\n",
       "    <tr>\n",
       "      <th>62704</th>\n",
       "      <td>RC(鉄筋コンクリート)</td>\n",
       "      <td>千代田</td>\n",
       "      <td>丸ノ内線(池袋-荻窪)</td>\n",
       "      <td>淡路町駅</td>\n",
       "      <td>千代田線</td>\n",
       "      <td>新御茶ノ水駅</td>\n",
       "    </tr>\n",
       "    <tr>\n",
       "      <th>62705</th>\n",
       "      <td>SRC(鉄骨鉄筋コンクリート)</td>\n",
       "      <td>品川</td>\n",
       "      <td>山手線</td>\n",
       "      <td>五反田駅</td>\n",
       "      <td>都営浅草線</td>\n",
       "      <td>五反田駅</td>\n",
       "    </tr>\n",
       "    <tr>\n",
       "      <th>62706</th>\n",
       "      <td>RC(鉄筋コンクリート)</td>\n",
       "      <td>足立</td>\n",
       "      <td>日暮里・舎人ライナー</td>\n",
       "      <td>谷在家駅</td>\n",
       "      <td>日暮里・舎人ライナー</td>\n",
       "      <td>西新井大師西駅</td>\n",
       "    </tr>\n",
       "    <tr>\n",
       "      <th>62707</th>\n",
       "      <td>SRC(鉄骨鉄筋コンクリート)</td>\n",
       "      <td>台東</td>\n",
       "      <td>都営浅草線</td>\n",
       "      <td>蔵前駅</td>\n",
       "      <td>都営大江戸線</td>\n",
       "      <td>新御徒町駅</td>\n",
       "    </tr>\n",
       "    <tr>\n",
       "      <th>62708</th>\n",
       "      <td>軽量鉄骨</td>\n",
       "      <td>練馬</td>\n",
       "      <td>西武池袋線</td>\n",
       "      <td>大泉学園駅</td>\n",
       "      <td>西武池袋線</td>\n",
       "      <td>石神井公園駅</td>\n",
       "    </tr>\n",
       "    <tr>\n",
       "      <th>62709</th>\n",
       "      <td>RC(鉄筋コンクリート)</td>\n",
       "      <td>新宿</td>\n",
       "      <td>西武池袋線</td>\n",
       "      <td>椎名町駅</td>\n",
       "      <td>都営大江戸線</td>\n",
       "      <td>落合南長崎駅</td>\n",
       "    </tr>\n",
       "    <tr>\n",
       "      <th>62710</th>\n",
       "      <td>RC(鉄筋コンクリート)</td>\n",
       "      <td>江戸川</td>\n",
       "      <td>東西線</td>\n",
       "      <td>葛西駅</td>\n",
       "      <td>東西線</td>\n",
       "      <td>西葛西駅</td>\n",
       "    </tr>\n",
       "    <tr>\n",
       "      <th>62711</th>\n",
       "      <td>RC(鉄筋コンクリート)</td>\n",
       "      <td>目黒</td>\n",
       "      <td>東急東横線</td>\n",
       "      <td>都立大学駅</td>\n",
       "      <td>東急目黒線</td>\n",
       "      <td>大岡山駅</td>\n",
       "    </tr>\n",
       "    <tr>\n",
       "      <th>62712</th>\n",
       "      <td>RC(鉄筋コンクリート)</td>\n",
       "      <td>文京</td>\n",
       "      <td>南北線</td>\n",
       "      <td>本駒込駅</td>\n",
       "      <td>都営三田線</td>\n",
       "      <td>千石駅</td>\n",
       "    </tr>\n",
       "    <tr>\n",
       "      <th>62713</th>\n",
       "      <td>木造</td>\n",
       "      <td>葛飾</td>\n",
       "      <td>京成金町線</td>\n",
       "      <td>柴又駅</td>\n",
       "      <td>京成本線</td>\n",
       "      <td>京成高砂駅</td>\n",
       "    </tr>\n",
       "    <tr>\n",
       "      <th>62714</th>\n",
       "      <td>RC(鉄筋コンクリート)</td>\n",
       "      <td>世田谷</td>\n",
       "      <td>東急世田谷線</td>\n",
       "      <td>上町駅</td>\n",
       "      <td>東急世田谷線</td>\n",
       "      <td>世田谷駅</td>\n",
       "    </tr>\n",
       "    <tr>\n",
       "      <th>62715</th>\n",
       "      <td>RC(鉄筋コンクリート)</td>\n",
       "      <td>渋谷</td>\n",
       "      <td>京王新線</td>\n",
       "      <td>初台駅</td>\n",
       "      <td>小田急小田原線</td>\n",
       "      <td>参宮橋駅</td>\n",
       "    </tr>\n",
       "    <tr>\n",
       "      <th>62716</th>\n",
       "      <td>RC(鉄筋コンクリート)</td>\n",
       "      <td>板橋</td>\n",
       "      <td>都営三田線</td>\n",
       "      <td>板橋区役所前駅</td>\n",
       "      <td>埼京線</td>\n",
       "      <td>板橋駅</td>\n",
       "    </tr>\n",
       "    <tr>\n",
       "      <th>62717</th>\n",
       "      <td>木造</td>\n",
       "      <td>世田谷</td>\n",
       "      <td>小田急小田原線</td>\n",
       "      <td>梅ケ丘駅</td>\n",
       "      <td>小田急小田原線</td>\n",
       "      <td>豪徳寺駅</td>\n",
       "    </tr>\n",
       "    <tr>\n",
       "      <th>62718</th>\n",
       "      <td>軽量鉄骨</td>\n",
       "      <td>板橋</td>\n",
       "      <td>有楽町線</td>\n",
       "      <td>要町駅</td>\n",
       "      <td>False</td>\n",
       "      <td>False</td>\n",
       "    </tr>\n",
       "    <tr>\n",
       "      <th>62719</th>\n",
       "      <td>RC(鉄筋コンクリート)</td>\n",
       "      <td>葛飾</td>\n",
       "      <td>京成本線</td>\n",
       "      <td>青砥駅</td>\n",
       "      <td>京成本線</td>\n",
       "      <td>お花茶屋駅</td>\n",
       "    </tr>\n",
       "    <tr>\n",
       "      <th>62720</th>\n",
       "      <td>RC(鉄筋コンクリート)</td>\n",
       "      <td>世田谷</td>\n",
       "      <td>東急東横線</td>\n",
       "      <td>祐天寺駅</td>\n",
       "      <td>東急東横線</td>\n",
       "      <td>学芸大学駅</td>\n",
       "    </tr>\n",
       "    <tr>\n",
       "      <th>62721</th>\n",
       "      <td>RC(鉄筋コンクリート)</td>\n",
       "      <td>中野</td>\n",
       "      <td>丸ノ内線(池袋-荻窪)</td>\n",
       "      <td>新中野駅</td>\n",
       "      <td>中央線(快速)</td>\n",
       "      <td>中野(東京都)駅</td>\n",
       "    </tr>\n",
       "    <tr>\n",
       "      <th>62722</th>\n",
       "      <td>RC(鉄筋コンクリート)</td>\n",
       "      <td>新宿</td>\n",
       "      <td>東西線</td>\n",
       "      <td>神楽坂駅</td>\n",
       "      <td>有楽町線</td>\n",
       "      <td>江戸川橋駅</td>\n",
       "    </tr>\n",
       "    <tr>\n",
       "      <th>62723</th>\n",
       "      <td>RC(鉄筋コンクリート)</td>\n",
       "      <td>墨田</td>\n",
       "      <td>総武線・中央線(各停)</td>\n",
       "      <td>錦糸町駅</td>\n",
       "      <td>半蔵門線</td>\n",
       "      <td>錦糸町駅</td>\n",
       "    </tr>\n",
       "    <tr>\n",
       "      <th>62724</th>\n",
       "      <td>RC(鉄筋コンクリート)</td>\n",
       "      <td>大田</td>\n",
       "      <td>京急本線</td>\n",
       "      <td>六郷土手駅</td>\n",
       "      <td>京急大師線</td>\n",
       "      <td>港町駅</td>\n",
       "    </tr>\n",
       "    <tr>\n",
       "      <th>62725</th>\n",
       "      <td>鉄骨造</td>\n",
       "      <td>中野</td>\n",
       "      <td>丸ノ内線(池袋-荻窪)</td>\n",
       "      <td>新中野駅</td>\n",
       "      <td>中央線(快速)</td>\n",
       "      <td>中野(東京都)駅</td>\n",
       "    </tr>\n",
       "    <tr>\n",
       "      <th>62726</th>\n",
       "      <td>木造</td>\n",
       "      <td>大田</td>\n",
       "      <td>東急東横線</td>\n",
       "      <td>多摩川駅</td>\n",
       "      <td>東急池上線</td>\n",
       "      <td>雪が谷大塚駅</td>\n",
       "    </tr>\n",
       "    <tr>\n",
       "      <th>62727</th>\n",
       "      <td>RC(鉄筋コンクリート)</td>\n",
       "      <td>豊島</td>\n",
       "      <td>埼京線</td>\n",
       "      <td>板橋駅</td>\n",
       "      <td>都営三田線</td>\n",
       "      <td>新板橋駅</td>\n",
       "    </tr>\n",
       "    <tr>\n",
       "      <th>62728</th>\n",
       "      <td>RC(鉄筋コンクリート)</td>\n",
       "      <td>千代田</td>\n",
       "      <td>都営新宿線</td>\n",
       "      <td>岩本町駅</td>\n",
       "      <td>山手線</td>\n",
       "      <td>秋葉原駅</td>\n",
       "    </tr>\n",
       "    <tr>\n",
       "      <th>62729</th>\n",
       "      <td>RC(鉄筋コンクリート)</td>\n",
       "      <td>中野</td>\n",
       "      <td>都営大江戸線</td>\n",
       "      <td>新江古田駅</td>\n",
       "      <td>西武池袋線</td>\n",
       "      <td>江古田駅</td>\n",
       "    </tr>\n",
       "    <tr>\n",
       "      <th>62730</th>\n",
       "      <td>SRC(鉄骨鉄筋コンクリート)</td>\n",
       "      <td>千代田</td>\n",
       "      <td>有楽町線</td>\n",
       "      <td>麹町駅</td>\n",
       "      <td>丸ノ内線(池袋-荻窪)</td>\n",
       "      <td>四ツ谷駅</td>\n",
       "    </tr>\n",
       "    <tr>\n",
       "      <th>62731</th>\n",
       "      <td>RC(鉄筋コンクリート)</td>\n",
       "      <td>大田</td>\n",
       "      <td>都営浅草線</td>\n",
       "      <td>西馬込駅</td>\n",
       "      <td>東急池上線</td>\n",
       "      <td>池上駅</td>\n",
       "    </tr>\n",
       "  </tbody>\n",
       "</table>\n",
       "<p>62732 rows × 6 columns</p>\n",
       "</div>"
      ],
      "text/plain": [
       "                  建物構造 所在地_区     アクセス_線_1  アクセス_駅_1     アクセス_線_2  アクセス_駅_2\n",
       "0         RC(鉄筋コンクリート)     北        都営三田線      西巣鴨駅          埼京線       板橋駅\n",
       "1                  鉄骨造    中央       都営大江戸線      勝どき駅         有楽町線       月島駅\n",
       "2         RC(鉄筋コンクリート)    渋谷          京王線       笹塚駅          京王線      代田橋駅\n",
       "3         RC(鉄筋コンクリート)    杉並  総武線・中央線(各停)      高円寺駅  丸ノ内線(池袋-荻窪)     新高円寺駅\n",
       "4                   木造    葛飾        京成金町線     京成金町駅          常磐線  金町(東京都)駅\n",
       "5         RC(鉄筋コンクリート)    荒川        常磐線快速      南千住駅        都電荒川線     三ノ輪橋駅\n",
       "6         RC(鉄筋コンクリート)    練馬        西武池袋線     大泉学園駅        西武池袋線       保谷駅\n",
       "7         RC(鉄筋コンクリート)    目黒        東急東横線     学芸大学駅        東急東横線     都立大学駅\n",
       "8      SRC(鉄骨鉄筋コンクリート)    文京          南北線      東大前駅        都営三田線  白山(東京都)駅\n",
       "9                  鉄骨造    板橋          埼京線       板橋駅        都営三田線      新板橋駅\n",
       "10        RC(鉄筋コンクリート)    大田        都営浅草線      西馬込駅        都営浅草線       馬込駅\n",
       "11                  木造   江戸川         京成本線     京成小岩駅         京成本線      江戸川駅\n",
       "12        RC(鉄筋コンクリート)     港          銀座線      表参道駅         千代田線      表参道駅\n",
       "13        RC(鉄筋コンクリート)    杉並      中央線(快速)     阿佐ケ谷駅  丸ノ内線(池袋-荻窪)    南阿佐ケ谷駅\n",
       "14     SRC(鉄骨鉄筋コンクリート)    墨田  総武線・中央線(各停)      錦糸町駅       都営大江戸線  両国(都営線)駅\n",
       "15        RC(鉄筋コンクリート)    渋谷         京王新線      幡ケ谷駅          京王線       笹塚駅\n",
       "16        RC(鉄筋コンクリート)    板橋        東武東上線      上板橋駅         副都心線      氷川台駅\n",
       "17                  木造   江戸川        都営新宿線      一之江駅        都営新宿線       船堀駅\n",
       "18        RC(鉄筋コンクリート)    新宿  総武線・中央線(各停)      四ツ谷駅  丸ノ内線(池袋-荻窪)      四ツ谷駅\n",
       "19     SRC(鉄骨鉄筋コンクリート)    中央         半蔵門線     水天宮前駅         日比谷線      茅場町駅\n",
       "20                  木造    中野        西武新宿線       沼袋駅        西武新宿線       野方駅\n",
       "21     SRC(鉄骨鉄筋コンクリート)    文京      中央線(快速)     御茶ノ水駅         千代田線       湯島駅\n",
       "22     SRC(鉄骨鉄筋コンクリート)    中央         有楽町線       月島駅   京葉線(東京-蘇我)      越中島駅\n",
       "23                 鉄骨造    大田        京浜東北線  大森(東京都)駅         京急本線      平和島駅\n",
       "24        RC(鉄筋コンクリート)   江戸川         京成本線      江戸川駅         京成本線     京成小岩駅\n",
       "25                  木造    豊島         有楽町線       千川駅        西武池袋線      東長崎駅\n",
       "26        RC(鉄筋コンクリート)    台東       都営大江戸線     新御徒町駅         日比谷線     仲御徒町駅\n",
       "27                  木造    足立    つくばエクスプレス       六町駅         千代田線      北綾瀬駅\n",
       "28        RC(鉄筋コンクリート)   江戸川        都営新宿線       船堀駅        都営新宿線      一之江駅\n",
       "29        RC(鉄筋コンクリート)    渋谷      小田急小田原線    代々木上原駅      小田急小田原線      東北沢駅\n",
       "...                ...   ...          ...       ...          ...       ...\n",
       "62702     RC(鉄筋コンクリート)    墨田       都営大江戸線       蔵前駅       都営大江戸線  両国(都営線)駅\n",
       "62703               木造    杉並          京王線      桜上水駅          京王線     下高井戸駅\n",
       "62704     RC(鉄筋コンクリート)   千代田  丸ノ内線(池袋-荻窪)      淡路町駅         千代田線    新御茶ノ水駅\n",
       "62705  SRC(鉄骨鉄筋コンクリート)    品川          山手線      五反田駅        都営浅草線      五反田駅\n",
       "62706     RC(鉄筋コンクリート)    足立   日暮里・舎人ライナー      谷在家駅   日暮里・舎人ライナー   西新井大師西駅\n",
       "62707  SRC(鉄骨鉄筋コンクリート)    台東        都営浅草線       蔵前駅       都営大江戸線     新御徒町駅\n",
       "62708             軽量鉄骨    練馬        西武池袋線     大泉学園駅        西武池袋線    石神井公園駅\n",
       "62709     RC(鉄筋コンクリート)    新宿        西武池袋線      椎名町駅       都営大江戸線    落合南長崎駅\n",
       "62710     RC(鉄筋コンクリート)   江戸川          東西線       葛西駅          東西線      西葛西駅\n",
       "62711     RC(鉄筋コンクリート)    目黒        東急東横線     都立大学駅        東急目黒線      大岡山駅\n",
       "62712     RC(鉄筋コンクリート)    文京          南北線      本駒込駅        都営三田線       千石駅\n",
       "62713               木造    葛飾        京成金町線       柴又駅         京成本線     京成高砂駅\n",
       "62714     RC(鉄筋コンクリート)   世田谷       東急世田谷線       上町駅       東急世田谷線      世田谷駅\n",
       "62715     RC(鉄筋コンクリート)    渋谷         京王新線       初台駅      小田急小田原線      参宮橋駅\n",
       "62716     RC(鉄筋コンクリート)    板橋        都営三田線   板橋区役所前駅          埼京線       板橋駅\n",
       "62717               木造   世田谷      小田急小田原線      梅ケ丘駅      小田急小田原線      豪徳寺駅\n",
       "62718             軽量鉄骨    板橋         有楽町線       要町駅        False     False\n",
       "62719     RC(鉄筋コンクリート)    葛飾         京成本線       青砥駅         京成本線     お花茶屋駅\n",
       "62720     RC(鉄筋コンクリート)   世田谷        東急東横線      祐天寺駅        東急東横線     学芸大学駅\n",
       "62721     RC(鉄筋コンクリート)    中野  丸ノ内線(池袋-荻窪)      新中野駅      中央線(快速)  中野(東京都)駅\n",
       "62722     RC(鉄筋コンクリート)    新宿          東西線      神楽坂駅         有楽町線     江戸川橋駅\n",
       "62723     RC(鉄筋コンクリート)    墨田  総武線・中央線(各停)      錦糸町駅         半蔵門線      錦糸町駅\n",
       "62724     RC(鉄筋コンクリート)    大田         京急本線     六郷土手駅        京急大師線       港町駅\n",
       "62725              鉄骨造    中野  丸ノ内線(池袋-荻窪)      新中野駅      中央線(快速)  中野(東京都)駅\n",
       "62726               木造    大田        東急東横線      多摩川駅        東急池上線    雪が谷大塚駅\n",
       "62727     RC(鉄筋コンクリート)    豊島          埼京線       板橋駅        都営三田線      新板橋駅\n",
       "62728     RC(鉄筋コンクリート)   千代田        都営新宿線      岩本町駅          山手線      秋葉原駅\n",
       "62729     RC(鉄筋コンクリート)    中野       都営大江戸線     新江古田駅        西武池袋線      江古田駅\n",
       "62730  SRC(鉄骨鉄筋コンクリート)   千代田         有楽町線       麹町駅  丸ノ内線(池袋-荻窪)      四ツ谷駅\n",
       "62731     RC(鉄筋コンクリート)    大田        都営浅草線      西馬込駅        東急池上線       池上駅\n",
       "\n",
       "[62732 rows x 6 columns]"
      ]
     },
     "execution_count": 162,
     "metadata": {},
     "output_type": "execute_result"
    }
   ],
   "source": [
    "total_data_filled.select_dtypes(\"object\")"
   ]
  },
  {
   "cell_type": "markdown",
   "metadata": {},
   "source": [
    "Access 2 has \"False\" entries"
   ]
  },
  {
   "cell_type": "code",
   "execution_count": 163,
   "metadata": {},
   "outputs": [
    {
     "data": {
      "text/plain": [
       "61       False\n",
       "72       False\n",
       "151      False\n",
       "185      False\n",
       "219      False\n",
       "225      False\n",
       "229      False\n",
       "236      False\n",
       "287      False\n",
       "338      False\n",
       "350      False\n",
       "361      False\n",
       "403      False\n",
       "404      False\n",
       "413      False\n",
       "426      False\n",
       "433      False\n",
       "442      False\n",
       "452      False\n",
       "457      False\n",
       "464      False\n",
       "465      False\n",
       "471      False\n",
       "473      False\n",
       "474      False\n",
       "484      False\n",
       "487      False\n",
       "498      False\n",
       "499      False\n",
       "503      False\n",
       "         ...  \n",
       "62209    False\n",
       "62229    False\n",
       "62234    False\n",
       "62239    False\n",
       "62262    False\n",
       "62273    False\n",
       "62302    False\n",
       "62322    False\n",
       "62346    False\n",
       "62366    False\n",
       "62395    False\n",
       "62412    False\n",
       "62431    False\n",
       "62438    False\n",
       "62453    False\n",
       "62486    False\n",
       "62496    False\n",
       "62508    False\n",
       "62512    False\n",
       "62526    False\n",
       "62560    False\n",
       "62606    False\n",
       "62623    False\n",
       "62629    False\n",
       "62635    False\n",
       "62656    False\n",
       "62683    False\n",
       "62687    False\n",
       "62693    False\n",
       "62718    False\n",
       "Name: アクセス_線_2, Length: 2985, dtype: object"
      ]
     },
     "execution_count": 163,
     "metadata": {},
     "output_type": "execute_result"
    }
   ],
   "source": [
    "total_data_filled[\"アクセス_線_2\"][total_data_filled[\"アクセス_線_2\"] == False]"
   ]
  },
  {
   "cell_type": "code",
   "execution_count": 164,
   "metadata": {},
   "outputs": [
    {
     "name": "stderr",
     "output_type": "stream",
     "text": [
      "/home/amar/.local/lib/python3.6/site-packages/ipykernel_launcher.py:1: SettingWithCopyWarning: \n",
      "A value is trying to be set on a copy of a slice from a DataFrame\n",
      "\n",
      "See the caveats in the documentation: http://pandas.pydata.org/pandas-docs/stable/indexing.html#indexing-view-versus-copy\n",
      "  \"\"\"Entry point for launching an IPython kernel.\n"
     ]
    }
   ],
   "source": [
    "total_data_filled[\"アクセス_線_2\"][total_data_filled[\"アクセス_線_2\"] == False] = \"0\""
   ]
  },
  {
   "cell_type": "code",
   "execution_count": 165,
   "metadata": {},
   "outputs": [
    {
     "name": "stderr",
     "output_type": "stream",
     "text": [
      "/home/amar/.local/lib/python3.6/site-packages/ipykernel_launcher.py:1: SettingWithCopyWarning: \n",
      "A value is trying to be set on a copy of a slice from a DataFrame\n",
      "\n",
      "See the caveats in the documentation: http://pandas.pydata.org/pandas-docs/stable/indexing.html#indexing-view-versus-copy\n",
      "  \"\"\"Entry point for launching an IPython kernel.\n"
     ]
    }
   ],
   "source": [
    "total_data_filled[\"アクセス_駅_2\"][total_data_filled[\"アクセス_駅_2\"] == False] = \"0\""
   ]
  },
  {
   "cell_type": "markdown",
   "metadata": {},
   "source": [
    "# Label Encoding"
   ]
  },
  {
   "cell_type": "code",
   "execution_count": 166,
   "metadata": {},
   "outputs": [],
   "source": [
    "from sklearn import preprocessing\n",
    "le = preprocessing.LabelEncoder()"
   ]
  },
  {
   "cell_type": "code",
   "execution_count": 167,
   "metadata": {},
   "outputs": [
    {
     "name": "stdout",
     "output_type": "stream",
     "text": [
      "建物構造\n",
      "所在地_区\n",
      "アクセス_線_1\n",
      "アクセス_駅_1\n",
      "アクセス_線_2\n",
      "アクセス_駅_2\n"
     ]
    }
   ],
   "source": [
    "for column in total_data_filled.select_dtypes(\"object\").columns:\n",
    "    print(column)\n",
    "    total_data_filled[column] = le.fit_transform(total_data_filled[column])"
   ]
  },
  {
   "cell_type": "code",
   "execution_count": 168,
   "metadata": {},
   "outputs": [
    {
     "data": {
      "text/html": [
       "<div>\n",
       "<style scoped>\n",
       "    .dataframe tbody tr th:only-of-type {\n",
       "        vertical-align: middle;\n",
       "    }\n",
       "\n",
       "    .dataframe tbody tr th {\n",
       "        vertical-align: top;\n",
       "    }\n",
       "\n",
       "    .dataframe thead th {\n",
       "        text-align: right;\n",
       "    }\n",
       "</style>\n",
       "<table border=\"1\" class=\"dataframe\">\n",
       "  <thead>\n",
       "    <tr style=\"text-align: right;\">\n",
       "      <th></th>\n",
       "      <th>面積</th>\n",
       "      <th>所在階</th>\n",
       "      <th>建物構造</th>\n",
       "      <th>築年数_月</th>\n",
       "      <th>階建</th>\n",
       "      <th>所在階_地下</th>\n",
       "      <th>階建_地下</th>\n",
       "      <th>納戸</th>\n",
       "      <th>間取り_D</th>\n",
       "      <th>間取り_K</th>\n",
       "      <th>...</th>\n",
       "      <th>【学校】</th>\n",
       "      <th>【銀行】</th>\n",
       "      <th>【図書館】</th>\n",
       "      <th>【デパート】</th>\n",
       "      <th>【レンタルビデオ】</th>\n",
       "      <th>【クリーニング】</th>\n",
       "      <th>【コインパーキング】</th>\n",
       "      <th>【月極駐車場】</th>\n",
       "      <th>緯度</th>\n",
       "      <th>経度</th>\n",
       "    </tr>\n",
       "  </thead>\n",
       "  <tbody>\n",
       "    <tr>\n",
       "      <th>0</th>\n",
       "      <td>20.01</td>\n",
       "      <td>1</td>\n",
       "      <td>3</td>\n",
       "      <td>117</td>\n",
       "      <td>12</td>\n",
       "      <td>0</td>\n",
       "      <td>0</td>\n",
       "      <td>False</td>\n",
       "      <td>False</td>\n",
       "      <td>True</td>\n",
       "      <td>...</td>\n",
       "      <td>False</td>\n",
       "      <td>False</td>\n",
       "      <td>False</td>\n",
       "      <td>False</td>\n",
       "      <td>False</td>\n",
       "      <td>False</td>\n",
       "      <td>False</td>\n",
       "      <td>False</td>\n",
       "      <td>35.748456</td>\n",
       "      <td>139.728800</td>\n",
       "    </tr>\n",
       "    <tr>\n",
       "      <th>1</th>\n",
       "      <td>16.50</td>\n",
       "      <td>5</td>\n",
       "      <td>10</td>\n",
       "      <td>538</td>\n",
       "      <td>10</td>\n",
       "      <td>0</td>\n",
       "      <td>0</td>\n",
       "      <td>False</td>\n",
       "      <td>False</td>\n",
       "      <td>False</td>\n",
       "      <td>...</td>\n",
       "      <td>False</td>\n",
       "      <td>False</td>\n",
       "      <td>False</td>\n",
       "      <td>False</td>\n",
       "      <td>False</td>\n",
       "      <td>False</td>\n",
       "      <td>False</td>\n",
       "      <td>False</td>\n",
       "      <td>35.662885</td>\n",
       "      <td>139.778627</td>\n",
       "    </tr>\n",
       "    <tr>\n",
       "      <th>2</th>\n",
       "      <td>22.05</td>\n",
       "      <td>12</td>\n",
       "      <td>3</td>\n",
       "      <td>102</td>\n",
       "      <td>15</td>\n",
       "      <td>0</td>\n",
       "      <td>0</td>\n",
       "      <td>False</td>\n",
       "      <td>False</td>\n",
       "      <td>True</td>\n",
       "      <td>...</td>\n",
       "      <td>False</td>\n",
       "      <td>False</td>\n",
       "      <td>False</td>\n",
       "      <td>False</td>\n",
       "      <td>False</td>\n",
       "      <td>False</td>\n",
       "      <td>False</td>\n",
       "      <td>False</td>\n",
       "      <td>35.675153</td>\n",
       "      <td>139.666255</td>\n",
       "    </tr>\n",
       "    <tr>\n",
       "      <th>3</th>\n",
       "      <td>60.48</td>\n",
       "      <td>3</td>\n",
       "      <td>3</td>\n",
       "      <td>352</td>\n",
       "      <td>4</td>\n",
       "      <td>0</td>\n",
       "      <td>0</td>\n",
       "      <td>False</td>\n",
       "      <td>True</td>\n",
       "      <td>True</td>\n",
       "      <td>...</td>\n",
       "      <td>False</td>\n",
       "      <td>False</td>\n",
       "      <td>False</td>\n",
       "      <td>False</td>\n",
       "      <td>False</td>\n",
       "      <td>False</td>\n",
       "      <td>False</td>\n",
       "      <td>False</td>\n",
       "      <td>35.700170</td>\n",
       "      <td>139.648465</td>\n",
       "    </tr>\n",
       "    <tr>\n",
       "      <th>4</th>\n",
       "      <td>39.66</td>\n",
       "      <td>1</td>\n",
       "      <td>7</td>\n",
       "      <td>379</td>\n",
       "      <td>2</td>\n",
       "      <td>0</td>\n",
       "      <td>0</td>\n",
       "      <td>False</td>\n",
       "      <td>True</td>\n",
       "      <td>True</td>\n",
       "      <td>...</td>\n",
       "      <td>False</td>\n",
       "      <td>False</td>\n",
       "      <td>False</td>\n",
       "      <td>False</td>\n",
       "      <td>False</td>\n",
       "      <td>False</td>\n",
       "      <td>False</td>\n",
       "      <td>False</td>\n",
       "      <td>35.766431</td>\n",
       "      <td>139.872321</td>\n",
       "    </tr>\n",
       "  </tbody>\n",
       "</table>\n",
       "<p>5 rows × 120 columns</p>\n",
       "</div>"
      ],
      "text/plain": [
       "      面積  所在階  建物構造  築年数_月  階建  所在階_地下  階建_地下     納戸  間取り_D  間取り_K  ...  \\\n",
       "0  20.01    1     3    117  12       0      0  False  False   True  ...   \n",
       "1  16.50    5    10    538  10       0      0  False  False  False  ...   \n",
       "2  22.05   12     3    102  15       0      0  False  False   True  ...   \n",
       "3  60.48    3     3    352   4       0      0  False   True   True  ...   \n",
       "4  39.66    1     7    379   2       0      0  False   True   True  ...   \n",
       "\n",
       "    【学校】   【銀行】  【図書館】  【デパート】  【レンタルビデオ】  【クリーニング】  【コインパーキング】  【月極駐車場】  \\\n",
       "0  False  False  False   False      False     False       False    False   \n",
       "1  False  False  False   False      False     False       False    False   \n",
       "2  False  False  False   False      False     False       False    False   \n",
       "3  False  False  False   False      False     False       False    False   \n",
       "4  False  False  False   False      False     False       False    False   \n",
       "\n",
       "          緯度          経度  \n",
       "0  35.748456  139.728800  \n",
       "1  35.662885  139.778627  \n",
       "2  35.675153  139.666255  \n",
       "3  35.700170  139.648465  \n",
       "4  35.766431  139.872321  \n",
       "\n",
       "[5 rows x 120 columns]"
      ]
     },
     "execution_count": 168,
     "metadata": {},
     "output_type": "execute_result"
    }
   ],
   "source": [
    "total_data_filled.head(5)"
   ]
  },
  {
   "cell_type": "code",
   "execution_count": 169,
   "metadata": {},
   "outputs": [
    {
     "data": {
      "text/plain": [
       "Series([], dtype: float64)"
      ]
     },
     "execution_count": 169,
     "metadata": {},
     "output_type": "execute_result"
    }
   ],
   "source": [
    "total_data_filled.select_dtypes(\"object\").sum()"
   ]
  },
  {
   "cell_type": "code",
   "execution_count": 170,
   "metadata": {},
   "outputs": [
    {
     "data": {
      "text/plain": [
       "(62732, 120)"
      ]
     },
     "execution_count": 170,
     "metadata": {},
     "output_type": "execute_result"
    }
   ],
   "source": [
    "total_data_filled.shape"
   ]
  },
  {
   "cell_type": "markdown",
   "metadata": {},
   "source": [
    "# Normalization"
   ]
  },
  {
   "cell_type": "code",
   "execution_count": 171,
   "metadata": {},
   "outputs": [
    {
     "data": {
      "text/plain": [
       "(31470, 16)"
      ]
     },
     "execution_count": 171,
     "metadata": {},
     "output_type": "execute_result"
    }
   ],
   "source": [
    "train.shape"
   ]
  },
  {
   "cell_type": "code",
   "execution_count": 172,
   "metadata": {},
   "outputs": [
    {
     "data": {
      "text/plain": [
       "(31262, 16)"
      ]
     },
     "execution_count": 172,
     "metadata": {},
     "output_type": "execute_result"
    }
   ],
   "source": [
    "test.shape"
   ]
  },
  {
   "cell_type": "code",
   "execution_count": 173,
   "metadata": {},
   "outputs": [
    {
     "data": {
      "text/plain": [
       "62732"
      ]
     },
     "execution_count": 173,
     "metadata": {},
     "output_type": "execute_result"
    }
   ],
   "source": [
    "train.shape[0] + test.shape[0]"
   ]
  },
  {
   "cell_type": "code",
   "execution_count": 174,
   "metadata": {},
   "outputs": [
    {
     "data": {
      "text/plain": [
       "(62732, 120)"
      ]
     },
     "execution_count": 174,
     "metadata": {},
     "output_type": "execute_result"
    }
   ],
   "source": [
    "total_data_filled.shape"
   ]
  },
  {
   "cell_type": "code",
   "execution_count": 175,
   "metadata": {},
   "outputs": [
    {
     "data": {
      "text/plain": [
       "(31470,)"
      ]
     },
     "execution_count": 175,
     "metadata": {},
     "output_type": "execute_result"
    }
   ],
   "source": [
    "target.shape"
   ]
  },
  {
   "cell_type": "code",
   "execution_count": 176,
   "metadata": {},
   "outputs": [
    {
     "name": "stdout",
     "output_type": "stream",
     "text": [
      "(31470, 120)\n",
      "(31470,)\n"
     ]
    }
   ],
   "source": [
    "X_train = total_data_filled[:train.shape[0]]\n",
    "y_train = target\n",
    "print(X_train.shape)\n",
    "print(y_train.shape)"
   ]
  },
  {
   "cell_type": "code",
   "execution_count": 177,
   "metadata": {},
   "outputs": [
    {
     "name": "stdout",
     "output_type": "stream",
     "text": [
      "(31262, 120)\n"
     ]
    }
   ],
   "source": [
    "X_test = total_data_filled[train.shape[0]:]\n",
    "print(X_test.shape)"
   ]
  },
  {
   "cell_type": "code",
   "execution_count": 178,
   "metadata": {},
   "outputs": [
    {
     "data": {
      "text/plain": [
       "(31262, 16)"
      ]
     },
     "execution_count": 178,
     "metadata": {},
     "output_type": "execute_result"
    }
   ],
   "source": [
    "test.shape"
   ]
  },
  {
   "cell_type": "markdown",
   "metadata": {},
   "source": [
    "# Training"
   ]
  },
  {
   "cell_type": "code",
   "execution_count": 179,
   "metadata": {},
   "outputs": [],
   "source": [
    "import xgboost as xgb\n",
    "model = xgb.XGBRegressor(n_jobs=-1,\n",
    "                         max_depth=10,\n",
    "                         n_estimators=1700,\n",
    "                         learning_rate=0.05,\n",
    "                         random_state=0,\n",
    "                         gamma=0.3,\n",
    "                         subsample=0.8,\n",
    "                        reg_lambda=4,\n",
    "                        eval_metric=\"rmse\",\n",
    "                        tree_method=\"gpu_hist\")"
   ]
  },
  {
   "cell_type": "code",
   "execution_count": 180,
   "metadata": {},
   "outputs": [],
   "source": [
    "# model.fit(X_train, y_train)"
   ]
  },
  {
   "cell_type": "code",
   "execution_count": 181,
   "metadata": {},
   "outputs": [
    {
     "ename": "XGBoostError",
     "evalue": "need to call fit or load_model beforehand",
     "output_type": "error",
     "traceback": [
      "\u001b[0;31m---------------------------------------------------------------------------\u001b[0m",
      "\u001b[0;31mXGBoostError\u001b[0m                              Traceback (most recent call last)",
      "\u001b[0;32m<ipython-input-181-33f45f2977c2>\u001b[0m in \u001b[0;36m<module>\u001b[0;34m\u001b[0m\n\u001b[0;32m----> 1\u001b[0;31m \u001b[0my_pred\u001b[0m \u001b[0;34m=\u001b[0m \u001b[0mmodel\u001b[0m\u001b[0;34m.\u001b[0m\u001b[0mpredict\u001b[0m\u001b[0;34m(\u001b[0m\u001b[0mX_test\u001b[0m\u001b[0;34m)\u001b[0m\u001b[0;34m\u001b[0m\u001b[0;34m\u001b[0m\u001b[0m\n\u001b[0m",
      "\u001b[0;32m/usr/local/lib/python3.6/dist-packages/xgboost/sklearn.py\u001b[0m in \u001b[0;36mpredict\u001b[0;34m(self, data, output_margin, ntree_limit, validate_features)\u001b[0m\n\u001b[1;32m    451\u001b[0m         \u001b[0;32mif\u001b[0m \u001b[0mntree_limit\u001b[0m \u001b[0;32mis\u001b[0m \u001b[0;32mNone\u001b[0m\u001b[0;34m:\u001b[0m\u001b[0;34m\u001b[0m\u001b[0;34m\u001b[0m\u001b[0m\n\u001b[1;32m    452\u001b[0m             \u001b[0mntree_limit\u001b[0m \u001b[0;34m=\u001b[0m \u001b[0mgetattr\u001b[0m\u001b[0;34m(\u001b[0m\u001b[0mself\u001b[0m\u001b[0;34m,\u001b[0m \u001b[0;34m\"best_ntree_limit\"\u001b[0m\u001b[0;34m,\u001b[0m \u001b[0;36m0\u001b[0m\u001b[0;34m)\u001b[0m\u001b[0;34m\u001b[0m\u001b[0;34m\u001b[0m\u001b[0m\n\u001b[0;32m--> 453\u001b[0;31m         return self.get_booster().predict(test_dmatrix,\n\u001b[0m\u001b[1;32m    454\u001b[0m                                           \u001b[0moutput_margin\u001b[0m\u001b[0;34m=\u001b[0m\u001b[0moutput_margin\u001b[0m\u001b[0;34m,\u001b[0m\u001b[0;34m\u001b[0m\u001b[0;34m\u001b[0m\u001b[0m\n\u001b[1;32m    455\u001b[0m                                           \u001b[0mntree_limit\u001b[0m\u001b[0;34m=\u001b[0m\u001b[0mntree_limit\u001b[0m\u001b[0;34m,\u001b[0m\u001b[0;34m\u001b[0m\u001b[0;34m\u001b[0m\u001b[0m\n",
      "\u001b[0;32m/usr/local/lib/python3.6/dist-packages/xgboost/sklearn.py\u001b[0m in \u001b[0;36mget_booster\u001b[0;34m(self)\u001b[0m\n\u001b[1;32m    191\u001b[0m         \"\"\"\n\u001b[1;32m    192\u001b[0m         \u001b[0;32mif\u001b[0m \u001b[0mself\u001b[0m\u001b[0;34m.\u001b[0m\u001b[0m_Booster\u001b[0m \u001b[0;32mis\u001b[0m \u001b[0;32mNone\u001b[0m\u001b[0;34m:\u001b[0m\u001b[0;34m\u001b[0m\u001b[0;34m\u001b[0m\u001b[0m\n\u001b[0;32m--> 193\u001b[0;31m             \u001b[0;32mraise\u001b[0m \u001b[0mXGBoostError\u001b[0m\u001b[0;34m(\u001b[0m\u001b[0;34m'need to call fit or load_model beforehand'\u001b[0m\u001b[0;34m)\u001b[0m\u001b[0;34m\u001b[0m\u001b[0;34m\u001b[0m\u001b[0m\n\u001b[0m\u001b[1;32m    194\u001b[0m         \u001b[0;32mreturn\u001b[0m \u001b[0mself\u001b[0m\u001b[0;34m.\u001b[0m\u001b[0m_Booster\u001b[0m\u001b[0;34m\u001b[0m\u001b[0;34m\u001b[0m\u001b[0m\n\u001b[1;32m    195\u001b[0m \u001b[0;34m\u001b[0m\u001b[0m\n",
      "\u001b[0;31mXGBoostError\u001b[0m: need to call fit or load_model beforehand"
     ]
    }
   ],
   "source": [
    "y_pred = model.predict(X_test)"
   ]
  },
  {
   "cell_type": "code",
   "execution_count": null,
   "metadata": {},
   "outputs": [],
   "source": [
    "smpsb_df = pd.read_csv(\"./data/sample_submit.csv\", header=None)"
   ]
  },
  {
   "cell_type": "code",
   "execution_count": null,
   "metadata": {},
   "outputs": [],
   "source": [
    "smpsb_df.shape"
   ]
  },
  {
   "cell_type": "code",
   "execution_count": null,
   "metadata": {},
   "outputs": [],
   "source": [
    "y_pred.shape"
   ]
  },
  {
   "cell_type": "code",
   "execution_count": null,
   "metadata": {},
   "outputs": [],
   "source": [
    "smpsb_df.head()"
   ]
  },
  {
   "cell_type": "code",
   "execution_count": null,
   "metadata": {},
   "outputs": [],
   "source": [
    "smpsb_df[1] = y_pred"
   ]
  },
  {
   "cell_type": "code",
   "execution_count": null,
   "metadata": {},
   "outputs": [],
   "source": [
    "smpsb_df.head()"
   ]
  },
  {
   "cell_type": "code",
   "execution_count": null,
   "metadata": {},
   "outputs": [],
   "source": [
    "smpsb_df.to_csv(\"xgboost3.csv\", index=None, header=None)"
   ]
  },
  {
   "cell_type": "code",
   "execution_count": null,
   "metadata": {},
   "outputs": [],
   "source": [
    "# plot feature importance\n",
    "from xgboost import plot_importance\n",
    "plt.figure(figsize=(20, 10))\n",
    "plot_importance(model, max_num_features=30)\n",
    "plt.savefig(\"feature_importance_1.png\")\n",
    "plt.show()"
   ]
  },
  {
   "cell_type": "code",
   "execution_count": null,
   "metadata": {},
   "outputs": [],
   "source": [
    "def my_plot_importance(booster, figsize, **kwargs): \n",
    "    from matplotlib import pyplot as plt\n",
    "    from xgboost import plot_importance\n",
    "    fig, ax = plt.subplots(1,1,figsize=figsize)\n",
    "    return plot_importance(booster=booster, ax=ax, **kwargs)\n"
   ]
  },
  {
   "cell_type": "code",
   "execution_count": null,
   "metadata": {},
   "outputs": [],
   "source": [
    "my_plot_importance(model, (20, 10), max_num_features=60)\n",
    "plt.savefig(\"feature_importance_1.png\")"
   ]
  },
  {
   "cell_type": "markdown",
   "metadata": {},
   "source": [
    "# Hyperopt"
   ]
  },
  {
   "cell_type": "code",
   "execution_count": 182,
   "metadata": {},
   "outputs": [],
   "source": [
    "from sklearn.model_selection import train_test_split\n",
    "from hyperopt import tpe, hp, fmin\n",
    "from sklearn.metrics import mean_squared_error"
   ]
  },
  {
   "cell_type": "code",
   "execution_count": 183,
   "metadata": {},
   "outputs": [],
   "source": [
    "X_train, X_test, y_train, y_test = train_test_split(X_train, y_train, test_size=0.2)"
   ]
  },
  {
   "cell_type": "code",
   "execution_count": 190,
   "metadata": {},
   "outputs": [
    {
     "data": {
      "text/plain": [
       "array([[41.04, 3, 3, ..., False, 35.7443702, 139.7786272],\n",
       "       [15.56, 2, 10, ..., False, 35.7678472, 139.7727593],\n",
       "       [64.33, 7, 4, ..., False, 35.748202, 139.7824618],\n",
       "       ...,\n",
       "       [48.44, 1, 4, ..., False, 35.7781362, 139.7304487],\n",
       "       [14.85, 2, 3, ..., False, 35.6413054, 139.69049930000003],\n",
       "       [42.28, 0, 10, ..., False, 35.7486, 139.6522237]], dtype=object)"
      ]
     },
     "execution_count": 190,
     "metadata": {},
     "output_type": "execute_result"
    }
   ],
   "source": [
    "X_train.values"
   ]
  },
  {
   "cell_type": "code",
   "execution_count": 191,
   "metadata": {},
   "outputs": [
    {
     "data": {
      "text/plain": [
       "array([111000,  54000, 140000, ..., 135000,  65000, 115000])"
      ]
     },
     "execution_count": 191,
     "metadata": {},
     "output_type": "execute_result"
    }
   ],
   "source": [
    "y_train.values"
   ]
  },
  {
   "cell_type": "code",
   "execution_count": 193,
   "metadata": {},
   "outputs": [],
   "source": [
    "import os\n",
    "os.environ['OMP_NUM_THREADS'] = \"1\""
   ]
  },
  {
   "cell_type": "code",
   "execution_count": 194,
   "metadata": {},
   "outputs": [],
   "source": [
    "from hpsklearn import HyperoptEstimator, xgboost_regression"
   ]
  },
  {
   "cell_type": "code",
   "execution_count": 197,
   "metadata": {},
   "outputs": [],
   "source": [
    "estim = HyperoptEstimator(regressor=xgboost_regression('myXGB'), verbose=-1)"
   ]
  },
  {
   "cell_type": "code",
   "execution_count": 198,
   "metadata": {},
   "outputs": [
    {
     "name": "stdout",
     "output_type": "stream",
     "text": [
      "Will use the last 0.2 portion of samples for validation\n",
      "Fitting MinMaxScaler(copy=True, feature_range=(-1.0, 1.0)) to X of shape (20140, 120)\n",
      "Transforming Xfit (20140, 120)                     \n",
      "Transforming Xval (5036, 120)                      \n",
      "Training learner XGBRegressor(base_score=0.5, booster='gbtree',\n",
      "             colsample_bylevel=0.8890139042078656, colsample_bynode=1,\n",
      "             colsample_bytree=0.568440056710402, gamma=0.002314443074501631,\n",
      "             importance_type='gain', learning_rate=0.10780341591905461,\n",
      "             max_delta_step=0, max_depth=6, min_child_weight=1, missing=None,\n",
      "             n_estimators=5200, n_jobs=1, nthread=None, objective='reg:linear',\n",
      "             random_state=0, reg_alpha=0.001196420509187308,\n",
      "             reg_lambda=1.5838537725553767, scale_pos_weight=1, seed=0,\n",
      "             silent=None, subsample=0.5782191472704798, verbosity=1) on X/EX of dimension (20140, 120)\n",
      "[03:41:43] WARNING: /workspace/src/objective/regression_obj.cu:152: reg:linear is now deprecated in favor of reg:squarederror.\n",
      "Scoring on X/EX validation of shape (5036, 120)    \n",
      "OK trial with R2 score 9.15e-01                    \n",
      "100%|██████████| 1/1 [05:25<00:00, 325.22s/it, best loss: 0.08514696567363478]\n",
      "Will use the last 0.2 portion of samples for validation\n",
      "Fitting Normalizer(copy=True, norm='l2') to X of shape (20140, 120)\n",
      "Transforming Xfit (20140, 120)                     \n",
      "Transforming Xval (5036, 120)                      \n",
      "Training learner XGBRegressor(base_score=0.5, booster='gbtree',\n",
      "             colsample_bylevel=0.871300523337629, colsample_bynode=1,\n",
      "             colsample_bytree=0.6129756564965656, gamma=0.35914360539816975,\n",
      "             importance_type='gain', learning_rate=0.23595599219343058,\n",
      "             max_delta_step=0, max_depth=5, min_child_weight=1, missing=None,\n",
      "             n_estimators=5200, n_jobs=1, nthread=None, objective='reg:linear',\n",
      "             random_state=0, reg_alpha=0.21035552527179255,\n",
      "             reg_lambda=3.0034697801247363, scale_pos_weight=1, seed=1,\n",
      "             silent=None, subsample=0.8331796799618638, verbosity=1) on X/EX of dimension (20140, 120)\n",
      "[03:47:09] WARNING: /workspace/src/objective/regression_obj.cu:152: reg:linear is now deprecated in favor of reg:squarederror.\n",
      "Scoring on X/EX validation of shape (5036, 120)    \n",
      "OK trial with R2 score 8.50e-01                    \n",
      "100%|██████████| 1/1 [05:19<00:00, 319.49s/it, best loss: 0.08514696567363478]\n",
      "Will use the last 0.2 portion of samples for validation\n",
      "Fitting PCA(copy=True, iterated_power='auto', n_components=8, random_state=None,\n",
      "    svd_solver='auto', tol=0.0, whiten=True) to X of shape (20140, 120)\n",
      "Limited PCA n_components at 8                      \n",
      "Transforming Xfit (20140, 120)                     \n",
      "Transforming Xval (5036, 120)                      \n",
      "Training learner XGBRegressor(base_score=0.5, booster='gbtree',\n",
      "             colsample_bylevel=0.5315976948099934, colsample_bynode=1,\n",
      "             colsample_bytree=0.5232088748309618, gamma=0.00034348365967512703,\n",
      "             importance_type='gain', learning_rate=0.014626322245302466,\n",
      "             max_delta_step=0, max_depth=4, min_child_weight=3, missing=None,\n",
      "             n_estimators=3800, n_jobs=1, nthread=None, objective='reg:linear',\n",
      "             random_state=0, reg_alpha=0.12237318668945794,\n",
      "             reg_lambda=2.107034662574238, scale_pos_weight=1, seed=0,\n",
      "             silent=None, subsample=0.8047152032260227, verbosity=1) on X/EX of dimension (20140, 8)\n",
      "[03:52:28] WARNING: /workspace/src/objective/regression_obj.cu:152: reg:linear is now deprecated in favor of reg:squarederror.\n",
      "Scoring on X/EX validation of shape (5036, 8)      \n",
      "OK trial with R2 score 7.85e-01                    \n",
      "100%|██████████| 1/1 [00:22<00:00, 22.07s/it, best loss: 0.08514696567363478]\n",
      "Will use the last 0.2 portion of samples for validation\n",
      "Fitting StandardScaler(copy=True, with_mean=True, with_std=True) to X of shape (20140, 120)\n",
      "Transforming Xfit (20140, 120)                     \n",
      "Transforming Xval (5036, 120)                      \n",
      "Training learner XGBRegressor(base_score=0.5, booster='gbtree',\n",
      "             colsample_bylevel=0.786975132955763, colsample_bynode=1,\n",
      "             colsample_bytree=0.9271203101401246, gamma=0.08686401429735163,\n",
      "             importance_type='gain', learning_rate=0.33279989837195806,\n",
      "             max_delta_step=0, max_depth=7, min_child_weight=30, missing=None,\n",
      "             n_estimators=5200, n_jobs=1, nthread=None, objective='reg:linear',\n",
      "             random_state=0, reg_alpha=0.19852004956922087,\n",
      "             reg_lambda=1.8135873901538322, scale_pos_weight=1, seed=4,\n",
      "             silent=None, subsample=0.845326513992063, verbosity=1) on X/EX of dimension (20140, 120)\n",
      "[03:52:50] WARNING: /workspace/src/objective/regression_obj.cu:152: reg:linear is now deprecated in favor of reg:squarederror.\n",
      "Scoring on X/EX validation of shape (5036, 120)    \n",
      "OK trial with R2 score 8.86e-01                    \n",
      "100%|██████████| 1/1 [06:29<00:00, 389.23s/it, best loss: 0.08514696567363478]\n",
      "Will use the last 0.2 portion of samples for validation\n",
      "Fitting PCA(copy=True, iterated_power='auto', n_components=16, random_state=None,\n",
      "    svd_solver='auto', tol=0.0, whiten=True) to X of shape (20140, 120)\n",
      "Limited PCA n_components at 16                     \n",
      "Transforming Xfit (20140, 120)                     \n",
      "Transforming Xval (5036, 120)                      \n",
      "Training learner XGBRegressor(base_score=0.5, booster='gbtree',\n",
      "             colsample_bylevel=0.7940076079727937, colsample_bynode=1,\n",
      "             colsample_bytree=0.9456091853392434, gamma=0.0013865087289522263,\n",
      "             importance_type='gain', learning_rate=0.0008251736042673561,\n",
      "             max_delta_step=0, max_depth=9, min_child_weight=8, missing=None,\n",
      "             n_estimators=2600, n_jobs=1, nthread=None, objective='reg:linear',\n",
      "             random_state=0, reg_alpha=0.019031239310202355,\n",
      "             reg_lambda=2.237255934055132, scale_pos_weight=1, seed=2,\n",
      "             silent=None, subsample=0.988389246273803, verbosity=1) on X/EX of dimension (20140, 16)\n",
      "[03:59:20] WARNING: /workspace/src/objective/regression_obj.cu:152: reg:linear is now deprecated in favor of reg:squarederror.\n",
      "Scoring on X/EX validation of shape (5036, 16)     \n",
      "OK trial with R2 score 7.50e-01                    \n",
      "100%|██████████| 1/1 [01:43<00:00, 103.04s/it, best loss: 0.08514696567363478]\n",
      "Will use the last 0.2 portion of samples for validation\n",
      "Training learner XGBRegressor(base_score=0.5, booster='gbtree',\n",
      "             colsample_bylevel=0.911092530342981, colsample_bynode=1,\n",
      "             colsample_bytree=0.5156256178175407, gamma=0.16005518176462002,\n",
      "             importance_type='gain', learning_rate=0.43097264245610817,\n",
      "             max_delta_step=0, max_depth=4, min_child_weight=5, missing=None,\n",
      "             n_estimators=5400, n_jobs=1, nthread=None, objective='reg:linear',\n",
      "             random_state=0, reg_alpha=0.4746340703957932,\n",
      "             reg_lambda=1.575874816590046, scale_pos_weight=1, seed=2,\n",
      "             silent=None, subsample=0.7588186791176379, verbosity=1) on X/EX of dimension (20140, 120)\n",
      "[04:01:03] WARNING: /workspace/src/objective/regression_obj.cu:152: reg:linear is now deprecated in favor of reg:squarederror.\n",
      "Scoring on X/EX validation of shape (5036, 120)    \n",
      "OK trial with R2 score 8.83e-01                    \n",
      "100%|██████████| 1/1 [03:05<00:00, 185.13s/it, best loss: 0.08514696567363478]\n",
      "Will use the last 0.2 portion of samples for validation\n",
      "Training learner XGBRegressor(base_score=0.5, booster='gbtree',\n",
      "             colsample_bylevel=0.8213232667234125, colsample_bynode=1,\n",
      "             colsample_bytree=0.93124805776453, gamma=0.001462553869842594,\n",
      "             importance_type='gain', learning_rate=0.0001344002834155821,\n",
      "             max_delta_step=0, max_depth=8, min_child_weight=1, missing=None,\n",
      "             n_estimators=5200, n_jobs=1, nthread=None, objective='reg:linear',\n",
      "             random_state=0, reg_alpha=0.0004391235641471001,\n",
      "             reg_lambda=1.3543046227941702, scale_pos_weight=1, seed=1,\n",
      "             silent=None, subsample=0.5406512983779223, verbosity=1) on X/EX of dimension (20140, 120)\n",
      "[04:04:08] WARNING: /workspace/src/objective/regression_obj.cu:152: reg:linear is now deprecated in favor of reg:squarederror.\n",
      "Scoring on X/EX validation of shape (5036, 120)    \n",
      "OK trial with R2 score -4.31e-02                   \n",
      "100%|██████████| 1/1 [09:23<00:00, 563.31s/it, best loss: 0.08514696567363478]\n",
      "Will use the last 0.2 portion of samples for validation\n",
      "Fitting PCA(copy=True, iterated_power='auto', n_components=40, random_state=None,\n",
      "    svd_solver='auto', tol=0.0, whiten=False) to X of shape (20140, 120)\n",
      "Limited PCA n_components at 40                     \n",
      "Transforming Xfit (20140, 120)                     \n",
      "Transforming Xval (5036, 120)                      \n",
      "Training learner XGBRegressor(base_score=0.5, booster='gbtree',\n",
      "             colsample_bylevel=0.9952481366633141, colsample_bynode=1,\n",
      "             colsample_bytree=0.6092985251409653, gamma=0.0021569565977011974,\n",
      "             importance_type='gain', learning_rate=0.021334654062014926,\n",
      "             max_delta_step=0, max_depth=8, min_child_weight=5, missing=None,\n",
      "             n_estimators=3000, n_jobs=1, nthread=None, objective='reg:linear',\n",
      "             random_state=0, reg_alpha=0.0009288922679559276,\n",
      "             reg_lambda=2.3078416112567464, scale_pos_weight=1, seed=0,\n",
      "             silent=None, subsample=0.782993576394391, verbosity=1) on X/EX of dimension (20140, 40)\n",
      "[04:13:31] WARNING: /workspace/src/objective/regression_obj.cu:152: reg:linear is now deprecated in favor of reg:squarederror.\n",
      "Scoring on X/EX validation of shape (5036, 40)     \n",
      "OK trial with R2 score 8.49e-01                    \n",
      "100%|██████████| 1/1 [03:15<00:00, 195.12s/it, best loss: 0.08514696567363478]\n",
      "Will use the last 0.2 portion of samples for validation\n",
      "Fitting Normalizer(copy=True, norm='l2') to X of shape (20140, 120)\n",
      "Transforming Xfit (20140, 120)                     \n",
      "Transforming Xval (5036, 120)                      \n",
      "Training learner XGBRegressor(base_score=0.5, booster='gbtree',\n",
      "             colsample_bylevel=0.9375685046185914, colsample_bynode=1,\n",
      "             colsample_bytree=0.6727114898618174, gamma=0.010641729800854772,\n",
      "             importance_type='gain', learning_rate=0.2919378551351893,\n",
      "             max_delta_step=0, max_depth=8, min_child_weight=23, missing=None,\n",
      "             n_estimators=400, n_jobs=1, nthread=None, objective='reg:linear',\n",
      "             random_state=0, reg_alpha=0.030827827084795496,\n",
      "             reg_lambda=1.012377657874828, scale_pos_weight=1, seed=3,\n",
      "             silent=None, subsample=0.9455982855272274, verbosity=1) on X/EX of dimension (20140, 120)\n",
      "[04:16:46] WARNING: /workspace/src/objective/regression_obj.cu:152: reg:linear is now deprecated in favor of reg:squarederror.\n",
      "Scoring on X/EX validation of shape (5036, 120)    \n",
      "OK trial with R2 score 8.27e-01                    \n",
      "100%|██████████| 1/1 [00:41<00:00, 41.60s/it, best loss: 0.08514696567363478]\n",
      "Will use the last 0.2 portion of samples for validation\n",
      "Fitting MinMaxScaler(copy=True, feature_range=(-1.0, 1.0)) to X of shape (20140, 120)\n",
      "Transforming Xfit (20140, 120)                     \n",
      "Transforming Xval (5036, 120)                      \n",
      "Training learner XGBRegressor(base_score=0.5, booster='gbtree',\n",
      "             colsample_bylevel=0.7534596740482744, colsample_bynode=1,\n",
      "             colsample_bytree=0.7022839238662624, gamma=0.0036312665797034755,\n",
      "             importance_type='gain', learning_rate=0.018950854458860026,\n",
      "             max_delta_step=0, max_depth=2, min_child_weight=52, missing=None,\n",
      "             n_estimators=4800, n_jobs=1, nthread=None, objective='reg:linear',\n",
      "             random_state=0, reg_alpha=0.0402734988674808,\n",
      "             reg_lambda=3.0915550773465763, scale_pos_weight=1, seed=4,\n",
      "             silent=None, subsample=0.6165595315409975, verbosity=1) on X/EX of dimension (20140, 120)\n",
      "[04:17:28] WARNING: /workspace/src/objective/regression_obj.cu:152: reg:linear is now deprecated in favor of reg:squarederror.\n",
      "Scoring on X/EX validation of shape (5036, 120)    \n",
      "OK trial with R2 score 8.69e-01                    \n",
      "100%|██████████| 1/1 [01:54<00:00, 114.81s/it, best loss: 0.08514696567363478]\n",
      "Fitting MinMaxScaler(copy=True, feature_range=(-1.0, 1.0)) to X of shape (25176, 120)\n",
      "Transforming Xfit (25176, 120)\n",
      "Training learner XGBRegressor(base_score=0.5, booster='gbtree',\n",
      "             colsample_bylevel=0.8890139042078656, colsample_bynode=1,\n",
      "             colsample_bytree=0.568440056710402, gamma=0.002314443074501631,\n",
      "             importance_type='gain', learning_rate=0.10780341591905461,\n",
      "             max_delta_step=0, max_depth=6, min_child_weight=1, missing=nan,\n",
      "             n_estimators=5200, n_jobs=1, nthread=None, objective='reg:linear',\n",
      "             random_state=0, reg_alpha=0.001196420509187308,\n",
      "             reg_lambda=1.5838537725553767, scale_pos_weight=1, seed=0,\n",
      "             silent=None, subsample=0.5782191472704798, verbosity=1) on X/EX of dimension (25176, 120)\n",
      "[04:19:23] WARNING: /workspace/src/objective/regression_obj.cu:152: reg:linear is now deprecated in favor of reg:squarederror.\n"
     ]
    }
   ],
   "source": [
    "estim.fit(X_train.values, y_train.values)"
   ]
  },
  {
   "cell_type": "code",
   "execution_count": 199,
   "metadata": {},
   "outputs": [
    {
     "name": "stdout",
     "output_type": "stream",
     "text": [
      "Fitting MinMaxScaler(copy=True, feature_range=(-1.0, 1.0)) to X of shape (6294, 120)\n",
      "Transforming Xfit (6294, 120)\n",
      "0.4971694246942049\n"
     ]
    }
   ],
   "source": [
    "print(estim.score(X_test, y_test))"
   ]
  },
  {
   "cell_type": "code",
   "execution_count": 206,
   "metadata": {},
   "outputs": [
    {
     "name": "stdout",
     "output_type": "stream",
     "text": [
      "{'learner': XGBRegressor(base_score=0.5, booster='gbtree',\n",
      "             colsample_bylevel=0.8890139042078656, colsample_bynode=1,\n",
      "             colsample_bytree=0.568440056710402, gamma=0.002314443074501631,\n",
      "             importance_type='gain', learning_rate=0.10780341591905461,\n",
      "             max_delta_step=0, max_depth=6, min_child_weight=1, missing=nan,\n",
      "             n_estimators=5200, n_jobs=1, nthread=None, objective='reg:linear',\n",
      "             random_state=0, reg_alpha=0.001196420509187308,\n",
      "             reg_lambda=1.5838537725553767, scale_pos_weight=1, seed=0,\n",
      "             silent=None, subsample=0.5782191472704798, verbosity=1), 'preprocs': (MinMaxScaler(copy=True, feature_range=(-1.0, 1.0)),), 'ex_preprocs': ()}\n"
     ]
    }
   ],
   "source": [
    "print(estim.best_model())"
   ]
  },
  {
   "cell_type": "code",
   "execution_count": 202,
   "metadata": {},
   "outputs": [
    {
     "name": "stdout",
     "output_type": "stream",
     "text": [
      "Fitting MinMaxScaler(copy=True, feature_range=(-1.0, 1.0)) to X of shape (6294, 120)\n",
      "Transforming Xfit (6294, 120)\n"
     ]
    }
   ],
   "source": [
    "y_pred = estim.predict(X_test)"
   ]
  },
  {
   "cell_type": "code",
   "execution_count": 203,
   "metadata": {},
   "outputs": [],
   "source": [
    "from sklearn.metrics import mean_squared_error"
   ]
  },
  {
   "cell_type": "code",
   "execution_count": 205,
   "metadata": {
    "scrolled": true
   },
   "outputs": [
    {
     "data": {
      "text/plain": [
       "54296.24908825792"
      ]
     },
     "execution_count": 205,
     "metadata": {},
     "output_type": "execute_result"
    }
   ],
   "source": [
    "mean_squared_error(y_test, y_pred)**0.5"
   ]
  },
  {
   "cell_type": "markdown",
   "metadata": {},
   "source": [
    "# Training"
   ]
  },
  {
   "cell_type": "code",
   "execution_count": 207,
   "metadata": {},
   "outputs": [
    {
     "name": "stdout",
     "output_type": "stream",
     "text": [
      "(31470, 120)\n",
      "(31470,)\n"
     ]
    }
   ],
   "source": [
    "X_train = total_data_filled[:train.shape[0]]\n",
    "y_train = target\n",
    "print(X_train.shape)\n",
    "print(y_train.shape)"
   ]
  },
  {
   "cell_type": "code",
   "execution_count": 208,
   "metadata": {},
   "outputs": [
    {
     "name": "stdout",
     "output_type": "stream",
     "text": [
      "(31262, 120)\n"
     ]
    }
   ],
   "source": [
    "X_test = total_data_filled[train.shape[0]:]\n",
    "print(X_test.shape)"
   ]
  },
  {
   "cell_type": "code",
   "execution_count": 178,
   "metadata": {},
   "outputs": [
    {
     "data": {
      "text/plain": [
       "(31262, 16)"
      ]
     },
     "execution_count": 178,
     "metadata": {},
     "output_type": "execute_result"
    }
   ],
   "source": [
    "test.shape"
   ]
  },
  {
   "cell_type": "markdown",
   "metadata": {},
   "source": [
    "# Scaling"
   ]
  },
  {
   "cell_type": "code",
   "execution_count": 218,
   "metadata": {},
   "outputs": [
    {
     "data": {
      "text/html": [
       "<div>\n",
       "<style scoped>\n",
       "    .dataframe tbody tr th:only-of-type {\n",
       "        vertical-align: middle;\n",
       "    }\n",
       "\n",
       "    .dataframe tbody tr th {\n",
       "        vertical-align: top;\n",
       "    }\n",
       "\n",
       "    .dataframe thead th {\n",
       "        text-align: right;\n",
       "    }\n",
       "</style>\n",
       "<table border=\"1\" class=\"dataframe\">\n",
       "  <thead>\n",
       "    <tr style=\"text-align: right;\">\n",
       "      <th></th>\n",
       "      <th>面積</th>\n",
       "      <th>所在階</th>\n",
       "      <th>建物構造</th>\n",
       "      <th>築年数_月</th>\n",
       "      <th>階建</th>\n",
       "      <th>所在階_地下</th>\n",
       "      <th>階建_地下</th>\n",
       "      <th>納戸</th>\n",
       "      <th>間取り_D</th>\n",
       "      <th>間取り_K</th>\n",
       "      <th>...</th>\n",
       "      <th>【学校】</th>\n",
       "      <th>【銀行】</th>\n",
       "      <th>【図書館】</th>\n",
       "      <th>【デパート】</th>\n",
       "      <th>【レンタルビデオ】</th>\n",
       "      <th>【クリーニング】</th>\n",
       "      <th>【コインパーキング】</th>\n",
       "      <th>【月極駐車場】</th>\n",
       "      <th>緯度</th>\n",
       "      <th>経度</th>\n",
       "    </tr>\n",
       "  </thead>\n",
       "  <tbody>\n",
       "    <tr>\n",
       "      <th>0</th>\n",
       "      <td>-0.928746</td>\n",
       "      <td>-0.962264</td>\n",
       "      <td>-0.4</td>\n",
       "      <td>-0.980875</td>\n",
       "      <td>-0.614035</td>\n",
       "      <td>-1.0</td>\n",
       "      <td>-1.0</td>\n",
       "      <td>-1.0</td>\n",
       "      <td>-1.0</td>\n",
       "      <td>1.0</td>\n",
       "      <td>...</td>\n",
       "      <td>-1.0</td>\n",
       "      <td>-1.0</td>\n",
       "      <td>-1.0</td>\n",
       "      <td>-1.0</td>\n",
       "      <td>-1.0</td>\n",
       "      <td>-1.0</td>\n",
       "      <td>-1.0</td>\n",
       "      <td>-1.0</td>\n",
       "      <td>0.510175</td>\n",
       "      <td>-0.068349</td>\n",
       "    </tr>\n",
       "    <tr>\n",
       "      <th>1</th>\n",
       "      <td>-0.945254</td>\n",
       "      <td>-0.811321</td>\n",
       "      <td>1.0</td>\n",
       "      <td>-0.912056</td>\n",
       "      <td>-0.684211</td>\n",
       "      <td>-1.0</td>\n",
       "      <td>-1.0</td>\n",
       "      <td>-1.0</td>\n",
       "      <td>-1.0</td>\n",
       "      <td>-1.0</td>\n",
       "      <td>...</td>\n",
       "      <td>-1.0</td>\n",
       "      <td>-1.0</td>\n",
       "      <td>-1.0</td>\n",
       "      <td>-1.0</td>\n",
       "      <td>-1.0</td>\n",
       "      <td>-1.0</td>\n",
       "      <td>-1.0</td>\n",
       "      <td>-1.0</td>\n",
       "      <td>-0.105126</td>\n",
       "      <td>0.216704</td>\n",
       "    </tr>\n",
       "    <tr>\n",
       "      <th>2</th>\n",
       "      <td>-0.919152</td>\n",
       "      <td>-0.547170</td>\n",
       "      <td>-0.4</td>\n",
       "      <td>-0.983327</td>\n",
       "      <td>-0.508772</td>\n",
       "      <td>-1.0</td>\n",
       "      <td>-1.0</td>\n",
       "      <td>-1.0</td>\n",
       "      <td>-1.0</td>\n",
       "      <td>1.0</td>\n",
       "      <td>...</td>\n",
       "      <td>-1.0</td>\n",
       "      <td>-1.0</td>\n",
       "      <td>-1.0</td>\n",
       "      <td>-1.0</td>\n",
       "      <td>-1.0</td>\n",
       "      <td>-1.0</td>\n",
       "      <td>-1.0</td>\n",
       "      <td>-1.0</td>\n",
       "      <td>-0.016907</td>\n",
       "      <td>-0.426154</td>\n",
       "    </tr>\n",
       "    <tr>\n",
       "      <th>3</th>\n",
       "      <td>-0.738407</td>\n",
       "      <td>-0.886792</td>\n",
       "      <td>-0.4</td>\n",
       "      <td>-0.942460</td>\n",
       "      <td>-0.894737</td>\n",
       "      <td>-1.0</td>\n",
       "      <td>-1.0</td>\n",
       "      <td>-1.0</td>\n",
       "      <td>1.0</td>\n",
       "      <td>1.0</td>\n",
       "      <td>...</td>\n",
       "      <td>-1.0</td>\n",
       "      <td>-1.0</td>\n",
       "      <td>-1.0</td>\n",
       "      <td>-1.0</td>\n",
       "      <td>-1.0</td>\n",
       "      <td>-1.0</td>\n",
       "      <td>-1.0</td>\n",
       "      <td>-1.0</td>\n",
       "      <td>0.162972</td>\n",
       "      <td>-0.527928</td>\n",
       "    </tr>\n",
       "    <tr>\n",
       "      <th>4</th>\n",
       "      <td>-0.836328</td>\n",
       "      <td>-0.962264</td>\n",
       "      <td>0.4</td>\n",
       "      <td>-0.938047</td>\n",
       "      <td>-0.964912</td>\n",
       "      <td>-1.0</td>\n",
       "      <td>-1.0</td>\n",
       "      <td>-1.0</td>\n",
       "      <td>1.0</td>\n",
       "      <td>1.0</td>\n",
       "      <td>...</td>\n",
       "      <td>-1.0</td>\n",
       "      <td>-1.0</td>\n",
       "      <td>-1.0</td>\n",
       "      <td>-1.0</td>\n",
       "      <td>-1.0</td>\n",
       "      <td>-1.0</td>\n",
       "      <td>-1.0</td>\n",
       "      <td>-1.0</td>\n",
       "      <td>0.639423</td>\n",
       "      <td>0.752704</td>\n",
       "    </tr>\n",
       "  </tbody>\n",
       "</table>\n",
       "<p>5 rows × 120 columns</p>\n",
       "</div>"
      ],
      "text/plain": [
       "         面積       所在階  建物構造     築年数_月        階建  所在階_地下  階建_地下   納戸  間取り_D  \\\n",
       "0 -0.928746 -0.962264  -0.4 -0.980875 -0.614035    -1.0   -1.0 -1.0   -1.0   \n",
       "1 -0.945254 -0.811321   1.0 -0.912056 -0.684211    -1.0   -1.0 -1.0   -1.0   \n",
       "2 -0.919152 -0.547170  -0.4 -0.983327 -0.508772    -1.0   -1.0 -1.0   -1.0   \n",
       "3 -0.738407 -0.886792  -0.4 -0.942460 -0.894737    -1.0   -1.0 -1.0    1.0   \n",
       "4 -0.836328 -0.962264   0.4 -0.938047 -0.964912    -1.0   -1.0 -1.0    1.0   \n",
       "\n",
       "   間取り_K  ...  【学校】  【銀行】  【図書館】  【デパート】  【レンタルビデオ】  【クリーニング】  【コインパーキング】  \\\n",
       "0    1.0  ...  -1.0  -1.0   -1.0    -1.0       -1.0      -1.0        -1.0   \n",
       "1   -1.0  ...  -1.0  -1.0   -1.0    -1.0       -1.0      -1.0        -1.0   \n",
       "2    1.0  ...  -1.0  -1.0   -1.0    -1.0       -1.0      -1.0        -1.0   \n",
       "3    1.0  ...  -1.0  -1.0   -1.0    -1.0       -1.0      -1.0        -1.0   \n",
       "4    1.0  ...  -1.0  -1.0   -1.0    -1.0       -1.0      -1.0        -1.0   \n",
       "\n",
       "   【月極駐車場】        緯度        経度  \n",
       "0     -1.0  0.510175 -0.068349  \n",
       "1     -1.0 -0.105126  0.216704  \n",
       "2     -1.0 -0.016907 -0.426154  \n",
       "3     -1.0  0.162972 -0.527928  \n",
       "4     -1.0  0.639423  0.752704  \n",
       "\n",
       "[5 rows x 120 columns]"
      ]
     },
     "execution_count": 218,
     "metadata": {},
     "output_type": "execute_result"
    }
   ],
   "source": [
    "feature_names = list(X_train.columns)\n",
    "\n",
    "from sklearn.preprocessing import MinMaxScaler\n",
    "\n",
    "scaler = MinMaxScaler(feature_range=(-1, 1))\n",
    "scaler.fit(X_train)\n",
    "X_train = scaler.transform(X_train)\n",
    "X_test = scaler.transform(X_test)\n",
    "\n",
    "X_train = pd.DataFrame(X_train, columns=feature_names)\n",
    "X_test = pd.DataFrame(X_test, columns=feature_names)\n",
    "X_train.head()"
   ]
  },
  {
   "cell_type": "markdown",
   "metadata": {},
   "source": [
    "# Training"
   ]
  },
  {
   "cell_type": "code",
   "execution_count": 219,
   "metadata": {},
   "outputs": [],
   "source": [
    "import xgboost as xgb\n",
    "# model = xgb.XGBRegressor(n_jobs=-1,\n",
    "#                          max_depth=10,\n",
    "#                          n_estimators=1700,\n",
    "#                          learning_rate=0.05,\n",
    "#                          random_state=0,\n",
    "#                          gamma=0.3,\n",
    "#                          subsample=0.8,\n",
    "#                         reg_lambda=4,\n",
    "#                         eval_metric=\"rmse\",\n",
    "#                         tree_method=\"gpu_hist\")\n",
    "model = xgb.XGBRegressor(base_score=0.5, booster='gbtree',\n",
    "             colsample_bylevel=0.8890139042078656, colsample_bynode=1,\n",
    "             colsample_bytree=0.568440056710402, gamma=0.002314443074501631,\n",
    "             importance_type='gain', learning_rate=0.10780341591905461,\n",
    "             max_delta_step=0, max_depth=6, min_child_weight=1,\n",
    "             n_estimators=5200, n_jobs=-1, nthread=None, objective='reg:squarederror',\n",
    "             random_state=0, reg_alpha=0.001196420509187308,\n",
    "             reg_lambda=1.5838537725553767, scale_pos_weight=1, seed=0,\n",
    "             silent=None, subsample=0.5782191472704798, verbosity=1, tree_method=\"gpu_hist\")"
   ]
  },
  {
   "cell_type": "code",
   "execution_count": 220,
   "metadata": {},
   "outputs": [
    {
     "name": "stderr",
     "output_type": "stream",
     "text": [
      "/usr/local/lib/python3.6/dist-packages/xgboost/core.py:587: FutureWarning: Series.base is deprecated and will be removed in a future version\n",
      "  if getattr(data, 'base', None) is not None and \\\n",
      "/usr/local/lib/python3.6/dist-packages/xgboost/core.py:588: FutureWarning: Series.base is deprecated and will be removed in a future version\n",
      "  data.base is not None and isinstance(data, np.ndarray) \\\n"
     ]
    },
    {
     "data": {
      "text/plain": [
       "XGBRegressor(base_score=0.5, booster='gbtree',\n",
       "             colsample_bylevel=0.8890139042078656, colsample_bynode=1,\n",
       "             colsample_bytree=0.568440056710402, gamma=0.002314443074501631,\n",
       "             importance_type='gain', learning_rate=0.10780341591905461,\n",
       "             max_delta_step=0, max_depth=6, min_child_weight=1, missing=None,\n",
       "             n_estimators=5200, n_jobs=-1, nthread=None,\n",
       "             objective='reg:squarederror', random_state=0,\n",
       "             reg_alpha=0.001196420509187308, reg_lambda=1.5838537725553767,\n",
       "             scale_pos_weight=1, seed=0, silent=None,\n",
       "             subsample=0.5782191472704798, tree_method='gpu_hist', verbosity=1)"
      ]
     },
     "execution_count": 220,
     "metadata": {},
     "output_type": "execute_result"
    }
   ],
   "source": [
    "model.fit(X_train, y_train)"
   ]
  },
  {
   "cell_type": "code",
   "execution_count": 221,
   "metadata": {},
   "outputs": [],
   "source": [
    "y_pred = model.predict(X_test)"
   ]
  },
  {
   "cell_type": "code",
   "execution_count": 222,
   "metadata": {},
   "outputs": [],
   "source": [
    "smpsb_df = pd.read_csv(\"./data/sample_submit.csv\", header=None)"
   ]
  },
  {
   "cell_type": "code",
   "execution_count": 223,
   "metadata": {},
   "outputs": [
    {
     "data": {
      "text/plain": [
       "(31262, 2)"
      ]
     },
     "execution_count": 223,
     "metadata": {},
     "output_type": "execute_result"
    }
   ],
   "source": [
    "smpsb_df.shape"
   ]
  },
  {
   "cell_type": "code",
   "execution_count": 224,
   "metadata": {},
   "outputs": [
    {
     "data": {
      "text/plain": [
       "(31262,)"
      ]
     },
     "execution_count": 224,
     "metadata": {},
     "output_type": "execute_result"
    }
   ],
   "source": [
    "y_pred.shape"
   ]
  },
  {
   "cell_type": "code",
   "execution_count": 225,
   "metadata": {},
   "outputs": [
    {
     "data": {
      "text/html": [
       "<div>\n",
       "<style scoped>\n",
       "    .dataframe tbody tr th:only-of-type {\n",
       "        vertical-align: middle;\n",
       "    }\n",
       "\n",
       "    .dataframe tbody tr th {\n",
       "        vertical-align: top;\n",
       "    }\n",
       "\n",
       "    .dataframe thead th {\n",
       "        text-align: right;\n",
       "    }\n",
       "</style>\n",
       "<table border=\"1\" class=\"dataframe\">\n",
       "  <thead>\n",
       "    <tr style=\"text-align: right;\">\n",
       "      <th></th>\n",
       "      <th>0</th>\n",
       "      <th>1</th>\n",
       "    </tr>\n",
       "  </thead>\n",
       "  <tbody>\n",
       "    <tr>\n",
       "      <th>0</th>\n",
       "      <td>31471</td>\n",
       "      <td>303875</td>\n",
       "    </tr>\n",
       "    <tr>\n",
       "      <th>1</th>\n",
       "      <td>31472</td>\n",
       "      <td>422016</td>\n",
       "    </tr>\n",
       "    <tr>\n",
       "      <th>2</th>\n",
       "      <td>31473</td>\n",
       "      <td>275390</td>\n",
       "    </tr>\n",
       "    <tr>\n",
       "      <th>3</th>\n",
       "      <td>31474</td>\n",
       "      <td>980818</td>\n",
       "    </tr>\n",
       "    <tr>\n",
       "      <th>4</th>\n",
       "      <td>31475</td>\n",
       "      <td>436194</td>\n",
       "    </tr>\n",
       "  </tbody>\n",
       "</table>\n",
       "</div>"
      ],
      "text/plain": [
       "       0       1\n",
       "0  31471  303875\n",
       "1  31472  422016\n",
       "2  31473  275390\n",
       "3  31474  980818\n",
       "4  31475  436194"
      ]
     },
     "execution_count": 225,
     "metadata": {},
     "output_type": "execute_result"
    }
   ],
   "source": [
    "smpsb_df.head()"
   ]
  },
  {
   "cell_type": "code",
   "execution_count": 226,
   "metadata": {},
   "outputs": [],
   "source": [
    "smpsb_df[1] = y_pred"
   ]
  },
  {
   "cell_type": "code",
   "execution_count": 227,
   "metadata": {},
   "outputs": [
    {
     "data": {
      "text/html": [
       "<div>\n",
       "<style scoped>\n",
       "    .dataframe tbody tr th:only-of-type {\n",
       "        vertical-align: middle;\n",
       "    }\n",
       "\n",
       "    .dataframe tbody tr th {\n",
       "        vertical-align: top;\n",
       "    }\n",
       "\n",
       "    .dataframe thead th {\n",
       "        text-align: right;\n",
       "    }\n",
       "</style>\n",
       "<table border=\"1\" class=\"dataframe\">\n",
       "  <thead>\n",
       "    <tr style=\"text-align: right;\">\n",
       "      <th></th>\n",
       "      <th>0</th>\n",
       "      <th>1</th>\n",
       "    </tr>\n",
       "  </thead>\n",
       "  <tbody>\n",
       "    <tr>\n",
       "      <th>0</th>\n",
       "      <td>31471</td>\n",
       "      <td>151813.515625</td>\n",
       "    </tr>\n",
       "    <tr>\n",
       "      <th>1</th>\n",
       "      <td>31472</td>\n",
       "      <td>119451.937500</td>\n",
       "    </tr>\n",
       "    <tr>\n",
       "      <th>2</th>\n",
       "      <td>31473</td>\n",
       "      <td>79001.750000</td>\n",
       "    </tr>\n",
       "    <tr>\n",
       "      <th>3</th>\n",
       "      <td>31474</td>\n",
       "      <td>55058.011719</td>\n",
       "    </tr>\n",
       "    <tr>\n",
       "      <th>4</th>\n",
       "      <td>31475</td>\n",
       "      <td>103345.843750</td>\n",
       "    </tr>\n",
       "  </tbody>\n",
       "</table>\n",
       "</div>"
      ],
      "text/plain": [
       "       0              1\n",
       "0  31471  151813.515625\n",
       "1  31472  119451.937500\n",
       "2  31473   79001.750000\n",
       "3  31474   55058.011719\n",
       "4  31475  103345.843750"
      ]
     },
     "execution_count": 227,
     "metadata": {},
     "output_type": "execute_result"
    }
   ],
   "source": [
    "smpsb_df.head()"
   ]
  },
  {
   "cell_type": "code",
   "execution_count": 228,
   "metadata": {},
   "outputs": [],
   "source": [
    "smpsb_df.to_csv(\"xgboost4.csv\", index=None, header=None)"
   ]
  },
  {
   "cell_type": "code",
   "execution_count": 229,
   "metadata": {},
   "outputs": [
    {
     "data": {
      "text/plain": [
       "<Figure size 1440x720 with 0 Axes>"
      ]
     },
     "metadata": {},
     "output_type": "display_data"
    },
    {
     "data": {
      "image/png": "[encoded data removed]",
      "text/plain": [
       "<Figure size 432x288 with 1 Axes>"
      ]
     },
     "metadata": {
      "needs_background": "light"
     },
     "output_type": "display_data"
    }
   ],
   "source": [
    "# plot feature importance\n",
    "from xgboost import plot_importance\n",
    "plt.figure(figsize=(20, 10))\n",
    "plot_importance(model, max_num_features=30)\n",
    "# plt.savefig(\"feature_importance_1.png\")\n",
    "plt.show()"
   ]
  },
  {
   "cell_type": "code",
   "execution_count": 230,
   "metadata": {},
   "outputs": [],
   "source": [
    "def my_plot_importance(booster, figsize, **kwargs): \n",
    "    from matplotlib import pyplot as plt\n",
    "    from xgboost import plot_importance\n",
    "    fig, ax = plt.subplots(1,1,figsize=figsize)\n",
    "    return plot_importance(booster=booster, ax=ax, **kwargs)\n"
   ]
  },
  {
   "cell_type": "code",
   "execution_count": 231,
   "metadata": {},
   "outputs": [
    {
     "data": {
      "image/png": "[encoded data removed]",
      "text/plain": [
       "<Figure size 1440x720 with 1 Axes>"
      ]
     },
     "metadata": {
      "needs_background": "light"
     },
     "output_type": "display_data"
    }
   ],
   "source": [
    "my_plot_importance(model, (20, 10), max_num_features=60)\n",
    "plt.savefig(\"feature_importance_1.png\")"
   ]
  },
  {
   "cell_type": "code",
   "execution_count": 234,
   "metadata": {},
   "outputs": [
    {
     "name": "stdout",
     "output_type": "stream",
     "text": [
      "{'base_score': 0.5, 'booster': 'gbtree', 'colsample_bylevel': 0.8890139042078656, 'colsample_bynode': 1, 'colsample_bytree': 0.568440056710402, 'gamma': 0.002314443074501631, 'importance_type': 'gain', 'learning_rate': 0.10780341591905461, 'max_delta_step': 0, 'max_depth': 6, 'min_child_weight': 1, 'missing': None, 'n_estimators': 5200, 'n_jobs': -1, 'nthread': None, 'objective': 'reg:squarederror', 'random_state': 0, 'reg_alpha': 0.001196420509187308, 'reg_lambda': 1.5838537725553767, 'scale_pos_weight': 1, 'seed': 0, 'silent': None, 'subsample': 0.5782191472704798, 'verbosity': 1, 'tree_method': 'gpu_hist'}\n"
     ]
    }
   ],
   "source": [
    "print(model.get_params())"
   ]
  },
  {
   "cell_type": "code",
   "execution_count": null,
   "metadata": {},
   "outputs": [],
   "source": []
  }
 ],
 "metadata": {
  "kernelspec": {
   "display_name": "Python 3",
   "language": "python",
   "name": "python3"
  },
  "language_info": {
   "codemirror_mode": {
    "name": "ipython",
    "version": 3
   },
   "file_extension": ".py",
   "mimetype": "text/x-python",
   "name": "python",
   "nbconvert_exporter": "python",
   "pygments_lexer": "ipython3",
   "version": "3.5.2"
  }
 },
 "nbformat": 4,
 "nbformat_minor": 2
}
